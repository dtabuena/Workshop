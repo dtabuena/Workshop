{
  "nbformat": 4,
  "nbformat_minor": 0,
  "metadata": {
    "colab": {
      "provenance": [],
      "authorship_tag": "ABX9TyNMgY3kNDwh5uIWfL80bfUx",
      "include_colab_link": true
    },
    "kernelspec": {
      "name": "python3",
      "display_name": "Python 3"
    },
    "language_info": {
      "name": "python"
    }
  },
  "cells": [
    {
      "cell_type": "markdown",
      "metadata": {
        "id": "view-in-github",
        "colab_type": "text"
      },
      "source": [
        "<a href=\"https://colab.research.google.com/github/dtabuena/Workshop/blob/main/Test_Pull_Run.ipynb\" target=\"_parent\"><img src=\"https://colab.research.google.com/assets/colab-badge.svg\" alt=\"Open In Colab\"/></a>"
      ]
    },
    {
      "cell_type": "code",
      "source": [
        "'Get Standard Modules'\n",
        "\n",
        "import pandas as pd\n",
        "import numpy as np\n",
        "import matplotlib\n",
        "import matplotlib.pyplot as plt\n",
        "import scipy\n",
        "from scipy import stats\n",
        "import os\n",
        "from scipy.signal import butter,filtfilt\n",
        "from tqdm import tqdm\n",
        "import warnings\n",
        "from IPython.display import clear_output\n",
        "from datetime import datetime\n",
        "import sys\n",
        "import warnings\n",
        "import shutil\n",
        "import urllib.request\n",
        "\n",
        "# warnings.filterwarnings('ignore')\n",
        "# np.set_printoptions(threshold=sys.maxsize)\n",
        "# clear_output(wait=False)\n",
        "\n",
        "\n",
        "\n",
        "!pip install openpyxl\n",
        "!pip install XlsxWriter"
      ],
      "metadata": {
        "colab": {
          "base_uri": "https://localhost:8080/"
        },
        "id": "AV0cPU5qPIxB",
        "outputId": "975a6f49-2ba2-4db1-84d0-6716c75fcf14"
      },
      "execution_count": 26,
      "outputs": [
        {
          "output_type": "stream",
          "name": "stdout",
          "text": [
            "Requirement already satisfied: openpyxl in c:\\users\\dennis.tabuena\\appdata\\local\\anaconda3\\envs\\notebook\\lib\\site-packages (3.1.2)\n",
            "Requirement already satisfied: et-xmlfile in c:\\users\\dennis.tabuena\\appdata\\local\\anaconda3\\envs\\notebook\\lib\\site-packages (from openpyxl) (1.1.0)\n",
            "Requirement already satisfied: XlsxWriter in c:\\users\\dennis.tabuena\\appdata\\local\\anaconda3\\envs\\notebook\\lib\\site-packages (3.2.0)\n"
          ]
        }
      ]
    },
    {
      "cell_type": "code",
      "execution_count": 29,
      "metadata": {
        "id": "_KP8ILeu07BW",
        "colab": {
          "base_uri": "https://localhost:8080/"
        },
        "outputId": "d1da562c-23dd-4144-8430-0e85fcb2ae4a"
      },
      "outputs": [
        {
          "output_type": "stream",
          "name": "stdout",
          "text": [
            "https://raw.githubusercontent.com/dtabuena/EphysLib/main/ABF_Quality_Control.ipynb\n",
            "https://raw.githubusercontent.com/dtabuena/EphysLib/main/Basic_Ephys.ipynb\n",
            "https://raw.githubusercontent.com/dtabuena/EphysLib/main/Simple_ABF_tools.ipynb\n",
            "Requirement already satisfied: pyabf in c:\\users\\dennis.tabuena\\appdata\\local\\anaconda3\\envs\\notebook\\lib\\site-packages (2.3.8)\n",
            "Requirement already satisfied: matplotlib>=2.1.0 in c:\\users\\dennis.tabuena\\appdata\\local\\anaconda3\\envs\\notebook\\lib\\site-packages (from pyabf) (3.8.4)\n",
            "Requirement already satisfied: numpy>=1.13.3 in c:\\users\\dennis.tabuena\\appdata\\local\\anaconda3\\envs\\notebook\\lib\\site-packages (from pyabf) (1.26.4)\n",
            "Requirement already satisfied: pytest>=3.0.7 in c:\\users\\dennis.tabuena\\appdata\\local\\anaconda3\\envs\\notebook\\lib\\site-packages (from pyabf) (8.2.1)\n",
            "Requirement already satisfied: contourpy>=1.0.1 in c:\\users\\dennis.tabuena\\appdata\\local\\anaconda3\\envs\\notebook\\lib\\site-packages (from matplotlib>=2.1.0->pyabf) (1.2.1)\n",
            "Requirement already satisfied: cycler>=0.10 in c:\\users\\dennis.tabuena\\appdata\\local\\anaconda3\\envs\\notebook\\lib\\site-packages (from matplotlib>=2.1.0->pyabf) (0.12.1)\n",
            "Requirement already satisfied: fonttools>=4.22.0 in c:\\users\\dennis.tabuena\\appdata\\local\\anaconda3\\envs\\notebook\\lib\\site-packages (from matplotlib>=2.1.0->pyabf) (4.51.0)\n",
            "Requirement already satisfied: kiwisolver>=1.3.1 in c:\\users\\dennis.tabuena\\appdata\\local\\anaconda3\\envs\\notebook\\lib\\site-packages (from matplotlib>=2.1.0->pyabf) (1.4.5)\n",
            "Requirement already satisfied: packaging>=20.0 in c:\\users\\dennis.tabuena\\appdata\\local\\anaconda3\\envs\\notebook\\lib\\site-packages (from matplotlib>=2.1.0->pyabf) (23.2)\n",
            "Requirement already satisfied: pillow>=8 in c:\\users\\dennis.tabuena\\appdata\\local\\anaconda3\\envs\\notebook\\lib\\site-packages (from matplotlib>=2.1.0->pyabf) (10.3.0)\n",
            "Requirement already satisfied: pyparsing>=2.3.1 in c:\\users\\dennis.tabuena\\appdata\\local\\anaconda3\\envs\\notebook\\lib\\site-packages (from matplotlib>=2.1.0->pyabf) (3.1.2)\n",
            "Requirement already satisfied: python-dateutil>=2.7 in c:\\users\\dennis.tabuena\\appdata\\local\\anaconda3\\envs\\notebook\\lib\\site-packages (from matplotlib>=2.1.0->pyabf) (2.8.2)\n",
            "Requirement already satisfied: iniconfig in c:\\users\\dennis.tabuena\\appdata\\local\\anaconda3\\envs\\notebook\\lib\\site-packages (from pytest>=3.0.7->pyabf) (2.0.0)\n",
            "Requirement already satisfied: pluggy<2.0,>=1.5 in c:\\users\\dennis.tabuena\\appdata\\local\\anaconda3\\envs\\notebook\\lib\\site-packages (from pytest>=3.0.7->pyabf) (1.5.0)\n",
            "Requirement already satisfied: colorama in c:\\users\\dennis.tabuena\\appdata\\local\\anaconda3\\envs\\notebook\\lib\\site-packages (from pytest>=3.0.7->pyabf) (0.4.6)\n",
            "Requirement already satisfied: six>=1.5 in c:\\users\\dennis.tabuena\\appdata\\local\\anaconda3\\envs\\notebook\\lib\\site-packages (from python-dateutil>=2.7->matplotlib>=2.1.0->pyabf) (1.16.0)\n",
            "https://raw.githubusercontent.com/dtabuena/EphysLib/main/fun_math.ipynb\n",
            "https://raw.githubusercontent.com/dtabuena/EphysLib/main/importing_abfs_from_dropbox.ipynb\n",
            "https://raw.githubusercontent.com/dtabuena/EphysLib/main/QC_recoding_dataframe.ipynb\n",
            "https://raw.githubusercontent.com/dtabuena/EphysLib/main/Analyzers/input_resistance_analyzer.ipynb\n",
            "https://raw.githubusercontent.com/dtabuena/EphysLib/main/Analyzers/gain_analyzer.ipynb\n",
            "https://raw.githubusercontent.com/dtabuena/EphysLib/main/Analyzers/latencey_analyzer.ipynb\n",
            "https://raw.githubusercontent.com/dtabuena/EphysLib/main/Analyzers/IV_analyzer.ipynb\n",
            "https://raw.githubusercontent.com/dtabuena/EphysLib/main/Analyzers/Vm_analyzer.ipynb\n",
            "https://raw.githubusercontent.com/dtabuena/EphysLib/main/Analyzers/membrane_analyzer.ipynb\n",
            "https://raw.githubusercontent.com/dtabuena/EphysLib/main/Analyzers/rheobase_analyzer.ipynb\n",
            "https://raw.githubusercontent.com/dtabuena/EphysLib/main/Ephys_wrapper.ipynb\n"
          ]
        }
      ],
      "source": [
        "'''Get Repositories'''\n",
        "# try: shutil.rmtree('/content/EphysLib')\n",
        "# except: None\n",
        "\n",
        "\"run dtabuena's ephys notebooks\"\n",
        "to_import = [\n",
        "            'ABF_Quality_Control.ipynb',\n",
        "            'Basic_Ephys.ipynb',\n",
        "            'Simple_ABF_tools.ipynb',\n",
        "            'fun_math.ipynb',\n",
        "            'importing_abfs_from_dropbox.ipynb',\n",
        "            'QC_recoding_dataframe.ipynb',\n",
        "            'Analyzers/input_resistance_analyzer.ipynb',\n",
        "            'Analyzers/gain_analyzer.ipynb',\n",
        "            'Analyzers/latencey_analyzer.ipynb',\n",
        "            'Analyzers/IV_analyzer.ipynb',\n",
        "            'Analyzers/Vm_analyzer.ipynb',\n",
        "            'Analyzers/membrane_analyzer.ipynb',\n",
        "            'Analyzers/rheobase_analyzer.ipynb',\n",
        "            'Ephys_wrapper.ipynb',\n",
        "            ]\n",
        "\n",
        "os.chdir('C:/Users/dennis.tabuena/Dropbox (Gladstone)/0_Projects/_ApoE Patch Seq/Analysis_Workspace/Ephys')\n",
        "\n",
        "for f in to_import:\n",
        "    git_link = 'https://raw.githubusercontent.com/dtabuena/EphysLib/main/'+f\n",
        "    print(git_link)\n",
        "    urllib.request.urlretrieve(git_link,f)\n",
        "    %run $f\n"
      ]
    },
    {
      "cell_type": "code",
      "source": [],
      "metadata": {
        "id": "im0sAJx5W7EY"
      },
      "execution_count": null,
      "outputs": []
    }
  ]
}