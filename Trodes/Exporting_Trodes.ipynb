{
  "nbformat": 4,
  "nbformat_minor": 0,
  "metadata": {
    "colab": {
      "provenance": [],
      "authorship_tag": "ABX9TyNuQs5m9Asuyl49h2fyNo8n",
      "include_colab_link": true
    },
    "kernelspec": {
      "name": "python3",
      "display_name": "Python 3"
    },
    "language_info": {
      "name": "python"
    }
  },
  "cells": [
    {
      "cell_type": "markdown",
      "metadata": {
        "id": "view-in-github",
        "colab_type": "text"
      },
      "source": [
        "<a href=\"https://colab.research.google.com/github/dtabuena/Workshop/blob/main/Trodes/Exporting_Trodes.ipynb\" target=\"_parent\"><img src=\"https://colab.research.google.com/assets/colab-badge.svg\" alt=\"Open In Colab\"/></a>"
      ]
    },
    {
      "cell_type": "code",
      "source": [
        "import os\n",
        "import subprocess"
      ],
      "metadata": {
        "id": "L0LiTAY12g7A"
      },
      "execution_count": 1,
      "outputs": []
    },
    {
      "cell_type": "code",
      "source": [
        "reccording_source_dir = r'\\\\hive.gladstone.internal\\Huang-LFP\\TabuenaLFP\\Test_Emily'\n",
        "os.chdir(reccording_source_dir)\n",
        "\n",
        "dot_dat_export_dir = r'\\\\hive.gladstone.internal\\Huang-LFP\\TabuenaLFP\\TRODE_EXPORTS'\n",
        "os.chdir(dot_dat_export_dir)\n",
        "\n",
        "rec_list=list()\n",
        "for root, dirs, files in os.walk(reccording_source_dir):\n",
        "    for f in files:\n",
        "        if '.rec' in f:\n",
        "            rec_list.append(os.path.join(root,f))\n",
        "print(rec_list)\n",
        "\n",
        "\n",
        "export_func_location = 'C:/Users/dennis.tabuena/Desktop/_SPIKE_GADGETS/Trodes_2-5-1_Windows64/Trodes_2-5-1_Windows64/trodesexport.exe'\n",
        "filename = rec_list[0]"
      ],
      "metadata": {
        "colab": {
          "base_uri": "https://localhost:8080/"
        },
        "id": "bTQbQoNgQlYy",
        "outputId": "5e2da9ee-d1de-4340-fbe3-f1032713d21a"
      },
      "execution_count": 39,
      "outputs": [
        {
          "output_type": "stream",
          "name": "stdout",
          "text": [
            "['\\\\\\\\hive.gladstone.internal\\\\Huang-LFP\\\\TabuenaLFP\\\\Test_Emily\\\\AngelfoodCake01\\\\AngelfoodCake01.rec']\n"
          ]
        }
      ]
    },
    {
      "cell_type": "code",
      "source": [
        "\"\"\" HELP \"\"\"\n",
        "subprocess.run(export_func_location+' -h')"
      ],
      "metadata": {
        "colab": {
          "base_uri": "https://localhost:8080/"
        },
        "id": "3mbZvO-bnBaX",
        "outputId": "c003bb47-8f75-41ea-bfeb-a92959748e04"
      },
      "execution_count": 32,
      "outputs": [
        {
          "output_type": "execute_result",
          "data": {
            "text/plain": [
              "CompletedProcess(args='C:/Users/dennis.tabuena/Desktop/_SPIKE_GADGETS/Trodes_2-5-1_Windows64/Trodes_2-5-1_Windows64/trodesexport.exe -h', returncode=0)"
            ]
          },
          "metadata": {},
          "execution_count": 32
        }
      ]
    },
    {
      "cell_type": "code",
      "source": [
        "raw_dir = r'\\\\hive.gladstone.internal\\Huang-LFP\\TabuenaLFP\\TRODE_EXPORTS\\RAW_DATA'\n",
        "full_cmd_raw = ' '.join([export_func_location, '-raw',\n",
        "                    '-rec ', filename,\n",
        "                    '-userawrefs', str(0),\n",
        "                    '-outputdirectory', raw_dir])\n",
        "print(full_cmd_raw)\n",
        "subprocess.run(full_cmd_raw)"
      ],
      "metadata": {
        "colab": {
          "base_uri": "https://localhost:8080/"
        },
        "id": "ywLfSy3IhZKf",
        "outputId": "481cb0ff-989e-44af-927e-77fd341b88f2"
      },
      "execution_count": 42,
      "outputs": [
        {
          "output_type": "stream",
          "name": "stdout",
          "text": [
            "C:/Users/dennis.tabuena/Desktop/_SPIKE_GADGETS/Trodes_2-5-1_Windows64/Trodes_2-5-1_Windows64/trodesexport.exe -raw -rec  \\\\hive.gladstone.internal\\Huang-LFP\\TabuenaLFP\\Test_Emily\\AngelfoodCake01\\AngelfoodCake01.rec -userawrefs 0 -outputdirectory \\\\hive.gladstone.internal\\Huang-LFP\\TabuenaLFP\\TRODE_EXPORTS\\RAW_DATA\n"
          ]
        },
        {
          "output_type": "execute_result",
          "data": {
            "text/plain": [
              "CompletedProcess(args='C:/Users/dennis.tabuena/Desktop/_SPIKE_GADGETS/Trodes_2-5-1_Windows64/Trodes_2-5-1_Windows64/trodesexport.exe -raw -rec  \\\\\\\\hive.gladstone.internal\\\\Huang-LFP\\\\TabuenaLFP\\\\Test_Emily\\\\AngelfoodCake01\\\\AngelfoodCake01.rec -userawrefs 0 -outputdirectory \\\\\\\\hive.gladstone.internal\\\\Huang-LFP\\\\TabuenaLFP\\\\TRODE_EXPORTS\\\\RAW_DATA', returncode=0)"
            ]
          },
          "metadata": {},
          "execution_count": 42
        }
      ]
    },
    {
      "cell_type": "code",
      "source": [
        "lfp_dir = r'\\\\hive.gladstone.internal\\Huang-LFP\\TabuenaLFP\\TRODE_EXPORTS\\LFP_DATA'\n",
        "full_cmd_lfp = ' '.join([export_func_location, '-lfp',\n",
        "                         '-rec ', filename,\n",
        "                         '-lfpoutputrate', str(5000),\n",
        "                         '-uselfprefs', str(0),\n",
        "                         '-uselfpfilters', str(0),\n",
        "                         '-outputdirectory', lfp_dir])\n",
        "report = subprocess.run(full_cmd_lfp)\n",
        "print(report)"
      ],
      "metadata": {
        "colab": {
          "base_uri": "https://localhost:8080/"
        },
        "id": "fCabdm2ZjAcW",
        "outputId": "e6007a9d-9eca-4d0b-e24b-49099a18e1bd"
      },
      "execution_count": 31,
      "outputs": [
        {
          "output_type": "stream",
          "name": "stdout",
          "text": [
            "CompletedProcess(args='C:/Users/dennis.tabuena/Desktop/_SPIKE_GADGETS/Trodes_2-5-1_Windows64/Trodes_2-5-1_Windows64/trodesexport.exe -lfp -rec  \\\\\\\\hive.gladstone.internal\\\\Huang-LFP\\\\TabuenaLFP\\\\Test_Emily\\\\AngelfoodCake01\\\\AngelfoodCake01.rec -lfpoutputrate 5000 -uselfprefs 0 -uselfpfilters 0 -outputdirectory \\\\\\\\hive.gladstone.internal\\\\Huang-LFP\\\\TabuenaLFP\\\\TRODE_EXPORTS\\\\LFP_DATA', returncode=0)\n"
          ]
        }
      ]
    },
    {
      "cell_type": "code",
      "source": [
        "spike_dir = r'\\\\hive.gladstone.internal\\Huang-LFP\\TabuenaLFP\\TRODE_EXPORTS\\LFP_DATA'\n",
        "full_cmd_spikeband = ' '.join([export_func_location, '-spikeband',\n",
        "                         '-rec ', filename,\n",
        "                         '-spikehighpass', str(600),\n",
        "                         '-spikelowpass', str(6000),\n",
        "                         '-usespikerefs', str(0),\n",
        "                         '-usespikefilters', str(0),\n",
        "                         '-outputdirectory', spike_dir])\n",
        "report = subprocess.run(full_cmd_spikeband)\n",
        "print(report)"
      ],
      "metadata": {
        "colab": {
          "base_uri": "https://localhost:8080/"
        },
        "id": "7-j1uFgrnkJw",
        "outputId": "fe20dabe-439f-46e1-c34d-f22a91a1acf4"
      },
      "execution_count": 30,
      "outputs": [
        {
          "output_type": "execute_result",
          "data": {
            "text/plain": [
              "CompletedProcess(args='C:/Users/dennis.tabuena/Desktop/_SPIKE_GADGETS/Trodes_2-5-1_Windows64/Trodes_2-5-1_Windows64/trodesexport.exe -spikeband -rec  \\\\\\\\hive.gladstone.internal\\\\Huang-LFP\\\\TabuenaLFP\\\\Test_Emily\\\\AngelfoodCake01\\\\AngelfoodCake01.rec -spikehighpass 600 -spikelowpass 6000 -usespikerefs 0 -usespikefilters 0 -outputdirectory \\\\\\\\hive.gladstone.internal\\\\Huang-LFP\\\\TabuenaLFP\\\\TRODE_EXPORTS', returncode=0)"
            ]
          },
          "metadata": {},
          "execution_count": 30
        }
      ]
    },
    {
      "cell_type": "code",
      "source": [
        "raw_dir = r'\\\\hive.gladstone.internal\\Huang-LFP\\TabuenaLFP\\TRODE_EXPORTS\\RAW_DATA'\n",
        "full_cmd_raw = ' '.join([export_func_location, '-raw',\n",
        "                         '-rec ', filename,\n",
        "                         '-spikehighpass', str(600),\n",
        "                         '-spikelowpass', str(6000),\n",
        "                         '-usespikerefs', str(0),\n",
        "                         '-usespikefilters', str(0),\n",
        "                         '-outputdirectory', raw_dir])\n",
        "report = subprocess.run(raw_dir)\n",
        "print(report)"
      ],
      "metadata": {
        "id": "4gxDYLdG_coh"
      },
      "execution_count": null,
      "outputs": []
    },
    {
      "cell_type": "code",
      "source": [
        "os.chdir('C:/Users/dennis.tabuena/Desktop/_SPIKE_GADGETS/Trodes_2-5-1_Windows64/Trodes_2-5-1_Windows64/AngelfoodCake01.raw')\n",
        "x = readTrodesExtractedDataFile('AngelfoodCake01.raw_group0.dat')"
      ],
      "metadata": {
        "id": "4_y6Y6jB4shc"
      },
      "execution_count": null,
      "outputs": []
    },
    {
      "cell_type": "code",
      "source": [
        "#!/usr/bin/python\n",
        "#Requires numpy to be installed. re and sys are defaults for python\n",
        "#assumes python 2.7\n",
        "import numpy as np\n",
        "import re\n",
        "from sys import argv\n",
        "# Main function\n",
        "def readTrodesExtractedDataFile(filename):\n",
        "    with open(filename, 'rb') as f:\n",
        "        # Check if first line is start of settings block\n",
        "        if f.readline().decode('ascii').strip() != '<Start settings>':\n",
        "            raise Exception(\"Settings format not supported\")\n",
        "        fields = True\n",
        "        fieldsText = {}\n",
        "        for line in f:\n",
        "            # Read through block of settings\n",
        "            if(fields):\n",
        "                line = line.decode('ascii').strip()\n",
        "                # filling in fields dict\n",
        "                if line != '<End settings>':\n",
        "                    vals = line.split(': ')\n",
        "                    fieldsText.update({vals[0].lower(): vals[1]})\n",
        "                # End of settings block, signal end of fields\n",
        "                else:\n",
        "                    fields = False\n",
        "                    dt = parseFields(fieldsText['fields'])\n",
        "                    fieldsText['data'] = np.zeros([1], dtype = dt)\n",
        "                    break\n",
        "        # Reads rest of file at once, using dtype format generated by parseFields()\n",
        "        dt = parseFields(fieldsText['fields'])\n",
        "        data = np.fromfile(f, dt)\n",
        "        fieldsText.update({'data': data})\n",
        "        return fieldsText\n",
        "\n",
        "\n",
        "# Parses last fields parameter (<time uint32><...>) as a single string\n",
        "# Assumes it is formatted as <name number * type> or <name type>\n",
        "# Returns: np.dtype\n",
        "def parseFields(fieldstr):\n",
        "    # Returns np.dtype from field string\n",
        "    sep = re.split('\\s', re.sub(r\"\\>\\<|\\>|\\<\", ' ', fieldstr).strip())\n",
        "    # print(sep)\n",
        "    typearr = []\n",
        "    # Every two elmts is fieldname followed by datatype\n",
        "    for i in range(0,sep.__len__(), 2):\n",
        "        fieldname = sep[i]\n",
        "        repeats = 1\n",
        "        ftype = 'uint32'\n",
        "        # Finds if a <num>* is included in datatype\n",
        "        if sep[i+1].__contains__('*'):\n",
        "            temptypes = re.split('\\*', sep[i+1])\n",
        "            # Results in the correct assignment, whether str is num*dtype or dtype*num\n",
        "            ftype = temptypes[temptypes[0].isdigit()]\n",
        "            repeats = int(temptypes[temptypes[1].isdigit()])\n",
        "        else:\n",
        "            ftype = sep[i+1]\n",
        "        try:\n",
        "            fieldtype = getattr(np, ftype)\n",
        "        except AttributeError:\n",
        "            print(ftype + \" is not a valid field type.\\n\")\n",
        "            exit(1)\n",
        "        else:\n",
        "            typearr.append((str(fieldname), fieldtype, repeats))\n",
        "    return np.dtype(typearr)\n",
        "\n",
        "\n",
        "\n"
      ],
      "metadata": {
        "id": "qJT3qRXg4Tlz"
      },
      "execution_count": null,
      "outputs": []
    }
  ]
}