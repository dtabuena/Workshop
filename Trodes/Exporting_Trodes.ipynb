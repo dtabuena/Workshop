{
  "nbformat": 4,
  "nbformat_minor": 0,
  "metadata": {
    "colab": {
      "provenance": [],
      "authorship_tag": "ABX9TyPVQMIeJMzZiFjPakg9QJpJ",
      "include_colab_link": true
    },
    "kernelspec": {
      "name": "python3",
      "display_name": "Python 3"
    },
    "language_info": {
      "name": "python"
    }
  },
  "cells": [
    {
      "cell_type": "markdown",
      "metadata": {
        "id": "view-in-github",
        "colab_type": "text"
      },
      "source": [
        "<a href=\"https://colab.research.google.com/github/dtabuena/Workshop/blob/main/Trodes/Exporting_Trodes.ipynb\" target=\"_parent\"><img src=\"https://colab.research.google.com/assets/colab-badge.svg\" alt=\"Open In Colab\"/></a>"
      ]
    },
    {
      "cell_type": "code",
      "source": [
        "import os\n",
        "import subprocess"
      ],
      "metadata": {
        "id": "L0LiTAY12g7A"
      },
      "execution_count": null,
      "outputs": []
    },
    {
      "cell_type": "code",
      "execution_count": null,
      "metadata": {
        "id": "q6U6u1nZilEN",
        "colab": {
          "base_uri": "https://localhost:8080/"
        },
        "outputId": "e4122be2-d3bb-42c7-d5e4-04e233c44d12"
      },
      "outputs": [
        {
          "output_type": "execute_result",
          "data": {
            "text/plain": [
              "CompletedProcess(args=['trodesexport.exe', '-raw -rec C:/Users/dennis.tabuena/Desktop/_SPIKE_GADGETS/Test_Emily/AngelfoodCake01/AngelfoodCake01.rec  -output DT_export'], returncode=4294967295)"
            ]
          },
          "metadata": {},
          "execution_count": 5
        }
      ],
      "source": [
        "filename = 'C:/Users/dennis.tabuena/Desktop/_SPIKE_GADGETS/Test_Emily/AngelfoodCake01/AngelfoodCake01.rec'\n",
        "os.chdir('C:/Users/dennis.tabuena/Desktop/_SPIKE_GADGETS/Trodes_2-5-1_Windows64/Trodes_2-5-1_Windows64/')\n",
        "subprocess.run([\"trodesexport.exe\", \"-raw -rec AngelfoodCake01.rec  -output DT_export\"])"
      ]
    },
    {
      "cell_type": "code",
      "source": [
        "trodesexport.exe -raw -rec C:/Users/dennis.tabuena/Desktop/_SPIKE_GADGETS/Test_Emily/AngelfoodCake01/AngelfoodCake01.rec -output DT_export"
      ],
      "metadata": {
        "id": "0PdnUB0q3U-K"
      },
      "execution_count": null,
      "outputs": []
    },
    {
      "cell_type": "code",
      "source": [
        "trodesexport.exe -raw -rec AngelfoodCake01.rec -output DT_export"
      ],
      "metadata": {
        "id": "Knfhx4Bp4Akz"
      },
      "execution_count": null,
      "outputs": []
    },
    {
      "cell_type": "code",
      "source": [
        "\n",
        "!cd C:/Users/dennis.tabuena/Desktop/_SPIKE_GADGETS/Trodes_2-5-1_Windows64/Trodes_2-5-1_Windows64\n",
        "!trodesexport.exe -rec $filename -raw -output DT_BAT.bat"
      ],
      "metadata": {
        "id": "Bbx5Ymquim2-"
      },
      "execution_count": null,
      "outputs": []
    },
    {
      "cell_type": "code",
      "source": [],
      "metadata": {
        "id": "uG6Endz35NSm"
      },
      "execution_count": null,
      "outputs": []
    },
    {
      "cell_type": "code",
      "source": [
        "os.chdir('C:/Users/dennis.tabuena/Desktop/_SPIKE_GADGETS/Trodes_2-5-1_Windows64/Trodes_2-5-1_Windows64/AngelfoodCake01.raw')\n",
        "x = readTrodesExtractedDataFile('AngelfoodCake01.raw_group0.dat')"
      ],
      "metadata": {
        "id": "4_y6Y6jB4shc"
      },
      "execution_count": null,
      "outputs": []
    },
    {
      "cell_type": "code",
      "source": [
        "x"
      ],
      "metadata": {
        "colab": {
          "base_uri": "https://localhost:8080/"
        },
        "id": "Et-LiUpX5eMA",
        "outputId": "cfcd7c20-e938-47a4-dd35-d0c3be7a19e1"
      },
      "execution_count": null,
      "outputs": [
        {
          "output_type": "execute_result",
          "data": {
            "text/plain": [
              "{'description': 'Raw (unfiltered) data for one sorting group',\n",
              " 'byte_order': 'little endian',\n",
              " 'original_file': 'AngelfoodCake01.rec',\n",
              " 'clockrate': '30000',\n",
              " 'trodes_version': '-1',\n",
              " 'compile_date': '-1',\n",
              " 'compile_time': '-1',\n",
              " 'qt_version': '-1',\n",
              " 'commit_tag': '-1',\n",
              " 'controller_firmware': '-1',\n",
              " 'headstage_firmware': '-1',\n",
              " 'controller_serialnum': '-1',\n",
              " 'headstage_serialnum': '-1',\n",
              " 'autosettle': '-1',\n",
              " 'smartref': '-1',\n",
              " 'gyro': '-1',\n",
              " 'accelerometer': '-1',\n",
              " 'magnetometer': '-1',\n",
              " 'time_offset': '0',\n",
              " 'system_time_at_creation': '-1',\n",
              " 'timestamp_at_creation': '-1',\n",
              " 'first_timestamp': '951222',\n",
              " 'sorting_group': '0',\n",
              " 'num_channels': '32',\n",
              " 'voltage_scaling': '0.195',\n",
              " 'fields': '<voltage 32*int16>',\n",
              " 'data': array([([ -941, -2416, -2515,  -896,  -800, -1928, -2480, -1313,  -766, -1211,  -555,  -688, -2470, -2975, -2786, -1812,  -282,   -44,   820, -2778, -1690, -2872, -1263, -2487,  -719,   434,   888, -3760, -2526, -1521, -2508, -2445],),\n",
              "        ([ -884, -2429, -2621,  -871,  -747, -1938, -2462, -1318,  -725, -1195,  -508,  -683, -2483, -3055, -2866, -1775,  -348,   -95,   842, -2910, -1676, -2840, -1339, -2546,  -715,   490,   837, -3849, -2439, -1482, -2656, -2422],),\n",
              "        ([ -882, -2475, -2690,  -946,  -808, -2053, -2464, -1387,  -724, -1190,  -538,  -655, -2518, -3010, -2894, -1844,  -252,  -139,   807, -3015, -1642, -2881, -1449, -2512,  -720,   596,   982, -3831, -2435, -1438, -2679, -2508],),\n",
              "        ...,\n",
              "        ([   48,   164,   107,   254,   152,   156,   249,   -10,   -28,    91,   178,    79,  -193,  -415,  -838,  -508,    68,   -58,   119,  -159,  -621, -1637,  -353,  -111,   -81,  -304,   273,     5,  -844,  -296,     9,   -31],),\n",
              "        ([  153,   180,     4,   273,   255,   204,   278,   -80,   -29,    47,   181,   149,  -181,  -423,  -878,  -520,    87,     6,   146,  -195,  -686, -1638,  -271,  -141,  -144,  -238,   293,     5,  -767,  -361,    14,   -42],),\n",
              "        ([  227,   118,   -65,   209,   287,   182,   288,   -96,   -60,    90,   259,    55,  -192,  -359,  -845,  -588,    84,   -21,   182,  -205,  -640, -1661,  -279,  -175,  -195,  -117,   182,  -137,  -756,  -301,   -29,   -10],)],\n",
              "       dtype=[('voltage', '<i2', (32,))])}"
            ]
          },
          "metadata": {},
          "execution_count": 15
        }
      ]
    },
    {
      "cell_type": "code",
      "source": [
        "#!/usr/bin/python\n",
        "#Requires numpy to be installed. re and sys are defaults for python\n",
        "#assumes python 2.7\n",
        "import numpy as np\n",
        "import re\n",
        "from sys import argv\n",
        "# Main function\n",
        "def readTrodesExtractedDataFile(filename):\n",
        "    with open(filename, 'rb') as f:\n",
        "        # Check if first line is start of settings block\n",
        "        if f.readline().decode('ascii').strip() != '<Start settings>':\n",
        "            raise Exception(\"Settings format not supported\")\n",
        "        fields = True\n",
        "        fieldsText = {}\n",
        "        for line in f:\n",
        "            # Read through block of settings\n",
        "            if(fields):\n",
        "                line = line.decode('ascii').strip()\n",
        "                # filling in fields dict\n",
        "                if line != '<End settings>':\n",
        "                    vals = line.split(': ')\n",
        "                    fieldsText.update({vals[0].lower(): vals[1]})\n",
        "                # End of settings block, signal end of fields\n",
        "                else:\n",
        "                    fields = False\n",
        "                    dt = parseFields(fieldsText['fields'])\n",
        "                    fieldsText['data'] = np.zeros([1], dtype = dt)\n",
        "                    break\n",
        "        # Reads rest of file at once, using dtype format generated by parseFields()\n",
        "        dt = parseFields(fieldsText['fields'])\n",
        "        data = np.fromfile(f, dt)\n",
        "        fieldsText.update({'data': data})\n",
        "        return fieldsText\n",
        "\n",
        "\n",
        "# Parses last fields parameter (<time uint32><...>) as a single string\n",
        "# Assumes it is formatted as <name number * type> or <name type>\n",
        "# Returns: np.dtype\n",
        "def parseFields(fieldstr):\n",
        "    # Returns np.dtype from field string\n",
        "    sep = re.split('\\s', re.sub(r\"\\>\\<|\\>|\\<\", ' ', fieldstr).strip())\n",
        "    # print(sep)\n",
        "    typearr = []\n",
        "    # Every two elmts is fieldname followed by datatype\n",
        "    for i in range(0,sep.__len__(), 2):\n",
        "        fieldname = sep[i]\n",
        "        repeats = 1\n",
        "        ftype = 'uint32'\n",
        "        # Finds if a <num>* is included in datatype\n",
        "        if sep[i+1].__contains__('*'):\n",
        "            temptypes = re.split('\\*', sep[i+1])\n",
        "            # Results in the correct assignment, whether str is num*dtype or dtype*num\n",
        "            ftype = temptypes[temptypes[0].isdigit()]\n",
        "            repeats = int(temptypes[temptypes[1].isdigit()])\n",
        "        else:\n",
        "            ftype = sep[i+1]\n",
        "        try:\n",
        "            fieldtype = getattr(np, ftype)\n",
        "        except AttributeError:\n",
        "            print(ftype + \" is not a valid field type.\\n\")\n",
        "            exit(1)\n",
        "        else:\n",
        "            typearr.append((str(fieldname), fieldtype, repeats))\n",
        "    return np.dtype(typearr)\n",
        "\n",
        "\n",
        "\n"
      ],
      "metadata": {
        "id": "qJT3qRXg4Tlz"
      },
      "execution_count": null,
      "outputs": []
    }
  ]
}