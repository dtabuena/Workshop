{
  "nbformat": 4,
  "nbformat_minor": 0,
  "metadata": {
    "colab": {
      "provenance": [],
      "authorship_tag": "ABX9TyO1cJm8XV0VBZaGlcj08iqu",
      "include_colab_link": true
    },
    "kernelspec": {
      "name": "python3",
      "display_name": "Python 3"
    },
    "language_info": {
      "name": "python"
    }
  },
  "cells": [
    {
      "cell_type": "markdown",
      "metadata": {
        "id": "view-in-github",
        "colab_type": "text"
      },
      "source": [
        "<a href=\"https://colab.research.google.com/github/dtabuena/Workshop/blob/main/Trodes/Exporting_Trodes.ipynb\" target=\"_parent\"><img src=\"https://colab.research.google.com/assets/colab-badge.svg\" alt=\"Open In Colab\"/></a>"
      ]
    },
    {
      "cell_type": "code",
      "source": [
        "import os\n",
        "import subprocess"
      ],
      "metadata": {
        "id": "L0LiTAY12g7A"
      },
      "execution_count": 43,
      "outputs": []
    },
    {
      "cell_type": "code",
      "source": [
        "reccording_source_dir = r'\\\\hive.gladstone.internal\\Huang-LFP\\TabuenaLFP\\Test_Emily'\n",
        "os.chdir(reccording_source_dir)\n",
        "\n",
        "dot_dat_export_dir = r'\\\\hive.gladstone.internal\\Huang-LFP\\TabuenaLFP\\TRODE_EXPORTS'\n",
        "os.chdir(dot_dat_export_dir)\n",
        "\n",
        "rec_list=list()\n",
        "for root, dirs, files in os.walk(reccording_source_dir):\n",
        "    for f in files:\n",
        "        if '.rec' in f:\n",
        "            rec_list.append(os.path.join(root,f))\n",
        "print(rec_list)\n",
        "\n",
        "\n",
        "export_func_location = 'C:/Users/dennis.tabuena/Desktop/_SPIKE_GADGETS/Trodes_2-5-1_Windows64/Trodes_2-5-1_Windows64/trodesexport.exe'\n",
        "filename = rec_list[0]"
      ],
      "metadata": {
        "colab": {
          "base_uri": "https://localhost:8080/"
        },
        "id": "bTQbQoNgQlYy",
        "outputId": "dda5aa1c-9816-47a3-c6ef-f0ce26ca39e5"
      },
      "execution_count": 44,
      "outputs": [
        {
          "output_type": "stream",
          "name": "stdout",
          "text": [
            "['\\\\\\\\hive.gladstone.internal\\\\Huang-LFP\\\\TabuenaLFP\\\\Test_Emily\\\\AngelfoodCake01\\\\AngelfoodCake01.rec']\n"
          ]
        }
      ]
    },
    {
      "cell_type": "code",
      "source": [
        "\"\"\" HELP \"\"\"\n",
        "subprocess.run(export_func_location+' -h')"
      ],
      "metadata": {
        "colab": {
          "base_uri": "https://localhost:8080/"
        },
        "id": "3mbZvO-bnBaX",
        "outputId": "c003bb47-8f75-41ea-bfeb-a92959748e04"
      },
      "execution_count": null,
      "outputs": [
        {
          "output_type": "execute_result",
          "data": {
            "text/plain": [
              "CompletedProcess(args='C:/Users/dennis.tabuena/Desktop/_SPIKE_GADGETS/Trodes_2-5-1_Windows64/Trodes_2-5-1_Windows64/trodesexport.exe -h', returncode=0)"
            ]
          },
          "metadata": {},
          "execution_count": 32
        }
      ]
    },
    {
      "cell_type": "code",
      "source": [
        "raw_dir = r'\\\\hive.gladstone.internal\\Huang-LFP\\TabuenaLFP\\TRODE_EXPORTS\\RAW_DATA'\n",
        "full_cmd_raw = ' '.join([export_func_location, '-raw',\n",
        "                    '-rec ', filename,\n",
        "                    '-userawrefs', str(0),\n",
        "                    '-outputdirectory', raw_dir])\n",
        "print(full_cmd_raw)\n",
        "subprocess.run(full_cmd_raw)"
      ],
      "metadata": {
        "colab": {
          "base_uri": "https://localhost:8080/"
        },
        "id": "ywLfSy3IhZKf",
        "outputId": "481cb0ff-989e-44af-927e-77fd341b88f2"
      },
      "execution_count": null,
      "outputs": [
        {
          "output_type": "stream",
          "name": "stdout",
          "text": [
            "C:/Users/dennis.tabuena/Desktop/_SPIKE_GADGETS/Trodes_2-5-1_Windows64/Trodes_2-5-1_Windows64/trodesexport.exe -raw -rec  \\\\hive.gladstone.internal\\Huang-LFP\\TabuenaLFP\\Test_Emily\\AngelfoodCake01\\AngelfoodCake01.rec -userawrefs 0 -outputdirectory \\\\hive.gladstone.internal\\Huang-LFP\\TabuenaLFP\\TRODE_EXPORTS\\RAW_DATA\n"
          ]
        },
        {
          "output_type": "execute_result",
          "data": {
            "text/plain": [
              "CompletedProcess(args='C:/Users/dennis.tabuena/Desktop/_SPIKE_GADGETS/Trodes_2-5-1_Windows64/Trodes_2-5-1_Windows64/trodesexport.exe -raw -rec  \\\\\\\\hive.gladstone.internal\\\\Huang-LFP\\\\TabuenaLFP\\\\Test_Emily\\\\AngelfoodCake01\\\\AngelfoodCake01.rec -userawrefs 0 -outputdirectory \\\\\\\\hive.gladstone.internal\\\\Huang-LFP\\\\TabuenaLFP\\\\TRODE_EXPORTS\\\\RAW_DATA', returncode=0)"
            ]
          },
          "metadata": {},
          "execution_count": 42
        }
      ]
    },
    {
      "cell_type": "code",
      "source": [
        "lfp_dir = r'\\\\hive.gladstone.internal\\Huang-LFP\\TabuenaLFP\\TRODE_EXPORTS\\LFP_DATA'\n",
        "full_cmd_lfp = ' '.join([export_func_location, '-lfp',\n",
        "                         '-rec ', filename,\n",
        "                         '-lfpoutputrate', str(5000),\n",
        "                         '-uselfprefs', str(0),\n",
        "                         '-uselfpfilters', str(0),\n",
        "                         '-outputdirectory', lfp_dir])\n",
        "report = subprocess.run(full_cmd_lfp)\n",
        "print(report)"
      ],
      "metadata": {
        "colab": {
          "base_uri": "https://localhost:8080/"
        },
        "id": "fCabdm2ZjAcW",
        "outputId": "e6007a9d-9eca-4d0b-e24b-49099a18e1bd"
      },
      "execution_count": null,
      "outputs": [
        {
          "output_type": "stream",
          "name": "stdout",
          "text": [
            "CompletedProcess(args='C:/Users/dennis.tabuena/Desktop/_SPIKE_GADGETS/Trodes_2-5-1_Windows64/Trodes_2-5-1_Windows64/trodesexport.exe -lfp -rec  \\\\\\\\hive.gladstone.internal\\\\Huang-LFP\\\\TabuenaLFP\\\\Test_Emily\\\\AngelfoodCake01\\\\AngelfoodCake01.rec -lfpoutputrate 5000 -uselfprefs 0 -uselfpfilters 0 -outputdirectory \\\\\\\\hive.gladstone.internal\\\\Huang-LFP\\\\TabuenaLFP\\\\TRODE_EXPORTS\\\\LFP_DATA', returncode=0)\n"
          ]
        }
      ]
    },
    {
      "cell_type": "code",
      "source": [
        "spike_dir = r'\\\\hive.gladstone.internal\\Huang-LFP\\TabuenaLFP\\TRODE_EXPORTS\\SPIKE_DATA'\n",
        "full_cmd_spikeband = ' '.join([export_func_location, '-spikeband',\n",
        "                         '-rec ', filename,\n",
        "                         '-spikehighpass', str(600),\n",
        "                         '-spikelowpass', str(6000),\n",
        "                         '-usespikerefs', str(0),\n",
        "                         '-usespikefilters', str(0),\n",
        "                         '-outputdirectory', spike_dir])\n",
        "report = subprocess.run(full_cmd_spikeband)\n",
        "print(report)"
      ],
      "metadata": {
        "colab": {
          "base_uri": "https://localhost:8080/"
        },
        "id": "7-j1uFgrnkJw",
        "outputId": "fe20dabe-439f-46e1-c34d-f22a91a1acf4"
      },
      "execution_count": null,
      "outputs": [
        {
          "output_type": "execute_result",
          "data": {
            "text/plain": [
              "CompletedProcess(args='C:/Users/dennis.tabuena/Desktop/_SPIKE_GADGETS/Trodes_2-5-1_Windows64/Trodes_2-5-1_Windows64/trodesexport.exe -spikeband -rec  \\\\\\\\hive.gladstone.internal\\\\Huang-LFP\\\\TabuenaLFP\\\\Test_Emily\\\\AngelfoodCake01\\\\AngelfoodCake01.rec -spikehighpass 600 -spikelowpass 6000 -usespikerefs 0 -usespikefilters 0 -outputdirectory \\\\\\\\hive.gladstone.internal\\\\Huang-LFP\\\\TabuenaLFP\\\\TRODE_EXPORTS', returncode=0)"
            ]
          },
          "metadata": {},
          "execution_count": 30
        }
      ]
    },
    {
      "cell_type": "code",
      "source": [
        "raw_dir = r'\\\\hive.gladstone.internal\\Huang-LFP\\TabuenaLFP\\TRODE_EXPORTS\\RAW_DATA'\n",
        "full_cmd_raw = ' '.join([export_func_location, '-raw',\n",
        "                         '-rec ', filename,\n",
        "                         '-spikehighpass', str(600),\n",
        "                         '-spikelowpass', str(6000),\n",
        "                         '-usespikerefs', str(0),\n",
        "                         '-usespikefilters', str(0),\n",
        "                         '-outputdirectory', raw_dir])\n",
        "report = subprocess.run(raw_dir)\n",
        "print(report)"
      ],
      "metadata": {
        "id": "4gxDYLdG_coh"
      },
      "execution_count": null,
      "outputs": []
    },
    {
      "cell_type": "code",
      "source": [
        "os.chdir('C:/Users/dennis.tabuena/Desktop/_SPIKE_GADGETS/Trodes_2-5-1_Windows64/Trodes_2-5-1_Windows64/AngelfoodCake01.raw')\n",
        "x = readTrodesExtractedDataFile('AngelfoodCake01.raw_group0.dat')"
      ],
      "metadata": {
        "id": "4_y6Y6jB4shc"
      },
      "execution_count": null,
      "outputs": []
    },
    {
      "cell_type": "code",
      "source": [
        "#!/usr/bin/python\n",
        "#Requires numpy to be installed. re and sys are defaults for python\n",
        "#assumes python 2.7\n",
        "import numpy as np\n",
        "import re\n",
        "from sys import argv\n",
        "# Main function\n",
        "def readTrodesExtractedDataFile(filename):\n",
        "    with open(filename, 'rb') as f:\n",
        "        # Check if first line is start of settings block\n",
        "        if f.readline().decode('ascii').strip() != '<Start settings>':\n",
        "            raise Exception(\"Settings format not supported\")\n",
        "        fields = True\n",
        "        fieldsText = {}\n",
        "        for line in f:\n",
        "            # Read through block of settings\n",
        "            if(fields):\n",
        "                line = line.decode('ascii').strip()\n",
        "                # filling in fields dict\n",
        "                if line != '<End settings>':\n",
        "                    vals = line.split(': ')\n",
        "                    fieldsText.update({vals[0].lower(): vals[1]})\n",
        "                # End of settings block, signal end of fields\n",
        "                else:\n",
        "                    fields = False\n",
        "                    dt = parseFields(fieldsText['fields'])\n",
        "                    fieldsText['data'] = np.zeros([1], dtype = dt)\n",
        "                    break\n",
        "        # Reads rest of file at once, using dtype format generated by parseFields()\n",
        "        dt = parseFields(fieldsText['fields'])\n",
        "        data = np.fromfile(f, dt)\n",
        "        fieldsText.update({'data': data})\n",
        "        return fieldsText\n",
        "\n",
        "\n",
        "# Parses last fields parameter (<time uint32><...>) as a single string\n",
        "# Assumes it is formatted as <name number * type> or <name type>\n",
        "# Returns: np.dtype\n",
        "def parseFields(fieldstr):\n",
        "    # Returns np.dtype from field string\n",
        "    sep = re.split('\\s', re.sub(r\"\\>\\<|\\>|\\<\", ' ', fieldstr).strip())\n",
        "    # print(sep)\n",
        "    typearr = []\n",
        "    # Every two elmts is fieldname followed by datatype\n",
        "    for i in range(0,sep.__len__(), 2):\n",
        "        fieldname = sep[i]\n",
        "        repeats = 1\n",
        "        ftype = 'uint32'\n",
        "        # Finds if a <num>* is included in datatype\n",
        "        if sep[i+1].__contains__('*'):\n",
        "            temptypes = re.split('\\*', sep[i+1])\n",
        "            # Results in the correct assignment, whether str is num*dtype or dtype*num\n",
        "            ftype = temptypes[temptypes[0].isdigit()]\n",
        "            repeats = int(temptypes[temptypes[1].isdigit()])\n",
        "        else:\n",
        "            ftype = sep[i+1]\n",
        "        try:\n",
        "            fieldtype = getattr(np, ftype)\n",
        "        except AttributeError:\n",
        "            print(ftype + \" is not a valid field type.\\n\")\n",
        "            exit(1)\n",
        "        else:\n",
        "            typearr.append((str(fieldname), fieldtype, repeats))\n",
        "    return np.dtype(typearr)\n",
        "\n",
        "\n",
        "\n"
      ],
      "metadata": {
        "id": "qJT3qRXg4Tlz"
      },
      "execution_count": null,
      "outputs": []
    },
    {
      "cell_type": "code",
      "source": [
        "\"\"\" New Method \"\"\"\n",
        "import numpy as np\n",
        "os.chdir(r'C:\\Users\\dennis.tabuena\\Desktop\\_SPIKE_GADGETS\\Trodes_2-5-1_Windows64\\Trodes_2-5-1_Windows64\\Resources\\TrodesToPython')\n",
        "from readTrodesExtractedDataFile3 import *\n",
        "\n"
      ],
      "metadata": {
        "id": "EDZHorrvlHdG",
        "outputId": "4104e84d-4264-440f-97f3-1cdc6da52429",
        "colab": {
          "base_uri": "https://localhost:8080/"
        }
      },
      "execution_count": 50,
      "outputs": [
        {
          "output_type": "stream",
          "name": "stderr",
          "text": [
            "C:\\Users\\dennis.tabuena\\Desktop\\_SPIKE_GADGETS\\Trodes_2-5-1_Windows64\\Trodes_2-5-1_Windows64\\Resources\\TrodesToPython\\readTrodesExtractedDataFile3.py:41: SyntaxWarning: invalid escape sequence '\\s'\n",
            "  sep = re.split('\\s', re.sub(r\"\\>\\<|\\>|\\<\", ' ', fieldstr).strip())\n",
            "C:\\Users\\dennis.tabuena\\Desktop\\_SPIKE_GADGETS\\Trodes_2-5-1_Windows64\\Trodes_2-5-1_Windows64\\Resources\\TrodesToPython\\readTrodesExtractedDataFile3.py:51: SyntaxWarning: invalid escape sequence '\\*'\n",
            "  temptypes = re.split('\\*', sep[i+1])\n"
          ]
        }
      ]
    },
    {
      "cell_type": "code",
      "source": [
        "os.chdir(r'\\\\hive.gladstone.internal\\Huang-LFP\\TabuenaLFP\\TRODE_EXPORTS\\RAW_DATA\\AngelfoodCake01.raw')\n",
        "dat_cont = readTrodesExtractedDataFile('AngelfoodCake01.group0.coordinates.dat')\n",
        "\n",
        "print(dat_cont)"
      ],
      "metadata": {
        "id": "I6eBleVhnkG7",
        "outputId": "78549509-31bb-4f48-8663-1e1acee0f18d",
        "colab": {
          "base_uri": "https://localhost:8080/"
        }
      },
      "execution_count": 172,
      "outputs": [
        {
          "output_type": "stream",
          "name": "stdout",
          "text": [
            "{'description': 'Pad locations in microns', 'byte_order': 'little endian', 'original_file': 'AngelfoodCake01.rec', 'clockrate': '30000', 'trodes_version': '-1', 'compile_date': '-1', 'compile_time': '-1', 'qt_version': '-1', 'commit_tag': '-1', 'controller_firmware': '-1', 'headstage_firmware': '-1', 'controller_serialnum': '-1', 'headstage_serialnum': '-1', 'autosettle': '-1', 'smartref': '-1', 'gyro': '-1', 'accelerometer': '-1', 'magnetometer': '-1', 'time_offset': '0', 'system_time_at_creation': '-1', 'timestamp_at_creation': '-1', 'first_timestamp': '951222', 'fields': '<ml int32><dv int32><ap int32>', 'data': array([(-1, -1, -1), (-1, -1, -1), (-1, -1, -1), (-1, -1, -1),\n",
            "       (-1, -1, -1), (-1, -1, -1), (-1, -1, -1), (-1, -1, -1),\n",
            "       (-1, -1, -1), (-1, -1, -1), (-1, -1, -1), (-1, -1, -1),\n",
            "       (-1, -1, -1), (-1, -1, -1), (-1, -1, -1), (-1, -1, -1),\n",
            "       (-1, -1, -1), (-1, -1, -1), (-1, -1, -1), (-1, -1, -1),\n",
            "       (-1, -1, -1), (-1, -1, -1), (-1, -1, -1), (-1, -1, -1),\n",
            "       (-1, -1, -1), (-1, -1, -1), (-1, -1, -1), (-1, -1, -1),\n",
            "       (-1, -1, -1), (-1, -1, -1), (-1, -1, -1), (-1, -1, -1)],\n",
            "      dtype=[('ml', '<i4'), ('dv', '<i4'), ('ap', '<i4')])}\n"
          ]
        },
        {
          "output_type": "stream",
          "name": "stderr",
          "text": [
            "C:\\Users\\dennis.tabuena\\Desktop\\_SPIKE_GADGETS\\Trodes_2-5-1_Windows64\\Trodes_2-5-1_Windows64\\Resources\\TrodesToPython\\readTrodesExtractedDataFile3.py:64: FutureWarning: Passing (type, 1) or '1type' as a synonym of type is deprecated; in a future version of numpy, it will be understood as (type, (1,)) / '(1,)type'.\n",
            "  return np.dtype(typearr)\n"
          ]
        }
      ]
    },
    {
      "cell_type": "code",
      "source": [
        "os.chdir(r'\\\\hive.gladstone.internal\\Huang-LFP\\TabuenaLFP\\Test_Emily\\AngelfoodCake01')\n",
        "os.listdir()\n",
        "filename = \"AngelfoodCake01.videoPositionTracking\"\n",
        "with open(filename, mode='rb') as file: # b is important -> binary\n",
        "    filecontent = file.read()"
      ],
      "metadata": {
        "id": "iT9-vp9XucEX"
      },
      "execution_count": 179,
      "outputs": []
    },
    {
      "cell_type": "code",
      "source": [
        "filecontent"
      ],
      "metadata": {
        "id": "J-I4DjmDTyl-"
      },
      "execution_count": null,
      "outputs": []
    },
    {
      "cell_type": "code",
      "source": [
        "format_dict = {'uint32':'I','uint16':'H'}\n",
        "header = str(filecontent[:200])\n",
        "print(header)\n",
        "header = header.split('<End settings>')[0]\n",
        "print(header_len)\n",
        "field_section = header.split('Fields: ')[-1]\n",
        "fields = re.findall(r'<.*?>',  field_section)\n",
        "units = [f.split(' ')[-1][:-1] for f in fields]\n",
        "field_names = [f.split(' ')[0][1:] for f in fields]\n",
        "record_format = ''.join([format_dict[u] for u in units])\n",
        "\n",
        "print(record_format)"
      ],
      "metadata": {
        "id": "t9HLb_8D0d-I",
        "outputId": "e90e2e76-81e8-43e8-da1b-ea40800c7ff5",
        "colab": {
          "base_uri": "https://localhost:8080/"
        }
      },
      "execution_count": 217,
      "outputs": [
        {
          "output_type": "stream",
          "name": "stdout",
          "text": [
            "b'<Start settings>\\nthreshold: 56\\ndark: 1\\nFields: <time uint32><xloc uint16><yloc uint16><xloc2 uint16><yloc2 uint16>\\n<End settings>\\n\\xb5\\x83\\x0e\\x00\\r\\x01\\x81\\x01\\x00\\x00\\x00\\x00\\xff\\x8a\\x0e\\x00\\x0c\\x01\\x81\\x01\\x00\\x00\\x00\\x00\\xff\\x8a\\x0e\\x00\\x0b\\x01\\x83\\x01\\x00\\x00\\x00\\x00H\\x92\\x0e\\x00\\x0b\\x01\\x84\\x01\\x00\\x00\\x00\\x00\\xec\\x95\\x0e\\x00\\x0c\\x01\\x83\\x01\\x00\\x00\\x00\\x005\\x9d\\x0e\\x00\\r\\x01\\x83\\x01\\x00\\x00'\n",
            "135\n",
            "IHHHH\n"
          ]
        }
      ]
    },
    {
      "cell_type": "code",
      "source": [
        "header_len = len(header+'<End settings>') - header.count('\\\\n')-1\n",
        "record_format = ''.join([format_dict[u] for u in units])\n",
        "record_size = struct.calcsize(record_format)\n",
        "records = []\n",
        "with open(filename, 'rb') as file:\n",
        "    file.seek(header_len)\n",
        "    while chunk := file.read(record_size):\n",
        "        if len(chunk) == record_size:\n",
        "            record = struct.unpack(record_format, chunk)\n",
        "            records.append(record)\n",
        "# display(records)\n",
        "display(fields)\n",
        "display(records[:10])\n",
        "display(records[-10:])"
      ],
      "metadata": {
        "id": "UOEzqaHVu3KH",
        "outputId": "d653dd6f-67b7-4ba6-c6a1-f4911120e8d6",
        "colab": {
          "base_uri": "https://localhost:8080/",
          "height": 451
        }
      },
      "execution_count": 218,
      "outputs": [
        {
          "output_type": "display_data",
          "data": {
            "text/plain": [
              "['<time uint32>',\n",
              " '<xloc uint16>',\n",
              " '<yloc uint16>',\n",
              " '<xloc2 uint16>',\n",
              " '<yloc2 uint16>']"
            ]
          },
          "metadata": {}
        },
        {
          "output_type": "display_data",
          "data": {
            "text/plain": [
              "[(951221, 269, 385, 0, 0),\n",
              " (953087, 268, 385, 0, 0),\n",
              " (953087, 267, 387, 0, 0),\n",
              " (954952, 267, 388, 0, 0),\n",
              " (955884, 268, 387, 0, 0),\n",
              " (957749, 269, 387, 0, 0),\n",
              " (958682, 269, 388, 0, 0),\n",
              " (959615, 270, 388, 0, 0),\n",
              " (960547, 269, 388, 0, 0),\n",
              " (962412, 269, 389, 0, 0)]"
            ]
          },
          "metadata": {}
        },
        {
          "output_type": "display_data",
          "data": {
            "text/plain": [
              "[(132479231, 272, 388, 0, 0),\n",
              " (132479231, 272, 388, 0, 0),\n",
              " (132481096, 272, 388, 0, 0),\n",
              " (132482028, 272, 388, 0, 0),\n",
              " (132482961, 272, 387, 0, 0),\n",
              " (132484116, 272, 388, 0, 0),\n",
              " (132485759, 272, 387, 0, 0),\n",
              " (132486691, 272, 387, 0, 0),\n",
              " (132487624, 272, 387, 0, 0),\n",
              " (132489489, 272, 387, 0, 0)]"
            ]
          },
          "metadata": {}
        }
      ]
    },
    {
      "cell_type": "code",
      "source": [
        "import pandas as pd\n",
        "records_df = pd.DataFrame(records,columns = field_names)\n",
        "records_df['time'] = records_df['time']/30000\n",
        "#\n",
        "display(records_df)\n",
        "# records_df.to_csv('Export_pos.csv')\n",
        "\n",
        "# # os.listdir()"
      ],
      "metadata": {
        "id": "P1aEQmnAAY0T",
        "outputId": "480533ec-12e3-49a4-ac10-d79821f07b7f",
        "colab": {
          "base_uri": "https://localhost:8080/",
          "height": 424
        }
      },
      "execution_count": 220,
      "outputs": [
        {
          "output_type": "display_data",
          "data": {
            "text/plain": [
              "               time  xloc  yloc  xloc2  yloc2\n",
              "0         31.707367   269   385      0      0\n",
              "1         31.769567   268   385      0      0\n",
              "2         31.769567   267   387      0      0\n",
              "3         31.831733   267   388      0      0\n",
              "4         31.862800   268   387      0      0\n",
              "...             ...   ...   ...    ...    ...\n",
              "109659  4416.137200   272   388      0      0\n",
              "109660  4416.191967   272   387      0      0\n",
              "109661  4416.223033   272   387      0      0\n",
              "109662  4416.254133   272   387      0      0\n",
              "109663  4416.316300   272   387      0      0\n",
              "\n",
              "[109664 rows x 5 columns]"
            ],
            "text/html": [
              "<div>\n",
              "<style scoped>\n",
              "    .dataframe tbody tr th:only-of-type {\n",
              "        vertical-align: middle;\n",
              "    }\n",
              "\n",
              "    .dataframe tbody tr th {\n",
              "        vertical-align: top;\n",
              "    }\n",
              "\n",
              "    .dataframe thead th {\n",
              "        text-align: right;\n",
              "    }\n",
              "</style>\n",
              "<table border=\"1\" class=\"dataframe\">\n",
              "  <thead>\n",
              "    <tr style=\"text-align: right;\">\n",
              "      <th></th>\n",
              "      <th>time</th>\n",
              "      <th>xloc</th>\n",
              "      <th>yloc</th>\n",
              "      <th>xloc2</th>\n",
              "      <th>yloc2</th>\n",
              "    </tr>\n",
              "  </thead>\n",
              "  <tbody>\n",
              "    <tr>\n",
              "      <th>0</th>\n",
              "      <td>31.707367</td>\n",
              "      <td>269</td>\n",
              "      <td>385</td>\n",
              "      <td>0</td>\n",
              "      <td>0</td>\n",
              "    </tr>\n",
              "    <tr>\n",
              "      <th>1</th>\n",
              "      <td>31.769567</td>\n",
              "      <td>268</td>\n",
              "      <td>385</td>\n",
              "      <td>0</td>\n",
              "      <td>0</td>\n",
              "    </tr>\n",
              "    <tr>\n",
              "      <th>2</th>\n",
              "      <td>31.769567</td>\n",
              "      <td>267</td>\n",
              "      <td>387</td>\n",
              "      <td>0</td>\n",
              "      <td>0</td>\n",
              "    </tr>\n",
              "    <tr>\n",
              "      <th>3</th>\n",
              "      <td>31.831733</td>\n",
              "      <td>267</td>\n",
              "      <td>388</td>\n",
              "      <td>0</td>\n",
              "      <td>0</td>\n",
              "    </tr>\n",
              "    <tr>\n",
              "      <th>4</th>\n",
              "      <td>31.862800</td>\n",
              "      <td>268</td>\n",
              "      <td>387</td>\n",
              "      <td>0</td>\n",
              "      <td>0</td>\n",
              "    </tr>\n",
              "    <tr>\n",
              "      <th>...</th>\n",
              "      <td>...</td>\n",
              "      <td>...</td>\n",
              "      <td>...</td>\n",
              "      <td>...</td>\n",
              "      <td>...</td>\n",
              "    </tr>\n",
              "    <tr>\n",
              "      <th>109659</th>\n",
              "      <td>4416.137200</td>\n",
              "      <td>272</td>\n",
              "      <td>388</td>\n",
              "      <td>0</td>\n",
              "      <td>0</td>\n",
              "    </tr>\n",
              "    <tr>\n",
              "      <th>109660</th>\n",
              "      <td>4416.191967</td>\n",
              "      <td>272</td>\n",
              "      <td>387</td>\n",
              "      <td>0</td>\n",
              "      <td>0</td>\n",
              "    </tr>\n",
              "    <tr>\n",
              "      <th>109661</th>\n",
              "      <td>4416.223033</td>\n",
              "      <td>272</td>\n",
              "      <td>387</td>\n",
              "      <td>0</td>\n",
              "      <td>0</td>\n",
              "    </tr>\n",
              "    <tr>\n",
              "      <th>109662</th>\n",
              "      <td>4416.254133</td>\n",
              "      <td>272</td>\n",
              "      <td>387</td>\n",
              "      <td>0</td>\n",
              "      <td>0</td>\n",
              "    </tr>\n",
              "    <tr>\n",
              "      <th>109663</th>\n",
              "      <td>4416.316300</td>\n",
              "      <td>272</td>\n",
              "      <td>387</td>\n",
              "      <td>0</td>\n",
              "      <td>0</td>\n",
              "    </tr>\n",
              "  </tbody>\n",
              "</table>\n",
              "<p>109664 rows × 5 columns</p>\n",
              "</div>"
            ]
          },
          "metadata": {}
        }
      ]
    }
  ]
}