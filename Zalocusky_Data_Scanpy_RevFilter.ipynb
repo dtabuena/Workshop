{
  "nbformat": 4,
  "nbformat_minor": 0,
  "metadata": {
    "colab": {
      "provenance": [],
      "authorship_tag": "ABX9TyNeu79u5NnCC/UFBdwnMsFa",
      "include_colab_link": true
    },
    "kernelspec": {
      "name": "python3",
      "display_name": "Python 3"
    },
    "language_info": {
      "name": "python"
    }
  },
  "cells": [
    {
      "cell_type": "markdown",
      "metadata": {
        "id": "view-in-github",
        "colab_type": "text"
      },
      "source": [
        "<a href=\"https://colab.research.google.com/github/dtabuena/Workshop/blob/main/Zalocusky_Data_Scanpy_RevFilter.ipynb\" target=\"_parent\"><img src=\"https://colab.research.google.com/assets/colab-badge.svg\" alt=\"Open In Colab\"/></a>"
      ]
    },
    {
      "cell_type": "code",
      "source": [
        "!pip install scanpy"
      ],
      "metadata": {
        "colab": {
          "base_uri": "https://localhost:8080/"
        },
        "id": "rRIj0IJP7IcL",
        "outputId": "7880e0cc-be0c-4ca9-a019-f1982238df30"
      },
      "execution_count": 1,
      "outputs": [
        {
          "output_type": "stream",
          "name": "stdout",
          "text": [
            "Looking in indexes: https://pypi.org/simple, https://us-python.pkg.dev/colab-wheels/public/simple/\n",
            "Collecting scanpy\n",
            "  Downloading scanpy-1.9.3-py3-none-any.whl (2.0 MB)\n",
            "\u001b[2K     \u001b[90m━━━━━━━━━━━━━━━━━━━━━━━━━━━━━━━━━━━━━━━━\u001b[0m \u001b[32m2.0/2.0 MB\u001b[0m \u001b[31m23.9 MB/s\u001b[0m eta \u001b[36m0:00:00\u001b[0m\n",
            "\u001b[?25hCollecting anndata>=0.7.4 (from scanpy)\n",
            "  Downloading anndata-0.9.1-py3-none-any.whl (102 kB)\n",
            "\u001b[2K     \u001b[90m━━━━━━━━━━━━━━━━━━━━━━━━━━━━━━━━━━━━━━\u001b[0m \u001b[32m103.0/103.0 kB\u001b[0m \u001b[31m10.4 MB/s\u001b[0m eta \u001b[36m0:00:00\u001b[0m\n",
            "\u001b[?25hRequirement already satisfied: numpy>=1.17.0 in /usr/local/lib/python3.10/dist-packages (from scanpy) (1.22.4)\n",
            "Requirement already satisfied: matplotlib>=3.4 in /usr/local/lib/python3.10/dist-packages (from scanpy) (3.7.1)\n",
            "Requirement already satisfied: pandas>=1.0 in /usr/local/lib/python3.10/dist-packages (from scanpy) (1.5.3)\n",
            "Requirement already satisfied: scipy>=1.4 in /usr/local/lib/python3.10/dist-packages (from scanpy) (1.10.1)\n",
            "Requirement already satisfied: seaborn in /usr/local/lib/python3.10/dist-packages (from scanpy) (0.12.2)\n",
            "Requirement already satisfied: h5py>=3 in /usr/local/lib/python3.10/dist-packages (from scanpy) (3.8.0)\n",
            "Requirement already satisfied: tqdm in /usr/local/lib/python3.10/dist-packages (from scanpy) (4.65.0)\n",
            "Requirement already satisfied: scikit-learn>=0.22 in /usr/local/lib/python3.10/dist-packages (from scanpy) (1.2.2)\n",
            "Requirement already satisfied: statsmodels>=0.10.0rc2 in /usr/local/lib/python3.10/dist-packages (from scanpy) (0.13.5)\n",
            "Requirement already satisfied: patsy in /usr/local/lib/python3.10/dist-packages (from scanpy) (0.5.3)\n",
            "Requirement already satisfied: networkx>=2.3 in /usr/local/lib/python3.10/dist-packages (from scanpy) (3.1)\n",
            "Requirement already satisfied: natsort in /usr/local/lib/python3.10/dist-packages (from scanpy) (8.3.1)\n",
            "Requirement already satisfied: joblib in /usr/local/lib/python3.10/dist-packages (from scanpy) (1.2.0)\n",
            "Requirement already satisfied: numba>=0.41.0 in /usr/local/lib/python3.10/dist-packages (from scanpy) (0.56.4)\n",
            "Collecting umap-learn>=0.3.10 (from scanpy)\n",
            "  Downloading umap-learn-0.5.3.tar.gz (88 kB)\n",
            "\u001b[2K     \u001b[90m━━━━━━━━━━━━━━━━━━━━━━━━━━━━━━━━━━━━━━━━\u001b[0m \u001b[32m88.2/88.2 kB\u001b[0m \u001b[31m5.0 MB/s\u001b[0m eta \u001b[36m0:00:00\u001b[0m\n",
            "\u001b[?25h  Preparing metadata (setup.py) ... \u001b[?25l\u001b[?25hdone\n",
            "Requirement already satisfied: packaging in /usr/local/lib/python3.10/dist-packages (from scanpy) (23.1)\n",
            "Collecting session-info (from scanpy)\n",
            "  Downloading session_info-1.0.0.tar.gz (24 kB)\n",
            "  Preparing metadata (setup.py) ... \u001b[?25l\u001b[?25hdone\n",
            "Requirement already satisfied: contourpy>=1.0.1 in /usr/local/lib/python3.10/dist-packages (from matplotlib>=3.4->scanpy) (1.0.7)\n",
            "Requirement already satisfied: cycler>=0.10 in /usr/local/lib/python3.10/dist-packages (from matplotlib>=3.4->scanpy) (0.11.0)\n",
            "Requirement already satisfied: fonttools>=4.22.0 in /usr/local/lib/python3.10/dist-packages (from matplotlib>=3.4->scanpy) (4.39.3)\n",
            "Requirement already satisfied: kiwisolver>=1.0.1 in /usr/local/lib/python3.10/dist-packages (from matplotlib>=3.4->scanpy) (1.4.4)\n",
            "Requirement already satisfied: pillow>=6.2.0 in /usr/local/lib/python3.10/dist-packages (from matplotlib>=3.4->scanpy) (8.4.0)\n",
            "Requirement already satisfied: pyparsing>=2.3.1 in /usr/local/lib/python3.10/dist-packages (from matplotlib>=3.4->scanpy) (3.0.9)\n",
            "Requirement already satisfied: python-dateutil>=2.7 in /usr/local/lib/python3.10/dist-packages (from matplotlib>=3.4->scanpy) (2.8.2)\n",
            "Requirement already satisfied: llvmlite<0.40,>=0.39.0dev0 in /usr/local/lib/python3.10/dist-packages (from numba>=0.41.0->scanpy) (0.39.1)\n",
            "Requirement already satisfied: setuptools in /usr/local/lib/python3.10/dist-packages (from numba>=0.41.0->scanpy) (67.7.2)\n",
            "Requirement already satisfied: pytz>=2020.1 in /usr/local/lib/python3.10/dist-packages (from pandas>=1.0->scanpy) (2022.7.1)\n",
            "Requirement already satisfied: threadpoolctl>=2.0.0 in /usr/local/lib/python3.10/dist-packages (from scikit-learn>=0.22->scanpy) (3.1.0)\n",
            "Requirement already satisfied: six in /usr/local/lib/python3.10/dist-packages (from patsy->scanpy) (1.16.0)\n",
            "Collecting pynndescent>=0.5 (from umap-learn>=0.3.10->scanpy)\n",
            "  Downloading pynndescent-0.5.10.tar.gz (1.1 MB)\n",
            "\u001b[2K     \u001b[90m━━━━━━━━━━━━━━━━━━━━━━━━━━━━━━━━━━━━━━━━\u001b[0m \u001b[32m1.1/1.1 MB\u001b[0m \u001b[31m37.4 MB/s\u001b[0m eta \u001b[36m0:00:00\u001b[0m\n",
            "\u001b[?25h  Preparing metadata (setup.py) ... \u001b[?25l\u001b[?25hdone\n",
            "Collecting stdlib_list (from session-info->scanpy)\n",
            "  Downloading stdlib_list-0.8.0-py3-none-any.whl (63 kB)\n",
            "\u001b[2K     \u001b[90m━━━━━━━━━━━━━━━━━━━━━━━━━━━━━━━━━━━━━━━━\u001b[0m \u001b[32m63.5/63.5 kB\u001b[0m \u001b[31m7.7 MB/s\u001b[0m eta \u001b[36m0:00:00\u001b[0m\n",
            "\u001b[?25hBuilding wheels for collected packages: umap-learn, session-info, pynndescent\n",
            "  Building wheel for umap-learn (setup.py) ... \u001b[?25l\u001b[?25hdone\n",
            "  Created wheel for umap-learn: filename=umap_learn-0.5.3-py3-none-any.whl size=82816 sha256=64d970d5da8ca1d7eb25e5a5fa89cf4d37cc3236180fc9e5dfa6d12b5c618660\n",
            "  Stored in directory: /root/.cache/pip/wheels/a0/e8/c6/a37ea663620bd5200ea1ba0907ab3c217042c1d035ef606acc\n",
            "  Building wheel for session-info (setup.py) ... \u001b[?25l\u001b[?25hdone\n",
            "  Created wheel for session-info: filename=session_info-1.0.0-py3-none-any.whl size=8026 sha256=616dcc13d087f3925f76d9e9870f5ca9da99084edd32ea0cce7942a0451ae388\n",
            "  Stored in directory: /root/.cache/pip/wheels/6a/aa/b9/eb5d4031476ec10802795b97ccf937b9bd998d68a9b268765a\n",
            "  Building wheel for pynndescent (setup.py) ... \u001b[?25l\u001b[?25hdone\n",
            "  Created wheel for pynndescent: filename=pynndescent-0.5.10-py3-none-any.whl size=55622 sha256=1ec52b00d73ec36b785f56640198a82ba6717ce5f05c21588334628a9acf4257\n",
            "  Stored in directory: /root/.cache/pip/wheels/4a/38/5d/f60a40a66a9512b7e5e83517ebc2d1b42d857be97d135f1096\n",
            "Successfully built umap-learn session-info pynndescent\n",
            "Installing collected packages: stdlib_list, session-info, pynndescent, anndata, umap-learn, scanpy\n",
            "Successfully installed anndata-0.9.1 pynndescent-0.5.10 scanpy-1.9.3 session-info-1.0.0 stdlib_list-0.8.0 umap-learn-0.5.3\n"
          ]
        }
      ]
    },
    {
      "cell_type": "code",
      "source": [
        "import h5py\n",
        "import numpy as np\n",
        "import scipy as sci\n",
        "from matplotlib import pyplot as plt\n",
        "import scanpy as sc\n",
        "import tarfile\n",
        "import os\n",
        "import anndata as ad\n",
        "import pandas as pd\n",
        "\n"
      ],
      "metadata": {
        "id": "PyaByPRKzv8j"
      },
      "execution_count": 2,
      "outputs": []
    },
    {
      "cell_type": "code",
      "source": [
        "def get_file(link):\n",
        "    file_name = os.path.basename(link)\n",
        "    !wget -O $file_name $link\n",
        "    return file_name"
      ],
      "metadata": {
        "id": "YtIQJrFmsrPk"
      },
      "execution_count": 3,
      "outputs": []
    },
    {
      "cell_type": "code",
      "source": [],
      "metadata": {
        "id": "EEn1LUGLuoU8",
        "outputId": "42820b28-e8bd-4046-e93a-af26fb5d2739",
        "colab": {
          "base_uri": "https://localhost:8080/"
        }
      },
      "execution_count": 4,
      "outputs": [
        {
          "output_type": "stream",
          "name": "stdout",
          "text": [
            "--2023-06-12 23:23:08--  https://ftp.ncbi.nlm.nih.gov/geo/series/GSE167nnn/GSE167497/suppl/GSE167497_raw_gene_bc_matrices_h5.h5\n",
            "Resolving ftp.ncbi.nlm.nih.gov (ftp.ncbi.nlm.nih.gov)... 130.14.250.13, 165.112.9.228, 2607:f220:41f:250::229, ...\n",
            "Connecting to ftp.ncbi.nlm.nih.gov (ftp.ncbi.nlm.nih.gov)|130.14.250.13|:443... connected.\n",
            "HTTP request sent, awaiting response... 200 OK\n",
            "Length: 25353333 (24M)\n",
            "Saving to: ‘GSE167497_raw_gene_bc_matrices_h5.h5’\n",
            "\n",
            "GSE167497_raw_gene_ 100%[===================>]  24.18M  25.2MB/s    in 1.0s    \n",
            "\n",
            "2023-06-12 23:23:09 (25.2 MB/s) - ‘GSE167497_raw_gene_bc_matrices_h5.h5’ saved [25353333/25353333]\n",
            "\n"
          ]
        }
      ]
    },
    {
      "cell_type": "code",
      "source": [],
      "metadata": {
        "id": "1Bn1dY4DuzYk",
        "outputId": "4efd32b3-979b-40d1-8f1b-72ac8cddf210",
        "colab": {
          "base_uri": "https://localhost:8080/"
        }
      },
      "execution_count": 5,
      "outputs": [
        {
          "output_type": "stream",
          "name": "stderr",
          "text": [
            "/usr/local/lib/python3.10/dist-packages/anndata/_core/anndata.py:1832: UserWarning: Variable names are not unique. To make them unique, call `.var_names_make_unique`.\n",
            "  utils.warn_names_duplicates(\"var\")\n"
          ]
        }
      ]
    },
    {
      "cell_type": "code",
      "source": [],
      "metadata": {
        "id": "iFmhHJ7Uhu3g"
      },
      "execution_count": 6,
      "outputs": []
    },
    {
      "cell_type": "code",
      "source": [
        "\n",
        "\n",
        "# barcode_file_name = get_file('https://ftp.ncbi.nlm.nih.gov/geo/series/GSE167nnn/GSE167497/suppl/GSE167497_barcode_summary_h5.h5')\n",
        "filtered_file_name = get_file('https://ftp.ncbi.nlm.nih.gov/geo/series/GSE167nnn/GSE167497/suppl/GSE167497_filtered_gene_bc_matrices_h5.h5')\n",
        "raw_gene_file_name = get_file('https://ftp.ncbi.nlm.nih.gov/geo/series/GSE167nnn/GSE167497/suppl/GSE167497_raw_gene_bc_matrices_h5.h5')\n"
      ],
      "metadata": {
        "id": "Y7GOyP0H9xOC",
        "outputId": "d882948a-805d-4e84-f9d1-24897d104cbe",
        "colab": {
          "base_uri": "https://localhost:8080/"
        }
      },
      "execution_count": 7,
      "outputs": [
        {
          "output_type": "stream",
          "name": "stdout",
          "text": [
            "--2023-06-12 23:23:13--  https://ftp.ncbi.nlm.nih.gov/geo/series/GSE167nnn/GSE167497/suppl/GSE167497_filtered_gene_bc_matrices_h5.h5\n",
            "Resolving ftp.ncbi.nlm.nih.gov (ftp.ncbi.nlm.nih.gov)... 130.14.250.13, 165.112.9.228, 2607:f220:41f:250::229, ...\n",
            "Connecting to ftp.ncbi.nlm.nih.gov (ftp.ncbi.nlm.nih.gov)|130.14.250.13|:443... connected.\n",
            "HTTP request sent, awaiting response... 200 OK\n",
            "Length: 12286523 (12M)\n",
            "Saving to: ‘GSE167497_filtered_gene_bc_matrices_h5.h5’\n",
            "\n",
            "GSE167497_filtered_ 100%[===================>]  11.72M  16.9MB/s    in 0.7s    \n",
            "\n",
            "2023-06-12 23:23:14 (16.9 MB/s) - ‘GSE167497_filtered_gene_bc_matrices_h5.h5’ saved [12286523/12286523]\n",
            "\n",
            "--2023-06-12 23:23:14--  https://ftp.ncbi.nlm.nih.gov/geo/series/GSE167nnn/GSE167497/suppl/GSE167497_raw_gene_bc_matrices_h5.h5\n",
            "Resolving ftp.ncbi.nlm.nih.gov (ftp.ncbi.nlm.nih.gov)... 130.14.250.13, 165.112.9.228, 2607:f220:41f:250::229, ...\n",
            "Connecting to ftp.ncbi.nlm.nih.gov (ftp.ncbi.nlm.nih.gov)|130.14.250.13|:443... connected.\n",
            "HTTP request sent, awaiting response... 200 OK\n",
            "Length: 25353333 (24M)\n",
            "Saving to: ‘GSE167497_raw_gene_bc_matrices_h5.h5’\n",
            "\n",
            "GSE167497_raw_gene_ 100%[===================>]  24.18M  24.2MB/s    in 1.0s    \n",
            "\n",
            "2023-06-12 23:23:15 (24.2 MB/s) - ‘GSE167497_raw_gene_bc_matrices_h5.h5’ saved [25353333/25353333]\n",
            "\n"
          ]
        }
      ]
    },
    {
      "cell_type": "code",
      "source": [
        "adata_filtered = sc.read_10x_h5(filtered_file_name)\n",
        "adata_filtered.var_names_make_unique()\n",
        "adata_raw = sc.read_10x_h5(raw_gene_file_name)\n",
        "adata_raw.var_names_make_unique()\n"
      ],
      "metadata": {
        "id": "fStOTmez60_g",
        "outputId": "aa41c11b-5cf4-4f47-fad6-0ba416ccdfb6",
        "colab": {
          "base_uri": "https://localhost:8080/"
        }
      },
      "execution_count": 12,
      "outputs": [
        {
          "output_type": "stream",
          "name": "stderr",
          "text": [
            "/usr/local/lib/python3.10/dist-packages/anndata/_core/anndata.py:1832: UserWarning: Variable names are not unique. To make them unique, call `.var_names_make_unique`.\n",
            "  utils.warn_names_duplicates(\"var\")\n",
            "/usr/local/lib/python3.10/dist-packages/anndata/_core/anndata.py:1832: UserWarning: Variable names are not unique. To make them unique, call `.var_names_make_unique`.\n",
            "  utils.warn_names_duplicates(\"var\")\n"
          ]
        }
      ]
    },
    {
      "cell_type": "code",
      "source": [
        "fig,ax = plt.subplots(1,2,figsize=(10,5))\n",
        "ax = ax.flatten()\n",
        "\n",
        "\n",
        "\n",
        "x_raw = adata_raw.X\n",
        "x_raw_logic = x_raw>0\n",
        "x_raw_cells_per_gene = x_raw_logic.T.sum(axis= 1)\n",
        "x_raw_genes_per_cell = x_raw_logic.sum(axis= 1)\n",
        "\n",
        "x_filt = adata_filtered.X\n",
        "x_filt_logic = x_filt>0\n",
        "x_filt_cells_per_gene = x_filt_logic.T.sum(axis= 1)\n",
        "x_filt_genes_per_cell = x_filt_logic.sum(axis= 1)\n",
        "\n",
        "n=1000\n",
        "bins = list(np.arange(-1*n,40000,n))\n",
        "count_bin_r = ax[0].hist(x_raw_cells_per_gene,bins=bins)\n",
        "count_bin_f = ax[0].hist(x_filt_cells_per_gene,count_bin_r[1],histtype='step')\n",
        "# ax[0].set_xscale('log')\n",
        "ax[0].set_yscale('log')\n",
        "ax[0].set_title('# Cell per Gene')\n",
        "\n",
        "\n",
        "bins = np.arange(-100,6500,100)\n",
        "count_bin_r = ax[1].hist(x_raw_genes_per_cell,bins=bins)\n",
        "count_bin_f = ax[1].hist(x_filt_genes_per_cell,count_bin_r[1],histtype='step')\n",
        "ax[1].set_yscale('log')\n",
        "ax[1].set_title('# Genes per the Cell')\n",
        "\n",
        "\n",
        "\n",
        "\n",
        "min_filt_pass= np.min(x_filt_genes_per_cell)\n",
        "max_filt_out = np.max(x_raw_genes_per_cell[x_raw_genes_per_cell<min_filt_pass])\n",
        "print('genes_per_cell: ',min_filt_pass,'passed. ',max_filt_out,'did not pass')\n",
        "# print()\n",
        "max_filt_pass= np.max(x_filt_cells_per_gene)\n",
        "min_filt_fail = np.min(x_raw_cells_per_gene[x_raw_cells_per_gene>max_filt_pass])\n",
        "print('cells_per_gene: ',max_filt_pass,'passed. ',min_filt_fail,'did not pass')"
      ],
      "metadata": {
        "id": "Z_G51qAaBse9",
        "outputId": "765dae93-92d5-4bc3-ca3a-375b5f139299",
        "colab": {
          "base_uri": "https://localhost:8080/",
          "height": 503
        }
      },
      "execution_count": 90,
      "outputs": [
        {
          "output_type": "stream",
          "name": "stdout",
          "text": [
            "genes_per_cell:  476 passed.  475 did not pass\n",
            "cells_per_gene:  4969 passed.  4976 did not pass\n"
          ]
        },
        {
          "output_type": "display_data",
          "data": {
            "text/plain": [
              "<Figure size 1000x500 with 2 Axes>"
            ],
            "image/png": "[encoded data removed]"
          },
          "metadata": {}
        }
      ]
    },
    {
      "cell_type": "code",
      "source": [
        "# sc.settings.verbosity = 3             # verbosity: errors (0), warnings (1), info (2), hints (3)\n",
        "# sc.logging.print_header()\n",
        "# sc.settings.set_figure_params(dpi=80, facecolor='white')\n",
        "\n",
        "\n",
        "# adata = sc.read_10x_h5(raw_gene_file_name)\n",
        "# sc.pp.filter_cells(adata, min_genes=200)\n",
        "# sc.pp.filter_cells(adata, max_genes=2400)\n",
        "# sc.pp.filter_genes(adata, min_cells=0)\n",
        "# sc.pp.filter_genes(adata, max_cells=4500)\n",
        "# display(adata)\n",
        "# adata.var['mt'] = adata.var_names.str.startswith('mt-')\n",
        "# sc.pp.calculate_qc_metrics(adata, qc_vars=['mt'], percent_top=None, log1p=False, inplace=True)\n",
        "# adata = adata[adata.obs.pct_counts_mt < 0.25, :]\n",
        "# display(adata)"
      ],
      "metadata": {
        "id": "LK99tZxxlai-"
      },
      "execution_count": 9,
      "outputs": []
    }
  ]
}