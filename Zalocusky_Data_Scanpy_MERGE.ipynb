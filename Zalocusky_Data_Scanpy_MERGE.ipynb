{
  "cells": [
    {
      "cell_type": "markdown",
      "metadata": {
        "id": "view-in-github",
        "colab_type": "text"
      },
      "source": [
        "<a href=\"https://colab.research.google.com/github/dtabuena/Workshop/blob/main/Zalocusky_Data_Scanpy_MERGE.ipynb\" target=\"_parent\"><img src=\"https://colab.research.google.com/assets/colab-badge.svg\" alt=\"Open In Colab\"/></a>"
      ]
    },
    {
      "cell_type": "code",
      "execution_count": null,
      "id": "b294428a",
      "metadata": {
        "id": "b294428a",
        "outputId": "4a409c3b-6d92-4168-c0ae-57e00a37c4a6"
      },
      "outputs": [
        {
          "name": "stdout",
          "output_type": "stream",
          "text": [
            "Requirement already satisfied: scanpy in c:\\users\\dennis.tabuena\\appdata\\local\\anaconda3\\lib\\site-packages (1.9.3)\n",
            "Requirement already satisfied: natsort in c:\\users\\dennis.tabuena\\appdata\\local\\anaconda3\\lib\\site-packages (from scanpy) (8.3.1)\n",
            "Requirement already satisfied: joblib in c:\\users\\dennis.tabuena\\appdata\\local\\anaconda3\\lib\\site-packages (from scanpy) (1.1.1)\n",
            "Requirement already satisfied: matplotlib>=3.4 in c:\\users\\dennis.tabuena\\appdata\\local\\anaconda3\\lib\\site-packages (from scanpy) (3.7.0)\n",
            "Requirement already satisfied: h5py>=3 in c:\\users\\dennis.tabuena\\appdata\\local\\anaconda3\\lib\\site-packages (from scanpy) (3.7.0)\n",
            "Requirement already satisfied: statsmodels>=0.10.0rc2 in c:\\users\\dennis.tabuena\\appdata\\local\\anaconda3\\lib\\site-packages (from scanpy) (0.13.5)\n",
            "Requirement already satisfied: networkx>=2.3 in c:\\users\\dennis.tabuena\\appdata\\local\\anaconda3\\lib\\site-packages (from scanpy) (2.8.4)\n",
            "Requirement already satisfied: session-info in c:\\users\\dennis.tabuena\\appdata\\local\\anaconda3\\lib\\site-packages (from scanpy) (1.0.0)\n",
            "Requirement already satisfied: umap-learn>=0.3.10 in c:\\users\\dennis.tabuena\\appdata\\local\\anaconda3\\lib\\site-packages (from scanpy) (0.5.3)\n",
            "Requirement already satisfied: packaging in c:\\users\\dennis.tabuena\\appdata\\local\\anaconda3\\lib\\site-packages (from scanpy) (22.0)\n",
            "Requirement already satisfied: pandas>=1.0 in c:\\users\\dennis.tabuena\\appdata\\local\\anaconda3\\lib\\site-packages (from scanpy) (1.5.3)\n",
            "Requirement already satisfied: numpy>=1.17.0 in c:\\users\\dennis.tabuena\\appdata\\local\\anaconda3\\lib\\site-packages (from scanpy) (1.23.5)\n",
            "Requirement already satisfied: tqdm in c:\\users\\dennis.tabuena\\appdata\\local\\anaconda3\\lib\\site-packages (from scanpy) (4.64.1)\n",
            "Requirement already satisfied: patsy in c:\\users\\dennis.tabuena\\appdata\\local\\anaconda3\\lib\\site-packages (from scanpy) (0.5.3)\n",
            "Requirement already satisfied: scipy>=1.4 in c:\\users\\dennis.tabuena\\appdata\\local\\anaconda3\\lib\\site-packages (from scanpy) (1.10.0)\n",
            "Requirement already satisfied: seaborn in c:\\users\\dennis.tabuena\\appdata\\local\\anaconda3\\lib\\site-packages (from scanpy) (0.12.2)\n",
            "Requirement already satisfied: numba>=0.41.0 in c:\\users\\dennis.tabuena\\appdata\\local\\anaconda3\\lib\\site-packages (from scanpy) (0.56.4)\n",
            "Requirement already satisfied: scikit-learn>=0.22 in c:\\users\\dennis.tabuena\\appdata\\local\\anaconda3\\lib\\site-packages (from scanpy) (1.2.1)\n",
            "Requirement already satisfied: anndata>=0.7.4 in c:\\users\\dennis.tabuena\\appdata\\local\\anaconda3\\lib\\site-packages (from scanpy) (0.9.1)\n",
            "Requirement already satisfied: kiwisolver>=1.0.1 in c:\\users\\dennis.tabuena\\appdata\\local\\anaconda3\\lib\\site-packages (from matplotlib>=3.4->scanpy) (1.4.4)\n",
            "Requirement already satisfied: python-dateutil>=2.7 in c:\\users\\dennis.tabuena\\appdata\\local\\anaconda3\\lib\\site-packages (from matplotlib>=3.4->scanpy) (2.8.2)\n",
            "Requirement already satisfied: fonttools>=4.22.0 in c:\\users\\dennis.tabuena\\appdata\\local\\anaconda3\\lib\\site-packages (from matplotlib>=3.4->scanpy) (4.25.0)\n",
            "Requirement already satisfied: cycler>=0.10 in c:\\users\\dennis.tabuena\\appdata\\local\\anaconda3\\lib\\site-packages (from matplotlib>=3.4->scanpy) (0.11.0)\n",
            "Requirement already satisfied: pyparsing>=2.3.1 in c:\\users\\dennis.tabuena\\appdata\\local\\anaconda3\\lib\\site-packages (from matplotlib>=3.4->scanpy) (3.0.9)\n",
            "Requirement already satisfied: contourpy>=1.0.1 in c:\\users\\dennis.tabuena\\appdata\\local\\anaconda3\\lib\\site-packages (from matplotlib>=3.4->scanpy) (1.0.5)\n",
            "Requirement already satisfied: pillow>=6.2.0 in c:\\users\\dennis.tabuena\\appdata\\local\\anaconda3\\lib\\site-packages (from matplotlib>=3.4->scanpy) (9.4.0)\n",
            "Requirement already satisfied: llvmlite<0.40,>=0.39.0dev0 in c:\\users\\dennis.tabuena\\appdata\\local\\anaconda3\\lib\\site-packages (from numba>=0.41.0->scanpy) (0.39.1)\n",
            "Requirement already satisfied: setuptools in c:\\users\\dennis.tabuena\\appdata\\local\\anaconda3\\lib\\site-packages (from numba>=0.41.0->scanpy) (65.6.3)\n",
            "Requirement already satisfied: pytz>=2020.1 in c:\\users\\dennis.tabuena\\appdata\\local\\anaconda3\\lib\\site-packages (from pandas>=1.0->scanpy) (2022.7)\n",
            "Requirement already satisfied: threadpoolctl>=2.0.0 in c:\\users\\dennis.tabuena\\appdata\\local\\anaconda3\\lib\\site-packages (from scikit-learn>=0.22->scanpy) (2.2.0)\n",
            "Requirement already satisfied: six in c:\\users\\dennis.tabuena\\appdata\\local\\anaconda3\\lib\\site-packages (from patsy->scanpy) (1.16.0)\n",
            "Requirement already satisfied: pynndescent>=0.5 in c:\\users\\dennis.tabuena\\appdata\\local\\anaconda3\\lib\\site-packages (from umap-learn>=0.3.10->scanpy) (0.5.10)\n",
            "Requirement already satisfied: stdlib-list in c:\\users\\dennis.tabuena\\appdata\\local\\anaconda3\\lib\\site-packages (from session-info->scanpy) (0.8.0)\n",
            "Requirement already satisfied: colorama in c:\\users\\dennis.tabuena\\appdata\\local\\anaconda3\\lib\\site-packages (from tqdm->scanpy) (0.4.6)\n"
          ]
        }
      ],
      "source": [
        "!pip install scanpy"
      ]
    },
    {
      "cell_type": "code",
      "execution_count": null,
      "id": "16d3f9dc",
      "metadata": {
        "id": "16d3f9dc",
        "outputId": "14cd50ba-9e94-4d3c-d76a-d583d61576e7"
      },
      "outputs": [
        {
          "name": "stdout",
          "output_type": "stream",
          "text": [
            "scanpy==1.9.3 anndata==0.9.1 umap==0.5.3 numpy==1.23.5 scipy==1.10.0 pandas==1.5.3 scikit-learn==1.2.1 statsmodels==0.13.5 pynndescent==0.5.10\n"
          ]
        }
      ],
      "source": [
        "import h5py\n",
        "import numpy as np\n",
        "import scipy as sci\n",
        "from matplotlib import pyplot as plt\n",
        "import scanpy as sc\n",
        "import tarfile\n",
        "import os\n",
        "import anndata as ad\n",
        "import pandas as pd\n",
        "\n",
        "\n",
        "sc.settings.verbosity = 3             # verbosity: errors (0), warnings (1), info (2), hints (3)\n",
        "sc.logging.print_header()\n",
        "sc.settings.set_figure_params(dpi=80, facecolor='white')"
      ]
    },
    {
      "cell_type": "code",
      "execution_count": null,
      "id": "4514aef3",
      "metadata": {
        "id": "4514aef3"
      },
      "outputs": [],
      "source": [
        "def trim_key(k):\n",
        "    k = k.replace('_raw_gene_bc_matrices_h5.h5',\"\")\n",
        "    k = k.replace('_raw_gene_bc_matrics_h5.h5',\"\")\n",
        "    k =k.replace(k.split(\"_\")[0],\"\")\n",
        "    return k"
      ]
    },
    {
      "cell_type": "code",
      "execution_count": null,
      "id": "02967b2e",
      "metadata": {
        "id": "02967b2e",
        "outputId": "d63c8a83-b145-4e2b-9ccb-9e6a5c5d3a9b"
      },
      "outputs": [
        {
          "name": "stdout",
          "output_type": "stream",
          "text": [
            "GSM5106143_02_E4_14_H0_raw_gene_bc_matrices_h5.h5\n",
            "GSM5106144_03_E3_10_H10_raw_gene_bc_matrics_h5.h5\n",
            "GSM5106145_04_E4_10_H11_raw_gene_bc_matrices_h5.h5\n",
            "GSM5106146_05_E3_14_H12_raw_gene_bc_matrices_h5.h5\n",
            "GSM5106147_06_E3_5_A01_raw_gene_bc_matrices_h5.h5\n",
            "GSM5106148_07_E4_5_A02_raw_gene_bc_matrices_h5.h5\n",
            "GSM5106149_08_E3_10_A03_raw_gene_bc_matrices_h5.h5\n",
            "GSM5106150_09_E4_10_A04_raw_gene_bc_matrices_h5.h5\n",
            "GSM5106151_10_E3_10_A05_raw_gene_bc_matrices_h5.h5\n",
            "GSM5106152_11_E4_10_A06_raw_gene_bc_matrices_h5.h5\n",
            "GSM5106153_12_E3_20_A07_raw_gene_bc_matrices_h5.h5\n",
            "GSM5106154_13_E4_20_A08_raw_gene_bc_matrices_h5.h5\n",
            "GSM5106155_14_E3_20_A09_raw_gene_bc_matrices_h5.h5\n",
            "GSM5106156_15_E4_20_A10_raw_gene_bc_matrices_h5.h5\n",
            "GSM5106157_16_E3_15_A11_raw_gene_bc_matrices_h5.h5\n",
            "GSM5106158_17_E4_15_A12_raw_gene_bc_matrices_h5.h5\n",
            "GSM5106159_18_E3_15_B01_raw_gene_bc_matrices_h5.h5\n",
            "GSM5106160_19_E4_15_B02_raw_gene_bc_matrices_h5.h5\n",
            "GSM5106161_20_E3_5_B03_raw_gene_bc_matrices_h5.h5\n",
            "GSM5106162_21_E4_5_B04_raw_gene_bc_matrices_h5.h5\n",
            "GSM5106163_22_E3_5_B05_raw_gene_bc_matrices_h5.h5\n",
            "GSM5106164_23_E4_5_B06_raw_gene_bc_matrices_h5.h5\n",
            "GSM5106165_24_E3_20_B07_raw_gene_bc_matrices_h5.h5\n",
            "GSM5106166_25_E4_20_B08_raw_gene_bc_matrices_h5.h5\n",
            "GSM5106167_26_E3_20_C01_raw_gene_bc_matrices_h5.h5\n",
            "GSM5106168_27_E4_20_C02_raw_gene_bc_matrices_h5.h5\n",
            "GSM5106169_28_E3_5_C03_raw_gene_bc_matrices_h5.h5\n",
            "GSM5106170_29_E4_5_C04_raw_gene_bc_matrices_h5.h5\n",
            "GSM5106171_30_E3_10_C05_raw_gene_bc_matrices_h5.h5\n",
            "GSM5106172_31_E4_10_C06_raw_gene_bc_matrices_h5.h5\n",
            "GSM5106173_32_E3_15_C07_raw_gene_bc_matrices_h5.h5\n",
            "GSM5106174_33_E4_15_C08_raw_gene_bc_matrices_h5.h5\n",
            "GSM5106175_YH_KZ03_01_raw_gene_bc_matrices_h5.h5\n",
            "GSM5106176_YH_KZ03_03_raw_gene_bc_matrices_h5.h5\n"
          ]
        }
      ],
      "source": [
        "path = 'C:/Users/dennis.tabuena/Downloads/GSE167497_RAW (2).tar'\n",
        "my_tar = tarfile.open(path)\n",
        "my_tar.extractall('./my_folder') # specify which folder to extract to\n",
        "my_tar.close()\n",
        "for f in os.listdir('./my_folder'):\n",
        "    print(f)"
      ]
    },
    {
      "cell_type": "code",
      "execution_count": null,
      "id": "f115f8e4",
      "metadata": {
        "scrolled": true,
        "id": "f115f8e4",
        "outputId": "f4e4a707-ae4a-4a64-9757-2bd9ea7d552e"
      },
      "outputs": [
        {
          "name": "stderr",
          "output_type": "stream",
          "text": [
            "C:\\Users\\dennis.tabuena\\AppData\\Local\\anaconda3\\lib\\site-packages\\anndata\\_core\\anndata.py:1832: UserWarning: Variable names are not unique. To make them unique, call `.var_names_make_unique`.\n",
            "  utils.warn_names_duplicates(\"var\")\n",
            "C:\\Users\\dennis.tabuena\\AppData\\Local\\anaconda3\\lib\\site-packages\\anndata\\_core\\anndata.py:1832: UserWarning: Variable names are not unique. To make them unique, call `.var_names_make_unique`.\n",
            "  utils.warn_names_duplicates(\"var\")\n",
            "C:\\Users\\dennis.tabuena\\AppData\\Local\\anaconda3\\lib\\site-packages\\anndata\\_core\\anndata.py:1832: UserWarning: Variable names are not unique. To make them unique, call `.var_names_make_unique`.\n",
            "  utils.warn_names_duplicates(\"var\")\n",
            "C:\\Users\\dennis.tabuena\\AppData\\Local\\anaconda3\\lib\\site-packages\\anndata\\_core\\anndata.py:1832: UserWarning: Variable names are not unique. To make them unique, call `.var_names_make_unique`.\n",
            "  utils.warn_names_duplicates(\"var\")\n",
            "C:\\Users\\dennis.tabuena\\AppData\\Local\\anaconda3\\lib\\site-packages\\anndata\\_core\\anndata.py:1832: UserWarning: Variable names are not unique. To make them unique, call `.var_names_make_unique`.\n",
            "  utils.warn_names_duplicates(\"var\")\n",
            "C:\\Users\\dennis.tabuena\\AppData\\Local\\anaconda3\\lib\\site-packages\\anndata\\_core\\anndata.py:1832: UserWarning: Variable names are not unique. To make them unique, call `.var_names_make_unique`.\n",
            "  utils.warn_names_duplicates(\"var\")\n",
            "C:\\Users\\dennis.tabuena\\AppData\\Local\\anaconda3\\lib\\site-packages\\anndata\\_core\\anndata.py:1832: UserWarning: Variable names are not unique. To make them unique, call `.var_names_make_unique`.\n",
            "  utils.warn_names_duplicates(\"var\")\n",
            "C:\\Users\\dennis.tabuena\\AppData\\Local\\anaconda3\\lib\\site-packages\\anndata\\_core\\anndata.py:1832: UserWarning: Variable names are not unique. To make them unique, call `.var_names_make_unique`.\n",
            "  utils.warn_names_duplicates(\"var\")\n",
            "C:\\Users\\dennis.tabuena\\AppData\\Local\\anaconda3\\lib\\site-packages\\anndata\\_core\\anndata.py:1832: UserWarning: Variable names are not unique. To make them unique, call `.var_names_make_unique`.\n",
            "  utils.warn_names_duplicates(\"var\")\n",
            "C:\\Users\\dennis.tabuena\\AppData\\Local\\anaconda3\\lib\\site-packages\\anndata\\_core\\anndata.py:1832: UserWarning: Variable names are not unique. To make them unique, call `.var_names_make_unique`.\n",
            "  utils.warn_names_duplicates(\"var\")\n",
            "C:\\Users\\dennis.tabuena\\AppData\\Local\\anaconda3\\lib\\site-packages\\anndata\\_core\\anndata.py:1832: UserWarning: Variable names are not unique. To make them unique, call `.var_names_make_unique`.\n",
            "  utils.warn_names_duplicates(\"var\")\n",
            "C:\\Users\\dennis.tabuena\\AppData\\Local\\anaconda3\\lib\\site-packages\\anndata\\_core\\anndata.py:1832: UserWarning: Variable names are not unique. To make them unique, call `.var_names_make_unique`.\n",
            "  utils.warn_names_duplicates(\"var\")\n",
            "C:\\Users\\dennis.tabuena\\AppData\\Local\\anaconda3\\lib\\site-packages\\anndata\\_core\\anndata.py:1832: UserWarning: Variable names are not unique. To make them unique, call `.var_names_make_unique`.\n",
            "  utils.warn_names_duplicates(\"var\")\n",
            "C:\\Users\\dennis.tabuena\\AppData\\Local\\anaconda3\\lib\\site-packages\\anndata\\_core\\anndata.py:1832: UserWarning: Variable names are not unique. To make them unique, call `.var_names_make_unique`.\n",
            "  utils.warn_names_duplicates(\"var\")\n",
            "C:\\Users\\dennis.tabuena\\AppData\\Local\\anaconda3\\lib\\site-packages\\anndata\\_core\\anndata.py:1832: UserWarning: Variable names are not unique. To make them unique, call `.var_names_make_unique`.\n",
            "  utils.warn_names_duplicates(\"var\")\n",
            "C:\\Users\\dennis.tabuena\\AppData\\Local\\anaconda3\\lib\\site-packages\\anndata\\_core\\anndata.py:1832: UserWarning: Variable names are not unique. To make them unique, call `.var_names_make_unique`.\n",
            "  utils.warn_names_duplicates(\"var\")\n",
            "C:\\Users\\dennis.tabuena\\AppData\\Local\\anaconda3\\lib\\site-packages\\anndata\\_core\\anndata.py:1832: UserWarning: Variable names are not unique. To make them unique, call `.var_names_make_unique`.\n",
            "  utils.warn_names_duplicates(\"var\")\n",
            "C:\\Users\\dennis.tabuena\\AppData\\Local\\anaconda3\\lib\\site-packages\\anndata\\_core\\anndata.py:1832: UserWarning: Variable names are not unique. To make them unique, call `.var_names_make_unique`.\n",
            "  utils.warn_names_duplicates(\"var\")\n",
            "C:\\Users\\dennis.tabuena\\AppData\\Local\\anaconda3\\lib\\site-packages\\anndata\\_core\\anndata.py:1832: UserWarning: Variable names are not unique. To make them unique, call `.var_names_make_unique`.\n",
            "  utils.warn_names_duplicates(\"var\")\n",
            "C:\\Users\\dennis.tabuena\\AppData\\Local\\anaconda3\\lib\\site-packages\\anndata\\_core\\anndata.py:1832: UserWarning: Variable names are not unique. To make them unique, call `.var_names_make_unique`.\n",
            "  utils.warn_names_duplicates(\"var\")\n",
            "C:\\Users\\dennis.tabuena\\AppData\\Local\\anaconda3\\lib\\site-packages\\anndata\\_core\\anndata.py:1832: UserWarning: Variable names are not unique. To make them unique, call `.var_names_make_unique`.\n",
            "  utils.warn_names_duplicates(\"var\")\n",
            "C:\\Users\\dennis.tabuena\\AppData\\Local\\anaconda3\\lib\\site-packages\\anndata\\_core\\anndata.py:1832: UserWarning: Variable names are not unique. To make them unique, call `.var_names_make_unique`.\n",
            "  utils.warn_names_duplicates(\"var\")\n",
            "C:\\Users\\dennis.tabuena\\AppData\\Local\\anaconda3\\lib\\site-packages\\anndata\\_core\\anndata.py:1832: UserWarning: Variable names are not unique. To make them unique, call `.var_names_make_unique`.\n",
            "  utils.warn_names_duplicates(\"var\")\n",
            "C:\\Users\\dennis.tabuena\\AppData\\Local\\anaconda3\\lib\\site-packages\\anndata\\_core\\anndata.py:1832: UserWarning: Variable names are not unique. To make them unique, call `.var_names_make_unique`.\n",
            "  utils.warn_names_duplicates(\"var\")\n",
            "C:\\Users\\dennis.tabuena\\AppData\\Local\\anaconda3\\lib\\site-packages\\anndata\\_core\\anndata.py:1832: UserWarning: Variable names are not unique. To make them unique, call `.var_names_make_unique`.\n",
            "  utils.warn_names_duplicates(\"var\")\n",
            "C:\\Users\\dennis.tabuena\\AppData\\Local\\anaconda3\\lib\\site-packages\\anndata\\_core\\anndata.py:1832: UserWarning: Variable names are not unique. To make them unique, call `.var_names_make_unique`.\n",
            "  utils.warn_names_duplicates(\"var\")\n",
            "C:\\Users\\dennis.tabuena\\AppData\\Local\\anaconda3\\lib\\site-packages\\anndata\\_core\\anndata.py:1832: UserWarning: Variable names are not unique. To make them unique, call `.var_names_make_unique`.\n",
            "  utils.warn_names_duplicates(\"var\")\n",
            "C:\\Users\\dennis.tabuena\\AppData\\Local\\anaconda3\\lib\\site-packages\\anndata\\_core\\anndata.py:1832: UserWarning: Variable names are not unique. To make them unique, call `.var_names_make_unique`.\n",
            "  utils.warn_names_duplicates(\"var\")\n",
            "C:\\Users\\dennis.tabuena\\AppData\\Local\\anaconda3\\lib\\site-packages\\anndata\\_core\\anndata.py:1832: UserWarning: Variable names are not unique. To make them unique, call `.var_names_make_unique`.\n",
            "  utils.warn_names_duplicates(\"var\")\n",
            "C:\\Users\\dennis.tabuena\\AppData\\Local\\anaconda3\\lib\\site-packages\\anndata\\_core\\anndata.py:1832: UserWarning: Variable names are not unique. To make them unique, call `.var_names_make_unique`.\n",
            "  utils.warn_names_duplicates(\"var\")\n",
            "C:\\Users\\dennis.tabuena\\AppData\\Local\\anaconda3\\lib\\site-packages\\anndata\\_core\\anndata.py:1832: UserWarning: Variable names are not unique. To make them unique, call `.var_names_make_unique`.\n",
            "  utils.warn_names_duplicates(\"var\")\n",
            "C:\\Users\\dennis.tabuena\\AppData\\Local\\anaconda3\\lib\\site-packages\\anndata\\_core\\anndata.py:1832: UserWarning: Variable names are not unique. To make them unique, call `.var_names_make_unique`.\n",
            "  utils.warn_names_duplicates(\"var\")\n"
          ]
        }
      ],
      "source": [
        "adata_dict = {}\n",
        "for f in os.listdir('./my_folder'):\n",
        "    if 'YH' not in f:\n",
        "        a = sc.read_10x_h5('./my_folder/'+f)\n",
        "        a.var_names_make_unique()\n",
        "        adata_dict[trim_key(f)] = a"
      ]
    },
    {
      "cell_type": "code",
      "execution_count": null,
      "id": "bb59f3db",
      "metadata": {
        "id": "bb59f3db",
        "outputId": "02d9ac3a-fff4-4f12-c790-1693ec48ae98"
      },
      "outputs": [
        {
          "data": {
            "text/html": [
              "<div>\n",
              "<style scoped>\n",
              "    .dataframe tbody tr th:only-of-type {\n",
              "        vertical-align: middle;\n",
              "    }\n",
              "\n",
              "    .dataframe tbody tr th {\n",
              "        vertical-align: top;\n",
              "    }\n",
              "\n",
              "    .dataframe thead th {\n",
              "        text-align: right;\n",
              "    }\n",
              "</style>\n",
              "<table border=\"1\" class=\"dataframe\">\n",
              "  <thead>\n",
              "    <tr style=\"text-align: right;\">\n",
              "      <th></th>\n",
              "      <th>Sample</th>\n",
              "    </tr>\n",
              "  </thead>\n",
              "  <tbody>\n",
              "    <tr>\n",
              "      <th>AAACCTGAGAAACCAT-1__02_E4_14_H0</th>\n",
              "      <td>_02_E4_14_H0</td>\n",
              "    </tr>\n",
              "    <tr>\n",
              "      <th>AAACCTGAGAAACCGC-1__02_E4_14_H0</th>\n",
              "      <td>_02_E4_14_H0</td>\n",
              "    </tr>\n",
              "    <tr>\n",
              "      <th>AAACCTGAGAAACCTA-1__02_E4_14_H0</th>\n",
              "      <td>_02_E4_14_H0</td>\n",
              "    </tr>\n",
              "    <tr>\n",
              "      <th>AAACCTGAGAAACGAG-1__02_E4_14_H0</th>\n",
              "      <td>_02_E4_14_H0</td>\n",
              "    </tr>\n",
              "    <tr>\n",
              "      <th>AAACCTGAGAAACGCC-1__02_E4_14_H0</th>\n",
              "      <td>_02_E4_14_H0</td>\n",
              "    </tr>\n",
              "  </tbody>\n",
              "</table>\n",
              "</div>"
            ],
            "text/plain": [
              "                                       Sample\n",
              "AAACCTGAGAAACCAT-1__02_E4_14_H0  _02_E4_14_H0\n",
              "AAACCTGAGAAACCGC-1__02_E4_14_H0  _02_E4_14_H0\n",
              "AAACCTGAGAAACCTA-1__02_E4_14_H0  _02_E4_14_H0\n",
              "AAACCTGAGAAACGAG-1__02_E4_14_H0  _02_E4_14_H0\n",
              "AAACCTGAGAAACGCC-1__02_E4_14_H0  _02_E4_14_H0"
            ]
          },
          "metadata": {},
          "output_type": "display_data"
        }
      ],
      "source": [
        "adata = ad.concat(adata_dict,axis = 0,label=\"Sample\",index_unique=\"_\")\n",
        "display(adata.obs.head())\n"
      ]
    },
    {
      "cell_type": "code",
      "execution_count": null,
      "id": "3aa24fb9",
      "metadata": {
        "id": "3aa24fb9"
      },
      "outputs": [],
      "source": []
    },
    {
      "cell_type": "code",
      "execution_count": null,
      "id": "b0bfc7dd",
      "metadata": {
        "id": "b0bfc7dd",
        "outputId": "f06ea925-bd14-4a48-c152-e92226861ed8"
      },
      "outputs": [
        {
          "data": {
            "text/plain": [
              "View of AnnData object with n_obs × n_vars = 14297602 × 27998\n",
              "    obs: 'Sample', 'n_genes_by_counts', 'total_counts', 'total_counts_mt', 'pct_counts_mt'\n",
              "    var: 'mt', 'n_cells_by_counts', 'mean_counts', 'pct_dropout_by_counts', 'total_counts'"
            ]
          },
          "metadata": {},
          "output_type": "display_data"
        },
        {
          "name": "stdout",
          "output_type": "stream",
          "text": [
            "filtered out 14159293 cells that have less than 475 genes expressed\n"
          ]
        },
        {
          "name": "stderr",
          "output_type": "stream",
          "text": [
            "C:\\Users\\dennis.tabuena\\AppData\\Local\\anaconda3\\lib\\site-packages\\scanpy\\preprocessing\\_simple.py:140: ImplicitModificationWarning: Trying to modify attribute `.obs` of view, initializing view as actual.\n",
            "  adata.obs['n_genes'] = number\n"
          ]
        },
        {
          "name": "stdout",
          "output_type": "stream",
          "text": [
            "filtered out 168 cells that have more than 4000 genes expressed\n",
            "filtered out 4470 genes that are detected in less than 1 cells\n"
          ]
        },
        {
          "data": {
            "text/plain": [
              "AnnData object with n_obs × n_vars = 138141 × 23528\n",
              "    obs: 'Sample', 'n_genes_by_counts', 'total_counts', 'total_counts_mt', 'pct_counts_mt', 'n_genes'\n",
              "    var: 'mt', 'n_cells_by_counts', 'mean_counts', 'pct_dropout_by_counts', 'total_counts', 'n_cells'"
            ]
          },
          "metadata": {},
          "output_type": "display_data"
        }
      ],
      "source": [
        "adata_filt = adata.copy()\n",
        "\n",
        "adata_filt.var['mt'] = adata_filt.var_names.str.startswith('mt-')\n",
        "sc.pp.calculate_qc_metrics(adata_filt, qc_vars=['mt'], percent_top=None, log1p=False, inplace=True)\n",
        "adata_filt = adata_filt[adata_filt.obs.pct_counts_mt < 0.25, :]\n",
        "sc.pp.filter_cells(adata_filt, min_genes=475)\n",
        "sc.pp.filter_cells(adata_filt, max_genes=4000)\n",
        "sc.pp.filter_genes(adata_filt, min_cells=1)\n",
        "sc.pp.filter_genes(adata_filt, max_cells=np.inf)\n",
        "display(adata_filt)\n"
      ]
    },
    {
      "cell_type": "code",
      "execution_count": null,
      "id": "316b6a00",
      "metadata": {
        "id": "316b6a00"
      },
      "outputs": [],
      "source": []
    },
    {
      "cell_type": "code",
      "execution_count": null,
      "id": "64fabd42",
      "metadata": {
        "id": "64fabd42"
      },
      "outputs": [],
      "source": []
    }
  ],
  "metadata": {
    "kernelspec": {
      "display_name": "Python 3 (ipykernel)",
      "language": "python",
      "name": "python3"
    },
    "language_info": {
      "codemirror_mode": {
        "name": "ipython",
        "version": 3
      },
      "file_extension": ".py",
      "mimetype": "text/x-python",
      "name": "python",
      "nbconvert_exporter": "python",
      "pygments_lexer": "ipython3",
      "version": "3.10.9"
    },
    "colab": {
      "provenance": [],
      "include_colab_link": true
    }
  },
  "nbformat": 4,
  "nbformat_minor": 5
}