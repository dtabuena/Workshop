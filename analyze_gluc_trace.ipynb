{
  "nbformat": 4,
  "nbformat_minor": 0,
  "metadata": {
    "colab": {
      "provenance": [],
      "authorship_tag": "ABX9TyMKVKsZKwcFLcn4hSVRthSt",
      "include_colab_link": true
    },
    "kernelspec": {
      "name": "python3",
      "display_name": "Python 3"
    },
    "language_info": {
      "name": "python"
    }
  },
  "cells": [
    {
      "cell_type": "markdown",
      "metadata": {
        "id": "view-in-github",
        "colab_type": "text"
      },
      "source": [
        "<a href=\"https://colab.research.google.com/github/dtabuena/Workshop/blob/main/analyze_gluc_trace.ipynb\" target=\"_parent\"><img src=\"https://colab.research.google.com/assets/colab-badge.svg\" alt=\"Open In Colab\"/></a>"
      ]
    },
    {
      "cell_type": "code",
      "source": [
        "!pip install openpyxl\n",
        "!pip install XlsxWriter\n",
        "# !pip install pingouin\n",
        "# !pip install CMH\n",
        "# !pip install svgutils\n"
      ],
      "metadata": {
        "colab": {
          "base_uri": "https://localhost:8080/"
        },
        "id": "nWbdM-LGwt8E",
        "outputId": "21286be5-edbe-4891-f634-db1b77015e1d"
      },
      "execution_count": 9,
      "outputs": [
        {
          "output_type": "stream",
          "name": "stdout",
          "text": [
            "Looking in indexes: https://pypi.org/simple, https://us-python.pkg.dev/colab-wheels/public/simple/\n",
            "Requirement already satisfied: openpyxl in /usr/local/lib/python3.10/dist-packages (3.0.10)\n",
            "Requirement already satisfied: et-xmlfile in /usr/local/lib/python3.10/dist-packages (from openpyxl) (1.1.0)\n",
            "Looking in indexes: https://pypi.org/simple, https://us-python.pkg.dev/colab-wheels/public/simple/\n",
            "Collecting XlsxWriter\n",
            "  Downloading XlsxWriter-3.1.1-py3-none-any.whl (152 kB)\n",
            "\u001b[2K     \u001b[90m━━━━━━━━━━━━━━━━━━━━━━━━━━━━━━━━━━━━━━━\u001b[0m \u001b[32m152.9/152.9 kB\u001b[0m \u001b[31m3.9 MB/s\u001b[0m eta \u001b[36m0:00:00\u001b[0m\n",
            "\u001b[?25hInstalling collected packages: XlsxWriter\n",
            "Successfully installed XlsxWriter-3.1.1\n",
            "Looking in indexes: https://pypi.org/simple, https://us-python.pkg.dev/colab-wheels/public/simple/\n",
            "Collecting pingouin\n",
            "  Downloading pingouin-0.5.3-py3-none-any.whl (198 kB)\n",
            "\u001b[2K     \u001b[90m━━━━━━━━━━━━━━━━━━━━━━━━━━━━━━━━━━━━━━━\u001b[0m \u001b[32m198.6/198.6 kB\u001b[0m \u001b[31m4.8 MB/s\u001b[0m eta \u001b[36m0:00:00\u001b[0m\n",
            "\u001b[?25hRequirement already satisfied: numpy>=1.19 in /usr/local/lib/python3.10/dist-packages (from pingouin) (1.22.4)\n",
            "Requirement already satisfied: scipy>=1.7 in /usr/local/lib/python3.10/dist-packages (from pingouin) (1.10.1)\n",
            "Requirement already satisfied: pandas>=1.0 in /usr/local/lib/python3.10/dist-packages (from pingouin) (1.5.3)\n",
            "Requirement already satisfied: matplotlib>=3.0.2 in /usr/local/lib/python3.10/dist-packages (from pingouin) (3.7.1)\n",
            "Requirement already satisfied: seaborn>=0.11 in /usr/local/lib/python3.10/dist-packages (from pingouin) (0.12.2)\n",
            "Requirement already satisfied: statsmodels>=0.13 in /usr/local/lib/python3.10/dist-packages (from pingouin) (0.13.5)\n",
            "Requirement already satisfied: scikit-learn in /usr/local/lib/python3.10/dist-packages (from pingouin) (1.2.2)\n",
            "Collecting pandas-flavor>=0.2.0 (from pingouin)\n",
            "  Downloading pandas_flavor-0.5.0-py3-none-any.whl (7.1 kB)\n",
            "Collecting outdated (from pingouin)\n",
            "  Downloading outdated-0.2.2-py2.py3-none-any.whl (7.5 kB)\n",
            "Requirement already satisfied: tabulate in /usr/local/lib/python3.10/dist-packages (from pingouin) (0.8.10)\n",
            "Requirement already satisfied: contourpy>=1.0.1 in /usr/local/lib/python3.10/dist-packages (from matplotlib>=3.0.2->pingouin) (1.0.7)\n",
            "Requirement already satisfied: cycler>=0.10 in /usr/local/lib/python3.10/dist-packages (from matplotlib>=3.0.2->pingouin) (0.11.0)\n",
            "Requirement already satisfied: fonttools>=4.22.0 in /usr/local/lib/python3.10/dist-packages (from matplotlib>=3.0.2->pingouin) (4.39.3)\n",
            "Requirement already satisfied: kiwisolver>=1.0.1 in /usr/local/lib/python3.10/dist-packages (from matplotlib>=3.0.2->pingouin) (1.4.4)\n",
            "Requirement already satisfied: packaging>=20.0 in /usr/local/lib/python3.10/dist-packages (from matplotlib>=3.0.2->pingouin) (23.1)\n",
            "Requirement already satisfied: pillow>=6.2.0 in /usr/local/lib/python3.10/dist-packages (from matplotlib>=3.0.2->pingouin) (8.4.0)\n",
            "Requirement already satisfied: pyparsing>=2.3.1 in /usr/local/lib/python3.10/dist-packages (from matplotlib>=3.0.2->pingouin) (3.0.9)\n",
            "Requirement already satisfied: python-dateutil>=2.7 in /usr/local/lib/python3.10/dist-packages (from matplotlib>=3.0.2->pingouin) (2.8.2)\n",
            "Requirement already satisfied: pytz>=2020.1 in /usr/local/lib/python3.10/dist-packages (from pandas>=1.0->pingouin) (2022.7.1)\n",
            "Requirement already satisfied: xarray in /usr/local/lib/python3.10/dist-packages (from pandas-flavor>=0.2.0->pingouin) (2022.12.0)\n",
            "Requirement already satisfied: lazy-loader>=0.1 in /usr/local/lib/python3.10/dist-packages (from pandas-flavor>=0.2.0->pingouin) (0.2)\n",
            "Requirement already satisfied: patsy>=0.5.2 in /usr/local/lib/python3.10/dist-packages (from statsmodels>=0.13->pingouin) (0.5.3)\n",
            "Requirement already satisfied: setuptools>=44 in /usr/local/lib/python3.10/dist-packages (from outdated->pingouin) (67.7.2)\n",
            "Collecting littleutils (from outdated->pingouin)\n",
            "  Downloading littleutils-0.2.2.tar.gz (6.6 kB)\n",
            "  Preparing metadata (setup.py) ... \u001b[?25l\u001b[?25hdone\n",
            "Requirement already satisfied: requests in /usr/local/lib/python3.10/dist-packages (from outdated->pingouin) (2.27.1)\n",
            "Requirement already satisfied: joblib>=1.1.1 in /usr/local/lib/python3.10/dist-packages (from scikit-learn->pingouin) (1.2.0)\n",
            "Requirement already satisfied: threadpoolctl>=2.0.0 in /usr/local/lib/python3.10/dist-packages (from scikit-learn->pingouin) (3.1.0)\n",
            "Requirement already satisfied: six in /usr/local/lib/python3.10/dist-packages (from patsy>=0.5.2->statsmodels>=0.13->pingouin) (1.16.0)\n",
            "Requirement already satisfied: urllib3<1.27,>=1.21.1 in /usr/local/lib/python3.10/dist-packages (from requests->outdated->pingouin) (1.26.15)\n",
            "Requirement already satisfied: certifi>=2017.4.17 in /usr/local/lib/python3.10/dist-packages (from requests->outdated->pingouin) (2022.12.7)\n",
            "Requirement already satisfied: charset-normalizer~=2.0.0 in /usr/local/lib/python3.10/dist-packages (from requests->outdated->pingouin) (2.0.12)\n",
            "Requirement already satisfied: idna<4,>=2.5 in /usr/local/lib/python3.10/dist-packages (from requests->outdated->pingouin) (3.4)\n",
            "Building wheels for collected packages: littleutils\n",
            "  Building wheel for littleutils (setup.py) ... \u001b[?25l\u001b[?25hdone\n",
            "  Created wheel for littleutils: filename=littleutils-0.2.2-py3-none-any.whl size=7029 sha256=778f9994360f9ba3d8385f5c4792c3fd798d0549b0b2b5f0805c5f2abe466016\n",
            "  Stored in directory: /root/.cache/pip/wheels/3d/fe/b0/27a9892da57472e538c7452a721a9cf463cc03cf7379889266\n",
            "Successfully built littleutils\n",
            "Installing collected packages: littleutils, outdated, pandas-flavor, pingouin\n",
            "Successfully installed littleutils-0.2.2 outdated-0.2.2 pandas-flavor-0.5.0 pingouin-0.5.3\n",
            "Looking in indexes: https://pypi.org/simple, https://us-python.pkg.dev/colab-wheels/public/simple/\n",
            "Collecting CMH\n",
            "  Downloading CMH-1.0.1-py3-none-any.whl (6.1 kB)\n",
            "Requirement already satisfied: numpy>=1.18 in /usr/local/lib/python3.10/dist-packages (from CMH) (1.22.4)\n",
            "Requirement already satisfied: pandas>=1 in /usr/local/lib/python3.10/dist-packages (from CMH) (1.5.3)\n",
            "Requirement already satisfied: scikit-learn in /usr/local/lib/python3.10/dist-packages (from CMH) (1.2.2)\n",
            "Requirement already satisfied: python-dateutil>=2.8.1 in /usr/local/lib/python3.10/dist-packages (from pandas>=1->CMH) (2.8.2)\n",
            "Requirement already satisfied: pytz>=2020.1 in /usr/local/lib/python3.10/dist-packages (from pandas>=1->CMH) (2022.7.1)\n",
            "Requirement already satisfied: scipy>=1.3.2 in /usr/local/lib/python3.10/dist-packages (from scikit-learn->CMH) (1.10.1)\n",
            "Requirement already satisfied: joblib>=1.1.1 in /usr/local/lib/python3.10/dist-packages (from scikit-learn->CMH) (1.2.0)\n",
            "Requirement already satisfied: threadpoolctl>=2.0.0 in /usr/local/lib/python3.10/dist-packages (from scikit-learn->CMH) (3.1.0)\n",
            "Requirement already satisfied: six>=1.5 in /usr/local/lib/python3.10/dist-packages (from python-dateutil>=2.8.1->pandas>=1->CMH) (1.16.0)\n",
            "Installing collected packages: CMH\n",
            "Successfully installed CMH-1.0.1\n",
            "Looking in indexes: https://pypi.org/simple, https://us-python.pkg.dev/colab-wheels/public/simple/\n",
            "Collecting svgutils\n",
            "  Downloading svgutils-0.3.4-py3-none-any.whl (10 kB)\n",
            "Requirement already satisfied: lxml in /usr/local/lib/python3.10/dist-packages (from svgutils) (4.9.2)\n",
            "Installing collected packages: svgutils\n",
            "Successfully installed svgutils-0.3.4\n"
          ]
        }
      ]
    },
    {
      "cell_type": "code",
      "source": [
        "import tifffile\n",
        "import numpy as np\n",
        "from google import colab\n",
        "from matplotlib import pyplot as plt\n",
        "import scipy\n",
        "from tqdm import tqdm\n",
        "import matplotlib as mpl\n",
        "import pandas as pd"
      ],
      "metadata": {
        "id": "7FmYJNWewBKU"
      },
      "execution_count": 5,
      "outputs": []
    },
    {
      "cell_type": "code",
      "execution_count": 4,
      "metadata": {
        "id": "78d9FJ-zv-sF"
      },
      "outputs": [],
      "source": [
        "def get_drobox_file(new_filename, link):\n",
        "    !wget -O $new_filename $link\n",
        "    return new_filename\n"
      ]
    },
    {
      "cell_type": "code",
      "source": [
        "link = 'https://www.dropbox.com/sh/yojyzw9daxnnk12/AAA_Gpm5U_fZWtcvhyZwvLoIa?dl=1'\n",
        "new_filename = 'data.xlsx'\n",
        "get_drobox_file(new_filename, link)"
      ],
      "metadata": {
        "colab": {
          "base_uri": "https://localhost:8080/",
          "height": 405
        },
        "id": "rnZSCqpXwCW9",
        "outputId": "fd4beabf-9601-4a2e-c783-6985a2091c66"
      },
      "execution_count": 20,
      "outputs": [
        {
          "output_type": "stream",
          "name": "stdout",
          "text": [
            "--2023-05-24 22:01:03--  https://www.dropbox.com/sh/yojyzw9daxnnk12/AAA_Gpm5U_fZWtcvhyZwvLoIa?dl=1\n",
            "Resolving www.dropbox.com (www.dropbox.com)... 162.125.5.18, 2620:100:601b:18::a27d:812\n",
            "Connecting to www.dropbox.com (www.dropbox.com)|162.125.5.18|:443... connected.\n",
            "HTTP request sent, awaiting response... 302 Found\n",
            "Location: /sh/dl/yojyzw9daxnnk12/AAA_Gpm5U_fZWtcvhyZwvLoIa [following]\n",
            "--2023-05-24 22:01:03--  https://www.dropbox.com/sh/dl/yojyzw9daxnnk12/AAA_Gpm5U_fZWtcvhyZwvLoIa\n",
            "Reusing existing connection to www.dropbox.com:443.\n",
            "HTTP request sent, awaiting response... 302 Found\n",
            "Location: https://ucd8988707ef179c1d2e508f855b.dl.dropboxusercontent.com/zip_download_get/BgGFgQkOCahHnKCDcZiEJ6yPe6Ah8RUH8YYPGbgeOcCtsP5umnNztJ6I9lXFnAxRcO9N_IhEatqb2dRW5QyxFU1vxGhFi1haV81q1Kxi_9AEZQ?dl=1# [following]\n",
            "--2023-05-24 22:01:04--  https://ucd8988707ef179c1d2e508f855b.dl.dropboxusercontent.com/zip_download_get/BgGFgQkOCahHnKCDcZiEJ6yPe6Ah8RUH8YYPGbgeOcCtsP5umnNztJ6I9lXFnAxRcO9N_IhEatqb2dRW5QyxFU1vxGhFi1haV81q1Kxi_9AEZQ?dl=1\n",
            "Resolving ucd8988707ef179c1d2e508f855b.dl.dropboxusercontent.com (ucd8988707ef179c1d2e508f855b.dl.dropboxusercontent.com)... 162.125.5.15, 2620:100:601d:15::a27d:50f\n",
            "Connecting to ucd8988707ef179c1d2e508f855b.dl.dropboxusercontent.com (ucd8988707ef179c1d2e508f855b.dl.dropboxusercontent.com)|162.125.5.15|:443... connected.\n",
            "HTTP request sent, awaiting response... 200 OK\n",
            "Length: 2858348 (2.7M) [application/zip]\n",
            "Saving to: ‘data.xlsx’\n",
            "\n",
            "data.xlsx           100%[===================>]   2.73M  7.57MB/s    in 0.4s    \n",
            "\n",
            "2023-05-24 22:01:04 (7.57 MB/s) - ‘data.xlsx’ saved [2858348/2858348]\n",
            "\n"
          ]
        },
        {
          "output_type": "execute_result",
          "data": {
            "text/plain": [
              "'data.xlsx'"
            ],
            "application/vnd.google.colaboratory.intrinsic+json": {
              "type": "string"
            }
          },
          "metadata": {},
          "execution_count": 20
        }
      ]
    },
    {
      "cell_type": "code",
      "source": [
        "!pip install openpyxl\n",
        "!pip install XlsxWriter\n",
        "# /content/data.xlsx"
      ],
      "metadata": {
        "colab": {
          "base_uri": "https://localhost:8080/",
          "height": 301
        },
        "id": "_t0Hwxp6xP06",
        "outputId": "50ab1edb-af13-4ae2-a231-b1d4a10f53ad"
      },
      "execution_count": 17,
      "outputs": [
        {
          "output_type": "stream",
          "name": "stdout",
          "text": [
            "Looking in indexes: https://pypi.org/simple, https://us-python.pkg.dev/colab-wheels/public/simple/\n",
            "Requirement already satisfied: openpyxl in /usr/local/lib/python3.10/dist-packages (3.0.10)\n",
            "Requirement already satisfied: et-xmlfile in /usr/local/lib/python3.10/dist-packages (from openpyxl) (1.1.0)\n",
            "Looking in indexes: https://pypi.org/simple, https://us-python.pkg.dev/colab-wheels/public/simple/\n",
            "Requirement already satisfied: XlsxWriter in /usr/local/lib/python3.10/dist-packages (3.1.1)\n"
          ]
        },
        {
          "output_type": "error",
          "ename": "NameError",
          "evalue": "ignored",
          "traceback": [
            "\u001b[0;31m---------------------------------------------------------------------------\u001b[0m",
            "\u001b[0;31mNameError\u001b[0m                                 Traceback (most recent call last)",
            "\u001b[0;32m<ipython-input-17-3cf1d9b8ad01>\u001b[0m in \u001b[0;36m<cell line: 3>\u001b[0;34m()\u001b[0m\n\u001b[1;32m      1\u001b[0m \u001b[0mget_ipython\u001b[0m\u001b[0;34m(\u001b[0m\u001b[0;34m)\u001b[0m\u001b[0;34m.\u001b[0m\u001b[0msystem\u001b[0m\u001b[0;34m(\u001b[0m\u001b[0;34m'pip install openpyxl'\u001b[0m\u001b[0;34m)\u001b[0m\u001b[0;34m\u001b[0m\u001b[0;34m\u001b[0m\u001b[0m\n\u001b[1;32m      2\u001b[0m \u001b[0mget_ipython\u001b[0m\u001b[0;34m(\u001b[0m\u001b[0;34m)\u001b[0m\u001b[0;34m.\u001b[0m\u001b[0msystem\u001b[0m\u001b[0;34m(\u001b[0m\u001b[0;34m'pip install XlsxWriter'\u001b[0m\u001b[0;34m)\u001b[0m\u001b[0;34m\u001b[0m\u001b[0;34m\u001b[0m\u001b[0m\n\u001b[0;32m----> 3\u001b[0;31m \u001b[0mcontent\u001b[0m\u001b[0;34m/\u001b[0m\u001b[0mdata\u001b[0m\u001b[0;34m.\u001b[0m\u001b[0mxlsx\u001b[0m\u001b[0;34m(\u001b[0m\u001b[0;34m)\u001b[0m\u001b[0;34m\u001b[0m\u001b[0;34m\u001b[0m\u001b[0m\n\u001b[0m",
            "\u001b[0;31mNameError\u001b[0m: name 'content' is not defined"
          ]
        }
      ]
    },
    {
      "cell_type": "code",
      "source": [
        "v.columns"
      ],
      "metadata": {
        "colab": {
          "base_uri": "https://localhost:8080/"
        },
        "id": "Rp35zYe7weC7",
        "outputId": "96df8b81-b4fb-4c1f-dc45-08c3efeee124"
      },
      "execution_count": 32,
      "outputs": [
        {
          "output_type": "execute_result",
          "data": {
            "text/plain": [
              "MultiIndex([('Unnamed: 0_level_0', 'Unnamed: 0_level_1', ...),\n",
              "            (           'Control',               '10Hz', ...),\n",
              "            (           'Control',               '10Hz', ...),\n",
              "            (           'Control',               '10Hz', ...),\n",
              "            (           'Control',               '10Hz', ...),\n",
              "            (           'Control',               '10Hz', ...)],\n",
              "           )"
            ]
          },
          "metadata": {},
          "execution_count": 32
        }
      ]
    },
    {
      "cell_type": "code",
      "source": [
        "my_df_dict  = pd.read_excel('/content/Glucose data May2023.xlsx',engine='openpyxl',header=[0,1,2,3],index_col=None,sheet_name=None) \n",
        "\n",
        "for k,v in my_df_dict.items():\n",
        "    v=v.drop(0,axis=0).reset_index().drop('index',axis=1)\n",
        "    for c in v.columns:\n",
        "        if v[c].isnull().all():\n",
        "            v=v.drop(c,axis=1)\n",
        "    my_df_dict[k]=v\n",
        "display(v.head())"
      ],
      "metadata": {
        "colab": {
          "base_uri": "https://localhost:8080/",
          "height": 300
        },
        "id": "oNkTszMyyLi-",
        "outputId": "88bbb9f5-3716-415e-d4c4-be0f2b5c513b"
      },
      "execution_count": 253,
      "outputs": [
        {
          "output_type": "display_data",
          "data": {
            "text/plain": [
              "    Control                                                               \\\n",
              "       10Hz                                                          5Hz   \n",
              "  Integrals                  fEPSP slope    Glucose            Integrals   \n",
              "        LFP  PopSpike Unnamed: 3_level_3       Soma  Dendrites       LFP   \n",
              "0  4.045425  1.855062           0.176973  1443.6920  1066.4189  2.831924   \n",
              "1  5.213486  3.062613           0.335929  1443.6920  1066.4189  3.960110   \n",
              "2  6.131205  3.716932           0.363715  1445.8199  1067.7860  3.511753   \n",
              "3  7.331403  4.476439           0.348921  1444.6880  1067.1980  4.551023   \n",
              "4  8.298912  4.855753           0.367518  1444.6130  1067.0620  4.610928   \n",
              "\n",
              "                                                          PMA            \\\n",
              "                                                         10Hz             \n",
              "                   fEPSP slope    Glucose           Integrals             \n",
              "   PopSpike Unnamed: 9_level_3       Soma Dendrites       LFP  PopSpike   \n",
              "0  1.815777           0.192501  1399.2830  1028.892  0.408929  0.690539   \n",
              "1  2.493269           0.266004  1399.2830  1028.892  1.081057  0.828124   \n",
              "2  2.053993           0.279454  1400.3669  1030.098  1.463295  0.826709   \n",
              "3  2.929596           0.300443  1400.6080  1029.501  1.368460  1.221470   \n",
              "4  2.789588           0.300111  1400.9580  1029.537  2.004586  1.416326   \n",
              "\n",
              "                                             \n",
              "                                             \n",
              "          fEPSP slope    Glucose             \n",
              "  Unnamed: 15_level_3       Soma  Dendrites  \n",
              "0            0.155780  1651.0811  1367.9600  \n",
              "1            0.277240  1651.0811  1367.9600  \n",
              "2            0.323449  1650.5690  1368.5490  \n",
              "3            0.277353  1652.3300  1368.7360  \n",
              "4            0.290033  1652.6390  1368.1219  "
            ],
            "text/html": [
              "\n",
              "  <div id=\"df-7c521749-9428-4359-b4c5-5c85d151d23a\">\n",
              "    <div class=\"colab-df-container\">\n",
              "      <div>\n",
              "<style scoped>\n",
              "    .dataframe tbody tr th:only-of-type {\n",
              "        vertical-align: middle;\n",
              "    }\n",
              "\n",
              "    .dataframe tbody tr th {\n",
              "        vertical-align: top;\n",
              "    }\n",
              "\n",
              "    .dataframe thead tr th {\n",
              "        text-align: left;\n",
              "    }\n",
              "</style>\n",
              "<table border=\"1\" class=\"dataframe\">\n",
              "  <thead>\n",
              "    <tr>\n",
              "      <th></th>\n",
              "      <th colspan=\"10\" halign=\"left\">Control</th>\n",
              "      <th colspan=\"5\" halign=\"left\">PMA</th>\n",
              "    </tr>\n",
              "    <tr>\n",
              "      <th></th>\n",
              "      <th colspan=\"5\" halign=\"left\">10Hz</th>\n",
              "      <th colspan=\"5\" halign=\"left\">5Hz</th>\n",
              "      <th colspan=\"5\" halign=\"left\">10Hz</th>\n",
              "    </tr>\n",
              "    <tr>\n",
              "      <th></th>\n",
              "      <th colspan=\"2\" halign=\"left\">Integrals</th>\n",
              "      <th>fEPSP slope</th>\n",
              "      <th colspan=\"2\" halign=\"left\">Glucose</th>\n",
              "      <th colspan=\"2\" halign=\"left\">Integrals</th>\n",
              "      <th>fEPSP slope</th>\n",
              "      <th colspan=\"2\" halign=\"left\">Glucose</th>\n",
              "      <th colspan=\"2\" halign=\"left\">Integrals</th>\n",
              "      <th>fEPSP slope</th>\n",
              "      <th colspan=\"2\" halign=\"left\">Glucose</th>\n",
              "    </tr>\n",
              "    <tr>\n",
              "      <th></th>\n",
              "      <th>LFP</th>\n",
              "      <th>PopSpike</th>\n",
              "      <th>Unnamed: 3_level_3</th>\n",
              "      <th>Soma</th>\n",
              "      <th>Dendrites</th>\n",
              "      <th>LFP</th>\n",
              "      <th>PopSpike</th>\n",
              "      <th>Unnamed: 9_level_3</th>\n",
              "      <th>Soma</th>\n",
              "      <th>Dendrites</th>\n",
              "      <th>LFP</th>\n",
              "      <th>PopSpike</th>\n",
              "      <th>Unnamed: 15_level_3</th>\n",
              "      <th>Soma</th>\n",
              "      <th>Dendrites</th>\n",
              "    </tr>\n",
              "  </thead>\n",
              "  <tbody>\n",
              "    <tr>\n",
              "      <th>0</th>\n",
              "      <td>4.045425</td>\n",
              "      <td>1.855062</td>\n",
              "      <td>0.176973</td>\n",
              "      <td>1443.6920</td>\n",
              "      <td>1066.4189</td>\n",
              "      <td>2.831924</td>\n",
              "      <td>1.815777</td>\n",
              "      <td>0.192501</td>\n",
              "      <td>1399.2830</td>\n",
              "      <td>1028.892</td>\n",
              "      <td>0.408929</td>\n",
              "      <td>0.690539</td>\n",
              "      <td>0.155780</td>\n",
              "      <td>1651.0811</td>\n",
              "      <td>1367.9600</td>\n",
              "    </tr>\n",
              "    <tr>\n",
              "      <th>1</th>\n",
              "      <td>5.213486</td>\n",
              "      <td>3.062613</td>\n",
              "      <td>0.335929</td>\n",
              "      <td>1443.6920</td>\n",
              "      <td>1066.4189</td>\n",
              "      <td>3.960110</td>\n",
              "      <td>2.493269</td>\n",
              "      <td>0.266004</td>\n",
              "      <td>1399.2830</td>\n",
              "      <td>1028.892</td>\n",
              "      <td>1.081057</td>\n",
              "      <td>0.828124</td>\n",
              "      <td>0.277240</td>\n",
              "      <td>1651.0811</td>\n",
              "      <td>1367.9600</td>\n",
              "    </tr>\n",
              "    <tr>\n",
              "      <th>2</th>\n",
              "      <td>6.131205</td>\n",
              "      <td>3.716932</td>\n",
              "      <td>0.363715</td>\n",
              "      <td>1445.8199</td>\n",
              "      <td>1067.7860</td>\n",
              "      <td>3.511753</td>\n",
              "      <td>2.053993</td>\n",
              "      <td>0.279454</td>\n",
              "      <td>1400.3669</td>\n",
              "      <td>1030.098</td>\n",
              "      <td>1.463295</td>\n",
              "      <td>0.826709</td>\n",
              "      <td>0.323449</td>\n",
              "      <td>1650.5690</td>\n",
              "      <td>1368.5490</td>\n",
              "    </tr>\n",
              "    <tr>\n",
              "      <th>3</th>\n",
              "      <td>7.331403</td>\n",
              "      <td>4.476439</td>\n",
              "      <td>0.348921</td>\n",
              "      <td>1444.6880</td>\n",
              "      <td>1067.1980</td>\n",
              "      <td>4.551023</td>\n",
              "      <td>2.929596</td>\n",
              "      <td>0.300443</td>\n",
              "      <td>1400.6080</td>\n",
              "      <td>1029.501</td>\n",
              "      <td>1.368460</td>\n",
              "      <td>1.221470</td>\n",
              "      <td>0.277353</td>\n",
              "      <td>1652.3300</td>\n",
              "      <td>1368.7360</td>\n",
              "    </tr>\n",
              "    <tr>\n",
              "      <th>4</th>\n",
              "      <td>8.298912</td>\n",
              "      <td>4.855753</td>\n",
              "      <td>0.367518</td>\n",
              "      <td>1444.6130</td>\n",
              "      <td>1067.0620</td>\n",
              "      <td>4.610928</td>\n",
              "      <td>2.789588</td>\n",
              "      <td>0.300111</td>\n",
              "      <td>1400.9580</td>\n",
              "      <td>1029.537</td>\n",
              "      <td>2.004586</td>\n",
              "      <td>1.416326</td>\n",
              "      <td>0.290033</td>\n",
              "      <td>1652.6390</td>\n",
              "      <td>1368.1219</td>\n",
              "    </tr>\n",
              "  </tbody>\n",
              "</table>\n",
              "</div>\n",
              "      <button class=\"colab-df-convert\" onclick=\"convertToInteractive('df-7c521749-9428-4359-b4c5-5c85d151d23a')\"\n",
              "              title=\"Convert this dataframe to an interactive table.\"\n",
              "              style=\"display:none;\">\n",
              "        \n",
              "  <svg xmlns=\"http://www.w3.org/2000/svg\" height=\"24px\"viewBox=\"0 0 24 24\"\n",
              "       width=\"24px\">\n",
              "    <path d=\"M0 0h24v24H0V0z\" fill=\"none\"/>\n",
              "    <path d=\"M18.56 5.44l.94 2.06.94-2.06 2.06-.94-2.06-.94-.94-2.06-.94 2.06-2.06.94zm-11 1L8.5 8.5l.94-2.06 2.06-.94-2.06-.94L8.5 2.5l-.94 2.06-2.06.94zm10 10l.94 2.06.94-2.06 2.06-.94-2.06-.94-.94-2.06-.94 2.06-2.06.94z\"/><path d=\"M17.41 7.96l-1.37-1.37c-.4-.4-.92-.59-1.43-.59-.52 0-1.04.2-1.43.59L10.3 9.45l-7.72 7.72c-.78.78-.78 2.05 0 2.83L4 21.41c.39.39.9.59 1.41.59.51 0 1.02-.2 1.41-.59l7.78-7.78 2.81-2.81c.8-.78.8-2.07 0-2.86zM5.41 20L4 18.59l7.72-7.72 1.47 1.35L5.41 20z\"/>\n",
              "  </svg>\n",
              "      </button>\n",
              "      \n",
              "  <style>\n",
              "    .colab-df-container {\n",
              "      display:flex;\n",
              "      flex-wrap:wrap;\n",
              "      gap: 12px;\n",
              "    }\n",
              "\n",
              "    .colab-df-convert {\n",
              "      background-color: #E8F0FE;\n",
              "      border: none;\n",
              "      border-radius: 50%;\n",
              "      cursor: pointer;\n",
              "      display: none;\n",
              "      fill: #1967D2;\n",
              "      height: 32px;\n",
              "      padding: 0 0 0 0;\n",
              "      width: 32px;\n",
              "    }\n",
              "\n",
              "    .colab-df-convert:hover {\n",
              "      background-color: #E2EBFA;\n",
              "      box-shadow: 0px 1px 2px rgba(60, 64, 67, 0.3), 0px 1px 3px 1px rgba(60, 64, 67, 0.15);\n",
              "      fill: #174EA6;\n",
              "    }\n",
              "\n",
              "    [theme=dark] .colab-df-convert {\n",
              "      background-color: #3B4455;\n",
              "      fill: #D2E3FC;\n",
              "    }\n",
              "\n",
              "    [theme=dark] .colab-df-convert:hover {\n",
              "      background-color: #434B5C;\n",
              "      box-shadow: 0px 1px 3px 1px rgba(0, 0, 0, 0.15);\n",
              "      filter: drop-shadow(0px 1px 2px rgba(0, 0, 0, 0.3));\n",
              "      fill: #FFFFFF;\n",
              "    }\n",
              "  </style>\n",
              "\n",
              "      <script>\n",
              "        const buttonEl =\n",
              "          document.querySelector('#df-7c521749-9428-4359-b4c5-5c85d151d23a button.colab-df-convert');\n",
              "        buttonEl.style.display =\n",
              "          google.colab.kernel.accessAllowed ? 'block' : 'none';\n",
              "\n",
              "        async function convertToInteractive(key) {\n",
              "          const element = document.querySelector('#df-7c521749-9428-4359-b4c5-5c85d151d23a');\n",
              "          const dataTable =\n",
              "            await google.colab.kernel.invokeFunction('convertToInteractive',\n",
              "                                                     [key], {});\n",
              "          if (!dataTable) return;\n",
              "\n",
              "          const docLinkHtml = 'Like what you see? Visit the ' +\n",
              "            '<a target=\"_blank\" href=https://colab.research.google.com/notebooks/data_table.ipynb>data table notebook</a>'\n",
              "            + ' to learn more about interactive tables.';\n",
              "          element.innerHTML = '';\n",
              "          dataTable['output_type'] = 'display_data';\n",
              "          await google.colab.output.renderOutput(dataTable, element);\n",
              "          const docLink = document.createElement('div');\n",
              "          docLink.innerHTML = docLinkHtml;\n",
              "          element.appendChild(docLink);\n",
              "        }\n",
              "      </script>\n",
              "    </div>\n",
              "  </div>\n",
              "  "
            ]
          },
          "metadata": {}
        }
      ]
    },
    {
      "cell_type": "code",
      "source": [
        "for k,v in my_df_dict.items():\n",
        "    # df_time\n",
        "    my_df_dict[k]={'values':v,'time':df_time}"
      ],
      "metadata": {
        "id": "_nVDDIXv65Ik"
      },
      "execution_count": 254,
      "outputs": []
    },
    {
      "cell_type": "code",
      "source": [
        "from scipy.signal import butter,filtfilt\n",
        "import scipy\n",
        "\n",
        "def exp_func(xdata,a,b,c):\n",
        "    return a*np.exp(xdata/-b) + c\n",
        "\n",
        "def bleach_cor(trace,ref_inds,lpf=0.2,order=1):\n",
        "\n",
        "    # b, a = butter(order, lpf, btype='lowpass')\n",
        "    # trace_f = filtfilt(b, a, trace)\n",
        "    trace_f = trace    \n",
        "    good_ref = np.logical_not(np.isnan( trace_f[ref_inds]))\n",
        "    ref_inds = ref_inds[good_ref]\n",
        "    y_fittable = trace_f[ref_inds]\n",
        "    p0= [np.max(trace), 20000, np.min(trace)]\n",
        "    min_bound = [0,1000,0]\n",
        "    max_bound = [np.max(trace)*2,np.inf,np.max(trace)*2]\n",
        "    p = scipy.optimize.curve_fit(exp_func, ref_inds, y_fittable,p0=p0,bounds=(min_bound,max_bound))\n",
        "    bleach_trace = exp_func(np.arange(len(trace)), p[0][0], p[0][1], p[0][2])\n",
        "    trace_corr = trace/bleach_trace * (p[0][0]+p[0][2])\n",
        "    return trace_corr, bleach_trace\n",
        "\n",
        "\n",
        "\n",
        "# y = v[('Control', '10Hz', 'Glucose', 'Soma')]\n",
        "# trace = np.abs(z_trans(trace)) >6\n",
        "\n",
        "\n",
        "# ref_inds = np.concatenate([np.arange(200,1000),np.arange(5000,6999)])\n",
        "# trace_corr, bleach_trace = bleach_cor(trace,ref_inds)\n",
        "\n"
      ],
      "metadata": {
        "id": "y4kNp2zfHANa"
      },
      "execution_count": 255,
      "outputs": []
    },
    {
      "cell_type": "code",
      "source": [
        "def z_trans(y):\n",
        "    return (y-np.nanmean(y))/np.nanstd(y)"
      ],
      "metadata": {
        "id": "v2QBZRAMHPxD"
      },
      "execution_count": 256,
      "outputs": []
    },
    {
      "cell_type": "code",
      "source": [
        "fig, ax =plt.subplots()\n",
        "\n",
        "\n",
        "df_time = v.copy()\n",
        "basic_offset = -3.75\n",
        "for c in v.columns:\n",
        "    freq = int(c[1].replace('Hz',\"\"))\n",
        "    'Base Pclamp Timing'\n",
        "    if 'LFP' in c[3] or 'PopSpike' in c[3] or 'fEPSP slope' in c[2]:\n",
        "        pulse_t_ind = np.arange(np.sum(v[c].notnull()))\n",
        "\n",
        "        pulse_t = pulse_t_ind.astype('float') * 1/freq\n",
        "        for i in pulse_t_ind:\n",
        "            df_time.at[i,c] = pulse_t[i]\n",
        "    \n",
        "\n",
        "    'Syncronize Camera'\n",
        "    if 'Glucose' in c[2]:\n",
        "        df_time[c] = pd.Series((np.arange(len(v[c])))/10)\n",
        "        y = np.array(v[c])\n",
        "        is_dip = z_trans(y) < -15\n",
        "        pulse_ind = np.where(is_dip)[0]\n",
        "        y_t = df_time[c][pulse_ind]\n",
        "        \n",
        "        pulse_time = np.mean(y_t)\n",
        "        \n",
        "        df_time[c] = pd.Series((np.arange(len(v[c])))/10) - pulse_time + basic_offset\n",
        "        # print(df_time[c])\n",
        "        # break\n",
        "    # display(df_time.head(20))\n",
        "    if '10Hz' in c[1] and 'Control' in c[0]:\n",
        "        if 'LFP' in c[3] or 'PopSpike' in c[3] or 'fEPSP slope' in c[2]:        \n",
        "            ax.plot( df_time[c],z_trans(v[c]))\n",
        "        if 'Glucose' in c[2]:\n",
        "            y=v[c]\n",
        "            t = df_time[c]\n",
        "            pt = t>-2\n",
        "            ax.plot( t[pt],z_trans(y[pt]))\n",
        "        ax.set_xlim(-2,40)\n",
        "        # for a in ax: "
      ],
      "metadata": {
        "colab": {
          "base_uri": "https://localhost:8080/",
          "height": 433
        },
        "id": "k1xbuZoL2wrp",
        "outputId": "ce8078d3-197e-485c-ed0a-1c580dff8b57"
      },
      "execution_count": 274,
      "outputs": [
        {
          "output_type": "display_data",
          "data": {
            "text/plain": [
              "<Figure size 640x480 with 1 Axes>"
            ],
            "image/png": "[encoded data removed]"
          },
          "metadata": {}
        }
      ]
    },
    {
      "cell_type": "code",
      "source": [
        "'''\n",
        "Bleach Correct all Traces,\n",
        "Convert to dF/f\n",
        "Z-Score\n",
        "Upsample\n",
        "Cross corr \n",
        "\n",
        "'''"
      ],
      "metadata": {
        "id": "PgbZA9I4R-30"
      },
      "execution_count": null,
      "outputs": []
    }
  ]
}