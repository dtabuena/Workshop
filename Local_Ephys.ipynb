{
  "nbformat": 4,
  "nbformat_minor": 0,
  "metadata": {
    "colab": {
      "provenance": [],
      "authorship_tag": "ABX9TyPiDq6ql8XMCKc1hK7Zu6jp",
      "include_colab_link": true
    },
    "kernelspec": {
      "name": "python3",
      "display_name": "Python 3"
    },
    "language_info": {
      "name": "python"
    }
  },
  "cells": [
    {
      "cell_type": "markdown",
      "metadata": {
        "id": "view-in-github",
        "colab_type": "text"
      },
      "source": [
        "<a href=\"https://colab.research.google.com/github/dtabuena/Workshop/blob/main/Local_Ephys.ipynb\" target=\"_parent\"><img src=\"https://colab.research.google.com/assets/colab-badge.svg\" alt=\"Open In Colab\"/></a>"
      ]
    },
    {
      "cell_type": "code",
      "source": [
        "'Get Standard Modules'\n",
        "\n",
        "import pandas as pd\n",
        "import numpy as np\n",
        "import matplotlib\n",
        "import matplotlib.pyplot as plt\n",
        "import scipy\n",
        "from scipy import stats\n",
        "import os\n",
        "from scipy.signal import butter,filtfilt\n",
        "from tqdm import tqdm\n",
        "import warnings\n",
        "from IPython.display import clear_output\n",
        "from datetime import datetime\n",
        "import sys\n",
        "import warnings\n",
        "import shutil\n",
        "import urllib.request\n",
        "\n",
        "# warnings.filterwarnings('ignore')\n",
        "# np.set_printoptions(threshold=sys.maxsize)\n",
        "# clear_output(wait=False)\n",
        "\n",
        "\n",
        "\n",
        "!pip install openpyxl\n",
        "!pip install XlsxWriter"
      ],
      "metadata": {
        "colab": {
          "base_uri": "https://localhost:8080/"
        },
        "id": "AV0cPU5qPIxB",
        "outputId": "93a75f16-0c6a-471a-af32-7915e7e35c20"
      },
      "execution_count": 59,
      "outputs": [
        {
          "output_type": "stream",
          "name": "stdout",
          "text": [
            "Requirement already satisfied: openpyxl in c:\\users\\dennis.tabuena\\appdata\\local\\anaconda3\\envs\\notebook\\lib\\site-packages (3.1.2)\n",
            "Requirement already satisfied: et-xmlfile in c:\\users\\dennis.tabuena\\appdata\\local\\anaconda3\\envs\\notebook\\lib\\site-packages (from openpyxl) (1.1.0)\n",
            "Requirement already satisfied: XlsxWriter in c:\\users\\dennis.tabuena\\appdata\\local\\anaconda3\\envs\\notebook\\lib\\site-packages (3.2.0)\n"
          ]
        }
      ]
    },
    {
      "cell_type": "code",
      "execution_count": 60,
      "metadata": {
        "id": "_KP8ILeu07BW",
        "colab": {
          "base_uri": "https://localhost:8080/"
        },
        "outputId": "2742c3a4-0021-41f0-97b3-9a953095fc35"
      },
      "outputs": [
        {
          "output_type": "stream",
          "name": "stdout",
          "text": [
            "https://raw.githubusercontent.com/dtabuena/EphysLib/main/ABF_Quality_Control.ipynb\n",
            "https://raw.githubusercontent.com/dtabuena/EphysLib/main/Basic_Ephys.ipynb\n",
            "https://raw.githubusercontent.com/dtabuena/EphysLib/main/Simple_ABF_tools.ipynb\n",
            "Requirement already satisfied: pyabf in c:\\users\\dennis.tabuena\\appdata\\local\\anaconda3\\envs\\notebook\\lib\\site-packages (2.3.8)\n",
            "Requirement already satisfied: matplotlib>=2.1.0 in c:\\users\\dennis.tabuena\\appdata\\local\\anaconda3\\envs\\notebook\\lib\\site-packages (from pyabf) (3.8.4)\n",
            "Requirement already satisfied: numpy>=1.13.3 in c:\\users\\dennis.tabuena\\appdata\\local\\anaconda3\\envs\\notebook\\lib\\site-packages (from pyabf) (1.26.4)\n",
            "Requirement already satisfied: pytest>=3.0.7 in c:\\users\\dennis.tabuena\\appdata\\local\\anaconda3\\envs\\notebook\\lib\\site-packages (from pyabf) (8.2.1)\n",
            "Requirement already satisfied: contourpy>=1.0.1 in c:\\users\\dennis.tabuena\\appdata\\local\\anaconda3\\envs\\notebook\\lib\\site-packages (from matplotlib>=2.1.0->pyabf) (1.2.1)\n",
            "Requirement already satisfied: cycler>=0.10 in c:\\users\\dennis.tabuena\\appdata\\local\\anaconda3\\envs\\notebook\\lib\\site-packages (from matplotlib>=2.1.0->pyabf) (0.12.1)\n",
            "Requirement already satisfied: fonttools>=4.22.0 in c:\\users\\dennis.tabuena\\appdata\\local\\anaconda3\\envs\\notebook\\lib\\site-packages (from matplotlib>=2.1.0->pyabf) (4.51.0)\n",
            "Requirement already satisfied: kiwisolver>=1.3.1 in c:\\users\\dennis.tabuena\\appdata\\local\\anaconda3\\envs\\notebook\\lib\\site-packages (from matplotlib>=2.1.0->pyabf) (1.4.5)\n",
            "Requirement already satisfied: packaging>=20.0 in c:\\users\\dennis.tabuena\\appdata\\local\\anaconda3\\envs\\notebook\\lib\\site-packages (from matplotlib>=2.1.0->pyabf) (23.2)\n",
            "Requirement already satisfied: pillow>=8 in c:\\users\\dennis.tabuena\\appdata\\local\\anaconda3\\envs\\notebook\\lib\\site-packages (from matplotlib>=2.1.0->pyabf) (10.3.0)\n",
            "Requirement already satisfied: pyparsing>=2.3.1 in c:\\users\\dennis.tabuena\\appdata\\local\\anaconda3\\envs\\notebook\\lib\\site-packages (from matplotlib>=2.1.0->pyabf) (3.1.2)\n",
            "Requirement already satisfied: python-dateutil>=2.7 in c:\\users\\dennis.tabuena\\appdata\\local\\anaconda3\\envs\\notebook\\lib\\site-packages (from matplotlib>=2.1.0->pyabf) (2.8.2)\n",
            "Requirement already satisfied: iniconfig in c:\\users\\dennis.tabuena\\appdata\\local\\anaconda3\\envs\\notebook\\lib\\site-packages (from pytest>=3.0.7->pyabf) (2.0.0)\n",
            "Requirement already satisfied: pluggy<2.0,>=1.5 in c:\\users\\dennis.tabuena\\appdata\\local\\anaconda3\\envs\\notebook\\lib\\site-packages (from pytest>=3.0.7->pyabf) (1.5.0)\n",
            "Requirement already satisfied: colorama in c:\\users\\dennis.tabuena\\appdata\\local\\anaconda3\\envs\\notebook\\lib\\site-packages (from pytest>=3.0.7->pyabf) (0.4.6)\n",
            "Requirement already satisfied: six>=1.5 in c:\\users\\dennis.tabuena\\appdata\\local\\anaconda3\\envs\\notebook\\lib\\site-packages (from python-dateutil>=2.7->matplotlib>=2.1.0->pyabf) (1.16.0)\n",
            "https://raw.githubusercontent.com/dtabuena/EphysLib/main/fun_math.ipynb\n",
            "https://raw.githubusercontent.com/dtabuena/EphysLib/main/importing_abfs_from_dropbox.ipynb\n",
            "https://raw.githubusercontent.com/dtabuena/EphysLib/main/QC_recoding_dataframe.ipynb\n",
            "https://raw.githubusercontent.com/dtabuena/EphysLib/main/Analyzers/input_resistance_analyzer.ipynb\n",
            "https://raw.githubusercontent.com/dtabuena/EphysLib/main/Analyzers/gain_analyzer.ipynb\n",
            "https://raw.githubusercontent.com/dtabuena/EphysLib/main/Analyzers/latencey_analyzer.ipynb\n",
            "https://raw.githubusercontent.com/dtabuena/EphysLib/main/Analyzers/IV_analyzer.ipynb\n",
            "https://raw.githubusercontent.com/dtabuena/EphysLib/main/Analyzers/Vm_analyzer.ipynb\n",
            "https://raw.githubusercontent.com/dtabuena/EphysLib/main/Analyzers/membrane_analyzer.ipynb\n",
            "https://raw.githubusercontent.com/dtabuena/EphysLib/main/Analyzers/rheobase_analyzer.ipynb\n",
            "https://raw.githubusercontent.com/dtabuena/EphysLib/main/Ephys_wrapper.ipynb\n"
          ]
        }
      ],
      "source": [
        "'''Get Repositories'''\n",
        "\"run dtabuena's ephys notebooks\"\n",
        "to_import = [\n",
        "            'ABF_Quality_Control.ipynb',\n",
        "            'Basic_Ephys.ipynb',\n",
        "            'Simple_ABF_tools.ipynb',\n",
        "            'fun_math.ipynb',\n",
        "            'importing_abfs_from_dropbox.ipynb',\n",
        "            'QC_recoding_dataframe.ipynb',\n",
        "            'Analyzers/input_resistance_analyzer.ipynb',\n",
        "            'Analyzers/gain_analyzer.ipynb',\n",
        "            'Analyzers/latencey_analyzer.ipynb',\n",
        "            'Analyzers/IV_analyzer.ipynb',\n",
        "            'Analyzers/Vm_analyzer.ipynb',\n",
        "            'Analyzers/membrane_analyzer.ipynb',\n",
        "            'Analyzers/rheobase_analyzer.ipynb',\n",
        "            'Ephys_wrapper.ipynb',\n",
        "            ]\n",
        "parent_folder = 'C:/Users/dennis.tabuena/Dropbox (Gladstone)/0_Projects/_ApoE Patch Seq/Analysis_Workspace/Ephys'\n",
        "os.chdir(parent_folder)\n",
        "\n",
        "code_dir = 'code'\n",
        "if not os.path.exists(code_dir):\n",
        "    os.makedirs(code_dir)\n",
        "os.chdir(code_dir)\n",
        "if not os.path.exists(os.path.join(code_dir,\"Analyzers\")):\n",
        "    os.makedirs(os.path.join(code_dir,\"Analyzers\"))\n",
        "os.chdir(code_dir)\n",
        "\n",
        "for f in to_import:\n",
        "    git_link = 'https://raw.githubusercontent.com/dtabuena/EphysLib/main/'+f\n",
        "    print(git_link)\n",
        "    urllib.request.urlretrieve(git_link,f)\n",
        "    %run $f\n"
      ]
    },
    {
      "cell_type": "code",
      "source": [
        "##### Setup Protocol List\n",
        "VC_prot = ['VC - MemTest-10ms-160ms',\n",
        "           'VC - Multi IV - 150ms',]\n",
        "IC_prot = ['IC - Gain - D10pA',\n",
        "           'IC - Gain - D20pA',\n",
        "           'IC - Gain - D50pA',\n",
        "           'IC - Rheobase',\n",
        "           'IC - R input',\n",
        "           'IC - Latentcy 800pA-1s'\n",
        "           'VC - 3min GapFree',\n",
        "           'I0 - 3min GapFree']\n",
        "\n",
        "\n",
        "dataset = {'data_name': 'patch_seq_Cohort_01',\n",
        "           'data_source': \"C:/Users/dennis.tabuena/Dropbox (Gladstone)/0_Projects/_ApoE Patch Seq/PatchSeq Recordings/PatchSeq_Ephys_Data/Cohort_01\",\n",
        "           'file_naming_scheme': ['Rec_date','GenoType','Sex','Age','Slice_Num','Cell_num','Cell_Type'],\n",
        "           }\n"
      ],
      "metadata": {
        "id": "im0sAJx5W7EY"
      },
      "execution_count": 61,
      "outputs": []
    },
    {
      "cell_type": "code",
      "source": [
        "analysis_dir =os.path.join(parent_folder,dataset['data_name'])\n",
        "if not os.path.exists(analysis_dir):\n",
        "    os.makedirs(analysis_dir)\n",
        "os.chdir(analysis_dir)"
      ],
      "metadata": {
        "id": "rET6VzdQWpzm"
      },
      "execution_count": 62,
      "outputs": []
    },
    {
      "cell_type": "code",
      "source": [
        "Fast_results = ephys_wrapper_local(dataset,VC_prot,IC_prot,strat_cols=['Age'])"
      ],
      "metadata": {
        "id": "eWeEJGT3NHdB"
      },
      "execution_count": null,
      "outputs": []
    }
  ]
}