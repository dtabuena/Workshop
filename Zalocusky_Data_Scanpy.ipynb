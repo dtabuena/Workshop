{
  "nbformat": 4,
  "nbformat_minor": 0,
  "metadata": {
    "colab": {
      "provenance": [],
      "authorship_tag": "ABX9TyOxgMcB7FHrvNlAVrMNBZk2",
      "include_colab_link": true
    },
    "kernelspec": {
      "name": "python3",
      "display_name": "Python 3"
    },
    "language_info": {
      "name": "python"
    }
  },
  "cells": [
    {
      "cell_type": "markdown",
      "metadata": {
        "id": "view-in-github",
        "colab_type": "text"
      },
      "source": [
        "<a href=\"https://colab.research.google.com/github/dtabuena/Workshop/blob/main/Zalocusky_Data_Scanpy.ipynb\" target=\"_parent\"><img src=\"https://colab.research.google.com/assets/colab-badge.svg\" alt=\"Open In Colab\"/></a>"
      ]
    },
    {
      "cell_type": "code",
      "source": [
        "!pip install scanpy"
      ],
      "metadata": {
        "colab": {
          "base_uri": "https://localhost:8080/"
        },
        "id": "rRIj0IJP7IcL",
        "outputId": "323aaf5c-ea55-4600-b95b-222f2567d28b"
      },
      "execution_count": 2,
      "outputs": [
        {
          "output_type": "stream",
          "name": "stdout",
          "text": [
            "Looking in indexes: https://pypi.org/simple, https://us-python.pkg.dev/colab-wheels/public/simple/\n",
            "Requirement already satisfied: scanpy in /usr/local/lib/python3.10/dist-packages (1.9.3)\n",
            "Requirement already satisfied: anndata>=0.7.4 in /usr/local/lib/python3.10/dist-packages (from scanpy) (0.9.1)\n",
            "Requirement already satisfied: numpy>=1.17.0 in /usr/local/lib/python3.10/dist-packages (from scanpy) (1.22.4)\n",
            "Requirement already satisfied: matplotlib>=3.4 in /usr/local/lib/python3.10/dist-packages (from scanpy) (3.7.1)\n",
            "Requirement already satisfied: pandas>=1.0 in /usr/local/lib/python3.10/dist-packages (from scanpy) (1.5.3)\n",
            "Requirement already satisfied: scipy>=1.4 in /usr/local/lib/python3.10/dist-packages (from scanpy) (1.10.1)\n",
            "Requirement already satisfied: seaborn in /usr/local/lib/python3.10/dist-packages (from scanpy) (0.12.2)\n",
            "Requirement already satisfied: h5py>=3 in /usr/local/lib/python3.10/dist-packages (from scanpy) (3.8.0)\n",
            "Requirement already satisfied: tqdm in /usr/local/lib/python3.10/dist-packages (from scanpy) (4.65.0)\n",
            "Requirement already satisfied: scikit-learn>=0.22 in /usr/local/lib/python3.10/dist-packages (from scanpy) (1.2.2)\n",
            "Requirement already satisfied: statsmodels>=0.10.0rc2 in /usr/local/lib/python3.10/dist-packages (from scanpy) (0.13.5)\n",
            "Requirement already satisfied: patsy in /usr/local/lib/python3.10/dist-packages (from scanpy) (0.5.3)\n",
            "Requirement already satisfied: networkx>=2.3 in /usr/local/lib/python3.10/dist-packages (from scanpy) (3.1)\n",
            "Requirement already satisfied: natsort in /usr/local/lib/python3.10/dist-packages (from scanpy) (8.3.1)\n",
            "Requirement already satisfied: joblib in /usr/local/lib/python3.10/dist-packages (from scanpy) (1.2.0)\n",
            "Requirement already satisfied: numba>=0.41.0 in /usr/local/lib/python3.10/dist-packages (from scanpy) (0.56.4)\n",
            "Requirement already satisfied: umap-learn>=0.3.10 in /usr/local/lib/python3.10/dist-packages (from scanpy) (0.5.3)\n",
            "Requirement already satisfied: packaging in /usr/local/lib/python3.10/dist-packages (from scanpy) (23.1)\n",
            "Requirement already satisfied: session-info in /usr/local/lib/python3.10/dist-packages (from scanpy) (1.0.0)\n",
            "Requirement already satisfied: contourpy>=1.0.1 in /usr/local/lib/python3.10/dist-packages (from matplotlib>=3.4->scanpy) (1.0.7)\n",
            "Requirement already satisfied: cycler>=0.10 in /usr/local/lib/python3.10/dist-packages (from matplotlib>=3.4->scanpy) (0.11.0)\n",
            "Requirement already satisfied: fonttools>=4.22.0 in /usr/local/lib/python3.10/dist-packages (from matplotlib>=3.4->scanpy) (4.39.3)\n",
            "Requirement already satisfied: kiwisolver>=1.0.1 in /usr/local/lib/python3.10/dist-packages (from matplotlib>=3.4->scanpy) (1.4.4)\n",
            "Requirement already satisfied: pillow>=6.2.0 in /usr/local/lib/python3.10/dist-packages (from matplotlib>=3.4->scanpy) (8.4.0)\n",
            "Requirement already satisfied: pyparsing>=2.3.1 in /usr/local/lib/python3.10/dist-packages (from matplotlib>=3.4->scanpy) (3.0.9)\n",
            "Requirement already satisfied: python-dateutil>=2.7 in /usr/local/lib/python3.10/dist-packages (from matplotlib>=3.4->scanpy) (2.8.2)\n",
            "Requirement already satisfied: llvmlite<0.40,>=0.39.0dev0 in /usr/local/lib/python3.10/dist-packages (from numba>=0.41.0->scanpy) (0.39.1)\n",
            "Requirement already satisfied: setuptools in /usr/local/lib/python3.10/dist-packages (from numba>=0.41.0->scanpy) (67.7.2)\n",
            "Requirement already satisfied: pytz>=2020.1 in /usr/local/lib/python3.10/dist-packages (from pandas>=1.0->scanpy) (2022.7.1)\n",
            "Requirement already satisfied: threadpoolctl>=2.0.0 in /usr/local/lib/python3.10/dist-packages (from scikit-learn>=0.22->scanpy) (3.1.0)\n",
            "Requirement already satisfied: six in /usr/local/lib/python3.10/dist-packages (from patsy->scanpy) (1.16.0)\n",
            "Requirement already satisfied: pynndescent>=0.5 in /usr/local/lib/python3.10/dist-packages (from umap-learn>=0.3.10->scanpy) (0.5.10)\n",
            "Requirement already satisfied: stdlib-list in /usr/local/lib/python3.10/dist-packages (from session-info->scanpy) (0.8.0)\n"
          ]
        }
      ]
    },
    {
      "cell_type": "code",
      "source": [
        "import h5py    \n",
        "import numpy as np    \n",
        "import scipy as sci\n",
        "from matplotlib import pyplot as plt\n",
        "import scanpy as sc\n",
        "import tarfile\n",
        "import os\n",
        "import anndata as ad\n",
        "import pandas as pd\n",
        "\n"
      ],
      "metadata": {
        "id": "PyaByPRKzv8j"
      },
      "execution_count": 3,
      "outputs": []
    },
    {
      "cell_type": "code",
      "source": [
        "def get_file(link):\n",
        "    file_name = os.path.basename(link)\n",
        "    !wget -O $file_name $link\n",
        "    return file_name"
      ],
      "metadata": {
        "id": "YtIQJrFmsrPk"
      },
      "execution_count": 4,
      "outputs": []
    },
    {
      "cell_type": "code",
      "source": [
        "'''Download all single samples'''\n",
        "link = 'https://ftp.ncbi.nlm.nih.gov/geo/series/GSE167nnn/GSE167497/suppl/GSE167497_RAW.tar'\n",
        "file_name = 'GSE167497_RAW.tar'\n",
        "!wget -O $file_name $link\n",
        "my_tar = tarfile.open('/content/GSE167497_RAW.tar')\n",
        "my_tar.extractall('./my_folder') # specify which folder to extract to\n",
        "my_tar.close()\n",
        "for f in os.listdir('./my_folder'):\n",
        "    print(f)"
      ],
      "metadata": {
        "colab": {
          "base_uri": "https://localhost:8080/"
        },
        "id": "zX-t_waT5crj",
        "outputId": "41d3b18a-17eb-4b12-bc40-b627277b2827"
      },
      "execution_count": 5,
      "outputs": [
        {
          "output_type": "stream",
          "name": "stdout",
          "text": [
            "--2023-06-12 21:34:44--  https://ftp.ncbi.nlm.nih.gov/geo/series/GSE167nnn/GSE167497/suppl/GSE167497_RAW.tar\n",
            "Resolving ftp.ncbi.nlm.nih.gov (ftp.ncbi.nlm.nih.gov)... 130.14.250.13, 165.112.9.228, 2607:f220:41e:250::12, ...\n",
            "Connecting to ftp.ncbi.nlm.nih.gov (ftp.ncbi.nlm.nih.gov)|130.14.250.13|:443... connected.\n",
            "HTTP request sent, awaiting response... 200 OK\n",
            "Length: 848363520 (809M) [application/x-tar]\n",
            "Saving to: ‘GSE167497_RAW.tar’\n",
            "\n",
            "GSE167497_RAW.tar   100%[===================>] 809.06M  16.7MB/s    in 50s     \n",
            "\n",
            "2023-06-12 21:35:35 (16.2 MB/s) - ‘GSE167497_RAW.tar’ saved [848363520/848363520]\n",
            "\n",
            "GSM5106158_17_E4_15_A12_raw_gene_bc_matrices_h5.h5\n",
            "GSM5106164_23_E4_5_B06_raw_gene_bc_matrices_h5.h5\n",
            "GSM5106154_13_E4_20_A08_raw_gene_bc_matrices_h5.h5\n",
            "GSM5106170_29_E4_5_C04_raw_gene_bc_matrices_h5.h5\n",
            "GSM5106169_28_E3_5_C03_raw_gene_bc_matrices_h5.h5\n",
            "GSM5106152_11_E4_10_A06_raw_gene_bc_matrices_h5.h5\n",
            "GSM5106175_YH_KZ03_01_raw_gene_bc_matrices_h5.h5\n",
            "GSM5106145_04_E4_10_H11_raw_gene_bc_matrices_h5.h5\n",
            "GSM5106146_05_E3_14_H12_raw_gene_bc_matrices_h5.h5\n",
            "GSM5106167_26_E3_20_C01_raw_gene_bc_matrices_h5.h5\n",
            "GSM5106165_24_E3_20_B07_raw_gene_bc_matrices_h5.h5\n",
            "GSM5106172_31_E4_10_C06_raw_gene_bc_matrices_h5.h5\n",
            "GSM5106149_08_E3_10_A03_raw_gene_bc_matrices_h5.h5\n",
            "GSM5106144_03_E3_10_H10_raw_gene_bc_matrics_h5.h5\n",
            "GSM5106174_33_E4_15_C08_raw_gene_bc_matrices_h5.h5\n",
            "GSM5106150_09_E4_10_A04_raw_gene_bc_matrices_h5.h5\n",
            "GSM5106160_19_E4_15_B02_raw_gene_bc_matrices_h5.h5\n",
            "GSM5106157_16_E3_15_A11_raw_gene_bc_matrices_h5.h5\n",
            "GSM5106168_27_E4_20_C02_raw_gene_bc_matrices_h5.h5\n",
            "GSM5106161_20_E3_5_B03_raw_gene_bc_matrices_h5.h5\n",
            "GSM5106166_25_E4_20_B08_raw_gene_bc_matrices_h5.h5\n",
            "GSM5106171_30_E3_10_C05_raw_gene_bc_matrices_h5.h5\n",
            "GSM5106153_12_E3_20_A07_raw_gene_bc_matrices_h5.h5\n",
            "GSM5106162_21_E4_5_B04_raw_gene_bc_matrices_h5.h5\n",
            "GSM5106143_02_E4_14_H0_raw_gene_bc_matrices_h5.h5\n",
            "GSM5106151_10_E3_10_A05_raw_gene_bc_matrices_h5.h5\n",
            "GSM5106163_22_E3_5_B05_raw_gene_bc_matrices_h5.h5\n",
            "GSM5106155_14_E3_20_A09_raw_gene_bc_matrices_h5.h5\n",
            "GSM5106147_06_E3_5_A01_raw_gene_bc_matrices_h5.h5\n",
            "GSM5106156_15_E4_20_A10_raw_gene_bc_matrices_h5.h5\n",
            "GSM5106148_07_E4_5_A02_raw_gene_bc_matrices_h5.h5\n",
            "GSM5106159_18_E3_15_B01_raw_gene_bc_matrices_h5.h5\n",
            "GSM5106173_32_E3_15_C07_raw_gene_bc_matrices_h5.h5\n",
            "GSM5106176_YH_KZ03_03_raw_gene_bc_matrices_h5.h5\n"
          ]
        }
      ]
    },
    {
      "cell_type": "code",
      "source": [
        "def trim_key(k):\n",
        "    k = k.replace('_raw_gene_bc_matrices_h5.h5',\"\")\n",
        "    k = k.replace('_raw_gene_bc_matrics_h5.h5',\"\")\n",
        "    k =k.replace(k.split(\"_\")[0],\"\")\n",
        "    return k\n"
      ],
      "metadata": {
        "id": "T960FGcbgJMI"
      },
      "execution_count": 6,
      "outputs": []
    },
    {
      "cell_type": "code",
      "source": [
        "adata_dict = {}\n",
        "for f in os.listdir('./my_folder'):\n",
        "    if 'YH' not in f:\n",
        "        a = sc.read_10x_h5('./my_folder/'+f)\n",
        "        a.var_names_make_unique()\n",
        "        adata_dict[trim_key(f)] = a"
      ],
      "metadata": {
        "colab": {
          "base_uri": "https://localhost:8080/"
        },
        "id": "UTxqCLJTvk5D",
        "outputId": "b9851802-9911-44ff-8ad2-24bf967c8a08"
      },
      "execution_count": 7,
      "outputs": [
        {
          "output_type": "stream",
          "name": "stderr",
          "text": [
            "/usr/local/lib/python3.10/dist-packages/anndata/_core/anndata.py:1832: UserWarning: Variable names are not unique. To make them unique, call `.var_names_make_unique`.\n",
            "  utils.warn_names_duplicates(\"var\")\n",
            "/usr/local/lib/python3.10/dist-packages/anndata/_core/anndata.py:1832: UserWarning: Variable names are not unique. To make them unique, call `.var_names_make_unique`.\n",
            "  utils.warn_names_duplicates(\"var\")\n",
            "/usr/local/lib/python3.10/dist-packages/anndata/_core/anndata.py:1832: UserWarning: Variable names are not unique. To make them unique, call `.var_names_make_unique`.\n",
            "  utils.warn_names_duplicates(\"var\")\n",
            "/usr/local/lib/python3.10/dist-packages/anndata/_core/anndata.py:1832: UserWarning: Variable names are not unique. To make them unique, call `.var_names_make_unique`.\n",
            "  utils.warn_names_duplicates(\"var\")\n",
            "/usr/local/lib/python3.10/dist-packages/anndata/_core/anndata.py:1832: UserWarning: Variable names are not unique. To make them unique, call `.var_names_make_unique`.\n",
            "  utils.warn_names_duplicates(\"var\")\n",
            "/usr/local/lib/python3.10/dist-packages/anndata/_core/anndata.py:1832: UserWarning: Variable names are not unique. To make them unique, call `.var_names_make_unique`.\n",
            "  utils.warn_names_duplicates(\"var\")\n",
            "/usr/local/lib/python3.10/dist-packages/anndata/_core/anndata.py:1832: UserWarning: Variable names are not unique. To make them unique, call `.var_names_make_unique`.\n",
            "  utils.warn_names_duplicates(\"var\")\n",
            "/usr/local/lib/python3.10/dist-packages/anndata/_core/anndata.py:1832: UserWarning: Variable names are not unique. To make them unique, call `.var_names_make_unique`.\n",
            "  utils.warn_names_duplicates(\"var\")\n",
            "/usr/local/lib/python3.10/dist-packages/anndata/_core/anndata.py:1832: UserWarning: Variable names are not unique. To make them unique, call `.var_names_make_unique`.\n",
            "  utils.warn_names_duplicates(\"var\")\n",
            "/usr/local/lib/python3.10/dist-packages/anndata/_core/anndata.py:1832: UserWarning: Variable names are not unique. To make them unique, call `.var_names_make_unique`.\n",
            "  utils.warn_names_duplicates(\"var\")\n",
            "/usr/local/lib/python3.10/dist-packages/anndata/_core/anndata.py:1832: UserWarning: Variable names are not unique. To make them unique, call `.var_names_make_unique`.\n",
            "  utils.warn_names_duplicates(\"var\")\n",
            "/usr/local/lib/python3.10/dist-packages/anndata/_core/anndata.py:1832: UserWarning: Variable names are not unique. To make them unique, call `.var_names_make_unique`.\n",
            "  utils.warn_names_duplicates(\"var\")\n",
            "/usr/local/lib/python3.10/dist-packages/anndata/_core/anndata.py:1832: UserWarning: Variable names are not unique. To make them unique, call `.var_names_make_unique`.\n",
            "  utils.warn_names_duplicates(\"var\")\n",
            "/usr/local/lib/python3.10/dist-packages/anndata/_core/anndata.py:1832: UserWarning: Variable names are not unique. To make them unique, call `.var_names_make_unique`.\n",
            "  utils.warn_names_duplicates(\"var\")\n",
            "/usr/local/lib/python3.10/dist-packages/anndata/_core/anndata.py:1832: UserWarning: Variable names are not unique. To make them unique, call `.var_names_make_unique`.\n",
            "  utils.warn_names_duplicates(\"var\")\n",
            "/usr/local/lib/python3.10/dist-packages/anndata/_core/anndata.py:1832: UserWarning: Variable names are not unique. To make them unique, call `.var_names_make_unique`.\n",
            "  utils.warn_names_duplicates(\"var\")\n",
            "/usr/local/lib/python3.10/dist-packages/anndata/_core/anndata.py:1832: UserWarning: Variable names are not unique. To make them unique, call `.var_names_make_unique`.\n",
            "  utils.warn_names_duplicates(\"var\")\n",
            "/usr/local/lib/python3.10/dist-packages/anndata/_core/anndata.py:1832: UserWarning: Variable names are not unique. To make them unique, call `.var_names_make_unique`.\n",
            "  utils.warn_names_duplicates(\"var\")\n",
            "/usr/local/lib/python3.10/dist-packages/anndata/_core/anndata.py:1832: UserWarning: Variable names are not unique. To make them unique, call `.var_names_make_unique`.\n",
            "  utils.warn_names_duplicates(\"var\")\n",
            "/usr/local/lib/python3.10/dist-packages/anndata/_core/anndata.py:1832: UserWarning: Variable names are not unique. To make them unique, call `.var_names_make_unique`.\n",
            "  utils.warn_names_duplicates(\"var\")\n",
            "/usr/local/lib/python3.10/dist-packages/anndata/_core/anndata.py:1832: UserWarning: Variable names are not unique. To make them unique, call `.var_names_make_unique`.\n",
            "  utils.warn_names_duplicates(\"var\")\n",
            "/usr/local/lib/python3.10/dist-packages/anndata/_core/anndata.py:1832: UserWarning: Variable names are not unique. To make them unique, call `.var_names_make_unique`.\n",
            "  utils.warn_names_duplicates(\"var\")\n",
            "/usr/local/lib/python3.10/dist-packages/anndata/_core/anndata.py:1832: UserWarning: Variable names are not unique. To make them unique, call `.var_names_make_unique`.\n",
            "  utils.warn_names_duplicates(\"var\")\n",
            "/usr/local/lib/python3.10/dist-packages/anndata/_core/anndata.py:1832: UserWarning: Variable names are not unique. To make them unique, call `.var_names_make_unique`.\n",
            "  utils.warn_names_duplicates(\"var\")\n",
            "/usr/local/lib/python3.10/dist-packages/anndata/_core/anndata.py:1832: UserWarning: Variable names are not unique. To make them unique, call `.var_names_make_unique`.\n",
            "  utils.warn_names_duplicates(\"var\")\n",
            "/usr/local/lib/python3.10/dist-packages/anndata/_core/anndata.py:1832: UserWarning: Variable names are not unique. To make them unique, call `.var_names_make_unique`.\n",
            "  utils.warn_names_duplicates(\"var\")\n",
            "/usr/local/lib/python3.10/dist-packages/anndata/_core/anndata.py:1832: UserWarning: Variable names are not unique. To make them unique, call `.var_names_make_unique`.\n",
            "  utils.warn_names_duplicates(\"var\")\n",
            "/usr/local/lib/python3.10/dist-packages/anndata/_core/anndata.py:1832: UserWarning: Variable names are not unique. To make them unique, call `.var_names_make_unique`.\n",
            "  utils.warn_names_duplicates(\"var\")\n",
            "/usr/local/lib/python3.10/dist-packages/anndata/_core/anndata.py:1832: UserWarning: Variable names are not unique. To make them unique, call `.var_names_make_unique`.\n",
            "  utils.warn_names_duplicates(\"var\")\n",
            "/usr/local/lib/python3.10/dist-packages/anndata/_core/anndata.py:1832: UserWarning: Variable names are not unique. To make them unique, call `.var_names_make_unique`.\n",
            "  utils.warn_names_duplicates(\"var\")\n",
            "/usr/local/lib/python3.10/dist-packages/anndata/_core/anndata.py:1832: UserWarning: Variable names are not unique. To make them unique, call `.var_names_make_unique`.\n",
            "  utils.warn_names_duplicates(\"var\")\n",
            "/usr/local/lib/python3.10/dist-packages/anndata/_core/anndata.py:1832: UserWarning: Variable names are not unique. To make them unique, call `.var_names_make_unique`.\n",
            "  utils.warn_names_duplicates(\"var\")\n"
          ]
        }
      ]
    },
    {
      "cell_type": "code",
      "source": [
        "adata = ad.concat(adata_dict,axis = 0,label=\"Sample\",index_unique=\"_\")"
      ],
      "metadata": {
        "id": "C8-iRooWgk9A"
      },
      "execution_count": null,
      "outputs": []
    },
    {
      "cell_type": "code",
      "source": [],
      "metadata": {
        "id": "iFmhHJ7Uhu3g"
      },
      "execution_count": null,
      "outputs": []
    },
    {
      "cell_type": "code",
      "source": [
        "\n",
        "\n",
        "\n",
        "# a = adata_dict[list(adata_dict.keys())[0]].copy()\n",
        "# a.var_names_make_unique()\n",
        "# k = trim_key( list(adata_dict.keys())[0] )\n",
        "# # tagged_BC = pd.DataFrame({'tbc':[o+k for o in a.obs.index]}).set_index('tbc') # ,}\n",
        "# tagged_BC = pd.DataFrame({'bc': [o+'_' for o in a.obs.index]}).set_index('bc')\n",
        "# a.obs = tagged_BC\n",
        "# display(a.obs_names)\n",
        "\n",
        "\n",
        "# b = adata_dict[list(adata_dict.keys())[1]].copy()\n",
        "# b.var_names_make_unique()\n",
        "# k = trim_key( list(adata_dict.keys())[1] )\n",
        "# tagged_BC = pd.DataFrame({'bc': [o+'_' for o in b.obs.index]}).set_index('bc')\n",
        "# b.obs = tagged_BC\n",
        "# display(b.obs_names)\n",
        "# # b.T"
      ],
      "metadata": {
        "id": "WLSeAuY637Dv"
      },
      "execution_count": null,
      "outputs": []
    },
    {
      "cell_type": "code",
      "source": [
        "# a = adata_dict[list(adata_dict.keys())[0]].copy()\n",
        "# a.var_names_make_unique()\n"
      ],
      "metadata": {
        "id": "y--Ms7cfeHx_"
      },
      "execution_count": null,
      "outputs": []
    },
    {
      "cell_type": "code",
      "source": [
        "# keys = list(adata_dict.keys())\n",
        "# keys = [k.replace('_raw_gene_bc_matrices_h5.h5',\"\") for k in keys]\n",
        "# keys = [k.replace('_raw_gene_bc_matrics_h5.h5',\"\") for k in keys]\n",
        "# keys = [ k.replace(k.split(\"_\")[0],\"\") for k in keys]\n",
        "# _ =[print(k) for k in keys]\n",
        "\n",
        "# a.obs_names = [f\"Cell_{i:d}\" for i in range(adata.n_obs)]\n"
      ],
      "metadata": {
        "id": "9stQn-8X1uuC"
      },
      "execution_count": null,
      "outputs": []
    },
    {
      "cell_type": "code",
      "source": [
        "# m = ad.concat([a, b], merge=\"same\").var "
      ],
      "metadata": {
        "id": "iF9MNT5_x-fo"
      },
      "execution_count": null,
      "outputs": []
    },
    {
      "cell_type": "code",
      "source": [
        "# adata = anndata.concat(adata_dict) "
      ],
      "metadata": {
        "id": "FcfdgdPdv6ZV"
      },
      "execution_count": null,
      "outputs": []
    },
    {
      "cell_type": "code",
      "source": [
        "\n",
        "\n",
        "# barcode_file_name = get_file('https://ftp.ncbi.nlm.nih.gov/geo/series/GSE167nnn/GSE167497/suppl/GSE167497_barcode_summary_h5.h5')\n",
        "# filtered_file_name = get_file('https://ftp.ncbi.nlm.nih.gov/geo/series/GSE167nnn/GSE167497/suppl/GSE167497_filtered_gene_bc_matrices_h5.h5')\n",
        "# raw_gene_file_name = get_file('https://ftp.ncbi.nlm.nih.gov/geo/series/GSE167nnn/GSE167497/suppl/GSE167497_raw_gene_bc_matrices_h5.h5')\n"
      ],
      "metadata": {
        "id": "Y7GOyP0H9xOC"
      },
      "execution_count": null,
      "outputs": []
    },
    {
      "cell_type": "code",
      "source": [
        "sc.settings.verbosity = 3             # verbosity: errors (0), warnings (1), info (2), hints (3)\n",
        "sc.logging.print_header()\n",
        "sc.settings.set_figure_params(dpi=80, facecolor='white')"
      ],
      "metadata": {
        "id": "Z_G51qAaBse9"
      },
      "execution_count": null,
      "outputs": []
    },
    {
      "cell_type": "code",
      "source": [
        "adata = sc.read_10x_h5(raw_gene_file_name)\n",
        "sc.pp.filter_cells(adata, min_genes=200)\n",
        "sc.pp.filter_cells(adata, max_genes=2400)\n",
        "sc.pp.filter_genes(adata, min_cells=0)\n",
        "sc.pp.filter_genes(adata, max_cells=4500)\n",
        "adata"
      ],
      "metadata": {
        "id": "LK99tZxxlai-"
      },
      "execution_count": null,
      "outputs": []
    },
    {
      "cell_type": "code",
      "source": [
        "adata.var['mt'] = adata.var_names.str.startswith('mt-')\n",
        "sc.pp.calculate_qc_metrics(adata, qc_vars=['mt'], percent_top=None, log1p=False, inplace=True)"
      ],
      "metadata": {
        "id": "VcHmgJnBID3D"
      },
      "execution_count": null,
      "outputs": []
    },
    {
      "cell_type": "code",
      "source": [
        "sc.pl.violin(adata, ['n_genes_by_counts', 'total_counts', 'pct_counts_mt'],\n",
        "             jitter=0.4, multi_panel=True)"
      ],
      "metadata": {
        "id": "YYDQKl_xFHY4"
      },
      "execution_count": null,
      "outputs": []
    },
    {
      "cell_type": "code",
      "source": [
        "sc.pl.scatter(adata, x='total_counts', y='pct_counts_mt')\n",
        "sc.pl.scatter(adata, x='total_counts', y='n_genes_by_counts')"
      ],
      "metadata": {
        "id": "STOAEYftXBZg"
      },
      "execution_count": null,
      "outputs": []
    },
    {
      "cell_type": "code",
      "source": [
        "# adata = adata[adata.obs.n_genes_by_counts < 2500, :]\n",
        "adata = adata[adata.obs.pct_counts_mt < 0.25, :]\n",
        "adata"
      ],
      "metadata": {
        "id": "WA4eS0qDXH-n"
      },
      "execution_count": null,
      "outputs": []
    },
    {
      "cell_type": "code",
      "source": [
        "sc.pp.normalize_total(adata, target_sum=1e4)"
      ],
      "metadata": {
        "id": "5DrxLuIGXdgG"
      },
      "execution_count": null,
      "outputs": []
    },
    {
      "cell_type": "code",
      "source": [
        "fig,ax = plt.subplots(1,2,figsize=(8,4))\n",
        "key_list = list(X.keys())\n",
        "for k in key_list:\n",
        "    v = X[k]\n",
        "    print(obs[k][0])\n",
        "    print(v[0,:])"
      ],
      "metadata": {
        "id": "fXboeGuHZbAi"
      },
      "execution_count": null,
      "outputs": []
    },
    {
      "cell_type": "code",
      "source": [
        "for k,v in obs.items():\n",
        "    print(k)\n",
        "    print(v[0:10])\n",
        "    print(len(v))"
      ],
      "metadata": {
        "id": "BwPvb1adXm4Q"
      },
      "execution_count": null,
      "outputs": []
    }
  ]
}