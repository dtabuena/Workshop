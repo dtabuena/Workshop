{
  "nbformat": 4,
  "nbformat_minor": 0,
  "metadata": {
    "colab": {
      "provenance": [],
      "authorship_tag": "ABX9TyMDoMd9FJUICciDhDImvxBu",
      "include_colab_link": true
    },
    "kernelspec": {
      "name": "ir",
      "display_name": "R"
    },
    "language_info": {
      "name": "R"
    }
  },
  "cells": [
    {
      "cell_type": "markdown",
      "metadata": {
        "id": "view-in-github",
        "colab_type": "text"
      },
      "source": [
        "<a href=\"https://colab.research.google.com/github/dtabuena/Workshop/blob/main/Test_R_Colab.ipynb\" target=\"_parent\"><img src=\"https://colab.research.google.com/assets/colab-badge.svg\" alt=\"Open In Colab\"/></a>"
      ]
    },
    {
      "cell_type": "code",
      "source": [
        "install.packages(\"remotes\")\n",
        "install.packages(\"repmis\")"
      ],
      "metadata": {
        "colab": {
          "base_uri": "https://localhost:8080/"
        },
        "id": "Q7YyJCqfFvU6",
        "outputId": "94fa1db8-c627-4b3c-fcdb-9b0c92736555"
      },
      "execution_count": null,
      "outputs": [
        {
          "output_type": "stream",
          "name": "stderr",
          "text": [
            "Installing package into ‘/usr/local/lib/R/site-library’\n",
            "(as ‘lib’ is unspecified)\n",
            "\n",
            "Installing package into ‘/usr/local/lib/R/site-library’\n",
            "(as ‘lib’ is unspecified)\n",
            "\n",
            "also installing the dependencies ‘Rcpp’, ‘R.methodsS3’, ‘R.oo’, ‘R.utils’, ‘plyr’, ‘R.cache’\n",
            "\n",
            "\n"
          ]
        }
      ]
    },
    {
      "cell_type": "code",
      "source": [
        "myfilename<- \"obj_KO_update.RData\"\n",
        "mykey <- \"brhkvuzt9qacpcxjqf33c\"\n",
        "library(repmis)\n",
        "snow.data <- source_DropboxData(myfilename,\n",
        "   key=mykey, sep=\",\", header=TRUE)"
      ],
      "metadata": {
        "id": "NoWOPdaOGLIK"
      },
      "execution_count": null,
      "outputs": []
    },
    {
      "cell_type": "code",
      "source": [
        "URL <- \"https://www.dropbox.com/scl/fi/brhkvuzt9qacpcxjqf33c/obj_KO_update.RData?rlkey=u0ijyhac6rxkundvcvlrjmsx5&dl=0?raw=1\"\n",
        "download.file(URL, destfile = \"./obj_KO_update.RData\", method=\"curl\")\n",
        "load('obj_KO_update.RData')"
      ],
      "metadata": {
        "colab": {
          "base_uri": "https://localhost:8080/",
          "height": 193
        },
        "id": "KcTBGoOxDgV7",
        "outputId": "6d432d91-b40a-4f02-8022-83141277f6be"
      },
      "execution_count": null,
      "outputs": [
        {
          "output_type": "stream",
          "name": "stderr",
          "text": [
            "Warning message:\n",
            "“file ‘obj_KO_update.RData’ has magic number '302 F'\n",
            "  Use of save versions prior to 2 is deprecated”\n"
          ]
        },
        {
          "output_type": "error",
          "ename": "ERROR",
          "evalue": "ignored",
          "traceback": [
            "Error in load(\"obj_KO_update.RData\"): bad restore file magic number (file may be corrupted) -- no data loaded\nTraceback:\n",
            "1. load(\"obj_KO_update.RData\")"
          ]
        }
      ]
    },
    {
      "cell_type": "code",
      "source": [],
      "metadata": {
        "colab": {
          "base_uri": "https://localhost:8080/",
          "height": 140
        },
        "id": "SH7azfZ2D93j",
        "outputId": "016757c8-2ef6-437d-fe7e-60447ec50b2d"
      },
      "execution_count": null,
      "outputs": [
        {
          "output_type": "error",
          "ename": "ERROR",
          "evalue": "ignored",
          "traceback": [
            "Error in library(repmis): there is no package called ‘repmis’\nTraceback:\n",
            "1. library(repmis)"
          ]
        }
      ]
    },
    {
      "cell_type": "code",
      "execution_count": null,
      "metadata": {
        "id": "SPN0itOqDIlD"
      },
      "outputs": [],
      "source": [
        "rm(obj_KO)\n",
        "setwd('C:\\\\Users\\\\dennis.tabuena\\\\Dropbox (Gladstone)\\\\0_Projects\\\\Seurat_Scanpy\\\\Seurat_data')\n",
        "load('obj_KO_update.RData')\n",
        "cat(\"\\014\")\n",
        "print('data loaded')\n",
        "\n",
        "obj_KO@meta.data$orig.ident <- vapply(obj_KO@meta.data$orig.ident$V1, paste, collapse = \", \", character(1L))\n",
        "obj_KO@meta.data$Sample <- vapply(obj_KO@meta.data$Sample$V1, paste, collapse = \", \", character(1L))\n",
        "obj_KO@meta.data$Apoe <- vapply(obj_KO@meta.data$Apoe$V1, paste, collapse = \", \", character(1L))\n",
        "obj_KO@meta.data$KO <- vapply(obj_KO@meta.data$KO$V1, paste, collapse = \", \", character(1L))\n",
        "obj_KO@meta.data$animal_ID <- vapply(obj_KO@meta.data$animal_ID$V1, paste, collapse = \", \", character(1L))\n",
        "setwd('C:\\\\Users\\\\dennis.tabuena\\\\Dropbox (Gladstone)\\\\0_Projects\\\\Seurat_Scanpy\\\\Scanpy_data')\n",
        "MuDataSeurat::WriteH5AD(obj_KO, \"obj_KO.h5ad\", assay=\"RNA\")\n",
        "\n"
      ]
    }
  ]
}