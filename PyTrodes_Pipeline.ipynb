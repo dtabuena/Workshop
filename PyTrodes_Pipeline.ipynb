{
  "nbformat": 4,
  "nbformat_minor": 0,
  "metadata": {
    "colab": {
      "provenance": [],
      "authorship_tag": "ABX9TyNeO+4IpxvM1+SezOcf4ezY",
      "include_colab_link": true
    },
    "kernelspec": {
      "name": "python3",
      "display_name": "Python 3"
    },
    "language_info": {
      "name": "python"
    }
  },
  "cells": [
    {
      "cell_type": "markdown",
      "metadata": {
        "id": "view-in-github",
        "colab_type": "text"
      },
      "source": [
        "<a href=\"https://colab.research.google.com/github/dtabuena/Workshop/blob/main/PyTrodes_Pipeline.ipynb\" target=\"_parent\"><img src=\"https://colab.research.google.com/assets/colab-badge.svg\" alt=\"Open In Colab\"/></a>"
      ]
    },
    {
      "cell_type": "code",
      "execution_count": null,
      "metadata": {
        "id": "2UdepDxj5Gfd"
      },
      "outputs": [],
      "source": [
        "\"\"\"\n",
        "New Python Based Pipeline for Trodes\n",
        "\"\"\""
      ]
    },
    {
      "cell_type": "code",
      "source": [
        "\"\"\" Generate RAW_LFP Binaries from *.rec files\"\"\"\n",
        "\n",
        "\"\"\" Import RAW_LFP \"\"\"\n",
        "\n",
        "\"\"\" Import XY_position Data \"\"\"\n",
        "\n",
        "\"\"\" Find Ripples \"\"\"\n",
        "\n",
        "\"\"\" Map Channels \"\"\"\n",
        "\n",
        "\"\"\" Finde APs \"\"\"\n",
        "\n",
        "\"\"\" Find IIS \"\"\"\n",
        "\n",
        "\n"
      ],
      "metadata": {
        "id": "BM8tAWaR5cB3"
      },
      "execution_count": null,
      "outputs": []
    },
    {
      "cell_type": "code",
      "source": [],
      "metadata": {
        "id": "8U5mjei9G8zV"
      },
      "execution_count": null,
      "outputs": []
    }
  ]
}