{
  "nbformat": 4,
  "nbformat_minor": 0,
  "metadata": {
    "colab": {
      "provenance": [],
      "authorship_tag": "ABX9TyP/nzgNJxgdbZAoLp3XGzu9",
      "include_colab_link": true
    },
    "kernelspec": {
      "name": "python3",
      "display_name": "Python 3"
    },
    "language_info": {
      "name": "python"
    }
  },
  "cells": [
    {
      "cell_type": "markdown",
      "metadata": {
        "id": "view-in-github",
        "colab_type": "text"
      },
      "source": [
        "<a href=\"https://colab.research.google.com/github/dtabuena/Workshop/blob/main/PyTrodes_Pipeline.ipynb\" target=\"_parent\"><img src=\"https://colab.research.google.com/assets/colab-badge.svg\" alt=\"Open In Colab\"/></a>"
      ]
    },
    {
      "cell_type": "code",
      "execution_count": null,
      "metadata": {
        "id": "2UdepDxj5Gfd"
      },
      "outputs": [],
      "source": [
        "\"\"\"\n",
        "New Python Based Pipeline for Trodes\n",
        "\"\"\""
      ]
    },
    {
      "cell_type": "code",
      "source": [
        "import os\n",
        "import subprocess"
      ],
      "metadata": {
        "id": "dnx6gd9_xDMF"
      },
      "execution_count": null,
      "outputs": []
    },
    {
      "cell_type": "code",
      "source": [
        "\"\"\" Generate RAW_LFP Binaries from *.rec files\"\"\"\n",
        "dest_dir = r'\\\\hive.gladstone.internal\\Huang-LFP\\TabuenaLFP\\TRODE_EXPORTS\\RAW_DATA'\n",
        "export_func_location = r'C:\\Users\\dennis.tabuena\\Desktop\\_SPIKE_GADGETS\\Trodes_2-5-1_Windows64\\Trodes_2-5-1_Windows64\\trodesexport.exe'\n",
        "dot_rec_file_loc = r'\\\\hive.gladstone.internal\\Huang-LFP\\TabuenaLFP\\Test_Emily\\AngelfoodCake01\\AngelfoodCake01.rec'\n",
        "full_cmd_raw = ' '.join([export_func_location, '-raw',\n",
        "                    '-rec ', dot_rec_file_loc,\n",
        "                    '-userawrefs', str(0),\n",
        "                    '-outputdirectory', dest_dir])\n",
        "export_report = subprocess.run(full_cmd_raw)\n",
        "\n",
        "\"\"\" Import RAW_LFP \"\"\"\n",
        "\n",
        "\n",
        "\n",
        "\n",
        "\"\"\" Import XY_position Data \"\"\"\n",
        "\n",
        "\"\"\" Find Ripples \"\"\"\n",
        "\n",
        "\"\"\" Map Channels \"\"\"\n",
        "\n",
        "\"\"\" Finde APs \"\"\"\n",
        "\n",
        "\"\"\" Find IIS \"\"\"\n",
        "\n",
        "\n"
      ],
      "metadata": {
        "id": "BM8tAWaR5cB3"
      },
      "execution_count": null,
      "outputs": []
    },
    {
      "cell_type": "code",
      "source": [],
      "metadata": {
        "id": "8U5mjei9G8zV"
      },
      "execution_count": null,
      "outputs": []
    }
  ]
}