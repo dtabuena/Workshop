{
  "nbformat": 4,
  "nbformat_minor": 0,
  "metadata": {
    "colab": {
      "provenance": [],
      "authorship_tag": "ABX9TyNS++vBv56Q/UyxIVhhBtyN",
      "include_colab_link": true
    },
    "kernelspec": {
      "name": "python3",
      "display_name": "Python 3"
    },
    "language_info": {
      "name": "python"
    }
  },
  "cells": [
    {
      "cell_type": "markdown",
      "metadata": {
        "id": "view-in-github",
        "colab_type": "text"
      },
      "source": [
        "<a href=\"https://colab.research.google.com/github/dtabuena/Workshop/blob/main/RNA_Workshop/Analyze_BMX_scRNA.ipynb\" target=\"_parent\"><img src=\"https://colab.research.google.com/assets/colab-badge.svg\" alt=\"Open In Colab\"/></a>"
      ]
    },
    {
      "cell_type": "code",
      "execution_count": null,
      "metadata": {
        "id": "e-U1uRiBKykm"
      },
      "outputs": [],
      "source": [
        "!pip install scanpy --quiet\n",
        "import h5py\n",
        "import numpy as np\n",
        "import scipy as sci\n",
        "from matplotlib import pyplot as plt\n",
        "import scanpy as sc\n",
        "import tarfile\n",
        "import os\n",
        "import anndata as ad\n",
        "import pandas as pd\n",
        "import pybiomart\n",
        "import shutil\n",
        "from tqdm import tqdm\n",
        "import urllib.request\n",
        "from IPython.display import clear_output\n",
        "from matplotlib.pyplot import rc_context\n",
        "from scipy import stats as st\n",
        "import logging\n",
        "logger = logging.basicConfig(level=logging.INFO,format='%(asctime)s  %(message)s', datefmt='%Y/%m/%d %I:%M:%S %p',force=True)\n",
        "\n"
      ]
    },
    {
      "cell_type": "code",
      "source": [],
      "metadata": {
        "id": "MZBE2FsHx98O"
      },
      "execution_count": null,
      "outputs": []
    },
    {
      "cell_type": "code",
      "source": [
        "def z_score(x,axis=-1):\n",
        "    x=np.array(x)\n",
        "    return (x-np.mean(x,axis=axis))/np.std(x,axis=axis)\n",
        "\n",
        "def publishable_plots(FS=6):\n",
        "    plt.rcParams.update({'font.size': FS,'axes.linewidth':.5,'figure.dpi':300,\n",
        "                         'xtick.major.width': 0.5,'ytick.major.width': 0.5,\n",
        "                         'figure.titlesize':FS,'axes.titlesize': FS,'xtick.labelsize': FS,\n",
        "                         'ytick.labelsize':FS,'axes.labelsize': FS,'legend.fontsize': FS,\n",
        "                         'figure.labelsize':FS})\n",
        "\n",
        "    import urllib.request\n",
        "    arial_link = 'https://raw.githubusercontent.com/dtabuena/Resources/main/Fonts/arial.ttf'\n",
        "    filename = './arial.ttf'\n",
        "    urllib.request.urlretrieve(arial_link, filename)\n",
        "    plt.rcParams.update({'font.family': 'arial'})\n",
        "\n",
        "    try:\n",
        "        sc.settings.verbosity = 'error'             # verbosity: errors (0), warnings (1), info (2), hints (3)\n",
        "        sc.settings.set_figure_params(dpi=300, facecolor='white',fontsize=FS)\n",
        "    except: None\n",
        "    return None\n",
        "\n",
        "\n",
        "def pull_gene_annots(csv_loc='./mmusculus_coding_noncoding.csv',\n",
        "                     my_git='https://raw.githubusercontent.com/dtabuena/Resources/main/Genetics/mmusculus_coding_noncoding.csv',\n",
        "                     biomart_name='mmusculus',\n",
        "                     biomart_keys=[\"ensembl_gene_id\", \"chromosome_name\",\"transcript_biotype\",\"external_gene_name\",\"peptide\"]):\n",
        "\n",
        "    logging.info('pulling gene annotations...')\n",
        "    if os.path.exists('./mmusculus_coding_noncoding.csv'):\n",
        "        logging.info( 'Use local copy of musmus')\n",
        "        annot_dd = pd.read_csv('./mmusculus_coding_noncoding.csv').set_index(\"external_gene_name\")\n",
        "    else:\n",
        "        try:\n",
        "            logging.info( 'attempting to pull mus mus from git...')\n",
        "            musmus_link = 'https://raw.githubusercontent.com/dtabuena/Resources/main/Genetics/mmusculus_coding_noncoding.csv'\n",
        "            filename = './mmusculus_coding_noncoding.csv'\n",
        "            urllib.request.urlretrieve(musmus_link, filename)\n",
        "            annot_dd = pd.read_csv(filename).set_index(\"external_gene_name\")\n",
        "        except:\n",
        "            logging.info('attempting to pull mus mus from biomart...')\n",
        "            annot = sc.queries.biomart_annotations(\"mmusculus\",[\"ensembl_gene_id\", \"chromosome_name\",\"transcript_biotype\",\"external_gene_name\"],).set_index('ensembl_gene_id')\n",
        "            uniq_inds = list(set(list(annot.index)))\n",
        "            for r in tqdm(uniq_inds):\n",
        "                match_bool = annot.index.str.contains(r)\n",
        "                if np.sum(match_bool)>1:\n",
        "                    new_val ='__'.join(list(annot.loc[r,'transcript_biotype']))\n",
        "                    annot.at[r,'transcript_biotype']=new_val\n",
        "            annot['is_coding']= annot.transcript_biotype.str.contains('coding')\n",
        "            annot_dd = annot.drop_duplicates().set_index(\"external_gene_name\")\n",
        "            annot_dd.to_csv('./mmusculus_coding_noncoding.csv')\n",
        "\n",
        "    coding_list = annot_dd.index[ annot_dd['is_coding'] ].to_list()\n",
        "    return coding_list, annot_dd\n",
        "\n",
        "\n",
        "def copy_original_data():\n",
        "    ##### Find and Copy MTX DAta\n",
        "    subfolder='/outs/raw_gene_bc_matrices/mm10-1.2.0_premrna/'\n",
        "    parent_folder='//hive.gladstone.internal/Huang-Lab/kzalocus/bumex_snSeq/'\n",
        "    needed_files = ['/barcodes.tsv', '/genes.tsv', '/matrix.mtx']\n",
        "    dest_folder = 'C:/Users/dennis.tabuena/Dropbox (Gladstone)/0_Projects/snBMX/'\n",
        "\n",
        "    folder_list = [f.name for f in os.scandir(parent_folder) if f.is_dir()]\n",
        "    folder_list = [f for f in folder_list if \"_\" in f]\n",
        "    _=[logging.info(f) for f in folder_list if \"_\" in f]\n",
        "\n",
        "\n",
        "    f = folder_list[0]\n",
        "    f_list = [''.join([parent_folder,f,subfolder,n]) for n in needed_files] #\n",
        "    logging.info(f_list)\n",
        "\n",
        "    for f in folder_list:\n",
        "        for n in needed_files:\n",
        "            src = ''.join([parent_folder,f,subfolder,n])\n",
        "            try:\n",
        "                logging.info(''.join([dest_folder,f,'/']))\n",
        "                os.makedirs(''.join([dest_folder,f,'/']))\n",
        "            except: None\n",
        "            dst = ''.join([dest_folder,f,n])\n",
        "            logging.info(src)\n",
        "            logging.info(dst)\n",
        "            shutil.copyfile(src, dst)\n",
        "    return None\n",
        "\n",
        "\n",
        "publishable_plots(6)\n",
        "pd.set_option('display.max_rows',100)"
      ],
      "metadata": {
        "id": "y5DpMQR0t-7H"
      },
      "execution_count": null,
      "outputs": []
    },
    {
      "cell_type": "code",
      "source": [
        "\n"
      ],
      "metadata": {
        "id": "H3QCaQGKE8HS"
      },
      "execution_count": null,
      "outputs": []
    },
    {
      "cell_type": "code",
      "source": [
        "key_loc = 'https://raw.githubusercontent.com/dtabuena/Workshop/61a957d8c34d5c46c6ab7cc52e1f0330607aaf86/RNA_Workshop/UNOFFICIAL_apoE_BMX_key.csv'\n",
        "data_key = pd.read_csv(key_loc).set_index('Animal')"
      ],
      "metadata": {
        "id": "swTIKJFWoRMQ"
      },
      "execution_count": null,
      "outputs": []
    },
    {
      "cell_type": "code",
      "source": [
        "working_dir = 'C:/Users/dennis.tabuena/Dropbox (Gladstone)/0_Projects/snBMX/'\n",
        "os.chdir(working_dir)\n",
        "folder_list = [f.path for f in os.scandir(working_dir) if f.is_dir() and '_' in f.name]\n",
        "if len(folder_list)==0:\n",
        "    copy_original_data()\n",
        "    folder_list = [f.path for f in os.scandir(working_dir) if f.is_dir() and '_' in f.name]\n",
        "adata_dict = {}\n",
        "for f in tqdm(folder_list):\n",
        "    a = sc.read_10x_mtx(f)\n",
        "    sample_ID = f.split('/')[-1]\n",
        "    adata_dict[sample_ID]=a\n",
        "    a=[]\n",
        "adata = ad.concat(adata_dict,axis = 0,label=\"sample\",index_unique=\"_\")\n",
        "\n",
        "\n"
      ],
      "metadata": {
        "id": "LVR2Vjis0NDE"
      },
      "execution_count": null,
      "outputs": []
    },
    {
      "cell_type": "code",
      "source": [
        "adata.obs['treatment'] = [ data_key.loc[bc.split('_')[-1],'Treatment']  for bc in adata.obs.index]\n",
        "adata.obs['apoe_iso'] = [s.split('_')[-1][:4] for s in adata.obs['sample']]"
      ],
      "metadata": {
        "id": "sKpmkq5ju0X1"
      },
      "execution_count": 20,
      "outputs": []
    },
    {
      "cell_type": "code",
      "source": [
        "def preprocess_andata10x(adata_og,pct_mito=0.25,min_genes=200,max_genes=2400,min_counts=100,max_counts=4500):\n",
        "\n",
        "\n",
        "    coding_list, _ = pull_gene_annots()\n",
        "\n",
        "\n",
        "    # adata_og.var['mt'] = adata_og.var_names.str.startswith('mt-')\n",
        "    # adata_og.var['coding'] = [gene in coding_list for gene in adata_og.var_names]\n",
        "    # sc.pp.calculate_qc_metrics(adata_og, qc_vars=['mt'], percent_top=None, log1p=False, inplace=True)\n",
        "\n",
        "    adata_filt = adata_og.copy()\n",
        "\n",
        "    adata_filt.var['mt'] = adata_filt.var_names.str.startswith('mt-')\n",
        "    adata_filt.var['coding'] = [gene in coding_list for gene in adata_filt.var_names]\n",
        "    sc.pp.calculate_qc_metrics(adata_filt, qc_vars=['mt'], percent_top=None, log1p=False, inplace=True)\n",
        "    display(adata_filt.var.head())\n",
        "    # adata_filt.var['not_mt'] =  np.logical_not( adata_filt.var['mt'])\n",
        "\n",
        "    # logging.info('Filtering...')\n",
        "    # adata_filt = adata_filt[adata_filt.obs.pct_counts_mt < pct_mito, :]\n",
        "    # logging.info(str(np.sum(adata_og.obs.pct_counts_mt <pct_mito)) + f' cells with >{pct_mito}% mt-RNA removed')\n",
        "    # adata_filt = adata_filt[:, adata_filt.var.coding]\n",
        "    # logging.info(str(np.sum(np.logical_not(adata_og.var.coding))) + ' non coding genes removed')\n",
        "    # sc.pp.filter_cells(adata_filt, min_genes=min_genes)\n",
        "    # sc.pp.filter_cells(adata_filt, max_genes=max_genes)\n",
        "    # sc.pp.filter_cells(adata_filt, min_counts=min_counts)\n",
        "    # sc.pp.filter_cells(adata_filt, max_counts=max_counts)\n",
        "    # fig,ax=plt.subplots(1,figsize=(1.5,1.5))\n",
        "    # sc.pl.scatter(adata_filt, x='total_counts', y='n_genes_by_counts',ax=ax)\n",
        "    # logging.info(str(len(adata_filt.obs))+' cells remaining')\n",
        "    return adata_filt,adata_og\n",
        "\n",
        "adata_filt = preprocess_andata10x(adata)[0]"
      ],
      "metadata": {
        "colab": {
          "base_uri": "https://localhost:8080/",
          "height": 241
        },
        "id": "GQ-FbjOC1BuC",
        "outputId": "0f2f554b-698a-493d-c95e-f5b33de137d3"
      },
      "execution_count": 21,
      "outputs": [
        {
          "output_type": "stream",
          "name": "stderr",
          "text": [
            "2023/10/03 10:46:27 AM  pulling gene annotations...\n",
            "2023/10/03 10:46:27 AM  attempting to pull mus mus from git...\n"
          ]
        },
        {
          "output_type": "display_data",
          "data": {
            "text/plain": [
              "            mt  coding  n_cells_by_counts   mean_counts  \\\n",
              "Xkr4     False    True              49379  8.423643e-03   \n",
              "Gm1992   False   False               3590  4.295066e-04   \n",
              "Gm37381  False   False                  3  3.390842e-07   \n",
              "Rp1      False    True                 51  5.764432e-06   \n",
              "Rp1-1    False   False                  0  0.000000e+00   \n",
              "\n",
              "         pct_dropout_by_counts  total_counts  \n",
              "Xkr4                 99.441879       74527.0  \n",
              "Gm1992               99.959423        3800.0  \n",
              "Gm37381              99.999966           3.0  \n",
              "Rp1                  99.999424          51.0  \n",
              "Rp1-1               100.000000           0.0  "
            ],
            "text/html": [
              "<div>\n",
              "<style scoped>\n",
              "    .dataframe tbody tr th:only-of-type {\n",
              "        vertical-align: middle;\n",
              "    }\n",
              "\n",
              "    .dataframe tbody tr th {\n",
              "        vertical-align: top;\n",
              "    }\n",
              "\n",
              "    .dataframe thead th {\n",
              "        text-align: right;\n",
              "    }\n",
              "</style>\n",
              "<table border=\"1\" class=\"dataframe\">\n",
              "  <thead>\n",
              "    <tr style=\"text-align: right;\">\n",
              "      <th></th>\n",
              "      <th>mt</th>\n",
              "      <th>coding</th>\n",
              "      <th>n_cells_by_counts</th>\n",
              "      <th>mean_counts</th>\n",
              "      <th>pct_dropout_by_counts</th>\n",
              "      <th>total_counts</th>\n",
              "    </tr>\n",
              "  </thead>\n",
              "  <tbody>\n",
              "    <tr>\n",
              "      <th>Xkr4</th>\n",
              "      <td>False</td>\n",
              "      <td>True</td>\n",
              "      <td>49379</td>\n",
              "      <td>8.423643e-03</td>\n",
              "      <td>99.441879</td>\n",
              "      <td>74527.0</td>\n",
              "    </tr>\n",
              "    <tr>\n",
              "      <th>Gm1992</th>\n",
              "      <td>False</td>\n",
              "      <td>False</td>\n",
              "      <td>3590</td>\n",
              "      <td>4.295066e-04</td>\n",
              "      <td>99.959423</td>\n",
              "      <td>3800.0</td>\n",
              "    </tr>\n",
              "    <tr>\n",
              "      <th>Gm37381</th>\n",
              "      <td>False</td>\n",
              "      <td>False</td>\n",
              "      <td>3</td>\n",
              "      <td>3.390842e-07</td>\n",
              "      <td>99.999966</td>\n",
              "      <td>3.0</td>\n",
              "    </tr>\n",
              "    <tr>\n",
              "      <th>Rp1</th>\n",
              "      <td>False</td>\n",
              "      <td>True</td>\n",
              "      <td>51</td>\n",
              "      <td>5.764432e-06</td>\n",
              "      <td>99.999424</td>\n",
              "      <td>51.0</td>\n",
              "    </tr>\n",
              "    <tr>\n",
              "      <th>Rp1-1</th>\n",
              "      <td>False</td>\n",
              "      <td>False</td>\n",
              "      <td>0</td>\n",
              "      <td>0.000000e+00</td>\n",
              "      <td>100.000000</td>\n",
              "      <td>0.0</td>\n",
              "    </tr>\n",
              "  </tbody>\n",
              "</table>\n",
              "</div>"
            ]
          },
          "metadata": {}
        }
      ]
    },
    {
      "cell_type": "code",
      "source": [
        "\n",
        "def high_var_genes_dim_reduc(adata,min_mean = 0.25,max_mean = 4,min_disp=0.55,pca_list=[]):\n",
        "    ''' The gene expression matrices were then log-normalized with a scale factor of 10,000,\n",
        "    using the Seurat NormalizeData function57,58. Highly dispersed genes were selected using\n",
        "    the Seurat FindVariableGenes function57,58,filtering for an average expression range of\n",
        "    0.25–4 and a minimum dispersion of 0.55, resulting in a list of 2,197 genes.'''\n",
        "    adata.raw = adata\n",
        "    sc.pp.normalize_total(adata, target_sum=10000)\n",
        "    sc.pp.log1p(adata)\n",
        "    sc.pp.highly_variable_genes(adata, min_mean=min_mean, max_mean=max_mean, min_disp=min_disp)\n",
        "    with rc_context({'figure.figsize': (1.5, 1.5)}):\n",
        "        sc.pl.highly_variable_genes(adata)\n",
        "    plt.tight_layout()\n",
        "    logging.info(np.sum(adata.var['highly_variable']),'hv genes')\n",
        "\n",
        "\n",
        "    #### PCA\n",
        "    sc.tl.pca(adata, svd_solver='arpack',n_comps=50)\n",
        "    fig,ax=plt.subplots(figsize=(1.5,1))\n",
        "    ax.plot(adata.uns['pca']['variance_ratio'][:35],'ok',markersize=1)\n",
        "    quiet_PCA_plots(adata,pca_list,pc_pairs=[(0,1),(2,3),(4,5),(6,7)])\n",
        "\n",
        "    return adata\n",
        "\n",
        "def quiet_PCA_plots(adata,key_list,figsize=(1.5, 1.5),pc_pairs=[(0,1)]):\n",
        "    fig,ax=plt.subplots(1*len(pc_pairs),len(key_list),figsize=(figsize[0]*len(key_list),figsize[1]*len(pc_pairs)))\n",
        "    for ip,pair in enumerate(pc_pairs):\n",
        "        if len(key_list) == 1: ax=[ax]\n",
        "        for key_ind,key in enumerate(key_list):\n",
        "            key_types = sorted(list(set( adata.obs[key] )))\n",
        "            for k in key_types:\n",
        "                is_k = adata.obs[key]==k\n",
        "                ax[ip,key_ind].scatter(adata.obsm['X_pca'][is_k,pair[0]],adata.obsm['X_pca'][is_k,pair[1]],s=2,marker='.',linewidth=0,edgecolors=None,label=k)\n",
        "                ax[ip,key_ind].set_xlabel(f'PC{pair[0]}')\n",
        "                ax[ip,key_ind].set_ylabel(f'PC{pair[1]}')\n",
        "            if len(key_types)<8: ax[ip,key_ind].legend(key_types,loc='best',markerscale=3)\n",
        "            ax[ip,key_ind].set_title(key)\n",
        "            plt.tight_layout()\n",
        "    return None\n",
        "\n",
        "\n",
        "adata_QC = high_var_genes_dim_reduc(adata_filt,min_mean = 0.05,max_mean = 6,min_disp=0.55,pca_list=[])"
      ],
      "metadata": {
        "id": "g_T_taBqr8BM",
        "outputId": "215b2805-89d7-428f-c4e9-85581f8a5c9d",
        "colab": {
          "base_uri": "https://localhost:8080/",
          "height": 210
        }
      },
      "execution_count": 1,
      "outputs": [
        {
          "output_type": "error",
          "ename": "NameError",
          "evalue": "ignored",
          "traceback": [
            "\u001b[1;31m---------------------------------------------------------------------------\u001b[0m",
            "\u001b[1;31mNameError\u001b[0m                                 Traceback (most recent call last)",
            "Cell \u001b[1;32mIn[1], line 41\u001b[0m\n\u001b[0;32m     37\u001b[0m             plt\u001b[38;5;241m.\u001b[39mtight_layout()\n\u001b[0;32m     38\u001b[0m     \u001b[38;5;28;01mreturn\u001b[39;00m \u001b[38;5;28;01mNone\u001b[39;00m\n\u001b[1;32m---> 41\u001b[0m adata_QC \u001b[38;5;241m=\u001b[39m high_var_genes_dim_reduc(adata_filt,min_mean \u001b[38;5;241m=\u001b[39m \u001b[38;5;241m0.05\u001b[39m,max_mean \u001b[38;5;241m=\u001b[39m \u001b[38;5;241m6\u001b[39m,min_disp\u001b[38;5;241m=\u001b[39m\u001b[38;5;241m0.55\u001b[39m,pca_list\u001b[38;5;241m=\u001b[39m[])\n",
            "\u001b[1;31mNameError\u001b[0m: name 'adata_filt' is not defined"
          ]
        }
      ]
    },
    {
      "cell_type": "code",
      "source": [
        "############## GABAERGIC Filter #####################\n",
        "adata_GABA = adata_QC.copy()\n",
        "adata_GABA.obs['Gad1_pos'] = z_score(sc.get.obs_df(adata_GABA,'Gad1'))>0.5\n",
        "adata_GABA.obs['Gad2_pos'] = z_score(sc.get.obs_df(adata_GABA,'Gad2'))>0.5\n",
        "adata_GABA.obs['Syn1_pos'] = z_score(sc.get.obs_df(adata_GABA,'Syn1'))>-100\n",
        "is_gaba = np.logical_and( np.logical_or(adata_GABA.obs['Gad1_pos'] , adata_GABA.obs['Gad2_pos'] ), adata_GABA.obs['Syn1_pos'])\n",
        "adata_GABA.obs['Gabaergic'] = is_gaba\n",
        "adata_GABA = adata_GABA[ adata_GABA.obs['Gabaergic'] ,:]\n"
      ],
      "metadata": {
        "id": "JMgAXJatxzXX"
      },
      "execution_count": null,
      "outputs": []
    },
    {
      "cell_type": "code",
      "source": [
        "def umap_and_cluster(adata, n_neighbors=10, n_pcs=20,resolution=.6,plot_keys=['Cluster (nn)'],size = 1,to_plot=True):\n",
        "    sc.pp.neighbors(adata, n_neighbors=n_neighbors, n_pcs=n_pcs,random_state=42)\n",
        "    sc.tl.louvain(adata,resolution=resolution,random_state=42)\n",
        "    sc.tl.paga(adata)\n",
        "    sc.tl.umap(adata,random_state=42)\n",
        "    adata.obs['Cluster (nn)']= adata.obs['louvain']\n",
        "    if to_plot:\n",
        "        with rc_context({'figure.figsize': (2.5, 2.5)}):\n",
        "            sc.pl.umap(adata,add_outline=False, legend_loc='on data', color=plot_keys,size=size)\n",
        "    return adata\n",
        "\n",
        "def explore_umap(adata_GABA,key_list=[],size=1,legend_loc=None):\n",
        "    with rc_context({'figure.figsize': (1.5,1.5)}):\n",
        "        sc.pl.umap(adata_GABA, legend_loc=legend_loc, color=key_list,vmin=0,size=size) # add_outline=True,\n",
        "        plt.tight_layout()\n",
        "\n",
        "def get_gene_cluster(adata,gene):\n",
        "    gene_bool = z_score(sc.get.obs_df(adata,gene))>2\n",
        "    gene_cluster_list = np.array(adata.obs['louvain'][gene_bool])\n",
        "    gene_clust = st.mode(gene_cluster_list)\n",
        "    return gene_clust[0][0]\n",
        "\n",
        "\n",
        "# adata_GABA = umap_and_cluster(adata_GABA, n_neighbors=15, n_pcs=25,resolution=.6,to_plot=False)\n",
        "# explore_umap(adata_GABA,['Cluster (nn)'],legend_loc='on data')\n",
        "# explore_umap(adata_GABA,['sample','treatment','apoe_iso'])\n",
        "# explore_umap(adata_GABA,['Sst'])\n",
        "adata_GABA.var"
      ],
      "metadata": {
        "id": "Ld_EqGP6wPvG"
      },
      "execution_count": null,
      "outputs": []
    }
  ]
}