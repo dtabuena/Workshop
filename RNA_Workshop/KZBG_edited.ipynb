{
  "cells": [
    {
      "cell_type": "markdown",
      "metadata": {
        "id": "view-in-github",
        "colab_type": "text"
      },
      "source": [
        "<a href=\"https://colab.research.google.com/github/dtabuena/Workshop/blob/main/RNA_Workshop/KZBG_edited.ipynb\" target=\"_parent\"><img src=\"https://colab.research.google.com/assets/colab-badge.svg\" alt=\"Open In Colab\"/></a>"
      ]
    },
    {
      "cell_type": "code",
      "source": [
        "!pip install scanpy\n",
        "!pip install pybiomart\n",
        "!pip install python-igraph\n",
        "!pip install louvain\n",
        "!pip install pynndescent\n",
        "from IPython.display import clear_output\n",
        "clear_output()\n"
      ],
      "metadata": {
        "id": "0dFMABdeZaRe"
      },
      "id": "0dFMABdeZaRe",
      "execution_count": 14,
      "outputs": []
    },
    {
      "cell_type": "code",
      "source": [
        "import os\n",
        "import h5py\n",
        "import numpy as np\n",
        "import scipy as sci\n",
        "import matplotlib as mpl\n",
        "from matplotlib import pyplot as plt\n",
        "import scanpy as sc\n",
        "import tarfile\n",
        "import os\n",
        "import anndata as ad\n",
        "import pandas as pd\n",
        "import pybiomart\n",
        "from tqdm import tqdm\n",
        "from matplotlib.pyplot import rc_context\n"
      ],
      "metadata": {
        "id": "_uKBC8oIZYl7"
      },
      "id": "_uKBC8oIZYl7",
      "execution_count": 15,
      "outputs": []
    },
    {
      "cell_type": "code",
      "source": [
        "os.chdir(\"C:/Users/dennis.tabuena/Dropbox (Gladstone)/0_Projects/_ReAnalyze_Zalocusky_2021\")\n",
        "\n",
        "def publishable_plots(FS=6):\n",
        "    plt.rcParams.update({'font.size': FS,'axes.linewidth':.5,'figure.dpi':300,\n",
        "                         'xtick.major.width': 0.5,'ytick.major.width': 0.5,\n",
        "                         'figure.titlesize':FS,'axes.titlesize': FS,'xtick.labelsize': FS,\n",
        "                         'ytick.labelsize':FS,'axes.labelsize': FS,'legend.fontsize': FS,\n",
        "                         'figure.labelsize':FS})\n",
        "\n",
        "    import urllib.request\n",
        "    arial_link = 'https://raw.githubusercontent.com/dtabuena/Resources/main/Fonts/arial.ttf'\n",
        "    filename = './arial.ttf'\n",
        "    urllib.request.urlretrieve(arial_link, filename)\n",
        "    plt.rcParams.update({'font.family': 'arial'})\n",
        "    return None\n",
        "\n",
        "\n",
        "def seurat_cmap(bitdepth=256,orig=11,s=.65,v=1,alpha=1):\n",
        "    orig=orig/360\n",
        "    bits = np.linspace(orig,orig+1,num=bitdepth+3)\n",
        "    colors = [list(mpl.colors.hsv_to_rgb([h, s, v]))+[alpha] for h in bits]\n",
        "    return colors\n",
        "\n",
        "\n",
        "publishable_plots()\n",
        "sc.settings.set_figure_params(dpi=300, facecolor='white',fontsize=6,)"
      ],
      "metadata": {
        "id": "ZXELsWY9ZWlL"
      },
      "id": "ZXELsWY9ZWlL",
      "execution_count": 16,
      "outputs": []
    },
    {
      "cell_type": "code",
      "execution_count": 17,
      "id": "45344770",
      "metadata": {
        "scrolled": true,
        "colab": {
          "base_uri": "https://localhost:8080/",
          "height": 139
        },
        "id": "45344770",
        "outputId": "cb7acd14-b15b-44c1-b695-3c5d1a3c0cb3"
      },
      "outputs": [
        {
          "output_type": "display_data",
          "data": {
            "text/plain": [
              "AnnData object with n_obs × n_vars = 123489 × 21204\n",
              "    obs: 'nGene', 'nUMI', 'orig.ident', 'sampleNumber', 'percent.mito', 'res.0.6', 'nCount_RNA', 'nFeature_RNA', 'group_vec'\n",
              "    var: 'highly_variable'\n",
              "    uns: 'pca'\n",
              "    obsm: 'X_pca', 'X_tsne'\n",
              "    varm: 'PCs'\n",
              "    layers: 'counts', 'data'"
            ]
          },
          "metadata": {}
        }
      ],
      "source": [
        "os.chdir(\"C:/Users/dennis.tabuena/Dropbox (Gladstone)/0_Projects/Seurat_Scanpy/Scanpy_data/\")\n",
        "filename ='./zalocusky_2021_mouse_ApoE (1).h5ad'\n",
        "kzbg_apoe_adata = sc.read_h5ad(filename)\n",
        "display(kzbg_apoe_adata)\n",
        "keys = list(np.arange(27))\n",
        "seurat_id_order=[1,2,3,4,21,8,6,10,15,16,13,7,5,17,19,11,9,12,26,23,25,22,27,14,24,20,18]\n",
        "seurat_id_order = [str(s) for s in seurat_id_order]\n",
        "seurat_id_dict = { keys[i]:seurat_id_order[i] for i in range(len(seurat_id_order))   }\n",
        "kzbg_apoe_adata.obs['res.0.6'] = [seurat_id_dict[int(c)] for c in  kzbg_apoe_adata.obs['res.0.6']]"
      ]
    },
    {
      "cell_type": "code",
      "source": [
        "display(kzbg_apoe_adata.var.head())"
      ],
      "metadata": {
        "id": "TZO9xIPuoLAu",
        "outputId": "31587d61-e2b7-454e-ac17-d16932681122",
        "colab": {
          "base_uri": "https://localhost:8080/",
          "height": 206
        }
      },
      "id": "TZO9xIPuoLAu",
      "execution_count": 18,
      "outputs": [
        {
          "output_type": "display_data",
          "data": {
            "text/plain": [
              "        highly_variable\n",
              "Xkr4                  0\n",
              "Rp1                   0\n",
              "Sox17                 0\n",
              "Mrpl15                0\n",
              "Lypla1                0"
            ],
            "text/html": [
              "<div>\n",
              "<style scoped>\n",
              "    .dataframe tbody tr th:only-of-type {\n",
              "        vertical-align: middle;\n",
              "    }\n",
              "\n",
              "    .dataframe tbody tr th {\n",
              "        vertical-align: top;\n",
              "    }\n",
              "\n",
              "    .dataframe thead th {\n",
              "        text-align: right;\n",
              "    }\n",
              "</style>\n",
              "<table border=\"1\" class=\"dataframe\">\n",
              "  <thead>\n",
              "    <tr style=\"text-align: right;\">\n",
              "      <th></th>\n",
              "      <th>highly_variable</th>\n",
              "    </tr>\n",
              "  </thead>\n",
              "  <tbody>\n",
              "    <tr>\n",
              "      <th>Xkr4</th>\n",
              "      <td>0</td>\n",
              "    </tr>\n",
              "    <tr>\n",
              "      <th>Rp1</th>\n",
              "      <td>0</td>\n",
              "    </tr>\n",
              "    <tr>\n",
              "      <th>Sox17</th>\n",
              "      <td>0</td>\n",
              "    </tr>\n",
              "    <tr>\n",
              "      <th>Mrpl15</th>\n",
              "      <td>0</td>\n",
              "    </tr>\n",
              "    <tr>\n",
              "      <th>Lypla1</th>\n",
              "      <td>0</td>\n",
              "    </tr>\n",
              "  </tbody>\n",
              "</table>\n",
              "</div>"
            ]
          },
          "metadata": {}
        }
      ]
    },
    {
      "cell_type": "code",
      "source": [
        "kzbg_apoe_adata.obs['group_vec']"
      ],
      "metadata": {
        "id": "NG3FhvHmizMN",
        "outputId": "f292cced-954d-4ff3-bde7-79a91a742b40",
        "colab": {
          "base_uri": "https://localhost:8080/"
        }
      },
      "id": "NG3FhvHmizMN",
      "execution_count": 19,
      "outputs": [
        {
          "output_type": "execute_result",
          "data": {
            "text/plain": [
              "AAACCTGAGAATGTTG-1     c(6, 6, 6, 6, 6, 6, 6, 6, 6, 6, 6, 6, 6, 6, 6,...\n",
              "AAACCTGAGACTAAGT-1     c(6, 6, 6, 6, 6, 6, 6, 6, 6, 6, 6, 6, 6, 6, 6,...\n",
              "AAACCTGAGGTGCACA-1     c(6, 6, 6, 6, 6, 6, 6, 6, 6, 6, 6, 6, 6, 6, 6,...\n",
              "AAACCTGCACCCATGG-1     c(6, 6, 6, 6, 6, 6, 6, 6, 6, 6, 6, 6, 6, 6, 6,...\n",
              "AAACCTGGTACGCTGC-1     c(6, 6, 6, 6, 6, 6, 6, 6, 6, 6, 6, 6, 6, 6, 6,...\n",
              "                                             ...                        \n",
              "TTTGTCATCAATCACG-32    c(6, 6, 6, 6, 6, 6, 6, 6, 6, 6, 6, 6, 6, 6, 6,...\n",
              "TTTGTCATCGGTGTTA-32    c(6, 6, 6, 6, 6, 6, 6, 6, 6, 6, 6, 6, 6, 6, 6,...\n",
              "TTTGTCATCTACTTAC-32    c(6, 6, 6, 6, 6, 6, 6, 6, 6, 6, 6, 6, 6, 6, 6,...\n",
              "TTTGTCATCTGCGTAA-32    c(6, 6, 6, 6, 6, 6, 6, 6, 6, 6, 6, 6, 6, 6, 6,...\n",
              "TTTGTCATCTGGTTCC-32    c(6, 6, 6, 6, 6, 6, 6, 6, 6, 6, 6, 6, 6, 6, 6,...\n",
              "Name: group_vec, Length: 123489, dtype: object"
            ]
          },
          "metadata": {},
          "execution_count": 19
        }
      ]
    },
    {
      "cell_type": "code",
      "execution_count": 20,
      "id": "9cdf4c45",
      "metadata": {
        "scrolled": true,
        "id": "9cdf4c45",
        "outputId": "a37924ab-e4a6-4836-baed-34da57c2465c",
        "colab": {
          "base_uri": "https://localhost:8080/",
          "height": 297
        }
      },
      "outputs": [
        {
          "output_type": "error",
          "ename": "IndexError",
          "evalue": "ignored",
          "traceback": [
            "\u001b[1;31m---------------------------------------------------------------------------\u001b[0m",
            "\u001b[1;31mIndexError\u001b[0m                                Traceback (most recent call last)",
            "Cell \u001b[1;32mIn[20], line 3\u001b[0m\n\u001b[0;32m      1\u001b[0m age_bin_dict \u001b[38;5;241m=\u001b[39m {\u001b[38;5;124m\"\u001b[39m\u001b[38;5;124m5mo\u001b[39m\u001b[38;5;124m\"\u001b[39m:\u001b[38;5;124m'\u001b[39m\u001b[38;5;124m05mo\u001b[39m\u001b[38;5;124m'\u001b[39m, \u001b[38;5;124m\"\u001b[39m\u001b[38;5;124m10mo\u001b[39m\u001b[38;5;124m\"\u001b[39m:\u001b[38;5;124m'\u001b[39m\u001b[38;5;124m10mo\u001b[39m\u001b[38;5;124m'\u001b[39m, \u001b[38;5;124m\"\u001b[39m\u001b[38;5;124m14mo\u001b[39m\u001b[38;5;124m\"\u001b[39m:\u001b[38;5;124m'\u001b[39m\u001b[38;5;124m15_20m\u001b[39m\u001b[38;5;124m'\u001b[39m, \u001b[38;5;124m\"\u001b[39m\u001b[38;5;124m15mo\u001b[39m\u001b[38;5;124m\"\u001b[39m:\u001b[38;5;124m'\u001b[39m\u001b[38;5;124m15_20mo\u001b[39m\u001b[38;5;124m'\u001b[39m, \u001b[38;5;124m\"\u001b[39m\u001b[38;5;124m20mo\u001b[39m\u001b[38;5;124m\"\u001b[39m:\u001b[38;5;124m'\u001b[39m\u001b[38;5;124m15_20mo\u001b[39m\u001b[38;5;124m'\u001b[39m}\n\u001b[0;32m      2\u001b[0m kzbg_apoe_adata\u001b[38;5;241m.\u001b[39mobs[\u001b[38;5;124m'\u001b[39m\u001b[38;5;124mgeno\u001b[39m\u001b[38;5;124m'\u001b[39m] \u001b[38;5;241m=\u001b[39m [grp\u001b[38;5;241m.\u001b[39msplit(\u001b[38;5;124m'\u001b[39m\u001b[38;5;124m_\u001b[39m\u001b[38;5;124m'\u001b[39m)[\u001b[38;5;241m0\u001b[39m] \u001b[38;5;28;01mfor\u001b[39;00m grp \u001b[38;5;129;01min\u001b[39;00m kzbg_apoe_adata\u001b[38;5;241m.\u001b[39mobs[\u001b[38;5;124m'\u001b[39m\u001b[38;5;124mgroup_vec\u001b[39m\u001b[38;5;124m'\u001b[39m]]\n\u001b[1;32m----> 3\u001b[0m kzbg_apoe_adata\u001b[38;5;241m.\u001b[39mobs[\u001b[38;5;124m'\u001b[39m\u001b[38;5;124mage_bin\u001b[39m\u001b[38;5;124m'\u001b[39m] \u001b[38;5;241m=\u001b[39m [age_bin_dict[grp\u001b[38;5;241m.\u001b[39msplit(\u001b[38;5;124m'\u001b[39m\u001b[38;5;124m_\u001b[39m\u001b[38;5;124m'\u001b[39m)[\u001b[38;5;241m1\u001b[39m]] \u001b[38;5;28;01mfor\u001b[39;00m grp \u001b[38;5;129;01min\u001b[39;00m kzbg_apoe_adata\u001b[38;5;241m.\u001b[39mobs[\u001b[38;5;124m'\u001b[39m\u001b[38;5;124mgroup_vec\u001b[39m\u001b[38;5;124m'\u001b[39m]]\n",
            "Cell \u001b[1;32mIn[20], line 3\u001b[0m, in \u001b[0;36m<listcomp>\u001b[1;34m(.0)\u001b[0m\n\u001b[0;32m      1\u001b[0m age_bin_dict \u001b[38;5;241m=\u001b[39m {\u001b[38;5;124m\"\u001b[39m\u001b[38;5;124m5mo\u001b[39m\u001b[38;5;124m\"\u001b[39m:\u001b[38;5;124m'\u001b[39m\u001b[38;5;124m05mo\u001b[39m\u001b[38;5;124m'\u001b[39m, \u001b[38;5;124m\"\u001b[39m\u001b[38;5;124m10mo\u001b[39m\u001b[38;5;124m\"\u001b[39m:\u001b[38;5;124m'\u001b[39m\u001b[38;5;124m10mo\u001b[39m\u001b[38;5;124m'\u001b[39m, \u001b[38;5;124m\"\u001b[39m\u001b[38;5;124m14mo\u001b[39m\u001b[38;5;124m\"\u001b[39m:\u001b[38;5;124m'\u001b[39m\u001b[38;5;124m15_20m\u001b[39m\u001b[38;5;124m'\u001b[39m, \u001b[38;5;124m\"\u001b[39m\u001b[38;5;124m15mo\u001b[39m\u001b[38;5;124m\"\u001b[39m:\u001b[38;5;124m'\u001b[39m\u001b[38;5;124m15_20mo\u001b[39m\u001b[38;5;124m'\u001b[39m, \u001b[38;5;124m\"\u001b[39m\u001b[38;5;124m20mo\u001b[39m\u001b[38;5;124m\"\u001b[39m:\u001b[38;5;124m'\u001b[39m\u001b[38;5;124m15_20mo\u001b[39m\u001b[38;5;124m'\u001b[39m}\n\u001b[0;32m      2\u001b[0m kzbg_apoe_adata\u001b[38;5;241m.\u001b[39mobs[\u001b[38;5;124m'\u001b[39m\u001b[38;5;124mgeno\u001b[39m\u001b[38;5;124m'\u001b[39m] \u001b[38;5;241m=\u001b[39m [grp\u001b[38;5;241m.\u001b[39msplit(\u001b[38;5;124m'\u001b[39m\u001b[38;5;124m_\u001b[39m\u001b[38;5;124m'\u001b[39m)[\u001b[38;5;241m0\u001b[39m] \u001b[38;5;28;01mfor\u001b[39;00m grp \u001b[38;5;129;01min\u001b[39;00m kzbg_apoe_adata\u001b[38;5;241m.\u001b[39mobs[\u001b[38;5;124m'\u001b[39m\u001b[38;5;124mgroup_vec\u001b[39m\u001b[38;5;124m'\u001b[39m]]\n\u001b[1;32m----> 3\u001b[0m kzbg_apoe_adata\u001b[38;5;241m.\u001b[39mobs[\u001b[38;5;124m'\u001b[39m\u001b[38;5;124mage_bin\u001b[39m\u001b[38;5;124m'\u001b[39m] \u001b[38;5;241m=\u001b[39m [age_bin_dict[grp\u001b[38;5;241m.\u001b[39msplit(\u001b[38;5;124m'\u001b[39m\u001b[38;5;124m_\u001b[39m\u001b[38;5;124m'\u001b[39m)[\u001b[38;5;241m1\u001b[39m]] \u001b[38;5;28;01mfor\u001b[39;00m grp \u001b[38;5;129;01min\u001b[39;00m kzbg_apoe_adata\u001b[38;5;241m.\u001b[39mobs[\u001b[38;5;124m'\u001b[39m\u001b[38;5;124mgroup_vec\u001b[39m\u001b[38;5;124m'\u001b[39m]]\n",
            "\u001b[1;31mIndexError\u001b[0m: list index out of range"
          ]
        }
      ],
      "source": [
        "age_bin_dict = {\"5mo\":'05mo', \"10mo\":'10mo', \"14mo\":'15_20m', \"15mo\":'15_20mo', \"20mo\":'15_20mo'}\n",
        "kzbg_apoe_adata.obs['geno'] = [grp.split('_')[0] for grp in kzbg_apoe_adata.obs['group_vec']]\n",
        "kzbg_apoe_adata.obs['age_bin'] = [age_bin_dict[grp.split('_')[1]] for grp in kzbg_apoe_adata.obs['group_vec']]\n"
      ]
    },
    {
      "cell_type": "code",
      "execution_count": null,
      "id": "92d81824",
      "metadata": {
        "scrolled": true,
        "id": "92d81824"
      },
      "outputs": [],
      "source": [
        "\n",
        "fig,ax =plt.subplots(1,figsize=[2,2])\n",
        "sc.pl.tsne(kzbg_apoe_adata,color=['res.0.6'],palette=seurat_cmap(27,s=.65,v=1),ax=ax) # ,legend_loc='on data'\n"
      ]
    },
    {
      "cell_type": "code",
      "source": [
        "display(kzbg_apoe_adata.obs)\n",
        "kzbg_KO_adata.obs"
      ],
      "metadata": {
        "id": "W4fVuAZsEcF0"
      },
      "id": "W4fVuAZsEcF0",
      "execution_count": null,
      "outputs": []
    },
    {
      "cell_type": "code",
      "source": [
        "os.chdir(\"C:/Users/dennis.tabuena/Dropbox (Gladstone)/0_Projects/Seurat_Scanpy/Scanpy_data/\")\n",
        "filename ='./zalocusky_2021_mouse_ApoE-KO.h5ad'\n",
        "kzbg_KO_adata = sc.read_h5ad(filename)\n",
        "display(kzbg_KO_adata)\n",
        "fig,ax =plt.subplots(1,figsize=[2,2])\n",
        "sc.pl.tsne(kzbg_KO_adata,color='res.0.6',palette=seurat_cmap(len(set(kzbg_KO_adata.obs['res.0.6'])),s=.65,v=1),ax=ax)"
      ],
      "metadata": {
        "id": "drOvmDgJc_PR"
      },
      "id": "drOvmDgJc_PR",
      "execution_count": null,
      "outputs": []
    },
    {
      "cell_type": "code",
      "source": [
        "print(set( kzbg_KO_adata.obs['KO']))\n",
        "print(set( kzbg_KO_adata.obs['animal_ID']))\n",
        "print(set( kzbg_KO_adata.obs['Apoe']))\n",
        "print(set( kzbg_KO_adata.obs['Sample.Description']))\n",
        "print(set( kzbg_KO_adata.obs['Sample']))"
      ],
      "metadata": {
        "id": "UDjt_knm2LiW"
      },
      "id": "UDjt_knm2LiW",
      "execution_count": null,
      "outputs": []
    },
    {
      "cell_type": "code",
      "source": [
        "# sc.tl.pca(kzbg_KO_adata, svd_solver='arpack')\n",
        "# sc.tl.pca(kzbg_apoe_adata, svd_solver='arpack')\n"
      ],
      "metadata": {
        "id": "8zI3YvsyoC47"
      },
      "id": "8zI3YvsyoC47",
      "execution_count": null,
      "outputs": []
    },
    {
      "cell_type": "code",
      "source": [
        "# overlap_var_names = kzbg_apoe_adata.var_names.intersection(kzbg_KO_adata.var_names)\n",
        "# print(overlap_var_names)\n",
        "# kzbg_apoe_adata = kzbg_apoe_adata[:, overlap_var_names]\n",
        "# kzbg_KO_adata = kzbg_KO_adata[:, overlap_var_names]"
      ],
      "metadata": {
        "id": "bNmkqKGXiYt_"
      },
      "id": "bNmkqKGXiYt_",
      "execution_count": null,
      "outputs": []
    },
    {
      "cell_type": "code",
      "source": [],
      "metadata": {
        "id": "QkC84_Ett5ow"
      },
      "id": "QkC84_Ett5ow",
      "execution_count": null,
      "outputs": []
    },
    {
      "cell_type": "code",
      "source": [
        "# sc.pp.neighbors(kzbg_KO_adata, n_neighbors=10, n_pcs=40)\n",
        "# sc.pp.neighbors(kzbg_apoe_adata, n_neighbors=10, n_pcs=40)"
      ],
      "metadata": {
        "id": "zQbGQZkxr51Y"
      },
      "id": "zQbGQZkxr51Y",
      "execution_count": null,
      "outputs": []
    },
    {
      "cell_type": "code",
      "source": [],
      "metadata": {
        "id": "UZqAAcoA13M2"
      },
      "id": "UZqAAcoA13M2",
      "execution_count": null,
      "outputs": []
    },
    {
      "cell_type": "code",
      "source": [
        "# display(kzbg_KO_adata.obs.head(5))\n",
        "#\n"
      ],
      "metadata": {
        "id": "qNBPy2ICuXpK"
      },
      "id": "qNBPy2ICuXpK",
      "execution_count": null,
      "outputs": []
    },
    {
      "cell_type": "code",
      "source": [],
      "metadata": {
        "id": "YAJUof7_t8wo"
      },
      "id": "YAJUof7_t8wo",
      "execution_count": null,
      "outputs": []
    }
  ],
  "metadata": {
    "kernelspec": {
      "display_name": "Python 3 (ipykernel)",
      "language": "python",
      "name": "python3"
    },
    "language_info": {
      "codemirror_mode": {
        "name": "ipython",
        "version": 3
      },
      "file_extension": ".py",
      "mimetype": "text/x-python",
      "name": "python",
      "nbconvert_exporter": "python",
      "pygments_lexer": "ipython3",
      "version": "3.11.4"
    },
    "colab": {
      "provenance": [],
      "include_colab_link": true
    }
  },
  "nbformat": 4,
  "nbformat_minor": 5
}