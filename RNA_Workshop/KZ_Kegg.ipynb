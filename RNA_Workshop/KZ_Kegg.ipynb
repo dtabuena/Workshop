{
  "cells": [
    {
      "cell_type": "markdown",
      "metadata": {
        "id": "view-in-github",
        "colab_type": "text"
      },
      "source": [
        "<a href=\"https://colab.research.google.com/github/dtabuena/Workshop/blob/main/RNA_Workshop/KZ_Kegg.ipynb\" target=\"_parent\"><img src=\"https://colab.research.google.com/assets/colab-badge.svg\" alt=\"Open In Colab\"/></a>"
      ]
    },
    {
      "cell_type": "code",
      "execution_count": null,
      "id": "b294428a",
      "metadata": {
        "id": "b294428a",
        "scrolled": true,
        "tags": []
      },
      "outputs": [],
      "source": [
        "!pip install scanpy --quiet\n",
        "!pip install pybiomart --quiet\n",
        "!pip install python-igraph --quiet\n",
        "!pip install louvain --quiet\n",
        "!pip install pynndescent --quiet\n"
      ]
    },
    {
      "cell_type": "code",
      "execution_count": null,
      "id": "16d3f9dc",
      "metadata": {
        "id": "16d3f9dc",
        "tags": []
      },
      "outputs": [],
      "source": [
        "import h5py\n",
        "import numpy as np\n",
        "import scipy as sci\n",
        "from matplotlib import pyplot as plt\n",
        "import scanpy as sc\n",
        "import tarfile\n",
        "import os\n",
        "import anndata as ad\n",
        "import pandas as pd\n",
        "import pybiomart\n",
        "from tqdm import tqdm\n",
        "import urllib.request\n",
        "from IPython.display import clear_output\n",
        "from matplotlib.pyplot import rc_context\n",
        "from scipy import stats as st\n",
        "os.chdir(\"C:/Users/dennis.tabuena/Dropbox (Gladstone)/0_Projects/_ReAnalyze_Zalocusky_2021\")\n",
        "\n",
        "def publishable_plots(FS=6):\n",
        "    plt.rcParams.update({'font.size': FS,'axes.linewidth':.5,'figure.dpi':300,\n",
        "                         'xtick.major.width': 0.5,'ytick.major.width': 0.5,\n",
        "                         'figure.titlesize':FS,'axes.titlesize': FS,'xtick.labelsize': FS,\n",
        "                         'ytick.labelsize':FS,'axes.labelsize': FS,'legend.fontsize': FS,\n",
        "                         'figure.labelsize':FS})\n",
        "\n",
        "    import urllib.request\n",
        "    arial_link = 'https://raw.githubusercontent.com/dtabuena/Resources/main/Fonts/arial.ttf'\n",
        "    filename = './arial.ttf'\n",
        "    urllib.request.urlretrieve(arial_link, filename)\n",
        "    plt.rcParams.update({'font.family': 'arial'})\n",
        "    return None\n",
        "publishable_plots(6)\n",
        "sc.settings.verbosity = 'error'             # verbosity: errors (0), warnings (1), info (2), hints (3)\n",
        "sc.settings.set_figure_params(dpi=300, facecolor='white',fontsize=6,)\n",
        "pd.set_option('display.max_rows',100)"
      ]
    },
    {
      "cell_type": "code",
      "execution_count": null,
      "id": "4514aef3",
      "metadata": {
        "id": "4514aef3",
        "tags": []
      },
      "outputs": [],
      "source": [
        "def trim_key(k):\n",
        "    floxed_dict = {'GSM5106175_YH_KZ03_01':('E3fKI_Syn_Cre602_15m','GSM5106175_602_E3fKI_15_XX'),\n",
        "                   'GSM5106176_YH_KZ03_03':('E4fKI_Syn_Cre475_15m','GSM5106176_475_E4fKI_15_XX')}\n",
        "    for f in floxed_dict.keys():\n",
        "        if f in k: return floxed_dict[f][1]\n",
        "    k = k.replace('_raw_gene_bc_matrices_h5.h5',\"\")\n",
        "    return k\n",
        "def query_capitilaziation(gene,adata):\n",
        "    try:\n",
        "        return adata.var.index[ [g.lower() for g in list(adata.var.index)].index(gene.lower()) ]\n",
        "    except:\n",
        "        return gene + ' not_found'\n",
        "def z_score(x,axis=-1):\n",
        "    x=np.array(x)\n",
        "    return (x-np.mean(x,axis=axis))/np.std(x,axis=axis)\n",
        "\n"
      ]
    },
    {
      "cell_type": "code",
      "source": [
        "os.chdir(\"C:/Users/dennis.tabuena/Dropbox (Gladstone)/0_Projects/Seurat_Scanpy/Seurat_data\")\n",
        "adata = sc.read_h5ad('2023_11_07_KZ_anndata.h5ad')"
      ],
      "metadata": {
        "id": "sA5g4SSc5hTZ"
      },
      "id": "sA5g4SSc5hTZ",
      "execution_count": null,
      "outputs": []
    },
    {
      "cell_type": "code",
      "source": [
        "display(adata)"
      ],
      "metadata": {
        "id": "MiT-f049AxwQ"
      },
      "id": "MiT-f049AxwQ",
      "execution_count": null,
      "outputs": []
    },
    {
      "cell_type": "code",
      "source": [
        "display(adata.obs.head())\n",
        "\n",
        "meta_df = pd.read_csv('C:\\\\Users\\\\dennis.tabuena\\\\Dropbox (Gladstone)\\\\0_Projects\\\\Seurat_Scanpy\\\\Seurat_data\\\\kz_metadata.csv').set_index('Barcodes')\n",
        "\n",
        "adata_meta= adata.copy()\n",
        "adata_meta.obs[\"Cluster_ID\"]=np.nan\n",
        "adata_meta.obs[\"Cluster_ID\"]= meta_df[\"Cluster_ID\"]\n",
        "display(adata_meta.obs.head())\n",
        "\n",
        "all_cats = list(set(meta_df[\"Cluster_ID\"]))\n",
        "print(all_cats)"
      ],
      "metadata": {
        "id": "95xiMBjl6Doa"
      },
      "id": "95xiMBjl6Doa",
      "execution_count": null,
      "outputs": []
    },
    {
      "cell_type": "code",
      "source": [
        "_ =[print(c) for c in sorted(all_cats)]"
      ],
      "metadata": {
        "id": "tvvwZfIrA3GP"
      },
      "id": "tvvwZfIrA3GP",
      "execution_count": null,
      "outputs": []
    },
    {
      "cell_type": "code",
      "source": [
        "dgc_01_adata =  adata_meta[adata_meta.obs[\"Cluster_ID\"] == '01 Dentate Gyrus Granule Cells'].copy()\n",
        "display(dgc_01_adata)\n",
        "dgc_02_adata =  adata_meta[adata_meta.obs[\"Cluster_ID\"] == '02 Dentate Gyrus Granule Cells'].copy()\n",
        "display(dgc_02_adata)\n",
        "CA3_06_adata =  adata_meta[adata_meta.obs[\"Cluster_ID\"] == '06 CA2/CA3 Pyramids'].copy()\n",
        "display(CA3_06_adata)\n",
        "\n",
        "\n"
      ],
      "metadata": {
        "id": "fzmN1_H4AQDo"
      },
      "id": "fzmN1_H4AQDo",
      "execution_count": null,
      "outputs": []
    },
    {
      "cell_type": "code",
      "source": [
        "def find_corr_genes(adata,gene,pct=1):\n",
        "    X_ = adata.X.toarray()\n",
        "    x_corr = np.corrcoef(X_.T)\n",
        "    gene_ind = list(adata.var['name']).index(gene)\n",
        "    gene_corr = x_corr[gene_ind]\n",
        "    gene_corr[gene_ind]=np.nan\n",
        "\n",
        "\n",
        "    low,high = np.nanpercentile(gene_corr,[pct,100-pct])\n",
        "\n",
        "    high_bool = gene_corr>high\n",
        "    low_bool = gene_corr<low\n",
        "\n",
        "    high_names=adata.var['name'][high_bool]\n",
        "    low_names=adata.var['name'][low_bool]\n",
        "\n",
        "    fig,ax=plt.subplots(1,figsize=(6,1))\n",
        "    ax.scatter(range(x_corr.shape[1]),gene_corr,s=1)\n",
        "\n",
        "    for i,c in enumerate(gene_corr):\n",
        "        if c>high or c < low:\n",
        "            ax.text(i, c,adata.var['name'][i], rotation=45)\n",
        "\n",
        "    plt.show()\n",
        "\n",
        "    results_dict = {'gene_corr':gene_corr, 'high_bool':high_bool,'low_bool':low_bool ,'high_names':high_names,'low_names':low_names}\n",
        "\n",
        "\n",
        "    return results_dict\n",
        "\n",
        "pct = .25\n",
        "dgc_01_nell_results = find_corr_genes(dgc_01_adata,'Nell2',pct=pct)\n",
        "dgc_01_apoe_results = find_corr_genes(dgc_01_adata,'Apoe',pct=pct)\n",
        "\n",
        "dgc_02_nell_results = find_corr_genes(dgc_02_adata,'Nell2',pct=pct)\n",
        "dgc_02_apoe_results = find_corr_genes(dgc_02_adata,'Apoe',pct=pct)\n",
        "\n",
        "CA3_06_nell_results = find_corr_genes(CA3_06_adata,'Nell2',pct=pct)\n",
        "CA3_06_apoe_results = find_corr_genes(CA3_06_adata,'Apoe',pct=pct)"
      ],
      "metadata": {
        "id": "159YUVqcBx_-"
      },
      "id": "159YUVqcBx_-",
      "execution_count": null,
      "outputs": []
    },
    {
      "cell_type": "code",
      "source": [
        "!pip install keggtools"
      ],
      "metadata": {
        "id": "xO7BTKSfntNz"
      },
      "id": "xO7BTKSfntNz",
      "execution_count": null,
      "outputs": []
    }
  ],
  "metadata": {
    "colab": {
      "provenance": [],
      "private_outputs": true,
      "include_colab_link": true
    },
    "kernelspec": {
      "display_name": "Python 3 (ipykernel)",
      "language": "python",
      "name": "python3"
    },
    "language_info": {
      "codemirror_mode": {
        "name": "ipython",
        "version": 3
      },
      "file_extension": ".py",
      "mimetype": "text/x-python",
      "name": "python",
      "nbconvert_exporter": "python",
      "pygments_lexer": "ipython3",
      "version": "3.11.4"
    },
    "varInspector": {
      "cols": {
        "lenName": 16,
        "lenType": 16,
        "lenVar": 40
      },
      "kernels_config": {
        "python": {
          "delete_cmd_postfix": "",
          "delete_cmd_prefix": "del ",
          "library": "var_list.py",
          "varRefreshCmd": "print(var_dic_list())"
        },
        "r": {
          "delete_cmd_postfix": ") ",
          "delete_cmd_prefix": "rm(",
          "library": "var_list.r",
          "varRefreshCmd": "cat(var_dic_list()) "
        }
      },
      "types_to_exclude": [
        "module",
        "function",
        "builtin_function_or_method",
        "instance",
        "_Feature"
      ],
      "window_display": false
    }
  },
  "nbformat": 4,
  "nbformat_minor": 5
}