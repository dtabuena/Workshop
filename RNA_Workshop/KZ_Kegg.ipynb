{
  "cells": [
    {
      "cell_type": "markdown",
      "metadata": {
        "id": "view-in-github",
        "colab_type": "text"
      },
      "source": [
        "<a href=\"https://colab.research.google.com/github/dtabuena/Workshop/blob/main/RNA_Workshop/KZ_Kegg.ipynb\" target=\"_parent\"><img src=\"https://colab.research.google.com/assets/colab-badge.svg\" alt=\"Open In Colab\"/></a>"
      ]
    },
    {
      "cell_type": "code",
      "execution_count": null,
      "id": "b294428a",
      "metadata": {
        "id": "b294428a",
        "scrolled": true,
        "tags": []
      },
      "outputs": [],
      "source": [
        "!pip install scanpy --quiet\n",
        "!pip install pybiomart --quiet\n",
        "!pip install python-igraph --quiet\n",
        "!pip install louvain --quiet\n",
        "!pip install pynndescent --quiet\n",
        "# !pip install keggtools --quiet\n",
        "\n",
        "!pip install scipy"
      ]
    },
    {
      "cell_type": "code",
      "execution_count": null,
      "id": "16d3f9dc",
      "metadata": {
        "id": "16d3f9dc",
        "tags": []
      },
      "outputs": [],
      "source": [
        "import h5py\n",
        "import numpy as np\n",
        "from matplotlib import pyplot as plt\n",
        "import scanpy as sc\n",
        "import tarfile\n",
        "import os\n",
        "import anndata as ad\n",
        "import pandas as pd\n",
        "import pybiomart\n",
        "from tqdm import tqdm\n",
        "import urllib.request\n",
        "from IPython.display import clear_output\n",
        "from matplotlib.pyplot import rc_context\n",
        "import scipy\n",
        "import logging"
      ]
    },
    {
      "cell_type": "code",
      "execution_count": null,
      "id": "4514aef3",
      "metadata": {
        "id": "4514aef3",
        "tags": []
      },
      "outputs": [],
      "source": [
        "def trim_key(k):\n",
        "    floxed_dict = {'GSM5106175_YH_KZ03_01':('E3fKI_Syn_Cre602_15m','GSM5106175_602_E3fKI_15_XX'),\n",
        "                   'GSM5106176_YH_KZ03_03':('E4fKI_Syn_Cre475_15m','GSM5106176_475_E4fKI_15_XX')}\n",
        "    for f in floxed_dict.keys():\n",
        "        if f in k: return floxed_dict[f][1]\n",
        "    k = k.replace('_raw_gene_bc_matrices_h5.h5',\"\")\n",
        "    return k\n",
        "def query_capitilaziation(gene,adata):\n",
        "    try:\n",
        "        return adata.var.index[ [g.lower() for g in list(adata.var.index)].index(gene.lower()) ]\n",
        "    except:\n",
        "        return gene + ' not_found'\n",
        "def z_score(x,axis=-1):\n",
        "    x=np.array(x)\n",
        "    return (x-np.mean(x,axis=axis))/np.std(x,axis=axis)\n",
        "\n"
      ]
    },
    {
      "cell_type": "code",
      "source": [
        "os.chdir(\"C:/Users/dennis.tabuena/Dropbox (Gladstone)/0_Projects/_Seurat_Scanpy/Scanpy_data/\")\n",
        "os.listdir()"
      ],
      "metadata": {
        "id": "i5elnh9nGTdL"
      },
      "id": "i5elnh9nGTdL",
      "execution_count": null,
      "outputs": []
    },
    {
      "cell_type": "code",
      "source": [
        "os.chdir(\"C:/Users/dennis.tabuena/Dropbox (Gladstone)/0_Projects/_Seurat_Scanpy/Scanpy_data/\")\n",
        "adata = sc.read_h5ad('./2023_11_07_KZ_anndata.h5ad')"
      ],
      "metadata": {
        "id": "sA5g4SSc5hTZ"
      },
      "id": "sA5g4SSc5hTZ",
      "execution_count": null,
      "outputs": []
    },
    {
      "cell_type": "code",
      "source": [
        "display(adata.obs.head())\n",
        "\n",
        "meta_df = pd.read_csv('./kz_metadata.csv').set_index('Barcodes')\n",
        "\n",
        "adata_meta= adata.copy()\n",
        "adata_meta.obs[\"Cluster_ID\"]=np.nan\n",
        "adata_meta.obs[\"Cluster_ID\"]= meta_df[\"Cluster_ID\"]\n",
        "display(adata_meta.obs.head())\n",
        "\n",
        "all_cats = list(set(meta_df[\"Cluster_ID\"]))\n",
        "print(all_cats)"
      ],
      "metadata": {
        "id": "95xiMBjl6Doa"
      },
      "id": "95xiMBjl6Doa",
      "execution_count": null,
      "outputs": []
    },
    {
      "cell_type": "code",
      "source": [
        "########### Sub Divide Clusters of Interest\n",
        "os.chdir(\"C:/Users/dennis.tabuena/Dropbox (Gladstone)/0_Projects/_Hyper+Crisper/_Nell2_enrichment/\")\n",
        "# dgc_01_adata =  adata_meta[adata_meta.obs[\"Cluster_ID\"] == '01 Dentate Gyrus Granule Cells'].copy()\n",
        "# display(dgc_01_adata)\n",
        "dgc_02_adata =  adata_meta[adata_meta.obs[\"Cluster_ID\"] == '02 Dentate Gyrus Granule Cells'].copy()\n",
        "display(dgc_02_adata)\n",
        "CA3_06_adata =  adata_meta[adata_meta.obs[\"Cluster_ID\"] == '06 CA2/CA3 Pyramids'].copy()\n",
        "display(CA3_06_adata)\n"
      ],
      "metadata": {
        "id": "fzmN1_H4AQDo"
      },
      "id": "fzmN1_H4AQDo",
      "execution_count": null,
      "outputs": []
    },
    {
      "cell_type": "code",
      "source": [
        "def find_corr_genes(adata,gene,pct=1,to_plot=True):\n",
        "    X_ = adata.X.toarray()\n",
        "    gene_ind = list(adata.var['name']).index(gene)\n",
        "    target_row = X_[:,gene_ind]\n",
        "    num_genes= X_.shape[1]\n",
        "    gene_corr = np.ones([num_genes])\n",
        "    p_vals = np.zeros([num_genes])\n",
        "    for g in range(num_genes):\n",
        "        gene_corr[g],p_vals[g] = scipy.stats.pearsonr( target_row,X_[:,g])\n",
        "\n",
        "    gene_rank =np.argsort(np.argsort(-gene_corr))\n",
        "    gene_corr_plot=gene_corr.copy()\n",
        "    gene_corr_plot[gene_ind]=np.nan\n",
        "\n",
        "    low,high = np.nanpercentile(gene_corr,[pct,100-pct])\n",
        "\n",
        "    high_bool = gene_corr>high\n",
        "    low_bool = gene_corr<low\n",
        "\n",
        "    high_names=adata.var['name'][high_bool]\n",
        "    low_names=adata.var['name'][low_bool]\n",
        "\n",
        "\n",
        "    if to_plot:\n",
        "        # fig,ax=plt.subplots(1,2,figsize=(3,1),width_ratios=(5,1),dpi=300)\n",
        "        fig,ax=plt.subplots(1,1,figsize=(3,1),dpi=300)\n",
        "        ax=[ax]\n",
        "        ax[0].scatter(gene_rank,gene_corr_plot,s=1)\n",
        "\n",
        "        ax[0].axhline(high,color='k',linewidth=1)\n",
        "        ax[0].axhline(low,color='k',linewidth=1)\n",
        "\n",
        "        ax[0].axhline(high,color='k',linewidth=1)\n",
        "        ax[0].axhline(low,color='k',linewidth=1)\n",
        "\n",
        "\n",
        "\n",
        "    ax[0].set_xlabel('Rank')\n",
        "    ax[0].set_ylabel('Pearson R')\n",
        "    plt.show()\n",
        "\n",
        "\n",
        "    FDR_p_vals = p_vals*np.nan\n",
        "    results_dict = {'gene_corr':gene_corr, 'high_bool':high_bool,'low_bool':low_bool ,'high_names':high_names,'low_names':low_names,'gene_rank':gene_rank}\n",
        "    results_dict['table']= pd.DataFrame({'gene_name':adata.var['name'],\n",
        "                                         'gene_rank':gene_rank,\n",
        "                                         'gene_corr':gene_corr,\n",
        "                                         'p_vals':p_vals,\n",
        "                                         'FDR_p_vals':FDR_p_vals,\n",
        "                                         'high_bool':high_bool,\n",
        "                                         'low_bool':low_bool}).set_index('gene_name').sort_values('gene_rank',axis=0)\n",
        "\n",
        "    return results_dict, fig, ax\n",
        "\n",
        "pct =10\n",
        "dgc_02_nell_results,_,_ = find_corr_genes(dgc_02_adata,'Nell2',pct=pct)\n",
        "dgc_02_apoe_results,_,_ = find_corr_genes(dgc_02_adata,'Apoe',pct=pct)\n",
        "\n",
        "CA3_06_nell_results,_,_ = find_corr_genes(CA3_06_adata,'Nell2',pct=pct)\n",
        "CA3_06_apoe_results,_,_ = find_corr_genes(CA3_06_adata,'Apoe',pct=pct)\n"
      ],
      "metadata": {
        "id": "159YUVqcBx_-"
      },
      "id": "159YUVqcBx_-",
      "execution_count": null,
      "outputs": []
    },
    {
      "cell_type": "code",
      "source": [
        "\n",
        "def write_tables(res,prefix):\n",
        "    high_table = res['table']\n",
        "    high_table = high_table[high_table['high_bool']]\n",
        "    high_table.to_csv(prefix+'_high_corr_names.csv')\n",
        "\n",
        "    low_table = CA3_06_nell_results['table']\n",
        "    low_table = high_table[low_table['low_bool']]\n",
        "    low_table.to_csv(prefix+'_low_corr_names.csv')\n",
        "    return None\n",
        "\n",
        "os.chdir(\"C:/Users/dennis.tabuena/Dropbox (Gladstone)/0_Projects/_Hyper+Crisper/_Nell2_enrichment/\")\n",
        "write_tables(CA3_06_nell_results,'CA3_06_nell')\n",
        "write_tables(CA3_06_apoe_results,'CA3_06_apoe')\n",
        "write_tables(dgc_02_nell_results,'dgc_02_nell')\n",
        "write_tables(dgc_02_apoe_results,'dgc_02_apoe')\n",
        "\n"
      ],
      "metadata": {
        "id": "3NIGt6TnNxkv"
      },
      "id": "3NIGt6TnNxkv",
      "execution_count": null,
      "outputs": []
    },
    {
      "cell_type": "code",
      "source": [
        "apoe_ind = list(adata.var['name']).index('Apoe')\n",
        "print(apoe_ind)\n",
        "dgc_02_nell2xapoe_corr = dgc_02_nell_results['gene_corr'][apoe_ind]\n",
        "CA3_06_nell2xapoe_corr = CA3_06_nell_results['gene_corr'][apoe_ind]\n",
        "\n",
        "\n",
        "print('dgc_02',dgc_02_nell2xapoe_corr)\n",
        "print('CA3_06',CA3_06_nell2xapoe_corr)"
      ],
      "metadata": {
        "id": "eu3KKkjAGanN"
      },
      "id": "eu3KKkjAGanN",
      "execution_count": null,
      "outputs": []
    },
    {
      "cell_type": "code",
      "source": [],
      "metadata": {
        "id": "FK7oNEto0TJO"
      },
      "id": "FK7oNEto0TJO",
      "execution_count": null,
      "outputs": []
    },
    {
      "cell_type": "code",
      "source": [
        "go_it = init_GO()"
      ],
      "metadata": {
        "id": "YxyeCDeWCQu4"
      },
      "id": "YxyeCDeWCQu4",
      "execution_count": null,
      "outputs": []
    },
    {
      "cell_type": "code",
      "source": [
        "# try: os.makedirs('./gene_lists')\n",
        "# except: None\n",
        "# # dgc_01_double_high = [n for n in dgc_01_nell_results['high_names'] if n in dgc_01_apoe_results['high_names']]\n",
        "# # dgc_01_double_low = [n for n in dgc_01_nell_results['low_names'] if n in dgc_01_apoe_results['low_names']]\n",
        "# # pd.DataFrame(dgc_01_double_high).to_csv('./gene_lists/dgc_01_double_high.csv')\n",
        "# # pd.DataFrame(dgc_01_double_low).to_csv('./gene_lists/dgc_01_double_low.csv')\n",
        "\n",
        "# dgc_02_double_high = [n for n in dgc_02_nell_results['high_names'] if n in dgc_02_apoe_results['high_names']]\n",
        "# dgc_02_double_low = [n for n in dgc_02_nell_results['low_names'] if n in dgc_02_apoe_results['low_names']]\n",
        "# pd.DataFrame(dgc_02_double_high).to_csv('./gene_lists/dgc_02_double_high.csv')\n",
        "# pd.DataFrame(dgc_02_double_low).to_csv('./gene_lists/dgc_02_double_low.csv')\n",
        "\n",
        "# CA3_06_double_high = [n for n in CA3_06_nell_results['high_names'] if n in CA3_06_apoe_results['high_names']]\n",
        "# CA3_06_double_low = [n for n in CA3_06_nell_results['low_names'] if n in CA3_06_apoe_results['low_names']]\n",
        "# pd.DataFrame(CA3_06_double_high).to_csv('./gene_lists/CA3_06_double_high.csv')\n",
        "# pd.DataFrame(CA3_06_double_low).to_csv('./gene_lists/CA3_06_double_low.csv')"
      ],
      "metadata": {
        "id": "xO7BTKSfntNz"
      },
      "id": "xO7BTKSfntNz",
      "execution_count": null,
      "outputs": []
    },
    {
      "cell_type": "code",
      "source": [
        "!pip install goatools\n"
      ],
      "metadata": {
        "id": "TTGzM2yVfs6p"
      },
      "id": "TTGzM2yVfs6p",
      "execution_count": null,
      "outputs": []
    },
    {
      "cell_type": "code",
      "source": [
        "\n",
        "from goatools.base import download_go_basic_obo\n",
        "from goatools.base import download_ncbi_associations\n",
        "from goatools.obo_parser import GODag\n",
        "from goatools.anno.genetogo_reader import Gene2GoReader\n",
        "from goatools.goea.go_enrichment_ns import GOEnrichmentStudyNS\n",
        "\n"
      ],
      "metadata": {
        "id": "YNrc6yFElmnW"
      },
      "id": "YNrc6yFElmnW",
      "execution_count": null,
      "outputs": []
    },
    {
      "cell_type": "code",
      "source": [
        "def init_GO():\n",
        "    # !pip install goatools --quiet\n",
        "\n",
        "\n",
        "    '''Get Gene Lists and metadata from ncbi'''\n",
        "    import os\n",
        "    import urllib.request\n",
        "    gene_list_url='https://github.com/dtabuena/Resources/raw/1e3f0ef18ba127b71a9e6b93f7624e3a28fe87c1/GO%20Files/gene_result.txt'\n",
        "    urllib.request.urlretrieve(gene_list_url, 'gene_result.txt')\n",
        "    scripts_path = [p for p in os.environ['PATH'].split(';') if 'Scripts' in p][0]\n",
        "    ncbi_path = os.path.join(scripts_path,'ncbi_gene_results_to_python.py')\n",
        "    !python $ncbi_path -o genes_ncbi_mus_musculus_proteincoding.py gene_result.txt\n",
        "    from genes_ncbi_mus_musculus_proteincoding import GENEID2NT as GeneID2nt_mus\n",
        "\n",
        "\n",
        "\n",
        "    '''Get Key Funcs'''\n",
        "    from goatools.base import download_go_basic_obo\n",
        "    from goatools.base import download_ncbi_associations\n",
        "    from goatools.obo_parser import GODag\n",
        "    from goatools.anno.genetogo_reader import Gene2GoReader\n",
        "    from goatools.goea.go_enrichment_ns import GOEnrichmentStudyNS\n",
        "\n",
        "    '''Download Current Go Annotations'''\n",
        "    obo_fname = download_go_basic_obo()\n",
        "    fin_gene2go = download_ncbi_associations()\n",
        "    obodag = GODag(\"go-basic.obo\")\n",
        "\n",
        "\n",
        "\n",
        "\n",
        "    '''Get Mapper from Symbol to Gene and Inv'''\n",
        "    mapper = {}\n",
        "    for key in GeneID2nt_mus:\n",
        "        mapper[GeneID2nt_mus[key].Symbol] = GeneID2nt_mus[key].GeneID\n",
        "    inv_map = {v: k for k, v in mapper.items()}\n",
        "\n",
        "\n",
        "\n",
        "    '''Read NCBI's gene2go. Store annotations in a list of namedtuples '''\n",
        "    objanno = Gene2GoReader(fin_gene2go, taxids=[10090])\n",
        "    # Get namespace2association where:\n",
        "    #    namespace is:\n",
        "    #        BP: biological_process\n",
        "    #        MF: molecular_function\n",
        "    #        CC: cellular_component\n",
        "    #    assocation is a dict:\n",
        "    #        key: NCBI GeneID\n",
        "    #        value: A set of GO IDs associated with that gene\n",
        "    ns2assoc = objanno.get_ns2assc()\n",
        "\n",
        "\n",
        "    '''Create a GO Object'''\n",
        "    goeaobj = GOEnrichmentStudyNS(\n",
        "            GeneID2nt_mus.keys(), # List of mouse protein-coding genes\n",
        "            ns2assoc, # geneid/GO associations\n",
        "            obodag, # Ontologies\n",
        "            propagate_counts = False,\n",
        "            alpha = 0.05, # default significance cut-off\n",
        "            methods = ['fdr_bh']) # defult multipletest correction method\n",
        "\n",
        "\n",
        "    ''' PASS '''\n",
        "    GO_items = []\n",
        "    temp = goeaobj.ns2objgoea['BP'].assoc\n",
        "    for item in temp:\n",
        "        GO_items += temp[item]\n",
        "    temp = goeaobj.ns2objgoea['CC'].assoc\n",
        "    for item in temp:\n",
        "        GO_items += temp[item]\n",
        "    temp = goeaobj.ns2objgoea['MF'].assoc\n",
        "    for item in temp:\n",
        "        GO_items += temp[item]\n",
        "\n",
        "\n",
        "\n",
        "    def go_it(test_genes):\n",
        "        ''' Quick Access Function for doing the GO associations '''\n",
        "        logging.info(f'input genes: {len(test_genes)}')\n",
        "        mapped_genes = []\n",
        "        for gene in test_genes:\n",
        "            try:\n",
        "                mapped_genes.append(mapper[gene])\n",
        "            except:\n",
        "                pass\n",
        "        logging.info(f'mapped genes: {len(mapped_genes)}')\n",
        "        goea_results_all = goeaobj.run_study(mapped_genes)\n",
        "        goea_results_sig = [r for r in goea_results_all if r.p_fdr_bh < 0.05]\n",
        "        GO = pd.DataFrame(list(map(lambda x: [x.GO, x.goterm.name, x.goterm.namespace, x.p_uncorrected, x.p_fdr_bh,\\\n",
        "                    x.ratio_in_study[0], x.ratio_in_study[1], GO_items.count(x.GO), list(map(lambda y: inv_map[y], x.study_items)),\\\n",
        "                    ], goea_results_sig)), columns = ['GO', 'term', 'class', 'p', 'p_corr', 'n_genes',\\\n",
        "                                                        'n_study', 'n_go', 'study_genes'])\n",
        "        GO = GO[GO.n_genes > 1]\n",
        "        return GO\n",
        "\n",
        "    return go_it\n",
        "\n",
        "\n",
        "\n",
        "\n",
        "\n"
      ],
      "metadata": {
        "id": "Kcd8IBH5HUeA"
      },
      "id": "Kcd8IBH5HUeA",
      "execution_count": null,
      "outputs": []
    },
    {
      "cell_type": "code",
      "source": [
        "GeneID2nt_mus"
      ],
      "metadata": {
        "id": "_VazaYYGzO9u"
      },
      "id": "_VazaYYGzO9u",
      "execution_count": null,
      "outputs": []
    },
    {
      "cell_type": "code",
      "source": [
        "obo_fname = download_go_basic_obo()"
      ],
      "metadata": {
        "id": "dObXv3sJwm8e"
      },
      "id": "dObXv3sJwm8e",
      "execution_count": null,
      "outputs": []
    },
    {
      "cell_type": "code",
      "source": [
        "obo_fname"
      ],
      "metadata": {
        "id": "OYzUyeb6yXEx"
      },
      "id": "OYzUyeb6yXEx",
      "execution_count": null,
      "outputs": []
    },
    {
      "cell_type": "code",
      "source": [
        "!pip install goatools"
      ],
      "metadata": {
        "id": "HBaZ9zjDR-qN"
      },
      "id": "HBaZ9zjDR-qN",
      "execution_count": null,
      "outputs": []
    },
    {
      "cell_type": "code",
      "source": [
        "import scanpy as sc"
      ],
      "metadata": {
        "id": "1bXz6b6s1W5B"
      },
      "id": "1bXz6b6s1W5B",
      "execution_count": null,
      "outputs": []
    },
    {
      "cell_type": "code",
      "source": [
        "!pip install goatools\n",
        "\n",
        "from goatools.base import download_go_basic_obo\n",
        "from goatools.base import download_ncbi_associations\n",
        "from goatools.obo_parser import GODag\n",
        "from goatools.anno.genetogo_reader import Gene2GoReader\n",
        "from goatools.goea.go_enrichment_ns import GOEnrichmentStudyNS\n",
        "\n",
        "import os\n",
        "import urllib.request\n",
        "gene_list_url='https://github.com/dtabuena/Resources/raw/1e3f0ef18ba127b71a9e6b93f7624e3a28fe87c1/GO%20Files/gene_result.txt'\n",
        "urllib.request.urlretrieve(gene_list_url, 'gene_result.txt')\n",
        "scripts_path = [p for p in os.environ['PATH'].split(';') if 'Scripts' in p][0]\n",
        "ncbi_path = os.path.join(scripts_path,'ncbi_gene_results_to_python.py')\n",
        "!python $ncbi_path -o genes_ncbi_mus_musculus_proteincoding.py gene_result.txt"
      ],
      "metadata": {
        "id": "IJURCgivS3q7"
      },
      "id": "IJURCgivS3q7",
      "execution_count": null,
      "outputs": []
    },
    {
      "cell_type": "code",
      "source": [
        "from goatools.base import download_go_basic_obo\n",
        "from goatools.base import download_ncbi_associations\n",
        "from goatools.obo_parser import GODag\n",
        "from goatools.anno.genetogo_reader import Gene2GoReader\n",
        "from goatools.goea.go_enrichment_ns import GOEnrichmentStudyNS"
      ],
      "metadata": {
        "id": "_sH-1DCfVHqE"
      },
      "id": "_sH-1DCfVHqE",
      "execution_count": null,
      "outputs": []
    },
    {
      "cell_type": "code",
      "source": [
        "obo_fname = download_go_basic_obo()\n",
        "fin_gene2go = download_ncbi_associations()\n",
        "obodag = GODag(\"go-basic.obo\")"
      ],
      "metadata": {
        "id": "SWbFnnenVHZ5"
      },
      "id": "SWbFnnenVHZ5",
      "execution_count": null,
      "outputs": []
    },
    {
      "cell_type": "code",
      "source": [
        "mapper = {}\n",
        "\n",
        "for key in GeneID2nt_mus:\n",
        "    mapper[GeneID2nt_mus[key].Symbol] = GeneID2nt_mus[key].GeneID\n",
        "\n",
        "inv_map = {v: k for k, v in mapper.items()}"
      ],
      "metadata": {
        "id": "o-C7Au9BVVoE"
      },
      "id": "o-C7Au9BVVoE",
      "execution_count": null,
      "outputs": []
    },
    {
      "cell_type": "code",
      "source": [
        "#run one time to initialize\n",
        "\n",
        "# Read NCBI's gene2go. Store annotations in a list of namedtuples\n",
        "objanno = Gene2GoReader(fin_gene2go, taxids=[10090])\n",
        "# Get namespace2association where:\n",
        "#    namespace is:\n",
        "#        BP: biological_process\n",
        "#        MF: molecular_function\n",
        "#        CC: cellular_component\n",
        "#    assocation is a dict:\n",
        "#        key: NCBI GeneID\n",
        "#        value: A set of GO IDs associated with that gene\n",
        "ns2assoc = objanno.get_ns2assc()"
      ],
      "metadata": {
        "id": "8_aWWr-2Vcq4"
      },
      "id": "8_aWWr-2Vcq4",
      "execution_count": null,
      "outputs": []
    },
    {
      "cell_type": "code",
      "source": [
        "#run one time to initialize\n",
        "goeaobj = GOEnrichmentStudyNS(\n",
        "        GeneID2nt_mus.keys(), # List of mouse protein-coding genes\n",
        "        ns2assoc, # geneid/GO associations\n",
        "        obodag, # Ontologies\n",
        "        propagate_counts = False,\n",
        "        alpha = 0.05, # default significance cut-off\n",
        "        methods = ['fdr_bh']) # defult multipletest correction method"
      ],
      "metadata": {
        "id": "geW8HkbjVkmF"
      },
      "id": "geW8HkbjVkmF",
      "execution_count": null,
      "outputs": []
    },
    {
      "cell_type": "code",
      "source": [
        "#run one time to initialize\n",
        "GO_items = []\n",
        "\n",
        "temp = goeaobj.ns2objgoea['BP'].assoc\n",
        "for item in temp:\n",
        "    GO_items += temp[item]\n",
        "\n",
        "\n",
        "temp = goeaobj.ns2objgoea['CC'].assoc\n",
        "for item in temp:\n",
        "    GO_items += temp[item]\n",
        "\n",
        "\n",
        "temp = goeaobj.ns2objgoea['MF'].assoc\n",
        "for item in temp:\n",
        "    GO_items += temp[item]\n",
        "\n"
      ],
      "metadata": {
        "id": "y-bKhSECVn_1"
      },
      "id": "y-bKhSECVn_1",
      "execution_count": null,
      "outputs": []
    },
    {
      "cell_type": "code",
      "source": [
        "def go_it(test_genes):\n",
        "    print(f'input genes: {len(test_genes)}')\n",
        "\n",
        "    mapped_genes = []\n",
        "    for gene in test_genes:\n",
        "        try:\n",
        "            mapped_genes.append(mapper[gene])\n",
        "        except:\n",
        "            pass\n",
        "    print(f'mapped genes: {len(mapped_genes)}')\n",
        "\n",
        "    goea_results_all = goeaobj.run_study(mapped_genes)\n",
        "    goea_results_sig = [r for r in goea_results_all if r.p_fdr_bh < 0.05]\n",
        "    GO = pd.DataFrame(list(map(lambda x: [x.GO, x.goterm.name, x.goterm.namespace, x.p_uncorrected, x.p_fdr_bh,\\\n",
        "                   x.ratio_in_study[0], x.ratio_in_study[1], GO_items.count(x.GO), list(map(lambda y: inv_map[y], x.study_items)),\\\n",
        "                   ], goea_results_sig)), columns = ['GO ID', 'GO term', 'class', 'p', 'p_corr', 'n_genes',\\\n",
        "                                                    'n_study', 'n_go', 'study_genes'])\n",
        "\n",
        "    GO = GO[GO.n_genes > 1]\n",
        "    GO['Percent_Enriched'] = GO.n_genes/GO.n_go\n",
        "    return GO"
      ],
      "metadata": {
        "id": "ONjWipnJV9Mu"
      },
      "id": "ONjWipnJV9Mu",
      "execution_count": null,
      "outputs": []
    },
    {
      "cell_type": "code",
      "source": [
        "df_dgc_01_double_high = go_it(dgc_01_double_high)\n",
        "df_dgc_02_double_high = go_it(dgc_02_double_high)\n",
        "df_CA3_06_double_high = go_it(CA3_06_double_high)\n",
        "\n",
        "df_dgc_01_double_low = go_it(dgc_01_double_low)\n",
        "df_dgc_02_double_low = go_it(dgc_02_double_low)\n",
        "df_CA3_06_double_low = go_it(CA3_06_double_low)"
      ],
      "metadata": {
        "id": "XRMiaaiKZm6J"
      },
      "id": "XRMiaaiKZm6J",
      "execution_count": null,
      "outputs": []
    },
    {
      "cell_type": "code",
      "source": [
        "try: os.makedirs('./Nell2ApoE_go_lists')\n",
        "except: None\n",
        "\n",
        "df_dgc_02_double_low.to_csv('./Nell2ApoE_go_lists/df_dgc_02_double_low.csv')\n",
        "df_dgc_02_double_high.to_csv('./Nell2ApoE_go_lists/df_dgc_02_double_high.csv')\n",
        "df_CA3_06_double_low.to_csv('./Nell2ApoE_go_lists/df_CA3_06_double_low.csv')\n",
        "df_CA3_06_double_high.to_csv('./Nell2ApoE_go_lists/df_CA3_06_double_high.csv')"
      ],
      "metadata": {
        "id": "ioKfpwNZ5rPG"
      },
      "id": "ioKfpwNZ5rPG",
      "execution_count": null,
      "outputs": []
    },
    {
      "cell_type": "code",
      "source": [
        "common_high = [g for g in df_dgc_02_double_high['GO term'] if g in list(df_CA3_06_double_high['GO term'])]\n",
        "common_low = [g for g in df_dgc_02_double_low['GO term'] if g in list(df_CA3_06_double_low['GO term'])]\n",
        "\n",
        "\n",
        "print(common_high)\n",
        "print(common_low)"
      ],
      "metadata": {
        "id": "5l3YYt8YFtLN"
      },
      "id": "5l3YYt8YFtLN",
      "execution_count": null,
      "outputs": []
    },
    {
      "cell_type": "code",
      "source": [
        "# display(df_dgc_01_double_high)\n",
        "# display(df_dgc_01_double_low)\n",
        "\n",
        "\n",
        "display(df_dgc_02_double_high)\n",
        "display(df_dgc_02_double_low)"
      ],
      "metadata": {
        "id": "ItPLgnQlXddP"
      },
      "id": "ItPLgnQlXddP",
      "execution_count": null,
      "outputs": []
    },
    {
      "cell_type": "code",
      "source": [
        "\n",
        "display(df_CA3_06_double_high)\n",
        "display(df_CA3_06_double_low)"
      ],
      "metadata": {
        "id": "ph4qteTAFVnb"
      },
      "id": "ph4qteTAFVnb",
      "execution_count": null,
      "outputs": []
    },
    {
      "cell_type": "code",
      "source": [
        "import matplotlib.pyplot as plt\n",
        "import matplotlib as mpl\n",
        "from matplotlib import cm\n",
        "import seaborn as sns\n",
        "import textwrap\n"
      ],
      "metadata": {
        "id": "9tOBJzrkZAl8"
      },
      "id": "9tOBJzrkZAl8",
      "execution_count": null,
      "outputs": []
    },
    {
      "cell_type": "code",
      "source": [
        "\n",
        "def set_font_all(FS):\n",
        "    plt.rcParams.update({'font.size': FS, 'font.family': 'arial','axes.linewidth':.5,\n",
        "                         'xtick.major.width': 0.5,'ytick.major.width': 0.5,\n",
        "                         'figure.titlesize':FS,'axes.titlesize': FS,'xtick.labelsize': FS,\n",
        "                         'ytick.labelsize': FS,'axes.labelsize': FS,'legend.fontsize': FS})\n",
        "    return None\n",
        "set_font_all(6)"
      ],
      "metadata": {
        "id": "jHLkA4AQNHUL"
      },
      "id": "jHLkA4AQNHUL",
      "execution_count": null,
      "outputs": []
    },
    {
      "cell_type": "code",
      "source": [],
      "metadata": {
        "id": "dPHZRKgNFRPV"
      },
      "id": "dPHZRKgNFRPV",
      "execution_count": null,
      "outputs": []
    },
    {
      "cell_type": "code",
      "source": [
        "print(cm_mapper.to_rgba(df_dgc_01_double_high.p_corr.values))"
      ],
      "metadata": {
        "id": "avzxCjq4SFmN"
      },
      "id": "avzxCjq4SFmN",
      "execution_count": null,
      "outputs": []
    },
    {
      "cell_type": "code",
      "source": [
        "pct = 1\n",
        "dgc_02_nell_results, fig, ax = find_corr_genes(dgc_02_adata,'Nell2',pct=pct)\n",
        "ax[0].title('Correlation with Nell2 in DGC_02')\n",
        "plt.show()\n",
        "CA3_06_nell_results, fig, ax = find_corr_genes(CA3_06_adata,'Nell2',pct=pct)\n",
        "ax[0].title('Correlation with Nell2 in CA3_06')\n",
        "plt.show()\n",
        "# df_dgc_01_double_high = go_it(dgc_01_double_high)\n",
        "# df_dgc_01_double_high = go_it(dgc_01_double_high)"
      ],
      "metadata": {
        "id": "sO2TjH-eNTdB"
      },
      "id": "sO2TjH-eNTdB",
      "execution_count": null,
      "outputs": []
    },
    {
      "cell_type": "code",
      "source": [
        "plt.scatter(dgc_02_nell_results['gene_corr'],CA3_06_nell_results['gene_corr'])"
      ],
      "metadata": {
        "id": "1DpUD89SQVKl"
      },
      "id": "1DpUD89SQVKl",
      "execution_count": null,
      "outputs": []
    },
    {
      "cell_type": "code",
      "source": [
        "\n",
        "dgc_02_nell_results['low_names']\n",
        "\n",
        "\n",
        "\n",
        "df_dgc_02_GO_high = go_it(dgc_02_nell_results['high_names'])\n",
        "df_dgc_02_GO_low = go_it(dgc_02_nell_results['low_names'])\n",
        "df_CA3_06_GO_high = go_it(CA3_06_nell_results['high_names'])\n",
        "df_CA3_06_GO_low = go_it(CA3_06_nell_results['low_names'])"
      ],
      "metadata": {
        "id": "5whJupCGNqb_"
      },
      "id": "5whJupCGNqb_",
      "execution_count": null,
      "outputs": []
    },
    {
      "cell_type": "code",
      "source": [
        "display(df_dgc_02_GO_high)\n",
        "display(df_CA3_06_GO_high)"
      ],
      "metadata": {
        "id": "Ww6PnDRyhOT_"
      },
      "id": "Ww6PnDRyhOT_",
      "execution_count": null,
      "outputs": []
    },
    {
      "cell_type": "code",
      "source": [
        "try: os.makedirs('./Nell2_go_lists')\n",
        "except: None\n",
        "\n",
        "df_dgc_02_GO_high.to_csv('./Nell2_go_lists/df_dgc_02_GO_high.csv')\n",
        "df_dgc_02_GO_low.to_csv('./Nell2_go_lists/df_dgc_02_GO_low.csv')\n",
        "df_CA3_06_GO_high.to_csv('./Nell2_go_lists/df_CA3_06_GO_high.csv')\n",
        "df_CA3_06_GO_low.to_csv('./Nell2_go_lists/df_CA3_06_GO_low.csv')"
      ],
      "metadata": {
        "id": "Dm6MAMjAgwW-"
      },
      "id": "Dm6MAMjAgwW-",
      "execution_count": null,
      "outputs": []
    },
    {
      "cell_type": "code",
      "source": [
        "df_dgc_02_GO_high = df_dgc_02_GO_high.set_index('GO ID')\n",
        "df_dgc_02_GO_low = df_dgc_02_GO_low.set_index('GO ID')\n",
        "df_CA3_06_GO_high = df_CA3_06_GO_high.set_index('GO ID')\n",
        "df_CA3_06_GO_low = df_CA3_06_GO_low.set_index('GO ID')"
      ],
      "metadata": {
        "id": "cqwujvcui5nU"
      },
      "id": "cqwujvcui5nU",
      "execution_count": null,
      "outputs": []
    },
    {
      "cell_type": "code",
      "source": [],
      "metadata": {
        "id": "r0jk5K8Vi0LF"
      },
      "id": "r0jk5K8Vi0LF",
      "execution_count": null,
      "outputs": []
    },
    {
      "cell_type": "code",
      "source": [
        "display(df_dgc_02_GO_high.head(50))"
      ],
      "metadata": {
        "id": "6P5lmlEAlZo6"
      },
      "id": "6P5lmlEAlZo6",
      "execution_count": null,
      "outputs": []
    },
    {
      "cell_type": "code",
      "source": [
        "df_dgc_02_GO_high.index"
      ],
      "metadata": {
        "id": "HUu1JrMhVeL2"
      },
      "id": "HUu1JrMhVeL2",
      "execution_count": null,
      "outputs": []
    },
    {
      "cell_type": "code",
      "source": [
        "common_high = [g for g  in df_dgc_02_GO_high.index if g in list(df_CA3_06_GO_high.index)]\n",
        "print(len(common_high))\n",
        "\n",
        "common_high = [c for c in common_high if df_dgc_02_GO_high.loc[c,'class'] not in ['cellular_component']]\n",
        "print(len(common_high))\n",
        "\n",
        "# common_low = [g for g  in df_dgc_02_GO_low[\"GO ID\"] if g in list(df_CA3_06_GO_low[\"GO ID\"])]\n",
        "# print(common_low)"
      ],
      "metadata": {
        "id": "rfSn4TSKPEoH"
      },
      "id": "rfSn4TSKPEoH",
      "execution_count": null,
      "outputs": []
    },
    {
      "cell_type": "code",
      "source": [
        "fig_go_terms,ax=plt.subplots(1,figsize=(1,6),dpi=300)\n",
        "\n",
        "\n",
        "cmap = mpl.cm.viridis_r\n",
        "norm = mpl.colors.Normalize(vmin = np.log10(df_dgc_02_GO_high.loc[common_high,'p_corr'].min()), vmax = np.log10(df_dgc_02_GO_high.loc[common_high,'p_corr'].max()))\n",
        "cm_mapper = cm.ScalarMappable(norm = norm, cmap = cm.viridis_r)\n",
        "\n",
        "\n",
        "for i,gi in enumerate(common_high):\n",
        "    x=1\n",
        "    y=i\n",
        "    s = df_dgc_02_GO_high.loc[gi,'Percent_Enriched']\n",
        "    c = cm_mapper.to_rgba( np.log10(df_dgc_02_GO_high.loc[gi,'p_corr']) )\n",
        "    ax.scatter(1,y,s=s*100,color = c)\n",
        "\n",
        "    s = df_CA3_06_GO_high.loc[gi,'Percent_Enriched']\n",
        "    c = cm_mapper.to_rgba( np.log10(df_CA3_06_GO_high.loc[gi,'p_corr']) )\n",
        "    ax.scatter(2,y,s=s*100,color = c)\n",
        "\n",
        "ax.set_yticks(ticks=range(len(common_high)),labels=df_dgc_02_GO_high.loc[common_high,'GO term'])\n",
        "ax.set_xticks([1,2],['DGC','CA3'])\n",
        "ax.set_xlim([0.5,2.5])\n",
        "plt.tight_layout()\n",
        "\n",
        "\n",
        "fig_color_scale,ax=plt.subplots(1,figsize=(.25,1),dpi=300)\n",
        "cbl = mpl.colorbar.ColorbarBase(ax, cmap = cmap, norm = norm, orientation = 'vertical')\n",
        "ax.set_ylabel('-log10(p)')\n",
        "plt.tight_layout()\n",
        "\n",
        "\n",
        "fig_size_scale,ax=plt.subplots(1,figsize=(.25,1),dpi=300)\n",
        "ax.scatter([1,1,1],[1,2,3],s=np.array([.1,.2,.3])*100,color='k')\n",
        "ax.set_xticks([])\n",
        "ax.set_yticks([1,2,3],np.array(np.array([.1,.2,.3])*100,int))\n",
        "ax.set_ylim(0,4)\n",
        "ax.set_ylabel('Percent Enrichment')\n",
        "plt.tight_layout()\n",
        "\n",
        "fig_go_terms.savefig('./fig_go_terms.svg',format='svg',bbox_inches=\"tight\")\n",
        "fig_color_scale.savefig('./fig_color_scale.svg',format='svg',bbox_inches=\"tight\")\n",
        "fig_size_scale.savefig('./fig_size_scale.svg',format='svg',bbox_inches=\"tight\")"
      ],
      "metadata": {
        "id": "ePmm5MQTkd4p"
      },
      "id": "ePmm5MQTkd4p",
      "execution_count": null,
      "outputs": []
    },
    {
      "cell_type": "code",
      "source": [],
      "metadata": {
        "id": "GeJ9ojn_j1o3"
      },
      "id": "GeJ9ojn_j1o3",
      "execution_count": null,
      "outputs": []
    },
    {
      "cell_type": "code",
      "source": [],
      "metadata": {
        "id": "HURn9kLAj1mF"
      },
      "id": "HURn9kLAj1mF",
      "execution_count": null,
      "outputs": []
    },
    {
      "cell_type": "code",
      "source": [],
      "metadata": {
        "id": "MEE_Q4jAj1jr"
      },
      "id": "MEE_Q4jAj1jr",
      "execution_count": null,
      "outputs": []
    },
    {
      "cell_type": "code",
      "source": [
        "common_high = [g for g  in df_dgc_02_GO_high[\"GO ID\"] if g in list(df_CA3_06_GO_high[\"GO ID\"])]"
      ],
      "metadata": {
        "id": "pQfr4Wwzj1RW"
      },
      "id": "pQfr4Wwzj1RW",
      "execution_count": null,
      "outputs": []
    },
    {
      "cell_type": "code",
      "source": [
        "meta_df"
      ],
      "metadata": {
        "id": "ExJKXLxkj1g_"
      },
      "id": "ExJKXLxkj1g_",
      "execution_count": null,
      "outputs": []
    },
    {
      "cell_type": "code",
      "source": [
        "# CA3 counts\n",
        "# CA3_06_adata.obs\n",
        "CA3_06_adata"
      ],
      "metadata": {
        "id": "fQIIZQjVj1eN"
      },
      "id": "fQIIZQjVj1eN",
      "execution_count": null,
      "outputs": []
    },
    {
      "cell_type": "code",
      "source": [
        "\n",
        "\n",
        "adata_GABA.obs['High_E'] ='low'\n",
        "adata_GABA.obs['High_E'][z_score(sc.get.obs_df(adata_GABA,'Apoe'))>2] = 'high'\n",
        "\n",
        "\n",
        "# display(adata_GABA.obs.head(4))\n",
        "ages = list(set(adata_GABA.obs['age_bin']))\n",
        "clusters = list(set(adata_GABA.obs['louvain']))\n",
        "etype = list(set(adata_GABA.obs['E_type']))\n",
        "e_level = list(set(adata_GABA.obs['High_E']))\n",
        "\n",
        "count_dict_HE = {}\n",
        "for a in ages:\n",
        "    for c in ['5','2']:\n",
        "        for t in etype:\n",
        "            for l in e_level:\n",
        "                count_dict_HE[a+\"_\"+c+\"c_\"+t+'_'+l] = np.sum(np.logical_and(np.logical_and(adata_GABA.obs['age_bin']==a, adata_GABA.obs['louvain']==c),\n",
        "                                                                           np.logical_and(adata_GABA.obs['E_type']==t, adata_GABA.obs['High_E']==l)))\n",
        "\n",
        "\n",
        "cell_count_HE_df = pd.DataFrame({'Group': count_dict_HE.keys(), 'Counts':count_dict_HE.values()}).set_index('Group')\n",
        "display(cell_count_HE_df)\n",
        "cell_count_HE_df.to_csv('./cell_count_HE_df.csv')\n",
        "\n",
        "\n"
      ],
      "metadata": {
        "id": "BYE0Acsdj1Zt"
      },
      "id": "BYE0Acsdj1Zt",
      "execution_count": null,
      "outputs": []
    }
  ],
  "metadata": {
    "colab": {
      "provenance": [],
      "private_outputs": true,
      "include_colab_link": true
    },
    "kernelspec": {
      "display_name": "Python 3 (ipykernel)",
      "language": "python",
      "name": "python3"
    },
    "language_info": {
      "codemirror_mode": {
        "name": "ipython",
        "version": 3
      },
      "file_extension": ".py",
      "mimetype": "text/x-python",
      "name": "python",
      "nbconvert_exporter": "python",
      "pygments_lexer": "ipython3",
      "version": "3.11.4"
    },
    "varInspector": {
      "cols": {
        "lenName": 16,
        "lenType": 16,
        "lenVar": 40
      },
      "kernels_config": {
        "python": {
          "delete_cmd_postfix": "",
          "delete_cmd_prefix": "del ",
          "library": "var_list.py",
          "varRefreshCmd": "print(var_dic_list())"
        },
        "r": {
          "delete_cmd_postfix": ") ",
          "delete_cmd_prefix": "rm(",
          "library": "var_list.r",
          "varRefreshCmd": "cat(var_dic_list()) "
        }
      },
      "types_to_exclude": [
        "module",
        "function",
        "builtin_function_or_method",
        "instance",
        "_Feature"
      ],
      "window_display": false
    }
  },
  "nbformat": 4,
  "nbformat_minor": 5
}