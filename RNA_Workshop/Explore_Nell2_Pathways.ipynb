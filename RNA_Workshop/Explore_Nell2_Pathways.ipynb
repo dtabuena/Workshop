{
  "cells": [
    {
      "cell_type": "markdown",
      "metadata": {
        "id": "view-in-github",
        "colab_type": "text"
      },
      "source": [
        "<a href=\"https://colab.research.google.com/github/dtabuena/Workshop/blob/main/RNA_Workshop/Explore_Nell2_Pathways.ipynb\" target=\"_parent\"><img src=\"https://colab.research.google.com/assets/colab-badge.svg\" alt=\"Open In Colab\"/></a>"
      ]
    },
    {
      "cell_type": "code",
      "execution_count": null,
      "id": "b294428a",
      "metadata": {
        "id": "b294428a",
        "scrolled": true,
        "tags": []
      },
      "outputs": [],
      "source": [
        "!pip install scanpy --quiet\n",
        "!pip install pybiomart --quiet\n",
        "!pip install python-igraph --quiet\n",
        "!pip install louvain --quiet\n",
        "!pip install pynndescent --quiet\n",
        "\n",
        "\n",
        "!pip install scipy"
      ]
    },
    {
      "cell_type": "code",
      "execution_count": null,
      "id": "16d3f9dc",
      "metadata": {
        "id": "16d3f9dc",
        "tags": []
      },
      "outputs": [],
      "source": [
        "import h5py\n",
        "import numpy as np\n",
        "from matplotlib import pyplot as plt\n",
        "import scanpy as sc\n",
        "import tarfile\n",
        "import os\n",
        "import anndata as ad\n",
        "import pandas as pd\n",
        "import pybiomart\n",
        "from tqdm import tqdm\n",
        "import urllib.request\n",
        "from IPython.display import clear_output\n",
        "from matplotlib.pyplot import rc_context\n",
        "import scipy\n",
        "import logging\n",
        "import itertools"
      ]
    },
    {
      "cell_type": "code",
      "source": [
        "import goatools"
      ],
      "metadata": {
        "id": "17nWaZUkbulM"
      },
      "id": "17nWaZUkbulM",
      "execution_count": null,
      "outputs": []
    },
    {
      "cell_type": "code",
      "source": [
        "goatools.godag"
      ],
      "metadata": {
        "id": "nvJIsk88bvQE"
      },
      "id": "nvJIsk88bvQE",
      "execution_count": null,
      "outputs": []
    },
    {
      "cell_type": "code",
      "source": [
        "def init_GO():\n",
        "    # !pip install goatools --quiet\n",
        "\n",
        "\n",
        "    '''Get Gene Lists and metadata from ncbi'''\n",
        "    import os\n",
        "    import urllib.request\n",
        "    gene_list_url='https://github.com/dtabuena/Resources/raw/1e3f0ef18ba127b71a9e6b93f7624e3a28fe87c1/GO%20Files/gene_result.txt'\n",
        "    urllib.request.urlretrieve(gene_list_url, 'gene_result.txt')\n",
        "    scripts_path = [p for p in os.environ['PATH'].split(';') if 'Scripts' in p][0]\n",
        "    ncbi_path = os.path.join(scripts_path,'ncbi_gene_results_to_python.py')\n",
        "    !python $ncbi_path -o genes_ncbi_mus_musculus_proteincoding.py gene_result.txt\n",
        "    from genes_ncbi_mus_musculus_proteincoding import GENEID2NT as GeneID2nt_mus\n",
        "\n",
        "\n",
        "\n",
        "    '''Get Key Funcs'''\n",
        "    from goatools.base import download_go_basic_obo\n",
        "    from goatools.base import download_ncbi_associations\n",
        "    from goatools.obo_parser import GODag\n",
        "    from goatools.anno.genetogo_reader import Gene2GoReader\n",
        "    from goatools.goea.go_enrichment_ns import GOEnrichmentStudyNS\n",
        "\n",
        "    '''Download Current Go Annotations'''\n",
        "    obo_fname = download_go_basic_obo()\n",
        "    fin_gene2go = download_ncbi_associations()\n",
        "    obodag = GODag(\"go-basic.obo\")\n",
        "\n",
        "\n",
        "\n",
        "\n",
        "    '''Get Mapper from Symbol to Gene and Inv'''\n",
        "    mapper = {}\n",
        "    for key in GeneID2nt_mus:\n",
        "        mapper[GeneID2nt_mus[key].Symbol] = GeneID2nt_mus[key].GeneID\n",
        "    inv_map = {v: k for k, v in mapper.items()}\n",
        "\n",
        "\n",
        "\n",
        "    '''Read NCBI's gene2go. Store annotations in a list of namedtuples '''\n",
        "    objanno = Gene2GoReader(fin_gene2go, taxids=[10090])\n",
        "    # Get namespace2association where:\n",
        "    #    namespace is:\n",
        "    #        BP: biological_process\n",
        "    #        MF: molecular_function\n",
        "    #        CC: cellular_component\n",
        "    #    assocation is a dict:\n",
        "    #        key: NCBI GeneID\n",
        "    #        value: A set of GO IDs associated with that gene\n",
        "    ns2assoc = objanno.get_ns2assc()\n",
        "\n",
        "\n",
        "    '''Create a GO Object'''\n",
        "    goeaobj = GOEnrichmentStudyNS(\n",
        "            GeneID2nt_mus.keys(), # List of mouse protein-coding genes\n",
        "            ns2assoc, # geneid/GO associations\n",
        "            obodag, # Ontologies\n",
        "            propagate_counts = False,\n",
        "            alpha = 0.05, # default significance cut-off\n",
        "            methods = ['fdr_bh']) # defult multipletest correction method\n",
        "\n",
        "\n",
        "    ''' PASS '''\n",
        "    num_terms = {}\n",
        "    GO_items = []\n",
        "    temp = goeaobj.ns2objgoea['BP'].assoc\n",
        "    num_terms['biological_process']=len(temp)\n",
        "    for item in temp:\n",
        "        GO_items += temp[item]\n",
        "    temp = goeaobj.ns2objgoea['CC'].assoc\n",
        "    num_terms['cellular_component']=len(temp)\n",
        "    for item in temp:\n",
        "        GO_items += temp[item]\n",
        "    temp = goeaobj.ns2objgoea['MF'].assoc\n",
        "    num_terms['molecular_function']=len(temp)\n",
        "    for item in temp:\n",
        "        GO_items += temp[item]\n",
        "\n",
        "\n",
        "    # GO_items = goeaobj.ns2objgoea['BP'].assoc + goeaobj.ns2objgoea['CC'].assoc + goeaobj.ns2objgoea['MF'].assoc\n",
        "\n",
        "\n",
        "    def go_it(test_genes):\n",
        "        ''' Quick Access Function for doing the GO associations '''\n",
        "        logging.info(f'input genes: {len(test_genes)}')\n",
        "        mapped_genes = []\n",
        "        for gene in test_genes:\n",
        "            try:\n",
        "                mapped_genes.append(mapper[gene])\n",
        "            except:\n",
        "                pass\n",
        "        logging.info(f'mapped genes: {len(mapped_genes)}')\n",
        "        goea_results_all = goeaobj.run_study(mapped_genes)\n",
        "        goea_results_sig = [r for r in goea_results_all if r.p_fdr_bh < 0.05]\n",
        "        GO = pd.DataFrame(list(map(lambda x: [x.GO, x.goterm.name, x.goterm.namespace, num_terms[x.goterm.namespace], x.p_uncorrected, x.p_fdr_bh,\\\n",
        "                    x.ratio_in_study[0], x.ratio_in_study[1], GO_items.count(x.GO), list(map(lambda y: inv_map[y], x.study_items)),\\\n",
        "                    ], goea_results_sig)), columns = ['GO', 'term', 'class', 'class_size', 'p', 'p_corr', 'n_genes',\\\n",
        "                                                        'n_study', 'n_go', 'study_genes'])\n",
        "        GO = GO[GO.n_genes > 1]\n",
        "        GO['enrich_ratio'] = ( GO['n_genes']/GO['n_study'] ) / ( GO['n_go']/GO['class_size'] )\n",
        "        return GO\n",
        "\n",
        "\n",
        "\n",
        "    goea_results_all = goeaobj.run_study([mapper['Apoe']])\n",
        "    all_GO = pd.DataFrame(list(map(lambda x: [x.GO, x.goterm.name, x.goterm.namespace, num_terms[x.goterm.namespace], GO_items.count(x.GO),\n",
        "                        ], goea_results_all)), columns = ['GO', 'term', 'class', 'class_size', 'n_go',])\n",
        "\n",
        "\n",
        "    return go_it, num_terms ,goeaobj,goea_results_all,all_GO\n",
        "\n",
        "\n",
        "go_it, num_terms, goeaobj,goea_results_all,all_GO = init_GO()"
      ],
      "metadata": {
        "id": "xt6IgKPyl_7O"
      },
      "id": "xt6IgKPyl_7O",
      "execution_count": null,
      "outputs": []
    },
    {
      "cell_type": "code",
      "execution_count": null,
      "id": "4514aef3",
      "metadata": {
        "id": "4514aef3",
        "tags": []
      },
      "outputs": [],
      "source": [
        "def trim_key(k):\n",
        "    floxed_dict = {'GSM5106175_YH_KZ03_01':('E3fKI_Syn_Cre602_15m','GSM5106175_602_E3fKI_15_XX'),\n",
        "                   'GSM5106176_YH_KZ03_03':('E4fKI_Syn_Cre475_15m','GSM5106176_475_E4fKI_15_XX')}\n",
        "    for f in floxed_dict.keys():\n",
        "        if f in k: return floxed_dict[f][1]\n",
        "    k = k.replace('_raw_gene_bc_matrices_h5.h5',\"\")\n",
        "    return k\n",
        "def query_capitilaziation(gene,adata):\n",
        "    try:\n",
        "        return adata.var.index[ [g.lower() for g in list(adata.var.index)].index(gene.lower()) ]\n",
        "    except:\n",
        "        return gene + ' not_found'\n",
        "def z_score(x,axis=-1):\n",
        "    x=np.array(x)\n",
        "    return (x-np.mean(x,axis=axis))/np.std(x,axis=axis)\n",
        "\n"
      ]
    },
    {
      "cell_type": "code",
      "source": [
        "os.chdir(\"C:/Users/dennis.tabuena/Dropbox (Gladstone)/0_Projects/_Seurat_Scanpy/Scanpy_data/\")\n",
        "os.listdir()"
      ],
      "metadata": {
        "id": "i5elnh9nGTdL"
      },
      "id": "i5elnh9nGTdL",
      "execution_count": null,
      "outputs": []
    },
    {
      "cell_type": "code",
      "source": [
        "os.chdir(\"C:/Users/dennis.tabuena/Dropbox (Gladstone)/0_Projects/_Seurat_Scanpy/Scanpy_data/\")\n",
        "adata = sc.read_h5ad('./2023_11_07_KZ_anndata.h5ad')"
      ],
      "metadata": {
        "id": "sA5g4SSc5hTZ"
      },
      "id": "sA5g4SSc5hTZ",
      "execution_count": null,
      "outputs": []
    },
    {
      "cell_type": "code",
      "source": [
        "display(adata.obs.head())\n",
        "\n",
        "meta_df = pd.read_csv('./kz_metadata.csv').set_index('Barcodes')\n",
        "\n",
        "adata_meta= adata.copy()\n",
        "adata_meta.obs[\"Cluster_ID\"]=np.nan\n",
        "adata_meta.obs[\"Cluster_ID\"]= meta_df[\"Cluster_ID\"]\n",
        "display(adata_meta.obs.head())\n",
        "\n",
        "all_cats = list(set(meta_df[\"Cluster_ID\"]))\n",
        "print(all_cats)"
      ],
      "metadata": {
        "id": "95xiMBjl6Doa"
      },
      "id": "95xiMBjl6Doa",
      "execution_count": null,
      "outputs": []
    },
    {
      "cell_type": "code",
      "source": [
        "########### Sub Divide Clusters of Interest\n",
        "os.chdir(\"C:/Users/dennis.tabuena/Dropbox (Gladstone)/0_Projects/_Hyper+Crisper/_Nell2_enrichment/\")\n",
        "# dgc_01_adata =  adata_meta[adata_meta.obs[\"Cluster_ID\"] == '01 Dentate Gyrus Granule Cells'].copy()\n",
        "# display(dgc_01_adata)\n",
        "dgc_02_adata =  adata_meta[adata_meta.obs[\"Cluster_ID\"] == '02 Dentate Gyrus Granule Cells'].copy()\n",
        "display(dgc_02_adata)\n",
        "CA3_06_adata =  adata_meta[adata_meta.obs[\"Cluster_ID\"] == '06 CA2/CA3 Pyramids'].copy()\n",
        "display(CA3_06_adata)\n"
      ],
      "metadata": {
        "id": "fzmN1_H4AQDo"
      },
      "id": "fzmN1_H4AQDo",
      "execution_count": null,
      "outputs": []
    },
    {
      "cell_type": "code",
      "source": [
        "import statsmodels"
      ],
      "metadata": {
        "id": "Av4-UOOiDGRQ"
      },
      "id": "Av4-UOOiDGRQ",
      "execution_count": null,
      "outputs": []
    },
    {
      "cell_type": "code",
      "source": [
        "def find_corr_genes(adata,gene,pct=1,to_plot=True):\n",
        "    X_ = adata.X.toarray()\n",
        "    gene_ind = list(adata.var['name']).index(gene)\n",
        "    target_row = X_[:,gene_ind]\n",
        "    num_genes= X_.shape[1]\n",
        "    gene_corr = np.ones([num_genes])\n",
        "    p_vals = np.zeros([num_genes])\n",
        "    for g in range(num_genes):\n",
        "        gene_corr[g],p_vals[g] = scipy.stats.pearsonr( target_row,X_[:,g])\n",
        "\n",
        "\n",
        "    gene_corr[np.isnan(gene_corr)] = 0\n",
        "    gene_rank =np.argsort(np.argsort(-gene_corr))\n",
        "    gene_corr_plot=gene_corr.copy()\n",
        "    gene_corr_plot[gene_ind]=np.nan\n",
        "\n",
        "    low,high = np.nanpercentile(gene_corr,[pct,100-pct])\n",
        "\n",
        "    high_bool = gene_corr>high\n",
        "    low_bool = gene_corr<low\n",
        "\n",
        "    high_names=adata.var['name'][high_bool]\n",
        "    low_names=adata.var['name'][low_bool]\n",
        "\n",
        "    FDR_p_vals = p_vals.copy()\n",
        "    p_not_nan=np.logical_not(np.isnan(p_vals))\n",
        "    FDR_bool = np.zeros_like(FDR_p_vals,dtype=bool)\n",
        "    FDR_bool[p_not_nan], FDR_p_vals[p_not_nan] = statsmodels.stats.multitest.fdrcorrection(p_vals[p_not_nan], alpha=0.05, method='indep', is_sorted=False)\n",
        "    if to_plot:\n",
        "        fig,ax=plt.subplots(1,2,figsize=(3,1),width_ratios=(2,2),dpi=300)\n",
        "            # fig,ax=plt.subplots(1,1,figsize=(3,1),dpi=300)\n",
        "            # ax=[ax]\n",
        "        ax[0].scatter(gene_rank/num_genes*100,gene_corr_plot,s=1,color='k')\n",
        "        ax[0].scatter((gene_rank/num_genes*100)[FDR_bool],gene_corr_plot[FDR_bool],s=1,color='r')\n",
        "\n",
        "        ax[0].axhline(high,color='k',linewidth=1)\n",
        "        ax[0].axhline(low,color='k',linewidth=1)\n",
        "\n",
        "        ax[0].axhline(high,color='k',linewidth=1)\n",
        "        ax[0].axhline(low,color='k',linewidth=1)\n",
        "\n",
        "        ax[0].set_xlabel('Percentile Rank')\n",
        "        ax[0].set_ylabel('Pearson R')\n",
        "\n",
        "        ax[1].scatter(gene_corr,-np.log10(FDR_p_vals),s=1,color='k')\n",
        "        ax[1].scatter(gene_corr[FDR_bool],-np.log10(FDR_p_vals)[FDR_bool],s=1,color='r')\n",
        "\n",
        "\n",
        "    plt.show()\n",
        "\n",
        "    results_dict = {'gene_corr':gene_corr, 'high_bool':high_bool,'low_bool':low_bool ,'high_names':high_names,'low_names':low_names,'gene_rank':gene_rank}\n",
        "    results_dict['table']= pd.DataFrame({'gene_name':adata.var['name'],\n",
        "                                         'gene_rank':gene_rank,\n",
        "                                         'gene_corr':gene_corr,\n",
        "                                         'p_vals':p_vals,\n",
        "                                         'FDR_p_vals':FDR_p_vals,\n",
        "                                         'high_bool':high_bool,\n",
        "                                         'low_bool':low_bool}).set_index('gene_name').sort_values('gene_rank',axis=0)\n",
        "\n",
        "    return results_dict, fig, ax\n",
        "\n",
        "pct = 10\n",
        "dgc_02_nell_results,_,_ = find_corr_genes(dgc_02_adata,'Nell2',pct=pct)\n",
        "dgc_02_apoe_results,_,_ = find_corr_genes(dgc_02_adata,'Apoe',pct=pct)\n",
        "\n",
        "CA3_06_nell_results,_,_ = find_corr_genes(CA3_06_adata,'Nell2',pct=pct)\n",
        "CA3_06_apoe_results,_,_ = find_corr_genes(CA3_06_adata,'Apoe',pct=pct)\n"
      ],
      "metadata": {
        "id": "159YUVqcBx_-"
      },
      "id": "159YUVqcBx_-",
      "execution_count": null,
      "outputs": []
    },
    {
      "cell_type": "code",
      "source": [],
      "metadata": {
        "id": "tIp-zJPkCpaX"
      },
      "id": "tIp-zJPkCpaX",
      "execution_count": null,
      "outputs": []
    },
    {
      "cell_type": "code",
      "source": [
        "\n",
        "def write_tables(res,prefix):\n",
        "    high_table = res['table']\n",
        "    high_table = high_table[high_table['high_bool']]\n",
        "    high_table.to_csv(prefix+'_high_corr_names.csv')\n",
        "\n",
        "    low_table = CA3_06_nell_results['table']\n",
        "    low_table = high_table[low_table['low_bool']]\n",
        "    low_table.to_csv(prefix+'_low_corr_names.csv')\n",
        "    return None\n",
        "\n",
        "os.chdir(\"C:/Users/dennis.tabuena/Dropbox (Gladstone)/0_Projects/_Hyper+Crisper/_Nell2_enrichment/\")\n",
        "write_tables(CA3_06_nell_results,'CA3_06_nell')\n",
        "write_tables(CA3_06_apoe_results,'CA3_06_apoe')\n",
        "write_tables(dgc_02_nell_results,'dgc_02_nell')\n",
        "write_tables(dgc_02_apoe_results,'dgc_02_apoe')\n",
        "\n"
      ],
      "metadata": {
        "id": "3NIGt6TnNxkv"
      },
      "id": "3NIGt6TnNxkv",
      "execution_count": null,
      "outputs": []
    },
    {
      "cell_type": "code",
      "source": [
        "logging.basicConfig(filename='example.log',level=logging.DEBUG)\n",
        "def get_onto_from_dict(dict_results):\n",
        "    h = len(dict_results['high_names'])\n",
        "    l = len(dict_results['low_names'])\n",
        "    logging.info(f\"{h} high genes and {l} low genes\")\n",
        "    dict_results['go_high'] = go_it(dict_results['high_names'])\n",
        "    dict_results['go_low'] = go_it(dict_results['low_names'])\n",
        "    return dict_results\n",
        "\n",
        "\n",
        "CA3_06_nell_results = get_onto_from_dict(CA3_06_nell_results)\n",
        "CA3_06_apoe_results = get_onto_from_dict(CA3_06_apoe_results)\n",
        "dgc_02_nell_results = get_onto_from_dict(dgc_02_nell_results)\n",
        "dgc_02_apoe_results = get_onto_from_dict(dgc_02_apoe_results)\n",
        "\n"
      ],
      "metadata": {
        "id": "UsOuRRyLX9OF"
      },
      "id": "UsOuRRyLX9OF",
      "execution_count": null,
      "outputs": []
    },
    {
      "cell_type": "code",
      "source": [
        "go_group_dict={'CA3_nell_h':CA3_06_nell_results['go_high'],\n",
        "               'CA3_apoe_h':CA3_06_apoe_results['go_high'],\n",
        "               'dgc_nell_h':dgc_02_nell_results['go_high'],\n",
        "               'dgc_apoe_h':dgc_02_apoe_results['go_high'],\n",
        "               }\n",
        "for k,v in go_group_dict.items():\n",
        "    in_bio = ['biological_process' in c for c in v['class']]\n",
        "    go_group_dict[k] = list(v['GO']) # [in_bio]\n",
        "    # go_group_dict[k] = go_group_dict[k][in_bio]\n"
      ],
      "metadata": {
        "id": "L0RRAjeZolcp"
      },
      "id": "L0RRAjeZolcp",
      "execution_count": null,
      "outputs": []
    },
    {
      "cell_type": "code",
      "source": [
        "def membership_dict_to_df(group_dict: dict) -> pd.DataFrame:\n",
        "    \"\"\"\n",
        "    get dict with keys:group and values:list of items.\n",
        "    convert dict to a pd.DataFrame with index:items and\n",
        "    columns for membership in label. A numerical embeding\n",
        "    of membership overlaps is created for simplicity after.\n",
        "    A look up dict its returned to interpred embeddings\n",
        "    \"\"\"\n",
        "\n",
        "    inicies = [x for v in group_dict.values() for x in v]\n",
        "    print(inicies)\n",
        "    inicies = list(set(inicies))\n",
        "    mebership_df = pd.DataFrame(index=inicies,columns=list(group_dict.keys()))\n",
        "    mebership_df['emb_combo'] = np.nan\n",
        "    possible_combos = list(itertools.product([True,False], repeat=len(group_dict.keys())))\n",
        "    combo_sum = [np.sum(c) for c in possible_combos]\n",
        "    possible_combos = [possible_combos[i] for i in np.argsort(combo_sum)]\n",
        "    embed_combos = {c:i for i,c in enumerate(possible_combos)}\n",
        "    for r in mebership_df.index:\n",
        "        row_bool = [ r in vals for vals in group_dict.values()]\n",
        "        mebership_df.loc[r,list(group_dict.keys())] = row_bool\n",
        "        mebership_df.loc[r,'emb_combo'] = embed_combos[tuple(row_bool)]\n",
        "    return mebership_df, embed_combos\n"
      ],
      "metadata": {
        "id": "xZqd3LVH6z6c"
      },
      "id": "xZqd3LVH6z6c",
      "execution_count": null,
      "outputs": []
    },
    {
      "cell_type": "code",
      "source": [
        "def upset_plot(group_dict, figsize=(3,3), exclude_all_none=True):\n",
        "\n",
        "    'group_dict->dict with keys=categories/groups and values=list(members)'\n",
        "\n",
        "    mebership_df, embed_combos = membership_dict_to_df(go_group_dict)\n",
        "    possible_combos = list(embed_combos.keys())\n",
        "    if exclude_all_none: #exclude members that do not intersect any group\n",
        "        possible_combos = [c for c in possible_combos if np.array(c).any()]\n",
        "        false_tupple = tuple(np.full((len(possible_combos[0])),False))\n",
        "        del embed_combos[false_tupple]\n",
        "\n",
        "    fig,ax=plt.subplots(2,2,figsize=figsize,width_ratios=[5,2],height_ratios=[5,2],dpi=300)\n",
        "    null_ax = ax[0,1]\n",
        "    null_ax.axis('off')\n",
        "    combo_ax = ax[1,0]\n",
        "    overlap_ax = ax[0,0]\n",
        "    set_size_ax = ax[1,1]\n",
        "\n",
        "    group_names = [c for c in mebership_df.columns if str(c) not in 'emb_combo']\n",
        "\n",
        "\n",
        "    \"\"\"Draw Dots and Connect\"\"\"\n",
        "    true_xy = np.where(possible_combos)\n",
        "    false_xy = np.where(np.logical_not(possible_combos))\n",
        "    dot_size=12\n",
        "    combo_ax.scatter(true_xy[0],true_xy[1],color='k',s=dot_size)\n",
        "    combo_ax.scatter(false_xy[0],false_xy[1],color='lightgrey',s=dot_size)\n",
        "    combo_ax.set_yticks(range(4),group_names)\n",
        "    combo_ax.set_xticks([])\n",
        "    combo_ax.set_ylim([-.5,len(group_names)-.5])\n",
        "    my_map = np.cumsum(np.ones_like(possible_combos),axis=1)*possible_combos\n",
        "    for row,vals in enumerate(my_map):\n",
        "        vals_nz = [v for v in vals if v > 0]\n",
        "        if np.sum(vals>0)>1:\n",
        "            combo_ax.plot([row,row],[np.min(vals_nz)-1,np.max(vals_nz)-1],color='k',linewidth=.5 )\n",
        "\n",
        "\n",
        "\n",
        "    \"\"\"Plot Overlap Bars\"\"\"\n",
        "    intersection_counts, bin_edges = np.histogram(mebership_df['emb_combo'],\n",
        "                                                  bins=len(possible_combos),\n",
        "                                                  range=[np.min(mebership_df['emb_combo'])-.5,np.max(mebership_df['emb_combo'])+.5]) #\n",
        "    overlap_ax.bar(bin_edges[:-1]-.5,intersection_counts,color='k')\n",
        "    overlap_ax.set_xlim(combo_ax.get_xlim() )\n",
        "    overlap_ax.set_xticks([])\n",
        "    overlap_ax.set_ylabel('Intersection (#)')\n",
        "\n",
        "\n",
        "    \"\"\"Plot Groups Sizes\"\"\"\n",
        "    set_size_ax.barh( list(group_dict.keys()), [len(v) for v in group_dict.values()],color='k'   )\n",
        "    set_size_ax.set_yticks([])\n",
        "    set_size_ax.set_xlabel('Group Size (#)')\n",
        "\n",
        "    return (fig,ax), mebership_df, embed_combos\n",
        "\n",
        "\n",
        "fig_ax, mebership_df,embed_combos = upset_plot(go_group_dict,figsize=(4,2.5))\n",
        "mebership_df.to_csv('./nell_apoe_CA_DG_go_term_intersections.csv')"
      ],
      "metadata": {
        "id": "AbTXFa2y6BtL"
      },
      "id": "AbTXFa2y6BtL",
      "execution_count": null,
      "outputs": []
    },
    {
      "cell_type": "code",
      "source": [
        "embeding = embed_combos[(False,True,False,True)]\n",
        "g_list = mebership_df[mebership_df['emb_combo']==embeding].index.to_list()\n",
        "df = all_GO.copy()\n",
        "df = df[ [g in g_list for g in df['GO']] ]\n",
        "display(df)\n",
        "\n"
      ],
      "metadata": {
        "id": "54betRAo14L3"
      },
      "id": "54betRAo14L3",
      "execution_count": null,
      "outputs": []
    }
  ],
  "metadata": {
    "colab": {
      "provenance": [],
      "private_outputs": true,
      "include_colab_link": true
    },
    "kernelspec": {
      "display_name": "Python 3 (ipykernel)",
      "language": "python",
      "name": "python3"
    },
    "language_info": {
      "codemirror_mode": {
        "name": "ipython",
        "version": 3
      },
      "file_extension": ".py",
      "mimetype": "text/x-python",
      "name": "python",
      "nbconvert_exporter": "python",
      "pygments_lexer": "ipython3",
      "version": "3.11.4"
    },
    "varInspector": {
      "cols": {
        "lenName": 16,
        "lenType": 16,
        "lenVar": 40
      },
      "kernels_config": {
        "python": {
          "delete_cmd_postfix": "",
          "delete_cmd_prefix": "del ",
          "library": "var_list.py",
          "varRefreshCmd": "print(var_dic_list())"
        },
        "r": {
          "delete_cmd_postfix": ") ",
          "delete_cmd_prefix": "rm(",
          "library": "var_list.r",
          "varRefreshCmd": "cat(var_dic_list()) "
        }
      },
      "types_to_exclude": [
        "module",
        "function",
        "builtin_function_or_method",
        "instance",
        "_Feature"
      ],
      "window_display": false
    }
  },
  "nbformat": 4,
  "nbformat_minor": 5
}