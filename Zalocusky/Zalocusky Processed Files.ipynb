{
 "cells": [
  {
   "cell_type": "code",
   "execution_count": null,
   "id": "071411e3",
   "metadata": {},
   "outputs": [],
   "source": [
    "!pip install scanpy\n",
    "import h5py\n",
    "import numpy as np\n",
    "import scipy as sci\n",
    "from matplotlib import pyplot as plt\n",
    "import scanpy as sc\n",
    "import tarfile\n",
    "import os\n",
    "import anndata as ad\n",
    "import pandas as pd\n",
    "import clear_output\n",
    "clear_output()\n",
    "\n",
    "sc.settings.verbosity = 3             # verbosity: errors (0), warnings (1), info (2), hints (3)\n",
    "sc.logging.print_header()\n",
    "sc.settings.set_figure_params(dpi=80, facecolor='white')"
   ]
  },
  {
   "cell_type": "code",
   "execution_count": 3,
   "id": "678e54bb",
   "metadata": {},
   "outputs": [
    {
     "data": {
      "text/plain": [
       "('./zalocusky_summary_filt.h5', <http.client.HTTPMessage at 0x1bf1417ad70>)"
      ]
     },
     "execution_count": 3,
     "metadata": {},
     "output_type": "execute_result"
    }
   ],
   "source": [
    "import urllib.request\n",
    "url_raw = 'https://ftp.ncbi.nlm.nih.gov/geo/series/GSE167nnn/GSE167497/suppl/GSE167497_raw_gene_bc_matrices_h5.h5'\n",
    "filename_raw = './'+'zalocusky_summary_raw.h5'\n",
    "urllib.request.urlretrieve(url_raw, filename_raw)\n",
    "url_filt = 'https://ftp.ncbi.nlm.nih.gov/geo/series/GSE167nnn/GSE167497/suppl/GSE167497_filtered_gene_bc_matrices_h5.h5'\n",
    "filename_filt = './'+'zalocusky_summary_filt.h5'\n",
    "urllib.request.urlretrieve(url_filt, filename_filt)"
   ]
  },
  {
   "cell_type": "code",
   "execution_count": 7,
   "id": "b65f4b3a",
   "metadata": {
    "scrolled": true
   },
   "outputs": [
    {
     "name": "stderr",
     "output_type": "stream",
     "text": [
      "C:\\Users\\dennis.tabuena\\AppData\\Local\\anaconda3\\lib\\site-packages\\anndata\\_core\\anndata.py:1832: UserWarning: Variable names are not unique. To make them unique, call `.var_names_make_unique`.\n",
      "  utils.warn_names_duplicates(\"var\")\n",
      "C:\\Users\\dennis.tabuena\\AppData\\Local\\anaconda3\\lib\\site-packages\\anndata\\_core\\anndata.py:1832: UserWarning: Variable names are not unique. To make them unique, call `.var_names_make_unique`.\n",
      "  utils.warn_names_duplicates(\"var\")\n"
     ]
    }
   ],
   "source": [
    "raw_sc_data = sc.read_10x_h5(filename_raw)\n",
    "filt_sc_data = sc.read_10x_h5(filename_filt)\n"
   ]
  },
  {
   "cell_type": "code",
   "execution_count": 11,
   "id": "4b74bb60",
   "metadata": {},
   "outputs": [
    {
     "data": {
      "text/plain": [
       "AnnData object with n_obs × n_vars = 737280 × 27998\n",
       "    var: 'gene_ids'"
      ]
     },
     "metadata": {},
     "output_type": "display_data"
    }
   ],
   "source": [
    "display(raw_sc_data)\n",
    "'''\n",
    "Simply opening the raw gene bc[barcode?] matrix shows 733780 barcodes(ie cells) and 27998 genes.\n",
    "This cannot be a version error unless the error occured prior to uploading to GEO. The data simply doesnt\n",
    "exist in the file.\n",
    "'''"
   ]
  },
  {
   "cell_type": "code",
   "execution_count": 12,
   "id": "cc8997ee",
   "metadata": {},
   "outputs": [
    {
     "data": {
      "text/plain": [
       "AnnData object with n_obs × n_vars = 4969 × 27998\n",
       "    var: 'gene_ids'"
      ]
     },
     "metadata": {},
     "output_type": "display_data"
    }
   ],
   "source": [
    "display(filt_sc_data)\n",
    "'''\n",
    "Filtered gene bc[barcode?] matrix shows 4969 barcodes(ie cells) and 27998 genes.\n",
    "Far fewer cells that reported in the paper. \n",
    "Suspiciously consistant with filtering the under sized raw_summay file.\n",
    "'''"
   ]
  }
 ],
 "metadata": {
  "kernelspec": {
   "display_name": "Python 3 (ipykernel)",
   "language": "python",
   "name": "python3"
  },
  "language_info": {
   "codemirror_mode": {
    "name": "ipython",
    "version": 3
   },
   "file_extension": ".py",
   "mimetype": "text/x-python",
   "name": "python",
   "nbconvert_exporter": "python",
   "pygments_lexer": "ipython3",
   "version": "3.10.9"
  }
 },
 "nbformat": 4,
 "nbformat_minor": 5
}
