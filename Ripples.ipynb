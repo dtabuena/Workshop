{
  "nbformat": 4,
  "nbformat_minor": 0,
  "metadata": {
    "colab": {
      "provenance": [],
      "include_colab_link": true
    },
    "kernelspec": {
      "name": "python3",
      "display_name": "Python 3"
    },
    "language_info": {
      "name": "python"
    }
  },
  "cells": [
    {
      "cell_type": "markdown",
      "metadata": {
        "id": "view-in-github",
        "colab_type": "text"
      },
      "source": [
        "<a href=\"https://colab.research.google.com/github/dtabuena/Workshop/blob/main/Ripples.ipynb\" target=\"_parent\"><img src=\"https://colab.research.google.com/assets/colab-badge.svg\" alt=\"Open In Colab\"/></a>"
      ]
    },
    {
      "cell_type": "code",
      "execution_count": 1,
      "metadata": {
        "id": "kxSyipyiImED"
      },
      "outputs": [],
      "source": [
        "'Get Standard Modules'\n",
        "\n",
        "import pandas as pd\n",
        "import numpy as np\n",
        "import matplotlib\n",
        "import matplotlib.pyplot as plt\n",
        "import scipy\n",
        "from scipy import stats\n",
        "import os\n",
        "from scipy.signal import butter,filtfilt\n",
        "from tqdm import tqdm\n",
        "import warnings\n",
        "from IPython.display import clear_output\n",
        "from datetime import datetime\n",
        "import sys\n",
        "import warnings\n",
        "import shutil\n",
        "from google import colab\n",
        "from tqdm import tqdm\n",
        "import h5py\n",
        "\n",
        "warnings.filterwarnings('ignore')\n",
        "np.set_printoptions(threshold=sys.maxsize)\n",
        "clear_output(wait=False)\n",
        "\n",
        "\n",
        "\n",
        "!pip install openpyxl\n",
        "!pip install XlsxWriter\n",
        "!pip install --upgrade pyabf\n",
        "import pyabf\n",
        "\n",
        "\n",
        "clear_output()\n"
      ]
    },
    {
      "cell_type": "code",
      "source": [
        "def get_drobox_folder(link, new_filename):\n",
        "    'Download a folder from dropbox and unzip'\n",
        "    zipped_file_path = \"/content/\"+new_filename + \".zip\"\n",
        "    unzipped_file_path = \"/content/\"+new_filename\n",
        "    if not( os.path.exists(zipped_file_path)):\n",
        "        !wget -O $zipped_file_path $link    # download with new name\n",
        "    # if not( os.path.exists(new_filename_stripped)):\n",
        "    !echo A | unzip $zipped_file_path -d $unzipped_file_path\n",
        "    return new_filename\n",
        "\n",
        "\n",
        "\n",
        "####### MATH\n",
        "def z_trans_2(x):\n",
        "    x_mean = np.expand_dims(np.mean(x,axis=1),1)\n",
        "    x_std = np.expand_dims(np.std(x,axis=1),1)\n",
        "    x_z = (x - x_mean) / x_std\n",
        "    return x_z\n",
        "\n",
        "def z_trans(x):\n",
        "    x_mean = np.mean(x)\n",
        "    x_std = np.std(x)\n",
        "    x_z = (x - x_mean) / x_std\n",
        "    return x_z\n",
        "\n",
        "def mov_mean(x,stride):\n",
        "    x_mm = np.convolve(x,np.ones(stride),'same')/stride\n",
        "    return x_mm\n",
        "\n",
        "\n",
        "\n",
        "def inspect_trace(trace,time,fs,line_length=10,start_stop=[],z_scale=6,single_trace_plot_size=[18,2],figax_prev=False,spec_color=False):\n",
        "    ''' waterfall plot of trace '''\n",
        "\n",
        "\n",
        "    if len(start_stop) <2: start_stop=[time[0],time[-1]]\n",
        "    time_bool = np.logical_and(time>=start_stop[0],time<start_stop[-1])\n",
        "    time =np.round(time,6)\n",
        "    time = time[time_bool]\n",
        "    trace = trace[time_bool]\n",
        "\n",
        "\n",
        "\n",
        "    # max_t_adj =  np.ceil(start_stop[1]/line_length)*line_length\n",
        "    # pad_width =  int(fs*(max_t_adj) - len(time))\n",
        "\n",
        "\n",
        "    delta_t = time[-1]-time[0]\n",
        "    num_lines = int(np.ceil(delta_t/line_length))\n",
        "    pad_width = num_lines*line_length*fs - len(time)\n",
        "\n",
        "    print(delta_t,num_lines,pad_width)\n",
        "\n",
        "    if pad_width > 0:\n",
        "        pad_trace = np.pad(trace,((0,pad_width)),constant_values=(np.nan,np.nan))\n",
        "        pad_time =  np.pad(time,pad_width,'constant',constant_values=(np.nan,np.nan))\n",
        "    else:\n",
        "        pad_time=time\n",
        "        pad_trace =trace\n",
        "\n",
        "    tics_per_line = int(fs*line_length)\n",
        "    pad_trace_stack = np.reshape(pad_trace,[num_lines,tics_per_line])\n",
        "\n",
        "    line_time = np.arange(tics_per_line)/fs\n",
        "    line_time_stack = np.resize(line_time,[num_lines,tics_per_line] )\n",
        "\n",
        "\n",
        "\n",
        "    y_adjust_const = np.std(trace)*z_scale\n",
        "    y_adj = y_adjust_const * (np.cumsum(np.ones_like(pad_trace_stack)*-1,axis=0)+1)\n",
        "\n",
        "    if not figax_prev:\n",
        "        plt.rcParams[\"axes.prop_cycle\"] = plt.cycler(\"color\", np.flip(plt.cm.viridis(np.linspace(0,1,10)),axis=0))\n",
        "        fig,ax=plt.subplots(figsize=(single_trace_plot_size[0],single_trace_plot_size[1]*num_lines))\n",
        "    else: (fig,ax) = figax_prev\n",
        "\n",
        "    if not spec_color: ax.plot(line_time_stack.T,(pad_trace_stack+y_adj).T)\n",
        "    else: ax.plot(line_time_stack.T,(pad_trace_stack+y_adj).T,color = spec_color)\n",
        "\n",
        "    ax.set_xlim(line_time[0],line_time[-1])\n",
        "\n",
        "    from matplotlib.ticker import MultipleLocator\n",
        "    ax.yaxis.set_minor_locator(MultipleLocator(z_scale/2))\n",
        "\n",
        "    return fig,ax\n",
        "\n",
        "def time_bands(abf,sweepNumber=0,channel=0,order = 4,blank_time=4,new_fs = 1250):\n",
        "    fs = int(abf.sampleRate)\n",
        "    abf.setSweep(sweepNumber=sweepNumber,channel=channel)\n",
        "    v_trace = abf.sweepY\n",
        "    time = abf.sweepX\n",
        "\n",
        "    new_fs = int(new_fs)\n",
        "\n",
        "    # interp_func = scipy.interpolate.interp1d(time, v_trace, kind='linear')\n",
        "    # time_1khz = np.arange(0,time[-1]+1/fs,1/new_fs)\n",
        "    # time_1khz = time_1khz[np.logical_and(time_1khz>=time[0],time_1khz<=time[-1])]\n",
        "    # v_trace_1khz = interp_func(time_1khz)\n",
        "\n",
        "\n",
        "    ds_factor = int(np.ceil(fs/new_fs))\n",
        "    ds_factor = int(ds_factor)\n",
        "    v_trace_1khz = v_trace[::ds_factor]\n",
        "    time_1khz = time[::ds_factor]\n",
        "    nyq = new_fs/2\n",
        "\n",
        "    if np.max(time_1khz)<blank_time:\n",
        "        freq_bands = {'fs':np.nan,\n",
        "                  'time_1khz':{'lfp':np.nan,'hilb_env':np.nan},\n",
        "                  'full_band':{'lfp':np.nan,'hilb_env':np.nan},\n",
        "                  'wide_band':{'lfp':np.nan,'hilb_env':np.nan},\n",
        "                  'sharp_wave_band':{'lfp':np.nan,'hilb_env':np.nan},\n",
        "                  'ripple_band':{'lfp':np.nan,'hilb_env':np.nan},\n",
        "                  'slow_gamma_band':{'lfp':np.nan,'hilb_env':np.nan},\n",
        "                  }\n",
        "        return freq_bands\n",
        "\n",
        "    v_trace_1khz[np.arange(0,blank_time*fs)] = v_trace_1khz[blank_time*fs]\n",
        "\n",
        "    sos = scipy.signal.butter(order, [0.7,600], btype='bandpass',fs=new_fs,output='sos')\n",
        "    wide_band = scipy.signal.sosfiltfilt(sos, v_trace_1khz)\n",
        "\n",
        "    sos = scipy.signal.butter(order, [120,250], btype='bandpass',fs=new_fs,output='sos')\n",
        "    ripple_band = scipy.signal.sosfiltfilt(sos, wide_band)\n",
        "\n",
        "    sos = scipy.signal.butter(order, [15 ,50], btype='bandpass',fs=new_fs,output='sos')\n",
        "    slow_gamma_band = scipy.signal.sosfiltfilt(sos, wide_band)\n",
        "\n",
        "    # b, a = scipy.signal.butter(order, [1 ,20], btype='bandpass',fs=new_fs)\n",
        "    # sharp_wave_band = scipy.signal.filtfilt(b, a, wide_band)\n",
        "    sos = scipy.signal.butter(order, [1 ,20], btype='bandpass',fs=new_fs,output='sos')\n",
        "    sharp_wave_band = scipy.signal.sosfiltfilt(sos, wide_band)\n",
        "\n",
        "    sos = scipy.signal.butter(order, [250 ,600], btype='bandpass',fs=new_fs,output='sos')\n",
        "    fast_ripple_band = scipy.signal.sosfiltfilt(sos, v_trace_1khz)\n",
        "\n",
        "    freq_bands = {'fs':new_fs,\n",
        "                  'time_1khz':time_1khz,\n",
        "                  'full_band':v_trace_1khz,\n",
        "                  'wide_band':wide_band,\n",
        "                  'sharp_wave_band':sharp_wave_band,\n",
        "                  'ripple_band':ripple_band,\n",
        "                  'fast_ripple_band':fast_ripple_band,\n",
        "                  'slow_gamma_band':slow_gamma_band,\n",
        "                  }\n",
        "\n",
        "    for k in freq_bands.keys():\n",
        "        if 'band' in k:\n",
        "                amplitude_envelope = np.abs(scipy.signal.hilbert(freq_bands[k]))\n",
        "                amplitude_envelope[np.arange(0,blank_time*fs)] = amplitude_envelope[blank_time*fs]\n",
        "                freq_bands[k] = {'lfp': freq_bands[k], 'hilb_env':amplitude_envelope}\n",
        "\n",
        "    return freq_bands\n",
        "\n",
        "\n",
        "\n",
        "def get_waveforms_stack(waveform,trigs,fs,window_ms=[-150,150]):\n",
        "    window_s = np.array(window_ms)/fs\n",
        "    window_tics = np.arange(window_ms[0]/1000*fs,window_ms[1]/1000*fs,1,dtype=int)\n",
        "    window_time = window_tics/fs\n",
        "    wave_snip_list = []\n",
        "    for t in trigs:\n",
        "        try: wave_snip_list.append(waveform[t+window_tics])\n",
        "        except: None\n",
        "    wave_snip_stack = np.stack(wave_snip_list,axis=-1)\n",
        "    return wave_snip_stack, window_time\n",
        "\n",
        "def quick_wavelet(trace,fs,bottom_freq=1,top_freq = False,num_freq_bins=40,log_freq=False):\n",
        "    if not top_freq: top_freq = fs/2\n",
        "    if log_freq:\n",
        "        freqs = np.logspace(np.log2(bottom_freq), np.log2(top_freq), num=num_freq_bins, endpoint=True, base=2)\n",
        "    else:\n",
        "        freqs=np.linspace(bottom_freq,top_freq,num=num_freq_bins )\n",
        "    # w =3\n",
        "    # widths = w*fs / (2*freqs*np.pi)\n",
        "    # print(widths)\n",
        "    # cwt_morlet = scipy.signal.cwt(trace, scipy.signal.morlet2, widths, w=w)\n",
        "    # print(scipy.signal.morlet2.shape)\n",
        "\n",
        "\n",
        "\n",
        "    w = 6.\n",
        "    widths = w*fs / (2*freqs*np.pi)\n",
        "    cwt_morlet = scipy.signal.cwt(trace, scipy.signal.morlet2, widths,dtype='complex64' )\n",
        "\n",
        "    print(cwt_morlet[:,80000])\n",
        "\n",
        "    cwt_abs = np.abs(cwt_morlet)\n",
        "    print(cwt_abs[:,80000])\n",
        "\n",
        "    cwt_mean = np.expand_dims(np.mean(cwt_abs,axis=1),-1)\n",
        "    cwt_std = np.expand_dims(np.std(cwt_abs,axis=1),-1)\n",
        "    cwt_z = (cwt_abs - cwt_mean) / cwt_std\n",
        "\n",
        "\n",
        "    log_ticks = np.floor(np.log2(freqs))\n",
        "    log_ticks = np.arange(log_ticks[0],log_ticks[-1]+1,1)\n",
        "    log_ticks = np.exp2(log_ticks)\n",
        "\n",
        "    cwt_results =  {'cwt_z':cwt_z,'freqs':freqs,'cwt_mean':cwt_mean,'cwt_std':cwt_std,'log_ticks':log_ticks}\n",
        "    return cwt_results\n",
        "\n",
        "\n",
        "\n",
        "def get_wavelet_stack(wavelet,trigs,fs,window_ms=[-150,150]):\n",
        "    window_s = np.array(window_ms)/fs\n",
        "    window_tics = np.arange(window_ms[0]/1000*fs,window_ms[1]/1000*fs,1,dtype=int)\n",
        "    window_time = window_tics/fs\n",
        "    wavelet_snip_list = []\n",
        "    for t in trigs:\n",
        "        try: wavelet_snip_list.append(wavelet[:,t+window_tics])\n",
        "        except: None\n",
        "    wavelet_snip_list = np.stack(wavelet_snip_list,axis=-1)\n",
        "    return wavelet_snip_list, window_time\n",
        "\n",
        "\n",
        "\n",
        "def event_properties(waveform,trigs,fs=1000,window_ms=[-150,150]):\n",
        "    wave_snip_stack, window_time = get_waveforms_stack(waveform,trigs,fs,window_ms=[-150,150])\n",
        "    waveform_hilb_env = np.abs(scipy.signal.hilbert(waveform))\n",
        "    wave_snip_stack_hilb, window_time = get_waveforms_stack(waveform_hilb_env,trigs,fs,window_ms=[-150,150])\n",
        "    waveform_z_power = z_trans(waveform_hilb_env)\n",
        "\n",
        "    events_df = pd.DataFrame(index=np.arange(wave_snip_stack.shape[1]))\n",
        "    events_df['trig_ind'] = trigs\n",
        "    events_df['trig_time'] = trigs/fs\n",
        "    events_df['peak_amp'] = np.max(wave_snip_stack,axis=0)\n",
        "    events_df['min_amp'] = np.min(wave_snip_stack,axis=0)\n",
        "    events_df['tot_hilb'] = np.sum(wave_snip_stack_hilb,axis=0)\n",
        "    events_df['peak_z_power'] = np.max(waveform_z_power,axis=0)\n",
        "    return events_df\n",
        "\n"
      ],
      "metadata": {
        "id": "LSrhjkWmJU8e"
      },
      "execution_count": 80,
      "outputs": []
    },
    {
      "cell_type": "code",
      "source": [
        "\n",
        "# display( event_properties(waveform,trigs).head(20))"
      ],
      "metadata": {
        "id": "vU3E6ItCLWaZ"
      },
      "execution_count": null,
      "outputs": []
    },
    {
      "cell_type": "code",
      "source": [
        "data_source = \"https://www.dropbox.com/sh/cz03im6sa98nquz/AAB-WXnlE4jdTp37CiwVPUCLa?dl=0\"\n",
        "data_name = 'rip_data'\n",
        "file_loc = get_drobox_folder(data_source, data_name)\n",
        "file_list = []\n",
        "for (root, dirs, file) in os.walk(file_loc):\n",
        "    for f in file:\n",
        "        if \".abf\" in f:\n",
        "            file_list.append(os.path.join(root,f))\n",
        "clear_output()\n",
        "\n",
        "file_list = []\n",
        "# dates_to_analyze = ['2023x07x06','2023x07x07_E3KI','2023x07x13','2023x07x12','2023x07x14','2023x07x17','2023x07x20','2023x07x21']\n",
        "dates_to_analyze = ['2023x07x27']\n",
        "for (rt,dr,files) in os.walk('/content/rip_data/'):\n",
        "    for f in files:\n",
        "        for d in dates_to_analyze:\n",
        "            if d in f and '.abf' in f[-4:]:\n",
        "                file_list.append(os.path.join(rt,f))\n",
        "\n",
        "file_list.sort()\n",
        "clear_output()\n",
        "print(len(file_list))"
      ],
      "metadata": {
        "id": "-4EtVYRKf0s9",
        "outputId": "6fef7e2a-aa96-42d4-cce4-e4c577806ba0",
        "colab": {
          "base_uri": "https://localhost:8080/"
        }
      },
      "execution_count": 3,
      "outputs": [
        {
          "output_type": "stream",
          "name": "stdout",
          "text": [
            "2\n"
          ]
        }
      ]
    },
    {
      "cell_type": "code",
      "source": [
        "######### Process Good Recs #########\n",
        "\n",
        "\n",
        "e4_79_good_list = ['/content/rip_data/2023x07x27/2023x07x27_E4KI_F_P296_s1x2_0000.abf',\n",
        "                   '/content/rip_data/2023x07x27/2023x07x27_E4KI_F_P296_s3x4_0000.abf',\n",
        "                   '/content/rip_data/2023x07x21/2023x07x21_E4KI_F_P290_s1x2_0001.abf',\n",
        "                   '/content/rip_data/2023x07x21/2023x07x21_E4KI_F_P290_s7x8_0002.abf',\n",
        "                   '/content/rip_data/2023_07_17/2023x07x17_E4KI_F_P286_s2x3_0001.abf',\n",
        "                   '/content/rip_data/2023_07_17/2023x07x17_E4KI_F_P286_s4x5_0000.abf',\n",
        "                   '/content/rip_data/2023_07_17/2023x07x17_E4KI_F_P286_s4x5_0001.abf']\n",
        "\n",
        "\n",
        "e4_79_spike_list = ['/content/rip_data/2023x07x21/2023x07x21_E4KI_F_P290_s3x4_0000.abf',\n",
        "                    '/content/rip_data/2023x07x21/2023x07x21_E4KI_F_P290_s5x6_0000.abf',\n",
        "                    '/content/rip_data/2023_07_17/2023x07x17_E4KI_F_P286_s001_0001.abf']\n",
        "\n",
        "e3_79_good_list = ['/content/rip_data/2023_07_14/2023x07x14_E3KI_F_P279_s001_0001.abf',\n",
        "                   '/content/rip_data/2023_07_14/2023x07x14_E3KI_F_P279_s2x3_0001.abf',\n",
        "                   '/content/rip_data/2023_07_14/2023x07x14_E3KI_F_P279_s2x3_0003.abf',\n",
        "                   '/content/rip_data/2023_07_14/2023x07x14_E3KI_F_P279_s4x5_0000.abf',\n",
        "                   '/content/rip_data/2023_07_14/2023x07x14_E3KI_F_P279_s4x5_0001.abf',\n",
        "                   '/content/rip_data/2023_07_14/2023x07x14_E3KI_F_P279_s6x7_0002.abf',\n",
        "                   '/content/rip_data/2023_07_14/2023x07x14_E3KI_F_P279_s6x7_0003.abf',\n",
        "                   ]\n",
        "\n",
        "### Concat Lists for Bulk Analysis###\n",
        "full_79_file_list=e4_79_good_list+e4_79_spike_list+e3_79_good_list\n",
        "rip_df_79 = pd.DataFrame(index=full_79_file_list)\n",
        "chan_list = ['ch_0','ch_1']\n",
        "for c in chan_list:\n",
        "    rip_df_79[c]=np.nan\n",
        "    rip_df_79[c] = rip_df_79[c].astype('object')\n",
        "\n",
        "# for f in rip_df_79.index:\n",
        "#     row_series = (rip_df_79.loc[f]).to_frame().transpose()\n",
        "#     hdf_fold = '/content/hdf_files'\n",
        "#     try: os.makedirs(hdf_fold)\n",
        "#     except: None\n",
        "#     key_f = f.replace('/',\"\")\n",
        "#     hdf_path = hdf_fold+'/'+os.path.basename(f)[:-4] +'.h5'\n",
        "#     row_series.to_hdf(hdf_path,key=key_f)\n",
        "\n",
        "# ###  Generate time series filters ###\n",
        "# for f in tqdm( rip_df_79.index ):\n",
        "#     key_f = f.replace('/',\"\")\n",
        "#     hdf_path = hdf_fold+'/'+os.path.basename(f)[:-4]+'.h5'\n",
        "#     rec_entry = pd.read_hdf(hdf_path,key=key_f)\n",
        "\n",
        "#     abf = pyabf.ABF(f)\n",
        "#     blank_time=5\n",
        "#     for ch in chan_list:\n",
        "#         rec_entry.at[f,ch] = time_bands(abf,sweepNumber=0,channel= chan_list.index(ch) ,blank_time=blank_time,new_fs=2500)\n",
        "\n",
        "#     rec_entry.to_hdf(hdf_path,key=key_f)\n"
      ],
      "metadata": {
        "id": "D3QlJKI_erUu"
      },
      "execution_count": 32,
      "outputs": []
    },
    {
      "cell_type": "code",
      "source": [
        "### Concat Lists for Bulk Analysis###\n",
        "full_79_file_list=e4_79_good_list+e4_79_spike_list+e3_79_good_list\n",
        "rip_df_79 = pd.DataFrame(index=full_79_file_list)\n",
        "chan_list = ['ch_0','ch_1']\n",
        "for c in chan_list:\n",
        "    rip_df_79[c]=np.nan\n",
        "    rip_df_79[c] = rip_df_79[c].astype('object')\n",
        "\n",
        "\n",
        "\n",
        "for ch in chan_list:\n",
        "    for band in trig_bands:\n",
        "        rip_df_79[(ch,band+'_trigs')]=np.nan\n",
        "        rip_df_79[(ch,band+'_trigs')]=rip_df_79[(ch,band+'_trigs')].astype('object')\n",
        "        rip_df_79[(ch,band+'_trig_rate')] =np.nan\n",
        "\n",
        "# display(rip_df_79.head(20))\n",
        "\n",
        "#### all_in_one ####\n",
        "\n",
        "for f in tqdm( rip_df_79.index ):\n",
        "    # key_f = f.replace('/',\"\")\n",
        "    # hdf_path = hdf_fold+'/'+os.path.basename(f)[:-4]+'.h5'\n",
        "    # rec_entry = pd.read_hdf(hdf_path,key=key_f)\n",
        "\n",
        "    abf = pyabf.ABF(f)\n",
        "    for ch in chan_list:\n",
        "        filtered = time_bands(abf,sweepNumber=0,channel= chan_list.index(ch) ,blank_time=blank_time,new_fs=2500)\n",
        "        for b in trig_bands:\n",
        "            trace = filtered[b]['hilb_env']\n",
        "            fs = filtered['fs']\n",
        "            trigs = triggered_inds(trace,fs,min_dur_ms=10)\n",
        "            filtered[b]['trigs'] = trigs\n",
        "            # rec_entry.at[f,ch] = filtered\n",
        "            # rec_entry.to_hdf(hdf_path,key=key_f)\n",
        "            rip_df_79.at[f,(ch,band+'_trigs')] = trigs\n",
        "            if len(trigs)>1:\n",
        "                trig_rate = len(trigs)/((trigs[-1]-trigs[0])/fs)\n",
        "            else: trig_rate= np.nan\n",
        "            rip_df_79.at[f,(ch,band+'_trig_rate')] = trig_rate"
      ],
      "metadata": {
        "colab": {
          "base_uri": "https://localhost:8080/"
        },
        "id": "n7C_jg0dFatm",
        "outputId": "ff712f88-9fa2-4825-e385-5cb89c0aa260"
      },
      "execution_count": 46,
      "outputs": [
        {
          "output_type": "stream",
          "name": "stderr",
          "text": [
            "\r  0%|          | 0/17 [00:00<?, ?it/s]"
          ]
        },
        {
          "output_type": "stream",
          "name": "stdout",
          "text": [
            "[2500.]\n",
            "[2500.]\n"
          ]
        },
        {
          "output_type": "stream",
          "name": "stderr",
          "text": [
            "\r  6%|▌         | 1/17 [01:42<27:18, 102.39s/it]"
          ]
        },
        {
          "output_type": "stream",
          "name": "stdout",
          "text": [
            "[2500.]\n",
            "[2500.]\n"
          ]
        },
        {
          "output_type": "stream",
          "name": "stderr",
          "text": [
            "\r 12%|█▏        | 2/17 [02:10<14:39, 58.61s/it] "
          ]
        },
        {
          "output_type": "stream",
          "name": "stdout",
          "text": [
            "[2500.]\n",
            "[2500.]\n"
          ]
        },
        {
          "output_type": "stream",
          "name": "stderr",
          "text": [
            "\r 18%|█▊        | 3/17 [02:56<12:18, 52.78s/it]"
          ]
        },
        {
          "output_type": "stream",
          "name": "stdout",
          "text": [
            "[2500.]\n",
            "[2500.]\n"
          ]
        },
        {
          "output_type": "stream",
          "name": "stderr",
          "text": [
            "\r 24%|██▎       | 4/17 [03:28<09:39, 44.59s/it]"
          ]
        },
        {
          "output_type": "stream",
          "name": "stdout",
          "text": [
            "[2500.]\n",
            "[2500.]\n"
          ]
        },
        {
          "output_type": "stream",
          "name": "stderr",
          "text": [
            "\r 29%|██▉       | 5/17 [04:29<10:06, 50.54s/it]"
          ]
        },
        {
          "output_type": "stream",
          "name": "stdout",
          "text": [
            "[2500.]\n",
            "[2500.]\n"
          ]
        },
        {
          "output_type": "stream",
          "name": "stderr",
          "text": [
            "\r 35%|███▌      | 6/17 [04:44<07:04, 38.59s/it]"
          ]
        },
        {
          "output_type": "stream",
          "name": "stdout",
          "text": [
            "[2500.]\n",
            "[2500.]\n"
          ]
        },
        {
          "output_type": "stream",
          "name": "stderr",
          "text": [
            "\r 41%|████      | 7/17 [04:51<04:41, 28.15s/it]"
          ]
        },
        {
          "output_type": "stream",
          "name": "stdout",
          "text": [
            "[2500.]\n",
            "[2500.]\n"
          ]
        },
        {
          "output_type": "stream",
          "name": "stderr",
          "text": [
            "\r 47%|████▋     | 8/17 [05:05<03:33, 23.76s/it]"
          ]
        },
        {
          "output_type": "stream",
          "name": "stdout",
          "text": [
            "[2500.]\n",
            "[2500.]\n"
          ]
        },
        {
          "output_type": "stream",
          "name": "stderr",
          "text": [
            "\r 53%|█████▎    | 9/17 [05:28<03:07, 23.49s/it]"
          ]
        },
        {
          "output_type": "stream",
          "name": "stdout",
          "text": [
            "[2500.]\n",
            "[2500.]\n"
          ]
        },
        {
          "output_type": "stream",
          "name": "stderr",
          "text": [
            "\r 59%|█████▉    | 10/17 [07:06<05:25, 46.45s/it]"
          ]
        },
        {
          "output_type": "stream",
          "name": "stdout",
          "text": [
            "[2500.]\n",
            "[2500.]\n"
          ]
        },
        {
          "output_type": "stream",
          "name": "stderr",
          "text": [
            "\r 65%|██████▍   | 11/17 [07:19<03:37, 36.24s/it]"
          ]
        },
        {
          "output_type": "stream",
          "name": "stdout",
          "text": [
            "[2500.]\n",
            "[2500.]\n"
          ]
        },
        {
          "output_type": "stream",
          "name": "stderr",
          "text": [
            "\r 71%|███████   | 12/17 [07:26<02:17, 27.44s/it]"
          ]
        },
        {
          "output_type": "stream",
          "name": "stdout",
          "text": [
            "[2500.]\n",
            "[2500.]\n"
          ]
        },
        {
          "output_type": "stream",
          "name": "stderr",
          "text": [
            "\r 76%|███████▋  | 13/17 [07:38<01:30, 22.65s/it]"
          ]
        },
        {
          "output_type": "stream",
          "name": "stdout",
          "text": [
            "[2500.]\n",
            "[2500.]\n"
          ]
        },
        {
          "output_type": "stream",
          "name": "stderr",
          "text": [
            "\r 82%|████████▏ | 14/17 [08:19<01:24, 28.24s/it]"
          ]
        },
        {
          "output_type": "stream",
          "name": "stdout",
          "text": [
            "[2500.]\n",
            "[2500.]\n"
          ]
        },
        {
          "output_type": "stream",
          "name": "stderr",
          "text": [
            "\r 88%|████████▊ | 15/17 [08:28<00:44, 22.26s/it]"
          ]
        },
        {
          "output_type": "stream",
          "name": "stdout",
          "text": [
            "[2500.]\n",
            "[2500.]\n"
          ]
        },
        {
          "output_type": "stream",
          "name": "stderr",
          "text": [
            "\r 94%|█████████▍| 16/17 [08:42<00:19, 19.79s/it]"
          ]
        },
        {
          "output_type": "stream",
          "name": "stdout",
          "text": [
            "[2500.]\n",
            "[2500.]\n"
          ]
        },
        {
          "output_type": "stream",
          "name": "stderr",
          "text": [
            "100%|██████████| 17/17 [09:01<00:00, 31.87s/it]\n"
          ]
        }
      ]
    },
    {
      "cell_type": "code",
      "source": [
        "display(rip_df_79.head(5))"
      ],
      "metadata": {
        "colab": {
          "base_uri": "https://localhost:8080/",
          "height": 490
        },
        "id": "GRSXpDuHPPlY",
        "outputId": "2a7cec4e-5345-4f1a-c64c-cf8ee029c884"
      },
      "execution_count": 41,
      "outputs": [
        {
          "output_type": "display_data",
          "data": {
            "text/plain": [
              "                                                        ch_0      ch_1  \\\n",
              "/content/rip_data/2023x07x27/2023x07x27_E4KI_F_...  0.456482  0.517142   \n",
              "/content/rip_data/2023x07x27/2023x07x27_E4KI_F_...  0.456482  0.517142   \n",
              "/content/rip_data/2023x07x21/2023x07x21_E4KI_F_...  0.456482  0.517142   \n",
              "/content/rip_data/2023x07x21/2023x07x21_E4KI_F_...  0.456482  0.517142   \n",
              "/content/rip_data/2023_07_17/2023x07x17_E4KI_F_...  0.456482  0.517142   \n",
              "\n",
              "                                                   (ch_0, ripple_band_trigs)  \\\n",
              "/content/rip_data/2023x07x27/2023x07x27_E4KI_F_...                       NaN   \n",
              "/content/rip_data/2023x07x27/2023x07x27_E4KI_F_...                       NaN   \n",
              "/content/rip_data/2023x07x21/2023x07x21_E4KI_F_...                       NaN   \n",
              "/content/rip_data/2023x07x21/2023x07x21_E4KI_F_...                       NaN   \n",
              "/content/rip_data/2023_07_17/2023x07x17_E4KI_F_...                       NaN   \n",
              "\n",
              "                                                   (ch_0, sharp_wave_band_trigs)  \\\n",
              "/content/rip_data/2023x07x27/2023x07x27_E4KI_F_...                           NaN   \n",
              "/content/rip_data/2023x07x27/2023x07x27_E4KI_F_...                           NaN   \n",
              "/content/rip_data/2023x07x21/2023x07x21_E4KI_F_...                           NaN   \n",
              "/content/rip_data/2023x07x21/2023x07x21_E4KI_F_...                           NaN   \n",
              "/content/rip_data/2023_07_17/2023x07x17_E4KI_F_...                           NaN   \n",
              "\n",
              "                                                                        (ch_0, slow_gamma_band_trigs)  \\\n",
              "/content/rip_data/2023x07x27/2023x07x27_E4KI_F_...  [25967, 28129, 31757, 35818, 37864, 43216, 538...   \n",
              "/content/rip_data/2023x07x27/2023x07x27_E4KI_F_...  [25967, 28129, 31757, 35818, 37864, 43216, 538...   \n",
              "/content/rip_data/2023x07x21/2023x07x21_E4KI_F_...  [25967, 28129, 31757, 35818, 37864, 43216, 538...   \n",
              "/content/rip_data/2023x07x21/2023x07x21_E4KI_F_...  [25967, 28129, 31757, 35818, 37864, 43216, 538...   \n",
              "/content/rip_data/2023_07_17/2023x07x17_E4KI_F_...  [25967, 28129, 31757, 35818, 37864, 43216, 538...   \n",
              "\n",
              "                                                   (ch_1, ripple_band_trigs)  \\\n",
              "/content/rip_data/2023x07x27/2023x07x27_E4KI_F_...                       NaN   \n",
              "/content/rip_data/2023x07x27/2023x07x27_E4KI_F_...                       NaN   \n",
              "/content/rip_data/2023x07x21/2023x07x21_E4KI_F_...                       NaN   \n",
              "/content/rip_data/2023x07x21/2023x07x21_E4KI_F_...                       NaN   \n",
              "/content/rip_data/2023_07_17/2023x07x17_E4KI_F_...                       NaN   \n",
              "\n",
              "                                                   (ch_1, sharp_wave_band_trigs)  \\\n",
              "/content/rip_data/2023x07x27/2023x07x27_E4KI_F_...                           NaN   \n",
              "/content/rip_data/2023x07x27/2023x07x27_E4KI_F_...                           NaN   \n",
              "/content/rip_data/2023x07x21/2023x07x21_E4KI_F_...                           NaN   \n",
              "/content/rip_data/2023x07x21/2023x07x21_E4KI_F_...                           NaN   \n",
              "/content/rip_data/2023_07_17/2023x07x17_E4KI_F_...                           NaN   \n",
              "\n",
              "                                                                        (ch_1, slow_gamma_band_trigs)  \\\n",
              "/content/rip_data/2023x07x27/2023x07x27_E4KI_F_...  [12, 29593, 33867, 37164, 45614, 51321, 54566,...   \n",
              "/content/rip_data/2023x07x27/2023x07x27_E4KI_F_...  [12, 29593, 33867, 37164, 45614, 51321, 54566,...   \n",
              "/content/rip_data/2023x07x21/2023x07x21_E4KI_F_...  [12, 29593, 33867, 37164, 45614, 51321, 54566,...   \n",
              "/content/rip_data/2023x07x21/2023x07x21_E4KI_F_...  [12, 29593, 33867, 37164, 45614, 51321, 54566,...   \n",
              "/content/rip_data/2023_07_17/2023x07x17_E4KI_F_...  [12, 29593, 33867, 37164, 45614, 51321, 54566,...   \n",
              "\n",
              "                                                    (/content/rip_data/2023_07_14/2023x07x14_E3KI_F_P279_s6x7_0003.abf, (ch_0, ripple_band_trig_rate))  \\\n",
              "/content/rip_data/2023x07x27/2023x07x27_E4KI_F_...                                                NaN                                                    \n",
              "/content/rip_data/2023x07x27/2023x07x27_E4KI_F_...                                                NaN                                                    \n",
              "/content/rip_data/2023x07x21/2023x07x21_E4KI_F_...                                                NaN                                                    \n",
              "/content/rip_data/2023x07x21/2023x07x21_E4KI_F_...                                                NaN                                                    \n",
              "/content/rip_data/2023_07_17/2023x07x17_E4KI_F_...                                                NaN                                                    \n",
              "\n",
              "                                                    (/content/rip_data/2023_07_14/2023x07x14_E3KI_F_P279_s6x7_0003.abf, (ch_0, sharp_wave_band_trig_rate))  \\\n",
              "/content/rip_data/2023x07x27/2023x07x27_E4KI_F_...                                                NaN                                                        \n",
              "/content/rip_data/2023x07x27/2023x07x27_E4KI_F_...                                                NaN                                                        \n",
              "/content/rip_data/2023x07x21/2023x07x21_E4KI_F_...                                                NaN                                                        \n",
              "/content/rip_data/2023x07x21/2023x07x21_E4KI_F_...                                                NaN                                                        \n",
              "/content/rip_data/2023_07_17/2023x07x17_E4KI_F_...                                                NaN                                                        \n",
              "\n",
              "                                                    ...  \\\n",
              "/content/rip_data/2023x07x27/2023x07x27_E4KI_F_...  ...   \n",
              "/content/rip_data/2023x07x27/2023x07x27_E4KI_F_...  ...   \n",
              "/content/rip_data/2023x07x21/2023x07x21_E4KI_F_...  ...   \n",
              "/content/rip_data/2023x07x21/2023x07x21_E4KI_F_...  ...   \n",
              "/content/rip_data/2023_07_17/2023x07x17_E4KI_F_...  ...   \n",
              "\n",
              "                                                    (/content/rip_data/2023_07_14/2023x07x14_E3KI_F_P279_s6x7_0003.abf, (ch_1, sharp_wave_band_trig_rate))  \\\n",
              "/content/rip_data/2023x07x27/2023x07x27_E4KI_F_...                                                NaN                                                        \n",
              "/content/rip_data/2023x07x27/2023x07x27_E4KI_F_...                                                NaN                                                        \n",
              "/content/rip_data/2023x07x21/2023x07x21_E4KI_F_...                                                NaN                                                        \n",
              "/content/rip_data/2023x07x21/2023x07x21_E4KI_F_...                                                NaN                                                        \n",
              "/content/rip_data/2023_07_17/2023x07x17_E4KI_F_...                                                NaN                                                        \n",
              "\n",
              "                                                    (/content/rip_data/2023_07_14/2023x07x14_E3KI_F_P279_s6x7_0003.abf, (ch_1, slow_gamma_band_trig_rate))  \\\n",
              "/content/rip_data/2023x07x27/2023x07x27_E4KI_F_...                                                NaN                                                        \n",
              "/content/rip_data/2023x07x27/2023x07x27_E4KI_F_...                                                NaN                                                        \n",
              "/content/rip_data/2023x07x21/2023x07x21_E4KI_F_...                                                NaN                                                        \n",
              "/content/rip_data/2023x07x21/2023x07x21_E4KI_F_...                                                NaN                                                        \n",
              "/content/rip_data/2023_07_17/2023x07x17_E4KI_F_...                                                NaN                                                        \n",
              "\n",
              "                                                    (/content/rip_data/2023x07x27/2023x07x27_E4KI_F_P296_s1x2_0000.abf, (ch_0, ripple_band_trig_rate))  \\\n",
              "/content/rip_data/2023x07x27/2023x07x27_E4KI_F_...                                                NaN                                                    \n",
              "/content/rip_data/2023x07x27/2023x07x27_E4KI_F_...                                                NaN                                                    \n",
              "/content/rip_data/2023x07x21/2023x07x21_E4KI_F_...                                                NaN                                                    \n",
              "/content/rip_data/2023x07x21/2023x07x21_E4KI_F_...                                                NaN                                                    \n",
              "/content/rip_data/2023_07_17/2023x07x17_E4KI_F_...                                                NaN                                                    \n",
              "\n",
              "                                                    (/content/rip_data/2023x07x27/2023x07x27_E4KI_F_P296_s1x2_0000.abf, (ch_0, sharp_wave_band_trig_rate))  \\\n",
              "/content/rip_data/2023x07x27/2023x07x27_E4KI_F_...                                                NaN                                                        \n",
              "/content/rip_data/2023x07x27/2023x07x27_E4KI_F_...                                                NaN                                                        \n",
              "/content/rip_data/2023x07x21/2023x07x21_E4KI_F_...                                                NaN                                                        \n",
              "/content/rip_data/2023x07x21/2023x07x21_E4KI_F_...                                                NaN                                                        \n",
              "/content/rip_data/2023_07_17/2023x07x17_E4KI_F_...                                                NaN                                                        \n",
              "\n",
              "                                                    (/content/rip_data/2023x07x27/2023x07x27_E4KI_F_P296_s1x2_0000.abf, (ch_0, slow_gamma_band_trig_rate))  \\\n",
              "/content/rip_data/2023x07x27/2023x07x27_E4KI_F_...                                                NaN                                                        \n",
              "/content/rip_data/2023x07x27/2023x07x27_E4KI_F_...                                                NaN                                                        \n",
              "/content/rip_data/2023x07x21/2023x07x21_E4KI_F_...                                                NaN                                                        \n",
              "/content/rip_data/2023x07x21/2023x07x21_E4KI_F_...                                                NaN                                                        \n",
              "/content/rip_data/2023_07_17/2023x07x17_E4KI_F_...                                                NaN                                                        \n",
              "\n",
              "                                                    (/content/rip_data/2023x07x27/2023x07x27_E4KI_F_P296_s1x2_0000.abf, (ch_1, ripple_band_trig_rate))  \\\n",
              "/content/rip_data/2023x07x27/2023x07x27_E4KI_F_...                                                NaN                                                    \n",
              "/content/rip_data/2023x07x27/2023x07x27_E4KI_F_...                                                NaN                                                    \n",
              "/content/rip_data/2023x07x21/2023x07x21_E4KI_F_...                                                NaN                                                    \n",
              "/content/rip_data/2023x07x21/2023x07x21_E4KI_F_...                                                NaN                                                    \n",
              "/content/rip_data/2023_07_17/2023x07x17_E4KI_F_...                                                NaN                                                    \n",
              "\n",
              "                                                    (/content/rip_data/2023x07x27/2023x07x27_E4KI_F_P296_s1x2_0000.abf, (ch_1, sharp_wave_band_trig_rate))  \\\n",
              "/content/rip_data/2023x07x27/2023x07x27_E4KI_F_...                                                NaN                                                        \n",
              "/content/rip_data/2023x07x27/2023x07x27_E4KI_F_...                                                NaN                                                        \n",
              "/content/rip_data/2023x07x21/2023x07x21_E4KI_F_...                                                NaN                                                        \n",
              "/content/rip_data/2023x07x21/2023x07x21_E4KI_F_...                                                NaN                                                        \n",
              "/content/rip_data/2023_07_17/2023x07x17_E4KI_F_...                                                NaN                                                        \n",
              "\n",
              "                                                    (/content/rip_data/2023x07x27/2023x07x27_E4KI_F_P296_s1x2_0000.abf, (ch_1, slow_gamma_band_trig_rate))  \\\n",
              "/content/rip_data/2023x07x27/2023x07x27_E4KI_F_...                                                NaN                                                        \n",
              "/content/rip_data/2023x07x27/2023x07x27_E4KI_F_...                                                NaN                                                        \n",
              "/content/rip_data/2023x07x21/2023x07x21_E4KI_F_...                                                NaN                                                        \n",
              "/content/rip_data/2023x07x21/2023x07x21_E4KI_F_...                                                NaN                                                        \n",
              "/content/rip_data/2023_07_17/2023x07x17_E4KI_F_...                                                NaN                                                        \n",
              "\n",
              "                                                    slow_gamma_band_trigs  \\\n",
              "/content/rip_data/2023x07x27/2023x07x27_E4KI_F_...                    NaN   \n",
              "/content/rip_data/2023x07x27/2023x07x27_E4KI_F_...                    NaN   \n",
              "/content/rip_data/2023x07x21/2023x07x21_E4KI_F_...                    NaN   \n",
              "/content/rip_data/2023x07x21/2023x07x21_E4KI_F_...                    NaN   \n",
              "/content/rip_data/2023_07_17/2023x07x17_E4KI_F_...                    NaN   \n",
              "\n",
              "                                                    slow_gamma_band_trig_rate  \n",
              "/content/rip_data/2023x07x27/2023x07x27_E4KI_F_...                   0.517142  \n",
              "/content/rip_data/2023x07x27/2023x07x27_E4KI_F_...                   0.517142  \n",
              "/content/rip_data/2023x07x21/2023x07x21_E4KI_F_...                   0.517142  \n",
              "/content/rip_data/2023x07x21/2023x07x21_E4KI_F_...                   0.517142  \n",
              "/content/rip_data/2023_07_17/2023x07x17_E4KI_F_...                   0.517142  \n",
              "\n",
              "[5 rows x 22 columns]"
            ],
            "text/html": [
              "\n",
              "\n",
              "  <div id=\"df-0b2abe3e-1f11-45dc-9aa3-fe768d68ec33\">\n",
              "    <div class=\"colab-df-container\">\n",
              "      <div>\n",
              "<style scoped>\n",
              "    .dataframe tbody tr th:only-of-type {\n",
              "        vertical-align: middle;\n",
              "    }\n",
              "\n",
              "    .dataframe tbody tr th {\n",
              "        vertical-align: top;\n",
              "    }\n",
              "\n",
              "    .dataframe thead th {\n",
              "        text-align: right;\n",
              "    }\n",
              "</style>\n",
              "<table border=\"1\" class=\"dataframe\">\n",
              "  <thead>\n",
              "    <tr style=\"text-align: right;\">\n",
              "      <th></th>\n",
              "      <th>ch_0</th>\n",
              "      <th>ch_1</th>\n",
              "      <th>(ch_0, ripple_band_trigs)</th>\n",
              "      <th>(ch_0, sharp_wave_band_trigs)</th>\n",
              "      <th>(ch_0, slow_gamma_band_trigs)</th>\n",
              "      <th>(ch_1, ripple_band_trigs)</th>\n",
              "      <th>(ch_1, sharp_wave_band_trigs)</th>\n",
              "      <th>(ch_1, slow_gamma_band_trigs)</th>\n",
              "      <th>(/content/rip_data/2023_07_14/2023x07x14_E3KI_F_P279_s6x7_0003.abf, (ch_0, ripple_band_trig_rate))</th>\n",
              "      <th>(/content/rip_data/2023_07_14/2023x07x14_E3KI_F_P279_s6x7_0003.abf, (ch_0, sharp_wave_band_trig_rate))</th>\n",
              "      <th>...</th>\n",
              "      <th>(/content/rip_data/2023_07_14/2023x07x14_E3KI_F_P279_s6x7_0003.abf, (ch_1, sharp_wave_band_trig_rate))</th>\n",
              "      <th>(/content/rip_data/2023_07_14/2023x07x14_E3KI_F_P279_s6x7_0003.abf, (ch_1, slow_gamma_band_trig_rate))</th>\n",
              "      <th>(/content/rip_data/2023x07x27/2023x07x27_E4KI_F_P296_s1x2_0000.abf, (ch_0, ripple_band_trig_rate))</th>\n",
              "      <th>(/content/rip_data/2023x07x27/2023x07x27_E4KI_F_P296_s1x2_0000.abf, (ch_0, sharp_wave_band_trig_rate))</th>\n",
              "      <th>(/content/rip_data/2023x07x27/2023x07x27_E4KI_F_P296_s1x2_0000.abf, (ch_0, slow_gamma_band_trig_rate))</th>\n",
              "      <th>(/content/rip_data/2023x07x27/2023x07x27_E4KI_F_P296_s1x2_0000.abf, (ch_1, ripple_band_trig_rate))</th>\n",
              "      <th>(/content/rip_data/2023x07x27/2023x07x27_E4KI_F_P296_s1x2_0000.abf, (ch_1, sharp_wave_band_trig_rate))</th>\n",
              "      <th>(/content/rip_data/2023x07x27/2023x07x27_E4KI_F_P296_s1x2_0000.abf, (ch_1, slow_gamma_band_trig_rate))</th>\n",
              "      <th>slow_gamma_band_trigs</th>\n",
              "      <th>slow_gamma_band_trig_rate</th>\n",
              "    </tr>\n",
              "  </thead>\n",
              "  <tbody>\n",
              "    <tr>\n",
              "      <th>/content/rip_data/2023x07x27/2023x07x27_E4KI_F_P296_s1x2_0000.abf</th>\n",
              "      <td>0.456482</td>\n",
              "      <td>0.517142</td>\n",
              "      <td>NaN</td>\n",
              "      <td>NaN</td>\n",
              "      <td>[25967, 28129, 31757, 35818, 37864, 43216, 538...</td>\n",
              "      <td>NaN</td>\n",
              "      <td>NaN</td>\n",
              "      <td>[12, 29593, 33867, 37164, 45614, 51321, 54566,...</td>\n",
              "      <td>NaN</td>\n",
              "      <td>NaN</td>\n",
              "      <td>...</td>\n",
              "      <td>NaN</td>\n",
              "      <td>NaN</td>\n",
              "      <td>NaN</td>\n",
              "      <td>NaN</td>\n",
              "      <td>NaN</td>\n",
              "      <td>NaN</td>\n",
              "      <td>NaN</td>\n",
              "      <td>NaN</td>\n",
              "      <td>NaN</td>\n",
              "      <td>0.517142</td>\n",
              "    </tr>\n",
              "    <tr>\n",
              "      <th>/content/rip_data/2023x07x27/2023x07x27_E4KI_F_P296_s3x4_0000.abf</th>\n",
              "      <td>0.456482</td>\n",
              "      <td>0.517142</td>\n",
              "      <td>NaN</td>\n",
              "      <td>NaN</td>\n",
              "      <td>[25967, 28129, 31757, 35818, 37864, 43216, 538...</td>\n",
              "      <td>NaN</td>\n",
              "      <td>NaN</td>\n",
              "      <td>[12, 29593, 33867, 37164, 45614, 51321, 54566,...</td>\n",
              "      <td>NaN</td>\n",
              "      <td>NaN</td>\n",
              "      <td>...</td>\n",
              "      <td>NaN</td>\n",
              "      <td>NaN</td>\n",
              "      <td>NaN</td>\n",
              "      <td>NaN</td>\n",
              "      <td>NaN</td>\n",
              "      <td>NaN</td>\n",
              "      <td>NaN</td>\n",
              "      <td>NaN</td>\n",
              "      <td>NaN</td>\n",
              "      <td>0.517142</td>\n",
              "    </tr>\n",
              "    <tr>\n",
              "      <th>/content/rip_data/2023x07x21/2023x07x21_E4KI_F_P290_s1x2_0001.abf</th>\n",
              "      <td>0.456482</td>\n",
              "      <td>0.517142</td>\n",
              "      <td>NaN</td>\n",
              "      <td>NaN</td>\n",
              "      <td>[25967, 28129, 31757, 35818, 37864, 43216, 538...</td>\n",
              "      <td>NaN</td>\n",
              "      <td>NaN</td>\n",
              "      <td>[12, 29593, 33867, 37164, 45614, 51321, 54566,...</td>\n",
              "      <td>NaN</td>\n",
              "      <td>NaN</td>\n",
              "      <td>...</td>\n",
              "      <td>NaN</td>\n",
              "      <td>NaN</td>\n",
              "      <td>NaN</td>\n",
              "      <td>NaN</td>\n",
              "      <td>NaN</td>\n",
              "      <td>NaN</td>\n",
              "      <td>NaN</td>\n",
              "      <td>NaN</td>\n",
              "      <td>NaN</td>\n",
              "      <td>0.517142</td>\n",
              "    </tr>\n",
              "    <tr>\n",
              "      <th>/content/rip_data/2023x07x21/2023x07x21_E4KI_F_P290_s7x8_0002.abf</th>\n",
              "      <td>0.456482</td>\n",
              "      <td>0.517142</td>\n",
              "      <td>NaN</td>\n",
              "      <td>NaN</td>\n",
              "      <td>[25967, 28129, 31757, 35818, 37864, 43216, 538...</td>\n",
              "      <td>NaN</td>\n",
              "      <td>NaN</td>\n",
              "      <td>[12, 29593, 33867, 37164, 45614, 51321, 54566,...</td>\n",
              "      <td>NaN</td>\n",
              "      <td>NaN</td>\n",
              "      <td>...</td>\n",
              "      <td>NaN</td>\n",
              "      <td>NaN</td>\n",
              "      <td>NaN</td>\n",
              "      <td>NaN</td>\n",
              "      <td>NaN</td>\n",
              "      <td>NaN</td>\n",
              "      <td>NaN</td>\n",
              "      <td>NaN</td>\n",
              "      <td>NaN</td>\n",
              "      <td>0.517142</td>\n",
              "    </tr>\n",
              "    <tr>\n",
              "      <th>/content/rip_data/2023_07_17/2023x07x17_E4KI_F_P286_s2x3_0001.abf</th>\n",
              "      <td>0.456482</td>\n",
              "      <td>0.517142</td>\n",
              "      <td>NaN</td>\n",
              "      <td>NaN</td>\n",
              "      <td>[25967, 28129, 31757, 35818, 37864, 43216, 538...</td>\n",
              "      <td>NaN</td>\n",
              "      <td>NaN</td>\n",
              "      <td>[12, 29593, 33867, 37164, 45614, 51321, 54566,...</td>\n",
              "      <td>NaN</td>\n",
              "      <td>NaN</td>\n",
              "      <td>...</td>\n",
              "      <td>NaN</td>\n",
              "      <td>NaN</td>\n",
              "      <td>NaN</td>\n",
              "      <td>NaN</td>\n",
              "      <td>NaN</td>\n",
              "      <td>NaN</td>\n",
              "      <td>NaN</td>\n",
              "      <td>NaN</td>\n",
              "      <td>NaN</td>\n",
              "      <td>0.517142</td>\n",
              "    </tr>\n",
              "  </tbody>\n",
              "</table>\n",
              "<p>5 rows × 22 columns</p>\n",
              "</div>\n",
              "      <button class=\"colab-df-convert\" onclick=\"convertToInteractive('df-0b2abe3e-1f11-45dc-9aa3-fe768d68ec33')\"\n",
              "              title=\"Convert this dataframe to an interactive table.\"\n",
              "              style=\"display:none;\">\n",
              "\n",
              "  <svg xmlns=\"http://www.w3.org/2000/svg\" height=\"24px\"viewBox=\"0 0 24 24\"\n",
              "       width=\"24px\">\n",
              "    <path d=\"M0 0h24v24H0V0z\" fill=\"none\"/>\n",
              "    <path d=\"M18.56 5.44l.94 2.06.94-2.06 2.06-.94-2.06-.94-.94-2.06-.94 2.06-2.06.94zm-11 1L8.5 8.5l.94-2.06 2.06-.94-2.06-.94L8.5 2.5l-.94 2.06-2.06.94zm10 10l.94 2.06.94-2.06 2.06-.94-2.06-.94-.94-2.06-.94 2.06-2.06.94z\"/><path d=\"M17.41 7.96l-1.37-1.37c-.4-.4-.92-.59-1.43-.59-.52 0-1.04.2-1.43.59L10.3 9.45l-7.72 7.72c-.78.78-.78 2.05 0 2.83L4 21.41c.39.39.9.59 1.41.59.51 0 1.02-.2 1.41-.59l7.78-7.78 2.81-2.81c.8-.78.8-2.07 0-2.86zM5.41 20L4 18.59l7.72-7.72 1.47 1.35L5.41 20z\"/>\n",
              "  </svg>\n",
              "      </button>\n",
              "\n",
              "\n",
              "\n",
              "    <div id=\"df-945a51ac-e9d5-42cb-abc9-00ff1e965941\">\n",
              "      <button class=\"colab-df-quickchart\" onclick=\"quickchart('df-945a51ac-e9d5-42cb-abc9-00ff1e965941')\"\n",
              "              title=\"Suggest charts.\"\n",
              "              style=\"display:none;\">\n",
              "\n",
              "<svg xmlns=\"http://www.w3.org/2000/svg\" height=\"24px\"viewBox=\"0 0 24 24\"\n",
              "     width=\"24px\">\n",
              "    <g>\n",
              "        <path d=\"M19 3H5c-1.1 0-2 .9-2 2v14c0 1.1.9 2 2 2h14c1.1 0 2-.9 2-2V5c0-1.1-.9-2-2-2zM9 17H7v-7h2v7zm4 0h-2V7h2v10zm4 0h-2v-4h2v4z\"/>\n",
              "    </g>\n",
              "</svg>\n",
              "      </button>\n",
              "    </div>\n",
              "\n",
              "<style>\n",
              "  .colab-df-quickchart {\n",
              "    background-color: #E8F0FE;\n",
              "    border: none;\n",
              "    border-radius: 50%;\n",
              "    cursor: pointer;\n",
              "    display: none;\n",
              "    fill: #1967D2;\n",
              "    height: 32px;\n",
              "    padding: 0 0 0 0;\n",
              "    width: 32px;\n",
              "  }\n",
              "\n",
              "  .colab-df-quickchart:hover {\n",
              "    background-color: #E2EBFA;\n",
              "    box-shadow: 0px 1px 2px rgba(60, 64, 67, 0.3), 0px 1px 3px 1px rgba(60, 64, 67, 0.15);\n",
              "    fill: #174EA6;\n",
              "  }\n",
              "\n",
              "  [theme=dark] .colab-df-quickchart {\n",
              "    background-color: #3B4455;\n",
              "    fill: #D2E3FC;\n",
              "  }\n",
              "\n",
              "  [theme=dark] .colab-df-quickchart:hover {\n",
              "    background-color: #434B5C;\n",
              "    box-shadow: 0px 1px 3px 1px rgba(0, 0, 0, 0.15);\n",
              "    filter: drop-shadow(0px 1px 2px rgba(0, 0, 0, 0.3));\n",
              "    fill: #FFFFFF;\n",
              "  }\n",
              "</style>\n",
              "\n",
              "    <script>\n",
              "      async function quickchart(key) {\n",
              "        const containerElement = document.querySelector('#' + key);\n",
              "        const charts = await google.colab.kernel.invokeFunction(\n",
              "            'suggestCharts', [key], {});\n",
              "      }\n",
              "    </script>\n",
              "\n",
              "      <script>\n",
              "\n",
              "function displayQuickchartButton(domScope) {\n",
              "  let quickchartButtonEl =\n",
              "    domScope.querySelector('#df-945a51ac-e9d5-42cb-abc9-00ff1e965941 button.colab-df-quickchart');\n",
              "  quickchartButtonEl.style.display =\n",
              "    google.colab.kernel.accessAllowed ? 'block' : 'none';\n",
              "}\n",
              "\n",
              "        displayQuickchartButton(document);\n",
              "      </script>\n",
              "      <style>\n",
              "    .colab-df-container {\n",
              "      display:flex;\n",
              "      flex-wrap:wrap;\n",
              "      gap: 12px;\n",
              "    }\n",
              "\n",
              "    .colab-df-convert {\n",
              "      background-color: #E8F0FE;\n",
              "      border: none;\n",
              "      border-radius: 50%;\n",
              "      cursor: pointer;\n",
              "      display: none;\n",
              "      fill: #1967D2;\n",
              "      height: 32px;\n",
              "      padding: 0 0 0 0;\n",
              "      width: 32px;\n",
              "    }\n",
              "\n",
              "    .colab-df-convert:hover {\n",
              "      background-color: #E2EBFA;\n",
              "      box-shadow: 0px 1px 2px rgba(60, 64, 67, 0.3), 0px 1px 3px 1px rgba(60, 64, 67, 0.15);\n",
              "      fill: #174EA6;\n",
              "    }\n",
              "\n",
              "    [theme=dark] .colab-df-convert {\n",
              "      background-color: #3B4455;\n",
              "      fill: #D2E3FC;\n",
              "    }\n",
              "\n",
              "    [theme=dark] .colab-df-convert:hover {\n",
              "      background-color: #434B5C;\n",
              "      box-shadow: 0px 1px 3px 1px rgba(0, 0, 0, 0.15);\n",
              "      filter: drop-shadow(0px 1px 2px rgba(0, 0, 0, 0.3));\n",
              "      fill: #FFFFFF;\n",
              "    }\n",
              "  </style>\n",
              "\n",
              "      <script>\n",
              "        const buttonEl =\n",
              "          document.querySelector('#df-0b2abe3e-1f11-45dc-9aa3-fe768d68ec33 button.colab-df-convert');\n",
              "        buttonEl.style.display =\n",
              "          google.colab.kernel.accessAllowed ? 'block' : 'none';\n",
              "\n",
              "        async function convertToInteractive(key) {\n",
              "          const element = document.querySelector('#df-0b2abe3e-1f11-45dc-9aa3-fe768d68ec33');\n",
              "          const dataTable =\n",
              "            await google.colab.kernel.invokeFunction('convertToInteractive',\n",
              "                                                     [key], {});\n",
              "          if (!dataTable) return;\n",
              "\n",
              "          const docLinkHtml = 'Like what you see? Visit the ' +\n",
              "            '<a target=\"_blank\" href=https://colab.research.google.com/notebooks/data_table.ipynb>data table notebook</a>'\n",
              "            + ' to learn more about interactive tables.';\n",
              "          element.innerHTML = '';\n",
              "          dataTable['output_type'] = 'display_data';\n",
              "          await google.colab.output.renderOutput(dataTable, element);\n",
              "          const docLink = document.createElement('div');\n",
              "          docLink.innerHTML = docLinkHtml;\n",
              "          element.appendChild(docLink);\n",
              "        }\n",
              "      </script>\n",
              "    </div>\n",
              "  </div>\n"
            ]
          },
          "metadata": {}
        }
      ]
    },
    {
      "cell_type": "code",
      "source": [
        "#### Zip and DL ###\n",
        "def zip_and_dl(folder):\n",
        "    zip_name = folder+'.zip'\n",
        "    !zip -r $zip_name $folder\n",
        "    colab.files.download(zip_name)\n",
        "zip_and_dl('/content/hdf_files')"
      ],
      "metadata": {
        "colab": {
          "base_uri": "https://localhost:8080/",
          "height": 347
        },
        "id": "ONQHhpFlCBA8",
        "outputId": "34294ab3-5357-4a1d-93a0-ef43b5c0a852"
      },
      "execution_count": 19,
      "outputs": [
        {
          "output_type": "stream",
          "name": "stdout",
          "text": [
            "  adding: content/hdf_files/ (stored 0%)\n",
            "  adding: content/hdf_files/2023x07x21_E4KI_F_P290_s1x2_0001.h5 (deflated 29%)\n",
            "  adding: content/hdf_files/2023x07x17_E4KI_F_P286_s4x5_0001.h5 (deflated 30%)\n",
            "  adding: content/hdf_files/2023x07x27_E4KI_F_P296_s3x4_0000.h5 (deflated 30%)\n",
            "  adding: content/hdf_files/2023x07x14_E3KI_F_P279_s001_0001.h5 (deflated 30%)\n",
            "  adding: content/hdf_files/2023x07x27_E4KI_F_P296_s1x2_0000.h5 (deflated 29%)\n",
            "  adding: content/hdf_files/2023x07x21_E4KI_F_P290_s7x8_0002.h5 (deflated 29%)\n",
            "  adding: content/hdf_files/2023x07x21_E4KI_F_P290_s5x6_0000.h5 (deflated 30%)\n",
            "  adding: content/hdf_files/2023x07x14_E3KI_F_P279_s2x3_0001.h5 (deflated 30%)\n",
            "  adding: content/hdf_files/2023x07x14_E3KI_F_P279_s4x5_0000.h5 (deflated 29%)\n",
            "  adding: content/hdf_files/2023x07x14_E3KI_F_P279_s6x7_0003.h5 (deflated 29%)\n",
            "  adding: content/hdf_files/2023x07x14_E3KI_F_P279_s6x7_0002.h5 (deflated 30%)\n",
            "  adding: content/hdf_files/2023x07x14_E3KI_F_P279_s2x3_0003.h5 (deflated 29%)\n",
            "  adding: content/hdf_files/2023x07x17_E4KI_F_P286_s2x3_0001.h5 (deflated 30%)\n",
            "  adding: content/hdf_files/2023x07x14_E3KI_F_P279_s4x5_0001.h5 (deflated 29%)\n",
            "  adding: content/hdf_files/2023x07x17_E4KI_F_P286_s001_0001.h5 (deflated 29%)\n",
            "  adding: content/hdf_files/2023x07x21_E4KI_F_P290_s3x4_0000.h5 (deflated 29%)\n",
            "  adding: content/hdf_files/2023x07x17_E4KI_F_P286_s4x5_0000.h5 (deflated 30%)\n"
          ]
        },
        {
          "output_type": "display_data",
          "data": {
            "text/plain": [
              "<IPython.core.display.Javascript object>"
            ],
            "application/javascript": [
              "\n",
              "    async function download(id, filename, size) {\n",
              "      if (!google.colab.kernel.accessAllowed) {\n",
              "        return;\n",
              "      }\n",
              "      const div = document.createElement('div');\n",
              "      const label = document.createElement('label');\n",
              "      label.textContent = `Downloading \"${filename}\": `;\n",
              "      div.appendChild(label);\n",
              "      const progress = document.createElement('progress');\n",
              "      progress.max = size;\n",
              "      div.appendChild(progress);\n",
              "      document.body.appendChild(div);\n",
              "\n",
              "      const buffers = [];\n",
              "      let downloaded = 0;\n",
              "\n",
              "      const channel = await google.colab.kernel.comms.open(id);\n",
              "      // Send a message to notify the kernel that we're ready.\n",
              "      channel.send({})\n",
              "\n",
              "      for await (const message of channel.messages) {\n",
              "        // Send a message to notify the kernel that we're ready.\n",
              "        channel.send({})\n",
              "        if (message.buffers) {\n",
              "          for (const buffer of message.buffers) {\n",
              "            buffers.push(buffer);\n",
              "            downloaded += buffer.byteLength;\n",
              "            progress.value = downloaded;\n",
              "          }\n",
              "        }\n",
              "      }\n",
              "      const blob = new Blob(buffers, {type: 'application/binary'});\n",
              "      const a = document.createElement('a');\n",
              "      a.href = window.URL.createObjectURL(blob);\n",
              "      a.download = filename;\n",
              "      div.appendChild(a);\n",
              "      a.click();\n",
              "      div.remove();\n",
              "    }\n",
              "  "
            ]
          },
          "metadata": {}
        },
        {
          "output_type": "display_data",
          "data": {
            "text/plain": [
              "<IPython.core.display.Javascript object>"
            ],
            "application/javascript": [
              "download(\"download_c73d30dc-ed49-4ee3-bc6f-0b7895a82d5e\", \"hdf_files.zip\", 6238980323)"
            ]
          },
          "metadata": {}
        }
      ]
    },
    {
      "cell_type": "code",
      "source": [
        "#### Triggs ###\n",
        "\n",
        "def triggered_inds(trace,fs,sd_thresh= 3,min_dur_ms= 5,peak_wind_ms=20):\n",
        "    ''' trigger on crossing'''\n",
        "    trig_bool = z_trans(trace)>sd_thresh\n",
        "    min_dur_tic = int(min_dur_ms*fs/1000)\n",
        "    trig_bool = mov_mean(trig_bool,min_dur_tic)==1\n",
        "    trigs = np.arange(len(trig_bool))[np.diff(trig_bool,prepend=0)==1]\n",
        "\n",
        "    ''' allign peaks'''\n",
        "    tick_range = peak_wind_ms/1000*fs\n",
        "    peak_window_tics = np.arange(0,tick_range,dtype=int)\n",
        "    trig_alligned = []\n",
        "    max_tick = len(trace)\n",
        "    for t in trigs:\n",
        "        if (t+peak_window_tics[0])>=0 and (t+peak_window_tics[-1])<max_tick:\n",
        "            sub_trace = trace[t+peak_window_tics]\n",
        "            peak_tick = np.where(sub_trace==np.max(sub_trace))[0][0]\n",
        "            trig_alligned.append(t+peak_tick-np.min(peak_window_tics))\n",
        "    trig_alligned=np.array(trig_alligned)\n",
        "\n",
        "    return trig_alligned\n",
        "\n",
        "\n",
        "trig_bands = ['ripple_band','sharp_wave_band','slow_gamma_band']\n",
        "\n",
        "for f in tqdm( rip_df_79.index ):\n",
        "    key_f = f.replace('/',\"\")\n",
        "    hdf_path = hdf_fold+'/'+os.path.basename(f)[:-4]+'.h5'\n",
        "    rec_entry = pd.read_hdf(hdf_path,key=key_f)\n",
        "    for ch in chan_list:\n",
        "        filtered = rec_entry.loc[f,ch]\n",
        "        for b in trig_bands:\n",
        "            trace = filtered[b]['hilb_env']\n",
        "            fs = filtered['fs']\n",
        "            trigs = triggered_inds(trace,fs,min_dur_ms=10)\n",
        "            filtered[b]['trigs'] = trigs\n",
        "        rec_entry.at[f,ch] = filtered\n",
        "        rec_entry.to_hdf(hdf_path,key=key_f)\n",
        "\n",
        "\n"
      ],
      "metadata": {
        "colab": {
          "base_uri": "https://localhost:8080/"
        },
        "id": "QjQkaEODERg-",
        "outputId": "c61df181-53bf-4f06-cb87-166a7c537c6a"
      },
      "execution_count": 21,
      "outputs": [
        {
          "output_type": "stream",
          "name": "stderr",
          "text": [
            "100%|██████████| 17/17 [06:03<00:00, 21.36s/it]\n"
          ]
        }
      ]
    },
    {
      "cell_type": "code",
      "source": [
        "### Match Recs and Notes\n",
        "rip_notes = pd.read_csv('/content/rip_data/Ripples - Sheet1.csv') # .set_index('Slice_Code')\n",
        "keep_rows = []\n",
        "for r in rip_notes.index:\n",
        "    sl = str(rip_notes.loc[r,'Slice_Code'])\n",
        "    check_slice = any([sl in f for f in file_list])\n",
        "    if check_slice: keep_rows.append(True)\n",
        "    else: keep_rows.append(False)\n",
        "rip_notes = rip_notes[keep_rows]\n",
        "\n",
        "\n",
        "for r in rip_notes.index:\n",
        "    sl = rip_notes.loc[r,'Slice_Code']\n",
        "    number =rip_notes.loc[r,'rec']\n",
        "    if not np.isnan(number):    rec_str = f\"{int(number):04d}\"\n",
        "    else:    rec_str = 'nan'\n",
        "    slice_code_plus = sl+ '_' + rec_str\n",
        "    rip_notes.at[r,'slice_code_plus']=slice_code_plus\n",
        "rip_notes = rip_notes.set_index('slice_code_plus')\n",
        "\n",
        "\n",
        "\n",
        "rip_df = pd.DataFrame(index=file_list)\n",
        "\n",
        "chan_list = ['ch_0','ch_1']\n",
        "for c in chan_list:\n",
        "    rip_df[c]=np.nan\n",
        "    rip_df[c] = rip_df[c].astype('object')\n",
        "\n",
        "\n",
        "\n",
        "for f in rip_df.index:\n",
        "    f_slice = os.path.basename(f)[:-4]\n",
        "    if f_slice in rip_notes.index:\n",
        "        # print(f_slice)\n",
        "        # print(rip_notes.loc[f_slice,'epoch_0'])\n",
        "        rip_df.at[f,'epoch_0'] = rip_notes.loc[f_slice,'epoch_0']\n",
        "        rip_df.at[f,'epoch_1'] = rip_notes.loc[f_slice,'epoch_1']\n",
        "\n",
        "\n",
        "rip_df_keep = []\n",
        "for f in rip_df.index:\n",
        "    f_slice = os.path.basename(f)[:-4]\n",
        "    rip_df_keep.append(f_slice in rip_notes.index)\n",
        "rip_df=rip_df[rip_df_keep]\n",
        "\n",
        "\n",
        "### convert to HDF\n",
        "for f in rip_df.index:\n",
        "    row_series = (rip_df.loc[f]).to_frame().transpose()\n",
        "    hdf_fold = '/content/hdf_files'\n",
        "    try: os.makedirs(hdf_fold)\n",
        "    except: None\n",
        "    key_f = f.replace('/',\"\")\n",
        "    hdf_path = hdf_fold+'/'+os.path.basename(f)[:-4] +'.h5'\n",
        "    row_series.to_hdf(hdf_path,key=key_f)\n",
        "\n"
      ],
      "metadata": {
        "id": "06jb7PShixkk"
      },
      "execution_count": null,
      "outputs": []
    },
    {
      "cell_type": "code",
      "source": [],
      "metadata": {
        "id": "VrpoNz23IUSq"
      },
      "execution_count": null,
      "outputs": []
    },
    {
      "cell_type": "code",
      "source": [
        "def zip_and_dl(folder):\n",
        "    zip_name = folder+'.zip'\n",
        "    !zip -r $zip_name $folder\n",
        "    colab.files.download(zip_name)\n",
        "# zip_and_dl('/content/hdf_files')"
      ],
      "metadata": {
        "id": "6UXAczxHZpub"
      },
      "execution_count": null,
      "outputs": []
    },
    {
      "cell_type": "code",
      "source": [
        "# zip_and_dl('/content/hdf_files')"
      ],
      "metadata": {
        "id": "1jlk2qynZzJy"
      },
      "execution_count": null,
      "outputs": []
    },
    {
      "cell_type": "code",
      "source": [
        "def triggered_inds(trace,fs,sd_thresh= 3,min_dur_ms= 5,peak_wind_ms=20):\n",
        "    ''' trigger on crossing'''\n",
        "    trig_bool = z_trans(trace)>sd_thresh\n",
        "    min_dur_tic = int(min_dur_ms*fs/1000)\n",
        "    trig_bool = mov_mean(trig_bool,min_dur_tic)==1\n",
        "    trigs = np.arange(len(trig_bool))[np.diff(trig_bool,prepend=0)==1]\n",
        "\n",
        "    ''' allign peaks'''\n",
        "    tick_range = peak_wind_ms/1000*fs\n",
        "    peak_window_tics = np.arange(0,tick_range,dtype=int)\n",
        "    trig_alligned = []\n",
        "    max_tick = len(trace)\n",
        "    for t in trigs:\n",
        "        if (t+peak_window_tics[0])>=0 and (t+peak_window_tics[-1])<max_tick:\n",
        "            sub_trace = trace[t+peak_window_tics]\n",
        "            peak_tick = np.where(sub_trace==np.max(sub_trace))[0][0]\n",
        "            trig_alligned.append(t+peak_tick-np.min(peak_window_tics))\n",
        "    trig_alligned=np.array(trig_alligned)\n",
        "\n",
        "    return trig_alligned\n",
        "\n",
        "\n",
        "\n",
        "\n",
        "\n",
        "trig_bands = ['ripple_band','sharp_wave_band','slow_gamma_band']\n",
        "\n",
        "for f in tqdm( rip_df.index ):\n",
        "    key_f = f.replace('/',\"\")\n",
        "    hdf_path = hdf_fold+'/'+os.path.basename(f)[:-4]+'.h5'\n",
        "    rec_entry = pd.read_hdf(hdf_path,key=key_f)\n",
        "    for ch in chan_list:\n",
        "        filtered = rec_entry.loc[f,ch]\n",
        "        for b in trig_bands:\n",
        "            trace = filtered[b]['hilb_env']\n",
        "            fs = filtered['fs']\n",
        "            trigs = triggered_inds(trace,fs)\n",
        "            filtered[b]['trigs'] = trigs\n",
        "            # print(len(trigs))\n",
        "        rec_entry.at[f,ch] =filtered\n",
        "        rec_entry.to_hdf(hdf_path,key=key_f)\n",
        "\n",
        "\n",
        "\n",
        "# IIS_bands = ['wide_band']\n",
        "# for f in tqdm( rip_df.index ):\n",
        "#     key_f = f.replace('/',\"\")\n",
        "#     hdf_path = hdf_fold+'/'+os.path.basename(f)[:-4]+'.h5'\n",
        "#     rec_entry = pd.read_hdf(hdf_path,key=key_f)\n",
        "#     if len(rec_entry.keys())==0:continue\n",
        "#     for ch in chan_list:\n",
        "#         filtered = rec_entry.loc[f,ch]\n",
        "#         for b in IIS_bands:\n",
        "#             amplitude_envelope = np.abs(scipy.signal.hilbert(filtered[b]['lfp']))\n",
        "#             amplitude_envelope[np.arange(0,blank_time*fs)] = amplitude_envelope[blank_time*fs]\n",
        "#             trace = amplitude_envelope\n",
        "#             fs = filtered['fs']\n",
        "#             trigs = triggered_inds(trace,fs,sd_thresh = 15)\n",
        "#             filtered[b]['trigs'] = trigs\n",
        "#             # print(len(trigs))\n",
        "#         rec_entry.at[f,ch] =filtered\n",
        "#         rec_entry.to_hdf(hdf_path,key=key_f)\n"
      ],
      "metadata": {
        "id": "wmCXzA9CxiJ3"
      },
      "execution_count": null,
      "outputs": []
    },
    {
      "cell_type": "code",
      "source": [
        "band = 'slow_gamma_band'\n",
        "\n",
        "waveform = filtered[band]['lfp']\n",
        "time = filtered['time_1khz']\n",
        "fig,ax = inspect_trace(waveform,time,z_scale=9,single_trace_plot_size=[10,2],spec_color='k')\n",
        "figax_prev= [fig,ax.twinx()]\n",
        "inspect_trace(filtered[band]['hilb_env'],time,z_scale=9,single_trace_plot_size=[10,2],figax_prev=figax_prev,spec_color='r')\n",
        "# for a in z[ax, ax2]:\n",
        "ax.set_xlim(0,3)\n",
        "ax.grid(visible=True, which='both', axis='both')\n"
      ],
      "metadata": {
        "id": "TVUU1We3OkFb"
      },
      "execution_count": null,
      "outputs": []
    },
    {
      "cell_type": "code",
      "source": [
        "\n",
        "\n",
        "def summarize_trigs(filtered,trig_bands,window_ms=[-120,120]):\n",
        "    fig,ax = plt.subplots(3,3,figsize=[10,10])\n",
        "    for b in trig_bands:\n",
        "        bi = trig_bands.index(b)\n",
        "        trigs = filtered[b]['trigs']\n",
        "        for bb in trig_bands:\n",
        "            bbi = trig_bands.index(bb)\n",
        "            waveform = filtered[bb]['lfp']\n",
        "            fs = filtered['fs']\n",
        "            wave_snip_stack,window_time = get_waveforms_stack(waveform,trigs,fs,window_ms=window_ms)\n",
        "            ax[bi,bbi].plot(window_time, wave_snip_stack,'grey')\n",
        "            ax[bi,bbi].plot(window_time, np.mean(wave_snip_stack,1),'r')\n",
        "            ax[bi,bbi].set_title(f'{bb} \\n triggered from \\n {b}')\n",
        "# summarize_trigs(filtered,trig_bands,window_ms=[-120,120])\n",
        "# plt.tight_layout()\n"
      ],
      "metadata": {
        "id": "J-4zJ-remRwK"
      },
      "execution_count": null,
      "outputs": []
    },
    {
      "cell_type": "code",
      "source": [
        "# #### Abundance over Time #######\n",
        "# bin_wid =15\n",
        "\n",
        "# for f in rip_df.index:\n",
        "#     fig,ax=plt.subplots(3,figsize=(16,6))\n",
        "#     fig.suptitle(os.path.basename(f))\n",
        "#     for ch in chan_list:\n",
        "#         filtered = rip_df.loc[f,ch]\n",
        "#         for b in trig_bands:\n",
        "#             ai = trig_bands.index(b)\n",
        "#             trigs = filtered[b]['trigs']\n",
        "#             time_1khz = filtered['time_1khz']\n",
        "#             ep_0_inds =  rip_df.loc[f,'ep_0_inds']\n",
        "#             epoch_time = time_1khz - time_1khz[ep_0_inds[-1]]\n",
        "#             bottom_epo_time = np.floor(np.min(epoch_time)/bin_wid)*bin_wid\n",
        "#             top_epo_time = np.ceil(np.max(epoch_time)/bin_wid)*bin_wid\n",
        "#             bins = np.arange(bottom_epo_time,top_epo_time ,bin_wid)\n",
        "#             t_hist,bin_edges = np.histogram(epoch_time[trigs], bins=bins)\n",
        "#             numt = len(trigs)\n",
        "#             # ax.bar(bin_edges[:-1],t_hist/bin_wid,label=f\"{b}_{ch} ({numt})\",width=8,)\n",
        "#             ax[ai].plot(bin_edges[:-1],t_hist/bin_wid,'-o',label=f\"{b}_{ch} ({numt})\",)\n",
        "#             ax[ai].legend(loc='upper left',bbox_to_anchor=(1, 1, 1, 0))\n",
        "\n"
      ],
      "metadata": {
        "id": "BpLR8PPJXJZe"
      },
      "execution_count": null,
      "outputs": []
    },
    {
      "cell_type": "code",
      "source": [
        "\n",
        "\n",
        "# abf = pyabf.ABF('/content/Bumet_ephys_data/2023x07x06_E3KI_F_P525_s3x4_0000.abf')\n",
        "# freq_bands = time_bands(abf,sweepNumber=0,channel=0)\n",
        "\n",
        "\n",
        "def plot_abund_ts(time_1khz,trigs,bin_wid=10):\n",
        "    fig,ax=plt.subplots(1,figsize=(16,4))\n",
        "    bins = np.arange(0,np.max(time_1khz)+bin_wid,bin_wid)\n",
        "    hist,edges = np.histogram(time_1khz[trigs], bins=bins)\n",
        "    ax.bar(bins[1:],hist/bin_wid,width=bin_wid)\n",
        "    ax.set_ylabel('SW abundance (Hz)')\n",
        "    plt.show()\n",
        "    return fig, ax\n",
        "\n",
        "\n",
        "# trigs_alligned, fig, ax = get_SW_trig_inds(sharp_wave_band,fs,sw_thresh=-4,to_plot=True)"
      ],
      "metadata": {
        "id": "16O8obWIcFCn"
      },
      "execution_count": null,
      "outputs": []
    },
    {
      "cell_type": "code",
      "source": [],
      "metadata": {
        "id": "pL-RXGFYJInL"
      },
      "execution_count": null,
      "outputs": []
    },
    {
      "cell_type": "code",
      "source": [
        "# # from scipy import signal\n",
        "\n",
        "\n",
        "\n",
        "\n",
        "\n",
        "# fs = 10000\n",
        "# w = 6.\n",
        "# top_freq = fs/2\n",
        "# top_freq = 600\n",
        "# freq = np.linspace(1, top_freq, 100)\n",
        "# freq = np.logspace(np.log2(10), np.log2(top_freq), num=40, endpoint=True, base=2)\n",
        "# widths = w*fs / (2*freq*np.pi)\n",
        "# cwtm = scipy.signal.cwt(in0, scipy.signal.morlet2, widths, w=w)\n",
        "\n",
        "# cw_abs = np.abs(cwtm)\n",
        "# cw_mean = np.expand_dims(np.mean(cw_abs,axis=1),-1)\n",
        "# cw_std = np.expand_dims(np.std(cw_abs,axis=1),-1)\n",
        "# cw_z = (cw_abs - cw_mean) / cw_std\n",
        "\n",
        "\n",
        "\n"
      ],
      "metadata": {
        "id": "GcBKr3jlMwh3"
      },
      "execution_count": null,
      "outputs": []
    },
    {
      "cell_type": "markdown",
      "source": [],
      "metadata": {
        "id": "dR5haUftSOwz"
      }
    },
    {
      "cell_type": "code",
      "source": [
        "\"\"\" Parse Epochs \"\"\"\n",
        "for f in tqdm( rip_df.index ):\n",
        "    key_f = f.replace('/',\"\")\n",
        "    hdf_path = hdf_fold+'/'+os.path.basename(f)[:-4]+'.h5'\n",
        "    rec_entry = pd.read_hdf(hdf_path,key=key_f)\n",
        "\n",
        "\n",
        "    epoch_list = ['ep_0_inds','ep_1_inds']\n",
        "    for e in epoch_list:\n",
        "        rec_entry[e] = np.nan\n",
        "        rec_entry[e] = rec_entry[e].astype('object')\n",
        "\n",
        "    epoch_0_tag = rec_entry.loc[f,'epoch_0']\n",
        "    epoch_0_time = epoch_0_tag.split(' ')[1]\n",
        "\n",
        "    if ':' in epoch_0_time: int(epoch_0_time.split(':')[0]*60 + epoch_0_time.split(':')[1] ) #mm:ss > sss\n",
        "\n",
        "    epoch_1_tag = rec_entry.loc[f,'epoch_1']\n",
        "    if isinstance(epoch_1_tag,str):\n",
        "        epoch_1_time = epoch_1_tag.split(' ')[1]\n",
        "        if ':' in epoch_1_time: epoch_1_time =  int( epoch_1_time.split(':')[0])*60 + int(epoch_1_time.split(':')[1] )\n",
        "    else:\n",
        "        epoch_1_time = np.nan\n",
        "\n",
        "    # epoch indicies\n",
        "    fs = rec_entry.loc[f,'ch_0']['fs']\n",
        "    time = rec_entry.at[f,'ch_0']['time_1khz']\n",
        "    if np.isnan(epoch_1_time):\n",
        "        rec_entry.at[f,'ep_0_inds'] = np.arange(0,len(time))\n",
        "    else:\n",
        "        rec_entry.at[f,'ep_0_inds'] = np.arange(0, epoch_1_time*fs)\n",
        "        rec_entry.at[f,'ep_1_inds'] = np.arange(epoch_1_time*fs,len(time))\n",
        "\n",
        "    rec_entry.to_hdf(hdf_path,key=key_f)\n"
      ],
      "metadata": {
        "id": "LIaF3JifrDK6"
      },
      "execution_count": null,
      "outputs": []
    },
    {
      "cell_type": "code",
      "source": [
        "############ TESTER ##################\n",
        "f = '/content/rip_data/2023x07x27/2023x07x27_E4KI_F_P296_s1x2_0000.abf'\n",
        "\n",
        "\n",
        "abf = pyabf.ABF(f)\n",
        "blank_time=5\n",
        "filtered = time_bands(abf,sweepNumber=0,channel=1,blank_time=blank_time,new_fs=2500)\n",
        "trace = filtered['sharp_wave_band']['lfp']\n",
        "time = filtered['time_1khz']\n",
        "fs = filtered['fs']\n",
        "start_stop=[78.5,78.80]\n",
        "fig,ax=plt.subplots(4,1,figsize=[14,8],gridspec_kw={'height_ratios':[1,1,1,3]})\n",
        "# _ = inspect_trace(filtered['sharp_wave_band']['lfp'],time,fs,start_stop=start_stop,spec_color='r',line_length=1.5,figax_prev=(fig,ax[0]))\n",
        "# _ = inspect_trace(filtered['ripple_band']['lfp'],time,fs,start_stop=start_stop,spec_color='k',line_length=1.5,figax_prev=(fig,ax[1]))\n",
        "# _ = inspect_trace(filtered['fast_ripple_band']['lfp'],time,fs,start_stop=start_stop,spec_color='k',line_length=1.5,figax_prev=(fig,ax[2]))\n",
        "\n",
        "\n",
        "t_bool = np.logical_and(time>=start_stop[0],time<start_stop[-1])\n",
        "\n",
        "ax[0].plot( time[t_bool],filtered['sharp_wave_band']['lfp'][t_bool],'k')\n",
        "ax[1].plot( time[t_bool],filtered['ripple_band']['lfp'][t_bool],'k')\n",
        "ax[2].plot( time[t_bool],filtered['fast_ripple_band']['lfp'][t_bool],'k')\n",
        "\n",
        "cwt_results = quick_wavelet(filtered['wide_band']['lfp'],fs,top_freq=600,bottom_freq=4,num_freq_bins=80,log_freq=True)\n",
        "\n",
        "\n",
        "ax[3].pcolorfast(time[t_bool],cwt_results['freqs'],cwt_results['cwt_z'][:,t_bool][:-1,:-1],cmap='hot')#,vmin=0.5,vmax=5\n",
        "ax[3].set_yscale('log')\n",
        "new_ticks = cwt_results['log_ticks']\n",
        "print(new_ticks)\n",
        "_ = ax[3].set_yticks(new_ticks,labels=[str(t) for t in new_ticks])"
      ],
      "metadata": {
        "id": "571Gt-i7WBaJ",
        "outputId": "58431aa0-7a74-4c6d-fac9-06bd3e4a00a6",
        "colab": {
          "base_uri": "https://localhost:8080/",
          "height": 765
        }
      },
      "execution_count": 7,
      "outputs": [
        {
          "output_type": "stream",
          "name": "stdout",
          "text": [
            "[2500.]\n",
            "[-0.0364+0.0255j -0.0277-0.0283j -0.0149-0.0757j ... -0.0019-0.0146j\n",
            "  0.0073-0.0079j  0.0068-0.0072j]\n",
            "[0.0444 0.0397 0.0772 ... 0.0147 0.0108 0.0099]\n",
            "[  4.   8.  16. ... 128. 256. 512.]\n"
          ]
        },
        {
          "output_type": "display_data",
          "data": {
            "text/plain": [
              "<Figure size 1400x800 with 4 Axes>"
            ],
            "image/png": "[encoded data removed]"
          },
          "metadata": {}
        }
      ]
    },
    {
      "cell_type": "code",
      "source": [
        "def triggered_inds(trace,fs,sd_thresh= 3,min_dur_ms= 5,peak_wind_ms=20):\n",
        "    ''' trigger on crossing'''\n",
        "    trig_bool = z_trans(trace)>sd_thresh\n",
        "    min_dur_tic = int(min_dur_ms*fs/1000)\n",
        "    trig_bool = mov_mean(trig_bool,min_dur_tic)==1\n",
        "    trigs = np.arange(len(trig_bool))[np.diff(trig_bool,prepend=0)==1]\n",
        "\n",
        "    ''' allign peaks'''\n",
        "    tick_range = peak_wind_ms/1000*fs\n",
        "    peak_window_tics = np.arange(0,tick_range,dtype=int)\n",
        "    trig_alligned = []\n",
        "    max_tick = len(trace)\n",
        "    for t in trigs:\n",
        "        if (t+peak_window_tics[0])>=0 and (t+peak_window_tics[-1])<max_tick:\n",
        "            sub_trace = trace[t+peak_window_tics]\n",
        "            peak_tick = np.where(sub_trace==np.max(sub_trace))[0][0]\n",
        "            trig_alligned.append(t+peak_tick-np.min(peak_window_tics))\n",
        "    trig_alligned=np.array(trig_alligned)\n",
        "\n",
        "    return trig_alligned\n",
        "\n",
        "\n",
        "trace = filtered['ripple_band']['hilb_env']\n",
        "trigs = triggered_inds(trace,fs,sd_thresh= 2,min_dur_ms= 10,peak_wind_ms=20)\n",
        "print(len(trigs))\n",
        "\n"
      ],
      "metadata": {
        "id": "EGe75EblhK1v",
        "outputId": "83eb052a-730b-4e06-fcf1-9d11701904f2",
        "colab": {
          "base_uri": "https://localhost:8080/"
        }
      },
      "execution_count": null,
      "outputs": [
        {
          "output_type": "stream",
          "name": "stdout",
          "text": [
            "483\n"
          ]
        }
      ]
    },
    {
      "cell_type": "code",
      "source": [
        "#### single abf run through #####\n",
        "\n",
        "def _abf_analyze(f ,chan_list = ['ch_0','ch_1'], trig_bands = ['ripple_band','sharp_wave_band','slow_gamma_band']):\n",
        "    abf = pyabf.ABF(f)\n",
        "    trig_sub_dict = { b:{'trigs':[], 'trig_rate':np.nan} for b in trig_bands}\n",
        "    trig_dict = dict([(ch,trig_sub_dict) for ch in chan_list])\n",
        "    for ch in chan_list:\n",
        "        filtered = time_bands(abf,sweepNumber=0,channel= chan_list.index(ch) ,blank_time=blank_time,new_fs=2500)\n",
        "        for b in trig_bands:\n",
        "            trace = filtered[b]['hilb_env']\n",
        "            fs = filtered['fs']\n",
        "            trigs = triggered_inds(trace,fs,min_dur_ms=10)\n",
        "            trig_dict[ch][b]['trigs'] = trigs\n",
        "            if len(trigs)>1: trig_rate = len(trigs)/((trigs[-1]-trigs[0])/fs)\n",
        "            else: trig_rate= np.nan\n",
        "            trig_dict[ch][b]['trig_rate'] = trig_rate\n",
        "    return trig_dict\n",
        "\n",
        "\n",
        "f_test = e4_79_good_list[0]\n",
        "print(f_test)\n",
        "trig_dict = _abf_analyze(f_test)\n",
        "display(trig_dict)\n",
        "# filtered = time_bands(abf,sweepNumber=0,channel= chan_list.index(ch),order=4 ,blank_time=blank_time,new_fs=2500)\n",
        "# trace = filtered['sharp_wave_band']['lfp']\n",
        "# time = filtered['time_1khz']\n",
        "# fs = filtered['fs']\n",
        "# # inspect_trace(trace,time,fs)\n",
        "# print(np.mean(np.isnan(trace)))"
      ],
      "metadata": {
        "id": "eOgMxxnvgyqi",
        "outputId": "13903146-6a7a-4ad7-ad02-bf92845f172e",
        "colab": {
          "base_uri": "https://localhost:8080/",
          "height": 243
        }
      },
      "execution_count": 83,
      "outputs": [
        {
          "output_type": "stream",
          "name": "stdout",
          "text": [
            "/content/rip_data/2023x07x27/2023x07x27_E4KI_F_P296_s1x2_0000.abf\n"
          ]
        },
        {
          "output_type": "display_data",
          "data": {
            "text/plain": [
              "{'ch_0': {'ripple_band': {'trigs': array([ 431232, 1059192, 1563046, ..., 2530846, 3822938, 4738886]),\n",
              "   'trig_rate': 0.005223260735425826},\n",
              "  'sharp_wave_band': {'trigs': array([     12,   27831,   28823, ..., 4695016, 4708496, 4736477]),\n",
              "   'trig_rate': 0.35838964290879377},\n",
              "  'slow_gamma_band': {'trigs': array([     12,   28835,   34915, ..., 4691941, 4695001, 4736471]),\n",
              "   'trig_rate': 0.38953150444245377}},\n",
              " 'ch_1': {'ripple_band': {'trigs': array([ 431232, 1059192, 1563046, ..., 2530846, 3822938, 4738886]),\n",
              "   'trig_rate': 0.005223260735425826},\n",
              "  'sharp_wave_band': {'trigs': array([     12,   27831,   28823, ..., 4695016, 4708496, 4736477]),\n",
              "   'trig_rate': 0.35838964290879377},\n",
              "  'slow_gamma_band': {'trigs': array([     12,   28835,   34915, ..., 4691941, 4695001, 4736471]),\n",
              "   'trig_rate': 0.38953150444245377}}}"
            ]
          },
          "metadata": {}
        }
      ]
    }
  ]
}