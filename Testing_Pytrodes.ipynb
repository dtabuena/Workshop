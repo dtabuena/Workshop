{
  "nbformat": 4,
  "nbformat_minor": 0,
  "metadata": {
    "colab": {
      "provenance": [],
      "authorship_tag": "ABX9TyPwmb5UOlwX3tAF/ILxJrV8",
      "include_colab_link": true
    },
    "kernelspec": {
      "name": "python3",
      "display_name": "Python 3"
    },
    "language_info": {
      "name": "python"
    }
  },
  "cells": [
    {
      "cell_type": "markdown",
      "metadata": {
        "id": "view-in-github",
        "colab_type": "text"
      },
      "source": [
        "<a href=\"https://colab.research.google.com/github/dtabuena/Workshop/blob/main/Testing_Pytrodes.ipynb\" target=\"_parent\"><img src=\"https://colab.research.google.com/assets/colab-badge.svg\" alt=\"Open In Colab\"/></a>"
      ]
    },
    {
      "cell_type": "code",
      "source": [
        "!pip install PyWavelets"
      ],
      "metadata": {
        "id": "gRWfP78Je4rc",
        "outputId": "66a14c4b-afb2-46e7-a178-0a2ee378d5ef",
        "colab": {
          "base_uri": "https://localhost:8080/"
        }
      },
      "execution_count": 16,
      "outputs": [
        {
          "output_type": "stream",
          "name": "stdout",
          "text": [
            "Collecting PyWavelets\n",
            "  Downloading pywavelets-1.6.0-cp312-cp312-win_amd64.whl.metadata (9.0 kB)\n",
            "Requirement already satisfied: numpy<3,>=1.22.4 in c:\\users\\dennis.tabuena\\appdata\\local\\anaconda3\\envs\\notebook\\lib\\site-packages (from PyWavelets) (1.26.4)\n",
            "Downloading pywavelets-1.6.0-cp312-cp312-win_amd64.whl (4.2 MB)\n",
            "   ---------------------------------------- 0.0/4.2 MB ? eta -:--:--\n",
            "   ------- -------------------------------- 0.8/4.2 MB 16.8 MB/s eta 0:00:01\n",
            "   ---------------------------- ----------- 3.0/4.2 MB 27.8 MB/s eta 0:00:01\n",
            "   ---------------------------------------  4.2/4.2 MB 30.2 MB/s eta 0:00:01\n",
            "   ---------------------------------------  4.2/4.2 MB 30.2 MB/s eta 0:00:01\n",
            "   ---------------------------------------  4.2/4.2 MB 30.2 MB/s eta 0:00:01\n",
            "   ---------------------------------------  4.2/4.2 MB 30.2 MB/s eta 0:00:01\n",
            "   ---------------------------------------  4.2/4.2 MB 30.2 MB/s eta 0:00:01\n",
            "   ---------------------------------------  4.2/4.2 MB 30.2 MB/s eta 0:00:01\n",
            "   ---------------------------------------  4.2/4.2 MB 30.2 MB/s eta 0:00:01\n",
            "   ---------------------------------------  4.2/4.2 MB 30.2 MB/s eta 0:00:01\n",
            "   ---------------------------------------  4.2/4.2 MB 30.2 MB/s eta 0:00:01\n",
            "   ---------------------------------------  4.2/4.2 MB 30.2 MB/s eta 0:00:01\n",
            "   ---------------------------------------  4.2/4.2 MB 30.2 MB/s eta 0:00:01\n",
            "   ---------------------------------------  4.2/4.2 MB 30.2 MB/s eta 0:00:01\n",
            "   ---------------------------------------  4.2/4.2 MB 30.2 MB/s eta 0:00:01\n",
            "   ---------------------------------------  4.2/4.2 MB 30.2 MB/s eta 0:00:01\n",
            "   ---------------------------------------  4.2/4.2 MB 30.2 MB/s eta 0:00:01\n",
            "   ---------------------------------------  4.2/4.2 MB 30.2 MB/s eta 0:00:01\n",
            "   ---------------------------------------  4.2/4.2 MB 30.2 MB/s eta 0:00:01\n",
            "   ---------------------------------------  4.2/4.2 MB 30.2 MB/s eta 0:00:01\n",
            "   ---------------------------------------  4.2/4.2 MB 30.2 MB/s eta 0:00:01\n",
            "   ---------------------------------------  4.2/4.2 MB 30.2 MB/s eta 0:00:01\n",
            "   ---------------------------------------  4.2/4.2 MB 30.2 MB/s eta 0:00:01\n",
            "   ---------------------------------------  4.2/4.2 MB 30.2 MB/s eta 0:00:01\n",
            "   ---------------------------------------  4.2/4.2 MB 30.2 MB/s eta 0:00:01\n",
            "   ---------------------------------------- 4.2/4.2 MB 3.4 MB/s eta 0:00:00\n",
            "Installing collected packages: PyWavelets\n",
            "Successfully installed PyWavelets-1.6.0\n"
          ]
        }
      ]
    },
    {
      "cell_type": "code",
      "source": [
        "import scipy as sci\n",
        "import os\n",
        "from matplotlib import pyplot as plt\n",
        "import numpy as np"
      ],
      "metadata": {
        "id": "Zt86PQJs1o8n"
      },
      "execution_count": 3,
      "outputs": []
    },
    {
      "cell_type": "code",
      "source": [
        "zl_dir = \"C:\\\\Users\\\\dennis.tabuena\\\\Desktop\\\\ZL04_46_ch17_ref2\"\n",
        "\n",
        "mat_data = sci.io.loadmat(os.path.join(zl_dir, 'ZL04_46_LFP_raw01_17.mat'))\n",
        "raw_pyramidal_lfp = mat_data['Raw_LFP'][0][0][-1][0][0][4].flatten()\n"
      ],
      "metadata": {
        "id": "qHYaXg_QUbgM"
      },
      "execution_count": 4,
      "outputs": []
    },
    {
      "cell_type": "code",
      "source": [
        "mat_data = sci.io.loadmat(os.path.join(zl_dir, 'ZL04_46_LFP_raw01_2.mat'))\n",
        "raw_corpcol_lfp = mat_data['Raw_LFP'][0][0][-1][0][0][4].flatten()"
      ],
      "metadata": {
        "id": "4HbHqHxccEtv"
      },
      "execution_count": 5,
      "outputs": []
    },
    {
      "cell_type": "code",
      "source": [
        "raw_pyramidal_lfp=raw_pyramidal_lfp-raw_corpcol_lfp"
      ],
      "metadata": {
        "id": "sRN_ZvP1cJLt"
      },
      "execution_count": 6,
      "outputs": []
    },
    {
      "cell_type": "code",
      "source": [
        "\"\"\"Down Sampling\"\"\"\n",
        "raw_fs = 30000\n",
        "desired_fs = 5000\n",
        "downsample_factor = int(raw_fs/desired_fs)\n",
        "\n",
        "\n",
        "pyramidal_downsampled = sci.signal.decimate(raw_pyramidal_lfp,downsample_factor)\n",
        "fs = raw_fs/downsample_factor\n",
        "print(f'fs: {fs}')\n",
        "time_trace = np.arange(len(pyramidal_downsampled))/fs\n",
        "\n"
      ],
      "metadata": {
        "colab": {
          "base_uri": "https://localhost:8080/"
        },
        "id": "wa7kdOd1DiaR",
        "outputId": "7c5ba8de-2be3-46f3-d2de-a6cbc332ee30"
      },
      "execution_count": 7,
      "outputs": [
        {
          "output_type": "stream",
          "name": "stdout",
          "text": [
            "fs: 5000.0\n"
          ]
        }
      ]
    },
    {
      "cell_type": "code",
      "source": [
        "\"\"\"Ripple Filtering\"\"\"\n",
        "h_filt = sci.signal.firwin(1200, [150,250], width=10, window='hamming', pass_zero='bandpass', scale=True, fs=fs)\n",
        "plt.plot(h_filt)\n",
        "pyramidal_ripfilt = sci.signal.filtfilt(h_filt,1,pyramidal_downsampled,axis=0)"
      ],
      "metadata": {
        "id": "0vGIE9dxGjeg",
        "colab": {
          "base_uri": "https://localhost:8080/",
          "height": 430
        },
        "outputId": "21a9364a-2d46-413d-ca71-dd8dba0d7a30"
      },
      "execution_count": 8,
      "outputs": [
        {
          "output_type": "display_data",
          "data": {
            "text/plain": [
              "<Figure size 640x480 with 1 Axes>"
            ],
            "image/png": "[encoded data removed]"
          },
          "metadata": {}
        }
      ]
    },
    {
      "cell_type": "code",
      "source": [
        "fs"
      ],
      "metadata": {
        "colab": {
          "base_uri": "https://localhost:8080/"
        },
        "id": "ywgoi1coWTzm",
        "outputId": "627c8c09-aa44-4718-f9a2-f074a8567b04"
      },
      "execution_count": 9,
      "outputs": [
        {
          "output_type": "execute_result",
          "data": {
            "text/plain": [
              "5000.0"
            ]
          },
          "metadata": {},
          "execution_count": 9
        }
      ]
    },
    {
      "cell_type": "code",
      "source": [
        "\"\"\" Hilbert & Smooth \"\"\"\n",
        "hilbert_signal = sci.signal.hilbert(pyramidal_ripfilt )\n",
        "pyramidal_envelope = np.abs(hilbert_signal)\n",
        "pyramidal_inst_phase = np.unwrap(np.angle(hilbert_signal))\n",
        "pyramidal_inst_frequency = (np.diff(hilbert_signal) /(2.0*np.pi) * fs)\n",
        "\n",
        "\n",
        "gauss_width_ms = 4\n",
        "sigma = gauss_width_ms/1000*fs\n",
        "filter_width_sigmas = 8\n",
        "pyramidal_smoothed  = sci.ndimage.gaussian_filter1d(pyramidal_envelope, sigma, axis=0, mode='reflect', truncate=filter_width_sigmas)"
      ],
      "metadata": {
        "id": "xWLH8riZG5KO"
      },
      "execution_count": 10,
      "outputs": []
    },
    {
      "cell_type": "code",
      "source": [
        "\"\"\" Z-score \"\"\"\n",
        "def z_with_params(x,mean,std):\n",
        "    return (x-mean)/std\n",
        "\n",
        "full_trace_std = np.std(pyramidal_smoothed)\n",
        "full_trace_mean = np.mean(pyramidal_smoothed)\n",
        "pyramidal_ripp_z = z_with_params(pyramidal_smoothed,full_trace_mean,full_trace_std)"
      ],
      "metadata": {
        "id": "ca4UPX87IWHZ"
      },
      "execution_count": 11,
      "outputs": []
    },
    {
      "cell_type": "code",
      "source": [
        "print(pyramidal_ripp_z.shape)"
      ],
      "metadata": {
        "colab": {
          "base_uri": "https://localhost:8080/"
        },
        "id": "qEqGZ3ybNti9",
        "outputId": "a98558c7-e611-49aa-9aff-9e7f46c1d5d9"
      },
      "execution_count": 12,
      "outputs": [
        {
          "output_type": "stream",
          "name": "stdout",
          "text": [
            "(18192760,)\n"
          ]
        }
      ]
    },
    {
      "cell_type": "code",
      "source": [
        "\"\"\" Find Ripps \"\"\"\n",
        "over_absolute_min_thresh = pyramidal_ripp_z>5\n",
        "starts = np.where(np.diff(over_absolute_min_thresh,prepend=0)==1)[0]\n",
        "stops = np.where(np.diff(over_absolute_min_thresh,prepend=0)==-1)[0]\n",
        "print(len(starts),len(stops))"
      ],
      "metadata": {
        "colab": {
          "base_uri": "https://localhost:8080/"
        },
        "id": "m5aLGc_cKKnq",
        "outputId": "1bb7c0b2-2b08-48b0-eadb-a3c40d446d93"
      },
      "execution_count": 13,
      "outputs": [
        {
          "output_type": "stream",
          "name": "stdout",
          "text": [
            "1187 1187\n"
          ]
        }
      ]
    },
    {
      "cell_type": "code",
      "source": [
        "delta=stops-starts\n",
        "duration = delta/fs\n",
        "is_long_enough = duration > (15/1000)\n",
        "good_starts = starts[is_long_enough]\n",
        "good_stops = stops[is_long_enough]\n",
        "\n",
        "\n",
        "inter_rip_interval = (good_starts[1:] - good_stops[:-1])/fs\n",
        "interaval_ok = inter_rip_interval>.001\n",
        "interaval_ok = np.pad(interaval_ok,[1,0])\n",
        "interaval_ok[0]=True\n",
        "good_starts=good_starts[interaval_ok]\n",
        "good_stops=good_stops[interaval_ok]\n",
        "\n",
        "\n",
        "print(len(good_starts))"
      ],
      "metadata": {
        "colab": {
          "base_uri": "https://localhost:8080/"
        },
        "id": "w2XLeWgcUiqf",
        "outputId": "255db0d7-38e6-4726-90c9-d7a5e7d3ae7f"
      },
      "execution_count": 14,
      "outputs": [
        {
          "output_type": "stream",
          "name": "stdout",
          "text": [
            "676\n"
          ]
        }
      ]
    },
    {
      "cell_type": "code",
      "source": [
        "import pywt\n",
        "widths=np.logspace(1,300,num=50,base=2)\n",
        "cwtmatr, freqs = pywt.cwt(pyramidal_downsampled[:50000],widths,'morl',sampling_period=.0002)"
      ],
      "metadata": {
        "id": "hy31YvKDWIBP"
      },
      "execution_count": null,
      "outputs": []
    },
    {
      "cell_type": "code",
      "source": [
        "fig,ax=plt.subplots(2,1,figsize=(6,2),dpi=300)\n",
        "\n",
        "display_window_ms = [-150,300]\n",
        "display_windo_indx = np.arange(display_window_ms[0]*fs/1000,display_window_ms[1]*fs/1000)\n",
        "window_time_ms = display_windo_indx/fs*1000\n",
        "random_start = np.random.choice(good_starts)\n",
        "print(random_start)\n",
        "\n",
        "chosen_indicies = random_start+display_windo_indx\n",
        "chosen_rip = pyramidal_ripfilt[  chosen_indicies.astype(int)  ]\n",
        "ax[0].plot(window_time_ms,   pyramidal_ripfilt[  chosen_indicies.astype(int)  ]  ,color='k',linewidth=.8)\n",
        "ax[0].plot(window_time_ms,   pyramidal_smoothed[  chosen_indicies.astype(int)  ]  ,color='orange',linewidth=.8)\n",
        "ax[0].axvline(0,color='k',linewidth=.5)\n",
        "ax[0].plot(window_time_ms,   pyramidal_downsampled[  chosen_indicies.astype(int)  ] ,color='gray',linewidth=.2)\n",
        "ax[1].plot(window_time_ms,   pyramidal_ripp_z[  chosen_indicies.astype(int)  ]  )\n",
        "ax[1].set_ylim([-4,20])\n",
        "ax[1].axvline(0,color='k',linewidth=.5)\n",
        "ax[1].grid('on')\n",
        "plt.tight_layout\n",
        "plt.show()\n",
        "\n",
        "\n"
      ],
      "metadata": {
        "id": "xt5ymjYCIWFH"
      },
      "execution_count": null,
      "outputs": []
    },
    {
      "cell_type": "code",
      "source": [],
      "metadata": {
        "id": "IJy9lqF7gxby"
      },
      "execution_count": null,
      "outputs": []
    },
    {
      "cell_type": "code",
      "source": [],
      "metadata": {
        "id": "W5Rr6Xm7IV-P"
      },
      "execution_count": null,
      "outputs": []
    },
    {
      "cell_type": "code",
      "source": [],
      "metadata": {
        "id": "K887xpxlIVve"
      },
      "execution_count": null,
      "outputs": []
    },
    {
      "cell_type": "code",
      "execution_count": null,
      "metadata": {
        "id": "fESWG5431Wao"
      },
      "outputs": [],
      "source": []
    },
    {
      "cell_type": "code",
      "source": [
        "delta_len =  - len(pyramidal_ripfilt)\n",
        "delta_len/fs\n",
        "\n",
        "\n"
      ],
      "metadata": {
        "id": "EjhT8XRJSnWW"
      },
      "execution_count": null,
      "outputs": []
    },
    {
      "cell_type": "code",
      "source": [
        "\n",
        "mat_data = sci.io.loadmat(os.path.join(zl_dir, 'ZL04_46_LFP_unsubtracted01_17_ripfilt.mat'))\n",
        "ripple_trace_MATLAB = mat_data['ZL04_46_LFP_unsubtracted01_17_ripfilt'].flatten()"
      ],
      "metadata": {
        "id": "TV9tsEF2g-pi"
      },
      "execution_count": null,
      "outputs": []
    },
    {
      "cell_type": "code",
      "source": [
        "fig,ax=plt.subplots(2,1,figsize=(4,2),dpi=300)\n",
        "show_wind = np.arange(1*fs).astype(int)\n",
        "\n",
        "ending_mat = len(ripple_trace_MATLAB)-show_wind-1\n",
        "ending_py = len(pyramidal_ripfilt)-show_wind-1\n",
        "\n",
        "ax[0].plot(time_trace[show_wind], ripple_trace_MATLAB[show_wind],linewidth=.2)\n",
        "ax0r = ax[0].twinx()\n",
        "ax0r.plot(time_trace[show_wind], pyramidal_ripfilt[show_wind],linewidth=.2,color='r')\n",
        "# ax[0].set_title('Ripple Filtered Python vs Matlab\\nAlligned to START')\n",
        "\n",
        "ax[1].plot(time_trace[ending_py], ripple_trace_MATLAB[ending_mat],linewidth=.2)\n",
        "ax1r = ax[1].twinx()\n",
        "ax1r.plot(time_trace[ending_py], pyramidal_ripfilt[ending_py],linewidth=.2,color='r')\n",
        "# ax[1].set_title('Trace Ripple Filtered Python vs Matlab\\nAlligned to END')\n",
        "\n",
        "plt.tight_layout()\n",
        "plt.show()\n",
        "# ax[0].set_title('Matlab DownSampled')\n",
        "# ax[0].set_title('Python DownSampled')"
      ],
      "metadata": {
        "id": "OPnk7dTUhLwq"
      },
      "execution_count": null,
      "outputs": []
    }
  ]
}