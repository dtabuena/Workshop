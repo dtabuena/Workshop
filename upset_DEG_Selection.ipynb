{
  "nbformat": 4,
  "nbformat_minor": 0,
  "metadata": {
    "colab": {
      "provenance": [],
      "authorship_tag": "ABX9TyOmNGgXOZVOiLuQ2IYmCG1P",
      "include_colab_link": true
    },
    "kernelspec": {
      "name": "python3",
      "display_name": "Python 3"
    },
    "language_info": {
      "name": "python"
    }
  },
  "cells": [
    {
      "cell_type": "markdown",
      "metadata": {
        "id": "view-in-github",
        "colab_type": "text"
      },
      "source": [
        "<a href=\"https://colab.research.google.com/github/dtabuena/Workshop/blob/main/upset_DEG_Selection.ipynb\" target=\"_parent\"><img src=\"https://colab.research.google.com/assets/colab-badge.svg\" alt=\"Open In Colab\"/></a>"
      ]
    },
    {
      "cell_type": "code",
      "source": [
        "import itertools\n",
        "import numpy as np\n",
        "import pandas as pd\n",
        "import os\n"
      ],
      "metadata": {
        "id": "tOA_xE-mW_Bb"
      },
      "execution_count": 1,
      "outputs": []
    },
    {
      "cell_type": "code",
      "source": [
        "\"\"\"LOCAL CONFIG\"\"\"\n",
        "dgc_01_dir = 'C:/Users/dennis.tabuena/Dropbox (Gladstone)/0_Projects/_Hyper+Crisper/DEG_Selection/DGC_2'\n",
        "os.chdir(dgc_01_dir)\n",
        "deg_file_loc_lists=['./E4vsE3_DEGs_wilcox_5mo_02_Dentate_Gyrus_Granule_Cells.csv',\n",
        "                    './E4vsE3_DEGs_wilcox_10mo_02_Dentate_Gyrus_Granule_Cells.csv',\n",
        "                    './E4vsE3_DEGs_wilcox_15mo_02_Dentate_Gyrus_Granule_Cells.csv',\n",
        "                    './E4vsE3_DEGs_wilcox_20mo_02_Dentate_Gyrus_Granule_Cells.csv',]"
      ],
      "metadata": {
        "id": "YyDz6KnfXGCb"
      },
      "execution_count": 2,
      "outputs": []
    },
    {
      "cell_type": "code",
      "source": [
        "\"\"\"\n",
        "Criteria:\n",
        "E4 > E3 at 5mo\n",
        "E4 > E3 at 10mo\n",
        "High_E4 > High_E3\n",
        "fE4_NKO !> fE4\n",
        "E4 !> E3 at 20mo\n",
        "E3_20mo > E3_5mo\n",
        "\"\"\"\n"
      ],
      "metadata": {
        "id": "CmCH0ocbZCSK"
      },
      "execution_count": null,
      "outputs": []
    },
    {
      "cell_type": "code",
      "source": [
        "def membership_dict_to_df(group_dict: dict) -> pd.DataFrame:\n",
        "    \"\"\"\n",
        "    get dict with keys:group and values:list of items.\n",
        "    convert dict to a pd.DataFrame with index:items and\n",
        "    columns for membership in label. A numerical embeding\n",
        "    of membership overlaps is created for simplicity after.\n",
        "    A look up dict its returned to interpred embeddings\n",
        "    \"\"\"\n",
        "\n",
        "    inicies = [x for v in group_dict.values() for x in v]\n",
        "    mebership_df = pd.DataFrame(index=inicies,columns=list(group_dict.keys()))\n",
        "    mebership_df['emb_combo'] = np.nan\n",
        "    possible_combos = list(itertools.product([True,False], repeat=len(group_dict.keys())))\n",
        "    combo_sum = [np.sum(c) for c in possible_combos]\n",
        "    possible_combos = [possible_combos[i] for i in np.argsort(combo_sum)]\n",
        "    embed_combos = {c:i for i,c in enumerate(possible_combos)}\n",
        "    for r in mebership_df.index:\n",
        "        row_bool = [ r in vals for vals in group_dict.values()]\n",
        "        mebership_df.loc[r,list(group_dict.keys())] = row_bool\n",
        "        mebership_df.loc[r,'emb_combo'] = embed_combos[tuple(row_bool)]\n",
        "    return mebership_df, embed_combos"
      ],
      "metadata": {
        "id": "nNNL-5AiW7hE"
      },
      "execution_count": null,
      "outputs": []
    },
    {
      "cell_type": "code",
      "execution_count": null,
      "metadata": {
        "id": "eB2qp58TWmDp"
      },
      "outputs": [],
      "source": [
        "def upset_plot(group_dict, figsize=(3,3), exclude_all_none=True):\n",
        "\n",
        "    'group_dict->dict with keys=categories/groups and values=list(members)'\n",
        "\n",
        "    mebership_df, embed_combos = membership_dict_to_df(go_group_dict)\n",
        "    possible_combos = list(embed_combos.keys())\n",
        "    if exclude_all_none: #exclude members that do not intersect any group\n",
        "        possible_combos = [c for c in possible_combos if np.array(c).any()]\n",
        "        false_tupple = tuple(np.full((len(possible_combos[0])),False))\n",
        "        del embed_combos[false_tupple]\n",
        "\n",
        "    fig,ax=plt.subplots(2,2,figsize=figsize,width_ratios=[5,2],height_ratios=[5,2],dpi=300)\n",
        "    null_ax = ax[0,1]\n",
        "    null_ax.axis('off')\n",
        "    combo_ax = ax[1,0]\n",
        "    overlap_ax = ax[0,0]\n",
        "    set_size_ax = ax[1,1]\n",
        "\n",
        "    group_names = [c for c in mebership_df.columns if str(c) not in 'emb_combo']\n",
        "\n",
        "\n",
        "    \"\"\"Draw Dots and Connect\"\"\"\n",
        "    true_xy = np.where(possible_combos)\n",
        "    false_xy = np.where(np.logical_not(possible_combos))\n",
        "    dot_size=12\n",
        "    combo_ax.scatter(true_xy[0],true_xy[1],color='k',s=dot_size)\n",
        "    combo_ax.scatter(false_xy[0],false_xy[1],color='lightgrey',s=dot_size)\n",
        "    combo_ax.set_yticks(range(4),group_names)\n",
        "    combo_ax.set_xticks([])\n",
        "    combo_ax.set_ylim([-.5,len(group_names)-.5])\n",
        "    my_map = np.cumsum(np.ones_like(possible_combos),axis=1)*possible_combos\n",
        "    for row,vals in enumerate(my_map):\n",
        "        vals_nz = [v for v in vals if v > 0]\n",
        "        if np.sum(vals>0)>1:\n",
        "            combo_ax.plot([row,row],[np.min(vals_nz)-1,np.max(vals_nz)-1],color='k',linewidth=.5 )\n",
        "\n",
        "\n",
        "\n",
        "    \"\"\"Plot Overlap Bars\"\"\"\n",
        "    intersection_counts, bin_edges = np.histogram(mebership_df['emb_combo'],\n",
        "                                                  bins=len(possible_combos),\n",
        "                                                  range=[np.min(mebership_df['emb_combo'])-.5,np.max(mebership_df['emb_combo'])+.5]) #\n",
        "    overlap_ax.bar(bin_edges[:-1]-.5,intersection_counts,color='k')\n",
        "    overlap_ax.set_xlim(combo_ax.get_xlim() )\n",
        "    overlap_ax.set_xticks([])\n",
        "    overlap_ax.set_ylabel('Intersection (#)')\n",
        "\n",
        "\n",
        "    \"\"\"Plot Groups Sizes\"\"\"\n",
        "    set_size_ax.barh( list(group_dict.keys()), [len(v) for v in group_dict.values()],color='k'   )\n",
        "    set_size_ax.set_yticks([])\n",
        "    set_size_ax.set_xlabel('Group Size (#)')\n",
        "\n",
        "    return (fig,ax), mebership_df, embed_combos\n",
        "\n",
        "\n",
        "fig_ax, mebership_df,embed_combos = upset_plot(go_group_dict,figsize=(4,2.5))"
      ]
    }
  ]
}