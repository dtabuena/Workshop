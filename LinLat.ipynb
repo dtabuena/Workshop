{
  "nbformat": 4,
  "nbformat_minor": 0,
  "metadata": {
    "colab": {
      "provenance": [],
      "authorship_tag": "ABX9TyMiY4dFl5TgLZX2gehZ5dL2",
      "include_colab_link": true
    },
    "kernelspec": {
      "name": "python3",
      "display_name": "Python 3"
    },
    "language_info": {
      "name": "python"
    }
  },
  "cells": [
    {
      "cell_type": "markdown",
      "metadata": {
        "id": "view-in-github",
        "colab_type": "text"
      },
      "source": [
        "<a href=\"https://colab.research.google.com/github/dtabuena/Workshop/blob/main/LinLat.ipynb\" target=\"_parent\"><img src=\"https://colab.research.google.com/assets/colab-badge.svg\" alt=\"Open In Colab\"/></a>"
      ]
    },
    {
      "cell_type": "code",
      "execution_count": null,
      "metadata": {
        "id": "WdyebgckYy7W"
      },
      "outputs": [],
      "source": [
        "import numpy as np"
      ]
    },
    {
      "cell_type": "code",
      "source": [
        "n = 100\n",
        "k = 40\n",
        "j = 30\n",
        "l_dim = 10\n",
        "\n",
        "a_ = np.random.rand(k,n)\n",
        "b_ = np.random.rand(j,n)\n",
        "\n",
        "l_init = np.random.rand(l_dim,n)\n",
        "l_inv = np.linalg.pinv(l_init)\n",
        "\n",
        "x_init = np.dot(a_,l_inv)\n",
        "y_init = np.dot(b_,l_inv)\n",
        "\n",
        "\n"
      ],
      "metadata": {
        "id": "qM1d-A_eZA0Q"
      },
      "execution_count": null,
      "outputs": []
    }
  ]
}