{
  "nbformat": 4,
  "nbformat_minor": 0,
  "metadata": {
    "colab": {
      "provenance": [],
      "authorship_tag": "ABX9TyNwuI/XR2iwdQ+ekzQlrjql",
      "include_colab_link": true
    },
    "kernelspec": {
      "name": "python3",
      "display_name": "Python 3"
    },
    "language_info": {
      "name": "python"
    }
  },
  "cells": [
    {
      "cell_type": "markdown",
      "metadata": {
        "id": "view-in-github",
        "colab_type": "text"
      },
      "source": [
        "<a href=\"https://colab.research.google.com/github/dtabuena/Workshop/blob/main/LinLat.ipynb\" target=\"_parent\"><img src=\"https://colab.research.google.com/assets/colab-badge.svg\" alt=\"Open In Colab\"/></a>"
      ]
    },
    {
      "cell_type": "code",
      "execution_count": 2,
      "metadata": {
        "id": "WdyebgckYy7W"
      },
      "outputs": [],
      "source": [
        "import numpy as np"
      ]
    },
    {
      "cell_type": "code",
      "source": [],
      "metadata": {
        "id": "pT8Yd4medkxq"
      },
      "execution_count": null,
      "outputs": []
    },
    {
      "cell_type": "code",
      "source": [
        "n = 100\n",
        "k = 40\n",
        "j = 30\n",
        "l_dim = 10\n",
        "\n",
        "A_ = np.random.rand(k,n)\n",
        "B_ = np.random.rand(j,n)\n",
        "\n",
        "L_ = np.random.rand(l_dim,n)\n",
        "l_inv = np.linalg.pinv(l_init)\n",
        "\n",
        "X_ = np.dot(a_,l_inv)\n",
        "Y_ = np.dot(b_,l_inv)\n",
        "\n",
        "\n"
      ],
      "metadata": {
        "id": "qM1d-A_eZA0Q"
      },
      "execution_count": 4,
      "outputs": []
    },
    {
      "cell_type": "code",
      "source": [
        "def als_round(A_,B_,X_,Y_,L_):\n",
        "    X_inv = np.linalg.pinv(X_)\n",
        "    L_ax = np.dot(A_,X_inv)\n",
        "\n",
        "    return None\n",
        "\n",
        "als_round(A_,B_,X_,Y_,L_)"
      ],
      "metadata": {
        "id": "Hb8JXtUUemKj"
      },
      "execution_count": null,
      "outputs": []
    }
  ]
}