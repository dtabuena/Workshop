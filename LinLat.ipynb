{
  "nbformat": 4,
  "nbformat_minor": 0,
  "metadata": {
    "colab": {
      "provenance": [],
      "authorship_tag": "ABX9TyP4um9jbF5PuOyRzlnC24U2",
      "include_colab_link": true
    },
    "kernelspec": {
      "name": "python3",
      "display_name": "Python 3"
    },
    "language_info": {
      "name": "python"
    }
  },
  "cells": [
    {
      "cell_type": "markdown",
      "metadata": {
        "id": "view-in-github",
        "colab_type": "text"
      },
      "source": [
        "<a href=\"https://colab.research.google.com/github/dtabuena/Workshop/blob/main/LinLat.ipynb\" target=\"_parent\"><img src=\"https://colab.research.google.com/assets/colab-badge.svg\" alt=\"Open In Colab\"/></a>"
      ]
    },
    {
      "cell_type": "code",
      "execution_count": 1,
      "metadata": {
        "id": "WdyebgckYy7W"
      },
      "outputs": [],
      "source": [
        "import numpy as np\n",
        "from matplotlib import pyplot as plt"
      ]
    },
    {
      "cell_type": "code",
      "source": [
        "# n = 20\n",
        "# k = 40\n",
        "# j = 30\n",
        "# l_dim = 10\n",
        "\n",
        "# A_ = np.random.rand(k,n)\n",
        "# B_ = np.random.rand(j,n)\n",
        "\n",
        "# L_ = np.random.rand(l_dim,n)\n",
        "# L_inv = np.linalg.pinv(L_)\n",
        "\n",
        "# X_ = np.dot(A_,L_inv)\n",
        "# Y_ = np.dot(B_,L_inv)\n",
        "\n",
        "\n"
      ],
      "metadata": {
        "id": "qM1d-A_eZA0Q"
      },
      "execution_count": 2,
      "outputs": []
    },
    {
      "cell_type": "code",
      "source": [
        "\n",
        "def als_round(A_,B_,X_,Y_,to_plot=False,verbose=False):\n",
        "    '''\n",
        "    A = L*X\n",
        "    La=A*X'\n",
        "    Xb = Lb' * A\n",
        "    Ab = Lb * Xn\n",
        "\n",
        "    B = L*Y\n",
        "    Lb=B*Y'\n",
        "    Ya = La' * B\n",
        "    Ba = La * Yn\n",
        "    '''\n",
        "\n",
        "    L_a = np.dot(A_,np.linalg.pinv(X_))\n",
        "    Y_a = np.dot(np.linalg.pinv(L_a),B_)\n",
        "\n",
        "    L_b = np.dot(B_,np.linalg.pinv(Y_a)) ## pinv(Y_)\n",
        "\n",
        "    X_b = np.dot(np.linalg.pinv(L_b),A_)\n",
        "    \n",
        "\n",
        "    A_b = np.dot(L_b,X_b)\n",
        "    B_a = np.dot(L_a,Y_a)\n",
        "\n",
        "    A_er = np.linalg.norm(A_-A_b)\n",
        "    B_er = np.linalg.norm(B_-B_a)\n",
        "    L_er = np.linalg.norm(L_a-L_b)\n",
        "\n",
        "    if verbose: print(A_er,B_er,L_er)\n",
        "\n",
        "    if to_plot:\n",
        "        fig,ax = plt.subplots(1,6,figsize=(12,2))\n",
        "        ax[0].imshow(A_)\n",
        "        ax[1].imshow(X_b)\n",
        "        ax[2].imshow(L_a)\n",
        "        ax[3].imshow(L_b)\n",
        "        ax[4].imshow(Y_a)\n",
        "        ax[5].imshow(B_)\n",
        "\n",
        "        ax[0].set_title('A_')\n",
        "        ax[1].set_title('X_b')\n",
        "        ax[2].set_title('L_a')\n",
        "        ax[3].set_title('L_b')\n",
        "        ax[4].set_title('Y_a')\n",
        "        ax[5].set_title('B_')\n",
        "        plt.show()\n",
        "    return X_b, Y_a\n",
        "\n"
      ],
      "metadata": {
        "id": "Hb8JXtUUemKj"
      },
      "execution_count": 15,
      "outputs": []
    },
    {
      "cell_type": "code",
      "source": [
        "to_plot = False\n",
        "verbose = True\n",
        "n = 20\n",
        "k = 40\n",
        "j = 30\n",
        "l_dim = 10\n",
        "\n",
        "A_ = np.random.rand(n,k)\n",
        "B_ = np.random.rand(n,j)\n",
        "\n",
        "X_ = np.random.rand(l_dim,k)\n",
        "Y_ = np.random.rand(l_dim,j)\n",
        "\n",
        "\n",
        "for i_ in range(20):\n",
        "    X_, Y_ = als_round(A_,B_,X_,Y_,to_plot=to_plot,verbose = verbose)"
      ],
      "metadata": {
        "colab": {
          "base_uri": "https://localhost:8080/"
        },
        "id": "-aD6DF-4j5Ei",
        "outputId": "086092b2-d2fd-4121-9ef9-e0cf7974c8a9"
      },
      "execution_count": 16,
      "outputs": [
        {
          "output_type": "stream",
          "name": "stdout",
          "text": [
            "5.505240690282272 4.611608939742858 1.225300392616809\n",
            "5.328429508957839 3.9877281370350133 1.452653097155016\n",
            "5.276283197555785 3.8596417327818986 1.8477780419609986\n",
            "5.252175074228402 3.830444896899812 2.442598692935043\n",
            "5.237551207354895 3.8219770671806015 3.3324430519334127\n",
            "5.2284376095458525 3.8180695014932313 4.632663756348805\n",
            "5.222947219739562 3.815877582565043 6.51894115242327\n",
            "5.219809778333196 3.8146565622790267 9.253669529798534\n",
            "5.218156789766071 3.814051240986217 13.22546483864094\n",
            "5.217413065844994 3.8138317984559684 19.009028200278365\n",
            "5.217207965773298 3.8138419686451916 27.45463325374597\n",
            "5.217307589416242 3.8139781927688903 39.82139247255552\n",
            "5.21756700775148 3.814174574936646 57.975558155478\n",
            "5.217898213363578 3.8143910576638005 84.68557464420219\n",
            "5.218249195318192 3.814604609352925 124.06113766347586\n",
            "5.218590477246855 3.814803021238499 182.20664704673786\n",
            "5.218906526541737 3.814980729253501 268.19388474420487\n",
            "5.219190300139275 3.8151360925377378 395.5100530468915\n",
            "5.219439797919049 3.8152696686712524 584.213722368589\n",
            "5.219655898160568 3.8153831480424487 864.1450583005789\n"
          ]
        }
      ]
    }
  ]
}