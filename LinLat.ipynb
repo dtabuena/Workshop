{
  "nbformat": 4,
  "nbformat_minor": 0,
  "metadata": {
    "colab": {
      "provenance": [],
      "authorship_tag": "ABX9TyONxWqiFHKImvZ1SjdGm3Is",
      "include_colab_link": true
    },
    "kernelspec": {
      "name": "python3",
      "display_name": "Python 3"
    },
    "language_info": {
      "name": "python"
    }
  },
  "cells": [
    {
      "cell_type": "markdown",
      "metadata": {
        "id": "view-in-github",
        "colab_type": "text"
      },
      "source": [
        "<a href=\"https://colab.research.google.com/github/dtabuena/Workshop/blob/main/LinLat.ipynb\" target=\"_parent\"><img src=\"https://colab.research.google.com/assets/colab-badge.svg\" alt=\"Open In Colab\"/></a>"
      ]
    },
    {
      "cell_type": "code",
      "execution_count": 23,
      "metadata": {
        "id": "WdyebgckYy7W"
      },
      "outputs": [],
      "source": [
        "import numpy as np\n",
        "from matplotlib import pyplot as plt"
      ]
    },
    {
      "cell_type": "code",
      "source": [],
      "metadata": {
        "id": "pT8Yd4medkxq"
      },
      "execution_count": 1,
      "outputs": []
    },
    {
      "cell_type": "code",
      "source": [
        "n = 20\n",
        "k = 40\n",
        "j = 30\n",
        "l_dim = 10\n",
        "\n",
        "A_ = np.random.rand(k,n)\n",
        "B_ = np.random.rand(j,n)\n",
        "\n",
        "L_ = np.random.rand(l_dim,n)\n",
        "L_inv = np.linalg.pinv(L_)\n",
        "\n",
        "X_ = np.dot(A_,L_inv)\n",
        "Y_ = np.dot(B_,L_inv)\n",
        "\n",
        "\n"
      ],
      "metadata": {
        "id": "qM1d-A_eZA0Q"
      },
      "execution_count": 41,
      "outputs": []
    },
    {
      "cell_type": "code",
      "source": [
        "\n",
        "def als_round(A_,B_,X_,Y_,L_,to_plot=False):\n",
        "    X_inv = np.linalg.pinv(X_)\n",
        "    L_ax = np.dot(X_inv,A_)\n",
        "\n",
        "    Y_inv = np.linalg.pinv(Y_)\n",
        "    L_by = np.dot(Y_inv,B_)\n",
        "\n",
        "    L_ax_inv = np.linalg.pinv(L_ax)\n",
        "    Y_ab = np.dot(B_,L_ax_inv)\n",
        "\n",
        "    L_by_inv = np.linalg.pinv(L_by)\n",
        "    X_ba = np.dot(A_,L_by_inv)\n",
        "\n",
        "    A_ab = np.dot(X_ba,L_ax)\n",
        "    B_ba = np.dot(Y_ab,L_by)\n",
        "\n",
        "    A_er = np.linalg.norm(A_-A_ab)\n",
        "    B_er= np.linalg.norm(B_-B_ba)\n",
        "    print(A_er,B_er)\n",
        "\n",
        "    if to_plot:\n",
        "        fig,ax = plt.subplots(1,6,figsize=(12,2))\n",
        "        ax[0].imshow(A_)\n",
        "        ax[1].imshow(X_ba)\n",
        "        ax[2].imshow(L_ax)\n",
        "        ax[3].imshow(L_by)\n",
        "        ax[4].imshow(Y_ab)\n",
        "        ax[5].imshow(B_)\n",
        "    return X_ba, Y_ab\n",
        "\n"
      ],
      "metadata": {
        "id": "Hb8JXtUUemKj"
      },
      "execution_count": 63,
      "outputs": []
    },
    {
      "cell_type": "code",
      "source": [
        "to_plot = False\n",
        "n = 20\n",
        "k = 40\n",
        "j = 30\n",
        "l_dim = 10\n",
        "\n",
        "A_ = np.random.rand(k,n)\n",
        "B_ = np.random.rand(j,n)\n",
        "\n",
        "L_ = np.random.rand(l_dim,n)\n",
        "L_inv = np.linalg.pinv(L_)\n",
        "\n",
        "X_ = np.dot(A_,L_inv)\n",
        "Y_ = np.dot(B_,L_inv)\n",
        "\n",
        "for i_ in range(20):\n",
        "    X_, Y_ = als_round(A_,B_,X_,Y_,L_,to_plot=to_plot)"
      ],
      "metadata": {
        "colab": {
          "base_uri": "https://localhost:8080/"
        },
        "id": "-aD6DF-4j5Ei",
        "outputId": "58ceb1c5-3aba-4caf-eaab-07fe290d68f1"
      },
      "execution_count": 64,
      "outputs": [
        {
          "output_type": "stream",
          "name": "stdout",
          "text": [
            "6.092349770837464 4.901591423624764\n",
            "5.655039461912473 4.611121567441254\n",
            "6.038751882848775 4.8525799964266385\n",
            "6.1988366172164175 5.111095171397777\n",
            "6.668572244043586 5.3780218322245394\n",
            "7.060618257744212 6.138385017126517\n",
            "8.270724082017242 6.288551347006969\n",
            "8.29305877440813 8.082639681714603\n",
            "11.320335186011741 7.732989089643923\n",
            "10.129697336202156 11.658534615700486\n",
            "16.700170973558407 10.023694618594094\n",
            "12.945340524154114 18.104299893580198\n",
            "25.953909036090714 13.594478933350336\n",
            "17.28548769226656 29.531524153754262\n",
            "41.80926544646595 19.063814535919338\n",
            "23.937175827527735 49.45635665842827\n",
            "68.95011648305751 27.328694134190904\n",
            "34.01786337877499 83.80903740098351\n",
            "115.33650424673974 39.69270107859432\n",
            "49.125244693457226 142.68756067678441\n"
          ]
        }
      ]
    }
  ]
}