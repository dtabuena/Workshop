{
  "nbformat": 4,
  "nbformat_minor": 0,
  "metadata": {
    "colab": {
      "provenance": [],
      "authorship_tag": "ABX9TyOyZEu4hEku2O3Thi0DyqVH",
      "include_colab_link": true
    },
    "kernelspec": {
      "name": "python3",
      "display_name": "Python 3"
    },
    "language_info": {
      "name": "python"
    }
  },
  "cells": [
    {
      "cell_type": "markdown",
      "metadata": {
        "id": "view-in-github",
        "colab_type": "text"
      },
      "source": [
        "<a href=\"https://colab.research.google.com/github/dtabuena/Workshop/blob/main/KEGG_DATA.ipynb\" target=\"_parent\"><img src=\"https://colab.research.google.com/assets/colab-badge.svg\" alt=\"Open In Colab\"/></a>"
      ]
    },
    {
      "cell_type": "code",
      "execution_count": 53,
      "metadata": {
        "colab": {
          "base_uri": "https://localhost:8080/"
        },
        "id": "0XgkUR8nPC0J",
        "outputId": "5c8097ac-adb8-4342-c976-9d61eba3c520"
      },
      "outputs": [
        {
          "output_type": "stream",
          "name": "stdout",
          "text": [
            "Requirement already satisfied: keggtools in c:\\users\\dennis.tabuena\\appdata\\local\\anaconda3\\envs\\go_term_env\\lib\\site-packages (1.0.2)\n",
            "Requirement already satisfied: pydot in c:\\users\\dennis.tabuena\\appdata\\local\\anaconda3\\envs\\go_term_env\\lib\\site-packages (from keggtools) (1.4.2)\n",
            "Requirement already satisfied: requests in c:\\users\\dennis.tabuena\\appdata\\local\\anaconda3\\envs\\go_term_env\\lib\\site-packages (from keggtools) (2.31.0)\n",
            "Requirement already satisfied: scipy in c:\\users\\dennis.tabuena\\appdata\\local\\anaconda3\\envs\\go_term_env\\lib\\site-packages (from keggtools) (1.11.3)\n",
            "Requirement already satisfied: pyparsing>=2.1.4 in c:\\users\\dennis.tabuena\\appdata\\local\\anaconda3\\envs\\go_term_env\\lib\\site-packages (from pydot->keggtools) (3.1.1)\n",
            "Requirement already satisfied: charset-normalizer<4,>=2 in c:\\users\\dennis.tabuena\\appdata\\local\\anaconda3\\envs\\go_term_env\\lib\\site-packages (from requests->keggtools) (3.3.2)\n",
            "Requirement already satisfied: idna<4,>=2.5 in c:\\users\\dennis.tabuena\\appdata\\local\\anaconda3\\envs\\go_term_env\\lib\\site-packages (from requests->keggtools) (3.4)\n",
            "Requirement already satisfied: urllib3<3,>=1.21.1 in c:\\users\\dennis.tabuena\\appdata\\local\\anaconda3\\envs\\go_term_env\\lib\\site-packages (from requests->keggtools) (2.1.0)\n",
            "Requirement already satisfied: certifi>=2017.4.17 in c:\\users\\dennis.tabuena\\appdata\\local\\anaconda3\\envs\\go_term_env\\lib\\site-packages (from requests->keggtools) (2023.7.22)\n",
            "Requirement already satisfied: numpy<1.28.0,>=1.21.6 in c:\\users\\dennis.tabuena\\appdata\\local\\anaconda3\\envs\\go_term_env\\lib\\site-packages (from scipy->keggtools) (1.26.2)\n"
          ]
        }
      ],
      "source": [
        "!pip install keggtools"
      ]
    },
    {
      "cell_type": "code",
      "source": [
        "import keggtools as kt\n",
        "\n",
        "ORGANISM_ID = \"mmu\"\n",
        "resolver = kt.Resolver()\n"
      ],
      "metadata": {
        "id": "AdRhw-drPcbW"
      },
      "execution_count": 54,
      "outputs": []
    },
    {
      "cell_type": "code",
      "source": [
        "mmu_all = resolver.get_pathway_list(\"mmu\")"
      ],
      "metadata": {
        "id": "tIXJwQ2Jc-Qc"
      },
      "execution_count": null,
      "outputs": []
    },
    {
      "cell_type": "code",
      "source": [
        "from tqdm import tqdm"
      ],
      "metadata": {
        "id": "IpCn3hJedx0V"
      },
      "execution_count": 59,
      "outputs": []
    },
    {
      "cell_type": "code",
      "source": [
        "mmu_all = resolver.get_pathway_list(\"mmu\")\n",
        "path_list = list()\n",
        "for path_key in tqdm( mmu_all.keys() ):\n",
        "    try:\n",
        "        path_list.append(resolver.get_pathway(organism=ORGANISM_ID, code=path_key.split(ORGANISM_ID)[-1]))\n",
        "    except: None\n"
      ],
      "metadata": {
        "id": "OifzT4CkZwrK",
        "colab": {
          "base_uri": "https://localhost:8080/"
        },
        "outputId": "6b4c1c59-5bb1-47e6-b655-3ec78a02f2fa"
      },
      "execution_count": 60,
      "outputs": [
        {
          "output_type": "stream",
          "name": "stderr",
          "text": [
            "100%|████████████████████████████████████████████████████████████████████████████████| 352/352 [00:05<00:00, 61.38it/s]\n"
          ]
        }
      ]
    },
    {
      "cell_type": "code",
      "source": [
        "big_gene_dict={}\n",
        "for pathway in [path_list[0]]:\n",
        "    pathway_gene_kegg_ids = [e.name.split(\" \") for e in pathway.entries if 'gene' in e.type]\n",
        "    pathway_gene_dicts = [  kt.resolver.get_gene_names(g) for g in pathway_gene_kegg_ids ]\n",
        "    pathway_gene_dicts = dict(collections.ChainMap(*pathway_gene_dicts))\n",
        "    pathway_gene_dicts = { k:v.split(\";\")[0] for k,v in pathway_gene_dicts.items()}\n",
        "\n",
        "\n",
        "\n",
        "\n",
        ""
      ],
      "metadata": {
        "id": "tqRLg3YJhzrx"
      },
      "execution_count": null,
      "outputs": []
    },
    {
      "cell_type": "code",
      "source": [],
      "metadata": {
        "id": "05yIpH5kQvf2"
      },
      "execution_count": null,
      "outputs": []
    },
    {
      "cell_type": "code",
      "source": [
        "# gene_dict = kt.resolver.get_gene_names(genes=gene_kegg_ids[0])\n",
        "# gene_dict"
      ],
      "metadata": {
        "colab": {
          "base_uri": "https://localhost:8080/"
        },
        "id": "6SUE56qyh8Gh",
        "outputId": "65edd9e5-a60e-41a0-8839-a4e49f593253"
      },
      "execution_count": 91,
      "outputs": [
        {
          "output_type": "execute_result",
          "data": {
            "text/plain": [
              "{'mmu:18648': 'Pgam1', 'mmu:56012': 'Pgam2; phosphoglycerate mutase 2'}"
            ]
          },
          "metadata": {},
          "execution_count": 91
        }
      ]
    },
    {
      "cell_type": "code",
      "source": [
        "all_gene_dicts = [  kt.resolver.get_gene_names(g) for g in gene_kegg_ids ]\n",
        "\n",
        "# gene_dict_all = [         ]"
      ],
      "metadata": {
        "id": "s2kDEx-KOkT7"
      },
      "execution_count": 94,
      "outputs": []
    },
    {
      "cell_type": "code",
      "source": [
        "import collections\n",
        "big_gene_dict = dict(collections.ChainMap(*all_gene_dicts))\n",
        "big_gene_dict = { k:v.split(\";\")[0] for k,v in big_gene_dict.items()}"
      ],
      "metadata": {
        "id": "AjVOY3IrNgN0"
      },
      "execution_count": 100,
      "outputs": []
    },
    {
      "cell_type": "code",
      "source": [
        "print(len(big_gene_dict))"
      ],
      "metadata": {
        "colab": {
          "base_uri": "https://localhost:8080/"
        },
        "id": "M7T8EHNYP4yd",
        "outputId": "a77992bf-802e-45b5-f8bf-b3c0c36982c5"
      },
      "execution_count": 102,
      "outputs": [
        {
          "output_type": "stream",
          "name": "stdout",
          "text": [
            "121\n"
          ]
        }
      ]
    },
    {
      "cell_type": "code",
      "source": [
        "analysis = kt.Enrichment(pathways=path_list)\n",
        "study_genes =sym_to_entrz['Nell2']\n",
        "analysis.run_analysis(gene_list=[study_genes])"
      ],
      "metadata": {
        "id": "zORa3XnpQAb_"
      },
      "execution_count": null,
      "outputs": []
    },
    {
      "cell_type": "code",
      "source": [
        "import pandas as pd"
      ],
      "metadata": {
        "id": "CUV0oiwxUePx"
      },
      "execution_count": null,
      "outputs": []
    },
    {
      "cell_type": "code",
      "source": [
        "x=pd.read_csv(\"C:/Users/dennis.tabuena/Dropbox (Gladstone)/0_Projects/_Hyper+Crisper/_Nell2_enrichment/New folder/musmus_gene_result.txt\",sep='\\t', lineterminator='\\r')"
      ],
      "metadata": {
        "id": "yihnyW3UUK0j"
      },
      "execution_count": null,
      "outputs": []
    },
    {
      "cell_type": "code",
      "source": [
        "GeneID = x['GeneID'].values\n",
        "Symbol = x['Symbol'].values\n",
        "sym_to_entrz={ key:value for _, (key, value) in enumerate(zip(Symbol, GeneID)) }\n",
        "sym_to_entrz['Apoe']"
      ],
      "metadata": {
        "colab": {
          "base_uri": "https://localhost:8080/"
        },
        "id": "G44dhBxPXfTz",
        "outputId": "0f1d6c6b-68c2-425c-9326-b8cb3f437c34"
      },
      "execution_count": null,
      "outputs": [
        {
          "output_type": "execute_result",
          "data": {
            "text/plain": [
              "11816"
            ]
          },
          "metadata": {},
          "execution_count": 19
        }
      ]
    }
  ]
}