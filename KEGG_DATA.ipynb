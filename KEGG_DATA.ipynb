{
  "nbformat": 4,
  "nbformat_minor": 0,
  "metadata": {
    "colab": {
      "provenance": [],
      "authorship_tag": "ABX9TyMXbkd0AMeMx/Iw9Eixj7Tc",
      "include_colab_link": true
    },
    "kernelspec": {
      "name": "python3",
      "display_name": "Python 3"
    },
    "language_info": {
      "name": "python"
    }
  },
  "cells": [
    {
      "cell_type": "markdown",
      "metadata": {
        "id": "view-in-github",
        "colab_type": "text"
      },
      "source": [
        "<a href=\"https://colab.research.google.com/github/dtabuena/Workshop/blob/main/KEGG_DATA.ipynb\" target=\"_parent\"><img src=\"https://colab.research.google.com/assets/colab-badge.svg\" alt=\"Open In Colab\"/></a>"
      ]
    },
    {
      "cell_type": "code",
      "execution_count": 122,
      "metadata": {
        "colab": {
          "base_uri": "https://localhost:8080/"
        },
        "id": "0XgkUR8nPC0J",
        "outputId": "e6f411ca-4037-49f9-bd50-bd1dbd726998"
      },
      "outputs": [
        {
          "output_type": "stream",
          "name": "stdout",
          "text": [
            "Requirement already satisfied: keggtools in c:\\users\\dennis.tabuena\\appdata\\local\\anaconda3\\envs\\go_term_env\\lib\\site-packages (1.0.2)\n",
            "Requirement already satisfied: pydot in c:\\users\\dennis.tabuena\\appdata\\local\\anaconda3\\envs\\go_term_env\\lib\\site-packages (from keggtools) (1.4.2)\n",
            "Requirement already satisfied: requests in c:\\users\\dennis.tabuena\\appdata\\local\\anaconda3\\envs\\go_term_env\\lib\\site-packages (from keggtools) (2.31.0)\n",
            "Requirement already satisfied: scipy in c:\\users\\dennis.tabuena\\appdata\\local\\anaconda3\\envs\\go_term_env\\lib\\site-packages (from keggtools) (1.11.3)\n",
            "Requirement already satisfied: pyparsing>=2.1.4 in c:\\users\\dennis.tabuena\\appdata\\local\\anaconda3\\envs\\go_term_env\\lib\\site-packages (from pydot->keggtools) (3.1.1)\n",
            "Requirement already satisfied: charset-normalizer<4,>=2 in c:\\users\\dennis.tabuena\\appdata\\local\\anaconda3\\envs\\go_term_env\\lib\\site-packages (from requests->keggtools) (3.3.2)\n",
            "Requirement already satisfied: idna<4,>=2.5 in c:\\users\\dennis.tabuena\\appdata\\local\\anaconda3\\envs\\go_term_env\\lib\\site-packages (from requests->keggtools) (3.4)\n",
            "Requirement already satisfied: urllib3<3,>=1.21.1 in c:\\users\\dennis.tabuena\\appdata\\local\\anaconda3\\envs\\go_term_env\\lib\\site-packages (from requests->keggtools) (2.1.0)\n",
            "Requirement already satisfied: certifi>=2017.4.17 in c:\\users\\dennis.tabuena\\appdata\\local\\anaconda3\\envs\\go_term_env\\lib\\site-packages (from requests->keggtools) (2023.7.22)\n",
            "Requirement already satisfied: numpy<1.28.0,>=1.21.6 in c:\\users\\dennis.tabuena\\appdata\\local\\anaconda3\\envs\\go_term_env\\lib\\site-packages (from scipy->keggtools) (1.26.2)\n"
          ]
        }
      ],
      "source": [
        "!pip install keggtools"
      ]
    },
    {
      "cell_type": "code",
      "source": [
        "import keggtools as kt\n"
      ],
      "metadata": {
        "id": "AdRhw-drPcbW"
      },
      "execution_count": 123,
      "outputs": []
    },
    {
      "cell_type": "code",
      "source": [
        "\n",
        "def get_all_path_dicts(str: ORGANISM_ID) -> (dict, list):\n",
        "    import collections\n",
        "    from tqdm import tqdm\n",
        "    resolver = kt.Resolver()\n",
        "    org_all = resolver.get_pathway_list(ORGANISM_ID)\n",
        "    path_list = list()\n",
        "    for path_key in tqdm( org_all.keys() ):\n",
        "        try:\n",
        "            path_list.append(resolver.get_pathway(organism=ORGANISM_ID, code=path_key.split(ORGANISM_ID)[-1]))\n",
        "        except: None\n",
        "\n",
        "    all_pathway_dicts={}\n",
        "    for pathway in path_list:\n",
        "        pathway_gene_kegg_ids = [e.name.split(\" \") for e in pathway.entries if 'gene' in e.type]\n",
        "        pathway_gene_dicts = [  kt.resolver.get_gene_names(g) for g in pathway_gene_kegg_ids ]\n",
        "        pathway_gene_dicts = dict(collections.ChainMap(*pathway_gene_dicts))\n",
        "        pathway_gene_dicts = { k:v.split(\";\")[0] for k,v in pathway_gene_dicts.items()}\n",
        "        all_pathway_dicts[pathway.name.split(\":\")[-1]] = pathway_gene_dicts\n",
        "\n",
        "    return all_pathway_dicts, path_list\n",
        "\n",
        "\n",
        "all_pathway_dicts, path_list = get_all_path_dicts(\"mmu\")"
      ],
      "metadata": {
        "colab": {
          "base_uri": "https://localhost:8080/",
          "height": 141
        },
        "id": "tqRLg3YJhzrx",
        "outputId": "9df2e623-55d2-4391-ed5e-b5638facb4d3"
      },
      "execution_count": 125,
      "outputs": [
        {
          "output_type": "error",
          "ename": "IndentationError",
          "evalue": "ignored",
          "traceback": [
            "\u001b[1;36m  File \u001b[1;32m<tokenize>:23\u001b[1;36m\u001b[0m\n\u001b[1;33m    all_pathway_dicts, path_list = get_all_path_dicts(\"mmu\")\u001b[0m\n\u001b[1;37m    ^\u001b[0m\n\u001b[1;31mIndentationError\u001b[0m\u001b[1;31m:\u001b[0m unindent does not match any outer indentation level\n"
          ]
        }
      ]
    }
  ]
}