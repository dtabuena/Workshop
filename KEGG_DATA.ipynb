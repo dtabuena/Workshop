{
  "nbformat": 4,
  "nbformat_minor": 0,
  "metadata": {
    "colab": {
      "provenance": [],
      "authorship_tag": "ABX9TyP+xOcmZp3oTz3LQW3LL5eh",
      "include_colab_link": true
    },
    "kernelspec": {
      "name": "python3",
      "display_name": "Python 3"
    },
    "language_info": {
      "name": "python"
    }
  },
  "cells": [
    {
      "cell_type": "markdown",
      "metadata": {
        "id": "view-in-github",
        "colab_type": "text"
      },
      "source": [
        "<a href=\"https://colab.research.google.com/github/dtabuena/Workshop/blob/main/KEGG_DATA.ipynb\" target=\"_parent\"><img src=\"https://colab.research.google.com/assets/colab-badge.svg\" alt=\"Open In Colab\"/></a>"
      ]
    },
    {
      "cell_type": "code",
      "execution_count": 1,
      "metadata": {
        "colab": {
          "base_uri": "https://localhost:8080/"
        },
        "id": "0XgkUR8nPC0J",
        "outputId": "4f2bd88b-623f-4428-c7a6-e3bfa86d788c"
      },
      "outputs": [
        {
          "output_type": "stream",
          "name": "stdout",
          "text": [
            "Collecting keggtools\n",
            "  Obtaining dependency information for keggtools from https://files.pythonhosted.org/packages/eb/82/756e05d396d0c479c156b1da4197d7b18e7b46a46a6192cbc394d070bd86/keggtools-1.0.2-py3-none-any.whl.metadata\n",
            "  Using cached keggtools-1.0.2-py3-none-any.whl.metadata (3.6 kB)\n",
            "Collecting pydot (from keggtools)\n",
            "  Using cached pydot-1.4.2-py2.py3-none-any.whl (21 kB)\n",
            "Requirement already satisfied: requests in c:\\users\\dennis.tabuena\\appdata\\local\\anaconda3\\lib\\site-packages (from keggtools) (2.31.0)\n",
            "Requirement already satisfied: scipy in c:\\users\\dennis.tabuena\\appdata\\local\\anaconda3\\lib\\site-packages (from keggtools) (1.11.1)\n",
            "Requirement already satisfied: pyparsing>=2.1.4 in c:\\users\\dennis.tabuena\\appdata\\local\\anaconda3\\lib\\site-packages (from pydot->keggtools) (3.0.9)\n",
            "Requirement already satisfied: charset-normalizer<4,>=2 in c:\\users\\dennis.tabuena\\appdata\\local\\anaconda3\\lib\\site-packages (from requests->keggtools) (2.0.4)\n",
            "Requirement already satisfied: idna<4,>=2.5 in c:\\users\\dennis.tabuena\\appdata\\local\\anaconda3\\lib\\site-packages (from requests->keggtools) (3.4)\n",
            "Requirement already satisfied: urllib3<3,>=1.21.1 in c:\\users\\dennis.tabuena\\appdata\\local\\anaconda3\\lib\\site-packages (from requests->keggtools) (1.26.16)\n",
            "Requirement already satisfied: certifi>=2017.4.17 in c:\\users\\dennis.tabuena\\appdata\\local\\anaconda3\\lib\\site-packages (from requests->keggtools) (2023.7.22)\n",
            "Requirement already satisfied: numpy<1.28.0,>=1.21.6 in c:\\users\\dennis.tabuena\\appdata\\local\\anaconda3\\lib\\site-packages (from scipy->keggtools) (1.24.3)\n",
            "Using cached keggtools-1.0.2-py3-none-any.whl (27 kB)\n",
            "Installing collected packages: pydot, keggtools\n",
            "Successfully installed keggtools-1.0.2 pydot-1.4.2\n"
          ]
        }
      ],
      "source": [
        "!pip install keggtools"
      ]
    },
    {
      "cell_type": "code",
      "source": [
        "import keggtools as kt\n"
      ],
      "metadata": {
        "id": "AdRhw-drPcbW"
      },
      "execution_count": 2,
      "outputs": []
    },
    {
      "cell_type": "code",
      "source": [
        "\n",
        "def get_all_path_dicts(ORGANISM_ID: str) -> (dict, list):\n",
        "    import collections\n",
        "    from tqdm import tqdm\n",
        "    resolver = kt.Resolver()\n",
        "    org_all = resolver.get_pathway_list(ORGANISM_ID)\n",
        "    path_list = list()\n",
        "    for path_key in tqdm( org_all.keys() ):\n",
        "        try:\n",
        "            path_list.append(resolver.get_pathway(organism=ORGANISM_ID, code=path_key.split(ORGANISM_ID)[-1]))\n",
        "        except: None\n",
        "\n",
        "    all_pathway_dicts={}\n",
        "    for pathway in tqdm( path_list):\n",
        "        pathway_gene_kegg_ids = [e.name.split(\" \") for e in pathway.entries if 'gene' in e.type]\n",
        "        pathway_gene_dicts = [  kt.resolver.get_gene_names(g) for g in pathway_gene_kegg_ids ]\n",
        "        pathway_gene_dicts = dict(collections.ChainMap(*pathway_gene_dicts))\n",
        "        pathway_gene_dicts = { k:v.split(\";\")[0] for k,v in pathway_gene_dicts.items()}\n",
        "        all_pathway_dicts[pathway.name.split(\":\")[-1]] = pathway_gene_dicts\n",
        "\n",
        "    return all_pathway_dicts, path_list\n",
        "\n",
        "\n",
        "all_pathway_dicts, path_list = get_all_path_dicts(\"mmu\")"
      ],
      "metadata": {
        "colab": {
          "base_uri": "https://localhost:8080/"
        },
        "id": "tqRLg3YJhzrx",
        "outputId": "6741d41e-1d25-4f5c-893c-d8f2f7f95de2"
      },
      "execution_count": null,
      "outputs": [
        {
          "output_type": "stream",
          "name": "stderr",
          "text": [
            "100%|███████████████████████████████████████████████████████████████████████████████| 352/352 [00:01<00:00, 185.20it/s]\n",
            "  5%|███▋                                                                           | 16/346 [27:22<5:15:30, 57.36s/it]"
          ]
        }
      ]
    },
    {
      "cell_type": "code",
      "source": [
        "import json\n",
        "\n",
        "with open(f\"./KEGG_Gene.json\",'w') as outfile:\n",
        "    outfile.write( json.dumps(all_pathway_dicts, indent=4) )"
      ],
      "metadata": {
        "id": "3fHHoixHwxIb"
      },
      "execution_count": null,
      "outputs": []
    }
  ]
}