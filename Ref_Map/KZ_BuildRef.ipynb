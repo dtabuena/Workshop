{
  "cells": [
    {
      "cell_type": "markdown",
      "metadata": {
        "id": "view-in-github",
        "colab_type": "text"
      },
      "source": [
        "<a href=\"https://colab.research.google.com/github/dtabuena/Workshop/blob/main/Ref_Map/KZ_BuildRef.ipynb\" target=\"_parent\"><img src=\"https://colab.research.google.com/assets/colab-badge.svg\" alt=\"Open In Colab\"/></a>"
      ]
    },
    {
      "cell_type": "code",
      "execution_count": null,
      "id": "b294428a",
      "metadata": {
        "id": "b294428a",
        "scrolled": true,
        "tags": []
      },
      "outputs": [],
      "source": [
        "!pip install scanpy --quiet\n",
        "!pip install pybiomart --quiet\n",
        "!pip install python-igraph --quiet\n",
        "!pip install louvain --quiet\n",
        "!pip install pynndescent --quiet\n",
        "!pip install gprofiler-official --quiet"
      ]
    },
    {
      "cell_type": "code",
      "source": [
        "import h5py\n",
        "import numpy as np\n",
        "import scipy as sci\n",
        "from matplotlib import pyplot as plt\n",
        "import scanpy as sc\n",
        "import tarfile\n",
        "import os\n",
        "import anndata as ad\n",
        "import pandas as pd\n",
        "import pybiomart\n",
        "from tqdm import tqdm\n",
        "import urllib.request\n",
        "from IPython.display import clear_output\n",
        "from matplotlib.pyplot import rc_context\n",
        "import logging\n",
        "import seaborn as sns\n",
        "import gprofiler\n",
        "\n",
        "\n",
        "logging.Logger('my_log').setLevel('INFO')\n",
        "\n",
        "############# SPECIFIC CONFIG #############\n",
        "working_dir = r\"C:\\Users\\dennis.tabuena\\Gladstone Dropbox\\Dennis Tabuena\\0_Projects\\_SeqRef\"\n",
        "os.chdir(working_dir)\n",
        "zalocusky_url = 'https://www.ncbi.nlm.nih.gov/geo/download/?acc=GSE167497&format=file'\n",
        "geo_zalo_filename = 'zalocusky_indiv.tar'\n",
        "\n",
        "import urllib\n",
        "response = urllib.request.urlretrieve('https://raw.githubusercontent.com/dtabuena/Resources/main/Matplotlib_Config/Load_FS6.py','Load_FS6.py')\n",
        "%run Load_FS6.py\n",
        "\n"
      ],
      "metadata": {
        "id": "YoAmeyEda0Sq"
      },
      "id": "YoAmeyEda0Sq",
      "execution_count": null,
      "outputs": []
    },
    {
      "cell_type": "code",
      "execution_count": null,
      "id": "4514aef3",
      "metadata": {
        "id": "4514aef3",
        "tags": []
      },
      "outputs": [],
      "source": [
        "def trim_key(k):\n",
        "    floxed_dict = {'GSM5106175_YH_KZ03_01':('E3fKI_Syn_Cre602_15m','GSM5106175_602_E3fKI_15_XX'),\n",
        "                   'GSM5106176_YH_KZ03_03':('E4fKI_Syn_Cre475_15m','GSM5106176_475_E4fKI_15_XX')}\n",
        "    for f in floxed_dict.keys():\n",
        "        if f in k: return floxed_dict[f][1]\n",
        "    k = k.replace('_raw_gene_bc_matrices_h5.h5',\"\")\n",
        "    return k\n",
        "\n",
        "def query_capitilaziation(gene,adata):\n",
        "    try:\n",
        "        return adata.var.index[ [g.lower() for g in list(adata.var.index)].index(gene.lower()) ]\n",
        "    except:\n",
        "        return gene + ' not_found'\n",
        "\n",
        "def z_score(x,axis=-1):\n",
        "    x=np.array(x)\n",
        "    return (x-np.mean(x,axis=axis))/np.std(x,axis=axis)\n",
        "\n"
      ]
    },
    {
      "cell_type": "code",
      "execution_count": null,
      "id": "c5a6ad5b",
      "metadata": {
        "tags": [],
        "id": "c5a6ad5b"
      },
      "outputs": [],
      "source": [
        "def pull_gene_annots(csv_loc='./mmusculus_coding_noncoding.csv',\n",
        "                     my_git='https://raw.githubusercontent.com/dtabuena/Resources/main/Genetics/mmusculus_coding_noncoding.csv',\n",
        "                     biomart_name='mmusculus',\n",
        "                     biomart_keys=[\"ensembl_gene_id\", \"chromosome_name\",\"transcript_biotype\",\"external_gene_name\",\"peptide\"]):\n",
        "\n",
        "    if os.path.exists('./mmusculus_coding_noncoding.csv'):\n",
        "        print( 'Use local copy of musmus')\n",
        "        annot_dd = pd.read_csv('./mmusculus_coding_noncoding.csv').set_index(\"external_gene_name\")\n",
        "    else:\n",
        "        try:\n",
        "            print( 'attempting to pull mus mus from git...')\n",
        "            musmus_link = 'https://raw.githubusercontent.com/dtabuena/Resources/main/Genetics/mmusculus_coding_noncoding.csv'\n",
        "            filename = './mmusculus_coding_noncoding.csv'\n",
        "            urllib.request.urlretrieve(musmus_link, filename)\n",
        "            annot_dd = pd.read_csv('./mmusculus_coding_noncoding.csv').set_index(\"external_gene_name\")\n",
        "        except:\n",
        "            print('attempting to pull mus mus from biomart...')\n",
        "            annot = sc.queries.biomart_annotations(\"mmusculus\",[\"ensembl_gene_id\", \"chromosome_name\",\"transcript_biotype\",\"external_gene_name\"],).set_index('ensembl_gene_id')\n",
        "            uniq_inds = list(set(list(annot.index)))\n",
        "            for r in tqdm(uniq_inds):\n",
        "                match_bool = annot.index.str.contains(r)\n",
        "                if np.sum(match_bool)>1:\n",
        "                    new_val ='__'.join(list(annot.loc[r,'transcript_biotype']))\n",
        "                    annot.at[r,'transcript_biotype']=new_val\n",
        "            annot['is_coding']= annot.transcript_biotype.str.contains('coding')\n",
        "            annot_dd = annot.drop_duplicates().set_index(\"external_gene_name\")\n",
        "            annot_dd.to_csv('./mmusculus_coding_noncoding.csv')\n",
        "\n",
        "    coding_list = annot_dd.index[ annot_dd['is_coding'] ].to_list()\n",
        "    return coding_list, annot_dd\n",
        "\n",
        "\n",
        "def preprocess_andata10x(adata_og,pct_mito=0.25,min_genes=500,max_genes=2400,min_counts=500,max_counts=4500,keep_NC=False):\n",
        "\n",
        "    print('pulling gene annotations...')\n",
        "    coding_list, _ = pull_gene_annots()\n",
        "    adata_og.var['mt'] = adata_og.var_names.str.startswith('mt-')\n",
        "    adata_og.var['coding'] = [gene in coding_list for gene in adata_og.var_names]\n",
        "    sc.pp.calculate_qc_metrics(adata_og, qc_vars=['mt'], percent_top=None, log1p=False, inplace=True)\n",
        "\n",
        "    adata_QC = adata_og.copy()\n",
        "\n",
        "    print('Filtering...')\n",
        "    adata_QC = adata_QC[adata_QC.obs.pct_counts_mt < pct_mito, :]\n",
        "    print(str(np.sum(adata_og.obs.pct_counts_mt >pct_mito)) + f' cells with >{pct_mito}% mt removed')\n",
        "\n",
        "    if keep_NC:\n",
        "        print('keep noncoding')\n",
        "    else:\n",
        "        adata_QC = adata_QC[:, adata_QC.var.coding]\n",
        "        print(str(np.sum(np.logical_not(adata_og.var.coding))) + ' non coding genes removed')\n",
        "\n",
        "    sc.pp.filter_cells(adata_QC, min_genes=min_genes)\n",
        "    sc.pp.filter_cells(adata_QC, max_genes=max_genes)\n",
        "    sc.pp.filter_cells(adata_QC, min_counts=min_counts)\n",
        "    sc.pp.filter_cells(adata_QC, max_counts=max_counts)\n",
        "    fig,ax=plt.subplots(1,figsize=(1.5,1.5))\n",
        "    sc.pl.scatter(adata_QC, x='total_counts', y='n_genes_by_counts',ax=ax)\n",
        "\n",
        "    return adata_QC,adata_og\n",
        "\n",
        "def high_var_genes_dim_reduc(adata,min_mean = 0.25,max_mean = 4,min_disp=0.55):\n",
        "    ''' The gene expression matrices were then log-normalized with a scale factor of 10,000,\n",
        "    using the Seurat NormalizeData function57,58. Highly dispersed genes were selected using\n",
        "    the Seurat FindVariableGenes function57,58,filtering for an average expression range of\n",
        "    0.25–4 and a minimum dispersion of 0.55, resulting in a list of 2,197 genes.'''\n",
        "    adata.raw = adata\n",
        "    sc.pp.normalize_total(adata, target_sum=10000)\n",
        "    sc.pp.log1p(adata)\n",
        "    adata.uns['log1p'] = {'base': None}\n",
        "    print(adata.uns['log1p'])\n",
        "    sc.pp.highly_variable_genes(adata, min_mean=min_mean, max_mean=max_mean, min_disp=min_disp)\n",
        "    with rc_context({'figure.figsize': (1.5, 1.5)}):\n",
        "        sc.pl.highly_variable_genes(adata)\n",
        "    plt.tight_layout()\n",
        "    print(np.sum(adata.var['highly_variable']),'hv genes')\n",
        "\n",
        "\n",
        "    #### PCA\n",
        "    sc.tl.pca(adata, svd_solver='arpack',n_comps=50)\n",
        "    fig,ax=plt.subplots(figsize=(1,1))\n",
        "    ax.plot(adata.uns['pca']['variance_ratio'][:25],'ok',markersize=1)\n",
        "    quiet_PCA_plots(adata,['E_type','age_bin','mouse_ID'])\n",
        "\n",
        "    return adata\n",
        "\n",
        "def quiet_PCA_plots(adata,key_list,figsize=(1,1),pc_pairs=[(0,1),(2,3)]):\n",
        "    fig,ax=plt.subplots(1*len(pc_pairs),len(key_list),figsize=(figsize[0]*len(key_list),figsize[1]*len(pc_pairs)))\n",
        "    for ip,pair in enumerate(pc_pairs):\n",
        "        if len(key_list) == 1: ax=[ax]\n",
        "        for key_ind,key in enumerate(key_list):\n",
        "            key_types = sorted(list(set( adata.obs[key] )))\n",
        "            for k in key_types:\n",
        "                is_k = adata.obs[key]==k\n",
        "                ax[ip,key_ind].scatter(adata.obsm['X_pca'][is_k,pair[0]],adata.obsm['X_pca'][is_k,pair[1]],s=2,marker='.',linewidth=0,edgecolors=None,label=k)\n",
        "                ax[ip,key_ind].set_xlabel(f'PC{pair[0]}')\n",
        "                ax[ip,key_ind].set_ylabel(f'PC{pair[1]}')\n",
        "            if len(key_types)<8: ax[ip,key_ind].legend(key_types,loc='best',markerscale=3)\n",
        "            ax[ip,key_ind].set_title(key)\n",
        "            plt.tight_layout()\n",
        "    return None\n",
        "\n",
        "\n",
        "def umap_and_cluster(adata, n_neighbors=10, n_pcs=20,resolution=.6,plot_keys=['Cluster (nn)'],size = 1,to_plot=True):\n",
        "    sc.pp.neighbors(adata, n_neighbors=n_neighbors, n_pcs=n_pcs,random_state=42, use_rep='X_pca')\n",
        "    sc.tl.louvain(adata,resolution=resolution,random_state=42)\n",
        "    sc.tl.paga(adata)\n",
        "    sc.tl.umap(adata,random_state=42)\n",
        "    adata.obs['Cluster (nn)']= adata.obs['louvain']\n",
        "    if to_plot:\n",
        "        with rc_context({'figure.figsize': (2.5, 2.5)}):\n",
        "            sc.pl.umap(adata,add_outline=False, legend_loc='on data', color=plot_keys,size=size)\n",
        "    return adata\n",
        "\n",
        "def explore_umap(adata_GABA,key_list=[],size=1,legend_loc=None):\n",
        "    with rc_context({'figure.figsize': (1.5,1.5)}):\n",
        "        sc.pl.umap(adata_GABA, legend_loc=legend_loc, color=key_list,vmin=-0.5,size=size,cmap='Purples') # add_outline=True,\n",
        "        plt.tight_layout()\n",
        "\n",
        "\n",
        "\n",
        "\n",
        "# def marker_analysis(adata):\n",
        "#     #### Get Marker Genes\n",
        "#     sc.tl.rank_genes_groups(adata, 'louvain', method='wilcoxon',key_added='maker_genes',pts=True,use_raw =True)\n",
        "#     sc.tl.rank_genes_groups(adata, 'louvain', method='logreg',pts=True,use_raw =True)\n",
        "#     maker_genes_df = pd.DataFrame(adata.uns['maker_genes']['names'])\n",
        "#     maker_genes_df_LFC = pd.DataFrame(adata.uns['maker_genes']['logfoldchanges'])\n",
        "#     top_30 = maker_genes_df[:30]\n",
        "#     lfc_thresh=4\n",
        "#     marker_genes = [m for m in set(top_30[maker_genes_df_LFC[:30]>lfc_thresh].values.flatten()) if isinstance(m,str)]\n",
        "#     sc.pl.stacked_violin(adata, marker_genes, groupby='louvain');\n",
        "#     return marker_genes\n",
        "\n",
        "\n",
        "\n",
        "\n"
      ]
    },
    {
      "cell_type": "code",
      "source": [
        "\n",
        "def show_clusters(adata_GABA, key, cmap='tab20', legend_fontsize='small',size = 0.4,ncol=1,figsize=(3.5, 2.5)):\n",
        "    assert key in adata_GABA.obs, f\"Key '{key}' not found in adata_GABA.obs.\"\n",
        "\n",
        "    umap_coords = adata_GABA.obsm['X_umap']\n",
        "\n",
        "\n",
        "    # Create the figure with subplots for scatter and legend\n",
        "    fig, (ax_scatter, ax_legend) = plt.subplots(1, 2, figsize=figsize, gridspec_kw={'width_ratios': [5, 1]})\n",
        "\n",
        "    # Get cluster colors\n",
        "    colors = adata_GABA.obs[key].values.astype(float)\n",
        "    scatter = ax_scatter.scatter(\n",
        "        umap_coords[:, 0], umap_coords[:, 1],\n",
        "        c=colors, cmap=cmap, s=size, vmin=-0.5, edgecolor='none'  # Set edgecolor to 'none'\n",
        "    )\n",
        "\n",
        "    # Set equal aspect ratio to make axes square\n",
        "    ax_scatter.set_aspect('equal', adjustable='box')\n",
        "    ax_scatter.set_xlabel('umap 1',ha='left')\n",
        "    ax_scatter.xaxis.set_label_coords(0, 0.0)\n",
        "    ax_scatter.set_ylabel('umap 2',ha='left')\n",
        "    ax_scatter.yaxis.set_label_coords(0.0, 0)\n",
        "    ax_scatter.set_xticks([])\n",
        "    ax_scatter.set_yticks([])\n",
        "\n",
        "    unique_clusters = np.unique(colors)\n",
        "    handles = []\n",
        "    labels = []\n",
        "\n",
        "    # Create custom legend handles for unique clusters\n",
        "    for cluster in unique_clusters:\n",
        "        color_i = scatter.cmap(scatter.norm(cluster))\n",
        "        handle = plt.Line2D([], [], marker='o', linestyle='None', color=color_i,\n",
        "                             markerfacecolor=color_i,\n",
        "                             markersize=4.5)  # Smaller markers\n",
        "        handles.append(handle)\n",
        "        labels.append(f'Cluster {int(cluster)}')\n",
        "\n",
        "    # Turn off the axis for the legend subplot\n",
        "    ax_legend.axis('off')\n",
        "\n",
        "    # Add the custom legend to the legend axis with specified font size\n",
        "    ax_legend.legend(handles, labels, loc='center', fontsize=legend_fontsize, markerscale=0.75,\n",
        "                     ncol=ncol, frameon=False)\n",
        "    plt.tight_layout()\n",
        "    plt.show()\n",
        "\n",
        "    return fig, (ax_scatter, ax_legend)\n",
        "\n",
        "# Example calls to the function\n",
        "# show_clusters(adata_GABA, 'Cluster (nn)')\n",
        "\n",
        "\n",
        "def show_gene_loading(adata, gene, cmap='Purples',size = 0.4,alpha=0.8,figsize=(3, 1.5)):\n",
        "    assert gene in adata.var_names, f\"Gene '{gene}' not found in adata.var_names.\"\n",
        "\n",
        "    umap_coords = adata.obsm['X_umap']\n",
        "\n",
        "\n",
        "    # Get gene expression values for the specified gene\n",
        "    gene_expression = adata[:, gene].X.toarray().flatten()  # Convert to dense array and flatten\n",
        "\n",
        "    # Create the figure\n",
        "    fig = plt.figure(figsize=figsize)\n",
        "\n",
        "    # Define positions for scatter and colorbar axes\n",
        "    ax_scatter = fig.add_axes([0.0, 0.1, 0.5, 0.8])  # [left, bottom, width, height]\n",
        "    ax_cbar = fig.add_axes([0.50, 0.1, 0.01, 0.8])  # Slightly to the right of the scatter plot\n",
        "\n",
        "    # Scatter plot\n",
        "    scatter = ax_scatter.scatter(\n",
        "        umap_coords[:, 0], umap_coords[:, 1],\n",
        "        c=gene_expression, cmap=cmap, s=size, edgecolor='none',alpha=alpha,vmin=-.45,vmax=2.75)\n",
        "\n",
        "    # Set equal aspect ratio to make axes square\n",
        "    ax_scatter.set_aspect('equal', adjustable='box')\n",
        "    ax_scatter.set_xlabel('umap 1',ha='left')\n",
        "    ax_scatter.xaxis.set_label_coords(0, 0.0)\n",
        "    ax_scatter.set_ylabel('umap 2',ha='left')\n",
        "    ax_scatter.yaxis.set_label_coords(0.0, 0)\n",
        "    ax_scatter.set_xticks([])\n",
        "    ax_scatter.set_yticks([])\n",
        "\n",
        "    # Colorbar\n",
        "    cbar = fig.colorbar(scatter, cax=ax_cbar, orientation='vertical')\n",
        "    cbar.set_label(f'stdev/mean', rotation=270, labelpad=10)\n",
        "    ax_scatter.set_title(gene.upper())\n",
        "    # Ensure colorbar is labeled\n",
        "    # ax_cbar.set_ylabel(f'{gene} Expression', rotation=270, labelpad=10)\n",
        "\n",
        "    # Adjust layout and show the plot\n",
        "    plt.tight_layout()\n",
        "    plt.show()\n",
        "\n",
        "    return fig, (ax_scatter, ax_cbar)\n",
        "\n",
        "# Example call to the function\n",
        "# show_gene_loading(adata_GABA, 'Sst')\n",
        "\n",
        "# cluster_fig, ax = show_clusters(adata_GABA, 'Cluster (nn)')\n",
        "# cluster_fig.savefig(\"cluster_plot.svg\", format=\"svg\")\n",
        "# cluster_fig.savefig(\"cluster_plot.jpeg\", format=\"jpeg\")\n",
        "# show_gene_loading(adata_full, 'Prox1')"
      ],
      "metadata": {
        "id": "aM-_rLAPGNdx"
      },
      "id": "aM-_rLAPGNdx",
      "execution_count": null,
      "outputs": []
    },
    {
      "cell_type": "code",
      "source": [
        "\n",
        "################# INITIALIZE DIRECTORY DOWNLOAD FROM GEO\n",
        "os.chdir(working_dir)\n",
        "os.makedirs('./indiv_animal_results', exist_ok=True)\n",
        "urllib.request.urlretrieve(zalocusky_url, './indiv_animal_results/'+geo_zalo_filename)\n",
        "my_tar = tarfile.open('./indiv_animal_results/'+geo_zalo_filename)\n",
        "my_tar.extractall('./indiv_animal_results') # specify which folder to extract to\n",
        "my_tar.close()\n",
        "# for f in os.listdir('./indiv_animal_results'):\n",
        "#     print(f)\n"
      ],
      "metadata": {
        "id": "R4iZj93WnnKd"
      },
      "id": "R4iZj93WnnKd",
      "execution_count": null,
      "outputs": []
    },
    {
      "cell_type": "code",
      "source": [
        "\n",
        "################# Read, Combine, and Sample Split multiple 10x's\n",
        "\n",
        "adata_dict = {}\n",
        "for f in os.listdir('./indiv_animal_results'):\n",
        "    if '.h5' in f:\n",
        "        a = sc.read_10x_h5('./indiv_animal_results/'+f)\n",
        "        a.var_names_make_unique()\n",
        "        sample_code = trim_key(f)\n",
        "        a.obs['age_bin'] = str(int(np.ceil( int(sample_code.split(\"_\")[3])/5)*5))+'m'\n",
        "        a.obs['E_type'] = sample_code.split(\"_\")[2]\n",
        "        a.obs['mouse_ID'] = sample_code.split(\"_\")[1]\n",
        "        a.obs['well'] = sample_code.split(\"_\")[4]\n",
        "        a.obs['GSM'] = sample_code.split(\"_\")[0]\n",
        "        adata_dict[sample_code.split(\"_\")[0]] = a\n",
        "adata = ad.concat(adata_dict,axis = 0,label=\"Sample\",index_unique=\"_\")\n",
        "adata.obs.E_type\n",
        "# adata = adata[['fKI' not in t for t in adata.obs.E_type], :]\n",
        "adata_dict = {}\n",
        "clear_output()\n",
        "adata.write_h5ad(filename='./kz_adata_raw.h5')\n",
        "\n",
        "\n",
        "adata_QC = preprocess_andata10x(adata,keep_NC=True)[0]\n",
        "adata_QC.write_h5ad(filename='./kz_adata_qc.h5')\n",
        "\n",
        "\n"
      ],
      "metadata": {
        "id": "cx-L5v6n2FGP"
      },
      "id": "cx-L5v6n2FGP",
      "execution_count": null,
      "outputs": []
    },
    {
      "cell_type": "code",
      "source": [
        "############## QC Filter #####################\n",
        "adata_full = adata_QC.copy()\n",
        "age_dict = {'5m':'05m', '10m': '10m','15m': '15m','20m': '20m'}\n",
        "adata_full.obs['age_bin'] = [ age_dict[a] for a in adata_full.obs['age_bin'] ]\n",
        "\n",
        "sc.pp.filter_genes(adata_full, min_counts=50)\n",
        "\n",
        "############## Dim Reduction #####################\n",
        "adata_full = high_var_genes_dim_reduc(adata_full)\n",
        "adata_full.write_h5ad(filename='./adata_full.h5')\n",
        "print(adata_full.uns['log1p'])\n",
        "\n"
      ],
      "metadata": {
        "id": "thajIZvhtaW0"
      },
      "id": "thajIZvhtaW0",
      "execution_count": null,
      "outputs": []
    },
    {
      "cell_type": "code",
      "source": [],
      "metadata": {
        "id": "xCSZrLnJjs3b"
      },
      "id": "xCSZrLnJjs3b",
      "execution_count": null,
      "outputs": []
    },
    {
      "cell_type": "code",
      "source": [
        "############## Dim Reduction #####################\n",
        "# adata_full = ad.read_h5ad('./adata_full.h5')\n",
        "adata_full = umap_and_cluster(adata_full, n_neighbors=15, n_pcs=20,resolution=.6,to_plot=False)\n",
        "fig, ax = show_clusters(adata_full, 'Cluster (nn)',ncol=2,figsize=(3.5, 2))\n",
        "fig.savefig('full_umap.svg')"
      ],
      "metadata": {
        "id": "8B2PtY0ibTHJ"
      },
      "id": "8B2PtY0ibTHJ",
      "execution_count": null,
      "outputs": []
    },
    {
      "cell_type": "code",
      "execution_count": null,
      "id": "f246d0a6",
      "metadata": {
        "scrolled": true,
        "tags": [],
        "id": "f246d0a6"
      },
      "outputs": [],
      "source": [
        "tab20b_colors = plt.cm.get_cmap('tab20b').colors\n",
        "tab20c_colors = plt.cm.get_cmap('tab20c').colors\n",
        "tab40_colors = np.concatenate([tab20c_colors, tab20b_colors[4:]])\n",
        "tab40 = mpl.colors.ListedColormap(tab40_colors)\n",
        "\n",
        "\n",
        "\n",
        "show_clusters(adata_full, 'Cluster (nn)',cmap=tab40,ncol=2,figsize=(3.5, 2))\n",
        "# show_gene_loading(adata_full, 'Sst')\n",
        "# show_gene_loading(adata_full, 'Pvalb')\n",
        "# show_gene_loading(adata_full, 'Vip')\n",
        "# show_gene_loading(adata_full, 'Reln')\n",
        "# show_gene_loading(adata_full, 'Apoe')\n",
        "fig,ax = show_gene_loading(adata_full, 'Syn1',size=.1,alpha=1)\n",
        "fig.savefig('Syn1.svg')\n",
        "fig,ax = show_gene_loading(adata_full, 'Slc17a7',size=.1,alpha=1)\n",
        "fig.savefig('Slc17a7.svg')\n",
        "fig,ax = show_gene_loading(adata_full, 'Prox1',size=.1,alpha=1)\n",
        "fig.savefig('Prox1.svg')\n",
        "fig,ax = show_gene_loading(adata_full, 'Pdzd2',size=.1,alpha=1)\n",
        "fig.savefig('Pdzd2.svg')\n",
        "\n",
        "\n",
        "# show_gene_loading(adata_full, 'Gfap')\n",
        "# show_gene_loading(adata_full, 'Gad1')\n",
        "# show_gene_loading(adata_full, 'Gad2')\n",
        "\n",
        "\n"
      ]
    },
    {
      "cell_type": "code",
      "source": [
        "\"\"\"\n",
        "Re-Filter Re Normalize\n",
        "\"\"\"\n",
        "pct_mito=0.25\n",
        "min_genes=50\n",
        "max_genes=2400\n",
        "min_counts=500\n",
        "max_counts=4500\n",
        "\n",
        "DGC_adata = adata_full[adata_full.obs['louvain'].isin(['0', '2', '4']), :]\n",
        "DGC_adata.obsm = {}\n",
        "DGC_adata.uns = {}\n",
        "\n",
        "\n",
        "\n",
        "# DGC_adata,DGC_adata_og = preprocess_andata10x(DGC_adata,keep_NC=False)\n",
        "# display(DGC_adata)\n",
        "# sc.pp.filter_cells(DGC_adata, min_genes=min_genes)\n",
        "# display(DGC_adata)\n",
        "# sc.pp.filter_cells(DGC_adata, max_genes=max_genes)\n",
        "# display(DGC_adata)\n",
        "# sc.pp.filter_cells(DGC_adata, min_counts=min_counts)\n",
        "# display(DGC_adata)\n",
        "# sc.pp.filter_cells(DGC_adata, max_counts=max_counts)\n",
        "# display(DGC_adata)\n",
        "# DGC_adata = high_var_genes_dim_reduc(DGC_adata)"
      ],
      "metadata": {
        "id": "7j6ElYg4IZpS"
      },
      "id": "7j6ElYg4IZpS",
      "execution_count": null,
      "outputs": []
    },
    {
      "cell_type": "code",
      "source": [
        "fig,ax = plt.subplots(figsize=(2,1))\n",
        "sc.pl.violin(\n",
        "    DGC_adata,\n",
        "    keys=['Syn1','Slc17a7','Prox1','Pdzd2'],\n",
        "    groupby=\"louvain\",\n",
        "    ax=ax\n",
        ")"
      ],
      "metadata": {
        "id": "63DFigOqQ3nd"
      },
      "id": "63DFigOqQ3nd",
      "execution_count": null,
      "outputs": []
    },
    {
      "cell_type": "code",
      "source": [
        "sc.tl.pca(DGC_adata, n_comps=50)\n",
        "sc.pp.scale(DGC_adata)\n",
        "DGC_adata = umap_and_cluster(DGC_adata, n_neighbors=25, n_pcs=30,resolution=.4,to_plot=False)\n",
        "fig, ax = show_clusters(DGC_adata, 'Cluster (nn)')\n",
        "fig.savefig('dgc_umap.svg')"
      ],
      "metadata": {
        "id": "F70xJ9FVpLCf"
      },
      "id": "F70xJ9FVpLCf",
      "execution_count": null,
      "outputs": []
    },
    {
      "cell_type": "code",
      "source": [
        "sc.pl.pca_variance_ratio(DGC_adata)\n",
        "DGC_adata.write_h5ad(filename='./DGC_adata.h5')"
      ],
      "metadata": {
        "id": "hyq87n3ErAcg"
      },
      "id": "hyq87n3ErAcg",
      "execution_count": null,
      "outputs": []
    },
    {
      "cell_type": "code",
      "source": [
        "\"\"\"\n",
        "SKIP TO HERE\n",
        "\"\"\""
      ],
      "metadata": {
        "id": "fpiAEPeDH2xz"
      },
      "id": "fpiAEPeDH2xz",
      "execution_count": null,
      "outputs": []
    },
    {
      "cell_type": "markdown",
      "source": [],
      "metadata": {
        "id": "mbADSKiJRX-3"
      },
      "id": "mbADSKiJRX-3"
    },
    {
      "cell_type": "code",
      "source": [
        "# DGC_adata = ad.read_h5ad('./DGC_adata.h5')"
      ],
      "metadata": {
        "id": "z1dmEQPiHpCq"
      },
      "id": "z1dmEQPiHpCq",
      "execution_count": null,
      "outputs": []
    },
    {
      "cell_type": "code",
      "source": [
        "show_clusters(DGC_adata, 'Cluster (nn)')\n",
        "show_gene_loading(DGC_adata, 'Apoe',size = 0.5,alpha=0.5)\n",
        "show_gene_loading(DGC_adata, 'Syn1',size = 0.5,alpha=0.5)\n",
        "show_gene_loading(DGC_adata, 'Slc17a7',size = 0.5,alpha=0.5)\n",
        "show_gene_loading(DGC_adata, 'Prox1',size = 0.5,alpha=0.5)\n",
        "show_gene_loading(DGC_adata, 'Pdzd2',size = 0.5,alpha=0.5)\n"
      ],
      "metadata": {
        "id": "GH-G4O7PoW_e"
      },
      "id": "GH-G4O7PoW_e",
      "execution_count": null,
      "outputs": []
    },
    {
      "cell_type": "code",
      "source": [],
      "metadata": {
        "id": "a0-41t-IrwN4"
      },
      "id": "a0-41t-IrwN4",
      "execution_count": null,
      "outputs": []
    },
    {
      "cell_type": "code",
      "source": [
        "from scipy.stats import fisher_exact\n",
        "from statsmodels.stats.multitest import multipletests\n",
        "\n",
        "def calculate_enrichment_with_stats(adata, group_var, cluster_var, alpha=0.05):\n",
        "    # Contingency table of counts\n",
        "    contingency_table = pd.crosstab(adata.obs[cluster_var], adata.obs[group_var])\n",
        "    total_cells = contingency_table.values.sum()\n",
        "\n",
        "    # Observed and expected proportions\n",
        "    cluster_totals = contingency_table.sum(axis=1).values[:, None]  # Total in each cluster\n",
        "    group_totals = contingency_table.sum(axis=0).values[None, :]  # Total in each group\n",
        "    expected = cluster_totals * group_totals / total_cells  # Expected counts\n",
        "    enrichment = contingency_table / expected  # Observed-to-Expected ratio\n",
        "\n",
        "    # Perform Fisher's Exact Test for each cell\n",
        "    p_values = []\n",
        "    for cluster_idx in range(contingency_table.shape[0]):\n",
        "        for group_idx in range(contingency_table.shape[1]):\n",
        "            obs = contingency_table.iloc[cluster_idx, group_idx]\n",
        "            rest_cluster = cluster_totals[cluster_idx, 0] - obs\n",
        "            rest_group = group_totals[0, group_idx] - obs\n",
        "            rest_total = total_cells - obs - rest_cluster - rest_group\n",
        "\n",
        "            # Construct the 2x2 table for Fisher's test\n",
        "            table = np.array([[obs, rest_group], [rest_cluster, rest_total]])\n",
        "            _, p_value = fisher_exact(table, alternative=\"two-sided\")\n",
        "            p_values.append(p_value)\n",
        "\n",
        "    # FDR correction for multiple testing\n",
        "    p_values_corrected = multipletests(p_values, method=\"fdr_bh\")[1]\n",
        "\n",
        "    # Format results\n",
        "    p_corrected_matrix = pd.DataFrame(\n",
        "        np.array(p_values_corrected).reshape(contingency_table.shape),\n",
        "        index=contingency_table.index,\n",
        "        columns=contingency_table.columns,\n",
        "    )\n",
        "\n",
        "    return enrichment, p_corrected_matrix\n",
        "\n"
      ],
      "metadata": {
        "id": "Wj7a8C5dgbTa"
      },
      "id": "Wj7a8C5dgbTa",
      "execution_count": null,
      "outputs": []
    },
    {
      "cell_type": "code",
      "source": [],
      "metadata": {
        "id": "w-fWUSR2rxlm"
      },
      "id": "w-fWUSR2rxlm",
      "execution_count": null,
      "outputs": []
    },
    {
      "cell_type": "code",
      "source": [
        "def plot_helicopter(df, pvalues, title, cbar_label=\"Enrichment\", ax=None,cmap=\"coolwarm\"):\n",
        "    \"\"\"\n",
        "    Plots a helicopter plot (heatmap) with enrichment values and p-values annotated.\n",
        "\n",
        "    Args:\n",
        "        df (pd.DataFrame): DataFrame containing enrichment values.\n",
        "        pvalues (pd.DataFrame): DataFrame containing corresponding p-values.\n",
        "        title (str): Title for the plot.\n",
        "        cbar_label (str): Label for the color bar.\n",
        "        ax (matplotlib.axes.Axes, optional): Axes to plot on. Creates a new figure if None.\n",
        "    \"\"\"\n",
        "    # Create a new figure only if ax is None\n",
        "    if ax is None:\n",
        "        fig, ax = plt.subplots(figsize=(2, 1.5))\n",
        "\n",
        "    # Calculate color scale limits for symmetry about 1\n",
        "    vrange = abs(df.values - 1).max()\n",
        "    vmin = 1 - vrange\n",
        "    vmax = 1 + vrange\n",
        "\n",
        "    # Function to format p-values\n",
        "    def format_pvalue(p):\n",
        "        if p < 0.001:\n",
        "            return f\"\\n(p={p:.1e})\"  # Scientific notation for p < 0.001\n",
        "        else:\n",
        "            return f\"\\n(p={p:.3f})\"  # Decimal format for p >= 0.001\n",
        "\n",
        "    # Initialize an empty DataFrame to hold the annotations\n",
        "    annotations = pd.DataFrame(index=df.index, columns=df.columns, dtype=object)\n",
        "\n",
        "    # Format the enrichment values and p-values\n",
        "    for i in range(df.shape[0]):\n",
        "        for j in range(df.shape[1]):\n",
        "            enrichment = f\"{df.iloc[i, j]:.2f}\"\n",
        "            pvalue = p_to_astk(pvalues.iloc[i, j])  # Use p_to_astk for p-value abbreviation\n",
        "            annotations.iloc[i, j] = enrichment + \"\\n\" + pvalue\n",
        "\n",
        "    sns.heatmap(\n",
        "        df,\n",
        "        annot=annotations.values,\n",
        "        fmt=\"\",\n",
        "        cmap=cmap,\n",
        "        cbar_kws={\"label\": cbar_label},\n",
        "        vmin=vmin,\n",
        "        vmax=vmax,\n",
        "        ax=ax,  # Use the provided axes or create a new one\n",
        "    )\n",
        "    ax.set_title(title)\n",
        "    ax.set_xlabel(None)\n",
        "    ax.set_ylabel(\"Clusters\")\n",
        "    ax.set_xticklabels(ax.get_xticklabels(), rotation=45)\n",
        "\n",
        "    # Adjust layout only if no external ax is provided\n",
        "    if ax is None:\n",
        "        plt.tight_layout()\n",
        "        plt.show()\n",
        "\n",
        "    return ax\n",
        "\n"
      ],
      "metadata": {
        "id": "oEd_fD_jbvta"
      },
      "id": "oEd_fD_jbvta",
      "execution_count": null,
      "outputs": []
    },
    {
      "cell_type": "code",
      "source": [],
      "metadata": {
        "id": "ZQASzE2rjHxt"
      },
      "id": "ZQASzE2rjHxt",
      "execution_count": null,
      "outputs": []
    },
    {
      "cell_type": "code",
      "source": [
        "def p_to_astk(p_val):\n",
        "        astk_range = [0.05,0.01,0.001,0.0001]\n",
        "        num_astk = [\"*\" for t in astk_range if p_val <= t ]\n",
        "        astk = \"\".join(num_astk)\n",
        "        if len(astk)==0:\n",
        "            # astk=str(round(p_val,2))\n",
        "            astk='ns'\n",
        "        return astk\n"
      ],
      "metadata": {
        "id": "2fb9y-aDzjG1"
      },
      "id": "2fb9y-aDzjG1",
      "execution_count": null,
      "outputs": []
    },
    {
      "cell_type": "code",
      "source": [
        "DGC_adata.obs['E_type_age_bin'] = DGC_adata.obs['E_type'].astype(str) + \"_\" + DGC_adata.obs['age_bin'].astype(str)\n",
        "enrichment, corrected_p_values = calculate_enrichment_with_stats(DGC_adata, group_var=\"E_type_age_bin\", cluster_var=\"louvain\")\n",
        "cmap='PRGn'\n",
        "\n",
        "\"\"\"\n",
        "E3 vs E4 Enrichment over time\n",
        "\"\"\"\n",
        "fig,ax = plt.subplots(1,2,figsize=(4,1.75), width_ratios=(1,1))\n",
        "\n",
        "subset = [c for c in enrichment.columns if 'fKI' not in c and 'E3' in c]\n",
        "plot_helicopter(enrichment[subset], corrected_p_values[subset], title=\"ApoE3\" ,ax=ax[0],cmap=cmap)\n",
        "\n",
        "subset = [c for c in enrichment.columns if 'fKI' not in c and 'E4' in c]\n",
        "plot_helicopter(enrichment[subset], corrected_p_values[subset], title=\"ApoE4\" ,ax=ax[1],cmap=cmap)\n",
        "\n",
        "plt.tight_layout()\n",
        "fig.savefig('E3E4_heli.svg')\n",
        "plt.savefig('E3E4_heli.jpeg')\n",
        "\n",
        "\n",
        "\"\"\"\n",
        "SynCre Compsre\n",
        "\"\"\"\n",
        "\n",
        "fig,ax = plt.subplots(1,2,figsize=(2.5,1.75), width_ratios=(1,1))\n",
        "\n",
        "subset = [c for c in enrichment.columns if '15m' in c and 'E3' in c]\n",
        "plot_helicopter(enrichment[subset], corrected_p_values[subset], title=\"ApoE3\" ,ax=ax[0],cmap=cmap)\n",
        "\n",
        "subset = [c for c in enrichment.columns if '15m' in c and 'E4' in c]\n",
        "plot_helicopter(enrichment[subset], corrected_p_values[subset], title=\"ApoE4\" ,ax=ax[1],cmap=cmap)\n",
        "\n",
        "plt.tight_layout()\n",
        "fig.savefig('floxE4_heli.svg')\n",
        "plt.savefig('floxE4_heli.jpeg')\n",
        "\n"
      ],
      "metadata": {
        "id": "2tecR7hRIJR2"
      },
      "id": "2tecR7hRIJR2",
      "execution_count": null,
      "outputs": []
    },
    {
      "cell_type": "code",
      "source": [
        "clusters = enrichment.index\n",
        "size = 15\n",
        "num_clust = len(clusters)\n",
        "fig,ax=plt.subplots(1,num_clust+1,figsize=(1*(num_clust+1),1))\n",
        "for i,c in enumerate(clusters):\n",
        "    enrich = enrichment.loc[c,:]\n",
        "    all_cols = enrich.index\n",
        "    cols_1 = [col for col in all_cols if 'E3' in col and 'fKI' not in col]\n",
        "    ax[i].plot(cols_1,enrich[cols_1],'b',label='E3',marker='o')\n",
        "    ax[i].scatter(cols_1[2],enrich['E3fKI_15m'],s=size,marker='o',facecolor=None,edgecolor='b',label='E3fKI')\n",
        "    cols_2 = [col for col in all_cols if 'E4' in col and 'fKI' not in col]\n",
        "    ax[i].plot(cols_1,enrich[cols_2],'r',label='E4',marker='o')\n",
        "    ax[i].scatter(cols_1[2],enrich['E4fKI_15m'],s=size,marker='o',facecolor=None,edgecolor='r',label='E4fKI')\n",
        "    labels= [l.replace('E3_','') for l in all_cols]\n",
        "    ax[i].set_title(f\"Cluster {i}\")\n",
        "    ax[i].set_xticklabels(labels,rotation=45)\n",
        "    ax[i].set_ylim([np.min(enrichment), np.max(enrichment)])\n",
        "    ax[i].axhline(1,color='k',linestyle=':')\n",
        "handles, labels = ax[0].get_legend_handles_labels()\n",
        "ax[-1].legend(handles, labels, loc='center')\n",
        "ax[-1].axis(\"off\")\n",
        "ax[0].set_ylabel('Relative Enrichment')\n",
        "plt.tight_layout()\n",
        "fig.savefig('enrichment_lines.svg')\n",
        "fig.savefig('enrichment_lines.jpeg')\n",
        "\n",
        "show_clusters(DGC_adata, 'Cluster (nn)',figsize=(1.5,1.5))\n"
      ],
      "metadata": {
        "id": "sMeJPZTEsTu2"
      },
      "id": "sMeJPZTEsTu2",
      "execution_count": null,
      "outputs": []
    },
    {
      "cell_type": "code",
      "source": [
        "print(os.getcwd)"
      ],
      "metadata": {
        "id": "l9tuVptSwDLw"
      },
      "id": "l9tuVptSwDLw",
      "execution_count": null,
      "outputs": []
    },
    {
      "cell_type": "code",
      "source": [
        "\"\"\"\n",
        "Define Marker Genes\n",
        "\"\"\"\n",
        "sc.tl.dendrogram(DGC_adata, groupby='louvain')\n",
        "sc.tl.rank_genes_groups(\n",
        "    DGC_adata,\n",
        "    groupby='louvain',\n",
        "    method='wilcoxon',  # Wilcoxon rank-sum test for differential expression\n",
        "    corr_method='benjamini-hochberg'  # Correct for multiple testing using FDR\n",
        ")\n"
      ],
      "metadata": {
        "id": "Y7SJX-TAFCoo"
      },
      "id": "Y7SJX-TAFCoo",
      "execution_count": null,
      "outputs": []
    },
    {
      "cell_type": "code",
      "source": [
        "\n",
        "\n",
        "ordered_clusters = DGC_adata.uns['dendrogram_louvain']['categories_ordered']\n",
        "\n",
        "# Extract top-ranked genes for each cluster\n",
        "top_n = 500\n",
        "ranked_genes = pd.DataFrame({\n",
        "    cluster: DGC_adata.uns['rank_genes_groups']['names'][cluster][:top_n]\n",
        "    for cluster in ordered_clusters\n",
        "})\n",
        "\n",
        "ranked_genes.to_csv('ranked_genes.csv')\n"
      ],
      "metadata": {
        "id": "NpwAPMFinhLL"
      },
      "id": "NpwAPMFinhLL",
      "execution_count": null,
      "outputs": []
    },
    {
      "cell_type": "code",
      "source": [
        "ordered_clusters = DGC_adata.uns['dendrogram_louvain']['categories_ordered']\n",
        "\n",
        "# Extract top-ranked genes for each cluster\n",
        "top_n = 5\n",
        "ranked_genes = pd.DataFrame({\n",
        "    cluster: DGC_adata.uns['rank_genes_groups']['names'][cluster][:top_n]\n",
        "    for cluster in ordered_clusters\n",
        "})\n"
      ],
      "metadata": {
        "id": "FQl7LqMun_u7"
      },
      "id": "FQl7LqMun_u7",
      "execution_count": null,
      "outputs": []
    },
    {
      "cell_type": "code",
      "source": [
        "\n",
        "# display(ranked_genes.head())\n",
        "top_genes_all_clusters = ranked_genes.values.flatten().tolist()\n",
        "top_genes_all_clusters = list(set(top_genes_all_clusters))\n",
        "top_genes_all_clusters.append('Apoe')\n",
        "\n",
        "\n",
        "\n",
        "sc.pl.rank_genes_groups_dotplot(DGC_adata, n_genes=top_n,figsize=(8, 2))\n",
        "\n",
        "\n",
        "fig = sc.pl.heatmap(DGC_adata, var_names=top_genes_all_clusters, groupby=\"louvain\", cmap=\"viridis\", dendrogram=False,figsize=(8, 2))\n",
        "plt.savefig('heatmap.svg')\n",
        "plt.savefig('heatmap.jpeg')\n",
        "\n",
        "fig = sc.pl.stacked_violin(DGC_adata, var_names=top_genes_all_clusters, groupby=\"louvain\", swap_axes=False, dendrogram=False, figsize=(8, 2), return_fig=True)\n",
        "fig.savefig('violins.svg')\n",
        "plt.savefig('violins.jpeg')\n",
        "\n",
        "fig = sc.pl.matrixplot( DGC_adata, var_names=top_genes_all_clusters, groupby=\"louvain\", dendrogram=False, cmap=\"Blues\", standard_scale=\"var\", colorbar_title=\"column scaled\\nexpression\", figsize=(8,  2), return_fig=True)\n",
        "fig.savefig('matix.svg')\n",
        "plt.savefig('matix.jpeg')\n",
        "# print(fig)"
      ],
      "metadata": {
        "id": "VxQn14SKfRGJ"
      },
      "id": "VxQn14SKfRGJ",
      "execution_count": null,
      "outputs": []
    },
    {
      "cell_type": "code",
      "source": [
        "fig,ax = plt.subplots(figsize=(2,1))\n",
        "sc.pl.violin(\n",
        "    DGC_adata,\n",
        "    keys='Apoe',\n",
        "    groupby=\"louvain\",\n",
        "    ax=ax\n",
        ")"
      ],
      "metadata": {
        "id": "ozF0g1Q31c8f"
      },
      "id": "ozF0g1Q31c8f",
      "execution_count": null,
      "outputs": []
    },
    {
      "cell_type": "code",
      "source": [
        "DGC_adata"
      ],
      "metadata": {
        "id": "LzEVmEh0P11N"
      },
      "id": "LzEVmEh0P11N",
      "execution_count": null,
      "outputs": []
    },
    {
      "cell_type": "code",
      "source": [
        "import matplotlib.pyplot as plt\n",
        "import numpy as np\n",
        "\n",
        "def single_deg_volcano(\n",
        "    deg_df,\n",
        "    label_cutoff=0.1,\n",
        "    title=None,\n",
        "    comp_string=None,\n",
        "    lock_y_max=True,\n",
        "    special_genes=[],\n",
        "    use_adj=False,\n",
        "    marker_size = .5,\n",
        "    min_p = 1e-30,\n",
        "    maxlfc =10,\n",
        "    ax=None):\n",
        "    '''\n",
        "    Plot a single volcano plot for a DE comparison.\n",
        "\n",
        "    Parameters:\n",
        "        deg_df (DataFrame): DataFrame of DE results with gene names as index and columns including\n",
        "                            'logfoldchanges', 'pvals', and optionally 'pvals_adj'.\n",
        "        gene_list (list, optional): List of genes to be highlighted in the plot (default is an empty list).\n",
        "        label_cutoff (float, optional): Minimum -log10(p-value) threshold for labeling genes (default is 0.1).\n",
        "        title (str, optional): Title for the plot (default is an empty string).\n",
        "        lock_y_max (bool, optional): If True, locks the y-axis max across subplots; adjust to data range otherwise.\n",
        "        special_genes (list, optional): Genes to be specially highlighted in red (default is an empty list).\n",
        "        use_adj (bool, optional): If True, use adjusted p-values; otherwise, use raw p-values (default is False).\n",
        "\n",
        "    Returns:\n",
        "        fig_volcano (Figure): Matplotlib figure object for the volcano plot.\n",
        "        ax (Axes): Matplotlib axes object for the volcano plot.\n",
        "    '''\n",
        "\n",
        "    # Initialize the figure and axis for the volcano plot\n",
        "    if ax is None:\n",
        "        fig_volcano, ax = plt.subplots(1, 1, figsize=(1.75, 1.75))\n",
        "    else:\n",
        "        fig_volcano = ax.figure\n",
        "\n",
        "    # Set the title for the plot\n",
        "    if title is not None:\n",
        "        ax.set_title(title.replace('_', '\\n'))\n",
        "\n",
        "    # Extract necessary data\n",
        "    genes = deg_df.index\n",
        "    lfc = deg_df['logfoldchanges']\n",
        "    pval = deg_df['pvals'] if use_adj else deg_df['pvals_adj']\n",
        "    pval[pval<min_p]=min_p\n",
        "    lfc[lfc<-maxlfc]=-maxlfc\n",
        "    lfc[lfc>maxlfc]=maxlfc\n",
        "    neg_log10_pval = -np.log10(pval)\n",
        "\n",
        "    # Plot each gene, marking those in gene_list and special_genes\n",
        "    ax.scatter(lfc, neg_log10_pval, c='gray', s=marker_size)\n",
        "\n",
        "    is_sig = neg_log10_pval>-np.log10(0.05)\n",
        "    high_lfc = abs(lfc)>=.25\n",
        "\n",
        "    selected = np.logical_and(is_sig,high_lfc)\n",
        "\n",
        "    lfc_sig = lfc[selected]\n",
        "    neg_log10_pval_sig = neg_log10_pval[selected]\n",
        "    genes_sig = genes[selected]\n",
        "\n",
        "    for i, g in enumerate(genes_sig):\n",
        "        if not np.isnan(lfc_sig[i] * neg_log10_pval_sig[i]):\n",
        "            ax.scatter(lfc_sig[i], neg_log10_pval_sig[i], c='r', s=marker_size)\n",
        "            ax.text(lfc_sig[i], neg_log10_pval_sig[i], genes_sig[i], rotation=45, fontsize=4, color='r')\n",
        "\n",
        "    # Set axis limits and labels\n",
        "    x_lim = ax.get_xlim()\n",
        "    y_lim = ax.get_ylim()\n",
        "    x_etr = np.max(np.abs(x_lim))\n",
        "    y_etr = np.max(np.abs(y_lim))\n",
        "\n",
        "    ax.set_xlim(-x_etr * 1.1, x_etr * 1.1)\n",
        "    if lock_y_max:\n",
        "        ax.set_ylim(0, y_etr * 1.1)\n",
        "    else:\n",
        "        ax.set_ylim(0, ax.get_ylim()[1] * 1.1)\n",
        "\n",
        "    if comp_string is not None:\n",
        "        xlabel = f'{comp_string}\\nLog2(fold change)'\n",
        "    else:\n",
        "        xlabel = 'Log2(fold change)'\n",
        "    ax.set_xlabel(xlabel)\n",
        "    ax.set_ylabel('-log10(adj-pvalue)' if use_adj else '-log10(raw-pvalue)')\n",
        "    ax.axhline(-np.log10(0.05), c='k', linestyle=\":\", linewidth=0.6, label='p=0.05')\n",
        "    ax.axvline(0, c='k', linestyle=\"-\", linewidth=0.6, label='p=0.05')\n",
        "\n",
        "    plt.tight_layout()\n",
        "\n",
        "    return fig_volcano, ax\n",
        "\n",
        "\n"
      ],
      "metadata": {
        "id": "H0eyzWEVJ0Ip"
      },
      "id": "H0eyzWEVJ0Ip",
      "execution_count": null,
      "outputs": []
    },
    {
      "cell_type": "code",
      "source": [
        "marker_genes = DGC_adata.uns[\"rank_genes_groups\"]  # Assuming marker genes are stored here\n",
        "clus=3\n",
        "\n",
        "deg_df = pd.DataFrame(index=[row[clus] for row in marker_genes['names']],\n",
        "                      data={'scores':[ row[clus] for row in marker_genes['scores']],\n",
        "                            'pvals':[ row[clus] for row in marker_genes['pvals']],\n",
        "                            'pvals_adj':[ row[clus] for row in marker_genes['pvals_adj']],\n",
        "                            'logfoldchanges':[ row[clus] for row in marker_genes['logfoldchanges']],\n",
        "                            })\n",
        "deg_df.to_csv(f'Cluster_{clus}_deg_df.csv')\n",
        "fig_volcano, ax = plt.subplots(1, 1, figsize=(8, 4))\n",
        "single_deg_volcano(deg_df,min_p=-1e-30,maxlfc=4,ax=ax,title=f'Cluster {clus}')\n",
        "\n",
        "\n",
        "marker_genes = DGC_adata.uns[\"rank_genes_groups\"]  # Assuming marker genes are stored here\n",
        "clus=0\n",
        "\n",
        "deg_df = pd.DataFrame(index=[row[clus] for row in marker_genes['names']],\n",
        "                      data={'scores':[ row[clus] for row in marker_genes['scores']],\n",
        "                            'pvals':[ row[clus] for row in marker_genes['pvals']],\n",
        "                            'pvals_adj':[ row[clus] for row in marker_genes['pvals_adj']],\n",
        "                            'logfoldchanges':[ row[clus] for row in marker_genes['logfoldchanges']],\n",
        "                            })\n",
        "deg_df.to_csv(f'Cluster_{clus}_deg_df.csv')\n",
        "fig_volcano, ax = plt.subplots(1, 1, figsize=(8, 4))\n",
        "single_deg_volcano(deg_df,min_p=-1e-30,maxlfc=4,ax=ax,title=f'Cluster {clus}')"
      ],
      "metadata": {
        "id": "zhNotB2GrcVj"
      },
      "id": "zhNotB2GrcVj",
      "execution_count": null,
      "outputs": []
    },
    {
      "cell_type": "code",
      "source": [
        "\"\"\"\n",
        "Go Analysis\n",
        "\"\"\"\n",
        "results"
      ],
      "metadata": {
        "id": "F3E2EhUCnIBW"
      },
      "id": "F3E2EhUCnIBW",
      "execution_count": null,
      "outputs": []
    },
    {
      "cell_type": "code",
      "source": [
        "def query_go(query_list):\n",
        "    # Initialize g:Profiler\n",
        "    gp = gprofiler.GProfiler(return_dataframe=True)\n",
        "\n",
        "    # Perform GO enrichment analysis\n",
        "    results = gp.profile(\n",
        "        query=query_list,\n",
        "        organism='mmusculus',  # Mouse organism code\n",
        "        sources=['GO:BP'],    # GO Biological Process\n",
        "        no_evidences=False     # Set to True to omit evidence codes\n",
        "    )\n",
        "    results['gene_ratio'] = results['intersection_size'] / results['term_size']\n",
        "    results = results.sort_values(by='gene_ratio', ascending=False)\n",
        "\n",
        "    # Correct p-values using FDR\n",
        "    corrected_pvals = multipletests(results['p_value'], method='fdr_bh')[1]\n",
        "    results['p_value_corrected'] = corrected_pvals\n",
        "    results['sig'] = results['p_value_corrected'] < 0.05\n",
        "\n",
        "\n",
        "    return results\n"
      ],
      "metadata": {
        "id": "E91QyqZLGbWz"
      },
      "id": "E91QyqZLGbWz",
      "execution_count": null,
      "outputs": []
    },
    {
      "cell_type": "code",
      "source": [
        "\n",
        "def plot_go_enrichment(df, title, figsize=(4, 4),max_go=100,rel_sizes=True):\n",
        "    \"\"\"\n",
        "    Plot GO enrichment analysis results as a dot plot with swapped axes, custom color bar placement,\n",
        "    and sample min/max dots in separate subplots.\n",
        "\n",
        "    Parameters:\n",
        "    df (pd.DataFrame): DataFrame containing GO enrichment results with columns:\n",
        "                       'name' (GO term names), 'p_value' (p-values),\n",
        "                       'intersection_size' (size of the gene intersection),\n",
        "                       'gene_ratio' (ratio of genes associated with the GO term).\n",
        "    title (str): Title for the plot.\n",
        "    figsize (tuple): Figure size for the plot. Default is (4, 4).\n",
        "\n",
        "    Returns:\n",
        "    None\n",
        "    \"\"\"\n",
        "    # Ensure the DataFrame contains the required columns\n",
        "    required_columns = ['name', 'p_value', 'intersection_size', 'gene_ratio']\n",
        "    if not all(col in df.columns for col in required_columns):\n",
        "        raise ValueError(f\"DataFrame must contain the following columns: {required_columns}\")\n",
        "\n",
        "    # Sort results by gene_ratio and select top 20 terms\n",
        "    top_results = df.sort_values(by='gene_ratio', ascending=False).head(max_go)\n",
        "\n",
        "    # Extract relevant data\n",
        "    go_terms = top_results['name']\n",
        "    gene_ratios = top_results['gene_ratio']\n",
        "    p_values = top_results['p_value']\n",
        "    intersection_size = top_results['intersection_size']\n",
        "\n",
        "    # Calculate -log10(p-value) for color\n",
        "    neg_log_p_values = -np.log10(p_values)\n",
        "\n",
        "    # Scale sizes so that intersection_size 1 maps to 10 and max maps to 200\n",
        "    min_size, max_size = 5, 25\n",
        "    min_intersection, max_intersection = intersection_size.min(), intersection_size.max()\n",
        "    sizes = min_size + ((intersection_size - min_intersection) / (max_intersection - min_intersection)) * (max_size - min_size)\n",
        "\n",
        "\n",
        "\n",
        "    # # Round sizes to the nearest 10 increment\n",
        "    # sizes = np.round(sizes / 10) * 10\n",
        "\n",
        "    # Create figure and subplots with custom size\n",
        "    fig, axs = plt.subplots(2, 2, figsize=figsize, gridspec_kw={'width_ratios': [4, 0.35]})\n",
        "\n",
        "    # Main scatter plot spanning both rows in the first column\n",
        "    ax_main = plt.subplot2grid((2, 2), (0, 0), rowspan=2)\n",
        "    scatter = ax_main.scatter(gene_ratios, go_terms, s=sizes,  # gene_ratio on x-axis, GO Term on y-axis\n",
        "                              c=neg_log_p_values, cmap='cool', alpha=0.7, edgecolors='k', linewidth=0.5)\n",
        "\n",
        "    # Add labels and title\n",
        "    ax_main.set_xlabel('Gene Ratio')\n",
        "    ax_main.set_ylabel('GO Term')\n",
        "    ax_main.set_title(title)\n",
        "\n",
        "    # Set x-axis limits to start at 0\n",
        "    ax_main.set_xlim(left=0)\n",
        "\n",
        "    # Flip y-axis to show the most enriched terms at the top\n",
        "    ax_main.invert_yaxis()\n",
        "\n",
        "    # Add custom color bar outside the main plot\n",
        "    cax = axs[0, 1]\n",
        "    cbar = plt.colorbar(scatter, cax=cax, orientation='vertical')\n",
        "    cbar.set_label('-log10(p-value)')\n",
        "\n",
        "    # Plot sample size dots\n",
        "    ax_dots = axs[1, 1]\n",
        "    min_intersection_dot = 1\n",
        "    max_intersection_dot = max_intersection\n",
        "    num_dots = 5\n",
        "    sample_sizes = np.linspace(min_intersection_dot, max_intersection_dot, num_dots)  # Generate sizes from min to max\n",
        "\n",
        "    for i, size in enumerate(sample_sizes):\n",
        "        dot = ax_dots.scatter(1, i, s=size*10, color='black', edgecolors='w', linewidth=0.5, zorder=5)  # Scale by 10 for visibility\n",
        "        # Annotate the dots with their intersection sizes, with left horizontal alignment and offset for visibility\n",
        "        ax_dots.text(2, i, f'{int(size)}', ha='left', va='bottom', color='black')\n",
        "\n",
        "    # Hide all axes and labels on this subplot\n",
        "    ax_dots.set_xticks([])\n",
        "    ax_dots.set_yticks([])\n",
        "    ax_dots.set_xlim([0, 3])\n",
        "    ax_dots.spines['top'].set_visible(False)\n",
        "    ax_dots.spines['right'].set_visible(False)\n",
        "    ax_dots.spines['left'].set_visible(False)\n",
        "    ax_dots.spines['bottom'].set_visible(False)\n",
        "\n",
        "    # Set limits\n",
        "    ax_dots.set_xlim(-1, 2)\n",
        "    ax_dots.set_ylim(-1, num_dots)\n",
        "\n",
        "    # Hide left plots and axes\n",
        "    axs[0, 0].axis('off')\n",
        "    axs[1, 0].axis('off')\n",
        "\n",
        "    # Adjust layout for better fit\n",
        "    # plt.tight_layout()\n",
        "\n",
        "    # Save the plot as SVG\n",
        "    # plt.savefig('GO_enrichment_dot_plot.svg', bbox_inches='tight')\n",
        "\n",
        "    # Show the plot\n",
        "    # plt.show()\n",
        "    axs = {'ax_main':ax_main,'cax':cax ,'ax_dots':ax_dots}\n",
        "    return (fig, axs)\n",
        "\n",
        "\n",
        "\n",
        "\n"
      ],
      "metadata": {
        "id": "cGiP7y7mGt_L"
      },
      "id": "cGiP7y7mGt_L",
      "execution_count": null,
      "outputs": []
    },
    {
      "cell_type": "code",
      "source": [
        "def high_low_go_split(deg_df,p_thresh=0.05,lfc_thresh=.5):\n",
        "    high_df = deg_df[deg_df['logfoldchanges']>lfc_thresh]\n",
        "    high_df = high_df[high_df['pvals_adj']<.05]\n",
        "    high_df = high_df.sort_values(by='pvals_adj',ascending=True)\n",
        "\n",
        "    low_df = deg_df[deg_df['logfoldchanges']<-lfc_thresh]\n",
        "    low_df = low_df[low_df['pvals_adj']<.05]\n",
        "    low_df = low_df.sort_values(by='pvals_adj',ascending=True)\n",
        "\n",
        "    return high_df,low_df\n"
      ],
      "metadata": {
        "id": "W0xxt47XA-lc"
      },
      "id": "W0xxt47XA-lc",
      "execution_count": null,
      "outputs": []
    },
    {
      "cell_type": "code",
      "source": [
        "for clus in range(len(marker_genes['names'][0])):\n",
        "    deg_df = pd.DataFrame(index=[row[clus] for row in marker_genes['names']],\n",
        "                        data={'scores':[ row[clus] for row in marker_genes['scores']],\n",
        "                                'pvals':[ row[clus] for row in marker_genes['pvals']],\n",
        "                                'pvals_adj':[ row[clus] for row in marker_genes['pvals_adj']],\n",
        "                                'logfoldchanges':[ row[clus] for row in marker_genes['logfoldchanges']],\n",
        "                                })\n",
        "    deg_df.to_csv(f'deg_df_clust{clus}.csv')\n",
        "    high_df,low_df = high_low_go_split(deg_df,lfc_thresh=.5)\n",
        "    high_df.to_csv(f'high_df_clust{clus}.csv')\n",
        "    low_df.to_csv(f'low_df_clust{clus}.csv')\n",
        "    print(len(high_df),len(low_df))\n",
        "\n",
        "\n",
        "    UP_go_results = query_go(high_df.index.to_list())\n",
        "    UP_go_results.to_csv(f'go_results_UP_{clus}.csv')\n",
        "    (fig, axs) = plot_go_enrichment(UP_go_results, f'Cluster{clus} UP Regulated', figsize=(4, 3),max_go=50)\n",
        "    plt.show()\n",
        "    fig.savefig(f'GO_Cluster{clus} UP Regulated.svg')\n",
        "    fig.savefig(f'GO_Cluster{clus} UP Regulated.jpeg')\n",
        "\n",
        "\n",
        "    DOWN_go_results = query_go(low_df.index.to_list())\n",
        "    DOWN_go_results.to_csv(f'go_results_DOWN_{clus}.csv')\n",
        "    (fig, axs) = plot_go_enrichment(DOWN_go_results, f'Cluster{clus} DOWN Regulated', figsize=(4, 3),max_go=50)\n",
        "    plt.show()\n",
        "    fig.savefig(f'GO_Cluster{clus} DOWN Regulated.svg')\n",
        "    fig.savefig(f'GO_Cluster{clus} DOWN Regulated.jpeg')\n"
      ],
      "metadata": {
        "id": "qcCk8eHkG2A2"
      },
      "id": "qcCk8eHkG2A2",
      "execution_count": null,
      "outputs": []
    },
    {
      "cell_type": "markdown",
      "source": [
        "IL15RA - This gene encodes a cytokine receptor that specifically binds interleukin 15 (IL15) with high affinity. The receptors of IL15 and IL2 share two subunits, IL2R beta and IL2R gamma. This forms the basis of many overlapping biological activities of IL15 and IL2. The protein encoded by this gene is structurally related to IL2R alpha, an additional IL2-specific alpha subunit necessary for high affinity IL2 binding. Unlike IL2RA, IL15RA is capable of binding IL15 with high affinity independent of other subunits, which suggests distinct roles between IL15 and IL2. This receptor is reported to enhance cell proliferation and expression of apoptosis inhibitor BCL2L1/BCL2-XL and BCL2. Multiple alternatively spliced transcript variants of this gene have been reported.[provided by RefSeq, Apr 2010]\n",
        "\n",
        "Stat3 - The protein encoded by this gene is a member of the STAT protein family. In response to cytokines and growth factors, STAT family members are phosphorylated by the receptor associated kinases, and then form homo- or heterodimers that translocate to the cell nucleus where they act as transcription activators. This protein is activated through phosphorylation in response to various cytokines and growth factors including IFNs, EGF, IL5, IL6, HGF, LIF and BMP2. This protein mediates the expression of a variety of genes in response to cell stimuli, and thus plays a key role in many cellular processes such as cell growth and apoptosis. The small GTPase Rac1 has been shown to bind and regulate the activity of this protein. PIAS3 protein is a specific inhibitor of this protein. This gene also plays a role in regulating host response to viral and bacterial infections. Mutations in this gene are associated with infantile-onset multisystem autoimmune disease and hyper-immunoglobulin E syndrome. [provided by RefSeq, Aug 2020]\n",
        "\n",
        "Rasgrp1 - This gene is a member of a family of genes characterized by the presence of a Ras superfamily guanine nucleotide exchange factor (GEF) domain. It functions as a diacylglycerol (DAG)-regulated nucleotide exchange factor specifically activating Ras through the exchange of bound GDP for GTP. It activates the Erk/MAP kinase cascade and regulates T-cells and B-cells development, homeostasis and differentiation. Alternatively spliced transcript variants encoding different isoforms have been identified. Altered expression of the different isoforms of this protein may be a cause of susceptibility to systemic lupus erythematosus (SLE). [provided by RefSeq, Jul 2008]\n",
        "\n",
        "PIK3R1/p85α is the most abundant isoform in normal tissues [5–7] but its expression is reduced in cancer. Conversely, PIK3R2/p85β expression levels are elevated in advanced cancer stages ([7,8]; data from The Cancer Genome Atlas, TCGAi). Physiological activation of PI3K is induced by binding of p85 to activated receptor tyrosine kinases (RTKs) and is further enhanced by GTPases of the Ras family. Rho GTPases and G protein-coupled receptors also activate PI3Kβ [1,2,9,10]. Classically, p85α and p85β have been considered to be similar proteins that associate with RTKs and with catalytic subunits that induce PI3K activation. This may represent an oversimplification because a growing number of studies support different and opposite functions of p85α and p85β in cancer [7,8]. In this review article we summarize available data on the function p85α and p85β, and attempt to make sense of the observation that PIK3R1 and PIK3R2 have opposing functions in tumor progression. This is important because distinct consequences of interfering with PIK3R1/p85α or PIK3R2/p85β should be considered in the design and development on new therapies."
      ],
      "metadata": {
        "id": "UHe_ponTZdcu"
      },
      "id": "UHe_ponTZdcu"
    },
    {
      "cell_type": "code",
      "source": [
        "cluster_1 = '0'\n",
        "cluster_2 = '3'\n",
        "subset = DGC_adata[DGC_adata.obs['louvain'].isin([cluster_1, cluster_2])].copy()\n",
        "# Set one cluster as the reference (e.g., compare cluster '0' to cluster '1')\n",
        "sc.tl.rank_genes_groups(\n",
        "    subset,\n",
        "    groupby='louvain',  # Column containing the cluster labels\n",
        "    reference=cluster_2,  # Reference cluster\n",
        "    method='wilcoxon'     # Statistical test\n",
        ")\n",
        "degs_df = sc.get.rank_genes_groups_df(subset, group=cluster_1)\n",
        "# Save to a CSV file (optional)\n",
        "degs_df.to_csv(f\"DEGs_cluster_{cluster_1}_vs_{cluster_2}.csv\", index=False)"
      ],
      "metadata": {
        "id": "KBr0W2OPZZfl"
      },
      "id": "KBr0W2OPZZfl",
      "execution_count": null,
      "outputs": []
    },
    {
      "cell_type": "code",
      "source": [],
      "metadata": {
        "id": "ZxKl5DrVhXH0"
      },
      "id": "ZxKl5DrVhXH0",
      "execution_count": null,
      "outputs": []
    },
    {
      "cell_type": "code",
      "source": [
        "degs_df = degs_df.set_index('names')"
      ],
      "metadata": {
        "id": "Ij9_PXd7h_Mk"
      },
      "id": "Ij9_PXd7h_Mk",
      "execution_count": null,
      "outputs": []
    },
    {
      "cell_type": "code",
      "source": [
        "degs_df"
      ],
      "metadata": {
        "id": "p-vQv-RBjphn"
      },
      "id": "p-vQv-RBjphn",
      "execution_count": null,
      "outputs": []
    },
    {
      "cell_type": "code",
      "source": [
        "fig_volcano, ax = plt.subplots(1, 1, figsize=(7, 7))\n",
        "single_deg_volcano(degs_df,ax=ax,title=f'Cluster {cluster_1} vs {cluster_2}',min_p=1e-150) #0,maxlfc=4,\n",
        "fig_volcano.savefig(f'Cluster {cluster_1} vs {cluster_2}.jpeg')"
      ],
      "metadata": {
        "id": "EuGybUqif1m4"
      },
      "id": "EuGybUqif1m4",
      "execution_count": null,
      "outputs": []
    },
    {
      "cell_type": "code",
      "source": [
        "# Visualize UMAP\n",
        "sc.pl.umap(DGC_adata, color='louvain')\n",
        "\n",
        "\n",
        "# # Compute PAGA graph\n",
        "# sc.tl.paga(DGC_adata, groups='louvain')  # Replace 'louvain' with the column in `.obs` representing clusters\n",
        "\n",
        "# # Plot PAGA graph overlaid on UMAP\n",
        "# fig,ax=plt.subplots(figsize=(1.5,1.5))\n",
        "# sc.pl.paga(DGC_adata, color='louvain',ax=ax)\n",
        "# # sc.pl.umap(DGC_adata, color='louvain', edges=True)\n",
        "\n",
        "\n"
      ],
      "metadata": {
        "id": "JANMf-OkPe-X"
      },
      "id": "JANMf-OkPe-X",
      "execution_count": null,
      "outputs": []
    },
    {
      "cell_type": "code",
      "source": [
        "import svgutils"
      ],
      "metadata": {
        "id": "EoqOY7hDEQPN"
      },
      "id": "EoqOY7hDEQPN",
      "execution_count": null,
      "outputs": []
    },
    {
      "cell_type": "code",
      "source": [
        "print(os.getcwd())"
      ],
      "metadata": {
        "id": "1Txkrc9zjL1n"
      },
      "id": "1Txkrc9zjL1n",
      "execution_count": null,
      "outputs": []
    },
    {
      "cell_type": "code",
      "source": [
        "# row_0 =0\n",
        "# row_1 =row_0+160\n",
        "# row_2 =row_1+170\n",
        "# row_3 = row_2+190\n",
        "# row_4 = row_3+215\n",
        "# dpi = 96\n",
        "# width = 7.25*dpi\n",
        "# length = 9.4*dpi\n",
        "# scale_factor= 1.33\n",
        "# weight='bold'\n",
        "# label_size = 12\n",
        "# my_figure = Figure(str(width), str(length),\n",
        "\n",
        "#                     Panel(SVG(\".svg\"),\n",
        "#                     Text(\"a\", 10, 20, size=label_size,weight=weight,font='arial')\n",
        "#                     ).scale(scale_factor).move(width*0, row_0),\n",
        "#                     Panel(SVG(\"/content/DG_Type_II_GC_main_parameters_Clean/CrossVal_Data k=2 Centers.svg\"),\n",
        "#                     Text(\"b\", 10, 20, size=label_size,weight=weight)\n",
        "#                     ).scale(scale_factor).move(width*.25, row_0),\n",
        "#                     Panel(SVG(\"/content/DG_Type_I_GC_main_parameters_Clean/CrossVal_Data k=2 Centers.svg\"),\n",
        "#                     Text(\"c\", 10, 20, size=label_size,weight=weight)\n",
        "#                     ).scale(scale_factor).move(width*.50, row_0),\n",
        "#                     Panel(SVG(\"/content/CA1_main_parameters_Clean/CrossVal_Data k=2 Centers.svg\"),\n",
        "#                     Text(\"d\", 10, 20, size=label_size,weight=weight)\n",
        "#                     ).scale(scale_factor).move(width*.75, row_0),"
      ],
      "metadata": {
        "id": "mXJpRyDni8uG"
      },
      "id": "mXJpRyDni8uG",
      "execution_count": null,
      "outputs": []
    },
    {
      "cell_type": "code",
      "source": [
        "\n",
        "# try: del adata\n",
        "# except: None\n",
        "# try: del adata_QC\n",
        "# except: None\n",
        "# try: del adata_dict\n",
        "# except: None\n",
        "# try: del adata_full\n",
        "# except: None\n",
        "# try: del adata\n",
        "# except: None\n",
        "\n",
        "# import gc\n",
        "# gc.collect()\n",
        "\n",
        "# %whos\n"
      ],
      "metadata": {
        "id": "Lmmn7pPkcxZE"
      },
      "id": "Lmmn7pPkcxZE",
      "execution_count": null,
      "outputs": []
    },
    {
      "cell_type": "code",
      "source": [
        "# \"\"\"\n",
        "# Weighted gene co-expression network analysis (WGCNA)\n",
        "# \"\"\"\n",
        "# # !pip install PyWGCNA\n",
        "# from PyWGCNA import WGCNA\n",
        "\n",
        "# DGC_wgcna = WGCNA(anndata=DGC_adata)\n",
        "# DGC_wgcna.geneExpr.to_df().head(5)\n"
      ],
      "metadata": {
        "id": "OBbgi5vHUPl1"
      },
      "id": "OBbgi5vHUPl1",
      "execution_count": null,
      "outputs": []
    },
    {
      "cell_type": "code",
      "source": [
        "# DGC_wgcna.preprocess()"
      ],
      "metadata": {
        "id": "9gsvgSaVbojJ"
      },
      "id": "9gsvgSaVbojJ",
      "execution_count": null,
      "outputs": []
    },
    {
      "cell_type": "code",
      "source": [
        "# DGC_wgcna.findModules()"
      ],
      "metadata": {
        "id": "IZ1cmTUKUNQW"
      },
      "id": "IZ1cmTUKUNQW",
      "execution_count": null,
      "outputs": []
    },
    {
      "cell_type": "code",
      "source": [
        "# test\n",
        "#\n",
        "print(DGC_adata)"
      ],
      "metadata": {
        "id": "l2__N4zjjYNk"
      },
      "id": "l2__N4zjjYNk",
      "execution_count": null,
      "outputs": []
    },
    {
      "cell_type": "code",
      "source": [
        "np.sum(DGC_adata.var['highly_variable'])"
      ],
      "metadata": {
        "id": "7C-fujlf0GAa"
      },
      "id": "7C-fujlf0GAa",
      "execution_count": null,
      "outputs": []
    },
    {
      "cell_type": "code",
      "source": [
        "DGC_adata_hvg = DGC_adata[:, DGC_adata.var['highly_variable']].copy()"
      ],
      "metadata": {
        "id": "DuS4ad66zwsP"
      },
      "id": "DuS4ad66zwsP",
      "execution_count": null,
      "outputs": []
    },
    {
      "cell_type": "code",
      "source": [
        "norm_counts =  DGC_adata_hvg.X\n",
        "print(norm_counts.shape)\n",
        "correlation_matrix_hvg = np.corrcoef(norm_counts.T)\n",
        "fig,ax = plt.subplots(figsize=(3,3))\n",
        "correlation_matrix_hvg_filt = correlation_matrix_hvg.copy()\n",
        "correlation_matrix_hvg_filt[abs(correlation_matrix_hvg_filt<0.01)]=0\n",
        "cbh = ax.imshow(correlation_matrix_hvg_filt,aspect='auto',vmax=0.2)\n",
        "fig.colorbar(cbh, ax=ax, label=\"Correlation Coefficient\")"
      ],
      "metadata": {
        "id": "CAQubDXe0N40"
      },
      "id": "CAQubDXe0N40",
      "execution_count": null,
      "outputs": []
    },
    {
      "cell_type": "code",
      "source": [],
      "metadata": {
        "id": "DO1to-m0XRbX"
      },
      "id": "DO1to-m0XRbX",
      "execution_count": null,
      "outputs": []
    },
    {
      "cell_type": "code",
      "source": [
        "def calculate_scale_free_fit(correlation_matrix, beta):\n",
        "    \"\"\"\n",
        "    Calculate the scale-free fit index for a given beta value.\n",
        "    \"\"\"\n",
        "    # Raise the correlation matrix to the power of beta to create the adjacency matrix\n",
        "    adjacency_matrix = np.abs(correlation_matrix) ** beta\n",
        "\n",
        "    # Calculate degree (sum of connections for each gene)\n",
        "    degree = np.sum(adjacency_matrix, axis=0)\n",
        "\n",
        "    # Calculate the frequency distribution of degrees\n",
        "    degree_freq = np.bincount(np.round(degree).astype(int))\n",
        "\n",
        "    # Avoid issues with 0 frequencies\n",
        "    valid_degrees = degree_freq > 0\n",
        "    x = np.arange(len(degree_freq))[valid_degrees]\n",
        "    y = degree_freq[valid_degrees]\n",
        "\n",
        "    # Fit a linear model to log-log scale\n",
        "    log_x = np.log10(x)\n",
        "    log_y = np.log10(y)\n",
        "    slope, r_squared = np.polyfit(log_x, log_y, 1)\n",
        "\n",
        "    return r_squared\n",
        "\n",
        "def sweep_beta_values(correlation_matrix, beta_range):\n",
        "    \"\"\"\n",
        "    Test a range of beta values and calculate the scale-free fit index for each.\n",
        "    \"\"\"\n",
        "    results = []\n",
        "    for beta in beta_range:\n",
        "        try:\n",
        "            r_squared = calculate_scale_free_fit(correlation_matrix, beta)\n",
        "            results.append((beta, r_squared))\n",
        "        except Exception as e:\n",
        "            print(f\"Failed for beta={beta}: {e}\")\n",
        "            results.append((beta,np.nan))\n",
        "    return results\n",
        "\n",
        "beta_values  = np.round(np.arange(0.4, 5, .2),1)\n",
        "beta_results = sweep_beta_values(correlation_matrix_hvg_filt, beta_values)\n",
        "\n",
        "# Extract beta and R-squared values\n",
        "betas, r_squareds = zip(*beta_results)\n",
        "\n",
        "# Plot the scale-free topology fit index\n",
        "plt.figure(figsize=(2, 2))\n",
        "plt.plot(betas, r_squareds, marker='o', linestyle='-', color='b')\n",
        "plt.xlabel('Soft-Thresholding Power (Beta)', fontsize=12)\n",
        "plt.ylabel('Scale-Free Fit Index (R^2)', fontsize=12)\n",
        "plt.title('Scale-Free Topology Fit Index vs Beta', fontsize=14)\n",
        "plt.grid(True)\n",
        "plt.show()"
      ],
      "metadata": {
        "id": "Q99ucHck20e_"
      },
      "id": "Q99ucHck20e_",
      "execution_count": null,
      "outputs": []
    },
    {
      "cell_type": "code",
      "source": [
        "# Extract beta and R-squared values\n",
        "betas, r_squareds = zip(*beta_results)\n",
        "optimal_beta_index = np.argmax(r_squareds)\n",
        "optimal_beta = betas[optimal_beta_index]\n",
        "\n",
        "print(f\"Optimal Beta: {optimal_beta}\")\n",
        "\n",
        "# Step 2: Apply soft-thresholding with the optimal beta\n",
        "adjacency_matrix = np.abs(correlation_matrix_hvg) ** optimal_beta\n",
        "\n",
        "# Step 3: Apply a threshold to the adjacency matrix\n",
        "threshold = 0.0001  # Example threshold, adjust as needed\n",
        "adjacency_matrix[adjacency_matrix < threshold] = 0\n",
        "\n",
        "# Step 4: Calculate the degree distribution (number of connections for each gene)\n",
        "degree_distribution = np.sum(adjacency_matrix, axis=0)\n",
        "\n",
        "# Remove zero degrees (genes with no connections)\n",
        "degree_distribution = degree_distribution[degree_distribution > 0]\n",
        "\n",
        "# Step 5: Log-log plot of degree distribution\n",
        "plt.figure(figsize=(2, 2))\n",
        "plt.loglog(np.arange(1, len(degree_distribution)+1), np.sort(degree_distribution)[::-1], marker='o', color='blue')\n",
        "\n",
        "plt.title(f'Log-Log Plot of Degree Distribution for Optimal Beta = {optimal_beta}')\n",
        "plt.xlabel('Degree (Log Scale)')\n",
        "plt.ylabel('Frequency (Log Scale)')\n",
        "plt.grid(True)\n",
        "plt.tight_layout()\n",
        "plt.show()"
      ],
      "metadata": {
        "id": "YZQrjCoQYPCH"
      },
      "id": "YZQrjCoQYPCH",
      "execution_count": null,
      "outputs": []
    },
    {
      "cell_type": "code",
      "source": [
        "import numpy as np\n",
        "\n",
        "def calculate_TOM(adjacency_matrix):\n",
        "    # Calculate the degree of each gene (sum of connections in the adjacency matrix)\n",
        "    degree = np.sum(adjacency_matrix, axis=0)\n",
        "\n",
        "    # Initialize TOM matrix\n",
        "    num_genes = adjacency_matrix.shape[0]\n",
        "    TOM = np.zeros_like(adjacency_matrix)\n",
        "\n",
        "    # Compute TOM\n",
        "    for i in range(num_genes):\n",
        "        for j in range(i, num_genes):  # Symmetry: TOM(i,j) = TOM(j,i)\n",
        "            if i == j:\n",
        "                TOM[i, j] = 1  # Diagonal is 1, self-similarity\n",
        "            else:\n",
        "                shared_neighbors = np.dot(adjacency_matrix[i, :], adjacency_matrix[j, :])\n",
        "                TOM[i, j] = (adjacency_matrix[i, j] + shared_neighbors) / (degree[i] + degree[j] + shared_neighbors)\n",
        "                TOM[j, i] = TOM[i, j]  # Symmetric matrix\n",
        "\n",
        "    return TOM\n",
        "\n",
        "# Calculate TOM using the optimized adjacency matrix\n",
        "TOM_matrix = calculate_TOM(adjacency_matrix)\n",
        "print(\"TOM matrix calculated.\")\n"
      ],
      "metadata": {
        "id": "A2-lUgljdSPl"
      },
      "id": "A2-lUgljdSPl",
      "execution_count": null,
      "outputs": []
    },
    {
      "cell_type": "code",
      "source": [
        "print(TOM_matrix.min(), TOM_matrix.max())\n"
      ],
      "metadata": {
        "id": "Fg1GOoOik09u"
      },
      "id": "Fg1GOoOik09u",
      "execution_count": null,
      "outputs": []
    },
    {
      "cell_type": "code",
      "source": [
        "distance_matrix = 1 - TOM_matrix\n",
        "print(distance_matrix.min(), distance_matrix.max())"
      ],
      "metadata": {
        "id": "7rBkStcNDUOs"
      },
      "id": "7rBkStcNDUOs",
      "execution_count": null,
      "outputs": []
    },
    {
      "cell_type": "code",
      "source": [
        "import matplotlib.pyplot as plt\n",
        "import scipy.cluster.hierarchy as sch\n",
        "\n",
        "# Plot the vertical dendrogram\n",
        "plt.figure(figsize=(10, 3))  # Increase the width slightly\n",
        "gene_names = DGC_adata_hvg.var_names  # Ensure this is a list of gene names\n",
        "\n",
        "# Calculate threshold dynamically: 70% of max linkage distance\n",
        "link_distances = [link[2] for link in Z]  # Extract linkage distances\n",
        "threshold_distance = np.percentile(link_distances, 100)  # Focus on the top 30%\n",
        "low_end = np.percentile(link_distances, 10)  # Focus on the top 30%\n",
        "\n",
        "# Create dendrogram, cut at threshold\n",
        "sch.dendrogram(\n",
        "    Z, labels=gene_names,  color_threshold=threshold_distance\n",
        ")\n",
        "\n",
        "# Adjust x-axis limits\n",
        "plt.ylim(low_end, threshold_distance )  # Focus on the meaningful distances\n",
        "\n",
        "# Add labels and title\n",
        "plt.title(\"Hierarchical Clustering of Genes based on TOM\")\n",
        "plt.xlabel(\"Distance\")\n",
        "plt.ylabel(\"Gene\")\n",
        "plt.show()\n"
      ],
      "metadata": {
        "id": "LCx7zka8d0Gw"
      },
      "id": "LCx7zka8d0Gw",
      "execution_count": null,
      "outputs": []
    },
    {
      "cell_type": "code",
      "source": [
        "# Choose the cutoff to define modules (you may need to adjust this value)\n",
        "max_d = 0.99999999999 # Example distance cutoff\n",
        "module_assignments = sch.fcluster(Z, max_d, criterion='distance')\n",
        "\n",
        "# module_assignments will be a vector of module IDs for each gene\n",
        "# Print module assignments\n",
        "print(\"Module assignments:\", module_assignments)\n",
        "\n",
        "# You can also count how many genes are in each module\n",
        "unique, counts = np.unique(module_assignments, return_counts=True)\n",
        "module_sizes = dict(zip(unique, counts))\n",
        "print(\"Module sizes:\", module_sizes)"
      ],
      "metadata": {
        "id": "JyLirG5-lOoN"
      },
      "id": "JyLirG5-lOoN",
      "execution_count": null,
      "outputs": []
    },
    {
      "cell_type": "code",
      "source": [
        "from sklearn.decomposition import PCA\n",
        "\n",
        "# Assuming `DGC_adata_hvg.X` is the normalized expression matrix of highly variable genes\n",
        "expression_matrix = DGC_adata_hvg.X  # Already filtered for highly variable genes\n",
        "\n",
        "# Assuming `module_assignments` contains the module IDs for each of the highly variable genes\n",
        "# Module assignments should be an array with the same length as the number of genes in `DGC_adata_hvg`\n",
        "\n",
        "# Initialize a dictionary to store the eigengenes for each module\n",
        "eigengenes = {}\n",
        "\n",
        "# Loop over each module\n",
        "for module_id in np.unique(module_assignments):\n",
        "    # Get the indices of genes in this module\n",
        "    module_genes = np.where(module_assignments == module_id)[0]\n",
        "\n",
        "    # Extract the expression values for these genes (rows in expression_matrix correspond to cells)\n",
        "    module_expression = expression_matrix[:, module_genes]\n",
        "\n",
        "    # Perform PCA to get the first principal component (eigengene)\n",
        "    pca = PCA(n_components=1)\n",
        "    eigengene = pca.fit_transform(module_expression.T)  # Transpose to make genes as columns\n",
        "\n",
        "    # Store the eigengene for this module in the dictionary\n",
        "    eigengenes[module_id] = eigengene.flatten()  # Flatten to make it a 1D vector\n",
        "\n",
        "# Print eigengenes for each module\n",
        "# for module_id, eigengene in eigengenes.items():\n",
        "#     # print(f\"Eigengene for module {module_id} has shape: {eigengene.shape}\")\n"
      ],
      "metadata": {
        "id": "asAtMxV-eVqZ"
      },
      "id": "asAtMxV-eVqZ",
      "execution_count": null,
      "outputs": []
    },
    {
      "cell_type": "code",
      "source": [
        "import matplotlib.pyplot as plt\n",
        "\n",
        "# Assuming eigengenes is a dictionary with module ids as keys and eigengenes as values\n",
        "for module_id, eigengene in eigengenes.items():\n",
        "    # Assuming you have the genes used in each module, e.g.:\n",
        "    module_genes = np.where(module_assignments == module_id)[0]\n",
        "    gene_names = DGC_adata_hvg.var_names[module_genes]  # Gene names for the current module\n",
        "\n",
        "    plt.figure(figsize=(3, 2))\n",
        "    plt.plot(gene_names, eigengene, marker='o')\n",
        "    plt.title(f\"Eigengene for Module {module_id}\")\n",
        "    plt.xlabel(\"Gene Name\")\n",
        "    plt.ylabel(\"Eigengene Value\")\n",
        "    plt.xticks(rotation=30)  # Rotate gene names for better readability\n",
        "    plt.tight_layout()\n",
        "    plt.show()\n"
      ],
      "metadata": {
        "id": "whANpZ5hi4UM"
      },
      "id": "whANpZ5hi4UM",
      "execution_count": null,
      "outputs": []
    },
    {
      "cell_type": "code",
      "source": [
        "for module_id, eigengene in eigengenes.items():\n",
        "    # Assuming 'DGC_adata.obs['cell_type']' is a categorical variable (e.g., cell type)\n",
        "    # You can correlate the eigengene with cell type or any other metadata\n",
        "    cell_type = DGC_adata_hvg.obs['louvain']\n",
        "    correlation = np.corrcoef(eigengene, cell_type)[0, 1]\n",
        "    print(f\"Correlation between eigengene for module {module_id} and cell type: {correlation}\")\n"
      ],
      "metadata": {
        "id": "wId16D-prT1H"
      },
      "id": "wId16D-prT1H",
      "execution_count": null,
      "outputs": []
    }
  ],
  "metadata": {
    "colab": {
      "provenance": [],
      "private_outputs": true,
      "include_colab_link": true
    },
    "kernelspec": {
      "display_name": "Python 3 (ipykernel)",
      "language": "python",
      "name": "python3"
    },
    "language_info": {
      "codemirror_mode": {
        "name": "ipython",
        "version": 3
      },
      "file_extension": ".py",
      "mimetype": "text/x-python",
      "name": "python",
      "nbconvert_exporter": "python",
      "pygments_lexer": "ipython3",
      "version": "3.11.4"
    },
    "varInspector": {
      "cols": {
        "lenName": 16,
        "lenType": 16,
        "lenVar": 40
      },
      "kernels_config": {
        "python": {
          "delete_cmd_postfix": "",
          "delete_cmd_prefix": "del ",
          "library": "var_list.py",
          "varRefreshCmd": "print(var_dic_list())"
        },
        "r": {
          "delete_cmd_postfix": ") ",
          "delete_cmd_prefix": "rm(",
          "library": "var_list.r",
          "varRefreshCmd": "cat(var_dic_list()) "
        }
      },
      "types_to_exclude": [
        "module",
        "function",
        "builtin_function_or_method",
        "instance",
        "_Feature"
      ],
      "window_display": false
    }
  },
  "nbformat": 4,
  "nbformat_minor": 5
}