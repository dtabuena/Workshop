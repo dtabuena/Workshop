{
  "nbformat": 4,
  "nbformat_minor": 0,
  "metadata": {
    "colab": {
      "provenance": [],
      "authorship_tag": "ABX9TyPjgPwcvNv/ND0XlOJmlcMb",
      "include_colab_link": true
    },
    "kernelspec": {
      "name": "python3",
      "display_name": "Python 3"
    },
    "language_info": {
      "name": "python"
    }
  },
  "cells": [
    {
      "cell_type": "markdown",
      "metadata": {
        "id": "view-in-github",
        "colab_type": "text"
      },
      "source": [
        "<a href=\"https://colab.research.google.com/github/dtabuena/Workshop/blob/main/Image/Soma_Size/Cell_pose_JB_data.ipynb\" target=\"_parent\"><img src=\"https://colab.research.google.com/assets/colab-badge.svg\" alt=\"Open In Colab\"/></a>"
      ]
    },
    {
      "cell_type": "code",
      "source": [
        "!pip install scikit-image\n",
        "#--quiet\n",
        "!pip install matplotlib\n",
        "#--quiet\n",
        "!pip install pandas\n",
        "#--quiet\n",
        "!pip3 install torch torchvision torchaudio --index-url https://download.pytorch.org/whl/cu118"
      ],
      "metadata": {
        "id": "3-b5oGv13Np9"
      },
      "execution_count": null,
      "outputs": []
    },
    {
      "cell_type": "code",
      "source": [
        "!pip install cellpose"
      ],
      "metadata": {
        "id": "oTooe_PR3697"
      },
      "execution_count": null,
      "outputs": []
    },
    {
      "cell_type": "code",
      "source": [],
      "metadata": {
        "id": "YTJiSldlQnVG"
      },
      "execution_count": null,
      "outputs": []
    },
    {
      "cell_type": "code",
      "execution_count": 3,
      "metadata": {
        "id": "xvqLOdv2XEgN"
      },
      "outputs": [],
      "source": [
        "import matplotlib\n",
        "import tifffile\n",
        "import os\n",
        "import numpy as np\n",
        "import matplotlib.pyplot as plt\n",
        "import skimage as ski\n",
        "import pandas as pd\n",
        "from tqdm import tqdm\n",
        "import scipy as sci\n",
        "from cellpose import models"
      ]
    },
    {
      "cell_type": "code",
      "source": [
        "def plot_point_data_pcol(x,y,z,image_stack,vmin=None,vmax=None,lw=.2,figsize=(3,2.7),rad=None,cmap='viridis'):\n",
        "    \"\"\" Assume 'zxyc' format\"\"\"\n",
        "\n",
        "    if rad is not None:\n",
        "        min_x = np.max([x-rad,0])\n",
        "        max_x = np.min([x+rad,image_stack.shape[1]])\n",
        "        min_y = np.max([y-rad,0])\n",
        "        max_y = np.min([y+rad,image_stack.shape[2]])\n",
        "        image_stack = image_stack[:,min_y:max_y,min_x:max_x]\n",
        "        x=rad\n",
        "        y=rad\n",
        "\n",
        "    xy_slice = image_stack[z,:,:]\n",
        "    zy_slice = image_stack[:,:,x].transpose([1,0])\n",
        "    zx_slice = image_stack[:,y,:]\n",
        "\n",
        "    vmin = np.percentile(image_stack,.1)\n",
        "    vmax = np.percentile(image_stack,99.9)\n",
        "    print(vmin,vmax)\n",
        "\n",
        "    fig,ax=plt.subplots(2,3,width_ratios=[5, 1, .5],height_ratios=(5,1),figsize=figsize,dpi=300)\n",
        "    ax=ax.flatten()\n",
        "    # ,aspect='auto'\n",
        "    cbh=ax[0].pcolorfast(xy_slice,zorder=-1, vmin=vmin, vmax=vmax, cmap=cmap) # cmap=cmap,\n",
        "    ax[0].axvline(x,color='m',linewidth=lw)\n",
        "    ax[0].axhline(y,color='c',linewidth=lw)\n",
        "    ax[0].set_xticks([])\n",
        "    ax[0].invert_yaxis()\n",
        "\n",
        "    ax[1].imshow(zy_slice,aspect='auto',zorder=-1, vmin=vmin, vmax=vmax, cmap=cmap) # ,vmin=vmin,vmax=vmax,cmap=cmap,\n",
        "    ax[1].axhline(y,color='c',linewidth=lw)\n",
        "    ax[1].axvline(z,color='y',linewidth=lw)\n",
        "    ax[1].set_yticks([])\n",
        "    ax[1].set_xticks([])\n",
        "\n",
        "    ax[3].imshow(zx_slice,aspect='auto',zorder=-1, vmin=vmin, vmax=vmax, cmap=cmap) # ,vmin=vmin,vmax=vmax,cmap=cmap,\n",
        "    ax[3].axvline(x,color='m',linewidth=lw)\n",
        "    ax[3].axhline(z,color='y',linewidth=lw)\n",
        "\n",
        "    plt.colorbar(cbh,cax=ax[2])\n",
        "\n",
        "    for a in ax[4:]:\n",
        "        a.axis('off')\n",
        "    plt.tight_layout()\n",
        "    return fig,ax,cbh"
      ],
      "metadata": {
        "id": "lLKqrsDSpbHa"
      },
      "execution_count": 4,
      "outputs": []
    },
    {
      "cell_type": "code",
      "source": [
        "def plot_point_data_rgb(x,y,z,image_stack,vmin=None,vmax=None,lw=.2,figsize=(3,2.7),rad=None):\n",
        "    \"\"\" Assume 'zxyc' format\"\"\"\n",
        "\n",
        "    if rad is not None:\n",
        "        min_x = np.max([x-rad,0])\n",
        "        max_x = np.min([x+rad,image_stack.shape[1]])\n",
        "        min_y = np.max([y-rad,0])\n",
        "        max_y = np.min([y+rad,image_stack.shape[2]])\n",
        "        image_stack = image_stack[:,min_y:max_y,min_x:max_x,:]\n",
        "        x=rad\n",
        "        y=rad\n",
        "\n",
        "    print(image_stack.shape,x,y)\n",
        "\n",
        "    xy_slice = image_stack[z,:,:,:]\n",
        "    zy_slice = image_stack[:,:,x,:].transpose([1,0,2])\n",
        "    zx_slice = image_stack[:,y,:,:]\n",
        "\n",
        "\n",
        "    z_ratio = image_stack.shape[0]/image_stack.shape[1]\n",
        "\n",
        "    fig,ax=plt.subplots(2,2,width_ratios=[1, z_ratio],height_ratios=(1,z_ratio),figsize=figsize,dpi=300)\n",
        "    ax=ax.flatten()\n",
        "\n",
        "    ax[0].imshow(xy_slice,aspect='auto',zorder=-1) # vmin=vmin,vmax=vmax,cmap=cmap,\n",
        "    ax[0].axvline(x,color='m',linewidth=lw)\n",
        "    ax[0].axhline(y,color='c',linewidth=lw)\n",
        "    ax[0].set_xticks([])\n",
        "\n",
        "    ax[1].imshow(zy_slice,aspect='auto',zorder=-1) # ,vmin=vmin,vmax=vmax,cmap=cmap,\n",
        "    ax[1].axhline(y,color='c',linewidth=lw)\n",
        "    ax[1].axvline(z,color='y',linewidth=lw)\n",
        "    ax[1].set_yticks([])\n",
        "    ax[1].set_xticks([])\n",
        "\n",
        "    ax[2].imshow(zx_slice,aspect='auto',zorder=-1) # ,vmin=vmin,vmax=vmax,cmap=cmap,\n",
        "    ax[2].axvline(x,color='m',linewidth=lw)\n",
        "    ax[2].axhline(z,color='y',linewidth=lw)\n",
        "\n",
        "\n",
        "\n",
        "\n",
        "    ax[3].axis('off')\n",
        "    plt.tight_layout()\n",
        "    return fig,ax\n",
        "\n",
        "\n",
        "\n",
        "def dimension_to_front(data,dim_x):\n",
        "    dim_list = list(np.arange(len(data.shape)))\n",
        "    transpose = [dim_list[dim_x]] + dim_list[:dim_x] + dim_list[dim_x+1:]\n",
        "    data_t = data.transpose(transpose)\n",
        "    data_t =data_t.astype('float16')\n",
        "    invs_transpose = list(np.argsort(transpose))\n",
        "    return data_t, transpose, invs_transpose\n",
        "\n",
        "def norm_channels(im_data,tiff_format,clip=False):\n",
        "    color_dim = tiff_format.index('c')\n",
        "    data_t, transpose, invs_transpose = dimension_to_front(im_data,color_dim)\n",
        "    num_channels = data_t.shape[0]\n",
        "    for c in np.arange(num_channels):\n",
        "        c_data = data_t[c,:]\n",
        "        (top,bot) = np.percentile(c_data.flatten(),[99,1])\n",
        "        c_data = (c_data-bot)/(top-bot)\n",
        "        data_t[c,:] = c_data\n",
        "    im_data = data_t.transpose(invs_transpose)\n",
        "    if clip:\n",
        "        im_data[im_data>1]=1\n",
        "        im_data[im_data<0]=0\n",
        "    return im_data\n",
        "\n",
        "def med_filt_stack(img,d):\n",
        "    color_dim = tiff_format.index('c')\n",
        "    z_dim = tiff_format.index('z')\n",
        "    color_dim=1\n",
        "    z_dim=0\n",
        "    for c in range(img.shape[color_dim]):\n",
        "        for z in range(img.shape[z_dim]):\n",
        "            img[z,c,:,:] = ski.filters.median(img[z,c,:,:],footprint=np.ones([d,d]))\n",
        "    return img\n"
      ],
      "metadata": {
        "id": "yAVC2Emfov0x"
      },
      "execution_count": 5,
      "outputs": []
    },
    {
      "cell_type": "code",
      "source": [
        "\n",
        "\"\"\"On Site\"\"\"\n",
        "source_directory = 'C:/Users/dennis.tabuena/Dropbox (Gladstone)/0_Projects/_Hyper+Crisper/NeunSoma/'\n",
        "\"\"\"Off Site\"\"\"\n",
        "source_directory = 'C:\\\\Users\\\\denni\\\\Dropbox (Gladstone)\\\\0_Projects\\\\_Hyper+Crisper\\\\Morphological_Analysis\\\\NeuN_5-10mo\\\\TIFF'\n",
        "\n",
        "\n",
        "os.chdir(source_directory)\n"
      ],
      "metadata": {
        "id": "9bqwXEK4DHnb"
      },
      "execution_count": 9,
      "outputs": []
    },
    {
      "cell_type": "code",
      "source": [
        "\n",
        "my_tiffs = list()\n",
        "for rt,dirs,file_list in os.walk(source_directory):\n",
        "    for file in file_list:\n",
        "        if 'tif' in file:\n",
        "            my_tiffs.append(os.path.join(rt,file))\n",
        "print(my_tiffs)\n",
        "\n",
        "curr_tif = my_tiffs[0]"
      ],
      "metadata": {
        "id": "XHJTuAXOsE6U",
        "colab": {
          "base_uri": "https://localhost:8080/"
        },
        "outputId": "acabbdfa-d3d0-47d2-ffb2-d65203f5fedf"
      },
      "execution_count": 10,
      "outputs": [
        {
          "output_type": "stream",
          "name": "stdout",
          "text": [
            "['C:\\\\Users\\\\denni\\\\Dropbox (Gladstone)\\\\0_Projects\\\\_Hyper+Crisper\\\\Morphological_Analysis\\\\NeuN_5-10mo\\\\TIFF\\\\DAPI-NeuN_E3-E_20x2_1.tif', 'C:\\\\Users\\\\denni\\\\Dropbox (Gladstone)\\\\0_Projects\\\\_Hyper+Crisper\\\\Morphological_Analysis\\\\NeuN_5-10mo\\\\TIFF\\\\DAPI-NeuN_E3-E_20x2_2.tif', 'C:\\\\Users\\\\denni\\\\Dropbox (Gladstone)\\\\0_Projects\\\\_Hyper+Crisper\\\\Morphological_Analysis\\\\NeuN_5-10mo\\\\TIFF\\\\DAPI-NeuN_E3-F_20x2_1.tif', 'C:\\\\Users\\\\denni\\\\Dropbox (Gladstone)\\\\0_Projects\\\\_Hyper+Crisper\\\\Morphological_Analysis\\\\NeuN_5-10mo\\\\TIFF\\\\DAPI-NeuN_E3-F_20x2_2.tif', 'C:\\\\Users\\\\denni\\\\Dropbox (Gladstone)\\\\0_Projects\\\\_Hyper+Crisper\\\\Morphological_Analysis\\\\NeuN_5-10mo\\\\TIFF\\\\DAPI-NeuN_E3-G_20x2_1.tif', 'C:\\\\Users\\\\denni\\\\Dropbox (Gladstone)\\\\0_Projects\\\\_Hyper+Crisper\\\\Morphological_Analysis\\\\NeuN_5-10mo\\\\TIFF\\\\DAPI-NeuN_E3-G_20x2_2.tif', 'C:\\\\Users\\\\denni\\\\Dropbox (Gladstone)\\\\0_Projects\\\\_Hyper+Crisper\\\\Morphological_Analysis\\\\NeuN_5-10mo\\\\TIFF\\\\DAPI-NeuN_E3-H_20x2_1.tif', 'C:\\\\Users\\\\denni\\\\Dropbox (Gladstone)\\\\0_Projects\\\\_Hyper+Crisper\\\\Morphological_Analysis\\\\NeuN_5-10mo\\\\TIFF\\\\DAPI-NeuN_E3-H_20x2_2.tif', 'C:\\\\Users\\\\denni\\\\Dropbox (Gladstone)\\\\0_Projects\\\\_Hyper+Crisper\\\\Morphological_Analysis\\\\NeuN_5-10mo\\\\TIFF\\\\DAPI-NeuN_E3-I_20x2_1.tif', 'C:\\\\Users\\\\denni\\\\Dropbox (Gladstone)\\\\0_Projects\\\\_Hyper+Crisper\\\\Morphological_Analysis\\\\NeuN_5-10mo\\\\TIFF\\\\DAPI-NeuN_E3-I_20x2_2.tif', 'C:\\\\Users\\\\denni\\\\Dropbox (Gladstone)\\\\0_Projects\\\\_Hyper+Crisper\\\\Morphological_Analysis\\\\NeuN_5-10mo\\\\TIFF\\\\DAPI-NeuN_E3-J_20x2_1.tif', 'C:\\\\Users\\\\denni\\\\Dropbox (Gladstone)\\\\0_Projects\\\\_Hyper+Crisper\\\\Morphological_Analysis\\\\NeuN_5-10mo\\\\TIFF\\\\DAPI-NeuN_E3-J_20x2_2.tif', 'C:\\\\Users\\\\denni\\\\Dropbox (Gladstone)\\\\0_Projects\\\\_Hyper+Crisper\\\\Morphological_Analysis\\\\NeuN_5-10mo\\\\TIFF\\\\DAPI-NeuN_E4-F_20x2_1.tif', 'C:\\\\Users\\\\denni\\\\Dropbox (Gladstone)\\\\0_Projects\\\\_Hyper+Crisper\\\\Morphological_Analysis\\\\NeuN_5-10mo\\\\TIFF\\\\DAPI-NeuN_E4-F_20x2_2.tif', 'C:\\\\Users\\\\denni\\\\Dropbox (Gladstone)\\\\0_Projects\\\\_Hyper+Crisper\\\\Morphological_Analysis\\\\NeuN_5-10mo\\\\TIFF\\\\DAPI-NeuN_E4-G_20x2_1.tif', 'C:\\\\Users\\\\denni\\\\Dropbox (Gladstone)\\\\0_Projects\\\\_Hyper+Crisper\\\\Morphological_Analysis\\\\NeuN_5-10mo\\\\TIFF\\\\DAPI-NeuN_E4-G_20x2_2.tif', 'C:\\\\Users\\\\denni\\\\Dropbox (Gladstone)\\\\0_Projects\\\\_Hyper+Crisper\\\\Morphological_Analysis\\\\NeuN_5-10mo\\\\TIFF\\\\DAPI-NeuN_E4-H_20x2_1.tif', 'C:\\\\Users\\\\denni\\\\Dropbox (Gladstone)\\\\0_Projects\\\\_Hyper+Crisper\\\\Morphological_Analysis\\\\NeuN_5-10mo\\\\TIFF\\\\DAPI-NeuN_E4-H_20x2_2.tif', 'C:\\\\Users\\\\denni\\\\Dropbox (Gladstone)\\\\0_Projects\\\\_Hyper+Crisper\\\\Morphological_Analysis\\\\NeuN_5-10mo\\\\TIFF\\\\DAPI-NeuN_E4-K_20x2_1.tif', 'C:\\\\Users\\\\denni\\\\Dropbox (Gladstone)\\\\0_Projects\\\\_Hyper+Crisper\\\\Morphological_Analysis\\\\NeuN_5-10mo\\\\TIFF\\\\DAPI-NeuN_E4-K_20x2_2.tif', 'C:\\\\Users\\\\denni\\\\Dropbox (Gladstone)\\\\0_Projects\\\\_Hyper+Crisper\\\\Morphological_Analysis\\\\NeuN_5-10mo\\\\TIFF\\\\DAPI-NeuN_E4-L_20x2_1.tif', 'C:\\\\Users\\\\denni\\\\Dropbox (Gladstone)\\\\0_Projects\\\\_Hyper+Crisper\\\\Morphological_Analysis\\\\NeuN_5-10mo\\\\TIFF\\\\DAPI-NeuN_E4-L_20x2_2.tif', 'C:\\\\Users\\\\denni\\\\Dropbox (Gladstone)\\\\0_Projects\\\\_Hyper+Crisper\\\\Morphological_Analysis\\\\NeuN_5-10mo\\\\TIFF\\\\DAPI-NeuN_E4-M_20x2_1.tif', 'C:\\\\Users\\\\denni\\\\Dropbox (Gladstone)\\\\0_Projects\\\\_Hyper+Crisper\\\\Morphological_Analysis\\\\NeuN_5-10mo\\\\TIFF\\\\DAPI-NeuN_E4-M_20x2_2.tif']\n"
          ]
        }
      ]
    },
    {
      "cell_type": "markdown",
      "source": [],
      "metadata": {
        "id": "0oEYuCG24liH"
      }
    },
    {
      "cell_type": "code",
      "source": [
        "tiff_format = 'zcyx'\n",
        "color_format = 'RB'\n",
        "rbg_channel_order = [1,0,0]"
      ],
      "metadata": {
        "id": "N129_aDpuXMI"
      },
      "execution_count": 11,
      "outputs": []
    },
    {
      "cell_type": "code",
      "source": [
        "tiff_data_raw = tifffile.imread(curr_tif)\n",
        "tiff_data = tiff_data_raw.copy()\n",
        "tiff_format = 'zcyx'\n",
        "print(tiff_data.shape)\n",
        "\n",
        "tiff_data = ski.filters.gaussian(tiff_data, sigma=[1,1,1],mode='reflect',truncate = 4,channel_axis=1)\n",
        "tiff_data = med_filt_stack(tiff_data,5)\n",
        "print(tiff_data.shape)\n",
        "tiff_data = norm_channels(tiff_data,'zcyx',clip=True)\n",
        "tiff_data = tiff_data[:,rbg_channel_order,:,:]\n",
        "print(tiff_data.shape)\n",
        "tiff_data[:,1,:,:]=0\n"
      ],
      "metadata": {
        "colab": {
          "base_uri": "https://localhost:8080/"
        },
        "id": "Xu-Xr2LeBb0o",
        "outputId": "ff0175ca-7de8-4c51-e8df-34738ed3c7af"
      },
      "execution_count": 12,
      "outputs": [
        {
          "output_type": "stream",
          "name": "stdout",
          "text": [
            "(29, 2, 800, 800)\n",
            "(29, 2, 800, 800)\n",
            "(29, 3, 800, 800)\n"
          ]
        }
      ]
    },
    {
      "cell_type": "code",
      "source": [
        "rgb_stack = tiff_data.transpose(0,2,3,1)*225\n",
        "rgb_stack[rgb_stack<0]=0\n",
        "rgb_stack[rgb_stack>255]=255\n",
        "rgb_stack=rgb_stack.astype('uint8')\n",
        "\n",
        "# _=plot_point_data_rgb(400,600,20,rgb_stack,figsize=(3,2.7)) #,rad=50\n"
      ],
      "metadata": {
        "id": "KHAUsmCUBZHX"
      },
      "execution_count": null,
      "outputs": []
    },
    {
      "cell_type": "code",
      "source": [
        "\"\"\" Display Split Projections \"\"\"\n",
        "num_c = tiff_data.shape[1]\n",
        "fig,ax=plt.subplots(1,num_c,figsize=(num_c*1,1),dpi=600)\n",
        "colors = ['Reds','Greens','Blues','gray']\n",
        "for c in range(num_c):\n",
        "    ax[c].imshow(np.max(tiff_data[:,c,:,:],axis=0), cmap=colors[c],vmin=0,vmax=1)\n",
        "    ax[c].axis('off')\n",
        "plt.tight_layout()"
      ],
      "metadata": {
        "id": "ayEKJ1X81OR2"
      },
      "execution_count": null,
      "outputs": []
    },
    {
      "cell_type": "code",
      "source": [
        "# colors = ['Reds','Greens','Blues','gray_r']\n",
        "# for z in range(tiff_data.shape[0]):\n",
        "#     num_c = tiff_data.shape[1]\n",
        "#     fig,ax=plt.subplots(1,num_c,figsize=(num_c*1,1),dpi=300)\n",
        "#     for c in range(num_c):\n",
        "#         ax[c].imshow(tiff_data[z,c], cmap=colors[c],vmin=0,vmax=1)\n",
        "#         ax[c].axis('off')\n",
        "#     plt.tight_layout()\n",
        "#     plt.show()"
      ],
      "metadata": {
        "id": "qXJiPhsv2Vu_"
      },
      "execution_count": 15,
      "outputs": []
    },
    {
      "cell_type": "code",
      "source": [],
      "metadata": {
        "id": "-12u-6rNKD9i"
      },
      "execution_count": null,
      "outputs": []
    },
    {
      "cell_type": "code",
      "source": [
        "z_show = 13\n",
        "\n",
        "img_rgb = tiff_data.transpose([0,2,3,1])*255\n",
        "img_rgb[img_rgb>255]=255\n",
        "img_rgb[img_rgb<0]=0\n",
        "img_rgb=img_rgb.astype('uint8')\n",
        "fig,ax =plt.subplots(1,2,figsize=(3,1.5),dpi=200)\n",
        "ax[0].imshow(img_rgb[z_show])\n",
        "y=465\n",
        "xb=np.cumsum([400,100])\n",
        "ax[0].plot(xb,[y,y],'w',linewidth=.25)\n",
        "ax[1].plot(img_rgb[z_show,y,:,0],color='r')\n",
        "ax[1].plot(img_rgb[z_show,y,:,1],color='g')\n",
        "ax[1].plot(img_rgb[z_show,y,:,2],color='b')\n",
        "ax[1].set_xlim(xb)\n",
        "plt.tight_layout()"
      ],
      "metadata": {
        "id": "gZm8PJqbB5hn"
      },
      "execution_count": null,
      "outputs": []
    },
    {
      "cell_type": "code",
      "source": [
        "zi = 35\n",
        "cell_diam = 30\n",
        "nuc_diam = None\n",
        "cell_channel = 0\n",
        "nuclear_channel = 3\n",
        "channel_axis = 3"
      ],
      "metadata": {
        "id": "lInlJCAyAlRP"
      },
      "execution_count": 18,
      "outputs": []
    },
    {
      "cell_type": "code",
      "source": [],
      "metadata": {
        "id": "qriePvgQKrpi"
      },
      "execution_count": 18,
      "outputs": []
    },
    {
      "cell_type": "code",
      "source": [
        "\"\"\" Define Nuclear Model \"\"\"\n",
        "nuclear_model = models.Cellpose(model_type='nuclei',gpu=True)\n",
        "(nuclear_masks, _, _, _) =  nuclear_model.eval(img_rgb, channels=[nuclear_channel, 0], channel_axis = channel_axis, diameter=nuc_diam, do_3D=False, stitch_threshold=0.02,) # ,stitch_threshold=0.02\n",
        "\n",
        "fig,ax=plt.subplots(1,figsize=(2,2),dpi=300)\n",
        "plt.imshow(img_rgb[20,:,:,2],cmap='Blues')\n",
        "plt.contour(nuclear_masks[20,:,:],linewidths=.2)\n"
      ],
      "metadata": {
        "id": "R5s_Mk-5DjiQ"
      },
      "execution_count": null,
      "outputs": []
    },
    {
      "cell_type": "code",
      "source": [
        "\"\"\" Define Cell Model \"\"\"\n",
        "cell_diam=40\n",
        "cell_model = models.Cellpose(model_type='cyto3',gpu=True)\n",
        "cell_channel = 1\n",
        "nuclear_channel = 0\n",
        "print('nuclear_channel',nuclear_channel)\n",
        "print('cell_channel',cell_channel)\n",
        "(cell_masks, flows, styles, diams) =  cell_model.eval(img_rgb, channels=[cell_channel,nuclear_channel], channel_axis = channel_axis, diameter=cell_diam, do_3D=False, stitch_threshold=0.02,) # ,stitch_threshold=0.02, diameter=diam,\n",
        "fig,ax=plt.subplots(1,figsize=(3,3),dpi=300)\n",
        "plt.imshow(np.sum(cell_masks>0,axis=0))"
      ],
      "metadata": {
        "id": "S6pBZg_DTeQ_",
        "colab": {
          "base_uri": "https://localhost:8080/"
        },
        "outputId": "d348955c-0203-4b03-f804-59055b1fbc95"
      },
      "execution_count": 57,
      "outputs": [
        {
          "output_type": "stream",
          "name": "stdout",
          "text": [
            "nuclear_channel 0\n",
            "cell_channel 1\n"
          ]
        },
        {
          "output_type": "stream",
          "name": "stderr",
          "text": [
            "100%|█████████████████████████████████████████████████████████████████████████████████| 28/28 [00:00<00:00, 172.84it/s]\n"
          ]
        }
      ]
    },
    {
      "cell_type": "code",
      "source": [
        "\"\"\" Display Split Projections \"\"\"\n",
        "num_c = tiff_data.shape[1]\n",
        "fig,ax=plt.subplots(1,num_c,figsize=(num_c*1,1),dpi=600)\n",
        "colors = ['Reds','Greens','Blues','gray']\n",
        "for c in range(num_c):\n",
        "    ax[c].imshow(np.max(tiff_data[:,c,:,:],axis=0), cmap=colors[c],vmin=0,vmax=1)\n",
        "    ax[c].axis('off')\n",
        "plt.tight_layout()"
      ],
      "metadata": {
        "id": "JMseAEAokTUJ"
      },
      "execution_count": null,
      "outputs": []
    },
    {
      "cell_type": "code",
      "source": [
        "def no_edges(masks):\n",
        "    masks_og = masks.copy()\n",
        "    planes = [masks[0,:,:],\n",
        "              masks[-1,:,:],\n",
        "              masks[:,0,:],\n",
        "              masks[:,-1,:],\n",
        "              masks[:,:,0],\n",
        "              masks[:,:,-1]]\n",
        "\n",
        "    for p in planes:\n",
        "        del_ids = np.unique(p)\n",
        "        for id in del_ids:\n",
        "            masks[masks==id] = 0\n",
        "    return masks, masks_og\n",
        "\n",
        "cell_masks, cell_masks_og = no_edges(cell_masks)"
      ],
      "metadata": {
        "id": "kA_yyNKG4RYd"
      },
      "execution_count": 60,
      "outputs": []
    },
    {
      "cell_type": "code",
      "source": [
        "nuc_ids = np.unique(nuclear_masks)\n",
        "cell_ids = np.unique(cell_masks)\n",
        "nuc_ids = nuc_ids[nuc_ids>0]\n",
        "cell_ids = cell_ids[cell_ids>0]\n",
        "sizes, edges = np.histogram(cell_masks.flatten(),bins=np.concatenate([cell_ids,[np.max(cell_ids+1)]]))\n",
        "cell_df = pd.DataFrame({'cell_ids':cell_ids,'nuc_ids':[list()]*len(cell_ids),'size_vxl':sizes}).set_index('cell_ids')\n",
        "for c in cell_df.index:\n",
        "    nucs = nuclear_masks[cell_masks==c]\n",
        "    nucs = nucs[nucs>0]\n",
        "    cell_df.at[c,'nuc_ids']=np.unique(nucs)\n",
        "multi_nuc=[np.prod(np.shape(ni))>1 for ni in cell_df['nuc_ids']]\n",
        "cell_df['multi_nuc']=multi_nuc\n",
        "cell_df = cell_df[~cell_df['multi_nuc']]\n",
        "\n",
        "no_nucs =[np.prod(np.shape(ni))<1 for ni in cell_df['nuc_ids']]\n",
        "cell_df['no_nucs']=no_nucs\n",
        "cell_df = cell_df[~cell_df['no_nucs']]\n",
        "display(cell_df.head(500))"
      ],
      "metadata": {
        "id": "cfOmMttkonDP"
      },
      "execution_count": null,
      "outputs": []
    },
    {
      "cell_type": "code",
      "source": [
        "filt_mask=np.zeros_like(cell_masks)\n",
        "for cell in cell_df.index:\n",
        "    filt_mask[cell_masks==cell]=cell"
      ],
      "metadata": {
        "id": "SVvcxJpGPk7T"
      },
      "execution_count": 62,
      "outputs": []
    },
    {
      "cell_type": "code",
      "source": [
        "size_mask=cell_masks.copy()\n",
        "for c in cell_df.index:\n",
        "    size_mask[filt_mask==c]=cell_df.loc[c,'size_vxl']\n",
        "\n",
        "fi,ax,cbh = plot_point_data_pcol(400,400,13,size_mask,figsize=(3.5,2.7),cmap='hot')\n",
        "tifffile.imwrite('./size_mask.tif',size_mask)"
      ],
      "metadata": {
        "id": "3-sE0LlrlIYG"
      },
      "execution_count": null,
      "outputs": []
    },
    {
      "cell_type": "code",
      "source": [],
      "metadata": {
        "id": "1f-dVsB8mxgT"
      },
      "execution_count": null,
      "outputs": []
    },
    {
      "cell_type": "code",
      "source": [],
      "metadata": {
        "id": "YhD5kwf_cyw9"
      },
      "execution_count": null,
      "outputs": []
    },
    {
      "cell_type": "code",
      "source": [
        "\"\"\" Mark Edges \"\"\"\n",
        "edges = ski.filters.sobel(filt_mask)\n",
        "is_border = (edges-np.mean(edges)) > np.std(edges)*.9\n",
        "rgb_borders = img_rgb.copy()\n",
        "rgb_borders[:,:,:,1] = is_border*255\n",
        "plot_point_data_rgb(340,420,13,rgb_borders,figsize=(3,2.7))\n",
        "tifffile.imwrite('./rgb_borders.tif',rgb_borders)"
      ],
      "metadata": {
        "id": "QvqqpMpvksqR"
      },
      "execution_count": null,
      "outputs": []
    },
    {
      "cell_type": "code",
      "source": [
        "# size_bins = np.logspace(np.log10(np.min(sizes_um)),np.log10(np.max(sizes_um)),num=30,base=10)\n",
        "counts,size_bins = np.histogram(cell_df['size_vxl'],bins=20)\n",
        "fig,ax=plt.subplots(1,figsize=(3,1),dpi=300)\n",
        "ax.stairs(counts,size_bins)\n",
        "# ax.set_xscale('log')\n",
        "# kinda_big = 100\n",
        "# ax.axvline(kinda_big,color='k',ls=':')"
      ],
      "metadata": {
        "id": "dGMDuRFXhH8L"
      },
      "execution_count": null,
      "outputs": []
    },
    {
      "cell_type": "code",
      "source": [
        "\n",
        "distance = sci.ndimage.distance_transform_edt((filt_mask>0)*1)\n",
        "plot_point_data_pcol(200,200,25,distance,figsize=(3,2.7))\n",
        "\n",
        "# labels = ski.segmentation.watershed(distance)\n",
        "# plot_point_data_pcol(200,200,25,labels,figsize=(3,2.7))"
      ],
      "metadata": {
        "id": "Xay7Ew57r3t-"
      },
      "execution_count": null,
      "outputs": []
    },
    {
      "cell_type": "code",
      "source": [
        "def nd_feret(mask,scalars=None):\n",
        "    if scalars is None:\n",
        "        scalars=np.ones_like(mask.shape)\n",
        "    n_coords=np.where(mask)\n",
        "    feret_diams = list()\n",
        "    for s, coord in zip(scalars,n_coords):\n",
        "        diam = np.max(coord)-np.min(coord)\n",
        "        feret_diams.append(diam*s)\n",
        "    return feret_diams\n"
      ],
      "metadata": {
        "id": "HzcJGTQW04Zt"
      },
      "execution_count": 69,
      "outputs": []
    },
    {
      "cell_type": "code",
      "source": [
        "cell_df['max_dist']=np.nan\n",
        "cell_df['feret_d']=np.nan\n",
        "cell_df['feret_d']= cell_df['feret_d'].astype(object)\n",
        "for cell in cell_df.index:\n",
        "    cell_df.at[cell,'max_dist']=np.max(distance[filt_mask==cell])\n",
        "    cell_df.at[cell,'feret_d'] = nd_feret(filt_mask==cell) #,scalars=voxel_size_um[[2,0,1]]\n",
        "display(cell_df.head(500))"
      ],
      "metadata": {
        "id": "IAx2DRX-iIzf"
      },
      "execution_count": null,
      "outputs": []
    },
    {
      "cell_type": "code",
      "source": [
        "cell_df['prod_f']=[np.prod(fd) for fd in cell_df['feret_d'].values]\n",
        "cell_df['fill'] = cell_df['size_vxl']/cell_df['prod_f']\n",
        "display(cell_df.head(300))\n",
        "plt.scatter(cell_df['size_vxl'],cell_df['fill'])"
      ],
      "metadata": {
        "id": "dxwCNVHk3Je1"
      },
      "execution_count": null,
      "outputs": []
    },
    {
      "cell_type": "markdown",
      "source": [],
      "metadata": {
        "id": "FQ1kcj8y1A6V"
      }
    },
    {
      "cell_type": "code",
      "source": [],
      "metadata": {
        "colab": {
          "base_uri": "https://localhost:8080/"
        },
        "id": "qzlpPGKUrChr",
        "outputId": "dae3871e-9bd7-4926-b7b0-aea36e80781e"
      },
      "execution_count": null,
      "outputs": [
        {
          "output_type": "stream",
          "name": "stdout",
          "text": [
            "[10, 23, 33]\n"
          ]
        }
      ]
    },
    {
      "cell_type": "code",
      "source": [
        "plt.scatter(cell_df['max_dist'],cell_df['size_vxl'])"
      ],
      "metadata": {
        "id": "qWk33IpgpBkh"
      },
      "execution_count": null,
      "outputs": []
    }
  ]
}