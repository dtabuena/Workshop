{
  "nbformat": 4,
  "nbformat_minor": 0,
  "metadata": {
    "colab": {
      "provenance": [],
      "authorship_tag": "ABX9TyPOu26BUhoSSulHA2vBlIAr",
      "include_colab_link": true
    },
    "kernelspec": {
      "name": "python3",
      "display_name": "Python 3"
    },
    "language_info": {
      "name": "python"
    }
  },
  "cells": [
    {
      "cell_type": "markdown",
      "metadata": {
        "id": "view-in-github",
        "colab_type": "text"
      },
      "source": [
        "<a href=\"https://colab.research.google.com/github/dtabuena/Workshop/blob/main/Image/Soma_Size/Cell_pose_JB_data_PF.ipynb\" target=\"_parent\"><img src=\"https://colab.research.google.com/assets/colab-badge.svg\" alt=\"Open In Colab\"/></a>"
      ]
    },
    {
      "cell_type": "code",
      "source": [
        "!pip install scikit-image --quiet\n",
        "!pip install matplotlib --quiet\n",
        "!pip install pandas --quiet\n",
        "!pip3 install torch torchvision torchaudio --index-url https://download.pytorch.org/whl/cu118 --quiet\n",
        "!pip install cellpose --quiet"
      ],
      "metadata": {
        "id": "3-b5oGv13Np9"
      },
      "execution_count": 63,
      "outputs": []
    },
    {
      "cell_type": "code",
      "execution_count": 64,
      "metadata": {
        "id": "xvqLOdv2XEgN"
      },
      "outputs": [],
      "source": [
        "import matplotlib\n",
        "import tifffile\n",
        "import os\n",
        "import numpy as np\n",
        "import matplotlib.pyplot as plt\n",
        "import skimage as ski\n",
        "import pandas as pd\n",
        "from tqdm import tqdm\n",
        "import scipy as sci\n",
        "from cellpose import models"
      ]
    },
    {
      "cell_type": "code",
      "source": [
        "def plot_point_data_pcol(x,y,z,image_stack,vmin=None,vmax=None,lw=.2,figsize=(3,2.7),rad=None,cmap='viridis'):\n",
        "    \"\"\" Assume 'zxyc' format\"\"\"\n",
        "\n",
        "    if rad is not None:\n",
        "        min_x = np.max([x-rad,0])\n",
        "        max_x = np.min([x+rad,image_stack.shape[1]])\n",
        "        min_y = np.max([y-rad,0])\n",
        "        max_y = np.min([y+rad,image_stack.shape[2]])\n",
        "        image_stack = image_stack[:,min_y:max_y,min_x:max_x]\n",
        "        x=rad\n",
        "        y=rad\n",
        "\n",
        "    xy_slice = image_stack[z,:,:]\n",
        "    zy_slice = image_stack[:,:,x].transpose([1,0])\n",
        "    zx_slice = image_stack[:,y,:]\n",
        "\n",
        "    vmin = np.percentile(image_stack,.1)\n",
        "    vmax = np.percentile(image_stack,99.9)\n",
        "    print(vmin,vmax)\n",
        "\n",
        "    fig,ax=plt.subplots(2,3,width_ratios=[5, 1, .5],height_ratios=(5,1),figsize=figsize,dpi=300)\n",
        "    ax=ax.flatten()\n",
        "    # ,aspect='auto'\n",
        "    cbh=ax[0].pcolorfast(xy_slice,zorder=-1, vmin=vmin, vmax=vmax, cmap=cmap) # cmap=cmap,\n",
        "    ax[0].axvline(x,color='m',linewidth=lw)\n",
        "    ax[0].axhline(y,color='c',linewidth=lw)\n",
        "    ax[0].set_xticks([])\n",
        "    ax[0].invert_yaxis()\n",
        "\n",
        "    ax[1].imshow(zy_slice,aspect='auto',zorder=-1, vmin=vmin, vmax=vmax, cmap=cmap) # ,vmin=vmin,vmax=vmax,cmap=cmap,\n",
        "    ax[1].axhline(y,color='c',linewidth=lw)\n",
        "    ax[1].axvline(z,color='y',linewidth=lw)\n",
        "    ax[1].set_yticks([])\n",
        "    ax[1].set_xticks([])\n",
        "\n",
        "    ax[3].imshow(zx_slice,aspect='auto',zorder=-1, vmin=vmin, vmax=vmax, cmap=cmap) # ,vmin=vmin,vmax=vmax,cmap=cmap,\n",
        "    ax[3].axvline(x,color='m',linewidth=lw)\n",
        "    ax[3].axhline(z,color='y',linewidth=lw)\n",
        "\n",
        "    plt.colorbar(cbh,cax=ax[2])\n",
        "\n",
        "    for a in ax[4:]:\n",
        "        a.axis('off')\n",
        "    plt.tight_layout()\n",
        "    return fig,ax,cbh"
      ],
      "metadata": {
        "id": "lLKqrsDSpbHa"
      },
      "execution_count": 65,
      "outputs": []
    },
    {
      "cell_type": "code",
      "source": [
        "def plot_point_data_rgb(x,y,z,image_stack,vmin=None,vmax=None,lw=.2,figsize=(3,2.7),rad=None):\n",
        "    \"\"\" Assume 'zxyc' format\"\"\"\n",
        "\n",
        "    if rad is not None:\n",
        "        min_x = np.max([x-rad,0])\n",
        "        max_x = np.min([x+rad,image_stack.shape[1]])\n",
        "        min_y = np.max([y-rad,0])\n",
        "        max_y = np.min([y+rad,image_stack.shape[2]])\n",
        "        image_stack = image_stack[:,min_y:max_y,min_x:max_x,:]\n",
        "        x=rad\n",
        "        y=rad\n",
        "\n",
        "    print(image_stack.shape,x,y)\n",
        "\n",
        "    xy_slice = image_stack[z,:,:,:]\n",
        "    zy_slice = image_stack[:,:,x,:].transpose([1,0,2])\n",
        "    zx_slice = image_stack[:,y,:,:]\n",
        "\n",
        "\n",
        "    z_ratio = image_stack.shape[0]/image_stack.shape[1]\n",
        "\n",
        "    fig,ax=plt.subplots(2,2,width_ratios=[1, z_ratio],height_ratios=(1,z_ratio),figsize=figsize,dpi=300)\n",
        "    ax=ax.flatten()\n",
        "\n",
        "    ax[0].imshow(xy_slice,aspect='auto',zorder=-1) # vmin=vmin,vmax=vmax,cmap=cmap,\n",
        "    ax[0].axvline(x,color='m',linewidth=lw)\n",
        "    ax[0].axhline(y,color='c',linewidth=lw)\n",
        "    ax[0].set_xticks([])\n",
        "\n",
        "    ax[1].imshow(zy_slice,aspect='auto',zorder=-1) # ,vmin=vmin,vmax=vmax,cmap=cmap,\n",
        "    ax[1].axhline(y,color='c',linewidth=lw)\n",
        "    ax[1].axvline(z,color='y',linewidth=lw)\n",
        "    ax[1].set_yticks([])\n",
        "    ax[1].set_xticks([])\n",
        "\n",
        "    ax[2].imshow(zx_slice,aspect='auto',zorder=-1) # ,vmin=vmin,vmax=vmax,cmap=cmap,\n",
        "    ax[2].axvline(x,color='m',linewidth=lw)\n",
        "    ax[2].axhline(z,color='y',linewidth=lw)\n",
        "\n",
        "\n",
        "\n",
        "\n",
        "    ax[3].axis('off')\n",
        "    plt.tight_layout()\n",
        "    return fig,ax\n",
        "\n",
        "\n",
        "\n",
        "def dimension_to_front(data,dim_x):\n",
        "    dim_list = list(np.arange(len(data.shape)))\n",
        "    transpose = [dim_list[dim_x]] + dim_list[:dim_x] + dim_list[dim_x+1:]\n",
        "    data_t = data.transpose(transpose)\n",
        "    data_t =data_t.astype('float16')\n",
        "    invs_transpose = list(np.argsort(transpose))\n",
        "    return data_t, transpose, invs_transpose\n",
        "\n",
        "def norm_channels(im_data,tiff_format,clip=False):\n",
        "    color_dim = tiff_format.index('c')\n",
        "    data_t, transpose, invs_transpose = dimension_to_front(im_data,color_dim)\n",
        "    num_channels = data_t.shape[0]\n",
        "    for c in np.arange(num_channels):\n",
        "        c_data = data_t[c,:]\n",
        "        (top,bot) = np.percentile(c_data.flatten(),[99,1])\n",
        "        c_data = (c_data-bot)/(top-bot)\n",
        "        data_t[c,:] = c_data\n",
        "    im_data = data_t.transpose(invs_transpose)\n",
        "    if clip:\n",
        "        im_data[im_data>1]=1\n",
        "        im_data[im_data<0]=0\n",
        "    return im_data\n",
        "\n",
        "def med_filt_stack(img,d):\n",
        "    tiff_format = 'zcyx'\n",
        "    color_dim = tiff_format.index('c')\n",
        "    z_dim = tiff_format.index('z')\n",
        "    color_dim=1\n",
        "    z_dim=0\n",
        "    for c in range(img.shape[color_dim]):\n",
        "        for z in range(img.shape[z_dim]):\n",
        "            img[z,c,:,:] = ski.filters.median(img[z,c,:,:],footprint=np.ones([d,d]))\n",
        "    return img\n"
      ],
      "metadata": {
        "id": "yAVC2Emfov0x"
      },
      "execution_count": 66,
      "outputs": []
    },
    {
      "cell_type": "code",
      "source": [
        "\n",
        "\"\"\"On Site\"\"\"\n",
        "source_directory = 'C:/Users/dennis.tabuena/Dropbox (Gladstone)/0_Projects/_Hyper+Crisper/Morphological_Analysis/NeuN_5-10mo/TIFF'\n",
        "# \"\"\"Off Site\"\"\"\n",
        "# source_directory = 'C:\\\\Users\\\\denni\\\\Dropbox (Gladstone)\\\\0_Projects\\\\_Hyper+Crisper\\\\Morphological_Analysis\\\\NeuN_5-10mo\\\\TIFF'\n",
        "\n",
        "os.chdir(source_directory)\n",
        "my_tiffs = list()\n",
        "for rt,dirs,file_list in os.walk(source_directory):\n",
        "    for file in file_list:\n",
        "        if 'tif' in file:\n",
        "            my_tiffs.append(os.path.join(rt,file))\n",
        "curr_tif = my_tiffs[0]\n",
        "display(my_tiffs)"
      ],
      "metadata": {
        "id": "9bqwXEK4DHnb",
        "colab": {
          "base_uri": "https://localhost:8080/",
          "height": 894
        },
        "outputId": "824d5612-17b1-4836-c37e-a3b0e17ebf5f"
      },
      "execution_count": 77,
      "outputs": [
        {
          "output_type": "display_data",
          "data": {
            "text/plain": [
              "['C:/Users/dennis.tabuena/Dropbox (Gladstone)/0_Projects/_Hyper+Crisper/Morphological_Analysis/NeuN_5-10mo/TIFF\\\\DAPI-NeuN_E3-E_20x2_1.tif',\n",
              " 'C:/Users/dennis.tabuena/Dropbox (Gladstone)/0_Projects/_Hyper+Crisper/Morphological_Analysis/NeuN_5-10mo/TIFF\\\\DAPI-NeuN_E3-E_20x2_2.tif',\n",
              " 'C:/Users/dennis.tabuena/Dropbox (Gladstone)/0_Projects/_Hyper+Crisper/Morphological_Analysis/NeuN_5-10mo/TIFF\\\\DAPI-NeuN_E3-F_20x2_1.tif',\n",
              " 'C:/Users/dennis.tabuena/Dropbox (Gladstone)/0_Projects/_Hyper+Crisper/Morphological_Analysis/NeuN_5-10mo/TIFF\\\\DAPI-NeuN_E3-F_20x2_2.tif',\n",
              " 'C:/Users/dennis.tabuena/Dropbox (Gladstone)/0_Projects/_Hyper+Crisper/Morphological_Analysis/NeuN_5-10mo/TIFF\\\\DAPI-NeuN_E3-G_20x2_1.tif',\n",
              " 'C:/Users/dennis.tabuena/Dropbox (Gladstone)/0_Projects/_Hyper+Crisper/Morphological_Analysis/NeuN_5-10mo/TIFF\\\\DAPI-NeuN_E3-G_20x2_2.tif',\n",
              " 'C:/Users/dennis.tabuena/Dropbox (Gladstone)/0_Projects/_Hyper+Crisper/Morphological_Analysis/NeuN_5-10mo/TIFF\\\\DAPI-NeuN_E3-H_20x2_1.tif',\n",
              " 'C:/Users/dennis.tabuena/Dropbox (Gladstone)/0_Projects/_Hyper+Crisper/Morphological_Analysis/NeuN_5-10mo/TIFF\\\\DAPI-NeuN_E3-H_20x2_2.tif',\n",
              " 'C:/Users/dennis.tabuena/Dropbox (Gladstone)/0_Projects/_Hyper+Crisper/Morphological_Analysis/NeuN_5-10mo/TIFF\\\\DAPI-NeuN_E3-I_20x2_1.tif',\n",
              " 'C:/Users/dennis.tabuena/Dropbox (Gladstone)/0_Projects/_Hyper+Crisper/Morphological_Analysis/NeuN_5-10mo/TIFF\\\\DAPI-NeuN_E3-I_20x2_2.tif',\n",
              " 'C:/Users/dennis.tabuena/Dropbox (Gladstone)/0_Projects/_Hyper+Crisper/Morphological_Analysis/NeuN_5-10mo/TIFF\\\\DAPI-NeuN_E3-J_20x2_1.tif',\n",
              " 'C:/Users/dennis.tabuena/Dropbox (Gladstone)/0_Projects/_Hyper+Crisper/Morphological_Analysis/NeuN_5-10mo/TIFF\\\\DAPI-NeuN_E3-J_20x2_2.tif',\n",
              " 'C:/Users/dennis.tabuena/Dropbox (Gladstone)/0_Projects/_Hyper+Crisper/Morphological_Analysis/NeuN_5-10mo/TIFF\\\\DAPI-NeuN_E4-F_20x2_1.tif',\n",
              " 'C:/Users/dennis.tabuena/Dropbox (Gladstone)/0_Projects/_Hyper+Crisper/Morphological_Analysis/NeuN_5-10mo/TIFF\\\\DAPI-NeuN_E4-F_20x2_2.tif',\n",
              " 'C:/Users/dennis.tabuena/Dropbox (Gladstone)/0_Projects/_Hyper+Crisper/Morphological_Analysis/NeuN_5-10mo/TIFF\\\\DAPI-NeuN_E4-G_20x2_1.tif',\n",
              " 'C:/Users/dennis.tabuena/Dropbox (Gladstone)/0_Projects/_Hyper+Crisper/Morphological_Analysis/NeuN_5-10mo/TIFF\\\\DAPI-NeuN_E4-G_20x2_2.tif',\n",
              " 'C:/Users/dennis.tabuena/Dropbox (Gladstone)/0_Projects/_Hyper+Crisper/Morphological_Analysis/NeuN_5-10mo/TIFF\\\\DAPI-NeuN_E4-H_20x2_1.tif',\n",
              " 'C:/Users/dennis.tabuena/Dropbox (Gladstone)/0_Projects/_Hyper+Crisper/Morphological_Analysis/NeuN_5-10mo/TIFF\\\\DAPI-NeuN_E4-H_20x2_2.tif',\n",
              " 'C:/Users/dennis.tabuena/Dropbox (Gladstone)/0_Projects/_Hyper+Crisper/Morphological_Analysis/NeuN_5-10mo/TIFF\\\\DAPI-NeuN_E4-K_20x2_1.tif',\n",
              " 'C:/Users/dennis.tabuena/Dropbox (Gladstone)/0_Projects/_Hyper+Crisper/Morphological_Analysis/NeuN_5-10mo/TIFF\\\\DAPI-NeuN_E4-K_20x2_2.tif',\n",
              " 'C:/Users/dennis.tabuena/Dropbox (Gladstone)/0_Projects/_Hyper+Crisper/Morphological_Analysis/NeuN_5-10mo/TIFF\\\\DAPI-NeuN_E4-L_20x2_1.tif',\n",
              " 'C:/Users/dennis.tabuena/Dropbox (Gladstone)/0_Projects/_Hyper+Crisper/Morphological_Analysis/NeuN_5-10mo/TIFF\\\\DAPI-NeuN_E4-L_20x2_2.tif',\n",
              " 'C:/Users/dennis.tabuena/Dropbox (Gladstone)/0_Projects/_Hyper+Crisper/Morphological_Analysis/NeuN_5-10mo/TIFF\\\\DAPI-NeuN_E4-M_20x2_1.tif',\n",
              " 'C:/Users/dennis.tabuena/Dropbox (Gladstone)/0_Projects/_Hyper+Crisper/Morphological_Analysis/NeuN_5-10mo/TIFF\\\\DAPI-NeuN_E4-M_20x2_2.tif']"
            ]
          },
          "metadata": {}
        }
      ]
    },
    {
      "cell_type": "code",
      "source": [],
      "metadata": {
        "id": "OSdZMaKxurYy"
      },
      "execution_count": 67,
      "outputs": []
    },
    {
      "cell_type": "code",
      "source": [
        "\"\"\" Propper Funcs \"\"\"\n",
        "\n",
        "def trim_edge_bound(masks):\n",
        "    masks_og = masks.copy()\n",
        "    planes = [masks[0,:,:],\n",
        "              masks[-1,:,:],\n",
        "              masks[:,0,:],\n",
        "              masks[:,-1,:],\n",
        "              masks[:,:,0],\n",
        "              masks[:,:,-1]]\n",
        "\n",
        "    for p in planes:\n",
        "        del_ids = np.unique(p)\n",
        "        for id in del_ids:\n",
        "            masks[masks==id] = 0\n",
        "    return masks, masks_og\n",
        "\n",
        "def fit_cell_model(img_rgb, cell_channel=1, nuclear_channel=0,channel_axis=3):\n",
        "    cell_diam=40\n",
        "    cell_model = models.Cellpose(model_type='cyto3',gpu=True)\n",
        "    (cell_masks, flows, styles, diams) = cell_model.eval(\n",
        "        img_rgb, channels=[cell_channel,nuclear_channel],\n",
        "        channel_axis = channel_axis, diameter=cell_diam,\n",
        "        do_3D=False, stitch_threshold=0.02)\n",
        "\n",
        "    results_dict = {'cell_masks':cell_masks,\n",
        "                'flows':flows,\n",
        "                'styles':styles,\n",
        "                'diams':diams,\n",
        "                'cell_model':cell_model,}\n",
        "    return results_dict\n",
        "\n",
        "def fit_nuclear_model(img_rgb,nuclear_channel=3,channel_axis=3):\n",
        "    nuc_diam = None\n",
        "    nuclear_model = models.Cellpose(model_type='nuclei',gpu=True)\n",
        "    (nuclear_masks, _, _, _)=  nuclear_model.eval(\n",
        "        img_rgb, channels=[nuclear_channel, 0],\n",
        "        channel_axis = channel_axis, diameter=nuc_diam,\n",
        "        do_3D=False, stitch_threshold=0.02,)\n",
        "    return nuclear_masks\n",
        "\n",
        "def tiff_to_RGB_stack(tiff_data,rbg_channel_order = [1,0,0]):\n",
        "    tiff_data = tiff_data[:,rbg_channel_order,:,:]\n",
        "    tiff_data[:,1,:,:]=0\n",
        "    rgb_stack = tiff_data.transpose([0,2,3,1])*225\n",
        "    rgb_stack[rgb_stack<0]=0\n",
        "    rgb_stack[rgb_stack>255]=255\n",
        "    rgb_stack=rgb_stack.astype('uint8')\n",
        "    return rgb_stack\n",
        "\n",
        "def preprocess_image(tiff_data):\n",
        "    tiff_data = ski.filters.gaussian(\n",
        "        tiff_data, sigma=[1,1,1],\n",
        "        mode='reflect',truncate = 4,\n",
        "        channel_axis=1)\n",
        "    tiff_data = med_filt_stack(tiff_data,5)\n",
        "    tiff_data = norm_channels(tiff_data,'zcxy',clip=True,pct=[99,1])\n",
        "    return tiff_data\n",
        "\n",
        "def split_proj(tiff_data):\n",
        "    print(tiff_data.shape)\n",
        "    num_c = tiff_data.shape[3]\n",
        "    fig,ax=plt.subplots(1,num_c,figsize=(num_c*1,1),dpi=300)\n",
        "    colors = ['Reds','Greens','Blues','gray']\n",
        "    for c in range(num_c):\n",
        "        ax[c].imshow(np.max(tiff_data[:,:,:,c],axis=0), cmap=colors[c],vmin=0,vmax=255)\n",
        "        ax[c].axis('off')\n",
        "    plt.tight_layout()\n",
        "\n",
        "\n",
        "def norm_channels(im_data,tiff_format,clip=False,pct=[99,1]):\n",
        "    print(im_data.shape)\n",
        "    color_dim = tiff_format.index('c')\n",
        "    print('norm color dim =',color_dim)\n",
        "    data_t, transpose, invs_transpose = dimension_to_front(im_data,color_dim)\n",
        "    num_channels = data_t.shape[0]\n",
        "    for c in np.arange(num_channels):\n",
        "        c_data = data_t[c,:]\n",
        "        (top,bot) = np.percentile(c_data.flatten(),pct)\n",
        "        c_data = (c_data-bot)/(top-bot)\n",
        "        data_t[c,:] = c_data\n",
        "    im_data = data_t.transpose(invs_transpose)\n",
        "    if clip:\n",
        "        im_data[im_data>1]=1\n",
        "        im_data[im_data<0]=0\n",
        "    return im_data"
      ],
      "metadata": {
        "id": "qriePvgQKrpi"
      },
      "execution_count": 68,
      "outputs": []
    },
    {
      "cell_type": "code",
      "source": [],
      "metadata": {
        "id": "nWfT3glHu95Z",
        "outputId": "e915cfcb-935d-4184-9fa5-18a8ed8644b9",
        "colab": {
          "base_uri": "https://localhost:8080/"
        }
      },
      "execution_count": 78,
      "outputs": [
        {
          "output_type": "execute_result",
          "data": {
            "text/plain": [
              "'C:/Users/dennis.tabuena/Dropbox (Gladstone)/0_Projects/_Hyper+Crisper/Morphological_Analysis/NeuN_5-10mo/TIFF\\\\DAPI-NeuN_E3-E_20x2_1.tif'"
            ]
          },
          "metadata": {},
          "execution_count": 78
        }
      ]
    },
    {
      "cell_type": "code",
      "source": [
        "def save_masks(cell_masks,nuclear_masks,cell_masks_og,curr_tif):\n",
        "    image_name = os.path.splitext(os.path.basename(curr_tif))[0]\n",
        "    np.save( image_name+'_cell_masks',cell_masks,allow_pickle=True)\n",
        "    np.save( image_name+'_nuclear_masks',nuclear_masks,allow_pickle=True)\n",
        "    np.save( image_name+'_cell_masks_og',cell_masks_og,allow_pickle=True)\n",
        "\n"
      ],
      "metadata": {
        "id": "CqLtTlhdvw7L"
      },
      "execution_count": 69,
      "outputs": []
    },
    {
      "cell_type": "code",
      "source": [
        "\"\"\"MAIN\"\"\"\n",
        "\n",
        "def qunatify_image_stack(curr_tif):\n",
        "    tiff_data_raw = tifffile.imread(curr_tif)\n",
        "    tiff_data = preprocess_image(tiff_data_raw)\n",
        "    rgb_stack = tiff_to_RGB_stack(tiff_data)\n",
        "    split_proj(rgb_stack)\n",
        "\n",
        "    nuclear_masks = fit_nuclear_model(rgb_stack,nuclear_channel=3,channel_axis=3)\n",
        "    results_dict = fit_cell_model(rgb_stack,channel_axis=3)\n",
        "    cell_masks = results_dict['cell_masks']\n",
        "    cell_masks, cell_masks_og = trim_edge_bound(cell_masks)\n",
        "    save_masks(cell_masks,nuclear_masks,cell_masks_og,curr_tif)\n",
        "\n",
        "\n",
        "# fig,ax = plt.subplots(1,2,figsize=(2,1),dpi=300)\n",
        "# ax[0].pcolorfast(np.sum(nuclear_masks,axis=0))\n",
        "# ax[1].pcolorfast(np.sum(cell_masks,axis=0))\n",
        "\n",
        "\n",
        "for curr_tif in my_tiffs:\n",
        "    qunatify_image_stack(curr_tif)"
      ],
      "metadata": {
        "id": "HGqxK4-a-czA"
      },
      "execution_count": null,
      "outputs": []
    },
    {
      "cell_type": "code",
      "source": [
        "def load_masks(curr_tif):\n",
        "    image_name = os.path.splitext(os.path.basename(curr_tif))[0]\n",
        "    cell_masks = np.load( image_name+'_cell_masks.npy')\n",
        "    nuclear_masks = np.load( image_name+'_nuclear_masks.npy')\n",
        "    cell_masks_og = np.load( image_name+'_cell_masks_og.npy')\n",
        "    return (cell_masks,nuclear_masks,cell_masks_og)"
      ],
      "metadata": {
        "id": "71XEvMpKtGT_"
      },
      "execution_count": 81,
      "outputs": []
    },
    {
      "cell_type": "code",
      "source": [
        "(cell_masks,nuclear_masks,cell_masks_og) = load_masks(curr_tif)"
      ],
      "metadata": {
        "id": "fSQwJAS-vnGB"
      },
      "execution_count": 82,
      "outputs": []
    },
    {
      "cell_type": "code",
      "source": [
        "voxel_dim_um=np.array([0.3977476,0.3977476,0.5])\n",
        "voxel_vol_um3 = np.prod(voxel_dim_um)"
      ],
      "metadata": {
        "id": "o7sZQ36_vy3J"
      },
      "execution_count": 131,
      "outputs": []
    },
    {
      "cell_type": "code",
      "source": [],
      "metadata": {
        "id": "F_IyiJjR1pbB"
      },
      "execution_count": null,
      "outputs": []
    },
    {
      "cell_type": "code",
      "source": [
        "def nd_feret(mask,xyz_scalars=None):\n",
        "    if xyz_scalars is None:\n",
        "        scalars=np.ones_like(mask.shape)\n",
        "    n_coords=np.where(mask)\n",
        "    feret_diams = list()\n",
        "    for s, coord in zip(xyz_scalars,n_coords):\n",
        "        diam = np.max(coord)-np.min(coord)\n",
        "        feret_diams.append(diam*s)\n",
        "    return feret_diams\n",
        "\n",
        "\n",
        "\n",
        "# cell_df['max_dist']=np.nan\n",
        "# cell_df['feret_d']=np.nan\n",
        "# cell_df['feret_d']= cell_df['feret_d'].astype(object)\n",
        "# for cell in cell_df.index:\n",
        "#     cell_df.at[cell,'max_dist']=np.max(distance[filt_mask==cell])\n",
        "#     cell_df.at[cell,'feret_d'] = nd_feret(filt_mask==cell) #,scalars=voxel_size_um[[2,0,1]]\n",
        "# display(cell_df.head(500))\n",
        ""
      ],
      "metadata": {
        "id": "p_BHqIP0yheY"
      },
      "execution_count": 108,
      "outputs": []
    },
    {
      "cell_type": "code",
      "source": [],
      "metadata": {
        "id": "xQKChjrB053I",
        "outputId": "f747bfd7-0c18-462d-cc86-b1a683eb2a76",
        "colab": {
          "base_uri": "https://localhost:8080/"
        }
      },
      "execution_count": 114,
      "outputs": [
        {
          "output_type": "execute_result",
          "data": {
            "text/plain": [
              "0.3977476"
            ]
          },
          "metadata": {},
          "execution_count": 114
        }
      ]
    },
    {
      "cell_type": "code",
      "source": [
        "# def analyze_cell_mask(cell_masks):\n",
        "cell_masks_f = cell_masks.flatten()\n",
        "cell_ids = np.unique(cell_masks_f)\n",
        "bins = np.insert(ids+0.5, 0, -0.5, axis=0)\n",
        "(sizes_px,edges) = np.histogram(cell_masks_f,bins=bins)\n",
        "sizes_um3 = sizes_px*voxel_vol_um3\n",
        "cell_df = pd.DataFrame({'cell_ids':cell_ids[1:],'sizes_px':sizes_px[1:],\n",
        "                        'sizes_um3':sizes_um3[1:]}).set_index('cell_ids')\n",
        "\n",
        "# display(cell_df)\n",
        "cell_df['feret_d']=np.nan\n",
        "cell_df['feret_d']= cell_df['feret_d'].astype(object)\n",
        "for id in cell_df.index:\n",
        "    cell_df.at[id,'feret_d'] = nd_feret(cell_masks==id,zxy_scalars=voxel_dim_um[2,0,1])\n",
        "\n",
        "\n",
        "\n",
        "# size_pdf, edges = np.histogram(sizes_um3[1:],bins=30,density=False)\n",
        "# plt.stairs(size_pdf,edges)"
      ],
      "metadata": {
        "colab": {
          "base_uri": "https://localhost:8080/",
          "height": 183
        },
        "id": "N0RIc08hfjFJ",
        "outputId": "b6163a35-b9cd-413d-e46a-ec6ebf149323"
      },
      "execution_count": 122,
      "outputs": [
        {
          "output_type": "error",
          "ename": "TypeError",
          "evalue": "list indices must be integers or slices, not tuple",
          "traceback": [
            "\u001b[1;31m---------------------------------------------------------------------------\u001b[0m",
            "\u001b[1;31mTypeError\u001b[0m                                 Traceback (most recent call last)",
            "Cell \u001b[1;32mIn[122], line 14\u001b[0m\n\u001b[0;32m     12\u001b[0m cell_df[\u001b[38;5;124m'\u001b[39m\u001b[38;5;124mferet_d\u001b[39m\u001b[38;5;124m'\u001b[39m]\u001b[38;5;241m=\u001b[39m cell_df[\u001b[38;5;124m'\u001b[39m\u001b[38;5;124mferet_d\u001b[39m\u001b[38;5;124m'\u001b[39m]\u001b[38;5;241m.\u001b[39mastype(\u001b[38;5;28mobject\u001b[39m)\n\u001b[0;32m     13\u001b[0m \u001b[38;5;28;01mfor\u001b[39;00m \u001b[38;5;28mid\u001b[39m \u001b[38;5;129;01min\u001b[39;00m cell_df\u001b[38;5;241m.\u001b[39mindex:\n\u001b[1;32m---> 14\u001b[0m     cell_df\u001b[38;5;241m.\u001b[39mat[\u001b[38;5;28mid\u001b[39m,\u001b[38;5;124m'\u001b[39m\u001b[38;5;124mferet_d\u001b[39m\u001b[38;5;124m'\u001b[39m] \u001b[38;5;241m=\u001b[39m nd_feret(cell_masks\u001b[38;5;241m==\u001b[39m\u001b[38;5;28mid\u001b[39m,zxy_scalars\u001b[38;5;241m=\u001b[39mvoxel_dim_um[\u001b[38;5;241m2\u001b[39m,\u001b[38;5;241m0\u001b[39m,\u001b[38;5;241m1\u001b[39m])\n",
            "\u001b[1;31mTypeError\u001b[0m: list indices must be integers or slices, not tuple"
          ]
        }
      ]
    },
    {
      "cell_type": "code",
      "source": [
        "voxel_dim_um[2,1,0]"
      ],
      "metadata": {
        "colab": {
          "base_uri": "https://localhost:8080/",
          "height": 147
        },
        "id": "dpM0AVf0q78U",
        "outputId": "12d4bc4a-339b-4271-8c3c-840d4cbd172b"
      },
      "execution_count": 132,
      "outputs": [
        {
          "output_type": "error",
          "ename": "IndexError",
          "evalue": "too many indices for array: array is 1-dimensional, but 3 were indexed",
          "traceback": [
            "\u001b[1;31m---------------------------------------------------------------------------\u001b[0m",
            "\u001b[1;31mIndexError\u001b[0m                                Traceback (most recent call last)",
            "Cell \u001b[1;32mIn[132], line 1\u001b[0m\n\u001b[1;32m----> 1\u001b[0m voxel_dim_um[\u001b[38;5;241m2\u001b[39m,\u001b[38;5;241m1\u001b[39m,\u001b[38;5;241m0\u001b[39m]\n",
            "\u001b[1;31mIndexError\u001b[0m: too many indices for array: array is 1-dimensional, but 3 were indexed"
          ]
        }
      ]
    },
    {
      "cell_type": "code",
      "source": [],
      "metadata": {
        "id": "Iceb9CEfqhit"
      },
      "execution_count": null,
      "outputs": []
    },
    {
      "cell_type": "code",
      "source": [
        "x =np.load('C:\\\\Users\\\\dennis.tabuena\\\\Dropbox (Gladstone)\\\\0_Projects\\\\_Hyper+Crisper\\\\Morphological_Analysis\\\\NeuN_5-10mo\\\\TIFF\\\\my_cell_mask.npy')\n"
      ],
      "metadata": {
        "id": "Mz2fP8N4rGZc"
      },
      "execution_count": null,
      "outputs": []
    },
    {
      "cell_type": "code",
      "source": [
        "fig,ax = plt.subplots(1,2,figsize=(2,1),dpi=300)\n",
        "ax[0].pcolorfast(np.sum(x,axis=0))\n",
        "ax[1].pcolorfast(np.sum(cell_masks,axis=0))"
      ],
      "metadata": {
        "id": "fjXhgQZorNl9"
      },
      "execution_count": null,
      "outputs": []
    }
  ]
}