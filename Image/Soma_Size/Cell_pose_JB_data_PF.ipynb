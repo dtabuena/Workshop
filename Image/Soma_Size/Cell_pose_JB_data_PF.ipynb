{
  "nbformat": 4,
  "nbformat_minor": 0,
  "metadata": {
    "colab": {
      "provenance": [],
      "authorship_tag": "ABX9TyOPZ2oJns9vsmwhGtlWX8Tz",
      "include_colab_link": true
    },
    "kernelspec": {
      "name": "python3",
      "display_name": "Python 3"
    },
    "language_info": {
      "name": "python"
    }
  },
  "cells": [
    {
      "cell_type": "markdown",
      "metadata": {
        "id": "view-in-github",
        "colab_type": "text"
      },
      "source": [
        "<a href=\"https://colab.research.google.com/github/dtabuena/Workshop/blob/main/Image/Soma_Size/Cell_pose_JB_data_PF.ipynb\" target=\"_parent\"><img src=\"https://colab.research.google.com/assets/colab-badge.svg\" alt=\"Open In Colab\"/></a>"
      ]
    },
    {
      "cell_type": "code",
      "source": [
        "!pip install scikit-image --quiet\n",
        "!pip install matplotlib --quiet\n",
        "!pip install pandas --quiet\n",
        "!pip3 install torch torchvision torchaudio --index-url https://download.pytorch.org/whl/cu118 --quiet\n",
        "!pip install cellpose --quiet"
      ],
      "metadata": {
        "id": "3-b5oGv13Np9"
      },
      "execution_count": 63,
      "outputs": []
    },
    {
      "cell_type": "code",
      "execution_count": 64,
      "metadata": {
        "id": "xvqLOdv2XEgN"
      },
      "outputs": [],
      "source": [
        "import matplotlib\n",
        "import tifffile\n",
        "import os\n",
        "import numpy as np\n",
        "import matplotlib.pyplot as plt\n",
        "import skimage as ski\n",
        "import pandas as pd\n",
        "from tqdm import tqdm\n",
        "import scipy as sci\n",
        "from cellpose import models"
      ]
    },
    {
      "cell_type": "code",
      "source": [
        "def plot_point_data_pcol(x,y,z,image_stack,vmin=None,vmax=None,lw=.2,figsize=(3,2.7),rad=None,cmap='viridis'):\n",
        "    \"\"\" Assume 'zxyc' format\"\"\"\n",
        "\n",
        "    if rad is not None:\n",
        "        min_x = np.max([x-rad,0])\n",
        "        max_x = np.min([x+rad,image_stack.shape[1]])\n",
        "        min_y = np.max([y-rad,0])\n",
        "        max_y = np.min([y+rad,image_stack.shape[2]])\n",
        "        image_stack = image_stack[:,min_y:max_y,min_x:max_x]\n",
        "        x=rad\n",
        "        y=rad\n",
        "\n",
        "    xy_slice = image_stack[z,:,:]\n",
        "    zy_slice = image_stack[:,:,x].transpose([1,0])\n",
        "    zx_slice = image_stack[:,y,:]\n",
        "\n",
        "    vmin = np.percentile(image_stack,.1)\n",
        "    vmax = np.percentile(image_stack,99.9)\n",
        "    print(vmin,vmax)\n",
        "\n",
        "    fig,ax=plt.subplots(2,3,width_ratios=[5, 1, .5],height_ratios=(5,1),figsize=figsize,dpi=300)\n",
        "    ax=ax.flatten()\n",
        "    # ,aspect='auto'\n",
        "    cbh=ax[0].pcolorfast(xy_slice,zorder=-1, vmin=vmin, vmax=vmax, cmap=cmap) # cmap=cmap,\n",
        "    ax[0].axvline(x,color='m',linewidth=lw)\n",
        "    ax[0].axhline(y,color='c',linewidth=lw)\n",
        "    ax[0].set_xticks([])\n",
        "    ax[0].invert_yaxis()\n",
        "\n",
        "    ax[1].imshow(zy_slice,aspect='auto',zorder=-1, vmin=vmin, vmax=vmax, cmap=cmap) # ,vmin=vmin,vmax=vmax,cmap=cmap,\n",
        "    ax[1].axhline(y,color='c',linewidth=lw)\n",
        "    ax[1].axvline(z,color='y',linewidth=lw)\n",
        "    ax[1].set_yticks([])\n",
        "    ax[1].set_xticks([])\n",
        "\n",
        "    ax[3].imshow(zx_slice,aspect='auto',zorder=-1, vmin=vmin, vmax=vmax, cmap=cmap) # ,vmin=vmin,vmax=vmax,cmap=cmap,\n",
        "    ax[3].axvline(x,color='m',linewidth=lw)\n",
        "    ax[3].axhline(z,color='y',linewidth=lw)\n",
        "\n",
        "    plt.colorbar(cbh,cax=ax[2])\n",
        "\n",
        "    for a in ax[4:]:\n",
        "        a.axis('off')\n",
        "    plt.tight_layout()\n",
        "    return fig,ax,cbh"
      ],
      "metadata": {
        "id": "lLKqrsDSpbHa"
      },
      "execution_count": 65,
      "outputs": []
    },
    {
      "cell_type": "code",
      "source": [
        "def plot_point_data_rgb(x,y,z,image_stack,vmin=None,vmax=None,lw=.2,figsize=(3,2.7),rad=None):\n",
        "    \"\"\" Assume 'zxyc' format\"\"\"\n",
        "\n",
        "    if rad is not None:\n",
        "        min_x = np.max([x-rad,0])\n",
        "        max_x = np.min([x+rad,image_stack.shape[1]])\n",
        "        min_y = np.max([y-rad,0])\n",
        "        max_y = np.min([y+rad,image_stack.shape[2]])\n",
        "        image_stack = image_stack[:,min_y:max_y,min_x:max_x,:]\n",
        "        x=rad\n",
        "        y=rad\n",
        "\n",
        "    print(image_stack.shape,x,y)\n",
        "\n",
        "    xy_slice = image_stack[z,:,:,:]\n",
        "    zy_slice = image_stack[:,:,x,:].transpose([1,0,2])\n",
        "    zx_slice = image_stack[:,y,:,:]\n",
        "\n",
        "\n",
        "    z_ratio = image_stack.shape[0]/image_stack.shape[1]\n",
        "\n",
        "    fig,ax=plt.subplots(2,2,width_ratios=[1, z_ratio],height_ratios=(1,z_ratio),figsize=figsize,dpi=300)\n",
        "    ax=ax.flatten()\n",
        "\n",
        "    ax[0].imshow(xy_slice,aspect='auto',zorder=-1) # vmin=vmin,vmax=vmax,cmap=cmap,\n",
        "    ax[0].axvline(x,color='m',linewidth=lw)\n",
        "    ax[0].axhline(y,color='c',linewidth=lw)\n",
        "    ax[0].set_xticks([])\n",
        "\n",
        "    ax[1].imshow(zy_slice,aspect='auto',zorder=-1) # ,vmin=vmin,vmax=vmax,cmap=cmap,\n",
        "    ax[1].axhline(y,color='c',linewidth=lw)\n",
        "    ax[1].axvline(z,color='y',linewidth=lw)\n",
        "    ax[1].set_yticks([])\n",
        "    ax[1].set_xticks([])\n",
        "\n",
        "    ax[2].imshow(zx_slice,aspect='auto',zorder=-1) # ,vmin=vmin,vmax=vmax,cmap=cmap,\n",
        "    ax[2].axvline(x,color='m',linewidth=lw)\n",
        "    ax[2].axhline(z,color='y',linewidth=lw)\n",
        "\n",
        "\n",
        "\n",
        "\n",
        "    ax[3].axis('off')\n",
        "    plt.tight_layout()\n",
        "    return fig,ax\n",
        "\n",
        "\n",
        "\n",
        "def dimension_to_front(data,dim_x):\n",
        "    dim_list = list(np.arange(len(data.shape)))\n",
        "    transpose = [dim_list[dim_x]] + dim_list[:dim_x] + dim_list[dim_x+1:]\n",
        "    data_t = data.transpose(transpose)\n",
        "    data_t =data_t.astype('float16')\n",
        "    invs_transpose = list(np.argsort(transpose))\n",
        "    return data_t, transpose, invs_transpose\n",
        "\n",
        "def norm_channels(im_data,tiff_format,clip=False):\n",
        "    color_dim = tiff_format.index('c')\n",
        "    data_t, transpose, invs_transpose = dimension_to_front(im_data,color_dim)\n",
        "    num_channels = data_t.shape[0]\n",
        "    for c in np.arange(num_channels):\n",
        "        c_data = data_t[c,:]\n",
        "        (top,bot) = np.percentile(c_data.flatten(),[99,1])\n",
        "        c_data = (c_data-bot)/(top-bot)\n",
        "        data_t[c,:] = c_data\n",
        "    im_data = data_t.transpose(invs_transpose)\n",
        "    if clip:\n",
        "        im_data[im_data>1]=1\n",
        "        im_data[im_data<0]=0\n",
        "    return im_data\n",
        "\n",
        "def med_filt_stack(img,d):\n",
        "    tiff_format = 'zcyx'\n",
        "    color_dim = tiff_format.index('c')\n",
        "    z_dim = tiff_format.index('z')\n",
        "    color_dim=1\n",
        "    z_dim=0\n",
        "    for c in range(img.shape[color_dim]):\n",
        "        for z in range(img.shape[z_dim]):\n",
        "            img[z,c,:,:] = ski.filters.median(img[z,c,:,:],footprint=np.ones([d,d]))\n",
        "    return img\n"
      ],
      "metadata": {
        "id": "yAVC2Emfov0x"
      },
      "execution_count": 66,
      "outputs": []
    },
    {
      "cell_type": "code",
      "source": [
        "\n",
        "\"\"\"On Site\"\"\"\n",
        "source_directory = 'C:/Users/dennis.tabuena/Dropbox (Gladstone)/0_Projects/_Hyper+Crisper/Morphological_Analysis/NeuN_5-10mo/TIFF'\n",
        "# \"\"\"Off Site\"\"\"\n",
        "# source_directory = 'C:\\\\Users\\\\denni\\\\Dropbox (Gladstone)\\\\0_Projects\\\\_Hyper+Crisper\\\\Morphological_Analysis\\\\NeuN_5-10mo\\\\TIFF'\n",
        "\n",
        "os.chdir(source_directory)\n",
        "my_tiffs = list()\n",
        "for rt,dirs,file_list in os.walk(source_directory):\n",
        "    for file in file_list:\n",
        "        if 'tif' in file:\n",
        "            my_tiffs.append(os.path.join(rt,file))\n",
        "curr_tif = my_tiffs[0]\n",
        "display(my_tiffs)"
      ],
      "metadata": {
        "id": "9bqwXEK4DHnb",
        "colab": {
          "base_uri": "https://localhost:8080/",
          "height": 455
        },
        "outputId": "824d5612-17b1-4836-c37e-a3b0e17ebf5f"
      },
      "execution_count": 77,
      "outputs": [
        {
          "output_type": "display_data",
          "data": {
            "text/plain": [
              "['C:/Users/dennis.tabuena/Dropbox (Gladstone)/0_Projects/_Hyper+Crisper/Morphological_Analysis/NeuN_5-10mo/TIFF\\\\DAPI-NeuN_E3-E_20x2_1.tif',\n",
              " 'C:/Users/dennis.tabuena/Dropbox (Gladstone)/0_Projects/_Hyper+Crisper/Morphological_Analysis/NeuN_5-10mo/TIFF\\\\DAPI-NeuN_E3-E_20x2_2.tif',\n",
              " 'C:/Users/dennis.tabuena/Dropbox (Gladstone)/0_Projects/_Hyper+Crisper/Morphological_Analysis/NeuN_5-10mo/TIFF\\\\DAPI-NeuN_E3-F_20x2_1.tif',\n",
              " 'C:/Users/dennis.tabuena/Dropbox (Gladstone)/0_Projects/_Hyper+Crisper/Morphological_Analysis/NeuN_5-10mo/TIFF\\\\DAPI-NeuN_E3-F_20x2_2.tif',\n",
              " 'C:/Users/dennis.tabuena/Dropbox (Gladstone)/0_Projects/_Hyper+Crisper/Morphological_Analysis/NeuN_5-10mo/TIFF\\\\DAPI-NeuN_E3-G_20x2_1.tif',\n",
              " 'C:/Users/dennis.tabuena/Dropbox (Gladstone)/0_Projects/_Hyper+Crisper/Morphological_Analysis/NeuN_5-10mo/TIFF\\\\DAPI-NeuN_E3-G_20x2_2.tif',\n",
              " 'C:/Users/dennis.tabuena/Dropbox (Gladstone)/0_Projects/_Hyper+Crisper/Morphological_Analysis/NeuN_5-10mo/TIFF\\\\DAPI-NeuN_E3-H_20x2_1.tif',\n",
              " 'C:/Users/dennis.tabuena/Dropbox (Gladstone)/0_Projects/_Hyper+Crisper/Morphological_Analysis/NeuN_5-10mo/TIFF\\\\DAPI-NeuN_E3-H_20x2_2.tif',\n",
              " 'C:/Users/dennis.tabuena/Dropbox (Gladstone)/0_Projects/_Hyper+Crisper/Morphological_Analysis/NeuN_5-10mo/TIFF\\\\DAPI-NeuN_E3-I_20x2_1.tif',\n",
              " 'C:/Users/dennis.tabuena/Dropbox (Gladstone)/0_Projects/_Hyper+Crisper/Morphological_Analysis/NeuN_5-10mo/TIFF\\\\DAPI-NeuN_E3-I_20x2_2.tif',\n",
              " 'C:/Users/dennis.tabuena/Dropbox (Gladstone)/0_Projects/_Hyper+Crisper/Morphological_Analysis/NeuN_5-10mo/TIFF\\\\DAPI-NeuN_E3-J_20x2_1.tif',\n",
              " 'C:/Users/dennis.tabuena/Dropbox (Gladstone)/0_Projects/_Hyper+Crisper/Morphological_Analysis/NeuN_5-10mo/TIFF\\\\DAPI-NeuN_E3-J_20x2_2.tif',\n",
              " 'C:/Users/dennis.tabuena/Dropbox (Gladstone)/0_Projects/_Hyper+Crisper/Morphological_Analysis/NeuN_5-10mo/TIFF\\\\DAPI-NeuN_E4-F_20x2_1.tif',\n",
              " 'C:/Users/dennis.tabuena/Dropbox (Gladstone)/0_Projects/_Hyper+Crisper/Morphological_Analysis/NeuN_5-10mo/TIFF\\\\DAPI-NeuN_E4-F_20x2_2.tif',\n",
              " 'C:/Users/dennis.tabuena/Dropbox (Gladstone)/0_Projects/_Hyper+Crisper/Morphological_Analysis/NeuN_5-10mo/TIFF\\\\DAPI-NeuN_E4-G_20x2_1.tif',\n",
              " 'C:/Users/dennis.tabuena/Dropbox (Gladstone)/0_Projects/_Hyper+Crisper/Morphological_Analysis/NeuN_5-10mo/TIFF\\\\DAPI-NeuN_E4-G_20x2_2.tif',\n",
              " 'C:/Users/dennis.tabuena/Dropbox (Gladstone)/0_Projects/_Hyper+Crisper/Morphological_Analysis/NeuN_5-10mo/TIFF\\\\DAPI-NeuN_E4-H_20x2_1.tif',\n",
              " 'C:/Users/dennis.tabuena/Dropbox (Gladstone)/0_Projects/_Hyper+Crisper/Morphological_Analysis/NeuN_5-10mo/TIFF\\\\DAPI-NeuN_E4-H_20x2_2.tif',\n",
              " 'C:/Users/dennis.tabuena/Dropbox (Gladstone)/0_Projects/_Hyper+Crisper/Morphological_Analysis/NeuN_5-10mo/TIFF\\\\DAPI-NeuN_E4-K_20x2_1.tif',\n",
              " 'C:/Users/dennis.tabuena/Dropbox (Gladstone)/0_Projects/_Hyper+Crisper/Morphological_Analysis/NeuN_5-10mo/TIFF\\\\DAPI-NeuN_E4-K_20x2_2.tif',\n",
              " 'C:/Users/dennis.tabuena/Dropbox (Gladstone)/0_Projects/_Hyper+Crisper/Morphological_Analysis/NeuN_5-10mo/TIFF\\\\DAPI-NeuN_E4-L_20x2_1.tif',\n",
              " 'C:/Users/dennis.tabuena/Dropbox (Gladstone)/0_Projects/_Hyper+Crisper/Morphological_Analysis/NeuN_5-10mo/TIFF\\\\DAPI-NeuN_E4-L_20x2_2.tif',\n",
              " 'C:/Users/dennis.tabuena/Dropbox (Gladstone)/0_Projects/_Hyper+Crisper/Morphological_Analysis/NeuN_5-10mo/TIFF\\\\DAPI-NeuN_E4-M_20x2_1.tif',\n",
              " 'C:/Users/dennis.tabuena/Dropbox (Gladstone)/0_Projects/_Hyper+Crisper/Morphological_Analysis/NeuN_5-10mo/TIFF\\\\DAPI-NeuN_E4-M_20x2_2.tif']"
            ]
          },
          "metadata": {}
        }
      ]
    },
    {
      "cell_type": "code",
      "source": [],
      "metadata": {
        "id": "OSdZMaKxurYy"
      },
      "execution_count": 67,
      "outputs": []
    },
    {
      "cell_type": "code",
      "source": [
        "\"\"\" Propper Funcs \"\"\"\n",
        "\n",
        "def trim_edge_bound(masks):\n",
        "    masks_og = masks.copy()\n",
        "    planes = [masks[0,:,:],\n",
        "              masks[-1,:,:],\n",
        "              masks[:,0,:],\n",
        "              masks[:,-1,:],\n",
        "              masks[:,:,0],\n",
        "              masks[:,:,-1]]\n",
        "\n",
        "    for p in planes:\n",
        "        del_ids = np.unique(p)\n",
        "        for id in del_ids:\n",
        "            masks[masks==id] = 0\n",
        "    return masks, masks_og\n",
        "\n",
        "def fit_cell_model(img_rgb, cell_channel=1, nuclear_channel=0,channel_axis=3):\n",
        "    cell_diam=40\n",
        "    cell_model = models.Cellpose(model_type='cyto3',gpu=True)\n",
        "    (cell_masks, flows, styles, diams) = cell_model.eval(\n",
        "        img_rgb, channels=[cell_channel,nuclear_channel],\n",
        "        channel_axis = channel_axis, diameter=cell_diam,\n",
        "        do_3D=False, stitch_threshold=0.02)\n",
        "\n",
        "    results_dict = {'cell_masks':cell_masks,\n",
        "                'flows':flows,\n",
        "                'styles':styles,\n",
        "                'diams':diams,\n",
        "                'cell_model':cell_model,}\n",
        "    return results_dict\n",
        "\n",
        "def fit_nuclear_model(img_rgb,nuclear_channel=3,channel_axis=3):\n",
        "    nuc_diam = None\n",
        "    nuclear_model = models.Cellpose(model_type='nuclei',gpu=True)\n",
        "    (nuclear_masks, _, _, _)=  nuclear_model.eval(\n",
        "        img_rgb, channels=[nuclear_channel, 0],\n",
        "        channel_axis = channel_axis, diameter=nuc_diam,\n",
        "        do_3D=False, stitch_threshold=0.02,)\n",
        "    return nuclear_masks\n",
        "\n",
        "def tiff_to_RGB_stack(tiff_data,rbg_channel_order = [1,0,0]):\n",
        "    tiff_data = tiff_data[:,rbg_channel_order,:,:]\n",
        "    tiff_data[:,1,:,:]=0\n",
        "    rgb_stack = tiff_data.transpose([0,2,3,1])*225\n",
        "    rgb_stack[rgb_stack<0]=0\n",
        "    rgb_stack[rgb_stack>255]=255\n",
        "    rgb_stack=rgb_stack.astype('uint8')\n",
        "    return rgb_stack\n",
        "\n",
        "def preprocess_image(tiff_data):\n",
        "    tiff_data = ski.filters.gaussian(\n",
        "        tiff_data, sigma=[1,1,1],\n",
        "        mode='reflect',truncate = 4,\n",
        "        channel_axis=1)\n",
        "    tiff_data = med_filt_stack(tiff_data,5)\n",
        "    tiff_data = norm_channels(tiff_data,'zcxy',clip=True,pct=[99,1])\n",
        "    return tiff_data\n",
        "\n",
        "def split_proj(tiff_data):\n",
        "    print(tiff_data.shape)\n",
        "    num_c = tiff_data.shape[3]\n",
        "    fig,ax=plt.subplots(1,num_c,figsize=(num_c*1,1),dpi=300)\n",
        "    colors = ['Reds','Greens','Blues','gray']\n",
        "    for c in range(num_c):\n",
        "        ax[c].imshow(np.max(tiff_data[:,:,:,c],axis=0), cmap=colors[c],vmin=0,vmax=255)\n",
        "        ax[c].axis('off')\n",
        "    plt.tight_layout()\n",
        "\n",
        "\n",
        "def norm_channels(im_data,tiff_format,clip=False,pct=[99,1]):\n",
        "    print(im_data.shape)\n",
        "    color_dim = tiff_format.index('c')\n",
        "    print('norm color dim =',color_dim)\n",
        "    data_t, transpose, invs_transpose = dimension_to_front(im_data,color_dim)\n",
        "    num_channels = data_t.shape[0]\n",
        "    for c in np.arange(num_channels):\n",
        "        c_data = data_t[c,:]\n",
        "        (top,bot) = np.percentile(c_data.flatten(),pct)\n",
        "        c_data = (c_data-bot)/(top-bot)\n",
        "        data_t[c,:] = c_data\n",
        "    im_data = data_t.transpose(invs_transpose)\n",
        "    if clip:\n",
        "        im_data[im_data>1]=1\n",
        "        im_data[im_data<0]=0\n",
        "    return im_data"
      ],
      "metadata": {
        "id": "qriePvgQKrpi"
      },
      "execution_count": 68,
      "outputs": []
    },
    {
      "cell_type": "code",
      "source": [],
      "metadata": {
        "colab": {
          "base_uri": "https://localhost:8080/"
        },
        "id": "nWfT3glHu95Z",
        "outputId": "e915cfcb-935d-4184-9fa5-18a8ed8644b9"
      },
      "execution_count": 78,
      "outputs": [
        {
          "output_type": "execute_result",
          "data": {
            "text/plain": [
              "'C:/Users/dennis.tabuena/Dropbox (Gladstone)/0_Projects/_Hyper+Crisper/Morphological_Analysis/NeuN_5-10mo/TIFF\\\\DAPI-NeuN_E3-E_20x2_1.tif'"
            ]
          },
          "metadata": {},
          "execution_count": 78
        }
      ]
    },
    {
      "cell_type": "code",
      "source": [
        "def save_masks(cell_masks,nuclear_masks,cell_masks_og,curr_tif):\n",
        "    image_name = os.path.splitext(os.path.basename(curr_tif))[0]\n",
        "    np.save( image_name+'_cell_masks',cell_masks,allow_pickle=True)\n",
        "    np.save( image_name+'_nuclear_masks',nuclear_masks,allow_pickle=True)\n",
        "    np.save( image_name+'_cell_masks_og',cell_masks_og,allow_pickle=True)\n",
        "\n"
      ],
      "metadata": {
        "id": "CqLtTlhdvw7L"
      },
      "execution_count": 69,
      "outputs": []
    },
    {
      "cell_type": "code",
      "source": [
        "\"\"\"MAIN\"\"\"\n",
        "\n",
        "def qunatify_image_stack(curr_tif):\n",
        "    tiff_data_raw = tifffile.imread(curr_tif)\n",
        "    tiff_data = preprocess_image(tiff_data_raw)\n",
        "    rgb_stack = tiff_to_RGB_stack(tiff_data)\n",
        "    split_proj(rgb_stack)\n",
        "\n",
        "    nuclear_masks = fit_nuclear_model(rgb_stack,nuclear_channel=3,channel_axis=3)\n",
        "    results_dict = fit_cell_model(rgb_stack,channel_axis=3)\n",
        "    cell_masks = results_dict['cell_masks']\n",
        "    cell_masks, cell_masks_og = trim_edge_bound(cell_masks)\n",
        "    save_masks(cell_masks,nuclear_masks,cell_masks_og,curr_tif)\n",
        "\n",
        "\n",
        "# fig,ax = plt.subplots(1,2,figsize=(2,1),dpi=300)\n",
        "# ax[0].pcolorfast(np.sum(nuclear_masks,axis=0))\n",
        "# ax[1].pcolorfast(np.sum(cell_masks,axis=0))\n",
        "\n",
        "\n",
        "for curr_tif in my_tiffs:\n",
        "    qunatify_image_stack(curr_tif)"
      ],
      "metadata": {
        "id": "HGqxK4-a-czA"
      },
      "execution_count": null,
      "outputs": []
    },
    {
      "cell_type": "code",
      "source": [
        "curr_tif"
      ],
      "metadata": {
        "colab": {
          "base_uri": "https://localhost:8080/"
        },
        "id": "0fGkLmN9asx_",
        "outputId": "e0e09b24-b47d-44bd-885c-824d064094fa"
      },
      "execution_count": 168,
      "outputs": [
        {
          "output_type": "execute_result",
          "data": {
            "text/plain": [
              "'C:/Users/dennis.tabuena/Dropbox (Gladstone)/0_Projects/_Hyper+Crisper/Morphological_Analysis/NeuN_5-10mo/TIFF\\\\DAPI-NeuN_E3-E_20x2_1.tif'"
            ]
          },
          "metadata": {},
          "execution_count": 168
        }
      ]
    },
    {
      "cell_type": "code",
      "source": [
        "def load_masks(curr_tif):\n",
        "    image_name = os.path.splitext(os.path.basename(curr_tif))[0]\n",
        "    cell_masks = np.load( image_name+'_cell_masks.npy')\n",
        "    nuclear_masks = np.load( image_name+'_nuclear_masks.npy')\n",
        "    cell_masks_og = np.load( image_name+'_cell_masks_og.npy')\n",
        "    return (cell_masks,nuclear_masks,cell_masks_og)"
      ],
      "metadata": {
        "id": "71XEvMpKtGT_"
      },
      "execution_count": 81,
      "outputs": []
    },
    {
      "cell_type": "code",
      "source": [],
      "metadata": {
        "id": "fSQwJAS-vnGB"
      },
      "execution_count": 82,
      "outputs": []
    },
    {
      "cell_type": "code",
      "source": [
        "def find_child_nucleii(cell_masks,nuclear_masks,cell_df):\n",
        "    cell_df['nucleii']=np.nan\n",
        "    cell_df['nuc_count']=np.nan\n",
        "    cell_df['nucleii']=cell_df['nucleii'].astype(object)\n",
        "    for cell in cell_df.index:\n",
        "        cell_nuc_overlap = nuclear_masks [cell_masks==cell]\n",
        "        cell_nuc_overlap=[n for n in cell_nuc_overlap if n>0]\n",
        "        cell_df.at[cell,'nucleii'] = np.unique(cell_nuc_overlap)\n",
        "        cell_df.at[cell,'nuc_count'] = cell_df.at[cell,'nucleii'].size\n",
        "    return cell_df\n",
        "\n",
        "\n",
        "def analyze_ferrets(cell_df,cell_masks,voxel_dim_um):\n",
        "\n",
        "    cell_df['feret_d']=np.nan\n",
        "    cell_df['feret_d']= cell_df['feret_d'].astype(object)\n",
        "    for id in cell_df.index:\n",
        "        cell_df.at[id,'feret_d'] = nd_feret(cell_masks==id,zxy_scalars=voxel_dim_um[[2,0,1]])\n",
        "\n",
        "    ferrets = cell_df['feret_d'].to_numpy()\n",
        "    ferrets = np.stack(ferrets,axis=0)\n",
        "    cell_df['feret_z'] = ferrets[:,0]\n",
        "    cell_df['feret_x'] = ferrets[:,1]\n",
        "    cell_df['feret_y'] = ferrets[:,2]\n",
        "    cell_df['min_fer'] = np.min(ferrets,axis=1)\n",
        "    cell_df['box_vol'] = np.prod(ferrets,axis=1)\n",
        "    cell_df['pct_fill'] = cell_df['sizes_um3']/cell_df['box_vol']\n",
        "\n",
        "    return cell_df\n",
        "\n",
        "def nd_feret(mask,zxy_scalars=None):\n",
        "    if zxy_scalars is None:\n",
        "        scalars=np.ones_like(mask.shape)\n",
        "    n_coords=np.where(mask)\n",
        "    feret_diams = list()\n",
        "    for s, coord in zip(zxy_scalars,n_coords):\n",
        "        diam = np.max(coord)-np.min(coord)+1\n",
        "        feret_diams.append(diam*s)\n",
        "    return np.asarray(feret_diams)"
      ],
      "metadata": {
        "id": "o7sZQ36_vy3J"
      },
      "execution_count": 256,
      "outputs": []
    },
    {
      "cell_type": "code",
      "source": [
        "def analyze_cell_mask(cell_masks,nuclear_masks):\n",
        "\n",
        "\n",
        "    voxel_dim_um=np.array([0.3977476,0.3977476,0.5])\n",
        "    voxel_vol_um3 = np.prod(voxel_dim_um)\n",
        "\n",
        "    cell_masks_f = cell_masks.flatten()\n",
        "    cell_ids = np.unique(cell_masks_f)\n",
        "    bins = np.insert(cell_ids+0.5, 0, -0.5, axis=0)\n",
        "    (sizes_px, edges) = np.histogram(cell_masks_f,bins=bins)\n",
        "    sizes_um3 = sizes_px*voxel_vol_um3\n",
        "\n",
        "    # print('\\n',len(cell_ids),len(sizes_px),len(sizes_um3))\n",
        "    cell_df = pd.DataFrame({'cell_ids':cell_ids[1:],'sizes_px':sizes_px[1:],\n",
        "                            'sizes_um3':sizes_um3[1:]}).set_index('cell_ids')\n",
        "\n",
        "    cell_df =  analyze_ferrets(cell_df,cell_masks,voxel_dim_um)\n",
        "    cell_df = find_child_nucleii(cell_masks,nuclear_masks,cell_df)\n",
        "\n",
        "    \"\"\" FILTERING \"\"\"\n",
        "    cell_df = cell_df[cell_df['nuc_count']<2]\n",
        "    cell_df = cell_df[cell_df['pct_fill']>.4]\n",
        "    cell_df = cell_df[cell_df['min_fer']>1]\n",
        "\n",
        "    return cell_df['sizes_um3'].values, cell_df\n",
        "\n",
        "\n",
        "\n",
        "\n",
        "\n",
        "volumes_lists = list()\n",
        "for curr_tif in tqdm(my_tiffs):\n",
        "    (cell_masks,nuclear_masks,cell_masks_og) = load_masks(curr_tif)\n",
        "    volumes, df = analyze_cell_mask(cell_masks,nuclear_masks)\n",
        "    volumes_lists.append(volumes)\n"
      ],
      "metadata": {
        "colab": {
          "base_uri": "https://localhost:8080/"
        },
        "id": "N0RIc08hfjFJ",
        "outputId": "107a006b-7c71-44ff-b2e4-23ccea0aa18f"
      },
      "execution_count": 313,
      "outputs": [
        {
          "output_type": "stream",
          "name": "stderr",
          "text": [
            "100%|██████████████████████████████████████████████████████████████████████████████████| 24/24 [02:37<00:00,  6.55s/it]\n"
          ]
        }
      ]
    },
    {
      "cell_type": "code",
      "source": [
        "vol_resolution = 50\n",
        "\n",
        "combined_vols = np.concatenate(volumes_lists)\n",
        "counts, edges = np.histogram(combined_vols,bins=np.arange(0,1800,vol_resolution))\n",
        "bin_centers = edges[1:] - np.diff(edges)/2\n",
        "prob = counts/np.sum(counts)\n",
        "plt.stairs(np.cumsum(prob),edges,color='k')\n",
        "vol_dist_df=pd.DataFrame({'tiff':my_tiffs,'volume_lists':volumes_lists}).set_index('tiff')\n",
        "display(vol_dist_df.head())"
      ],
      "metadata": {
        "colab": {
          "base_uri": "https://localhost:8080/",
          "height": 650
        },
        "id": "oaN0ORWOriZg",
        "outputId": "22c45170-143f-41c9-b2d6-82e32be41ef9"
      },
      "execution_count": 431,
      "outputs": [
        {
          "output_type": "display_data",
          "data": {
            "text/plain": [
              "                                                                                         volume_lists\n",
              "tiff                                                                                                 \n",
              "C:/Users/dennis.tabuena/Dropbox (Gladstone)/0_P...  [334.0459582051122, 495.650479306946, 145.0722...\n",
              "C:/Users/dennis.tabuena/Dropbox (Gladstone)/0_P...  [796.4737753178487, 87.16993747147376, 130.754...\n",
              "C:/Users/dennis.tabuena/Dropbox (Gladstone)/0_P...  [97.37404085969527, 398.9883526371267, 471.208...\n",
              "C:/Users/dennis.tabuena/Dropbox (Gladstone)/0_P...  [264.3574691739249, 752.9679081587647, 134.235...\n",
              "C:/Users/dennis.tabuena/Dropbox (Gladstone)/0_P...  [245.76859866049813, 678.3751213750988, 219.50..."
            ],
            "text/html": [
              "<div>\n",
              "<style scoped>\n",
              "    .dataframe tbody tr th:only-of-type {\n",
              "        vertical-align: middle;\n",
              "    }\n",
              "\n",
              "    .dataframe tbody tr th {\n",
              "        vertical-align: top;\n",
              "    }\n",
              "\n",
              "    .dataframe thead th {\n",
              "        text-align: right;\n",
              "    }\n",
              "</style>\n",
              "<table border=\"1\" class=\"dataframe\">\n",
              "  <thead>\n",
              "    <tr style=\"text-align: right;\">\n",
              "      <th></th>\n",
              "      <th>volume_lists</th>\n",
              "    </tr>\n",
              "    <tr>\n",
              "      <th>tiff</th>\n",
              "      <th></th>\n",
              "    </tr>\n",
              "  </thead>\n",
              "  <tbody>\n",
              "    <tr>\n",
              "      <th>C:/Users/dennis.tabuena/Dropbox (Gladstone)/0_Projects/_Hyper+Crisper/Morphological_Analysis/NeuN_5-10mo/TIFF\\DAPI-NeuN_E3-E_20x2_1.tif</th>\n",
              "      <td>[334.0459582051122, 495.650479306946, 145.0722...</td>\n",
              "    </tr>\n",
              "    <tr>\n",
              "      <th>C:/Users/dennis.tabuena/Dropbox (Gladstone)/0_Projects/_Hyper+Crisper/Morphological_Analysis/NeuN_5-10mo/TIFF\\DAPI-NeuN_E3-E_20x2_2.tif</th>\n",
              "      <td>[796.4737753178487, 87.16993747147376, 130.754...</td>\n",
              "    </tr>\n",
              "    <tr>\n",
              "      <th>C:/Users/dennis.tabuena/Dropbox (Gladstone)/0_Projects/_Hyper+Crisper/Morphological_Analysis/NeuN_5-10mo/TIFF\\DAPI-NeuN_E3-F_20x2_1.tif</th>\n",
              "      <td>[97.37404085969527, 398.9883526371267, 471.208...</td>\n",
              "    </tr>\n",
              "    <tr>\n",
              "      <th>C:/Users/dennis.tabuena/Dropbox (Gladstone)/0_Projects/_Hyper+Crisper/Morphological_Analysis/NeuN_5-10mo/TIFF\\DAPI-NeuN_E3-F_20x2_2.tif</th>\n",
              "      <td>[264.3574691739249, 752.9679081587647, 134.235...</td>\n",
              "    </tr>\n",
              "    <tr>\n",
              "      <th>C:/Users/dennis.tabuena/Dropbox (Gladstone)/0_Projects/_Hyper+Crisper/Morphological_Analysis/NeuN_5-10mo/TIFF\\DAPI-NeuN_E3-G_20x2_1.tif</th>\n",
              "      <td>[245.76859866049813, 678.3751213750988, 219.50...</td>\n",
              "    </tr>\n",
              "  </tbody>\n",
              "</table>\n",
              "</div>"
            ]
          },
          "metadata": {}
        },
        {
          "output_type": "display_data",
          "data": {
            "text/plain": [
              "<Figure size 640x480 with 1 Axes>"
            ],
            "image/png": "[encoded data removed]"
          },
          "metadata": {}
        }
      ]
    },
    {
      "cell_type": "code",
      "source": [
        "\n",
        "vol_dist_df['counts']=np.nan\n",
        "vol_dist_df['counts']=vol_dist_df['counts'].astype('object')\n",
        "vol_dist_df['edges']=np.nan\n",
        "vol_dist_df['edges']=vol_dist_df['edges'].astype('object')\n",
        "vol_dist_df['probabilities']=np.nan\n",
        "vol_dist_df['probabilities']=vol_dist_df['probabilities'].astype('object')\n",
        "\n",
        "\n",
        "\n",
        "for tiff in vol_dist_df.index:\n",
        "    vols = vol_dist_df.loc[tiff,'volume_lists']\n",
        "    counts, edges = np.histogram(vols,bins=np.arange(0,1800,vol_resolution))\n",
        "    cd_probs = np.cumsum(counts/np.sum(counts))\n",
        "    # plt.stairs(np.cumsum(prob),edges)\n",
        "    vol_dist_df.at[tiff,'edges']=edges\n",
        "    vol_dist_df.at[tiff,'counts']=counts\n",
        "    vol_dist_df.at[tiff,'probabilities']=cd_probs\n",
        "\n",
        "vol_dist_df['geno'] = ['E4' if 'E4' in t else 'E3' for t in vol_dist_df.index]\n",
        "display(vol_dist_df.head(3))\n",
        "\n",
        "\n",
        "\n",
        "sorted(my_tiffs)\n",
        "\n",
        "ages = [10,10,\n",
        "        10,10,\n",
        "        10,10,\n",
        "        5,5,\n",
        "        5,5,\n",
        "        5,5,\n",
        "        10,10,\n",
        "        10,10,\n",
        "        10,10,\n",
        "        5,5,\n",
        "        5,5,\n",
        "        5,5,]\n",
        "\n",
        "\n",
        "age_dict = {t:a for t,a in zip(my_tiffs,ages)}\n",
        "df_ages = [age_dict[t] for t in vol_dist_df.index]\n",
        "vol_dist_df['age'] = df_ages"
      ],
      "metadata": {
        "colab": {
          "base_uri": "https://localhost:8080/",
          "height": 279
        },
        "id": "qSt-VF1MyQOt",
        "outputId": "9d40fe9b-21bb-4c73-ea21-a7b3232d4809"
      },
      "execution_count": 433,
      "outputs": [
        {
          "output_type": "display_data",
          "data": {
            "text/plain": [
              "                                                                                         volume_lists  \\\n",
              "tiff                                                                                                    \n",
              "C:/Users/dennis.tabuena/Dropbox (Gladstone)/0_P...  [334.0459582051122, 495.650479306946, 145.0722...   \n",
              "C:/Users/dennis.tabuena/Dropbox (Gladstone)/0_P...  [796.4737753178487, 87.16993747147376, 130.754...   \n",
              "C:/Users/dennis.tabuena/Dropbox (Gladstone)/0_P...  [97.37404085969527, 398.9883526371267, 471.208...   \n",
              "\n",
              "                                                                                               counts  \\\n",
              "tiff                                                                                                    \n",
              "C:/Users/dennis.tabuena/Dropbox (Gladstone)/0_P...  [0, 0, 2, 1, 1, 1, 1, 1, 0, 2, 1, 0, 0, 0, 0, ...   \n",
              "C:/Users/dennis.tabuena/Dropbox (Gladstone)/0_P...  [0, 1, 2, 1, 1, 2, 1, 2, 3, 1, 1, 0, 0, 2, 0, ...   \n",
              "C:/Users/dennis.tabuena/Dropbox (Gladstone)/0_P...  [0, 3, 1, 1, 1, 2, 1, 2, 1, 2, 2, 1, 0, 0, 1, ...   \n",
              "\n",
              "                                                                                                edges  \\\n",
              "tiff                                                                                                    \n",
              "C:/Users/dennis.tabuena/Dropbox (Gladstone)/0_P...  [0, 50, 100, 150, 200, 250, 300, 350, 400, 450...   \n",
              "C:/Users/dennis.tabuena/Dropbox (Gladstone)/0_P...  [0, 50, 100, 150, 200, 250, 300, 350, 400, 450...   \n",
              "C:/Users/dennis.tabuena/Dropbox (Gladstone)/0_P...  [0, 50, 100, 150, 200, 250, 300, 350, 400, 450...   \n",
              "\n",
              "                                                                                        probabilities  \\\n",
              "tiff                                                                                                    \n",
              "C:/Users/dennis.tabuena/Dropbox (Gladstone)/0_P...  [0.0, 0.0, 0.18181818181818182, 0.272727272727...   \n",
              "C:/Users/dennis.tabuena/Dropbox (Gladstone)/0_P...  [0.0, 0.05555555555555555, 0.16666666666666666...   \n",
              "C:/Users/dennis.tabuena/Dropbox (Gladstone)/0_P...  [0.0, 0.15, 0.2, 0.25, 0.3, 0.4, 0.45, 0.55, 0...   \n",
              "\n",
              "                                                   geno  age  \n",
              "tiff                                                          \n",
              "C:/Users/dennis.tabuena/Dropbox (Gladstone)/0_P...   E3   10  \n",
              "C:/Users/dennis.tabuena/Dropbox (Gladstone)/0_P...   E3   10  \n",
              "C:/Users/dennis.tabuena/Dropbox (Gladstone)/0_P...   E3   10  "
            ],
            "text/html": [
              "<div>\n",
              "<style scoped>\n",
              "    .dataframe tbody tr th:only-of-type {\n",
              "        vertical-align: middle;\n",
              "    }\n",
              "\n",
              "    .dataframe tbody tr th {\n",
              "        vertical-align: top;\n",
              "    }\n",
              "\n",
              "    .dataframe thead th {\n",
              "        text-align: right;\n",
              "    }\n",
              "</style>\n",
              "<table border=\"1\" class=\"dataframe\">\n",
              "  <thead>\n",
              "    <tr style=\"text-align: right;\">\n",
              "      <th></th>\n",
              "      <th>volume_lists</th>\n",
              "      <th>counts</th>\n",
              "      <th>edges</th>\n",
              "      <th>probabilities</th>\n",
              "      <th>geno</th>\n",
              "      <th>age</th>\n",
              "    </tr>\n",
              "    <tr>\n",
              "      <th>tiff</th>\n",
              "      <th></th>\n",
              "      <th></th>\n",
              "      <th></th>\n",
              "      <th></th>\n",
              "      <th></th>\n",
              "      <th></th>\n",
              "    </tr>\n",
              "  </thead>\n",
              "  <tbody>\n",
              "    <tr>\n",
              "      <th>C:/Users/dennis.tabuena/Dropbox (Gladstone)/0_Projects/_Hyper+Crisper/Morphological_Analysis/NeuN_5-10mo/TIFF\\DAPI-NeuN_E3-E_20x2_1.tif</th>\n",
              "      <td>[334.0459582051122, 495.650479306946, 145.0722...</td>\n",
              "      <td>[0, 0, 2, 1, 1, 1, 1, 1, 0, 2, 1, 0, 0, 0, 0, ...</td>\n",
              "      <td>[0, 50, 100, 150, 200, 250, 300, 350, 400, 450...</td>\n",
              "      <td>[0.0, 0.0, 0.18181818181818182, 0.272727272727...</td>\n",
              "      <td>E3</td>\n",
              "      <td>10</td>\n",
              "    </tr>\n",
              "    <tr>\n",
              "      <th>C:/Users/dennis.tabuena/Dropbox (Gladstone)/0_Projects/_Hyper+Crisper/Morphological_Analysis/NeuN_5-10mo/TIFF\\DAPI-NeuN_E3-E_20x2_2.tif</th>\n",
              "      <td>[796.4737753178487, 87.16993747147376, 130.754...</td>\n",
              "      <td>[0, 1, 2, 1, 1, 2, 1, 2, 3, 1, 1, 0, 0, 2, 0, ...</td>\n",
              "      <td>[0, 50, 100, 150, 200, 250, 300, 350, 400, 450...</td>\n",
              "      <td>[0.0, 0.05555555555555555, 0.16666666666666666...</td>\n",
              "      <td>E3</td>\n",
              "      <td>10</td>\n",
              "    </tr>\n",
              "    <tr>\n",
              "      <th>C:/Users/dennis.tabuena/Dropbox (Gladstone)/0_Projects/_Hyper+Crisper/Morphological_Analysis/NeuN_5-10mo/TIFF\\DAPI-NeuN_E3-F_20x2_1.tif</th>\n",
              "      <td>[97.37404085969527, 398.9883526371267, 471.208...</td>\n",
              "      <td>[0, 3, 1, 1, 1, 2, 1, 2, 1, 2, 2, 1, 0, 0, 1, ...</td>\n",
              "      <td>[0, 50, 100, 150, 200, 250, 300, 350, 400, 450...</td>\n",
              "      <td>[0.0, 0.15, 0.2, 0.25, 0.3, 0.4, 0.45, 0.55, 0...</td>\n",
              "      <td>E3</td>\n",
              "      <td>10</td>\n",
              "    </tr>\n",
              "  </tbody>\n",
              "</table>\n",
              "</div>"
            ]
          },
          "metadata": {}
        }
      ]
    },
    {
      "cell_type": "code",
      "source": [
        "# obs_abs_delta, obs_raw_delta = eval_sample(true_key,joint_cdf_mat)\n",
        "# obs_raw_delta.shape\n",
        "X = obs_raw_delta>0\n",
        "\n",
        "import skimage\n",
        "\n",
        "def analyze_full_delta(raw_delta):\n",
        "    positives = skimage.measure.label(raw_delta>0)\n",
        "    positives_chunks = np.unique(positives)\n",
        "    positives_chunks = [p for p in positives_chunks if p>0]\n",
        "    if len(positives_chunks)>0:\n",
        "        pos_patch_area = [np.sum(positives==p) for p in positives_chunks]\n",
        "        pos_patch_density = [np.sum(raw_delta[positives==p]) for p in positives_chunks]\n",
        "        max_pos_area = np.max(pos_patch_area)\n",
        "        max_pos_density = np.max(pos_patch_density)\n",
        "    else:\n",
        "        max_pos_area=0\n",
        "        max_pos_density=0\n",
        "\n",
        "\n",
        "    negatives = skimage.measure.label(raw_delta<0)\n",
        "    negatives_chunks = np.unique(negatives)\n",
        "    negatives_chunks = [p for p in negatives_chunks if p>0]\n",
        "    if len(negatives_chunks)>0:\n",
        "        neg_patch_area = [np.sum(negatives==p) for p in negatives_chunks]\n",
        "        neg_patch_density = [np.sum(raw_delta[negatives==p]) for p in negatives_chunks]\n",
        "        max_negative_area = np.max(neg_patch_area)\n",
        "        min_negative_intensity = np.min(neg_patch_density)\n",
        "\n",
        "    else:\n",
        "        max_negative_area=0\n",
        "        min_negative_intensity=0\n",
        "\n",
        "    return np.asarray([max_pos_area, max_pos_density, max_negative_area, min_negative_intensity])\n",
        "\n",
        "\n",
        "analyze_full_delta(obs_raw_delta)"
      ],
      "metadata": {
        "colab": {
          "base_uri": "https://localhost:8080/"
        },
        "id": "KOYPxxOhrbhx",
        "outputId": "46f35756-7b20-497a-bd19-d302e7b5e989"
      },
      "execution_count": 471,
      "outputs": [
        {
          "output_type": "execute_result",
          "data": {
            "text/plain": [
              "array([11.        ,  0.07498969,  9.        , -0.42633357])"
            ]
          },
          "metadata": {},
          "execution_count": 471
        }
      ]
    },
    {
      "cell_type": "code",
      "source": [
        "# cdf_mat =\n",
        "\n",
        "\n",
        "def permute_cdf_test(true_key,joint_cdf_mat,n_per=1000):\n",
        "    obs_abs_delta, obs_raw_delta = eval_sample(true_key,joint_cdf_mat)\n",
        "    obs_delta_stats = analyze_full_delta(obs_raw_delta)\n",
        "    perm_delta_list = list()\n",
        "    perm_delta_raw_list = list()\n",
        "    for a in np.arange(n_per):\n",
        "        perm_key = true_key.copy()\n",
        "        np.random.shuffle(perm_key)\n",
        "        perm_abs_delta, perm_full_delta = eval_sample(perm_key,joint_cdf_mat)\n",
        "        perm_delta_list.append(perm_abs_delta)\n",
        "        perm_delta_raw_stats = analyze_full_delta(perm_full_delta)\n",
        "        perm_delta_raw_list.append(perm_delta_raw_stats)\n",
        "    perm_delta_raw_arr = np.stack(perm_delta_raw_list)\n",
        "\n",
        "    fig,ax=plt.subplots(1)\n",
        "    ax.hist(perm_delta_list,bins=100)\n",
        "    ax.axvline(obs_abs_delta,color='r')\n",
        "    pval = np.mean(obs_abs_delta>=perm_delta_list)\n",
        "    print('p-value = ', 1-pval)\n",
        "\n",
        "    fig,ax=plt.subplots(2,2)\n",
        "    ax=ax.flatten()\n",
        "    ax[0].hist(perm_delta_raw_arr[:,0],bins=100)\n",
        "    ax[0].axvline(obs_delta_stats[0],color='r')\n",
        "    ax[0].set_title(f'pos_area p={np.mean(obs_delta_stats[0]<perm_delta_raw_arr[:,0]) }')\n",
        "\n",
        "    ax[1].hist(perm_delta_raw_arr[:,1],bins=100)\n",
        "    ax[1].axvline(obs_delta_stats[1],color='r')\n",
        "    ax[1].set_title(f'pos_density p={np.mean(obs_delta_stats[1]<perm_delta_raw_arr[:,1]) }')\n",
        "\n",
        "    ax[2].hist(perm_delta_raw_arr[:,2],bins=100)\n",
        "    ax[2].axvline(obs_delta_stats[2],color='r')\n",
        "    ax[2].set_title(f'neg_area p={np.mean(obs_delta_stats[2]>perm_delta_raw_arr[:,2]) }')\n",
        "\n",
        "    ax[3].hist(perm_delta_raw_arr[:,3],bins=100)\n",
        "    ax[3].axvline(obs_delta_stats[3],color='r')\n",
        "    ax[3].set_title(f'neg_density p={np.mean(obs_delta_stats[3]>perm_delta_raw_arr[:,3]) }')\n",
        "\n",
        "    plt.tight_layout()\n",
        "\n",
        "\n",
        "def eval_sample(test_key,joint_cdf_mat):\n",
        "    samp1 = joint_cdf_mat[test_key,:]\n",
        "    samp2 = joint_cdf_mat[~test_key,:]\n",
        "\n",
        "    raw_delta = np.mean(samp1,axis=0)-np.mean(samp2,axis=0)\n",
        "    abs_delta= np.sum(np.abs(raw_delta))\n",
        "    return abs_delta, raw_delta\n",
        "\n",
        "true_key = vol_dist_df['geno'].values=='E3'\n",
        "joint_cdf_mat = np.stack(vol_dist_df['probabilities'].values)\n",
        "permute_cdf_test(true_key,joint_cdf_mat)\n"
      ],
      "metadata": {
        "colab": {
          "base_uri": "https://localhost:8080/",
          "height": 917
        },
        "id": "RK8SpL6jZNEl",
        "outputId": "396b6eb9-fdb5-4a68-fba2-dcbee52e1668"
      },
      "execution_count": 496,
      "outputs": [
        {
          "output_type": "stream",
          "name": "stdout",
          "text": [
            "p-value =  0.5369999999999999\n"
          ]
        },
        {
          "output_type": "display_data",
          "data": {
            "text/plain": [
              "<Figure size 640x480 with 1 Axes>"
            ],
            "image/png": "[encoded data removed]"
          },
          "metadata": {}
        },
        {
          "output_type": "display_data",
          "data": {
            "text/plain": [
              "<Figure size 640x480 with 4 Axes>"
            ],
            "image/png": "[encoded data removed]"
          },
          "metadata": {}
        }
      ]
    },
    {
      "cell_type": "code",
      "source": [
        "\n",
        "\n"
      ],
      "metadata": {
        "id": "UTCMZAAbnN5K"
      },
      "execution_count": 419,
      "outputs": []
    },
    {
      "cell_type": "code",
      "source": [
        "vol_dist_df_10MO = vol_dist_df[vol_dist_df['age']==10]\n",
        "true_key = vol_dist_df_10MO['geno'].values=='E3'\n",
        "joint_cdf_mat = np.stack(vol_dist_df_10MO['probabilities'].values)\n",
        "permute_cdf_test(true_key,joint_cdf_mat)\n",
        "\n",
        "\n",
        "vol_dist_df_5MO = vol_dist_df[vol_dist_df['age']==5]\n",
        "true_key = vol_dist_df_5MO['geno'].values=='E3'\n",
        "joint_cdf_mat = np.stack(vol_dist_df_5MO['probabilities'].values)\n",
        "permute_cdf_test(true_key,joint_cdf_mat,n_per=1000)\n",
        "\n",
        "# true_key = vol_dist_df['geno'].values=='E3'\n",
        "# joint_cdf_mat = np.stack(vol_dist_df['probabilities'].values)\n",
        "# permute_cdf_test(true_key,joint_cdf_mat)"
      ],
      "metadata": {
        "colab": {
          "base_uri": "https://localhost:8080/",
          "height": 880
        },
        "id": "A1j0D_6vhspV",
        "outputId": "e2a0b808-66b5-4e38-b362-3a969630df49"
      },
      "execution_count": 425,
      "outputs": [
        {
          "output_type": "stream",
          "name": "stdout",
          "text": [
            "p-value =  0.5758\n",
            "p-value =  0.051000000000000045\n"
          ]
        },
        {
          "output_type": "display_data",
          "data": {
            "text/plain": [
              "<Figure size 640x480 with 1 Axes>"
            ],
            "image/png": "[encoded data removed]"
          },
          "metadata": {}
        },
        {
          "output_type": "display_data",
          "data": {
            "text/plain": [
              "<Figure size 640x480 with 1 Axes>"
            ],
            "image/png": "[encoded data removed]"
          },
          "metadata": {}
        }
      ]
    },
    {
      "cell_type": "code",
      "source": [
        "E4_df = vol_dist_df[vol_dist_df['geno']=='E4']\n",
        "E4_values = np.stack( E4_df['probabilities'].values)\n",
        "np.savetxt('E4_values.csv',E4_values,delimiter=\",\")\n",
        "\n",
        "E3_df = vol_dist_df[vol_dist_df['geno']=='E3']\n",
        "E3_values = np.stack( E3_df['probabilities'].values)\n",
        "np.savetxt('E3_values.csv',E3_values,delimiter=\",\")\n"
      ],
      "metadata": {
        "id": "-5EkWRhQPsxU"
      },
      "execution_count": 387,
      "outputs": []
    },
    {
      "cell_type": "code",
      "source": [
        "samp2"
      ],
      "metadata": {
        "colab": {
          "base_uri": "https://localhost:8080/",
          "height": 147
        },
        "id": "oa9Nk7cTcM8R",
        "outputId": "d8ce7914-9600-429f-fc49-295e54dbc174"
      },
      "execution_count": 377,
      "outputs": [
        {
          "output_type": "error",
          "ename": "NameError",
          "evalue": "name 'samp2' is not defined",
          "traceback": [
            "\u001b[1;31m---------------------------------------------------------------------------\u001b[0m",
            "\u001b[1;31mNameError\u001b[0m                                 Traceback (most recent call last)",
            "Cell \u001b[1;32mIn[377], line 1\u001b[0m\n\u001b[1;32m----> 1\u001b[0m samp2\n",
            "\u001b[1;31mNameError\u001b[0m: name 'samp2' is not defined"
          ]
        }
      ]
    },
    {
      "cell_type": "code",
      "source": [
        "\"\"\"\n",
        "A=4πr2\n",
        "V=4/3πr3\n",
        "\"\"\"\n",
        "\n",
        "E3_DG\n"
      ],
      "metadata": {
        "id": "3jreiSnoP7kJ"
      },
      "execution_count": null,
      "outputs": []
    }
  ]
}