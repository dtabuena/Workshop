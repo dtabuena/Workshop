{
  "nbformat": 4,
  "nbformat_minor": 0,
  "metadata": {
    "colab": {
      "provenance": [],
      "authorship_tag": "ABX9TyPt4Zoy6i9aAG3rueDS+h7D",
      "include_colab_link": true
    },
    "kernelspec": {
      "name": "python3",
      "display_name": "Python 3"
    },
    "language_info": {
      "name": "python"
    }
  },
  "cells": [
    {
      "cell_type": "markdown",
      "metadata": {
        "id": "view-in-github",
        "colab_type": "text"
      },
      "source": [
        "<a href=\"https://colab.research.google.com/github/dtabuena/Workshop/blob/main/Image/Soma_Size/Cell_pose_AR_data.ipynb\" target=\"_parent\"><img src=\"https://colab.research.google.com/assets/colab-badge.svg\" alt=\"Open In Colab\"/></a>"
      ]
    },
    {
      "cell_type": "code",
      "source": [
        "!pip install matplotlib --quiet"
      ],
      "metadata": {
        "id": "3-b5oGv13Np9"
      },
      "execution_count": 92,
      "outputs": []
    },
    {
      "cell_type": "code",
      "execution_count": 93,
      "metadata": {
        "id": "xvqLOdv2XEgN"
      },
      "outputs": [],
      "source": [
        "\n",
        "import tifffile\n",
        "import os\n",
        "import numpy as np\n",
        "import matplotlib.pyplot as plt\n"
      ]
    },
    {
      "cell_type": "code",
      "source": [
        "source_directory = 'C:/Users/dennis.tabuena/Dropbox (Gladstone)/0_Projects/_Hyper+Crisper/NeunSoma/'\n",
        "\n",
        "\n",
        "my_tiffs = list()\n",
        "for rt,dirs,file_list in os.walk(source_directory):\n",
        "    for file in file_list:\n",
        "        if 'tif' in file:\n",
        "            my_tiffs.append(os.path.join(rt,file))\n",
        "print(my_tiffs)\n",
        "\n",
        "curr_tif = my_tiffs[0]"
      ],
      "metadata": {
        "id": "XHJTuAXOsE6U",
        "outputId": "ccd66dd6-4605-402e-e418-ec3eae623cf6",
        "colab": {
          "base_uri": "https://localhost:8080/"
        }
      },
      "execution_count": 94,
      "outputs": [
        {
          "output_type": "stream",
          "name": "stdout",
          "text": [
            "['C:/Users/dennis.tabuena/Dropbox (Gladstone)/0_Projects/_Hyper+Crisper/NeunSoma/MDGA2_08-22-22_DG_40X_2XZoom_1.tif', 'C:/Users/dennis.tabuena/Dropbox (Gladstone)/0_Projects/_Hyper+Crisper/NeunSoma/MDGA2_08-22-22_S001_DG_40X_2XZoom_1.tif', 'C:/Users/dennis.tabuena/Dropbox (Gladstone)/0_Projects/_Hyper+Crisper/NeunSoma/MDGA2_08-22-22__S001_DG_40X_2XZoom_1.tif', 'C:/Users/dennis.tabuena/Dropbox (Gladstone)/0_Projects/_Hyper+Crisper/NeunSoma/MDGA2_08-24-22_DG_40X_2XZoom_1.tif', 'C:/Users/dennis.tabuena/Dropbox (Gladstone)/0_Projects/_Hyper+Crisper/NeunSoma/MDGA2_08-24-22__S001_DG_40X_2XZoom_1.tif', 'C:/Users/dennis.tabuena/Dropbox (Gladstone)/0_Projects/_Hyper+Crisper/NeunSoma/MDGA2_08-25-22_DG_40X_2XZoom_1.tif', 'C:/Users/dennis.tabuena/Dropbox (Gladstone)/0_Projects/_Hyper+Crisper/NeunSoma/MDGA2_08-25-22__S001_DG_40X_2XZoom_1.tif']\n"
          ]
        }
      ]
    },
    {
      "cell_type": "code",
      "source": [
        "curr_tif = 'C:/Users/dennis.tabuena/Dropbox (Gladstone)/0_Projects/_Hyper+Crisper/NeunSoma/MDGA2_08-25-22__S001_DG_40X_2XZoom_1.tif'"
      ],
      "metadata": {
        "id": "Xsxs7oTC-Ea4"
      },
      "execution_count": 103,
      "outputs": []
    },
    {
      "cell_type": "code",
      "source": [
        "tiff_format = 'zcyx'\n",
        "color_dim = tiff_format.index('c')\n",
        "cind = list(range(len(tiff_format)))\n",
        "reord = [cind[color_dim]] + cind[:color_dim] + cind[color_dim+1:]"
      ],
      "metadata": {
        "id": "eRCP9ev1mXWi"
      },
      "execution_count": 104,
      "outputs": []
    },
    {
      "cell_type": "code",
      "source": [
        "def dimension_to_front(data,dim_x):\n",
        "    dim_list = list(np.arange(len(data.shape)))\n",
        "    transpose = [dim_list[dim_x]] + dim_list[:dim_x] + dim_list[dim_x+1:]\n",
        "    data_t = data.transpose(transpose)\n",
        "    invs_transpose = list(np.argsort(transpose))\n",
        "    return data_t, transpose, invs_transpose\n",
        "\n",
        "def norm_channels(im_data,tiff_format):\n",
        "    color_dim = tiff_format.index('c')\n",
        "    data_t, transpose, invs_transpose = dimension_to_front(im_data,color_dim)\n",
        "    num_channels = data_t.shape[0]\n",
        "    for c in np.arange(num_channels):\n",
        "        c_data = data_t[c,:]\n",
        "        (top,bot) = np.percentile(c_data.flatten(),[99,1])\n",
        "        c_data = (c_data-bot)/(top-bot)\n",
        "        data_t[c,:] = c_data\n",
        "    im_data = data_t.transpose(invs_transpose)\n",
        "    return im_data\n",
        "# dimension_to_front(tiff_data,2)"
      ],
      "metadata": {
        "id": "N129_aDpuXMI"
      },
      "execution_count": 105,
      "outputs": []
    },
    {
      "cell_type": "code",
      "source": [
        "tiff_format = 'zcyx'\n",
        "tiff_data = tifffile.imread(curr_tif)\n",
        "tiff_data = norm_channels(tiff_data,'zcyx')\n",
        "\n"
      ],
      "metadata": {
        "id": "P4TvnvMFtDyc"
      },
      "execution_count": 124,
      "outputs": []
    },
    {
      "cell_type": "code",
      "source": [
        "for z in range(im_data.shape[0]):\n",
        "    num_c = im_data.shape[1]\n",
        "    fig,ax=plt.subplots(1,num_c,figsize=(num_c*2,1.5),dpi=300)\n",
        "    colors = ['Blues','Reds','Greens','gray_r']\n",
        "    for c in range(num_c):\n",
        "        ax[c].imshow(im_data[z,c], cmap=colors[c],vmin=0,vmax=1)\n",
        "        ax[c].axis('off')\n",
        "    plt.tight_layout()\n",
        "    plt.show()"
      ],
      "metadata": {
        "id": "qXJiPhsv2Vu_"
      },
      "execution_count": null,
      "outputs": []
    },
    {
      "cell_type": "code",
      "source": [],
      "metadata": {
        "id": "ZhkaWyCuAeNg"
      },
      "execution_count": null,
      "outputs": []
    },
    {
      "cell_type": "code",
      "source": [
        "!pip install cellpose\n",
        "from cellpose import models\n"
      ],
      "metadata": {
        "id": "UtNElOfItQ7D"
      },
      "execution_count": null,
      "outputs": []
    },
    {
      "cell_type": "code",
      "source": [
        "print(tiff_data.shape)\n",
        "cell_channel = 3\n",
        "nuclear_channel = 0\n",
        "channel_axis = 1"
      ],
      "metadata": {
        "id": "_lDIPRgZ_zAg",
        "outputId": "3f6abf58-8038-4540-f818-01911e696996",
        "colab": {
          "base_uri": "https://localhost:8080/"
        }
      },
      "execution_count": 41,
      "outputs": [
        {
          "output_type": "stream",
          "name": "stdout",
          "text": [
            "(15, 3, 800, 800)\n"
          ]
        }
      ]
    },
    {
      "cell_type": "code",
      "source": [
        "model = models.Cellpose(model_type='cyto')\n",
        "results = model.eval(tiff_data,diameter=30.0,do_3D=True)\n",
        "\n",
        "\n"
      ],
      "metadata": {
        "id": "iZviPVor0rnA"
      },
      "execution_count": null,
      "outputs": []
    },
    {
      "cell_type": "code",
      "source": [
        "image_znorm, image_r,chan_dim,z_dim = norm_channels(image,chan_dim,z_dim,)\n",
        "diameter = 30\n",
        "exp_dist = 5\n",
        "masks, exp_masks = mask_image_cellpose(image_r,cell_chan,diameter,exp_dist)"
      ],
      "metadata": {
        "id": "tnE6WZWGfXG5"
      },
      "execution_count": null,
      "outputs": []
    },
    {
      "cell_type": "code",
      "source": [
        "eval(x, batch_size=8, channels=[0, 0], channel_axis=None, invert=False, normalize=True, diameter=30.0, do_3D=False, **kwargs)"
      ],
      "metadata": {
        "id": "GM7rb7_ffmAY"
      },
      "execution_count": null,
      "outputs": []
    }
  ]
}