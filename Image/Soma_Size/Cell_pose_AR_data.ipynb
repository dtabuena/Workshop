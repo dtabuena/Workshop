{
  "nbformat": 4,
  "nbformat_minor": 0,
  "metadata": {
    "colab": {
      "provenance": [],
      "authorship_tag": "ABX9TyPsZLfVTQMiRVX/vpz50vhS",
      "include_colab_link": true
    },
    "kernelspec": {
      "name": "python3",
      "display_name": "Python 3"
    },
    "language_info": {
      "name": "python"
    }
  },
  "cells": [
    {
      "cell_type": "markdown",
      "metadata": {
        "id": "view-in-github",
        "colab_type": "text"
      },
      "source": [
        "<a href=\"https://colab.research.google.com/github/dtabuena/Workshop/blob/main/Image/Soma_Size/Cell_pose_AR_data.ipynb\" target=\"_parent\"><img src=\"https://colab.research.google.com/assets/colab-badge.svg\" alt=\"Open In Colab\"/></a>"
      ]
    },
    {
      "cell_type": "code",
      "source": [
        "!pip install cellpose --quiet\n",
        "from cellpose import models"
      ],
      "metadata": {
        "id": "3-b5oGv13Np9"
      },
      "execution_count": null,
      "outputs": []
    },
    {
      "cell_type": "code",
      "execution_count": null,
      "metadata": {
        "id": "xvqLOdv2XEgN"
      },
      "outputs": [],
      "source": [
        "\n",
        "import tifffile\n",
        "import os\n",
        "import numpy as np\n",
        "import matplotlib.pyplot as plt\n",
        "import skimage\n",
        "from tqdm import tqdm"
      ]
    },
    {
      "cell_type": "code",
      "source": [
        "source_directory = 'C:/Users/dennis.tabuena/Dropbox (Gladstone)/0_Projects/_Hyper+Crisper/NeunSoma/'\n",
        "os.chdir(source_directory)"
      ],
      "metadata": {
        "id": "9bqwXEK4DHnb"
      },
      "execution_count": null,
      "outputs": []
    },
    {
      "cell_type": "code",
      "source": [
        "\n",
        "my_tiffs = list()\n",
        "for rt,dirs,file_list in os.walk(source_directory):\n",
        "    for file in file_list:\n",
        "        if 'tif' in file:\n",
        "            my_tiffs.append(os.path.join(rt,file))\n",
        "print(my_tiffs)\n",
        "\n",
        "curr_tif = my_tiffs[0]"
      ],
      "metadata": {
        "id": "XHJTuAXOsE6U"
      },
      "execution_count": null,
      "outputs": []
    },
    {
      "cell_type": "markdown",
      "source": [],
      "metadata": {
        "id": "0oEYuCG24liH"
      }
    },
    {
      "cell_type": "code",
      "source": [
        "curr_tif = 'C:/Users/dennis.tabuena/Dropbox (Gladstone)/0_Projects/_Hyper+Crisper/NeunSoma/CA3_RGBW_.tif'"
      ],
      "metadata": {
        "id": "Xsxs7oTC-Ea4"
      },
      "execution_count": null,
      "outputs": []
    },
    {
      "cell_type": "code",
      "source": [
        "def dimension_to_front(data,dim_x):\n",
        "    dim_list = list(np.arange(len(data.shape)))\n",
        "    transpose = [dim_list[dim_x]] + dim_list[:dim_x] + dim_list[dim_x+1:]\n",
        "    data_t = data.transpose(transpose)\n",
        "    data_t =data_t.astype('float16')\n",
        "    invs_transpose = list(np.argsort(transpose))\n",
        "    return data_t, transpose, invs_transpose\n",
        "\n",
        "def norm_channels(im_data,tiff_format,clip=False):\n",
        "    color_dim = tiff_format.index('c')\n",
        "    data_t, transpose, invs_transpose = dimension_to_front(im_data,color_dim)\n",
        "    num_channels = data_t.shape[0]\n",
        "    for c in np.arange(num_channels):\n",
        "        c_data = data_t[c,:]\n",
        "        (top,bot) = np.percentile(c_data.flatten(),[99,1])\n",
        "        c_data = (c_data-bot)/(top-bot)\n",
        "        data_t[c,:] = c_data\n",
        "    im_data = data_t.transpose(invs_transpose)\n",
        "    if clip:\n",
        "        im_data[im_data>1]=1\n",
        "        im_data[im_data<0]=0\n",
        "    return im_data\n",
        "\n",
        "def med_filt_stack(img,d):\n",
        "    color_dim = tiff_format.index('c')\n",
        "    z_dim = tiff_format.index('z')\n",
        "    color_dim=1\n",
        "    z_dim=0\n",
        "    for c in range(img.shape[color_dim]):\n",
        "        for z in range(img.shape[z_dim]):\n",
        "            img[z,c,:,:] = skimage.filters.median(img[z,c,:,:],footprint=np.ones([d,d]))\n",
        "    return img\n",
        "\n"
      ],
      "metadata": {
        "id": "N129_aDpuXMI"
      },
      "execution_count": null,
      "outputs": []
    },
    {
      "cell_type": "code",
      "source": [
        "rgb_stack.shape"
      ],
      "metadata": {
        "id": "vgojKOa8fDC6"
      },
      "execution_count": null,
      "outputs": []
    },
    {
      "cell_type": "code",
      "source": [
        "tiff_data_raw = tifffile.imread(curr_tif)\n",
        "tiff_format = 'zcyx'\n",
        "\n",
        "tiff_data = med_filt_stack(tiff_data_raw,2)\n",
        "tiff_data = norm_channels(tiff_data,'zcyx',clip=True)\n",
        "tiff_data = tiff_data[:,[3,0,2],:,:]\n",
        "print(tiff_data.shape)\n",
        "tiff_data[:,1,:,:]=0\n",
        "\n",
        "\n",
        "rgb_stack = tiff_data.transpose(0,2,3,1)*225\n",
        "rgb_stack[rgb_stack<0]=0\n",
        "rgb_stack[rgb_stack>255]=255\n",
        "rgb_stack=rgb_stack.astype('uint8')\n",
        "\n",
        "max_proj_rgb = np.max(tiff_data,axis=0).transpose(1,2,0) *225\n",
        "fig,ax=plt.subplots(1,1,figsize=(2,2),dpi=300)\n",
        "ax.imshow(max_proj_rgb.astype('uint8'))\n",
        "ax.set_xticks([])\n",
        "ax.set_yticks([])\n",
        "\n",
        "\n"
      ],
      "metadata": {
        "id": "IYZ0mMlm4Y5J"
      },
      "execution_count": null,
      "outputs": []
    },
    {
      "cell_type": "code",
      "source": [
        "\"\"\" Display Split Projections \"\"\"\n",
        "num_c = tiff_data.shape[1]\n",
        "fig,ax=plt.subplots(1,num_c,figsize=(num_c*1,1),dpi=300)\n",
        "colors = ['Reds','Greens','Blues','gray']\n",
        "for c in range(num_c):\n",
        "    ax[c].imshow(np.max(tiff_data[:,c,:,:],axis=0), cmap=colors[c],vmin=0,vmax=1)\n",
        "    ax[c].axis('off')\n",
        "plt.tight_layout()"
      ],
      "metadata": {
        "id": "ayEKJ1X81OR2"
      },
      "execution_count": null,
      "outputs": []
    },
    {
      "cell_type": "code",
      "source": [
        "# colors = ['Reds','Greens','Blues','gray_r']\n",
        "# for z in range(tiff_data.shape[0]):\n",
        "#     num_c = tiff_data.shape[1]\n",
        "#     fig,ax=plt.subplots(1,num_c,figsize=(num_c*1,1),dpi=300)\n",
        "#     for c in range(num_c):\n",
        "#         ax[c].imshow(tiff_data[z,c], cmap=colors[c],vmin=0,vmax=1)\n",
        "#         ax[c].axis('off')\n",
        "#     plt.tight_layout()\n",
        "#     plt.show()"
      ],
      "metadata": {
        "id": "qXJiPhsv2Vu_"
      },
      "execution_count": null,
      "outputs": []
    },
    {
      "cell_type": "code",
      "source": [
        "img_rgb = tiff_data.transpose([0,2,3,1])*255\n",
        "img_rgb[img_rgb>255]=255\n",
        "img_rgb[img_rgb<0]=0\n",
        "img_rgb=img_rgb.astype('uint8')\n",
        "fig,ax =plt.subplots(1,2,figsize=(3,1.5),dpi=300)\n",
        "ax[0].imshow(img_rgb[27])\n",
        "y=465\n",
        "xb=[100,200]\n",
        "ax[0].plot(xb,[y,y],'w',linewidth=.25)\n",
        "ax[1].plot(img_rgb[27,y,:,0],color='r')\n",
        "ax[1].plot(img_rgb[27,y,:,1],color='g')\n",
        "ax[1].plot(img_rgb[27,y,:,2],color='b')\n",
        "ax[1].set_xlim(xb)\n",
        "plt.tight_layout()"
      ],
      "metadata": {
        "id": "gZm8PJqbB5hn"
      },
      "execution_count": null,
      "outputs": []
    },
    {
      "cell_type": "code",
      "source": [
        "\"\"\" Define Model \"\"\"\n",
        "print(tiff_data.shape)\n",
        "\n",
        "print('nuclear_channel',nuclear_channel)\n",
        "print('cell_channel',cell_channel)\n",
        "model = models.Cellpose(model_type='cyto3')\n"
      ],
      "metadata": {
        "id": "EsqSqxOjc-eH"
      },
      "execution_count": null,
      "outputs": []
    },
    {
      "cell_type": "code",
      "source": [
        "zi = 35\n",
        "diam = 30\n",
        "cell_channel = 1\n",
        "nuclear_channel = 0\n",
        "channel_axis = 3\n",
        "(zi_masks, zi_flows, zi_styles, zi_diams) =  model.eval(tiff_data[zi,:,:,:], channels=[cell_channel, nuclear_channel], channel_axis = 0, diameter=diam, do_3D=False) #\n",
        "fig,ax=plt.subplots(1,figsize=(1.5,1.5),dpi=600)\n",
        "ax.imshow(img_rgb[zi,:,:,:])\n",
        "ax.contour(zi_masks,linewidths=.2,cmap='prism')"
      ],
      "metadata": {
        "id": "S6pBZg_DTeQ_"
      },
      "execution_count": null,
      "outputs": []
    },
    {
      "cell_type": "code",
      "source": [
        "img_rgb.shape"
      ],
      "metadata": {
        "id": "x6FvHMnbFGrb"
      },
      "execution_count": null,
      "outputs": []
    },
    {
      "cell_type": "code",
      "source": [
        "channel_axis=3\n",
        "(masks, flows, styles, diams) =  model.eval(img_rgb, channels=[cell_channel, nuclear_channel], channel_axis = channel_axis, diameter=diam, do_3D=False,stitch_threshold=0.02) #\n",
        "fig,ax=plt.subplots(1,figsize=(1.5,1.5),dpi=300)\n",
        "plt.imshow(np.sum(masks>0,axis=0))"
      ],
      "metadata": {
        "id": "ZhDiAzoBTQFu"
      },
      "execution_count": null,
      "outputs": []
    },
    {
      "cell_type": "code",
      "source": [
        "\"\"\" Slice 3d\"\"\"\n",
        "zi = 35\n",
        "fig,ax=plt.subplots(1,2,figsize=(3,1.5),dpi=800)\n",
        "ax[0].imshow((tiff_data[zi,:,:,:].transpose(1,2,0)*255).astype('uint'))\n",
        "ax[0].contour(masks[zi,:,:],linewidths=.2,cmap='gray')\n",
        "\n",
        "\"\"\" no 3d\"\"\"\n",
        "(zi_masks, zi_flows, zi_styles, zi_diams) =  model.eval(tiff_data[zi,:,:,:], channels=[cell_channel, nuclear_channel], channel_axis = 0, diameter=diam, do_3D=True) #\n",
        "ax[1].imshow(img_rgb[zi,:,:,:])\n",
        "ax[1].contour(zi_masks,linewidths=.2,cmap='gray')\n"
      ],
      "metadata": {
        "id": "ohtp7O1YFJnK"
      },
      "execution_count": null,
      "outputs": []
    },
    {
      "cell_type": "code",
      "source": [
        "mask_shuffle=np.zeros_like(masks)\n",
        "ids = np.arange(np.max(masks))+1\n",
        "rand_ids = np.random.choice(ids, size=len(ids), replace=False)\n",
        "for i,ri in enumerate(rand_ids):\n",
        "    mask_shuffle[masks==i+1] = ri\n",
        "tifffile.imwrite('./mask_shuffle.tif',mask_shuffle)"
      ],
      "metadata": {
        "id": "LXFPMKMK_pYD"
      },
      "execution_count": null,
      "outputs": []
    },
    {
      "cell_type": "code",
      "source": [],
      "metadata": {
        "id": "ZJMHZM2jcM_N"
      },
      "execution_count": null,
      "outputs": []
    },
    {
      "cell_type": "code",
      "source": [
        "edge_mask = np.ones_like(mask_shuffle,dtype='float')\n",
        "for zi in tqdm(range(mask_shuffle.shape[0])):\n",
        "    edge_mask[zi,:,:] = skimage.filters.sobel(mask_shuffle[zi,:,:])\n",
        "edge_mask[edge_mask==0]=np.nan"
      ],
      "metadata": {
        "id": "ftG_yVFFASsD"
      },
      "execution_count": null,
      "outputs": []
    },
    {
      "cell_type": "code",
      "source": [],
      "metadata": {
        "id": "J_2aDnXzcZ3T"
      },
      "execution_count": null,
      "outputs": []
    },
    {
      "cell_type": "code",
      "source": [
        "for zi in range(masks.shape[0]):\n",
        "    fig,ax=plt.subplots(1,figsize=(2,2),dpi=300)\n",
        "    ax.imshow(img_rgb[zi,:,:,:])\n",
        "    ax.contour(masks[zi,:,:],linewidths=.2)"
      ],
      "metadata": {
        "id": "o27Oh50p-1I9"
      },
      "execution_count": null,
      "outputs": []
    },
    {
      "cell_type": "code",
      "source": [
        "vmax=np.nanmax(masks)\n",
        "levels = np.arange(vmax+1).astype(int)\n",
        "print(levels)"
      ],
      "metadata": {
        "id": "aOVGt6NSwXqz"
      },
      "execution_count": null,
      "outputs": []
    },
    {
      "cell_type": "code",
      "source": [
        "# masks=masks.astype(float)\n",
        "# masks[masks<1]=np.nan\n",
        "\n",
        "top = np.nanmax(masks)\n",
        "masks.shape\n",
        "num_z = tiff_data.shape[0]\n",
        "for z in range(num_z):\n",
        "    fig,ax=plt.subplots(1,2,figsize=(6,2),dpi=300)\n",
        "    ax[0].imshow(tiff_data[z,cell_channel-1,:,:], cmap='Reds',vmin=0,vmax=1)\n",
        "    ax[1].imshow(tiff_data[z,nuclear_channel-1,:,:], cmap='Blues',vmin=0,vmax=1)\n",
        "    # ax[2].imshow(img_rgb[z,:,:])\n",
        "    # ax[0].contour(masks[z,:,:],linewidths=.2,vmin=0,vmax=vmax,cmap='prism',levels=levels)\n",
        "    ax[1].contour(masks[z,:,:],linewidths=.2,vmin=0,vmax=vmax,cmap='prism',levels=levels)\n",
        "    ax[2].contour(masks[z,:,:],linewidths=.2,vmin=0,vmax=vmax,cmap='prism',levels=levels)\n",
        "    plt.tight_layout\n"
      ],
      "metadata": {
        "id": "X3pvu-u7O3NC"
      },
      "execution_count": null,
      "outputs": []
    },
    {
      "cell_type": "code",
      "source": [
        "# tiff_data_list = [tiff_data[z,:,:,:] for z in range(tiff_data.shape[0])]"
      ],
      "metadata": {
        "id": "HjR6O4lU_82V"
      },
      "execution_count": null,
      "outputs": []
    },
    {
      "cell_type": "code",
      "source": [],
      "metadata": {
        "id": "G74gPSUgPYze"
      },
      "execution_count": null,
      "outputs": []
    },
    {
      "cell_type": "code",
      "source": [
        "voxels = [0.2652, 0.2652, 0.6]"
      ],
      "metadata": {
        "id": "JjMfkvZ5XKEA"
      },
      "execution_count": null,
      "outputs": []
    },
    {
      "cell_type": "code",
      "source": [
        "non_zero = masks[~np.isnan(masks)]\n",
        "num_cells = np.max(non_zero).astype(int)\n",
        "print(num_cells)\n",
        "edges = np.arange(0,num_cells)\n",
        "pxl_counts, ids = np.histogram(masks[~np.isnan(masks)],bins = edges)\n",
        "\n",
        "size_counts, sizes = np.histogram(np.log10(pxl_counts+1),bins=200)\n",
        "\n",
        "fig,ax = plt.subplots(1,1,figsize=(2,1),dpi=300)\n",
        "ax.stairs(size_counts,sizes) #np.cumsum(size_counts)\n",
        "ax.set_yscale('log')"
      ],
      "metadata": {
        "id": "goZPH65DUZcj"
      },
      "execution_count": null,
      "outputs": []
    }
  ]
}