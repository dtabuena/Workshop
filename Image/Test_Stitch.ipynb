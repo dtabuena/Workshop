{
  "nbformat": 4,
  "nbformat_minor": 0,
  "metadata": {
    "colab": {
      "provenance": [],
      "authorship_tag": "ABX9TyMvPD1wRGGzlT/x4rYst3jq",
      "include_colab_link": true
    },
    "kernelspec": {
      "name": "python3",
      "display_name": "Python 3"
    },
    "language_info": {
      "name": "python"
    }
  },
  "cells": [
    {
      "cell_type": "markdown",
      "metadata": {
        "id": "view-in-github",
        "colab_type": "text"
      },
      "source": [
        "<a href=\"https://colab.research.google.com/github/dtabuena/Workshop/blob/main/Image/Test_Stitch.ipynb\" target=\"_parent\"><img src=\"https://colab.research.google.com/assets/colab-badge.svg\" alt=\"Open In Colab\"/></a>"
      ]
    },
    {
      "cell_type": "code",
      "source": [
        "!pip install opencv-python"
      ],
      "metadata": {
        "id": "yZepJZrbZbwN",
        "colab": {
          "base_uri": "https://localhost:8080/"
        },
        "outputId": "411d121e-84c4-438a-dd85-f2d49ec2286d"
      },
      "execution_count": 2,
      "outputs": [
        {
          "output_type": "stream",
          "name": "stdout",
          "text": [
            "Requirement already satisfied: opencv-python in c:\\users\\dennis.tabuena\\appdata\\local\\anaconda3\\lib\\site-packages (4.9.0.80)\n",
            "Requirement already satisfied: numpy>=1.21.2 in c:\\users\\dennis.tabuena\\appdata\\local\\anaconda3\\lib\\site-packages (from opencv-python) (1.24.3)\n"
          ]
        }
      ]
    },
    {
      "cell_type": "code",
      "execution_count": 3,
      "metadata": {
        "id": "c4GHHpca71xz"
      },
      "outputs": [],
      "source": [
        "import os\n",
        "import pandas as pd\n",
        "from matplotlib import pyplot as plt\n",
        "import numpy as np\n",
        "import cv2"
      ]
    },
    {
      "cell_type": "code",
      "source": [
        "def stack_snake(img_arr,row_n,col_n=None):\n",
        "    img_arr=np.array(img_arr)\n",
        "    if col_n is None: col_n=row_n\n",
        "    X = np.arange(row_n*col_n).reshape(row_n,col_n)\n",
        "    for r in np.arange(1,row_n,2):\n",
        "        X[r,:] = X[r,::-1]\n",
        "\n",
        "    cat_rows = [np.concatenate(img_arr[X[r,:]],axis=1) for r  in range(row_n)]\n",
        "    concat = np.concatenate(cat_rows,axis=0)\n",
        "    return concat\n",
        "\n",
        "def plot_img_grid( images , r,c=None):\n",
        "    plt.imshow(stack_snake(images,row_n=r,col_n=c))"
      ],
      "metadata": {
        "id": "1UgcaOfzojC_"
      },
      "execution_count": 4,
      "outputs": []
    },
    {
      "cell_type": "code",
      "source": [
        "image_set_dir = \"C:\\\\Users\\\\dennis.tabuena\\\\Dropbox (Gladstone)\\\\0_Projects\\\\_Hyper+Crisper\\\\Morphological_Analysis\\\\TestNeuron1\\\\\"\n",
        "image_set_prefix = 'Test_Neuron1'\n",
        "\n",
        "os.chdir(image_set_dir)\n",
        "\n",
        "tif_list=list()\n",
        "for dir,root,files in os.walk(image_set_dir):\n",
        "    for f in files:\n",
        "        if 'CH4.tif' in f:\n",
        "            tif_list.append(os.path.join(dir,f))\n"
      ],
      "metadata": {
        "id": "zyjzHKiA8T13"
      },
      "execution_count": 5,
      "outputs": []
    },
    {
      "cell_type": "code",
      "source": [
        "pd_dict = {'file_loc': [t for t in tif_list],\n",
        "           'xy': [t.split(\"_\")[-3] for t in tif_list],\n",
        "           'z': [t.split(\"_\")[-2] for t in tif_list]}\n",
        "image_df = pd.DataFrame(pd_dict)\n",
        "\n",
        "display(image_df)\n",
        "z_planes = sorted(list(set(image_df['z'])))\n"
      ],
      "metadata": {
        "id": "Oz5C4A_j8TtB",
        "colab": {
          "base_uri": "https://localhost:8080/",
          "height": 424
        },
        "outputId": "93bbd4c4-4aa1-4a6a-fe12-53ce5fadf5c0"
      },
      "execution_count": 6,
      "outputs": [
        {
          "output_type": "display_data",
          "data": {
            "text/plain": [
              "                                               file_loc     xy     z\n",
              "0     C:\\Users\\dennis.tabuena\\Dropbox (Gladstone)\\0_...  00001  Z001\n",
              "1     C:\\Users\\dennis.tabuena\\Dropbox (Gladstone)\\0_...  00001  Z002\n",
              "2     C:\\Users\\dennis.tabuena\\Dropbox (Gladstone)\\0_...  00001  Z003\n",
              "3     C:\\Users\\dennis.tabuena\\Dropbox (Gladstone)\\0_...  00001  Z004\n",
              "4     C:\\Users\\dennis.tabuena\\Dropbox (Gladstone)\\0_...  00001  Z005\n",
              "...                                                 ...    ...   ...\n",
              "2845  C:\\Users\\dennis.tabuena\\Dropbox (Gladstone)\\0_...  00025  Z110\n",
              "2846  C:\\Users\\dennis.tabuena\\Dropbox (Gladstone)\\0_...  00025  Z111\n",
              "2847  C:\\Users\\dennis.tabuena\\Dropbox (Gladstone)\\0_...  00025  Z112\n",
              "2848  C:\\Users\\dennis.tabuena\\Dropbox (Gladstone)\\0_...  00025  Z113\n",
              "2849  C:\\Users\\dennis.tabuena\\Dropbox (Gladstone)\\0_...  00025  Z114\n",
              "\n",
              "[2850 rows x 3 columns]"
            ],
            "text/html": [
              "<div>\n",
              "<style scoped>\n",
              "    .dataframe tbody tr th:only-of-type {\n",
              "        vertical-align: middle;\n",
              "    }\n",
              "\n",
              "    .dataframe tbody tr th {\n",
              "        vertical-align: top;\n",
              "    }\n",
              "\n",
              "    .dataframe thead th {\n",
              "        text-align: right;\n",
              "    }\n",
              "</style>\n",
              "<table border=\"1\" class=\"dataframe\">\n",
              "  <thead>\n",
              "    <tr style=\"text-align: right;\">\n",
              "      <th></th>\n",
              "      <th>file_loc</th>\n",
              "      <th>xy</th>\n",
              "      <th>z</th>\n",
              "    </tr>\n",
              "  </thead>\n",
              "  <tbody>\n",
              "    <tr>\n",
              "      <th>0</th>\n",
              "      <td>C:\\Users\\dennis.tabuena\\Dropbox (Gladstone)\\0_...</td>\n",
              "      <td>00001</td>\n",
              "      <td>Z001</td>\n",
              "    </tr>\n",
              "    <tr>\n",
              "      <th>1</th>\n",
              "      <td>C:\\Users\\dennis.tabuena\\Dropbox (Gladstone)\\0_...</td>\n",
              "      <td>00001</td>\n",
              "      <td>Z002</td>\n",
              "    </tr>\n",
              "    <tr>\n",
              "      <th>2</th>\n",
              "      <td>C:\\Users\\dennis.tabuena\\Dropbox (Gladstone)\\0_...</td>\n",
              "      <td>00001</td>\n",
              "      <td>Z003</td>\n",
              "    </tr>\n",
              "    <tr>\n",
              "      <th>3</th>\n",
              "      <td>C:\\Users\\dennis.tabuena\\Dropbox (Gladstone)\\0_...</td>\n",
              "      <td>00001</td>\n",
              "      <td>Z004</td>\n",
              "    </tr>\n",
              "    <tr>\n",
              "      <th>4</th>\n",
              "      <td>C:\\Users\\dennis.tabuena\\Dropbox (Gladstone)\\0_...</td>\n",
              "      <td>00001</td>\n",
              "      <td>Z005</td>\n",
              "    </tr>\n",
              "    <tr>\n",
              "      <th>...</th>\n",
              "      <td>...</td>\n",
              "      <td>...</td>\n",
              "      <td>...</td>\n",
              "    </tr>\n",
              "    <tr>\n",
              "      <th>2845</th>\n",
              "      <td>C:\\Users\\dennis.tabuena\\Dropbox (Gladstone)\\0_...</td>\n",
              "      <td>00025</td>\n",
              "      <td>Z110</td>\n",
              "    </tr>\n",
              "    <tr>\n",
              "      <th>2846</th>\n",
              "      <td>C:\\Users\\dennis.tabuena\\Dropbox (Gladstone)\\0_...</td>\n",
              "      <td>00025</td>\n",
              "      <td>Z111</td>\n",
              "    </tr>\n",
              "    <tr>\n",
              "      <th>2847</th>\n",
              "      <td>C:\\Users\\dennis.tabuena\\Dropbox (Gladstone)\\0_...</td>\n",
              "      <td>00025</td>\n",
              "      <td>Z112</td>\n",
              "    </tr>\n",
              "    <tr>\n",
              "      <th>2848</th>\n",
              "      <td>C:\\Users\\dennis.tabuena\\Dropbox (Gladstone)\\0_...</td>\n",
              "      <td>00025</td>\n",
              "      <td>Z113</td>\n",
              "    </tr>\n",
              "    <tr>\n",
              "      <th>2849</th>\n",
              "      <td>C:\\Users\\dennis.tabuena\\Dropbox (Gladstone)\\0_...</td>\n",
              "      <td>00025</td>\n",
              "      <td>Z114</td>\n",
              "    </tr>\n",
              "  </tbody>\n",
              "</table>\n",
              "<p>2850 rows × 3 columns</p>\n",
              "</div>"
            ]
          },
          "metadata": {}
        }
      ]
    },
    {
      "cell_type": "code",
      "source": [
        "!pip install stitching\n",
        "from stitching import Stitcher\n"
      ],
      "metadata": {
        "colab": {
          "base_uri": "https://localhost:8080/"
        },
        "id": "dgk2MAH27ReJ",
        "outputId": "97a278e8-8f25-422c-b146-17aa0bcc7b11"
      },
      "execution_count": 7,
      "outputs": [
        {
          "output_type": "stream",
          "name": "stdout",
          "text": [
            "Requirement already satisfied: stitching in c:\\users\\dennis.tabuena\\appdata\\local\\anaconda3\\lib\\site-packages (0.5.3)\n",
            "Requirement already satisfied: opencv-python>=4.0.1 in c:\\users\\dennis.tabuena\\appdata\\local\\anaconda3\\lib\\site-packages (from stitching) (4.9.0.80)\n",
            "Requirement already satisfied: largestinteriorrectangle in c:\\users\\dennis.tabuena\\appdata\\local\\anaconda3\\lib\\site-packages (from stitching) (0.2.0)\n",
            "Requirement already satisfied: numpy>=1.21.2 in c:\\users\\dennis.tabuena\\appdata\\local\\anaconda3\\lib\\site-packages (from opencv-python>=4.0.1->stitching) (1.24.3)\n",
            "Requirement already satisfied: numba in c:\\users\\dennis.tabuena\\appdata\\local\\anaconda3\\lib\\site-packages (from largestinteriorrectangle->stitching) (0.57.1)\n",
            "Requirement already satisfied: llvmlite<0.41,>=0.40.0dev0 in c:\\users\\dennis.tabuena\\appdata\\local\\anaconda3\\lib\\site-packages (from numba->largestinteriorrectangle->stitching) (0.40.0)\n"
          ]
        }
      ]
    },
    {
      "cell_type": "code",
      "source": [
        "# z_planes = sorted(list(set(image_df['z'])))\n",
        "# print(z_planes)\n",
        "\n",
        "# for cur_z in [z_planes[15]]:\n",
        "#     single_plane_images = image_df['file_loc'][[cur_z in z for z in image_df['z']]].values\n",
        "# image_data_list = list()\n",
        "# for path in single_plane_images:\n",
        "#     image_data =cv2.imread(path)\n",
        "#     image_data_list.append(image_data)\n",
        "# order = np.array(list(range(0,5,1)) + list(range(9,4,-1)) + list(range(10,15,1)) + list(range(19,14,-1)) + list(range(20,25,1)))\n",
        "# image_data_list_sorted = [image_data_list[o] for o in order]\n",
        "\n",
        "# fig,ax=plt.subplots(5,5)\n",
        "# ax = ax.flatten()\n",
        "# for i,f in enumerate(image_data_list_sorted):\n",
        "#     ax[i].imshow(f)\n",
        "\n",
        "\n",
        "# subset = image_data_list"
      ],
      "metadata": {
        "id": "T9_SCMkjBkKS"
      },
      "execution_count": 8,
      "outputs": []
    },
    {
      "cell_type": "code",
      "source": [
        "# from stitching.images import Images\n",
        "# paths = single_plane_images\n",
        "# images = Images.of(paths)"
      ],
      "metadata": {
        "id": "gbY9I7HmwoVT"
      },
      "execution_count": 9,
      "outputs": []
    },
    {
      "cell_type": "code",
      "source": [],
      "metadata": {
        "id": "oSm0fKvtxKjn"
      },
      "execution_count": 9,
      "outputs": []
    },
    {
      "cell_type": "code",
      "source": [],
      "metadata": {
        "id": "A9FQiNQQu3Bi"
      },
      "execution_count": 9,
      "outputs": []
    },
    {
      "cell_type": "code",
      "source": [
        "# def plus_mask(img,n=.35,rs=None):\n",
        "#     if rs is None:\n",
        "#         rs = img.shape[:2]\n",
        "#     mask = np.ones_like(img[:,:,0])\n",
        "#     m_shape = np.shape(mask)\n",
        "#     mask[int(m_shape[0]*n):int(m_shape[0]*(1-n)),:] = 0\n",
        "#     mask[:,int(m_shape[1]*n):int(m_shape[1]*(1-n))] = 0\n",
        "#     # mask[int(m_shape[0]*n):int(m_shape[0]*(1-n)),int(m_shape[1]*n):int(m_shape[1]*(1-n))] = 0\n",
        "#     mask = cv2.resize(mask, (rs[1],rs[0]))\n",
        "#     return mask.astype(int)\n",
        "\n",
        "# fig,ax=plt.subplots(1,figsize=(1,1))\n",
        "# plt.imshow(plus_mask(img,n=.35))"
      ],
      "metadata": {
        "id": "MiyXdLvaZ8d9"
      },
      "execution_count": 10,
      "outputs": []
    },
    {
      "cell_type": "code",
      "source": [],
      "metadata": {
        "id": "E4IAvekZAOGW"
      },
      "execution_count": 10,
      "outputs": []
    },
    {
      "cell_type": "code",
      "source": [
        "# [:-1]\n",
        "# len(subset)\n",
        "# single_plane_images = single_plane_images[:-1]\n",
        "# len(subset)"
      ],
      "metadata": {
        "id": "qaWDolNArbEW"
      },
      "execution_count": 11,
      "outputs": []
    },
    {
      "cell_type": "code",
      "source": [
        "# from stitching.images import Images\n",
        "# img = Images.of(subset, medium_megapix=0.96, low_megapix=0.1, final_megapix=-1)\n",
        "# medium_imgs = list(img.resize(Images.Resolution.MEDIUM))\n",
        "# subset = medium_imgs\n",
        "\n",
        "# from stitching.feature_detector import FeatureDetector\n",
        "# finder = FeatureDetector(detector='sift', nfeatures=500)\n",
        "\n",
        "# features = [finder.detect_features(img, plus_mask(img,n=.35) ) for img in subset]\n",
        "\n",
        "# from stitching.feature_matcher import FeatureMatcher\n",
        "# matcher = FeatureMatcher()\n",
        "# matches = matcher.match_features(features)\n",
        "# matcher.get_confidence_matrix(matches)\n",
        "# conf_mat = matcher.get_confidence_matrix(matches)\n",
        "\n",
        "# fig,ax=plt.subplots(5,5,figsize=(8,8))\n",
        "# ax = ax.flatten()\n",
        "# for i,(img,feat) in enumerate(zip(subset,features)):\n",
        "#     img_h = img.copy()\n",
        "#     img_h[:,:,2] = plus_mask(img,n=.35)*255\n",
        "#     ax[order[i]].imshow(img_h)\n",
        "#     ax[order[i]].set_xticks([])\n",
        "#     ax[order[i]].set_yticks([])\n",
        "#     for k in feat.keypoints:\n",
        "#         ax[order[i]].scatter(k.pt[0],k.pt[1],s=1,color='m')\n",
        "#         ax[order[i]].set_title(i)\n",
        "\n",
        "\n",
        "# conf_mat = matcher.get_confidence_matrix(matches)\n",
        "# conf_mat[conf_mat==0]=np.nan\n",
        "# fig,ax=plt.subplots(1,figsize=(5,5))\n",
        "# cb=ax.imshow(conf_mat)\n",
        "# plt.colorbar(cb)\n",
        "# ax.grid('on')\n",
        "# np.nanmin(conf_mat,1)\n",
        "\n",
        "# from stitching.subsetter import Subsetter\n",
        "# subsetter = Subsetter()\n",
        "# dot_notation = subsetter.get_matches_graph([str(i) for i in range(25)], matches)\n",
        "# print(dot_notation)\n",
        "\n"
      ],
      "metadata": {
        "id": "foe__wHoQ8WP"
      },
      "execution_count": 12,
      "outputs": []
    },
    {
      "cell_type": "code",
      "source": [
        "\n",
        "# fig,ax=plt.subplots(5,5,figsize=(8,8))\n",
        "# ax = ax.flatten()\n",
        "# for i,img in enumerate(warped_final_imgs):\n",
        "#     ax[order[i]].imshow(img)\n",
        "#     ax[order[i]].set_xticks([])\n",
        "#     ax[order[i]].set_yticks([])\n",
        "#     ax[order[i]].set_title(i)"
      ],
      "metadata": {
        "id": "fNcvNdyZ0xvu"
      },
      "execution_count": 13,
      "outputs": []
    },
    {
      "cell_type": "code",
      "source": [
        "# def plot_image(img, figsize_in_inches=(5,5)):\n",
        "#     fig, ax = plt.subplots(figsize=figsize_in_inches)\n",
        "#     ax.imshow(cv2.cvtColor(img, cv2.COLOR_BGR2RGB))\n",
        "#     plt.show()\n",
        "\n",
        "# def plot_images(imgs, figsize_in_inches=(5,5)):\n",
        "#     fig, axs = plt.subplots(1, len(imgs), figsize=figsize_in_inches)\n",
        "#     for col, img in enumerate(imgs):\n",
        "#         axs[col].imshow(cv2.cvtColor(img, cv2.COLOR_BGR2RGB))\n",
        "#     plt.show()"
      ],
      "metadata": {
        "id": "KOOqXLcu2thc"
      },
      "execution_count": 14,
      "outputs": []
    },
    {
      "cell_type": "code",
      "source": [
        "########################################## AFFINE ####################################################"
      ],
      "metadata": {
        "id": "KLDxwdsftYCb"
      },
      "execution_count": 15,
      "outputs": []
    },
    {
      "cell_type": "code",
      "source": [
        "# from stitching import AffineStitcher\n",
        "# orig_mega_pix = .720\n",
        "# settings = { \"confidence_threshold\": 1.2,\"low_megapix\":.7,'medium_megapix':.7}\n",
        "\n",
        "# aff_stitcher = AffineStitcher(**settings)\n",
        "\n",
        "# panorama = aff_stitcher.stitch(subset)"
      ],
      "metadata": {
        "id": "n9yMHT6BYsjD"
      },
      "execution_count": 16,
      "outputs": []
    },
    {
      "cell_type": "code",
      "source": [],
      "metadata": {
        "id": "ATKmYFF6apvH"
      },
      "execution_count": 16,
      "outputs": []
    },
    {
      "cell_type": "code",
      "source": [
        "\n",
        "# panorama = aff_stitcher.stitch(subset)\n",
        "\n",
        "# images = Images.of(list(single_plane_images))\n",
        "# medium_imgs = list(images.resize(Images.Resolution.FINAL))\n",
        "# low_imgs = list(images.resize(Images.Resolution.MEDIUM))\n",
        "# final_imgs = list(images.resize(Images.Resolution.FINAL))\n",
        "\n",
        "\n",
        "# final_imgs\n"
      ],
      "metadata": {
        "id": "AD6S0Mku4Vu6"
      },
      "execution_count": 17,
      "outputs": []
    },
    {
      "cell_type": "code",
      "source": [
        "# features = aff_stitcher.find_features(subset)\n",
        "\n",
        "\n",
        "# fig,ax=plt.subplots(5,5,figsize=(8,8))\n",
        "# ax = ax.flatten()\n",
        "# for i,(img,feat) in enumerate(zip(subset,features)):\n",
        "#     img_h = img.copy()\n",
        "#     # img_h[:,:,2] = plus_mask(img,n=.35)*255\n",
        "#     ax[order[i]].imshow(img_h)\n",
        "#     ax[order[i]].set_xticks([])\n",
        "#     ax[order[i]].set_yticks([])\n",
        "#     for k in feat.keypoints:\n",
        "#         ax[order[i]].scatter(k.pt[0],k.pt[1],s=1,color='m')\n",
        "#         ax[order[i]].set_title(i)\n",
        "\n",
        "# matches = aff_stitcher.match_features(features)\n",
        "# conf_mat = aff_stitcher.matcher.get_confidence_matrix(matches)\n",
        "# conf_mat[conf_mat==0]=np.nan\n",
        "# fig,ax=plt.subplots(1,figsize=(5,5))\n",
        "# cb=ax.imshow(conf_mat,vmin=0.5)\n",
        "# plt.colorbar(cb)\n",
        "# ax.grid('on')\n",
        "# np.nanmax(conf_mat,1)\n",
        "\n",
        "\n"
      ],
      "metadata": {
        "id": "LmPYeda263ub"
      },
      "execution_count": null,
      "outputs": []
    },
    {
      "cell_type": "code",
      "source": [],
      "metadata": {
        "id": "_vvM4fZHF1Ke"
      },
      "execution_count": null,
      "outputs": []
    },
    {
      "cell_type": "code",
      "source": [
        "# cameras = aff_stitcher.camera_estimator.estimate(features, matches)\n",
        "# cameras = aff_stitcher.camera_adjuster.adjust(features, matches, cameras)\n",
        "# cameras = aff_stitcher.wave_corrector.correct(cameras)"
      ],
      "metadata": {
        "id": "l2ZZg_aCnx64"
      },
      "execution_count": null,
      "outputs": []
    },
    {
      "cell_type": "code",
      "source": [
        "\n",
        "# # aff_stitcher.warper.set_scale(cameras)\n",
        "\n",
        "# # low_sizes = images.get_scaled_img_sizes(Images.Resolution.FINAL)\n",
        "# # camera_aspect = images.get_ratio(Images.Resolution.FINAL, Images.Resolution.FINAL)  # since cameras were obtained on medium imgs\n",
        "\n",
        "# # warped_low_imgs = list(aff_stitcher.warper.warp_images(low_imgs, cameras, camera_aspect))\n",
        "# # warped_low_masks = list(aff_stitcher.warper.create_and_warp_masks(low_sizes, cameras, camera_aspect))\n",
        "# # low_corners, low_sizes = aff_stitcher.warper.warp_rois(low_sizes, cameras, camera_aspect)\n",
        "\n",
        "\n",
        "# final_sizes = images.get_scaled_img_sizes(Images.Resolution.FINAL)\n",
        "# camera_aspect = images.get_ratio(Images.Resolution.FINAL, Images.Resolution.FINAL)\n",
        "\n",
        "# warped_final_imgs = list(aff_stitcher.warper.warp_images(final_imgs, cameras, camera_aspect))\n",
        "# warped_final_masks = list(aff_stitcher.warper.create_and_warp_masks(final_sizes, cameras, camera_aspect))\n",
        "# final_corners, final_sizes = aff_stitcher.warper.warp_rois(final_sizes, cameras, camera_aspect)\n",
        "\n",
        "\n",
        "# fig,ax=plt.subplots(5,5,figsize=(8,8))\n",
        "# ax = ax.flatten()\n",
        "# for i,img in enumerate(warped_final_imgs):\n",
        "#     ax[order[i]].imshow(img)\n",
        "#     # ax[order[i]].set_xticks([])\n",
        "#     # ax[order[i]].set_yticks([])\n",
        "#     ax[order[i]].set_title(i)"
      ],
      "metadata": {
        "id": "w9S_Ql1Wn1S8"
      },
      "execution_count": null,
      "outputs": []
    },
    {
      "cell_type": "code",
      "source": [
        "# cropper = aff_stitcher.cropper\n",
        "# mask = cropper.estimate_panorama_mask(warped_low_imgs, warped_low_masks, low_corners, low_sizes)\n",
        "# plot_image(mask, (2,2))\n",
        "# lir = cropper.estimate_largest_interior_rectangle(mask)\n",
        "\n",
        "# plot = lir.draw_on(mask, size=2)\n",
        "# # plot_image(plot, (2,2))\n",
        "\n",
        "# low_corners = cropper.get_zero_center_corners(low_corners)\n",
        "# rectangles = cropper.get_rectangles(low_corners, low_sizes)\n",
        "# plot = rectangles[1].draw_on(plot, (0, 255, 0), 2)  # The rectangle of the center img\n",
        "# plot_image(plot, (2,2))\n",
        "# overlap = cropper.get_overlap(rectangles[1], lir)\n",
        "# plot = overlap.draw_on(plot, (255, 0, 0), 2)\n",
        "# # plot_image(plot, (5,5))\n",
        "\n",
        "\n",
        "# cropper.prepare(warped_low_imgs, warped_low_masks, low_corners, low_sizes)\n",
        "\n",
        "# cropped_low_masks = list(cropper.crop_images(warped_low_masks))\n",
        "# cropped_low_imgs = list(cropper.crop_images(warped_low_imgs))\n",
        "# low_corners, low_sizes = cropper.crop_rois(low_corners, low_sizes)\n",
        "\n",
        "# lir_aspect = images.get_ratio(Images.Resolution.FINAL, Images.Resolution.FINAL)  # since lir was obtained on low imgs\n",
        "# cropped_final_masks = list(cropper.crop_images(warped_final_masks, lir_aspect))\n",
        "# cropped_final_imgs = list(cropper.crop_images(warped_final_imgs, lir_aspect))\n",
        "# final_corners, final_sizes = cropper.crop_rois(final_corners, final_sizes, lir_aspect)"
      ],
      "metadata": {
        "id": "GDg20w821SVh"
      },
      "execution_count": 81,
      "outputs": []
    },
    {
      "cell_type": "code",
      "source": [
        "# seam_finder = aff_stitcher.seam_finder\n",
        "\n",
        "# seam_masks = seam_finder.find(cropped_low_imgs, low_corners, cropped_low_masks)\n",
        "# seam_masks = [seam_finder.resize(seam_mask, mask) for seam_mask, mask in zip(seam_masks, cropped_final_masks)]\n",
        "\n",
        "# seam_masks_plots = [SeamFinder.draw_seam_mask(img, seam_mask) for img, seam_mask in zip(cropped_final_imgs, seam_masks)]\n"
      ],
      "metadata": {
        "id": "8H2XEeTj_XwW"
      },
      "execution_count": null,
      "outputs": []
    },
    {
      "cell_type": "code",
      "source": [
        "# compensator = aff_stitcher.compensator\n",
        "\n",
        "# compensator.feed(low_corners, cropped_low_imgs, cropped_low_masks)\n",
        "\n",
        "# compensated_imgs = [compensator.apply(idx, corner, img, mask)\n",
        "#                     for idx, (img, mask, corner)\n",
        "#                     in enumerate(zip(cropped_final_imgs, cropped_final_masks, final_corners))]"
      ],
      "metadata": {
        "id": "ODaKPg3nAUYQ"
      },
      "execution_count": null,
      "outputs": []
    },
    {
      "cell_type": "code",
      "source": [],
      "metadata": {
        "id": "vTVqj1gFYCVx"
      },
      "execution_count": null,
      "outputs": []
    },
    {
      "cell_type": "code",
      "source": [
        "\n",
        "\n",
        "# blender = aff_stitcher.blender\n",
        "# blender.prepare(final_corners, final_sizes)`\n",
        "# for img, mask, corner in zip(compensated_imgs, seam_masks, final_corners):\n",
        "#     blender.feed(img, mask, corner)\n",
        "# panorama, _ = blender.blend()\n",
        "\n",
        "\n",
        "# dm = 12\n",
        "# fig,ax=plt.subplots(1,2,figsize=(2*dm,dm*.75))\n",
        "# ax[0].imshow(panorama)\n",
        "# ax[1].imshow(stack_snake(subset,row_n=5))\n",
        "\n",
        "\n"
      ],
      "metadata": {
        "id": "fNaRUoa6-53O"
      },
      "execution_count": null,
      "outputs": []
    },
    {
      "cell_type": "code",
      "source": [
        "def aff_stitch_og_size(my_images,img_paths,r,c=None,order=None):\n",
        "    results = {}\n",
        "    results['stitched'] = np.ones([3,3])\n",
        "\n",
        "    from stitching.images import Images\n",
        "    from stitching import AffineStitcher\n",
        "\n",
        "\n",
        "    images = Images.of(list(img_paths))\n",
        "    medium_imgs = list(images.resize(Images.Resolution.FINAL))\n",
        "    low_imgs = list(images.resize(Images.Resolution.FINAL))\n",
        "    final_imgs = list(images.resize(Images.Resolution.FINAL))\n",
        "\n",
        "\n",
        "    \"\"\" INIT Stitcher \"\"\"\n",
        "    settings = { \"confidence_threshold\": 1.2}\n",
        "    aff_stitcher = AffineStitcher(**settings)\n",
        "\n",
        "\n",
        "    \"\"\" Feature Detection \"\"\"\n",
        "    features = aff_stitcher.find_features(my_images)\n",
        "    results['features']=features\n",
        "    num_feats = [len(f.keypoints) for f in results['features']]\n",
        "    fewest_points = np.min(num_feats)\n",
        "    results['fewest_points']=fewest_points\n",
        "    if fewest_points < 25:\n",
        "        return results\n",
        "    ##\n",
        "    # fig,ax=plt.subplots(5,5,figsize=(3,3))\n",
        "    # ax = ax.flatten()\n",
        "    # for i,(img,feat) in enumerate(zip(my_images,features)):\n",
        "    #     img_h = img.copy()\n",
        "    #     # img_h[:,:,2] = plus_mask(img,n=.35)*255\n",
        "    #     ax[order[i]].imshow(img_h)\n",
        "    #     ax[order[i]].set_xticks([])\n",
        "    #     ax[order[i]].set_yticks([])\n",
        "    #     for k in feat.keypoints:\n",
        "    #         ax[order[i]].scatter(k.pt[0],k.pt[1],s=1,color='m')\n",
        "    #         ax[order[i]].set_title(i)\n",
        "    # plt.show()\n",
        "\n",
        "    \"\"\" Matching \"\"\"\n",
        "    matches = aff_stitcher.match_features(features)\n",
        "    results['matches']=matches\n",
        "    conf_mat = aff_stitcher.matcher.get_confidence_matrix(matches)\n",
        "    conf_mat[conf_mat==0]=np.nan\n",
        "    indicies = aff_stitcher.subsetter.get_indices_to_keep(features,matches)\n",
        "    dot_notation = aff_stitcher.subsetter.get_matches_graph([str(i) for i in range(25)], matches)\n",
        "    ##\n",
        "    # fig,ax=plt.subplots(1,figsize=(5,5))\n",
        "    # cb=ax.imshow(conf_mat,vmin=0.5)\n",
        "    # plt.colorbar(cb)\n",
        "    # ax.grid('on')\n",
        "    # np.nanmax(conf_mat,1)\n",
        "\n",
        "    \"\"\" Solve Warp \"\"\"\n",
        "    cameras = aff_stitcher.camera_estimator.estimate(features, matches)\n",
        "    cameras = aff_stitcher.camera_adjuster.adjust(features, matches, cameras)\n",
        "    cameras = aff_stitcher.wave_corrector.correct(cameras)\n",
        "    aff_stitcher.warper.set_scale(cameras)\n",
        "    results['cameras']=cameras\n",
        "\n",
        "    final_sizes = images.get_scaled_img_sizes(Images.Resolution.FINAL)\n",
        "    camera_aspect = images.get_ratio(Images.Resolution.FINAL, Images.Resolution.FINAL)\n",
        "\n",
        "    warped_final_imgs = list(aff_stitcher.warper.warp_images(final_imgs, cameras, camera_aspect))\n",
        "    warped_final_masks = list(aff_stitcher.warper.create_and_warp_masks(final_sizes, cameras, camera_aspect))\n",
        "    final_corners, final_sizes = aff_stitcher.warper.warp_rois(final_sizes, cameras, camera_aspect)\n",
        "    ##\n",
        "    # fig,ax=plt.subplots(5,5,figsize=(8,8))\n",
        "    # ax = ax.flatten()\n",
        "    # for i,img in enumerate(warped_final_imgs):\n",
        "    #     ax[order[i]].imshow(img)\n",
        "    #     # ax[order[i]].set_xticks([])\n",
        "    #     # ax[order[i]].set_yticks([])\n",
        "    #     ax[order[i]].set_title(i)\n",
        "\n",
        "\n",
        "    # \"\"\" Cropping \"\"\"\n",
        "    cropped_final_imgs = warped_final_imgs\n",
        "    cropped_final_masks = warped_final_masks\n",
        "    # , final_corners, final_sizes\n",
        "\n",
        "    # cropper = aff_stitcher.cropper\n",
        "    # mask = cropper.estimate_panorama_mask(warped_final_imgs, warped_final_masks, final_corners, final_sizes)\n",
        "    # lir = cropper.estimate_largest_interior_rectangle(mask)\n",
        "\n",
        "\n",
        "    # final_corners = cropper.get_zero_center_corners(final_corners)\n",
        "    # rectangles = cropper.get_rectangles(final_corners, final_sizes)\n",
        "    # overlap = cropper.get_overlap(rectangles[1], lir)\n",
        "    # intersection = cropper.get_intersection(rectangles[1], overlap)\n",
        "\n",
        "    # cropper.prepare(warped_final_imgs, warped_final_masks, final_corners, final_sizes)\n",
        "\n",
        "    # lir_aspect = images.get_ratio(Images.Resolution.FINAL, Images.Resolution.FINAL)  # since lir was obtained on low imgs\n",
        "    # cropped_final_masks = list(cropper.crop_images(warped_final_masks, lir_aspect))\n",
        "    # cropped_final_imgs = list(cropper.crop_images(warped_final_imgs, lir_aspect))\n",
        "    # final_corners, final_sizes = cropper.crop_rois(final_corners, final_sizes, lir_aspect)\n",
        "\n",
        "    \"\"\" Seams \"\"\"\n",
        "    seam_finder = aff_stitcher.seam_finder\n",
        "    seam_masks = seam_finder.find(cropped_final_imgs, final_corners, cropped_final_masks)\n",
        "    seam_masks_plots = [seam_finder.draw_seam_mask(img, seam_mask) for img, seam_mask in zip(cropped_final_imgs, seam_masks)]\n",
        "\n",
        "    \"\"\" Exposure Comp \"\"\"\n",
        "    compensator = aff_stitcher.compensator\n",
        "    compensator.feed(final_corners, cropped_final_imgs, cropped_final_masks)\n",
        "    compensated_imgs = [compensator.apply(idx, corner, img, mask)\n",
        "                        for idx, (img, mask, corner)\n",
        "                        in enumerate(zip(cropped_final_imgs, cropped_final_masks, final_corners))]\n",
        "\n",
        "    \"\"\" Blend \"\"\"\n",
        "    blender = aff_stitcher.blender\n",
        "    blender.prepare(final_corners, final_sizes)\n",
        "    for img, mask, corner in zip(compensated_imgs, seam_masks, final_corners):\n",
        "        blender.feed(img, mask, corner)\n",
        "    stitched, _ = blender.blend()\n",
        "    results['stitched']=stitched\n",
        "    return results\n",
        "\n",
        "\n",
        "results= aff_stitch_og_size(z_plane_image_data,z_plane_image_paths,r=5,order=order)\n",
        "plt.imshow(results['stitched'])"
      ],
      "metadata": {
        "id": "WV2GKGdpoaUz",
        "colab": {
          "base_uri": "https://localhost:8080/",
          "height": 452
        },
        "outputId": "0eedd2f9-c3b8-47fd-b18b-1a77e4fcbe63"
      },
      "execution_count": 116,
      "outputs": [
        {
          "output_type": "execute_result",
          "data": {
            "text/plain": [
              "<matplotlib.image.AxesImage at 0x1ac0e0f9d10>"
            ]
          },
          "metadata": {},
          "execution_count": 116
        },
        {
          "output_type": "display_data",
          "data": {
            "text/plain": [
              "<Figure size 640x480 with 1 Axes>"
            ],
            "image/png": "[encoded data removed]"
          },
          "metadata": {}
        }
      ]
    },
    {
      "cell_type": "code",
      "source": [
        "from tqdm import tqdm"
      ],
      "metadata": {
        "id": "2EUdwhWGzcva"
      },
      "execution_count": 21,
      "outputs": []
    },
    {
      "cell_type": "code",
      "source": [
        "results_dict={}\n",
        "order = np.array(list(range(0,5,1)) + list(range(9,4,-1)) + list(range(10,15,1)) + list(range(19,14,-1)) + list(range(20,25,1)))\n",
        "# fig,ax = plt.subplots(1,figsize=(3,3))\n",
        "for cur_z in tqdm(z_planes[:25] ):\n",
        "    # try:\n",
        "    z_plane_image_paths = image_df['file_loc'][[cur_z in z for z in image_df['z']]].values\n",
        "    z_plane_image_data = [cv2.imread(path)  for path in z_plane_image_paths]\n",
        "    results= aff_stitch_og_size(z_plane_image_data,z_plane_image_paths,r=5,order=order)\n",
        "    results_dict[str(cur_z)] = results\n",
        "    # except:\n",
        "    #     print('\\nFailed')\n",
        "    #     z_cams = list()\n",
        "    #     stitched_plane = np.zeros((5,5))\n",
        "\n",
        "    # ax.imshow(stitched_plane)\n",
        "    # plt.show()\n",
        "    # stich_list.append(results['stitched'])\n",
        "    # cam_list.append(results['cameras'])\n"
      ],
      "metadata": {
        "id": "KSDUNFF6yanO",
        "colab": {
          "base_uri": "https://localhost:8080/"
        },
        "outputId": "0c7acf31-7d45-43dc-85a3-ad548cc6542d"
      },
      "execution_count": null,
      "outputs": [
        {
          "output_type": "stream",
          "name": "stderr",
          "text": [
            " 72%|███████████████████████████████████████████████████████████                       | 18/25 [00:35<00:31,  4.43s/it]"
          ]
        }
      ]
    },
    {
      "cell_type": "code",
      "source": [
        "\n",
        "for k,v in results_dict.items():\n",
        "    fig,ax = plt.subplots(1,figsize=(3,3))\n",
        "    ax.imshow(v['stitched'])\n"
      ],
      "metadata": {
        "id": "lyw2IMu-HlUJ",
        "outputId": "e505d5c4-231b-4f1d-b051-984220642d7b",
        "colab": {
          "base_uri": "https://localhost:8080/",
          "height": 1000
        }
      },
      "execution_count": 120,
      "outputs": [
        {
          "output_type": "display_data",
          "data": {
            "text/plain": [
              "<Figure size 300x300 with 1 Axes>"
            ],
            "image/png": "[encoded data removed]"
          },
          "metadata": {}
        },
        {
          "output_type": "display_data",
          "data": {
            "text/plain": [
              "<Figure size 300x300 with 1 Axes>"
            ],
            "image/png": "[encoded data removed]"
          },
          "metadata": {}
        },
        {
          "output_type": "display_data",
          "data": {
            "text/plain": [
              "<Figure size 300x300 with 1 Axes>"
            ],
            "image/png": "[encoded data removed]"
          },
          "metadata": {}
        },
        {
          "output_type": "display_data",
          "data": {
            "text/plain": [
              "<Figure size 300x300 with 1 Axes>"
            ],
            "image/png": "[encoded data removed]"
          },
          "metadata": {}
        },
        {
          "output_type": "display_data",
          "data": {
            "text/plain": [
              "<Figure size 300x300 with 1 Axes>"
            ],
            "image/png": "[encoded data removed]"
          },
          "metadata": {}
        },
        {
          "output_type": "display_data",
          "data": {
            "text/plain": [
              "<Figure size 300x300 with 1 Axes>"
            ],
            "image/png": "[encoded data removed]"
          },
          "metadata": {}
        },
        {
          "output_type": "display_data",
          "data": {
            "text/plain": [
              "<Figure size 300x300 with 1 Axes>"
            ],
            "image/png": "[encoded data removed]"
          },
          "metadata": {}
        },
        {
          "output_type": "display_data",
          "data": {
            "text/plain": [
              "<Figure size 300x300 with 1 Axes>"
            ],
            "image/png": "[encoded data removed]"
          },
          "metadata": {}
        },
        {
          "output_type": "display_data",
          "data": {
            "text/plain": [
              "<Figure size 300x300 with 1 Axes>"
            ],
            "image/png": "[encoded data removed]"
          },
          "metadata": {}
        },
        {
          "output_type": "display_data",
          "data": {
            "text/plain": [
              "<Figure size 300x300 with 1 Axes>"
            ],
            "image/png": "[encoded data removed]"
          },
          "metadata": {}
        },
        {
          "output_type": "display_data",
          "data": {
            "text/plain": [
              "<Figure size 300x300 with 1 Axes>"
            ],
            "image/png": "[encoded data removed]"
          },
          "metadata": {}
        },
        {
          "output_type": "display_data",
          "data": {
            "text/plain": [
              "<Figure size 300x300 with 1 Axes>"
            ],
            "image/png": "[encoded data removed]"
          },
          "metadata": {}
        },
        {
          "output_type": "display_data",
          "data": {
            "text/plain": [
              "<Figure size 300x300 with 1 Axes>"
            ],
            "image/png": "[encoded data removed]"
          },
          "metadata": {}
        },
        {
          "output_type": "display_data",
          "data": {
            "text/plain": [
              "<Figure size 300x300 with 1 Axes>"
            ],
            "image/png": "[encoded data removed]"
          },
          "metadata": {}
        },
        {
          "output_type": "display_data",
          "data": {
            "text/plain": [
              "<Figure size 300x300 with 1 Axes>"
            ],
            "image/png": "[encoded data removed]"
          },
          "metadata": {}
        }
      ]
    }
  ]
}