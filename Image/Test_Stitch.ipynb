{
  "nbformat": 4,
  "nbformat_minor": 0,
  "metadata": {
    "colab": {
      "provenance": [],
      "authorship_tag": "ABX9TyPa8hUihbsWphcXWleTHZ2L",
      "include_colab_link": true
    },
    "kernelspec": {
      "name": "python3",
      "display_name": "Python 3"
    },
    "language_info": {
      "name": "python"
    }
  },
  "cells": [
    {
      "cell_type": "markdown",
      "metadata": {
        "id": "view-in-github",
        "colab_type": "text"
      },
      "source": [
        "<a href=\"https://colab.research.google.com/github/dtabuena/Workshop/blob/main/Image/Test_Stitch.ipynb\" target=\"_parent\"><img src=\"https://colab.research.google.com/assets/colab-badge.svg\" alt=\"Open In Colab\"/></a>"
      ]
    },
    {
      "cell_type": "code",
      "source": [
        "!pip install opencv-python"
      ],
      "metadata": {
        "id": "yZepJZrbZbwN",
        "colab": {
          "base_uri": "https://localhost:8080/"
        },
        "outputId": "951ed9bd-58b9-48b6-e7a8-bd67bb6c040a"
      },
      "execution_count": 258,
      "outputs": [
        {
          "output_type": "stream",
          "name": "stdout",
          "text": [
            "Requirement already satisfied: opencv-python in c:\\users\\dennis.tabuena\\appdata\\local\\anaconda3\\lib\\site-packages (4.9.0.80)\n",
            "Requirement already satisfied: numpy>=1.21.2 in c:\\users\\dennis.tabuena\\appdata\\local\\anaconda3\\lib\\site-packages (from opencv-python) (1.24.3)\n"
          ]
        }
      ]
    },
    {
      "cell_type": "code",
      "execution_count": 259,
      "metadata": {
        "id": "c4GHHpca71xz"
      },
      "outputs": [],
      "source": [
        "import os\n",
        "import pandas as pd\n",
        "from matplotlib import pyplot as plt\n",
        "import numpy as np\n",
        "import cv2"
      ]
    },
    {
      "cell_type": "code",
      "source": [
        "def stack_snake(img_arr,row_n,col_n=None):\n",
        "    img_arr=np.array(img_arr)\n",
        "    if col_n is None: col_n=row_n\n",
        "    X = np.arange(row_n*col_n).reshape(row_n,col_n)\n",
        "    for r in np.arange(1,row_n,2):\n",
        "        X[r,:] = X[r,::-1]\n",
        "\n",
        "    cat_rows = [np.concatenate(img_arr[X[r,:]],axis=1) for r  in range(row_n)]\n",
        "    concat = np.concatenate(cat_rows,axis=0)\n",
        "    return concat\n",
        "\n",
        "def plot_img_grid( images , r,c=None):\n",
        "    plt.imshow(stack_snake(images,row_n=r,col_n=c))"
      ],
      "metadata": {
        "id": "1UgcaOfzojC_"
      },
      "execution_count": 260,
      "outputs": []
    },
    {
      "cell_type": "code",
      "source": [
        "image_set_dir = \"C:\\\\Users\\\\dennis.tabuena\\\\Dropbox (Gladstone)\\\\0_Projects\\\\_Hyper+Crisper\\\\Morphological_Analysis\\\\TestNeuron1\\\\\"\n",
        "image_set_prefix = 'Test_Neuron1'\n",
        "\n",
        "os.chdir(image_set_dir)\n",
        "\n",
        "tif_list=list()\n",
        "for dir,root,files in os.walk(image_set_dir):\n",
        "    for f in files:\n",
        "        if 'CH4.tif' in f:\n",
        "            tif_list.append(os.path.join(dir,f))\n"
      ],
      "metadata": {
        "id": "zyjzHKiA8T13"
      },
      "execution_count": 261,
      "outputs": []
    },
    {
      "cell_type": "code",
      "source": [
        "pd_dict = {'file_loc': [t for t in tif_list],\n",
        "           'xy': [t.split(\"_\")[-3] for t in tif_list],\n",
        "           'z': [t.split(\"_\")[-2] for t in tif_list]}\n",
        "image_df = pd.DataFrame(pd_dict)\n",
        "\n",
        "display(image_df)\n",
        "z_planes = sorted(list(set(image_df['z'])))\n"
      ],
      "metadata": {
        "id": "Oz5C4A_j8TtB",
        "colab": {
          "base_uri": "https://localhost:8080/",
          "height": 424
        },
        "outputId": "0d3c5994-8b30-498f-d5ba-744b3d526c9b"
      },
      "execution_count": 262,
      "outputs": [
        {
          "output_type": "display_data",
          "data": {
            "text/plain": [
              "                                               file_loc     xy     z\n",
              "0     C:\\Users\\dennis.tabuena\\Dropbox (Gladstone)\\0_...  00001  Z001\n",
              "1     C:\\Users\\dennis.tabuena\\Dropbox (Gladstone)\\0_...  00001  Z002\n",
              "2     C:\\Users\\dennis.tabuena\\Dropbox (Gladstone)\\0_...  00001  Z003\n",
              "3     C:\\Users\\dennis.tabuena\\Dropbox (Gladstone)\\0_...  00001  Z004\n",
              "4     C:\\Users\\dennis.tabuena\\Dropbox (Gladstone)\\0_...  00001  Z005\n",
              "...                                                 ...    ...   ...\n",
              "2845  C:\\Users\\dennis.tabuena\\Dropbox (Gladstone)\\0_...  00025  Z110\n",
              "2846  C:\\Users\\dennis.tabuena\\Dropbox (Gladstone)\\0_...  00025  Z111\n",
              "2847  C:\\Users\\dennis.tabuena\\Dropbox (Gladstone)\\0_...  00025  Z112\n",
              "2848  C:\\Users\\dennis.tabuena\\Dropbox (Gladstone)\\0_...  00025  Z113\n",
              "2849  C:\\Users\\dennis.tabuena\\Dropbox (Gladstone)\\0_...  00025  Z114\n",
              "\n",
              "[2850 rows x 3 columns]"
            ],
            "text/html": [
              "<div>\n",
              "<style scoped>\n",
              "    .dataframe tbody tr th:only-of-type {\n",
              "        vertical-align: middle;\n",
              "    }\n",
              "\n",
              "    .dataframe tbody tr th {\n",
              "        vertical-align: top;\n",
              "    }\n",
              "\n",
              "    .dataframe thead th {\n",
              "        text-align: right;\n",
              "    }\n",
              "</style>\n",
              "<table border=\"1\" class=\"dataframe\">\n",
              "  <thead>\n",
              "    <tr style=\"text-align: right;\">\n",
              "      <th></th>\n",
              "      <th>file_loc</th>\n",
              "      <th>xy</th>\n",
              "      <th>z</th>\n",
              "    </tr>\n",
              "  </thead>\n",
              "  <tbody>\n",
              "    <tr>\n",
              "      <th>0</th>\n",
              "      <td>C:\\Users\\dennis.tabuena\\Dropbox (Gladstone)\\0_...</td>\n",
              "      <td>00001</td>\n",
              "      <td>Z001</td>\n",
              "    </tr>\n",
              "    <tr>\n",
              "      <th>1</th>\n",
              "      <td>C:\\Users\\dennis.tabuena\\Dropbox (Gladstone)\\0_...</td>\n",
              "      <td>00001</td>\n",
              "      <td>Z002</td>\n",
              "    </tr>\n",
              "    <tr>\n",
              "      <th>2</th>\n",
              "      <td>C:\\Users\\dennis.tabuena\\Dropbox (Gladstone)\\0_...</td>\n",
              "      <td>00001</td>\n",
              "      <td>Z003</td>\n",
              "    </tr>\n",
              "    <tr>\n",
              "      <th>3</th>\n",
              "      <td>C:\\Users\\dennis.tabuena\\Dropbox (Gladstone)\\0_...</td>\n",
              "      <td>00001</td>\n",
              "      <td>Z004</td>\n",
              "    </tr>\n",
              "    <tr>\n",
              "      <th>4</th>\n",
              "      <td>C:\\Users\\dennis.tabuena\\Dropbox (Gladstone)\\0_...</td>\n",
              "      <td>00001</td>\n",
              "      <td>Z005</td>\n",
              "    </tr>\n",
              "    <tr>\n",
              "      <th>...</th>\n",
              "      <td>...</td>\n",
              "      <td>...</td>\n",
              "      <td>...</td>\n",
              "    </tr>\n",
              "    <tr>\n",
              "      <th>2845</th>\n",
              "      <td>C:\\Users\\dennis.tabuena\\Dropbox (Gladstone)\\0_...</td>\n",
              "      <td>00025</td>\n",
              "      <td>Z110</td>\n",
              "    </tr>\n",
              "    <tr>\n",
              "      <th>2846</th>\n",
              "      <td>C:\\Users\\dennis.tabuena\\Dropbox (Gladstone)\\0_...</td>\n",
              "      <td>00025</td>\n",
              "      <td>Z111</td>\n",
              "    </tr>\n",
              "    <tr>\n",
              "      <th>2847</th>\n",
              "      <td>C:\\Users\\dennis.tabuena\\Dropbox (Gladstone)\\0_...</td>\n",
              "      <td>00025</td>\n",
              "      <td>Z112</td>\n",
              "    </tr>\n",
              "    <tr>\n",
              "      <th>2848</th>\n",
              "      <td>C:\\Users\\dennis.tabuena\\Dropbox (Gladstone)\\0_...</td>\n",
              "      <td>00025</td>\n",
              "      <td>Z113</td>\n",
              "    </tr>\n",
              "    <tr>\n",
              "      <th>2849</th>\n",
              "      <td>C:\\Users\\dennis.tabuena\\Dropbox (Gladstone)\\0_...</td>\n",
              "      <td>00025</td>\n",
              "      <td>Z114</td>\n",
              "    </tr>\n",
              "  </tbody>\n",
              "</table>\n",
              "<p>2850 rows × 3 columns</p>\n",
              "</div>"
            ]
          },
          "metadata": {}
        }
      ]
    },
    {
      "cell_type": "code",
      "source": [
        "!pip install stitching\n",
        "from stitching import Stitcher\n"
      ],
      "metadata": {
        "colab": {
          "base_uri": "https://localhost:8080/"
        },
        "id": "dgk2MAH27ReJ",
        "outputId": "2c3fdd7f-1ead-496f-b472-2658d6adf4bc"
      },
      "execution_count": 263,
      "outputs": [
        {
          "output_type": "stream",
          "name": "stdout",
          "text": [
            "Requirement already satisfied: stitching in c:\\users\\dennis.tabuena\\appdata\\local\\anaconda3\\lib\\site-packages (0.5.3)\n",
            "Requirement already satisfied: opencv-python>=4.0.1 in c:\\users\\dennis.tabuena\\appdata\\local\\anaconda3\\lib\\site-packages (from stitching) (4.9.0.80)\n",
            "Requirement already satisfied: largestinteriorrectangle in c:\\users\\dennis.tabuena\\appdata\\local\\anaconda3\\lib\\site-packages (from stitching) (0.2.0)\n",
            "Requirement already satisfied: numpy>=1.21.2 in c:\\users\\dennis.tabuena\\appdata\\local\\anaconda3\\lib\\site-packages (from opencv-python>=4.0.1->stitching) (1.24.3)\n",
            "Requirement already satisfied: numba in c:\\users\\dennis.tabuena\\appdata\\local\\anaconda3\\lib\\site-packages (from largestinteriorrectangle->stitching) (0.57.1)\n",
            "Requirement already satisfied: llvmlite<0.41,>=0.40.0dev0 in c:\\users\\dennis.tabuena\\appdata\\local\\anaconda3\\lib\\site-packages (from numba->largestinteriorrectangle->stitching) (0.40.0)\n"
          ]
        }
      ]
    },
    {
      "cell_type": "code",
      "source": [
        "# z_planes = sorted(list(set(image_df['z'])))\n",
        "# print(z_planes)\n",
        "\n",
        "# for cur_z in [z_planes[15]]:\n",
        "#     single_plane_images = image_df['file_loc'][[cur_z in z for z in image_df['z']]].values\n",
        "# image_data_list = list()\n",
        "# for path in single_plane_images:\n",
        "#     image_data =cv2.imread(path)\n",
        "#     image_data_list.append(image_data)\n",
        "# order = np.array(list(range(0,5,1)) + list(range(9,4,-1)) + list(range(10,15,1)) + list(range(19,14,-1)) + list(range(20,25,1)))\n",
        "# image_data_list_sorted = [image_data_list[o] for o in order]\n",
        "\n",
        "# fig,ax=plt.subplots(5,5)\n",
        "# ax = ax.flatten()\n",
        "# for i,f in enumerate(image_data_list_sorted):\n",
        "#     ax[i].imshow(f)\n",
        "\n",
        "\n",
        "# subset = image_data_list"
      ],
      "metadata": {
        "id": "T9_SCMkjBkKS"
      },
      "execution_count": 246,
      "outputs": []
    },
    {
      "cell_type": "code",
      "source": [
        "# from stitching.images import Images\n",
        "# paths = single_plane_images\n",
        "# images = Images.of(paths)"
      ],
      "metadata": {
        "id": "gbY9I7HmwoVT"
      },
      "execution_count": 247,
      "outputs": []
    },
    {
      "cell_type": "code",
      "source": [],
      "metadata": {
        "id": "oSm0fKvtxKjn"
      },
      "execution_count": 247,
      "outputs": []
    },
    {
      "cell_type": "code",
      "source": [],
      "metadata": {
        "id": "A9FQiNQQu3Bi"
      },
      "execution_count": 247,
      "outputs": []
    },
    {
      "cell_type": "code",
      "source": [
        "# def plus_mask(img,n=.35,rs=None):\n",
        "#     if rs is None:\n",
        "#         rs = img.shape[:2]\n",
        "#     mask = np.ones_like(img[:,:,0])\n",
        "#     m_shape = np.shape(mask)\n",
        "#     mask[int(m_shape[0]*n):int(m_shape[0]*(1-n)),:] = 0\n",
        "#     mask[:,int(m_shape[1]*n):int(m_shape[1]*(1-n))] = 0\n",
        "#     # mask[int(m_shape[0]*n):int(m_shape[0]*(1-n)),int(m_shape[1]*n):int(m_shape[1]*(1-n))] = 0\n",
        "#     mask = cv2.resize(mask, (rs[1],rs[0]))\n",
        "#     return mask.astype(int)\n",
        "\n",
        "# fig,ax=plt.subplots(1,figsize=(1,1))\n",
        "# plt.imshow(plus_mask(img,n=.35))"
      ],
      "metadata": {
        "id": "MiyXdLvaZ8d9"
      },
      "execution_count": 248,
      "outputs": []
    },
    {
      "cell_type": "code",
      "source": [],
      "metadata": {
        "id": "E4IAvekZAOGW"
      },
      "execution_count": 248,
      "outputs": []
    },
    {
      "cell_type": "code",
      "source": [
        "# [:-1]\n",
        "# len(subset)\n",
        "# single_plane_images = single_plane_images[:-1]\n",
        "# len(subset)"
      ],
      "metadata": {
        "id": "qaWDolNArbEW"
      },
      "execution_count": 249,
      "outputs": []
    },
    {
      "cell_type": "code",
      "source": [
        "# from stitching.images import Images\n",
        "# img = Images.of(subset, medium_megapix=0.96, low_megapix=0.1, final_megapix=-1)\n",
        "# medium_imgs = list(img.resize(Images.Resolution.MEDIUM))\n",
        "# subset = medium_imgs\n",
        "\n",
        "# from stitching.feature_detector import FeatureDetector\n",
        "# finder = FeatureDetector(detector='sift', nfeatures=500)\n",
        "\n",
        "# features = [finder.detect_features(img, plus_mask(img,n=.35) ) for img in subset]\n",
        "\n",
        "# from stitching.feature_matcher import FeatureMatcher\n",
        "# matcher = FeatureMatcher()\n",
        "# matches = matcher.match_features(features)\n",
        "# matcher.get_confidence_matrix(matches)\n",
        "# conf_mat = matcher.get_confidence_matrix(matches)\n",
        "\n",
        "# fig,ax=plt.subplots(5,5,figsize=(8,8))\n",
        "# ax = ax.flatten()\n",
        "# for i,(img,feat) in enumerate(zip(subset,features)):\n",
        "#     img_h = img.copy()\n",
        "#     img_h[:,:,2] = plus_mask(img,n=.35)*255\n",
        "#     ax[order[i]].imshow(img_h)\n",
        "#     ax[order[i]].set_xticks([])\n",
        "#     ax[order[i]].set_yticks([])\n",
        "#     for k in feat.keypoints:\n",
        "#         ax[order[i]].scatter(k.pt[0],k.pt[1],s=1,color='m')\n",
        "#         ax[order[i]].set_title(i)\n",
        "\n",
        "\n",
        "# conf_mat = matcher.get_confidence_matrix(matches)\n",
        "# conf_mat[conf_mat==0]=np.nan\n",
        "# fig,ax=plt.subplots(1,figsize=(5,5))\n",
        "# cb=ax.imshow(conf_mat)\n",
        "# plt.colorbar(cb)\n",
        "# ax.grid('on')\n",
        "# np.nanmin(conf_mat,1)\n",
        "\n",
        "# from stitching.subsetter import Subsetter\n",
        "# subsetter = Subsetter()\n",
        "# dot_notation = subsetter.get_matches_graph([str(i) for i in range(25)], matches)\n",
        "# print(dot_notation)\n",
        "\n"
      ],
      "metadata": {
        "id": "foe__wHoQ8WP"
      },
      "execution_count": 250,
      "outputs": []
    },
    {
      "cell_type": "code",
      "source": [
        "\n",
        "# fig,ax=plt.subplots(5,5,figsize=(8,8))\n",
        "# ax = ax.flatten()\n",
        "# for i,img in enumerate(warped_final_imgs):\n",
        "#     ax[order[i]].imshow(img)\n",
        "#     ax[order[i]].set_xticks([])\n",
        "#     ax[order[i]].set_yticks([])\n",
        "#     ax[order[i]].set_title(i)"
      ],
      "metadata": {
        "id": "fNcvNdyZ0xvu"
      },
      "execution_count": 251,
      "outputs": []
    },
    {
      "cell_type": "code",
      "source": [
        "# def plot_image(img, figsize_in_inches=(5,5)):\n",
        "#     fig, ax = plt.subplots(figsize=figsize_in_inches)\n",
        "#     ax.imshow(cv2.cvtColor(img, cv2.COLOR_BGR2RGB))\n",
        "#     plt.show()\n",
        "\n",
        "# def plot_images(imgs, figsize_in_inches=(5,5)):\n",
        "#     fig, axs = plt.subplots(1, len(imgs), figsize=figsize_in_inches)\n",
        "#     for col, img in enumerate(imgs):\n",
        "#         axs[col].imshow(cv2.cvtColor(img, cv2.COLOR_BGR2RGB))\n",
        "#     plt.show()"
      ],
      "metadata": {
        "id": "KOOqXLcu2thc"
      },
      "execution_count": 252,
      "outputs": []
    },
    {
      "cell_type": "code",
      "source": [
        "########################################## AFFINE ####################################################"
      ],
      "metadata": {
        "id": "KLDxwdsftYCb"
      },
      "execution_count": 253,
      "outputs": []
    },
    {
      "cell_type": "code",
      "source": [
        "def aff_stitch_og_size(my_images,img_paths,r,c=None,order=None):\n",
        "    results = {}\n",
        "    results['stitched'] = np.zeros([3,3,3],'uint8')\n",
        "\n",
        "\n",
        "\n",
        "\n",
        "    from stitching.images import Images\n",
        "    from stitching import AffineStitcher\n",
        "\n",
        "\n",
        "    images = Images.of(list(img_paths))\n",
        "    medium_imgs = list(images.resize(Images.Resolution.FINAL))\n",
        "    low_imgs = list(images.resize(Images.Resolution.FINAL))\n",
        "    final_imgs = list(images.resize(Images.Resolution.FINAL))\n",
        "\n",
        "\n",
        "    \"\"\" INIT Stitcher \"\"\"\n",
        "    settings = { \"confidence_threshold\": 1.2}\n",
        "    aff_stitcher = AffineStitcher(**settings)\n",
        "\n",
        "\n",
        "    \"\"\" Feature Detection \"\"\"\n",
        "    features = aff_stitcher.find_features(my_images)\n",
        "    results['features']=features\n",
        "    num_feats = [len(f.keypoints) for f in results['features']]\n",
        "    fewest_points = np.min(num_feats)\n",
        "    results['fewest_points']=fewest_points\n",
        "    if fewest_points < 25:\n",
        "        results['message'] = 'no enough points'\n",
        "        results['matches'] = np.nan\n",
        "        results['cameras'] = np.nan\n",
        "        return results\n",
        "    ##\n",
        "    # fig,ax=plt.subplots(5,5,figsize=(3,3))\n",
        "    # ax = ax.flatten()\n",
        "    # for i,(img,feat) in enumerate(zip(my_images,features)):\n",
        "    #     img_h = img.copy()\n",
        "    #     # img_h[:,:,2] = plus_mask(img,n=.35)*255\n",
        "    #     ax[order[i]].imshow(img_h)\n",
        "    #     ax[order[i]].set_xticks([])\n",
        "    #     ax[order[i]].set_yticks([])\n",
        "    #     for k in feat.keypoints:\n",
        "    #         ax[order[i]].scatter(k.pt[0],k.pt[1],s=1,color='m')\n",
        "    #         ax[order[i]].set_title(i)\n",
        "    # plt.show()\n",
        "\n",
        "    \"\"\" Matching \"\"\"\n",
        "    matches = aff_stitcher.match_features(features)\n",
        "    results['matches']=matches\n",
        "    conf_mat = aff_stitcher.matcher.get_confidence_matrix(matches)\n",
        "    conf_mat[conf_mat==0]=np.nan\n",
        "    indicies = aff_stitcher.subsetter.get_indices_to_keep(features,matches)\n",
        "    dot_notation = aff_stitcher.subsetter.get_matches_graph([str(i) for i in range(25)], matches)\n",
        "    ##\n",
        "    # fig,ax=plt.subplots(1,figsize=(5,5))\n",
        "    # cb=ax.imshow(conf_mat,vmin=0.5)\n",
        "    # plt.colorbar(cb)\n",
        "    # ax.grid('on')\n",
        "    # np.nanmax(conf_mat,1)\n",
        "\n",
        "    \"\"\" Solve Warp \"\"\"\n",
        "    cameras = aff_stitcher.camera_estimator.estimate(features, matches)\n",
        "    cameras = aff_stitcher.camera_adjuster.adjust(features, matches, cameras)\n",
        "    cameras = aff_stitcher.wave_corrector.correct(cameras)\n",
        "    aff_stitcher.warper.set_scale(cameras)\n",
        "    results['cameras']=cameras\n",
        "\n",
        "    final_sizes = images.get_scaled_img_sizes(Images.Resolution.FINAL)\n",
        "    camera_aspect = images.get_ratio(Images.Resolution.FINAL, Images.Resolution.FINAL)\n",
        "\n",
        "    warped_final_imgs = list(aff_stitcher.warper.warp_images(final_imgs, cameras, camera_aspect))\n",
        "    warped_final_masks = list(aff_stitcher.warper.create_and_warp_masks(final_sizes, cameras, camera_aspect))\n",
        "    final_corners, final_sizes = aff_stitcher.warper.warp_rois(final_sizes, cameras, camera_aspect)\n",
        "    ##\n",
        "    # fig,ax=plt.subplots(5,5,figsize=(8,8))\n",
        "    # ax = ax.flatten()\n",
        "    # for i,img in enumerate(warped_final_imgs):\n",
        "    #     ax[order[i]].imshow(img)\n",
        "    #     # ax[order[i]].set_xticks([])\n",
        "    #     # ax[order[i]].set_yticks([])\n",
        "    #     ax[order[i]].set_title(i)\n",
        "\n",
        "\n",
        "    # \"\"\" Cropping \"\"\"\n",
        "    cropped_final_imgs = warped_final_imgs\n",
        "    cropped_final_masks = warped_final_masks\n",
        "    # , final_corners, final_sizes\n",
        "\n",
        "    # cropper = aff_stitcher.cropper\n",
        "    # mask = cropper.estimate_panorama_mask(warped_final_imgs, warped_final_masks, final_corners, final_sizes)\n",
        "    # lir = cropper.estimate_largest_interior_rectangle(mask)\n",
        "\n",
        "\n",
        "    # final_corners = cropper.get_zero_center_corners(final_corners)\n",
        "    # rectangles = cropper.get_rectangles(final_corners, final_sizes)\n",
        "    # overlap = cropper.get_overlap(rectangles[1], lir)\n",
        "    # intersection = cropper.get_intersection(rectangles[1], overlap)\n",
        "\n",
        "    # cropper.prepare(warped_final_imgs, warped_final_masks, final_corners, final_sizes)\n",
        "\n",
        "    # lir_aspect = images.get_ratio(Images.Resolution.FINAL, Images.Resolution.FINAL)  # since lir was obtained on low imgs\n",
        "    # cropped_final_masks = list(cropper.crop_images(warped_final_masks, lir_aspect))\n",
        "    # cropped_final_imgs = list(cropper.crop_images(warped_final_imgs, lir_aspect))\n",
        "    # final_corners, final_sizes = cropper.crop_rois(final_corners, final_sizes, lir_aspect)\n",
        "\n",
        "    \"\"\" Seams \"\"\"\n",
        "    seam_finder = aff_stitcher.seam_finder\n",
        "    seam_masks = seam_finder.find(cropped_final_imgs, final_corners, cropped_final_masks)\n",
        "    seam_masks_plots = [seam_finder.draw_seam_mask(img, seam_mask) for img, seam_mask in zip(cropped_final_imgs, seam_masks)]\n",
        "\n",
        "    \"\"\" Exposure Comp \"\"\"\n",
        "    compensator = aff_stitcher.compensator\n",
        "    compensator.feed(final_corners, cropped_final_imgs, cropped_final_masks)\n",
        "    compensated_imgs = [compensator.apply(idx, corner, img, mask)\n",
        "                        for idx, (img, mask, corner)\n",
        "                        in enumerate(zip(cropped_final_imgs, cropped_final_masks, final_corners))]\n",
        "\n",
        "    \"\"\" Blend \"\"\"\n",
        "    blender = aff_stitcher.blender\n",
        "    blender.prepare(final_corners, final_sizes)\n",
        "    for img, mask, corner in zip(compensated_imgs, seam_masks, final_corners):\n",
        "        blender.feed(img, mask, corner)\n",
        "    stitched, _ = blender.blend()\n",
        "    results['stitched']=stitched\n",
        "    return results\n",
        "\n",
        "\n",
        "# results= aff_stitch_og_size(z_plane_image_data,z_plane_image_paths,r=5,order=order)\n",
        "# plt.imshow(results['stitched'])"
      ],
      "metadata": {
        "id": "WV2GKGdpoaUz"
      },
      "execution_count": 274,
      "outputs": []
    },
    {
      "cell_type": "code",
      "source": [
        "from tqdm import tqdm"
      ],
      "metadata": {
        "id": "2EUdwhWGzcva"
      },
      "execution_count": 271,
      "outputs": []
    },
    {
      "cell_type": "code",
      "source": [
        "results_dict={}\n",
        "order = np.array(list(range(0,5,1)) + list(range(9,4,-1)) + list(range(10,15,1)) + list(range(19,14,-1)) + list(range(20,25,1)))\n",
        "# fig,ax = plt.subplots(1,figsize=(3,3))\n",
        "for cur_z in tqdm(z_planes ):\n",
        "    # try:\n",
        "    z_plane_image_paths = image_df['file_loc'][[cur_z in z for z in image_df['z']]].values\n",
        "    z_plane_image_data = [cv2.imread(path) for path in z_plane_image_paths]\n",
        "    results= aff_stitch_og_size(z_plane_image_data,z_plane_image_paths,r=5,order=order)\n",
        "    results_dict[str(cur_z)] = results\n",
        "    # except:\n",
        "    #     print('\\nFailed')\n",
        "    #     z_cams = list()\n",
        "    #     stitched_plane = np.zeros((5,5))\n",
        "\n",
        "    # ax.imshow(stitched_plane)\n",
        "    # plt.show()\n",
        "    # stich_list.append(results['stitched'])\n",
        "    # cam_list.append(results['cameras'])\n",
        "\n",
        "for k,v in results_dict.items():\n",
        "    fig,ax = plt.subplots(1,figsize=(3,3))\n",
        "    ax.imshow(v['stitched'])\n"
      ],
      "metadata": {
        "id": "KSDUNFF6yanO"
      },
      "execution_count": null,
      "outputs": []
    },
    {
      "cell_type": "code",
      "source": [
        "len(results_dict['Z058']['cameras'])\n",
        "a_camera=results_dict['Z058']['cameras'][9]\n",
        "print('aspect',a_camera.aspect)\n",
        "print('focal',a_camera.focal)\n",
        "print('K()',a_camera.K())\n",
        "print('R',a_camera.R)\n",
        "print('ppx, ppy',a_camera.ppx, a_camera.ppy)\n",
        "print('t',a_camera.t)\n",
        "\n",
        "\n"
      ],
      "metadata": {
        "id": "AwWdS2VgZfCF",
        "outputId": "9e3691a0-b43f-4255-8ec1-b9ea9cb16a3c",
        "colab": {
          "base_uri": "https://localhost:8080/"
        }
      },
      "execution_count": 304,
      "outputs": [
        {
          "output_type": "stream",
          "name": "stdout",
          "text": [
            "aspect 1.0\n",
            "focal 1.0\n",
            "K() [[1. 0. 0.]\n",
            " [0. 1. 0.]\n",
            " [0. 0. 1.]]\n",
            "R [[ 9.9983907e-01  4.1941728e-04 -1.5445278e+00]\n",
            " [-4.1941728e-04  9.9983907e-01 -4.9972354e+02]\n",
            " [ 0.0000000e+00  0.0000000e+00  1.0000000e+00]]\n",
            "ppx, ppy 0.0 0.0\n",
            "t [[0.]\n",
            " [0.]\n",
            " [0.]]\n"
          ]
        }
      ]
    },
    {
      "cell_type": "code",
      "source": [
        "zcam_list = list()\n",
        "for z_plane,results in results_dict.items():\n",
        "    if  isinstance(results['cameras'], float) :\n",
        "        r_list = [np.eye(3)*np.nan for _ in range(len(results['features']))]\n",
        "        zcam_list.append(r_list)\n",
        "        continue\n",
        "\n",
        "    r_list = [cam.R for cam in results['cameras']]\n",
        "    zcam_list.append(r_list)\n",
        "\n",
        "print(len(zcam_list))"
      ],
      "metadata": {
        "id": "SgkcOKrg8gRI",
        "outputId": "6ec9bb36-996d-411d-a1ac-ea1d9040fd5c",
        "colab": {
          "base_uri": "https://localhost:8080/"
        }
      },
      "execution_count": 330,
      "outputs": [
        {
          "output_type": "stream",
          "name": "stdout",
          "text": [
            "114\n"
          ]
        }
      ]
    },
    {
      "cell_type": "code",
      "source": [
        "print(np.stack(zcam_list).shape)"
      ],
      "metadata": {
        "id": "nGQtsNb89lW6",
        "outputId": "c28311b5-bc64-409f-beec-12e227ca20df",
        "colab": {
          "base_uri": "https://localhost:8080/"
        }
      },
      "execution_count": 331,
      "outputs": [
        {
          "output_type": "stream",
          "name": "stdout",
          "text": [
            "(114, 25, 3, 3)\n"
          ]
        }
      ]
    },
    {
      "cell_type": "code",
      "source": [
        "num_planes = len(z_planes)\n",
        "chunk_size=12\n",
        "starts = np.arange(0,num_planes,chunk_size)\n",
        "stops = np.arange(chunk_size,num_planes+chunk_size,chunk_size)\n",
        "max_p_list = list()\n",
        "for strt,stp in zip(starts,stops):\n",
        "    if stp>num_planes:\n",
        "        strt -= stp-num_planes\n",
        "        stp = num_planes\n",
        "    z_chunk = np.array(z_planes)[np.arange(strt,stp)]\n",
        "    data_list = list()\n",
        "    for z_ in tqdm( z_chunk ):\n",
        "        z_plane_image_paths = image_df['file_loc'][[z_ in z for z in image_df['z']]].values\n",
        "        z_plane_image_data = [np.sum(cv2.imread(path),axis=2)  for path in z_plane_image_paths]\n",
        "        data_list.append(z_plane_image_data)\n",
        "    data_array = np.array([np.array(d) for d in data_list])\n",
        "    max_p = np.max(data_array,axis=0)\n",
        "    max_p = [max_p[tile,:,:] for tile in np.arange(max_p.shape[0])]\n",
        "    plot_tiles(max_p)\n",
        "    max_p_list.append(max_p)"
      ],
      "metadata": {
        "id": "sWezBrin2KMe"
      },
      "execution_count": null,
      "outputs": []
    },
    {
      "cell_type": "code",
      "source": [],
      "metadata": {
        "id": "TXWdotlUiSbF"
      },
      "execution_count": null,
      "outputs": []
    },
    {
      "cell_type": "code",
      "source": [
        "def plot_tiles(tiles):\n",
        "    aspect=tiles[0].shape[0] / tiles[0].shape[1]\n",
        "    fig,ax=plt.subplots(5,5,figsize=(8,8*aspect))\n",
        "    ax = ax.flatten()\n",
        "    for i,img in enumerate(tiles):\n",
        "        ax[order[i]].imshow(ski.filters.sobel(img),'binary_r')\n",
        "        ax[order[i]].set_xticks([])\n",
        "        ax[order[i]].set_yticks([])\n",
        "        # ax[order[i]].set_title(i)\n",
        "    fig.subplots_adjust(wspace=0, hspace=0)\n",
        "    plt.show()\n",
        "    return None\n"
      ],
      "metadata": {
        "id": "2tFEy5pD-WGV"
      },
      "execution_count": null,
      "outputs": []
    },
    {
      "cell_type": "code",
      "source": [
        "import scipy as sp\n",
        "from scipy import ndimage as ndi\n",
        "import skimage as ski"
      ],
      "metadata": {
        "id": "41jZH937fmkR"
      },
      "execution_count": null,
      "outputs": []
    },
    {
      "cell_type": "code",
      "source": [
        "\n",
        "ski..sobe"
      ],
      "metadata": {
        "id": "pWy_Gij0GquG"
      },
      "execution_count": null,
      "outputs": []
    }
  ]
}