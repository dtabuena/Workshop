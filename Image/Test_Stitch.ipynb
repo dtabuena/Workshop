{
  "nbformat": 4,
  "nbformat_minor": 0,
  "metadata": {
    "colab": {
      "provenance": [],
      "authorship_tag": "ABX9TyPokYzFTUPCTZ52qNmB0ZdY",
      "include_colab_link": true
    },
    "kernelspec": {
      "name": "python3",
      "display_name": "Python 3"
    },
    "language_info": {
      "name": "python"
    }
  },
  "cells": [
    {
      "cell_type": "markdown",
      "metadata": {
        "id": "view-in-github",
        "colab_type": "text"
      },
      "source": [
        "<a href=\"https://colab.research.google.com/github/dtabuena/Workshop/blob/main/Image/Test_Stitch.ipynb\" target=\"_parent\"><img src=\"https://colab.research.google.com/assets/colab-badge.svg\" alt=\"Open In Colab\"/></a>"
      ]
    },
    {
      "cell_type": "code",
      "source": [
        "!pip install opencv-python"
      ],
      "metadata": {
        "id": "yZepJZrbZbwN",
        "outputId": "33bc5535-87f2-45ec-c299-4fd67e9c5ec4",
        "colab": {
          "base_uri": "https://localhost:8080/"
        }
      },
      "execution_count": 33,
      "outputs": [
        {
          "output_type": "stream",
          "name": "stdout",
          "text": [
            "Requirement already satisfied: opencv-python in c:\\users\\dennis.tabuena\\appdata\\local\\anaconda3\\lib\\site-packages (4.9.0.80)\n",
            "Requirement already satisfied: numpy>=1.21.2 in c:\\users\\dennis.tabuena\\appdata\\local\\anaconda3\\lib\\site-packages (from opencv-python) (1.24.3)\n"
          ]
        }
      ]
    },
    {
      "cell_type": "code",
      "execution_count": 34,
      "metadata": {
        "id": "c4GHHpca71xz"
      },
      "outputs": [],
      "source": [
        "import os\n",
        "import pandas as pd\n",
        "from matplotlib import pyplot as plt\n",
        "import numpy as np\n",
        "import cv2"
      ]
    },
    {
      "cell_type": "code",
      "source": [
        "def stack_snake(img_arr,row_n,col_n=None):\n",
        "    img_arr=np.array(img_arr)\n",
        "    if col_n is None: col_n=row_n\n",
        "    X = np.arange(row_n*col_n).reshape(row_n,col_n)\n",
        "    for r in np.arange(1,row_n,2):\n",
        "        X[r,:] = X[r,::-1]\n",
        "\n",
        "    cat_rows = [np.concatenate(img_arr[X[r,:]],axis=1) for r  in range(row_n)]\n",
        "    concat = np.concatenate(cat_rows,axis=0)\n",
        "    return concat\n",
        "\n",
        "def plot_img_grid( images , r,c=None):\n",
        "    plt.imshow(stack_snake(images,row_n=r,col_n=c))"
      ],
      "metadata": {
        "id": "1UgcaOfzojC_"
      },
      "execution_count": 35,
      "outputs": []
    },
    {
      "cell_type": "code",
      "source": [
        "image_set_dir = \"C:\\\\Users\\\\dennis.tabuena\\\\Dropbox (Gladstone)\\\\0_Projects\\\\_Hyper+Crisper\\\\Morphological_Analysis\\\\TestNeuron1\\\\\"\n",
        "image_set_prefix = 'Test_Neuron1'\n",
        "\n",
        "os.chdir(image_set_dir)\n",
        "\n",
        "tif_list=list()\n",
        "for dir,root,files in os.walk(image_set_dir):\n",
        "    for f in files:\n",
        "        if 'CH4.tif' in f:\n",
        "            tif_list.append(os.path.join(dir,f))\n"
      ],
      "metadata": {
        "id": "zyjzHKiA8T13"
      },
      "execution_count": 36,
      "outputs": []
    },
    {
      "cell_type": "code",
      "source": [
        "pd_dict = {'file_loc': [t for t in tif_list],\n",
        "           'xy': [t.split(\"_\")[-3] for t in tif_list],\n",
        "           'z': [t.split(\"_\")[-2] for t in tif_list]}\n",
        "image_df = pd.DataFrame(pd_dict)\n",
        "\n",
        "display(image_df)\n",
        "z_planes = sorted(list(set(image_df['z'])))\n"
      ],
      "metadata": {
        "id": "Oz5C4A_j8TtB",
        "outputId": "c1b04d14-6f32-4309-9bf5-6dd2a56744a4",
        "colab": {
          "base_uri": "https://localhost:8080/",
          "height": 424
        }
      },
      "execution_count": 37,
      "outputs": [
        {
          "output_type": "display_data",
          "data": {
            "text/plain": [
              "                                               file_loc     xy     z\n",
              "0     C:\\Users\\dennis.tabuena\\Dropbox (Gladstone)\\0_...  00001  Z001\n",
              "1     C:\\Users\\dennis.tabuena\\Dropbox (Gladstone)\\0_...  00001  Z002\n",
              "2     C:\\Users\\dennis.tabuena\\Dropbox (Gladstone)\\0_...  00001  Z003\n",
              "3     C:\\Users\\dennis.tabuena\\Dropbox (Gladstone)\\0_...  00001  Z004\n",
              "4     C:\\Users\\dennis.tabuena\\Dropbox (Gladstone)\\0_...  00001  Z005\n",
              "...                                                 ...    ...   ...\n",
              "2845  C:\\Users\\dennis.tabuena\\Dropbox (Gladstone)\\0_...  00025  Z110\n",
              "2846  C:\\Users\\dennis.tabuena\\Dropbox (Gladstone)\\0_...  00025  Z111\n",
              "2847  C:\\Users\\dennis.tabuena\\Dropbox (Gladstone)\\0_...  00025  Z112\n",
              "2848  C:\\Users\\dennis.tabuena\\Dropbox (Gladstone)\\0_...  00025  Z113\n",
              "2849  C:\\Users\\dennis.tabuena\\Dropbox (Gladstone)\\0_...  00025  Z114\n",
              "\n",
              "[2850 rows x 3 columns]"
            ],
            "text/html": [
              "<div>\n",
              "<style scoped>\n",
              "    .dataframe tbody tr th:only-of-type {\n",
              "        vertical-align: middle;\n",
              "    }\n",
              "\n",
              "    .dataframe tbody tr th {\n",
              "        vertical-align: top;\n",
              "    }\n",
              "\n",
              "    .dataframe thead th {\n",
              "        text-align: right;\n",
              "    }\n",
              "</style>\n",
              "<table border=\"1\" class=\"dataframe\">\n",
              "  <thead>\n",
              "    <tr style=\"text-align: right;\">\n",
              "      <th></th>\n",
              "      <th>file_loc</th>\n",
              "      <th>xy</th>\n",
              "      <th>z</th>\n",
              "    </tr>\n",
              "  </thead>\n",
              "  <tbody>\n",
              "    <tr>\n",
              "      <th>0</th>\n",
              "      <td>C:\\Users\\dennis.tabuena\\Dropbox (Gladstone)\\0_...</td>\n",
              "      <td>00001</td>\n",
              "      <td>Z001</td>\n",
              "    </tr>\n",
              "    <tr>\n",
              "      <th>1</th>\n",
              "      <td>C:\\Users\\dennis.tabuena\\Dropbox (Gladstone)\\0_...</td>\n",
              "      <td>00001</td>\n",
              "      <td>Z002</td>\n",
              "    </tr>\n",
              "    <tr>\n",
              "      <th>2</th>\n",
              "      <td>C:\\Users\\dennis.tabuena\\Dropbox (Gladstone)\\0_...</td>\n",
              "      <td>00001</td>\n",
              "      <td>Z003</td>\n",
              "    </tr>\n",
              "    <tr>\n",
              "      <th>3</th>\n",
              "      <td>C:\\Users\\dennis.tabuena\\Dropbox (Gladstone)\\0_...</td>\n",
              "      <td>00001</td>\n",
              "      <td>Z004</td>\n",
              "    </tr>\n",
              "    <tr>\n",
              "      <th>4</th>\n",
              "      <td>C:\\Users\\dennis.tabuena\\Dropbox (Gladstone)\\0_...</td>\n",
              "      <td>00001</td>\n",
              "      <td>Z005</td>\n",
              "    </tr>\n",
              "    <tr>\n",
              "      <th>...</th>\n",
              "      <td>...</td>\n",
              "      <td>...</td>\n",
              "      <td>...</td>\n",
              "    </tr>\n",
              "    <tr>\n",
              "      <th>2845</th>\n",
              "      <td>C:\\Users\\dennis.tabuena\\Dropbox (Gladstone)\\0_...</td>\n",
              "      <td>00025</td>\n",
              "      <td>Z110</td>\n",
              "    </tr>\n",
              "    <tr>\n",
              "      <th>2846</th>\n",
              "      <td>C:\\Users\\dennis.tabuena\\Dropbox (Gladstone)\\0_...</td>\n",
              "      <td>00025</td>\n",
              "      <td>Z111</td>\n",
              "    </tr>\n",
              "    <tr>\n",
              "      <th>2847</th>\n",
              "      <td>C:\\Users\\dennis.tabuena\\Dropbox (Gladstone)\\0_...</td>\n",
              "      <td>00025</td>\n",
              "      <td>Z112</td>\n",
              "    </tr>\n",
              "    <tr>\n",
              "      <th>2848</th>\n",
              "      <td>C:\\Users\\dennis.tabuena\\Dropbox (Gladstone)\\0_...</td>\n",
              "      <td>00025</td>\n",
              "      <td>Z113</td>\n",
              "    </tr>\n",
              "    <tr>\n",
              "      <th>2849</th>\n",
              "      <td>C:\\Users\\dennis.tabuena\\Dropbox (Gladstone)\\0_...</td>\n",
              "      <td>00025</td>\n",
              "      <td>Z114</td>\n",
              "    </tr>\n",
              "  </tbody>\n",
              "</table>\n",
              "<p>2850 rows × 3 columns</p>\n",
              "</div>"
            ]
          },
          "metadata": {}
        }
      ]
    },
    {
      "cell_type": "code",
      "source": [
        "!pip install stitching\n",
        "from stitching import Stitcher\n"
      ],
      "metadata": {
        "colab": {
          "base_uri": "https://localhost:8080/"
        },
        "id": "dgk2MAH27ReJ",
        "outputId": "7c5664c8-ce3b-4fd5-aa3c-811d87a48ccc"
      },
      "execution_count": 38,
      "outputs": [
        {
          "output_type": "stream",
          "name": "stdout",
          "text": [
            "Requirement already satisfied: stitching in c:\\users\\dennis.tabuena\\appdata\\local\\anaconda3\\lib\\site-packages (0.5.3)\n",
            "Requirement already satisfied: opencv-python>=4.0.1 in c:\\users\\dennis.tabuena\\appdata\\local\\anaconda3\\lib\\site-packages (from stitching) (4.9.0.80)\n",
            "Requirement already satisfied: largestinteriorrectangle in c:\\users\\dennis.tabuena\\appdata\\local\\anaconda3\\lib\\site-packages (from stitching) (0.2.0)\n",
            "Requirement already satisfied: numpy>=1.21.2 in c:\\users\\dennis.tabuena\\appdata\\local\\anaconda3\\lib\\site-packages (from opencv-python>=4.0.1->stitching) (1.24.3)\n",
            "Requirement already satisfied: numba in c:\\users\\dennis.tabuena\\appdata\\local\\anaconda3\\lib\\site-packages (from largestinteriorrectangle->stitching) (0.57.1)\n",
            "Requirement already satisfied: llvmlite<0.41,>=0.40.0dev0 in c:\\users\\dennis.tabuena\\appdata\\local\\anaconda3\\lib\\site-packages (from numba->largestinteriorrectangle->stitching) (0.40.0)\n"
          ]
        }
      ]
    },
    {
      "cell_type": "code",
      "source": [
        "# z_planes = sorted(list(set(image_df['z'])))\n",
        "# print(z_planes)\n",
        "\n",
        "# for cur_z in [z_planes[15]]:\n",
        "#     single_plane_images = image_df['file_loc'][[cur_z in z for z in image_df['z']]].values\n",
        "# image_data_list = list()\n",
        "# for path in single_plane_images:\n",
        "#     image_data =cv2.imread(path)\n",
        "#     image_data_list.append(image_data)\n",
        "# order = np.array(list(range(0,5,1)) + list(range(9,4,-1)) + list(range(10,15,1)) + list(range(19,14,-1)) + list(range(20,25,1)))\n",
        "# image_data_list_sorted = [image_data_list[o] for o in order]\n",
        "\n",
        "# fig,ax=plt.subplots(5,5)\n",
        "# ax = ax.flatten()\n",
        "# for i,f in enumerate(image_data_list_sorted):\n",
        "#     ax[i].imshow(f)\n",
        "\n",
        "\n",
        "# subset = image_data_list"
      ],
      "metadata": {
        "id": "T9_SCMkjBkKS"
      },
      "execution_count": 39,
      "outputs": []
    },
    {
      "cell_type": "code",
      "source": [
        "# from stitching.images import Images\n",
        "# paths = single_plane_images\n",
        "# images = Images.of(paths)"
      ],
      "metadata": {
        "id": "gbY9I7HmwoVT"
      },
      "execution_count": 40,
      "outputs": []
    },
    {
      "cell_type": "code",
      "source": [],
      "metadata": {
        "id": "oSm0fKvtxKjn"
      },
      "execution_count": 40,
      "outputs": []
    },
    {
      "cell_type": "code",
      "source": [],
      "metadata": {
        "id": "A9FQiNQQu3Bi"
      },
      "execution_count": 40,
      "outputs": []
    },
    {
      "cell_type": "code",
      "source": [
        "# def plus_mask(img,n=.35,rs=None):\n",
        "#     if rs is None:\n",
        "#         rs = img.shape[:2]\n",
        "#     mask = np.ones_like(img[:,:,0])\n",
        "#     m_shape = np.shape(mask)\n",
        "#     mask[int(m_shape[0]*n):int(m_shape[0]*(1-n)),:] = 0\n",
        "#     mask[:,int(m_shape[1]*n):int(m_shape[1]*(1-n))] = 0\n",
        "#     # mask[int(m_shape[0]*n):int(m_shape[0]*(1-n)),int(m_shape[1]*n):int(m_shape[1]*(1-n))] = 0\n",
        "#     mask = cv2.resize(mask, (rs[1],rs[0]))\n",
        "#     return mask.astype(int)\n",
        "\n",
        "# fig,ax=plt.subplots(1,figsize=(1,1))\n",
        "# plt.imshow(plus_mask(img,n=.35))"
      ],
      "metadata": {
        "id": "MiyXdLvaZ8d9"
      },
      "execution_count": 41,
      "outputs": []
    },
    {
      "cell_type": "code",
      "source": [],
      "metadata": {
        "id": "E4IAvekZAOGW"
      },
      "execution_count": 41,
      "outputs": []
    },
    {
      "cell_type": "code",
      "source": [
        "# [:-1]\n",
        "# len(subset)\n",
        "# single_plane_images = single_plane_images[:-1]\n",
        "# len(subset)"
      ],
      "metadata": {
        "id": "qaWDolNArbEW"
      },
      "execution_count": 42,
      "outputs": []
    },
    {
      "cell_type": "code",
      "source": [
        "# from stitching.images import Images\n",
        "# img = Images.of(subset, medium_megapix=0.96, low_megapix=0.1, final_megapix=-1)\n",
        "# medium_imgs = list(img.resize(Images.Resolution.MEDIUM))\n",
        "# subset = medium_imgs\n",
        "\n",
        "# from stitching.feature_detector import FeatureDetector\n",
        "# finder = FeatureDetector(detector='sift', nfeatures=500)\n",
        "\n",
        "# features = [finder.detect_features(img, plus_mask(img,n=.35) ) for img in subset]\n",
        "\n",
        "# from stitching.feature_matcher import FeatureMatcher\n",
        "# matcher = FeatureMatcher()\n",
        "# matches = matcher.match_features(features)\n",
        "# matcher.get_confidence_matrix(matches)\n",
        "# conf_mat = matcher.get_confidence_matrix(matches)\n",
        "\n",
        "# fig,ax=plt.subplots(5,5,figsize=(8,8))\n",
        "# ax = ax.flatten()\n",
        "# for i,(img,feat) in enumerate(zip(subset,features)):\n",
        "#     img_h = img.copy()\n",
        "#     img_h[:,:,2] = plus_mask(img,n=.35)*255\n",
        "#     ax[order[i]].imshow(img_h)\n",
        "#     ax[order[i]].set_xticks([])\n",
        "#     ax[order[i]].set_yticks([])\n",
        "#     for k in feat.keypoints:\n",
        "#         ax[order[i]].scatter(k.pt[0],k.pt[1],s=1,color='m')\n",
        "#         ax[order[i]].set_title(i)\n",
        "\n",
        "\n",
        "# conf_mat = matcher.get_confidence_matrix(matches)\n",
        "# conf_mat[conf_mat==0]=np.nan\n",
        "# fig,ax=plt.subplots(1,figsize=(5,5))\n",
        "# cb=ax.imshow(conf_mat)\n",
        "# plt.colorbar(cb)\n",
        "# ax.grid('on')\n",
        "# np.nanmin(conf_mat,1)\n",
        "\n",
        "# from stitching.subsetter import Subsetter\n",
        "# subsetter = Subsetter()\n",
        "# dot_notation = subsetter.get_matches_graph([str(i) for i in range(25)], matches)\n",
        "# print(dot_notation)\n",
        "\n"
      ],
      "metadata": {
        "id": "foe__wHoQ8WP"
      },
      "execution_count": 43,
      "outputs": []
    },
    {
      "cell_type": "code",
      "source": [
        "\n",
        "# fig,ax=plt.subplots(5,5,figsize=(8,8))\n",
        "# ax = ax.flatten()\n",
        "# for i,img in enumerate(warped_final_imgs):\n",
        "#     ax[order[i]].imshow(img)\n",
        "#     ax[order[i]].set_xticks([])\n",
        "#     ax[order[i]].set_yticks([])\n",
        "#     ax[order[i]].set_title(i)"
      ],
      "metadata": {
        "id": "fNcvNdyZ0xvu"
      },
      "execution_count": 44,
      "outputs": []
    },
    {
      "cell_type": "code",
      "source": [
        "# def plot_image(img, figsize_in_inches=(5,5)):\n",
        "#     fig, ax = plt.subplots(figsize=figsize_in_inches)\n",
        "#     ax.imshow(cv2.cvtColor(img, cv2.COLOR_BGR2RGB))\n",
        "#     plt.show()\n",
        "\n",
        "# def plot_images(imgs, figsize_in_inches=(5,5)):\n",
        "#     fig, axs = plt.subplots(1, len(imgs), figsize=figsize_in_inches)\n",
        "#     for col, img in enumerate(imgs):\n",
        "#         axs[col].imshow(cv2.cvtColor(img, cv2.COLOR_BGR2RGB))\n",
        "#     plt.show()"
      ],
      "metadata": {
        "id": "KOOqXLcu2thc"
      },
      "execution_count": 45,
      "outputs": []
    },
    {
      "cell_type": "code",
      "source": [
        "########################################## AFFINE ####################################################"
      ],
      "metadata": {
        "id": "KLDxwdsftYCb"
      },
      "execution_count": 46,
      "outputs": []
    },
    {
      "cell_type": "code",
      "source": [
        "# from stitching import AffineStitcher\n",
        "# orig_mega_pix = .720\n",
        "# settings = { \"confidence_threshold\": 1.2,\"low_megapix\":.7,'medium_megapix':.7}\n",
        "\n",
        "# aff_stitcher = AffineStitcher(**settings)\n",
        "\n",
        "# panorama = aff_stitcher.stitch(subset)"
      ],
      "metadata": {
        "id": "n9yMHT6BYsjD"
      },
      "execution_count": 47,
      "outputs": []
    },
    {
      "cell_type": "code",
      "source": [],
      "metadata": {
        "id": "ATKmYFF6apvH"
      },
      "execution_count": 47,
      "outputs": []
    },
    {
      "cell_type": "code",
      "source": [
        "\n",
        "# panorama = aff_stitcher.stitch(subset)\n",
        "\n",
        "# images = Images.of(list(single_plane_images))\n",
        "# medium_imgs = list(images.resize(Images.Resolution.FINAL))\n",
        "# low_imgs = list(images.resize(Images.Resolution.MEDIUM))\n",
        "# final_imgs = list(images.resize(Images.Resolution.FINAL))\n",
        "\n",
        "\n",
        "# final_imgs\n"
      ],
      "metadata": {
        "id": "AD6S0Mku4Vu6"
      },
      "execution_count": 48,
      "outputs": []
    },
    {
      "cell_type": "code",
      "source": [
        "single_plane_images"
      ],
      "metadata": {
        "id": "UuH7zKNChZxg",
        "outputId": "b86c566f-680a-4d42-a400-52f2e3017c0a",
        "colab": {
          "base_uri": "https://localhost:8080/"
        }
      },
      "execution_count": 49,
      "outputs": [
        {
          "output_type": "execute_result",
          "data": {
            "text/plain": [
              "array(['C:\\\\Users\\\\dennis.tabuena\\\\Dropbox (Gladstone)\\\\0_Projects\\\\_Hyper+Crisper\\\\Morphological_Analysis\\\\TestNeuron1\\\\TestNeuron1_00001_Z016_CH4.tif',\n",
              "       'C:\\\\Users\\\\dennis.tabuena\\\\Dropbox (Gladstone)\\\\0_Projects\\\\_Hyper+Crisper\\\\Morphological_Analysis\\\\TestNeuron1\\\\TestNeuron1_00002_Z016_CH4.tif',\n",
              "       'C:\\\\Users\\\\dennis.tabuena\\\\Dropbox (Gladstone)\\\\0_Projects\\\\_Hyper+Crisper\\\\Morphological_Analysis\\\\TestNeuron1\\\\TestNeuron1_00003_Z016_CH4.tif',\n",
              "       'C:\\\\Users\\\\dennis.tabuena\\\\Dropbox (Gladstone)\\\\0_Projects\\\\_Hyper+Crisper\\\\Morphological_Analysis\\\\TestNeuron1\\\\TestNeuron1_00004_Z016_CH4.tif',\n",
              "       'C:\\\\Users\\\\dennis.tabuena\\\\Dropbox (Gladstone)\\\\0_Projects\\\\_Hyper+Crisper\\\\Morphological_Analysis\\\\TestNeuron1\\\\TestNeuron1_00005_Z016_CH4.tif',\n",
              "       'C:\\\\Users\\\\dennis.tabuena\\\\Dropbox (Gladstone)\\\\0_Projects\\\\_Hyper+Crisper\\\\Morphological_Analysis\\\\TestNeuron1\\\\TestNeuron1_00006_Z016_CH4.tif',\n",
              "       'C:\\\\Users\\\\dennis.tabuena\\\\Dropbox (Gladstone)\\\\0_Projects\\\\_Hyper+Crisper\\\\Morphological_Analysis\\\\TestNeuron1\\\\TestNeuron1_00007_Z016_CH4.tif',\n",
              "       'C:\\\\Users\\\\dennis.tabuena\\\\Dropbox (Gladstone)\\\\0_Projects\\\\_Hyper+Crisper\\\\Morphological_Analysis\\\\TestNeuron1\\\\TestNeuron1_00008_Z016_CH4.tif',\n",
              "       'C:\\\\Users\\\\dennis.tabuena\\\\Dropbox (Gladstone)\\\\0_Projects\\\\_Hyper+Crisper\\\\Morphological_Analysis\\\\TestNeuron1\\\\TestNeuron1_00009_Z016_CH4.tif',\n",
              "       'C:\\\\Users\\\\dennis.tabuena\\\\Dropbox (Gladstone)\\\\0_Projects\\\\_Hyper+Crisper\\\\Morphological_Analysis\\\\TestNeuron1\\\\TestNeuron1_00010_Z016_CH4.tif',\n",
              "       'C:\\\\Users\\\\dennis.tabuena\\\\Dropbox (Gladstone)\\\\0_Projects\\\\_Hyper+Crisper\\\\Morphological_Analysis\\\\TestNeuron1\\\\TestNeuron1_00011_Z016_CH4.tif',\n",
              "       'C:\\\\Users\\\\dennis.tabuena\\\\Dropbox (Gladstone)\\\\0_Projects\\\\_Hyper+Crisper\\\\Morphological_Analysis\\\\TestNeuron1\\\\TestNeuron1_00012_Z016_CH4.tif',\n",
              "       'C:\\\\Users\\\\dennis.tabuena\\\\Dropbox (Gladstone)\\\\0_Projects\\\\_Hyper+Crisper\\\\Morphological_Analysis\\\\TestNeuron1\\\\TestNeuron1_00013_Z016_CH4.tif',\n",
              "       'C:\\\\Users\\\\dennis.tabuena\\\\Dropbox (Gladstone)\\\\0_Projects\\\\_Hyper+Crisper\\\\Morphological_Analysis\\\\TestNeuron1\\\\TestNeuron1_00014_Z016_CH4.tif',\n",
              "       'C:\\\\Users\\\\dennis.tabuena\\\\Dropbox (Gladstone)\\\\0_Projects\\\\_Hyper+Crisper\\\\Morphological_Analysis\\\\TestNeuron1\\\\TestNeuron1_00015_Z016_CH4.tif',\n",
              "       'C:\\\\Users\\\\dennis.tabuena\\\\Dropbox (Gladstone)\\\\0_Projects\\\\_Hyper+Crisper\\\\Morphological_Analysis\\\\TestNeuron1\\\\TestNeuron1_00016_Z016_CH4.tif',\n",
              "       'C:\\\\Users\\\\dennis.tabuena\\\\Dropbox (Gladstone)\\\\0_Projects\\\\_Hyper+Crisper\\\\Morphological_Analysis\\\\TestNeuron1\\\\TestNeuron1_00017_Z016_CH4.tif',\n",
              "       'C:\\\\Users\\\\dennis.tabuena\\\\Dropbox (Gladstone)\\\\0_Projects\\\\_Hyper+Crisper\\\\Morphological_Analysis\\\\TestNeuron1\\\\TestNeuron1_00018_Z016_CH4.tif',\n",
              "       'C:\\\\Users\\\\dennis.tabuena\\\\Dropbox (Gladstone)\\\\0_Projects\\\\_Hyper+Crisper\\\\Morphological_Analysis\\\\TestNeuron1\\\\TestNeuron1_00019_Z016_CH4.tif',\n",
              "       'C:\\\\Users\\\\dennis.tabuena\\\\Dropbox (Gladstone)\\\\0_Projects\\\\_Hyper+Crisper\\\\Morphological_Analysis\\\\TestNeuron1\\\\TestNeuron1_00020_Z016_CH4.tif',\n",
              "       'C:\\\\Users\\\\dennis.tabuena\\\\Dropbox (Gladstone)\\\\0_Projects\\\\_Hyper+Crisper\\\\Morphological_Analysis\\\\TestNeuron1\\\\TestNeuron1_00021_Z016_CH4.tif',\n",
              "       'C:\\\\Users\\\\dennis.tabuena\\\\Dropbox (Gladstone)\\\\0_Projects\\\\_Hyper+Crisper\\\\Morphological_Analysis\\\\TestNeuron1\\\\TestNeuron1_00022_Z016_CH4.tif',\n",
              "       'C:\\\\Users\\\\dennis.tabuena\\\\Dropbox (Gladstone)\\\\0_Projects\\\\_Hyper+Crisper\\\\Morphological_Analysis\\\\TestNeuron1\\\\TestNeuron1_00023_Z016_CH4.tif',\n",
              "       'C:\\\\Users\\\\dennis.tabuena\\\\Dropbox (Gladstone)\\\\0_Projects\\\\_Hyper+Crisper\\\\Morphological_Analysis\\\\TestNeuron1\\\\TestNeuron1_00024_Z016_CH4.tif',\n",
              "       'C:\\\\Users\\\\dennis.tabuena\\\\Dropbox (Gladstone)\\\\0_Projects\\\\_Hyper+Crisper\\\\Morphological_Analysis\\\\TestNeuron1\\\\TestNeuron1_00025_Z016_CH4.tif'],\n",
              "      dtype=object)"
            ]
          },
          "metadata": {},
          "execution_count": 49
        }
      ]
    },
    {
      "cell_type": "code",
      "source": [
        "# features = aff_stitcher.find_features(subset)\n",
        "\n",
        "\n",
        "# fig,ax=plt.subplots(5,5,figsize=(8,8))\n",
        "# ax = ax.flatten()\n",
        "# for i,(img,feat) in enumerate(zip(subset,features)):\n",
        "#     img_h = img.copy()\n",
        "#     # img_h[:,:,2] = plus_mask(img,n=.35)*255\n",
        "#     ax[order[i]].imshow(img_h)\n",
        "#     ax[order[i]].set_xticks([])\n",
        "#     ax[order[i]].set_yticks([])\n",
        "#     for k in feat.keypoints:\n",
        "#         ax[order[i]].scatter(k.pt[0],k.pt[1],s=1,color='m')\n",
        "#         ax[order[i]].set_title(i)\n",
        "\n",
        "# matches = aff_stitcher.match_features(features)\n",
        "# conf_mat = aff_stitcher.matcher.get_confidence_matrix(matches)\n",
        "# conf_mat[conf_mat==0]=np.nan\n",
        "# fig,ax=plt.subplots(1,figsize=(5,5))\n",
        "# cb=ax.imshow(conf_mat,vmin=0.5)\n",
        "# plt.colorbar(cb)\n",
        "# ax.grid('on')\n",
        "# np.nanmax(conf_mat,1)\n",
        "\n",
        "\n"
      ],
      "metadata": {
        "id": "LmPYeda263ub"
      },
      "execution_count": 50,
      "outputs": []
    },
    {
      "cell_type": "code",
      "source": [],
      "metadata": {
        "id": "_vvM4fZHF1Ke"
      },
      "execution_count": 50,
      "outputs": []
    },
    {
      "cell_type": "code",
      "source": [
        "# cameras = aff_stitcher.camera_estimator.estimate(features, matches)\n",
        "# cameras = aff_stitcher.camera_adjuster.adjust(features, matches, cameras)\n",
        "# cameras = aff_stitcher.wave_corrector.correct(cameras)"
      ],
      "metadata": {
        "id": "l2ZZg_aCnx64"
      },
      "execution_count": 51,
      "outputs": []
    },
    {
      "cell_type": "code",
      "source": [
        "\n",
        "# # aff_stitcher.warper.set_scale(cameras)\n",
        "\n",
        "# # low_sizes = images.get_scaled_img_sizes(Images.Resolution.FINAL)\n",
        "# # camera_aspect = images.get_ratio(Images.Resolution.FINAL, Images.Resolution.FINAL)  # since cameras were obtained on medium imgs\n",
        "\n",
        "# # warped_low_imgs = list(aff_stitcher.warper.warp_images(low_imgs, cameras, camera_aspect))\n",
        "# # warped_low_masks = list(aff_stitcher.warper.create_and_warp_masks(low_sizes, cameras, camera_aspect))\n",
        "# # low_corners, low_sizes = aff_stitcher.warper.warp_rois(low_sizes, cameras, camera_aspect)\n",
        "\n",
        "\n",
        "# final_sizes = images.get_scaled_img_sizes(Images.Resolution.FINAL)\n",
        "# camera_aspect = images.get_ratio(Images.Resolution.FINAL, Images.Resolution.FINAL)\n",
        "\n",
        "# warped_final_imgs = list(aff_stitcher.warper.warp_images(final_imgs, cameras, camera_aspect))\n",
        "# warped_final_masks = list(aff_stitcher.warper.create_and_warp_masks(final_sizes, cameras, camera_aspect))\n",
        "# final_corners, final_sizes = aff_stitcher.warper.warp_rois(final_sizes, cameras, camera_aspect)\n",
        "\n",
        "\n",
        "# fig,ax=plt.subplots(5,5,figsize=(8,8))\n",
        "# ax = ax.flatten()\n",
        "# for i,img in enumerate(warped_final_imgs):\n",
        "#     ax[order[i]].imshow(img)\n",
        "#     # ax[order[i]].set_xticks([])\n",
        "#     # ax[order[i]].set_yticks([])\n",
        "#     ax[order[i]].set_title(i)"
      ],
      "metadata": {
        "id": "w9S_Ql1Wn1S8"
      },
      "execution_count": 52,
      "outputs": []
    },
    {
      "cell_type": "code",
      "source": [
        "# cropper = aff_stitcher.cropper\n",
        "# mask = cropper.estimate_panorama_mask(warped_low_imgs, warped_low_masks, low_corners, low_sizes)\n",
        "# plot_image(mask, (2,2))\n",
        "# lir = cropper.estimate_largest_interior_rectangle(mask)\n",
        "\n",
        "# plot = lir.draw_on(mask, size=2)\n",
        "# # plot_image(plot, (2,2))\n",
        "\n",
        "# low_corners = cropper.get_zero_center_corners(low_corners)\n",
        "# rectangles = cropper.get_rectangles(low_corners, low_sizes)\n",
        "# plot = rectangles[1].draw_on(plot, (0, 255, 0), 2)  # The rectangle of the center img\n",
        "# plot_image(plot, (2,2))\n",
        "# overlap = cropper.get_overlap(rectangles[1], lir)\n",
        "# plot = overlap.draw_on(plot, (255, 0, 0), 2)\n",
        "# # plot_image(plot, (5,5))\n",
        "\n",
        "\n",
        "# cropper.prepare(warped_low_imgs, warped_low_masks, low_corners, low_sizes)\n",
        "\n",
        "# cropped_low_masks = list(cropper.crop_images(warped_low_masks))\n",
        "# cropped_low_imgs = list(cropper.crop_images(warped_low_imgs))\n",
        "# low_corners, low_sizes = cropper.crop_rois(low_corners, low_sizes)\n",
        "\n",
        "# lir_aspect = images.get_ratio(Images.Resolution.FINAL, Images.Resolution.FINAL)  # since lir was obtained on low imgs\n",
        "# cropped_final_masks = list(cropper.crop_images(warped_final_masks, lir_aspect))\n",
        "# cropped_final_imgs = list(cropper.crop_images(warped_final_imgs, lir_aspect))\n",
        "# final_corners, final_sizes = cropper.crop_rois(final_corners, final_sizes, lir_aspect)"
      ],
      "metadata": {
        "id": "GDg20w821SVh"
      },
      "execution_count": 53,
      "outputs": []
    },
    {
      "cell_type": "code",
      "source": [
        "# seam_finder = aff_stitcher.seam_finder\n",
        "\n",
        "# seam_masks = seam_finder.find(cropped_low_imgs, low_corners, cropped_low_masks)\n",
        "# seam_masks = [seam_finder.resize(seam_mask, mask) for seam_mask, mask in zip(seam_masks, cropped_final_masks)]\n",
        "\n",
        "# seam_masks_plots = [SeamFinder.draw_seam_mask(img, seam_mask) for img, seam_mask in zip(cropped_final_imgs, seam_masks)]\n"
      ],
      "metadata": {
        "id": "8H2XEeTj_XwW"
      },
      "execution_count": 54,
      "outputs": []
    },
    {
      "cell_type": "code",
      "source": [
        "# compensator = aff_stitcher.compensator\n",
        "\n",
        "# compensator.feed(low_corners, cropped_low_imgs, cropped_low_masks)\n",
        "\n",
        "# compensated_imgs = [compensator.apply(idx, corner, img, mask)\n",
        "#                     for idx, (img, mask, corner)\n",
        "#                     in enumerate(zip(cropped_final_imgs, cropped_final_masks, final_corners))]"
      ],
      "metadata": {
        "id": "ODaKPg3nAUYQ"
      },
      "execution_count": 55,
      "outputs": []
    },
    {
      "cell_type": "code",
      "source": [],
      "metadata": {
        "id": "vTVqj1gFYCVx"
      },
      "execution_count": 55,
      "outputs": []
    },
    {
      "cell_type": "code",
      "source": [
        "\n",
        "\n",
        "# blender = aff_stitcher.blender\n",
        "# blender.prepare(final_corners, final_sizes)`\n",
        "# for img, mask, corner in zip(compensated_imgs, seam_masks, final_corners):\n",
        "#     blender.feed(img, mask, corner)\n",
        "# panorama, _ = blender.blend()\n",
        "\n",
        "\n",
        "# dm = 12\n",
        "# fig,ax=plt.subplots(1,2,figsize=(2*dm,dm*.75))\n",
        "# ax[0].imshow(panorama)\n",
        "# ax[1].imshow(stack_snake(subset,row_n=5))\n",
        "\n",
        "\n"
      ],
      "metadata": {
        "id": "fNaRUoa6-53O"
      },
      "execution_count": 56,
      "outputs": []
    },
    {
      "cell_type": "code",
      "source": [
        "def aff_stitch_og_size(my_images,img_paths,r,c=None):\n",
        "    from stitching.images import Images\n",
        "    from stitching import AffineStitcher\n",
        "\n",
        "    images = Images.of(list(img_paths))\n",
        "    medium_imgs = list(images.resize(Images.Resolution.FINAL))\n",
        "    low_imgs = list(images.resize(Images.Resolution.FINAL))\n",
        "    final_imgs = list(images.resize(Images.Resolution.FINAL))\n",
        "\n",
        "\n",
        "    \"\"\" INIT Stitcher \"\"\"\n",
        "    settings = { \"confidence_threshold\": 1.2,\"low_megapix\":.7,'medium_megapix':.7}\n",
        "    aff_stitcher = AffineStitcher(**settings)\n",
        "\n",
        "\n",
        "    \"\"\" Feature Detection \"\"\"\n",
        "    features = aff_stitcher.find_features(my_images)\n",
        "    ##\n",
        "    fig,ax=plt.subplots(5,5,figsize=(8,8))\n",
        "    ax = ax.flatten()\n",
        "    # for i,(img,feat) in enumerate(zip(my_images,features)):\n",
        "    #     img_h = img.copy()\n",
        "    #     # img_h[:,:,2] = plus_mask(img,n=.35)*255\n",
        "    #     ax[order[i]].imshow(img_h)\n",
        "    #     ax[order[i]].set_xticks([])\n",
        "    #     ax[order[i]].set_yticks([])\n",
        "    #     for k in feat.keypoints:\n",
        "    #         ax[order[i]].scatter(k.pt[0],k.pt[1],s=1,color='m')\n",
        "    #         ax[order[i]].set_title(i)\n",
        "\n",
        "    \"\"\" Matching \"\"\"\n",
        "    matches = aff_stitcher.match_features(features)\n",
        "    conf_mat = aff_stitcher.matcher.get_confidence_matrix(matches)\n",
        "    conf_mat[conf_mat==0]=np.nan\n",
        "    indicies = aff_stitcher.subsetter.get_indices_to_keep(features,matches)\n",
        "    dot_notation = aff_stitcher.subsetter.get_matches_graph([str(i) for i in range(25)], matches)\n",
        "    ##\n",
        "    # fig,ax=plt.subplots(1,figsize=(5,5))\n",
        "    # cb=ax.imshow(conf_mat,vmin=0.5)\n",
        "    # plt.colorbar(cb)\n",
        "    # ax.grid('on')\n",
        "    # np.nanmax(conf_mat,1)\n",
        "\n",
        "    \"\"\" Solve Warp \"\"\"\n",
        "    cameras = aff_stitcher.camera_estimator.estimate(features, matches)\n",
        "    cameras = aff_stitcher.camera_adjuster.adjust(features, matches, cameras)\n",
        "    cameras = aff_stitcher.wave_corrector.correct(cameras)\n",
        "\n",
        "    final_sizes = images.get_scaled_img_sizes(Images.Resolution.FINAL)\n",
        "    camera_aspect = images.get_ratio(Images.Resolution.FINAL, Images.Resolution.FINAL)\n",
        "\n",
        "    warped_final_imgs = list(aff_stitcher.warper.warp_images(final_imgs, cameras, camera_aspect))\n",
        "    warped_final_masks = list(aff_stitcher.warper.create_and_warp_masks(final_sizes, cameras, camera_aspect))\n",
        "    final_corners, final_sizes = aff_stitcher.warper.warp_rois(final_sizes, cameras, camera_aspect)\n",
        "    ##\n",
        "    # fig,ax=plt.subplots(5,5,figsize=(8,8))\n",
        "    # ax = ax.flatten()\n",
        "    # for i,img in enumerate(warped_final_imgs):\n",
        "    #     ax[order[i]].imshow(img)\n",
        "    #     # ax[order[i]].set_xticks([])\n",
        "    #     # ax[order[i]].set_yticks([])\n",
        "    #     ax[order[i]].set_title(i)\n",
        "\n",
        "\n",
        "    \"\"\" Cropping \"\"\"\n",
        "    lir_aspect = images.get_ratio(Images.Resolution.FINAL, Images.Resolution.FINAL)  # since lir was obtained on low imgs\n",
        "    cropped_final_masks = list(cropper.crop_images(warped_final_masks, lir_aspect))\n",
        "    cropped_final_imgs = list(cropper.crop_images(warped_final_imgs, lir_aspect))\n",
        "    final_corners, final_sizes = cropper.crop_rois(final_corners, final_sizes, lir_aspect)\n",
        "\n",
        "    \"\"\" Seams \"\"\"\n",
        "    seam_finder = aff_stitcher.seam_finder\n",
        "    seam_masks = seam_finder.find(cropped_final_imgs, final_corners, cropped_final_masks)\n",
        "    seam_masks_plots = [SeamFinder.draw_seam_mask(img, seam_mask) for img, seam_mask in zip(cropped_final_imgs, seam_masks)]\n",
        "\n",
        "    \"\"\" Exposure Comp \"\"\"\n",
        "    compensator = aff_stitcher.compensator\n",
        "    compensator.feed(low_corners, cropped_final_imgs, cropped_final_masks)\n",
        "    compensated_imgs = [compensator.apply(idx, corner, img, mask)\n",
        "                        for idx, (img, mask, corner)\n",
        "                        in enumerate(zip(cropped_final_imgs, cropped_final_masks, final_corners))]\n",
        "\n",
        "    \"\"\" Blend \"\"\"\n",
        "    blender = aff_stitcher.blender\n",
        "    blender.prepare(final_corners, final_sizes)\n",
        "    for img, mask, corner in zip(compensated_imgs, seam_masks, final_corners):\n",
        "        blender.feed(img, mask, corner)\n",
        "    panorama, _ = blender.blend()\n",
        "\n",
        "    return panorama, cameras\n",
        "# stitched_plane, z_cams = aff_stitch_og_size(subset,single_plane_images,r=5)"
      ],
      "metadata": {
        "id": "WV2GKGdpoaUz"
      },
      "execution_count": 64,
      "outputs": []
    },
    {
      "cell_type": "code",
      "source": [],
      "metadata": {
        "id": "HBEMO6AwfBQU"
      },
      "execution_count": 57,
      "outputs": []
    },
    {
      "cell_type": "code",
      "source": [
        "from tqdm import tqdm"
      ],
      "metadata": {
        "id": "2EUdwhWGzcva"
      },
      "execution_count": 58,
      "outputs": []
    },
    {
      "cell_type": "code",
      "source": [
        "cam_list = list()\n",
        "stich_list = list()\n",
        "for cur_z in tqdm( z_planes ):\n",
        "    try:\n",
        "        z_plane_image_paths = image_df['file_loc'][[cur_z in z for z in image_df['z']]].values\n",
        "        z_plane_image_data = [cv2.imread(path)  for path in z_plane_image_paths]\n",
        "        stitched_plane, z_cams = aff_stitch_og_size(z_plane_image_data,single_plane_images,r=5)\n",
        "    except:\n",
        "        z_cams = list()\n",
        "        stitched_plane = list()\n",
        "    plt.imshow(stitched_plane)\n",
        "    plt.show()\n",
        "    stich_list.append(stitched_plane)\n",
        "    cam_list.append(z_cams)\n"
      ],
      "metadata": {
        "id": "KSDUNFF6yanO",
        "outputId": "11dbc405-76d8-442b-bfdc-f16653cb9490",
        "colab": {
          "base_uri": "https://localhost:8080/"
        }
      },
      "execution_count": null,
      "outputs": [
        {
          "output_type": "stream",
          "name": "stderr",
          "text": [
            "  8%|████████████▏                                                                                                                                             | 9/114 [00:17<04:58,  2.85s/it]C:\\Users\\dennis.tabuena\\AppData\\Local\\Temp\\ipykernel_18664\\2802828175.py:42: RuntimeWarning: All-NaN slice encountered\n",
            "  np.nanmax(conf_mat,1)\n",
            " 13%|████████████████████▏                                                                                                                                    | 15/114 [01:27<19:15, 11.68s/it]C:\\Users\\dennis.tabuena\\AppData\\Local\\Temp\\ipykernel_18664\\2802828175.py:38: RuntimeWarning: More than 20 figures have been opened. Figures created through the pyplot interface (`matplotlib.pyplot.figure`) are retained until explicitly closed and may consume too much memory. (To control this warning, see the rcParam `figure.max_open_warning`). Consider using `matplotlib.pyplot.close()`.\n",
            "  fig,ax=plt.subplots(1,figsize=(5,5))\n",
            " 16%|████████████████████████▏                                                                                                                                | 18/114 [01:50<13:54,  8.70s/it]"
          ]
        }
      ]
    }
  ]
}