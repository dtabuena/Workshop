{
  "nbformat": 4,
  "nbformat_minor": 0,
  "metadata": {
    "colab": {
      "provenance": [],
      "authorship_tag": "ABX9TyNmxbRWpa8FP1ltE8nBjpwY",
      "include_colab_link": true
    },
    "kernelspec": {
      "name": "python3",
      "display_name": "Python 3"
    },
    "language_info": {
      "name": "python"
    }
  },
  "cells": [
    {
      "cell_type": "markdown",
      "metadata": {
        "id": "view-in-github",
        "colab_type": "text"
      },
      "source": [
        "<a href=\"https://colab.research.google.com/github/dtabuena/Workshop/blob/main/Image/Test_Stitch.ipynb\" target=\"_parent\"><img src=\"https://colab.research.google.com/assets/colab-badge.svg\" alt=\"Open In Colab\"/></a>"
      ]
    },
    {
      "cell_type": "code",
      "source": [
        "!pip install opencv-python"
      ],
      "metadata": {
        "id": "yZepJZrbZbwN",
        "outputId": "33174e10-dbb6-425f-edd9-35c453fdd2a9",
        "colab": {
          "base_uri": "https://localhost:8080/"
        }
      },
      "execution_count": 22,
      "outputs": [
        {
          "output_type": "stream",
          "name": "stdout",
          "text": [
            "Requirement already satisfied: opencv-python in c:\\users\\dennis.tabuena\\appdata\\local\\anaconda3\\lib\\site-packages (4.9.0.80)\n",
            "Requirement already satisfied: numpy>=1.21.2 in c:\\users\\dennis.tabuena\\appdata\\local\\anaconda3\\lib\\site-packages (from opencv-python) (1.24.3)\n"
          ]
        }
      ]
    },
    {
      "cell_type": "code",
      "execution_count": 23,
      "metadata": {
        "id": "c4GHHpca71xz"
      },
      "outputs": [],
      "source": [
        "import os\n",
        "import pandas as pd\n",
        "from matplotlib import pyplot as plt\n",
        "import numpy as np\n",
        "import cv2"
      ]
    },
    {
      "cell_type": "code",
      "source": [
        "image_set_dir = \"C:\\\\Users\\\\dennis.tabuena\\\\Dropbox (Gladstone)\\\\0_Projects\\\\_Hyper+Crisper\\\\Morphological_Analysis\\\\TestNeuron1\\\\\"\n",
        "image_set_prefix = 'Test_Neuron1'\n",
        "\n",
        "os.chdir(image_set_dir)\n",
        "\n",
        "tif_list=list()\n",
        "for dir,root,files in os.walk(image_set_dir):\n",
        "    for f in files:\n",
        "        if 'CH4.tif' in f:\n",
        "            tif_list.append(os.path.join(dir,f))\n"
      ],
      "metadata": {
        "id": "zyjzHKiA8T13"
      },
      "execution_count": 24,
      "outputs": []
    },
    {
      "cell_type": "code",
      "source": [
        "pd_dict = {'file_loc': [t for t in tif_list],\n",
        "           'xy': [t.split(\"_\")[-3] for t in tif_list],\n",
        "           'z': [t.split(\"_\")[-2] for t in tif_list]}\n",
        "image_df = pd.DataFrame(pd_dict)\n",
        "\n",
        "display(image_df)\n"
      ],
      "metadata": {
        "id": "Oz5C4A_j8TtB",
        "outputId": "13a48cd4-2391-4e9e-c71d-fde4c21af334",
        "colab": {
          "base_uri": "https://localhost:8080/",
          "height": 424
        }
      },
      "execution_count": 25,
      "outputs": [
        {
          "output_type": "display_data",
          "data": {
            "text/plain": [
              "                                               file_loc     xy     z\n",
              "0     C:\\Users\\dennis.tabuena\\Dropbox (Gladstone)\\0_...  00001  Z001\n",
              "1     C:\\Users\\dennis.tabuena\\Dropbox (Gladstone)\\0_...  00001  Z002\n",
              "2     C:\\Users\\dennis.tabuena\\Dropbox (Gladstone)\\0_...  00001  Z003\n",
              "3     C:\\Users\\dennis.tabuena\\Dropbox (Gladstone)\\0_...  00001  Z004\n",
              "4     C:\\Users\\dennis.tabuena\\Dropbox (Gladstone)\\0_...  00001  Z005\n",
              "...                                                 ...    ...   ...\n",
              "2845  C:\\Users\\dennis.tabuena\\Dropbox (Gladstone)\\0_...  00025  Z110\n",
              "2846  C:\\Users\\dennis.tabuena\\Dropbox (Gladstone)\\0_...  00025  Z111\n",
              "2847  C:\\Users\\dennis.tabuena\\Dropbox (Gladstone)\\0_...  00025  Z112\n",
              "2848  C:\\Users\\dennis.tabuena\\Dropbox (Gladstone)\\0_...  00025  Z113\n",
              "2849  C:\\Users\\dennis.tabuena\\Dropbox (Gladstone)\\0_...  00025  Z114\n",
              "\n",
              "[2850 rows x 3 columns]"
            ],
            "text/html": [
              "<div>\n",
              "<style scoped>\n",
              "    .dataframe tbody tr th:only-of-type {\n",
              "        vertical-align: middle;\n",
              "    }\n",
              "\n",
              "    .dataframe tbody tr th {\n",
              "        vertical-align: top;\n",
              "    }\n",
              "\n",
              "    .dataframe thead th {\n",
              "        text-align: right;\n",
              "    }\n",
              "</style>\n",
              "<table border=\"1\" class=\"dataframe\">\n",
              "  <thead>\n",
              "    <tr style=\"text-align: right;\">\n",
              "      <th></th>\n",
              "      <th>file_loc</th>\n",
              "      <th>xy</th>\n",
              "      <th>z</th>\n",
              "    </tr>\n",
              "  </thead>\n",
              "  <tbody>\n",
              "    <tr>\n",
              "      <th>0</th>\n",
              "      <td>C:\\Users\\dennis.tabuena\\Dropbox (Gladstone)\\0_...</td>\n",
              "      <td>00001</td>\n",
              "      <td>Z001</td>\n",
              "    </tr>\n",
              "    <tr>\n",
              "      <th>1</th>\n",
              "      <td>C:\\Users\\dennis.tabuena\\Dropbox (Gladstone)\\0_...</td>\n",
              "      <td>00001</td>\n",
              "      <td>Z002</td>\n",
              "    </tr>\n",
              "    <tr>\n",
              "      <th>2</th>\n",
              "      <td>C:\\Users\\dennis.tabuena\\Dropbox (Gladstone)\\0_...</td>\n",
              "      <td>00001</td>\n",
              "      <td>Z003</td>\n",
              "    </tr>\n",
              "    <tr>\n",
              "      <th>3</th>\n",
              "      <td>C:\\Users\\dennis.tabuena\\Dropbox (Gladstone)\\0_...</td>\n",
              "      <td>00001</td>\n",
              "      <td>Z004</td>\n",
              "    </tr>\n",
              "    <tr>\n",
              "      <th>4</th>\n",
              "      <td>C:\\Users\\dennis.tabuena\\Dropbox (Gladstone)\\0_...</td>\n",
              "      <td>00001</td>\n",
              "      <td>Z005</td>\n",
              "    </tr>\n",
              "    <tr>\n",
              "      <th>...</th>\n",
              "      <td>...</td>\n",
              "      <td>...</td>\n",
              "      <td>...</td>\n",
              "    </tr>\n",
              "    <tr>\n",
              "      <th>2845</th>\n",
              "      <td>C:\\Users\\dennis.tabuena\\Dropbox (Gladstone)\\0_...</td>\n",
              "      <td>00025</td>\n",
              "      <td>Z110</td>\n",
              "    </tr>\n",
              "    <tr>\n",
              "      <th>2846</th>\n",
              "      <td>C:\\Users\\dennis.tabuena\\Dropbox (Gladstone)\\0_...</td>\n",
              "      <td>00025</td>\n",
              "      <td>Z111</td>\n",
              "    </tr>\n",
              "    <tr>\n",
              "      <th>2847</th>\n",
              "      <td>C:\\Users\\dennis.tabuena\\Dropbox (Gladstone)\\0_...</td>\n",
              "      <td>00025</td>\n",
              "      <td>Z112</td>\n",
              "    </tr>\n",
              "    <tr>\n",
              "      <th>2848</th>\n",
              "      <td>C:\\Users\\dennis.tabuena\\Dropbox (Gladstone)\\0_...</td>\n",
              "      <td>00025</td>\n",
              "      <td>Z113</td>\n",
              "    </tr>\n",
              "    <tr>\n",
              "      <th>2849</th>\n",
              "      <td>C:\\Users\\dennis.tabuena\\Dropbox (Gladstone)\\0_...</td>\n",
              "      <td>00025</td>\n",
              "      <td>Z114</td>\n",
              "    </tr>\n",
              "  </tbody>\n",
              "</table>\n",
              "<p>2850 rows × 3 columns</p>\n",
              "</div>"
            ]
          },
          "metadata": {}
        }
      ]
    },
    {
      "cell_type": "code",
      "source": [
        "z_planes = sorted(list(set(image_df['z'])))\n",
        "print(z_planes)\n",
        "\n",
        "for cur_z in [z_planes[15]]:\n",
        "    single_plane_images = image_df['file_loc'][[cur_z in z for z in image_df['z']]].values\n"
      ],
      "metadata": {
        "id": "T9_SCMkjBkKS",
        "outputId": "d5eb425a-80d1-4d93-cc3e-7a2c6df61a9c",
        "colab": {
          "base_uri": "https://localhost:8080/"
        }
      },
      "execution_count": 26,
      "outputs": [
        {
          "output_type": "stream",
          "name": "stdout",
          "text": [
            "['Z001', 'Z002', 'Z003', 'Z004', 'Z005', 'Z006', 'Z007', 'Z008', 'Z009', 'Z010', 'Z011', 'Z012', 'Z013', 'Z014', 'Z015', 'Z016', 'Z017', 'Z018', 'Z019', 'Z020', 'Z021', 'Z022', 'Z023', 'Z024', 'Z025', 'Z026', 'Z027', 'Z028', 'Z029', 'Z030', 'Z031', 'Z032', 'Z033', 'Z034', 'Z035', 'Z036', 'Z037', 'Z038', 'Z039', 'Z040', 'Z041', 'Z042', 'Z043', 'Z044', 'Z045', 'Z046', 'Z047', 'Z048', 'Z049', 'Z050', 'Z051', 'Z052', 'Z053', 'Z054', 'Z055', 'Z056', 'Z057', 'Z058', 'Z059', 'Z060', 'Z061', 'Z062', 'Z063', 'Z064', 'Z065', 'Z066', 'Z067', 'Z068', 'Z069', 'Z070', 'Z071', 'Z072', 'Z073', 'Z074', 'Z075', 'Z076', 'Z077', 'Z078', 'Z079', 'Z080', 'Z081', 'Z082', 'Z083', 'Z084', 'Z085', 'Z086', 'Z087', 'Z088', 'Z089', 'Z090', 'Z091', 'Z092', 'Z093', 'Z094', 'Z095', 'Z096', 'Z097', 'Z098', 'Z099', 'Z100', 'Z101', 'Z102', 'Z103', 'Z104', 'Z105', 'Z106', 'Z107', 'Z108', 'Z109', 'Z110', 'Z111', 'Z112', 'Z113', 'Z114']\n"
          ]
        }
      ]
    },
    {
      "cell_type": "code",
      "source": [
        "def get_square(ind,d=5):\n",
        "    if (ind+1)%d < 1:\n",
        "        return None\n",
        "    if  d**2 < ind+d+1:\n",
        "        return None\n",
        "    else:\n",
        "        ind_01 = ind+d\n",
        "        ind_10 = ind+1\n",
        "        ind_11 = ind+1+d\n",
        "    return [ind,ind_01,ind_10,ind_11]"
      ],
      "metadata": {
        "id": "QopOkgaWn83W"
      },
      "execution_count": 27,
      "outputs": []
    },
    {
      "cell_type": "code",
      "source": [
        "stitcher = cv2.Stitcher_create(mode=1)\n",
        "(status, stitched_full) = stitcher.stitch(image_data_list_sorted)\n",
        "plt.imshow(stitched_full)"
      ],
      "metadata": {
        "id": "9WXu3SZxMxbW",
        "outputId": "a1a0b76b-ca03-4942-bdec-6a101e9dfc83",
        "colab": {
          "base_uri": "https://localhost:8080/",
          "height": 210
        }
      },
      "execution_count": 28,
      "outputs": [
        {
          "output_type": "error",
          "ename": "NameError",
          "evalue": "name 'image_data_list_sorted' is not defined",
          "traceback": [
            "\u001b[1;31m---------------------------------------------------------------------------\u001b[0m",
            "\u001b[1;31mNameError\u001b[0m                                 Traceback (most recent call last)",
            "Cell \u001b[1;32mIn[28], line 2\u001b[0m\n\u001b[0;32m      1\u001b[0m stitcher \u001b[38;5;241m=\u001b[39m cv2\u001b[38;5;241m.\u001b[39mStitcher_create(mode\u001b[38;5;241m=\u001b[39m\u001b[38;5;241m1\u001b[39m)\n\u001b[1;32m----> 2\u001b[0m (status, stitched_full) \u001b[38;5;241m=\u001b[39m stitcher\u001b[38;5;241m.\u001b[39mstitch(image_data_list_sorted)\n\u001b[0;32m      3\u001b[0m plt\u001b[38;5;241m.\u001b[39mimshow(stitched_full)\n",
            "\u001b[1;31mNameError\u001b[0m: name 'image_data_list_sorted' is not defined"
          ]
        }
      ]
    },
    {
      "cell_type": "code",
      "source": [
        "##\n",
        "image1 = image_data_list_sorted[2]\n",
        "image2 = image_data_list_sorted[1]"
      ],
      "metadata": {
        "id": "frdogOKuXabT"
      },
      "execution_count": null,
      "outputs": []
    },
    {
      "cell_type": "code",
      "source": [
        "# Initialize the SIFT feature detector and extractor\n",
        "sift = cv2.SIFT_create( )\n",
        "\n",
        "# Detect keypoints and compute descriptors for both images\n",
        "keypoints1, descriptors1 = sift.detectAndCompute(image1, None)\n",
        "keypoints2, descriptors2 = sift.detectAndCompute(image2, None)\n",
        "\n",
        "\n"
      ],
      "metadata": {
        "id": "ub3GK5UrXM-Q"
      },
      "execution_count": null,
      "outputs": []
    },
    {
      "cell_type": "code",
      "source": [
        "image1_keypoints"
      ],
      "metadata": {
        "id": "h1uEfwIGY6KY"
      },
      "execution_count": null,
      "outputs": []
    }
  ]
}