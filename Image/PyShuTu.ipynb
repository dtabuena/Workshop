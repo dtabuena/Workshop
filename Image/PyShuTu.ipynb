{
  "nbformat": 4,
  "nbformat_minor": 0,
  "metadata": {
    "colab": {
      "provenance": [],
      "authorship_tag": "ABX9TyMDqfO81d5X/5pD+8S8vKtb",
      "include_colab_link": true
    },
    "kernelspec": {
      "name": "python3",
      "display_name": "Python 3"
    },
    "language_info": {
      "name": "python"
    }
  },
  "cells": [
    {
      "cell_type": "markdown",
      "metadata": {
        "id": "view-in-github",
        "colab_type": "text"
      },
      "source": [
        "<a href=\"https://colab.research.google.com/github/dtabuena/Workshop/blob/main/Image/PyShuTu.ipynb\" target=\"_parent\"><img src=\"https://colab.research.google.com/assets/colab-badge.svg\" alt=\"Open In Colab\"/></a>"
      ]
    },
    {
      "cell_type": "code",
      "execution_count": 7,
      "metadata": {
        "id": "APzs8g4S0hL5"
      },
      "outputs": [],
      "source": [
        "# !pip install opencv-python\n",
        "import os\n",
        "import pandas as pd\n",
        "from matplotlib import pyplot as plt\n",
        "import numpy as np\n",
        "import cv2\n",
        "import skimage as ski\n",
        "from tqdm import tqdm\n",
        "import scipy as sci"
      ]
    },
    {
      "cell_type": "code",
      "source": [
        "# (x,y,z) = (695,435,63)\n",
        "# fig,ax =plot_point_data(x,y,z,image_stack,rad=250,lw=.5)"
      ],
      "metadata": {
        "colab": {
          "base_uri": "https://localhost:8080/",
          "height": 159
        },
        "id": "-nBgBzhd1g43",
        "outputId": "e93153bb-a082-4382-e396-ad5238413e7b"
      },
      "execution_count": 4,
      "outputs": [
        {
          "output_type": "error",
          "ename": "NameError",
          "evalue": "name 'plot_point_data' is not defined",
          "traceback": [
            "\u001b[1;31m---------------------------------------------------------------------------\u001b[0m",
            "\u001b[1;31mNameError\u001b[0m                                 Traceback (most recent call last)",
            "Cell \u001b[1;32mIn[4], line 2\u001b[0m\n\u001b[0;32m      1\u001b[0m (x,y,z) \u001b[38;5;241m=\u001b[39m (\u001b[38;5;241m695\u001b[39m,\u001b[38;5;241m435\u001b[39m,\u001b[38;5;241m63\u001b[39m)\n\u001b[1;32m----> 2\u001b[0m fig,ax \u001b[38;5;241m=\u001b[39mplot_point_data(x,y,z,image_stack,rad\u001b[38;5;241m=\u001b[39m\u001b[38;5;241m250\u001b[39m,lw\u001b[38;5;241m=\u001b[39m\u001b[38;5;241m.5\u001b[39m)\n",
            "\u001b[1;31mNameError\u001b[0m: name 'plot_point_data' is not defined"
          ]
        }
      ]
    },
    {
      "cell_type": "code",
      "source": [],
      "metadata": {
        "id": "TeXHdE-L1Yi5"
      },
      "execution_count": 5,
      "outputs": []
    },
    {
      "cell_type": "code",
      "source": [
        "\"\"\" Helper Plotting\"\"\"\n",
        "def plot_point_data(x,y,z,image_stack,vmin=None,vmax=None,lw=.2,figsize=(3,2.7),cmap='gray',rad=None):\n",
        "    # () = xyz\n",
        "\n",
        "    if rad is not None:\n",
        "        min_x = np.max([x-rad,0])\n",
        "        max_x = np.min([x+rad,image_stack.shape[0]])\n",
        "        min_y = np.max([y-rad,0])\n",
        "        max_y = np.min([y+rad,image_stack.shape[1]])\n",
        "        image_stack = image_stack[min_y:max_y,min_x:max_x,:]\n",
        "        x=rad\n",
        "        y=rad\n",
        "\n",
        "    fig,ax=plt.subplots(2,2,width_ratios=[5, 1],height_ratios=(5,1),figsize=figsize,dpi=300)\n",
        "    ax[1,1].axis('off')\n",
        "\n",
        "    ax[0,0].imshow(image_stack[:,:,z],aspect='auto',vmin=vmin,vmax=vmax,cmap=cmap,zorder=-1)\n",
        "    ax[0,0].axvline(x,color='m',linewidth=lw)\n",
        "    ax[0,0].axhline(y,color='c',linewidth=lw)\n",
        "\n",
        "    collapse_x = image_stack[y,:,:].T\n",
        "    ax[1,0].imshow(collapse_x,aspect='auto',vmin=vmin,vmax=vmax,cmap=cmap,zorder=-1)\n",
        "    ax[1,0].axhline(z,color='y',linewidth=lw)\n",
        "    ax[1,0].axvline(x,color='m',linewidth=lw)\n",
        "\n",
        "    collapse_y =image_stack[:,x,:]\n",
        "    print(collapse_y.shape)\n",
        "    ax[0,1].imshow(collapse_y,aspect='auto',vmin=vmin,vmax=vmax,cmap=cmap,zorder=-1)\n",
        "    ax[0,1].axvline(z,color='y',linewidth=lw)\n",
        "    ax[0,1].axhline(y,color='c',linewidth=lw)\n",
        "\n",
        "    return fig,ax\n",
        "\n",
        "def uint8_invert(image):\n",
        "    return ((-1*(image.astype(float)-127.5)) + 127.5).astype(\"uint8\")"
      ],
      "metadata": {
        "id": "8ZM2yNLJ04Gj"
      },
      "execution_count": 8,
      "outputs": []
    },
    {
      "cell_type": "code",
      "source": [
        "\"\"\" Load Pilot Image\"\"\"\n",
        "image_set_dir = \"C:\\\\Users\\\\dennis.tabuena\\\\Dropbox (Gladstone)\\\\0_Projects\\\\_Hyper+Crisper\\\\Morphological_Analysis\\\\CA1\\\\\"\n",
        "image_tag = 'Overlay'\n",
        "os.chdir(image_set_dir)\n",
        "tif_list=list()\n",
        "for dir,root,files in os.walk(image_set_dir):\n",
        "    for f in files:\n",
        "        if image_tag in f:\n",
        "            tif_list.append(os.path.join(dir,f))\n",
        "pd_dict = {'file_loc': [t for t in tif_list],\n",
        "           'z': [t.split(\"_\")[-2] for t in tif_list]}\n",
        "image_df = pd.DataFrame(pd_dict)\n",
        "\"\"\"Build Stack\"\"\"\n",
        "image_stack = list()\n",
        "for path in tqdm( image_df['file_loc'] ):\n",
        "    image_data =cv2.imread(path)\n",
        "    image_data = image_data[:,:,1]\n",
        "    image_stack.append(image_data)\n",
        "image_stack=np.stack(image_stack,axis=-1)\n",
        "# print(image_stack.shape)\n"
      ],
      "metadata": {
        "colab": {
          "base_uri": "https://localhost:8080/"
        },
        "id": "AAJt3Cl109d6",
        "outputId": "a022fd4f-50b0-43ce-82b6-1b625dfaeee2"
      },
      "execution_count": 9,
      "outputs": [
        {
          "output_type": "stream",
          "name": "stderr",
          "text": [
            "100%|████████████████████████████████████████████████████████████████████████████████| 172/172 [00:10<00:00, 16.86it/s]\n"
          ]
        }
      ]
    },
    {
      "cell_type": "code",
      "source": [
        "def build_filter_set(filter_params,top=np.pi):\n",
        "    \"\"\" build a list of filters at different angles (thetas) \"\"\"\n",
        "    theta_list = np.arange(0,1,1/filter_params['n_kernel']) * top\n",
        "    filter_list = list()\n",
        "    for theta in theta_list:\n",
        "        filter = -np.real(ski.filters.gabor_kernel(filter_params['frequency'],\n",
        "                                                    theta,\n",
        "                                                    sigma_x=filter_params['rad'],\n",
        "                                                    sigma_y=filter_params['len'],\n",
        "                                                    n_stds=filter_params['n_stds'],))\n",
        "        filter_list.append(filter)\n",
        "    filter_list = norm_filters(filter_list)\n",
        "    filter_list = square_filters(filter_list)\n",
        "    filter_set = {'filter_list':filter_list,'theta_list':theta_list}\n",
        "    return filter_set\n",
        "\n",
        "def norm_filters(filter_list):\n",
        "    \"\"\" scale filters to maximum (0:1) \"\"\"\n",
        "    dims = np.array([(np.min(x),np.max(x)) for x in filter_list])\n",
        "    scalar = 1 / np.max(np.abs(dims))\n",
        "    filter_list = [x*scalar for x in filter_list]\n",
        "    return filter_list\n",
        "\n",
        "def square_filters(filter_list):\n",
        "    \"\"\" pad all filters to squares of the same size\"\"\"\n",
        "    dims = np.array([f.shape for f in filter_list])\n",
        "    max_d =  np.max(dims)\n",
        "    for i,filter in enumerate(filter_list):\n",
        "        f_dim = filter.shape\n",
        "        delta = max_d-f_dim\n",
        "        half_delta = (delta/2).astype(int)\n",
        "        padded= np.pad(filter,((half_delta[0],half_delta[0]),\n",
        "                               (half_delta[1],half_delta[1]),))\n",
        "        filter_list[i] = padded\n",
        "    return filter_list\n",
        "\n",
        "\n",
        "def plot_filter_set(filter_set):\n",
        "    filter_list = filter_set['filter_list']\n",
        "    theta_list = filter_set['theta_list']\n",
        "    fig,ax=plt.subplots(1,len(theta_list))\n",
        "    for (a,filter,theta) in zip(ax,filter_list,theta_list):\n",
        "        a.imshow(filter,cmap='gray')\n",
        "        a.set_title(f\"{theta/np.pi:.2f} π\")\n",
        "        a.set_aspect('equal')\n",
        "    plt.show()\n",
        "\n",
        "\n",
        "filter_params = {'rad': 3,\n",
        "                 'len': 4,\n",
        "                 'n_kernel': 12,\n",
        "                 'frequency': .1,\n",
        "                 'n_stds': 3,\n",
        "                 }\n",
        "\n",
        "filter_set = build_filter_set(filter_params)\n",
        "plot_filter_set(filter_set)"
      ],
      "metadata": {
        "colab": {
          "base_uri": "https://localhost:8080/",
          "height": 115
        },
        "id": "qC7Jmmst1-9Z",
        "outputId": "2958decc-aa06-4cd6-cd6d-81b970163ee7"
      },
      "execution_count": 46,
      "outputs": [
        {
          "output_type": "display_data",
          "data": {
            "text/plain": [
              "<Figure size 640x480 with 12 Axes>"
            ],
            "image/png": "[encoded data removed]"
          },
          "metadata": {}
        }
      ]
    },
    {
      "cell_type": "code",
      "source": [
        "def get_local_image(point,locality_px,full_stack):\n",
        "    \"\"\" Return local stack values centered on a point\"\"\"\n",
        "    local_x = np.arange(point[0]-locality_px[0],point[0]+locality_px[0]+1).astype(int)\n",
        "    local_y = np.arange(point[1]-locality_px[1],point[1]+locality_px[1]+1).astype(int)\n",
        "    local_z = np.arange(point[2]-locality_px[2],point[2]+locality_px[2]+1).astype(int)\n",
        "    local_image = full_stack[:,local_x,:]\n",
        "    local_image = local_image[local_y,:,:]\n",
        "    local_image = local_image[:,:,local_z]\n",
        "\n",
        "    # \"\"\"plotting for debug\"\"\"\n",
        "    # fig,ax=plt.subplots(1,1,figsize=(1,1),dpi=300)\n",
        "    # ax.imshow(local_image[:,:,2])\n",
        "\n",
        "    return local_image\n",
        "\n",
        "\n",
        "def get_radius(point,full_stack,locality_px = (10,10,5) ):\n",
        "    \"\"\" Return Radius of Branch centered on point\"\"\"\n",
        "    local_image = get_local_image(point,locality_px,full_stack)\n",
        "    threshold = ski.filters.threshold_otsu(local_image)\n",
        "    local_binary = local_image<threshold*1.1\n",
        "    distance = sci.ndimage.distance_transform_edt(local_binary)\n",
        "    radius = distance[locality_px]\n",
        "\n",
        "    # \"\"\"plotting for debug\"\"\"\n",
        "    # fig,ax=plt.subplots(1,3,figsize=(3,9),dpi=300)\n",
        "    # ax[0].imshow(local_image[:,:,2])\n",
        "    # ax[1].imshow(local_binary[:,:,2])\n",
        "    # ax[2].imshow(distance[:,:,2],interpolation=None)\n",
        "    # print(distance[locality_px])\n",
        "\n",
        "    return radius\n",
        "\n",
        "\n",
        "\n",
        "point = (760,525,63)\n",
        "radius = get_radius(point,image_stack)\n"
      ],
      "metadata": {
        "id": "30iroQzS5jHM"
      },
      "execution_count": 153,
      "outputs": []
    },
    {
      "cell_type": "code",
      "source": [
        "\n",
        "\n",
        "def convolve_filter_plane(image,filter_set):\n",
        "    \"\"\" apply fitlers to a 2d image, return power(x,y,filter)\"\"\"\n",
        "    result_list=list()\n",
        "    for theta,filter in zip(filter_set['theta_list'],filter_set['filter_list']):\n",
        "        result = sci.signal.convolve2d(image, filter, mode='same',boundary='symm')\n",
        "        result_list.append(result)\n",
        "    image_result = np.stack(result_list,axis=-1)\n",
        "    return image_result\n",
        "\n",
        "\n",
        "def convolve_filters(image_stack,filter_set):\n",
        "    \"\"\" Apply filters to each Plane itteratively, return results as power(x,y,z,filter)\"\"\"\n",
        "    stack_conv_result=list()\n",
        "    z_depth = image_stack.shape[2]\n",
        "    for z in range(z_depth):\n",
        "        image_result = convolve_filter_plane(image_stack[:,:,z],filter_set)\n",
        "        stack_conv_result.append(image_result)\n",
        "    stack_conv_result = np.stack(stack_conv_result,axis=-2)\n",
        "    return stack_conv_result\n",
        "\n",
        "\n",
        "filter_params = {'rad': 3,\n",
        "                 'len': 4,\n",
        "                 'n_kernel': 12,\n",
        "                 'frequency': .1,\n",
        "                 'n_stds': 3,\n",
        "                 }\n",
        "\n",
        "filter_set = build_filter_set(filter_params)\n",
        "\n",
        "\n",
        "def cart2pol(X, Y):\n",
        "    rho = np.sqrt(X**2 + Y**2)\n",
        "    ang = np.arctan2(Y, X)\n",
        "    return rho, ang\n",
        "\n",
        "def pol2cart(rad,ang):\n",
        "    X = rad*np.cos(ang)\n",
        "    Y = rad*np.sin(ang)\n",
        "    return X,Y\n",
        "\n",
        "\n",
        "def calc_point_vector(point,filter_set,full_stack,locality_px=(10,10,5),):\n",
        "    \"\"\" Take in a point and get the best 2d_vector \"\"\"\n",
        "    local_image = get_local_image(point,locality_px,full_stack)\n",
        "    stack_conv_result = convolve_filters(local_image,filter_set)\n",
        "    theta_matrix = np.ones_like(stack_conv_result)\n",
        "    for i,theta in enumerate(theta_list):\n",
        "        theta_matrix[:,:,:,i]=theta\n",
        "\n",
        "    rho,theta = half_circ_mean(rho_matrix=stack_conv_result,\n",
        "                                         theta_matrix=theta_matrix)\n",
        "    anti_theta = theta+np.pi\n",
        "    return rho,theta,anti_theta\n",
        "\n",
        "\n",
        "def calc_mean_vector(stack_conv_result,filter_set):\n",
        "    theta_list = filter_set['theta_list']\n",
        "\n",
        "\n",
        "\n",
        "def half_circ_mean(rho_matrix,theta_matrix):\n",
        "    double_theta = theta_matrix*2\n",
        "    X,Y = pol2cart(rho_matrix, double_theta)\n",
        "    mean_X = np.mean(X.flatten())\n",
        "    mean_Y = np.mean(Y.flatten())\n",
        "    mean_rho, mean_double_theta = cart2pol(mean_X,mean_Y)\n",
        "    mean_theta = mean_double_theta/2\n",
        "    if mean_theta<0:\n",
        "        mean_theta=mean_theta+np.pi\n",
        "\n",
        "    # \"\"\"plotting for debug\"\"\"\n",
        "    # fig, ax = plt.subplots(1,2,figsize=(4,2),subplot_kw={'projection': 'polar'},dpi=100)\n",
        "    # ax[0].scatter(theta_matrix, rho_matrix,s=.1,color='gray')\n",
        "    # ax[0].scatter(mean_theta, mean_rho,color='m')\n",
        "    # ax[0].set_title('Half')\n",
        "\n",
        "    # ax[1].scatter(double_theta, rho_matrix,s=.1,color='gray')\n",
        "    # ax[1].scatter(mean_double_theta, mean_rho,color='m')\n",
        "    # ax[1].set_title('Full')\n",
        "\n",
        "    return mean_rho,mean_theta\n",
        "\n",
        "\n",
        "# _,theta,anti_theta = calc_point_vector(point,filter_set,image_stack,locality_px=(10,10,3))\n",
        "\n",
        "\n",
        "def get_candidates(point,seg_radius,scalar=1.5,variance=.3):\n",
        "    min_rho = radius*scalar - radius*variance\n",
        "    max_rho = radius*scalar + radius*variance\n",
        "    # print('min_rho',min_rho)\n",
        "    # print('max_rho',max_rho)\n",
        "    mesh_range = np.arange(-max_rho,max_rho,.1)\n",
        "    X,Y = np.meshgrid(mesh_range,mesh_range)\n",
        "    X = X.flatten()\n",
        "    Y = Y.flatten()\n",
        "    Z = np.sqrt( X**2 + Y**2 )\n",
        "    Z_ok = np.logical_and(Z>min_rho,Z<max_rho)\n",
        "    Z_ok_ind = np.where(Z_ok)[0]\n",
        "    X_ok = np.round(X[Z_ok_ind])\n",
        "    Y_ok = np.round(Y[Z_ok_ind])\n",
        "    coord_list = [(x,y) for x,y in zip(X_ok,Y_ok)]\n",
        "    coord_list = list(set(coord_list))\n",
        "    return coord_list\n",
        "\n",
        "\n",
        "\n",
        "radius = get_radius(point,image_stack)\n",
        "print('radius',radius)\n",
        "get_candidates(point,radius)"
      ],
      "metadata": {
        "colab": {
          "base_uri": "https://localhost:8080/",
          "height": 499
        },
        "id": "gaY0XJ-76ZG8",
        "outputId": "4c5e0a39-e473-490a-9ccf-39cfe82733a4"
      },
      "execution_count": 175,
      "outputs": [
        {
          "output_type": "stream",
          "name": "stdout",
          "text": [
            "radius 3.3166247903554\n",
            "min_rho 3.97994974842648\n",
            "max_rho 5.96992462263972\n",
            "100\n"
          ]
        },
        {
          "output_type": "display_data",
          "data": {
            "text/plain": [
              "<Figure size 640x480 with 1 Axes>"
            ],
            "image/png": "[encoded data removed]"
          },
          "metadata": {}
        }
      ]
    },
    {
      "cell_type": "code",
      "source": [
        "# (x,y,z) = point\n",
        "# fig,ax =plot_point_data(x,y,z,image_stack,rad=250,lw=.5)"
      ],
      "metadata": {
        "id": "2dHzQ4zd52QD"
      },
      "execution_count": null,
      "outputs": []
    },
    {
      "cell_type": "code",
      "source": [
        "\n",
        "\n"
      ],
      "metadata": {
        "id": "gVriz46_1xT8"
      },
      "execution_count": 25,
      "outputs": []
    }
  ]
}