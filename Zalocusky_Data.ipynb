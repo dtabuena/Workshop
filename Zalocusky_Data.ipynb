{
  "nbformat": 4,
  "nbformat_minor": 0,
  "metadata": {
    "colab": {
      "provenance": [],
      "authorship_tag": "ABX9TyPhiybe0dpXRqQxTvKr4iF9",
      "include_colab_link": true
    },
    "kernelspec": {
      "name": "python3",
      "display_name": "Python 3"
    },
    "language_info": {
      "name": "python"
    }
  },
  "cells": [
    {
      "cell_type": "markdown",
      "metadata": {
        "id": "view-in-github",
        "colab_type": "text"
      },
      "source": [
        "<a href=\"https://colab.research.google.com/github/dtabuena/Workshop/blob/main/Zalocusky_Data.ipynb\" target=\"_parent\"><img src=\"https://colab.research.google.com/assets/colab-badge.svg\" alt=\"Open In Colab\"/></a>"
      ]
    },
    {
      "cell_type": "code",
      "source": [
        "import h5py    \n",
        "import numpy as np    \n",
        "import scipy\n",
        "from matplotlib import pyplot as plt"
      ],
      "metadata": {
        "id": "PyaByPRKzv8j"
      },
      "execution_count": 1,
      "outputs": []
    },
    {
      "cell_type": "code",
      "execution_count": 2,
      "metadata": {
        "id": "R4AoGg83zEFa",
        "colab": {
          "base_uri": "https://localhost:8080/"
        },
        "outputId": "9fef3256-0074-41a3-cf84-6f87734e0fdb"
      },
      "outputs": [
        {
          "output_type": "stream",
          "name": "stdout",
          "text": [
            "--2023-06-06 18:22:17--  https://ftp.ncbi.nlm.nih.gov/geo/series/GSE167nnn/GSE167497/suppl/GSE167497_filtered_gene_bc_matrices_h5.h5\n",
            "Resolving ftp.ncbi.nlm.nih.gov (ftp.ncbi.nlm.nih.gov)... 130.14.250.13, 165.112.9.229, 2607:f220:41e:250::10, ...\n",
            "Connecting to ftp.ncbi.nlm.nih.gov (ftp.ncbi.nlm.nih.gov)|130.14.250.13|:443... connected.\n",
            "HTTP request sent, awaiting response... 200 OK\n",
            "Length: 12286523 (12M)\n",
            "Saving to: ‘GSE167497_filtered_gene_bc_matrices_h5.h5’\n",
            "\n",
            "GSE167497_filtered_ 100%[===================>]  11.72M  37.3MB/s    in 0.3s    \n",
            "\n",
            "2023-06-06 18:22:18 (37.3 MB/s) - ‘GSE167497_filtered_gene_bc_matrices_h5.h5’ saved [12286523/12286523]\n",
            "\n"
          ]
        }
      ],
      "source": [
        "link = 'https://ftp.ncbi.nlm.nih.gov/geo/series/GSE167nnn/GSE167497/suppl/GSE167497_filtered_gene_bc_matrices_h5.h5'\n",
        "file_name = 'GSE167497_filtered_gene_bc_matrices_h5.h5'\n",
        "\n",
        "!wget -O $file_name $link"
      ]
    },
    {
      "cell_type": "code",
      "source": [
        "f1 = h5py.File(\"/content/\"+file_name,'r+') "
      ],
      "metadata": {
        "id": "1SCZSrpBz2Nk"
      },
      "execution_count": 3,
      "outputs": []
    },
    {
      "cell_type": "code",
      "source": [
        "shape = f1['mm10-1.2.0_premrna']['shape']\n",
        "shape = [shape[1],shape[0]]"
      ],
      "metadata": {
        "id": "DlP_d-Gk3Vd2"
      },
      "execution_count": 5,
      "outputs": []
    },
    {
      "cell_type": "code",
      "source": [
        "sparse_MAT = scipy.sparse.csr_matrix((f1['mm10-1.2.0_premrna']['data'],\n",
        "                                      f1['mm10-1.2.0_premrna']['indices'],\n",
        "                                      f1['mm10-1.2.0_premrna']['indptr']), shape=shape)\n",
        "\n",
        "dense_MAT = sparse_MAT.todense()\n"
      ],
      "metadata": {
        "id": "SlaSlCtI2inl"
      },
      "execution_count": 6,
      "outputs": []
    },
    {
      "cell_type": "code",
      "source": [
        "print('mat shape',dense_MAT.shape)\n",
        "print('barcode_len ',len( f1['mm10-1.2.0_premrna']['barcodes']))\n",
        "print('gene_names ',len( f1['mm10-1.2.0_premrna']['gene_names']))\n",
        "print('genes ',len( f1['mm10-1.2.0_premrna']['genes']))"
      ],
      "metadata": {
        "id": "G7uz24pr4Qxm",
        "outputId": "f48f4f5b-39d1-41ce-8086-a0331461a984",
        "colab": {
          "base_uri": "https://localhost:8080/"
        }
      },
      "execution_count": 7,
      "outputs": [
        {
          "output_type": "stream",
          "name": "stdout",
          "text": [
            "mat shape (4969, 27998)\n",
            "barcode_len  4969\n",
            "gene_names  27998\n",
            "genes  27998\n"
          ]
        }
      ]
    },
    {
      "cell_type": "code",
      "source": [
        "\n"
      ],
      "metadata": {
        "id": "OpkdKmDL5ZK_"
      },
      "execution_count": 7,
      "outputs": []
    },
    {
      "cell_type": "code",
      "source": [
        "\n",
        "\n",
        "link = 'https://ftp.ncbi.nlm.nih.gov/geo/series/GSE167nnn/GSE167497/suppl/GSE167497_barcode_summary_h5.h5'\n",
        "file_name = 'GSE167497_barcode_summary_h5.h5'\n",
        "!wget -O $file_name $link\n",
        "f2 = h5py.File(\"/content/\"+file_name,'r+') "
      ],
      "metadata": {
        "id": "-kCOg_bi8OLD",
        "outputId": "dc4910e5-e37e-4832-b9fc-ca21309f8bd7",
        "colab": {
          "base_uri": "https://localhost:8080/"
        }
      },
      "execution_count": 8,
      "outputs": [
        {
          "output_type": "stream",
          "name": "stdout",
          "text": [
            "--2023-06-06 18:22:23--  https://ftp.ncbi.nlm.nih.gov/geo/series/GSE167nnn/GSE167497/suppl/GSE167497_barcode_summary_h5.h5\n",
            "Resolving ftp.ncbi.nlm.nih.gov (ftp.ncbi.nlm.nih.gov)... 130.14.250.13, 165.112.9.229, 2607:f220:41e:250::10, ...\n",
            "Connecting to ftp.ncbi.nlm.nih.gov (ftp.ncbi.nlm.nih.gov)|130.14.250.13|:443... connected.\n",
            "HTTP request sent, awaiting response... 200 OK\n",
            "Length: 637366753 (608M)\n",
            "Saving to: ‘GSE167497_barcode_summary_h5.h5’\n",
            "\n",
            "GSE167497_barcode_s 100%[===================>] 607.84M  44.4MB/s    in 15s     \n",
            "\n",
            "2023-06-06 18:22:38 (41.0 MB/s) - ‘GSE167497_barcode_summary_h5.h5’ saved [637366753/637366753]\n",
            "\n"
          ]
        }
      ]
    },
    {
      "cell_type": "code",
      "source": [
        "f2.keys()"
      ],
      "metadata": {
        "id": "uuULcslP8Y26",
        "outputId": "c1251f9b-337e-4179-9f98-87c8bb80311a",
        "colab": {
          "base_uri": "https://localhost:8080/"
        }
      },
      "execution_count": 9,
      "outputs": [
        {
          "output_type": "execute_result",
          "data": {
            "text/plain": [
              "<KeysViewHDF5 ['bc_sequence', 'mm10-1.2.0_premrna_transcriptome_conf_mapped_deduped_barcode_reads']>"
            ]
          },
          "metadata": {},
          "execution_count": 9
        }
      ]
    }
  ]
}