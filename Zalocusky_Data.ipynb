{
  "nbformat": 4,
  "nbformat_minor": 0,
  "metadata": {
    "colab": {
      "provenance": [],
      "authorship_tag": "ABX9TyNswjXkkApaHErJ+CkajCTn",
      "include_colab_link": true
    },
    "kernelspec": {
      "name": "python3",
      "display_name": "Python 3"
    },
    "language_info": {
      "name": "python"
    }
  },
  "cells": [
    {
      "cell_type": "markdown",
      "metadata": {
        "id": "view-in-github",
        "colab_type": "text"
      },
      "source": [
        "<a href=\"https://colab.research.google.com/github/dtabuena/Workshop/blob/main/Zalocusky_Data.ipynb\" target=\"_parent\"><img src=\"https://colab.research.google.com/assets/colab-badge.svg\" alt=\"Open In Colab\"/></a>"
      ]
    },
    {
      "cell_type": "code",
      "source": [
        "import h5py    \n",
        "import numpy as np    \n",
        "import scipy\n",
        "from matplotlib import pyplot as plt"
      ],
      "metadata": {
        "id": "PyaByPRKzv8j"
      },
      "execution_count": 2,
      "outputs": []
    },
    {
      "cell_type": "code",
      "execution_count": 3,
      "metadata": {
        "id": "R4AoGg83zEFa",
        "colab": {
          "base_uri": "https://localhost:8080/"
        },
        "outputId": "c7eaa9d5-d460-431e-857c-018b715b72a4"
      },
      "outputs": [
        {
          "output_type": "stream",
          "name": "stdout",
          "text": [
            "--2023-06-07 20:38:53--  https://ftp.ncbi.nlm.nih.gov/geo/series/GSE167nnn/GSE167497/suppl/GSE167497_filtered_gene_bc_matrices_h5.h5\n",
            "Resolving ftp.ncbi.nlm.nih.gov (ftp.ncbi.nlm.nih.gov)... 130.14.250.11, 130.14.250.12, 2607:f220:41f:250::230, ...\n",
            "Connecting to ftp.ncbi.nlm.nih.gov (ftp.ncbi.nlm.nih.gov)|130.14.250.11|:443... connected.\n",
            "HTTP request sent, awaiting response... 200 OK\n",
            "Length: 12286523 (12M)\n",
            "Saving to: ‘GSE167497_filtered_gene_bc_matrices_h5.h5’\n",
            "\n",
            "GSE167497_filtered_ 100%[===================>]  11.72M  6.02MB/s    in 1.9s    \n",
            "\n",
            "2023-06-07 20:38:56 (6.02 MB/s) - ‘GSE167497_filtered_gene_bc_matrices_h5.h5’ saved [12286523/12286523]\n",
            "\n",
            "[4969, 27998]\n"
          ]
        }
      ],
      "source": [
        "link = 'https://ftp.ncbi.nlm.nih.gov/geo/series/GSE167nnn/GSE167497/suppl/GSE167497_filtered_gene_bc_matrices_h5.h5'\n",
        "file_name = 'GSE167497_filtered_gene_bc_matrices_h5.h5'\n",
        "\n",
        "\n",
        "data_1 = {'link':'https://ftp.ncbi.nlm.nih.gov/geo/series/GSE167nnn/GSE167497/suppl/GSE167497_raw_gene_bc_matrices_h5.h5','file_name':'GSE167497_raw_gene_bc_matrices_h5.h5'}\n",
        "data_2 = {'link':'https://ftp.ncbi.nlm.nih.gov/geo/series/GSE167nnn/GSE167497/suppl/GSE167497_filtered_gene_bc_matrices_h5.h5','file_name':'GSE167497_filtered_gene_bc_matrices_h5.h5'}\n",
        "\n",
        "file_name = data_2['file_name']\n",
        "link = data_2['link']\n",
        "\n",
        "!wget -O $file_name $link\n",
        "\n",
        "f1 = h5py.File(\"/content/\"+file_name,'r+') \n",
        "shape = f1['mm10-1.2.0_premrna']['shape']\n",
        "shape = [shape[1],shape[0]]\n",
        "print(shape)"
      ]
    },
    {
      "cell_type": "code",
      "source": [
        "sparse_MAT = scipy.sparse.csr_matrix((f1['mm10-1.2.0_premrna']['data'],\n",
        "                                      f1['mm10-1.2.0_premrna']['indices'],\n",
        "                                      f1['mm10-1.2.0_premrna']['indptr']), shape=shape)\n",
        "\n",
        "dense_MAT = sparse_MAT.todense()\n"
      ],
      "metadata": {
        "id": "SlaSlCtI2inl"
      },
      "execution_count": 4,
      "outputs": []
    },
    {
      "cell_type": "code",
      "source": [
        "print('mat shape',dense_MAT.shape)\n",
        "print('barcode_len ',len( f1['mm10-1.2.0_premrna']['barcodes']))\n",
        "print('gene_names ',len( f1['mm10-1.2.0_premrna']['gene_names']))\n",
        "print('genes ',len( f1['mm10-1.2.0_premrna']['genes']))"
      ],
      "metadata": {
        "colab": {
          "base_uri": "https://localhost:8080/"
        },
        "id": "G7uz24pr4Qxm",
        "outputId": "e33c771c-9ad4-42eb-bab0-487c2460efdb"
      },
      "execution_count": 5,
      "outputs": [
        {
          "output_type": "stream",
          "name": "stdout",
          "text": [
            "mat shape (4969, 27998)\n",
            "barcode_len  4969\n",
            "gene_names  27998\n",
            "genes  27998\n"
          ]
        }
      ]
    }
  ]
}