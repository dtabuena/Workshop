{
  "nbformat": 4,
  "nbformat_minor": 0,
  "metadata": {
    "colab": {
      "provenance": [],
      "authorship_tag": "ABX9TyPwRGP7JJKisCBJK186UXA3",
      "include_colab_link": true
    },
    "kernelspec": {
      "name": "python3",
      "display_name": "Python 3"
    },
    "language_info": {
      "name": "python"
    }
  },
  "cells": [
    {
      "cell_type": "markdown",
      "metadata": {
        "id": "view-in-github",
        "colab_type": "text"
      },
      "source": [
        "<a href=\"https://colab.research.google.com/github/dtabuena/Workshop/blob/main/Zalocusky_Data.ipynb\" target=\"_parent\"><img src=\"https://colab.research.google.com/assets/colab-badge.svg\" alt=\"Open In Colab\"/></a>"
      ]
    },
    {
      "cell_type": "code",
      "source": [
        "import h5py    \n",
        "import numpy as np    \n",
        "import scipy\n",
        "from matplotlib import pyplot as plt"
      ],
      "metadata": {
        "id": "PyaByPRKzv8j"
      },
      "execution_count": 2,
      "outputs": []
    },
    {
      "cell_type": "code",
      "execution_count": 3,
      "metadata": {
        "id": "R4AoGg83zEFa",
        "colab": {
          "base_uri": "https://localhost:8080/"
        },
        "outputId": "82272edd-0003-4710-c855-2e53503c93b5"
      },
      "outputs": [
        {
          "output_type": "stream",
          "name": "stdout",
          "text": [
            "--2023-06-06 18:40:24--  https://ftp.ncbi.nlm.nih.gov/geo/series/GSE167nnn/GSE167497/suppl/GSE167497_filtered_gene_bc_matrices_h5.h5\n",
            "Resolving ftp.ncbi.nlm.nih.gov (ftp.ncbi.nlm.nih.gov)... 130.14.250.10, 130.14.250.11, 2607:f220:41e:250::10, ...\n",
            "Connecting to ftp.ncbi.nlm.nih.gov (ftp.ncbi.nlm.nih.gov)|130.14.250.10|:443... connected.\n",
            "HTTP request sent, awaiting response... 200 OK\n",
            "Length: 12286523 (12M)\n",
            "Saving to: ‘GSE167497_filtered_gene_bc_matrices_h5.h5’\n",
            "\n",
            "GSE167497_filtered_ 100%[===================>]  11.72M  27.4MB/s    in 0.4s    \n",
            "\n",
            "2023-06-06 18:40:25 (27.4 MB/s) - ‘GSE167497_filtered_gene_bc_matrices_h5.h5’ saved [12286523/12286523]\n",
            "\n"
          ]
        }
      ],
      "source": [
        "link = 'https://ftp.ncbi.nlm.nih.gov/geo/series/GSE167nnn/GSE167497/suppl/GSE167497_filtered_gene_bc_matrices_h5.h5'\n",
        "file_name = 'GSE167497_filtered_gene_bc_matrices_h5.h5'\n",
        "\n",
        "!wget -O $file_name $link"
      ]
    },
    {
      "cell_type": "code",
      "source": [
        "f1 = h5py.File(\"/content/\"+file_name,'r+') "
      ],
      "metadata": {
        "id": "1SCZSrpBz2Nk"
      },
      "execution_count": 4,
      "outputs": []
    },
    {
      "cell_type": "code",
      "source": [
        "shape = f1['mm10-1.2.0_premrna']['shape']\n",
        "shape = [shape[1],shape[0]]"
      ],
      "metadata": {
        "id": "DlP_d-Gk3Vd2"
      },
      "execution_count": 5,
      "outputs": []
    },
    {
      "cell_type": "code",
      "source": [
        "sparse_MAT = scipy.sparse.csr_matrix((f1['mm10-1.2.0_premrna']['data'],\n",
        "                                      f1['mm10-1.2.0_premrna']['indices'],\n",
        "                                      f1['mm10-1.2.0_premrna']['indptr']), shape=shape)\n",
        "\n",
        "dense_MAT = sparse_MAT.todense()\n"
      ],
      "metadata": {
        "id": "SlaSlCtI2inl"
      },
      "execution_count": 6,
      "outputs": []
    },
    {
      "cell_type": "code",
      "source": [
        "print('mat shape',dense_MAT.shape)\n",
        "print('barcode_len ',len( f1['mm10-1.2.0_premrna']['barcodes']))\n",
        "print('gene_names ',len( f1['mm10-1.2.0_premrna']['gene_names']))\n",
        "print('genes ',len( f1['mm10-1.2.0_premrna']['genes']))"
      ],
      "metadata": {
        "colab": {
          "base_uri": "https://localhost:8080/"
        },
        "id": "G7uz24pr4Qxm",
        "outputId": "c4247844-9d73-4e9d-9901-e1e0b97c5b03"
      },
      "execution_count": 7,
      "outputs": [
        {
          "output_type": "stream",
          "name": "stdout",
          "text": [
            "mat shape (4969, 27998)\n",
            "barcode_len  4969\n",
            "gene_names  27998\n",
            "genes  27998\n"
          ]
        }
      ]
    },
    {
      "cell_type": "code",
      "source": [
        "x = np.emath.logn(1000, dense_MAT+1)"
      ],
      "metadata": {
        "id": "OpkdKmDL5ZK_"
      },
      "execution_count": 9,
      "outputs": []
    },
    {
      "cell_type": "code",
      "source": [
        "plt.imshow(x)"
      ],
      "metadata": {
        "colab": {
          "base_uri": "https://localhost:8080/",
          "height": 171
        },
        "id": "-kCOg_bi8OLD",
        "outputId": "e9f6ba74-49ad-4a9e-f5fe-47c743a01383"
      },
      "execution_count": 10,
      "outputs": [
        {
          "output_type": "execute_result",
          "data": {
            "text/plain": [
              "<matplotlib.image.AxesImage at 0x7f1675347910>"
            ]
          },
          "metadata": {},
          "execution_count": 10
        },
        {
          "output_type": "display_data",
          "data": {
            "text/plain": [
              "<Figure size 640x480 with 1 Axes>"
            ],
            "image/png": "[encoded data removed]"
          },
          "metadata": {}
        }
      ]
    }
  ]
}