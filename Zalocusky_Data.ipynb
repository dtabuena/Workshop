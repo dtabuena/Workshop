{
  "nbformat": 4,
  "nbformat_minor": 0,
  "metadata": {
    "colab": {
      "provenance": [],
      "authorship_tag": "ABX9TyNaRsN7tJFAABJLibViiNI2",
      "include_colab_link": true
    },
    "kernelspec": {
      "name": "python3",
      "display_name": "Python 3"
    },
    "language_info": {
      "name": "python"
    }
  },
  "cells": [
    {
      "cell_type": "markdown",
      "metadata": {
        "id": "view-in-github",
        "colab_type": "text"
      },
      "source": [
        "<a href=\"https://colab.research.google.com/github/dtabuena/Workshop/blob/main/Zalocusky_Data.ipynb\" target=\"_parent\"><img src=\"https://colab.research.google.com/assets/colab-badge.svg\" alt=\"Open In Colab\"/></a>"
      ]
    },
    {
      "cell_type": "code",
      "source": [
        "import h5py    \n",
        "import numpy as np    \n"
      ],
      "metadata": {
        "id": "PyaByPRKzv8j"
      },
      "execution_count": 7,
      "outputs": []
    },
    {
      "cell_type": "code",
      "execution_count": 16,
      "metadata": {
        "id": "R4AoGg83zEFa",
        "outputId": "c92c9242-e2d8-474e-b940-aace985af2c3",
        "colab": {
          "base_uri": "https://localhost:8080/"
        }
      },
      "outputs": [
        {
          "output_type": "stream",
          "name": "stdout",
          "text": [
            "--2023-06-06 17:48:57--  https://ftp.ncbi.nlm.nih.gov/geo/series/GSE167nnn/GSE167497/suppl/GSE167497_filtered_gene_bc_matrices_h5.h5\n",
            "Resolving ftp.ncbi.nlm.nih.gov (ftp.ncbi.nlm.nih.gov)... 130.14.250.13, 165.112.9.229, 2607:f220:41e:250::11, ...\n",
            "Connecting to ftp.ncbi.nlm.nih.gov (ftp.ncbi.nlm.nih.gov)|130.14.250.13|:443... connected.\n",
            "HTTP request sent, awaiting response... 200 OK\n",
            "Length: 12286523 (12M)\n",
            "Saving to: ‘GSE167497_filtered_gene_bc_matrices_h5.h5’\n",
            "\n",
            "GSE167497_filtered_ 100%[===================>]  11.72M  17.2MB/s    in 0.7s    \n",
            "\n",
            "2023-06-06 17:48:59 (17.2 MB/s) - ‘GSE167497_filtered_gene_bc_matrices_h5.h5’ saved [12286523/12286523]\n",
            "\n"
          ]
        }
      ],
      "source": [
        "link = 'https://ftp.ncbi.nlm.nih.gov/geo/series/GSE167nnn/GSE167497/suppl/GSE167497_filtered_gene_bc_matrices_h5.h5'\n",
        "file_name = 'GSE167497_filtered_gene_bc_matrices_h5.h5'\n",
        "\n",
        "!wget -O $file_name $link"
      ]
    },
    {
      "cell_type": "code",
      "source": [
        "f1 = h5py.File(\"/content/\"+file_name,'r+') "
      ],
      "metadata": {
        "id": "1SCZSrpBz2Nk"
      },
      "execution_count": 17,
      "outputs": []
    },
    {
      "cell_type": "code",
      "source": [
        "f1['mm10-1.2.0_premrna'].keys()\n",
        "# for i in f1['mm10-1.2.0_premrna']['gene_names']: print(i)\n"
      ],
      "metadata": {
        "id": "w-KwKqfw09rs",
        "outputId": "0891d1f7-898a-4e9d-ebcc-7825bb8a9d29",
        "colab": {
          "base_uri": "https://localhost:8080/"
        }
      },
      "execution_count": 25,
      "outputs": [
        {
          "output_type": "execute_result",
          "data": {
            "text/plain": [
              "<KeysViewHDF5 ['barcodes', 'data', 'gene_names', 'genes', 'indices', 'indptr', 'shape']>"
            ]
          },
          "metadata": {},
          "execution_count": 25
        }
      ]
    }
  ]
}