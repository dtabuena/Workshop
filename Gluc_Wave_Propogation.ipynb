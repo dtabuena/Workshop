{
  "cells": [
    {
      "cell_type": "markdown",
      "metadata": {
        "id": "view-in-github",
        "colab_type": "text"
      },
      "source": [
        "<a href=\"https://colab.research.google.com/github/dtabuena/Workshop/blob/main/Gluc_Wave_Propogation.ipynb\" target=\"_parent\"><img src=\"https://colab.research.google.com/assets/colab-badge.svg\" alt=\"Open In Colab\"/></a>"
      ]
    },
    {
      "cell_type": "code",
      "execution_count": null,
      "id": "1b8f97b7",
      "metadata": {
        "scrolled": false,
        "id": "1b8f97b7"
      },
      "outputs": [],
      "source": [
        "import tifffile\n",
        "import numpy as np\n",
        "# from google import colab\n",
        "import matplotlib\n",
        "from matplotlib import pyplot as plt\n",
        "import scipy\n",
        "from tqdm import tqdm\n",
        "import matplotlib as mpl\n",
        "from scipy.signal import butter,filtfilt\n",
        "import os\n"
      ]
    },
    {
      "cell_type": "code",
      "execution_count": null,
      "id": "2615c2bc",
      "metadata": {
        "id": "2615c2bc",
        "outputId": "e5132ea3-7a61-459b-b2b8-5467f898e488"
      },
      "outputs": [
        {
          "name": "stderr",
          "output_type": "stream",
          "text": [
            "Enabling notebook extension jupyter-js-widgets/extension...\n",
            "      - Validating: ok\n"
          ]
        }
      ],
      "source": [
        "!jupyter nbextension enable --py widgetsnbextension"
      ]
    },
    {
      "cell_type": "code",
      "execution_count": null,
      "id": "b3dbc52f",
      "metadata": {
        "id": "b3dbc52f"
      },
      "outputs": [],
      "source": [
        "def df_trace(trace,ref_inds):\n",
        "    f0 = np.mean(trace[ref_inds])\n",
        "    return (trace-f0)/f0\n",
        "\n",
        "def exp_func(xdata,a,b,c):\n",
        "    return a*np.exp(xdata/-b) + c\n",
        "\n",
        "def z_trace(trace):\n",
        "    std = np.nanstd(trace)\n",
        "    mean = np.nanmean(trace)\n",
        "    z_param =  {'std':std, 'mean':mean}\n",
        "    return (trace-mean)/std, z_param\n",
        "\n",
        "def bleach_cor(trace,ref_inds,lpf=0.2,order=1):\n",
        "    b, a = butter(order, lpf, btype='lowpass')\n",
        "    trace_f = filtfilt(b, a, trace)\n",
        "    y_fittable = trace_f[ref_inds]\n",
        "    p0= [np.max(trace), 20000, np.min(trace)]\n",
        "    min_bound = [0,1000,0]\n",
        "    max_bound = [np.max(trace)*2,np.inf,np.max(trace)*2]\n",
        "    p = scipy.optimize.curve_fit(exp_func, ref_inds, y_fittable,p0=p0,bounds=(min_bound,max_bound))\n",
        "    bleach_trace = exp_func(np.arange(len(trace)), p[0][0], p[0][1], p[0][2])\n",
        "    trace_corr = trace + (bleach_trace[0] - bleach_trace)    \n",
        "    return trace_corr, bleach_trace, p[0]\n",
        "\n",
        "def bleach_cor_PARAM(trace,param):\n",
        "    bleach_trace = exp_func(np.arange(len(trace)), param[0], param[1], param[2])    \n",
        "    trace_corr = trace + (bleach_trace[0] - bleach_trace)    \n",
        "    return trace_corr, bleach_trace, p[0]\n",
        "\n",
        "def bin_stack(im,bin_factor):\n",
        "    height = im.shape[1] // bin_factor\n",
        "    width = im.shape[2] // bin_factor\n",
        "    im = im[:, :height * bin_factor, : width * bin_factor]\n",
        "    im = im.reshape(im.shape[0], height, bin_factor, width, bin_factor)\n",
        "    im = im.sum((2, 4), dtype='uint32')\n",
        "    return im\n",
        "\n",
        "def proccess_pxl(trace,ref_inds,df_ind,return_df=True,return_z=True,nan_thresh = 3):\n",
        "    trace = trace.astype('float32')    \n",
        "    trace_corr, _, bleach_param = bleach_cor(trace,ref_inds)\n",
        "    if return_df: trace_corr = df_trace(trace_corr,df_inds)\n",
        "    if return_z:\n",
        "        trace_test,_ = z_trace(trace_corr)\n",
        "        trace_corr[abs(trace_test)>=nan_thresh] = np.nan\n",
        "        trace_corr[abs(trace_test)<nan_thresh],v = z_trace( trace_corr[abs(trace_test)<nan_thresh] )\n",
        "#         trace_corr,_ = z_trace(trace_corr)\n",
        "    return trace_corr, bleach_param\n",
        "\n",
        "def vec_image(im):\n",
        "    og_shape = im.shape\n",
        "    im_vec = np.reshape(im,[og_shape[0],og_shape[1]*og_shape[2]])\n",
        "    return im_vec, og_shape\n",
        "\n",
        "def unvec_image(im,og_shape):\n",
        "    im = np.reshape(im,[og_shape[0],og_shape[1],og_shape[2]])\n",
        "    return im\n",
        "\n",
        "def wave_propogation(binary_mov_vec, og_shape,consecutive_window = 10,consecutive_sensitivity=1,last_ind=np.inf):\n",
        "    conv_filter = np.concatenate( [np.zeros([consecutive_window,1]),np.ones([consecutive_window,1])],axis=0)\n",
        "    binary_mov_vec = scipy.signal.convolve2d(binary_mov_vec,conv_filter,mode='same')/consecutive_window >= consecutive_sensitivity\n",
        "    t_vec = np.arange(binary_mov_vec.shape[0])\n",
        "    inds = np.zeros_like(binary_mov_vec).astype('float64')\n",
        "    for p in np.arange(binary_mov_vec.shape[1]):\n",
        "        inds[:,p] = np.multiply(binary_mov_vec[:,p] , t_vec)\n",
        "    inds = inds.astype('float64')\n",
        "    inds[inds==0.]=np.nan\n",
        "    inds[inds>last_ind]=np.nan\n",
        "    inds = np.nanmin(inds,axis=0)\n",
        "    inds = unvec_image(inds,[1, og_shape[1],og_shape[2]])\n",
        "    inds = scipy.ndimage.median_filter(inds,size= 4)\n",
        "    return inds[0,:,:]"
      ]
    },
    {
      "cell_type": "code",
      "execution_count": null,
      "id": "6aae7cb7",
      "metadata": {
        "id": "6aae7cb7"
      },
      "outputs": [],
      "source": [
        "local_link = os.path.normpath('C:\\\\Users\\\\dennis.tabuena\\\\Dropbox (Gladstone)\\\\2023\\\\May 22\\\\S1_10Hz_CNT[1-6072_EX0].TIF')\n",
        "im = tifffile.imread(local_link, maxworkers=6)\n",
        "im = bin_stack(im,4)\n",
        "im = scipy.ndimage.gaussian_filter(im, .4, radius = [10,2,2])\n",
        "im_vec, og_shape = vec_image(im)\n",
        "ref_image =  np.max(im,axis=0)\n",
        "tifffile.imwrite('C://Users//dennis.tabuena//Documents//Downloads//Ref_im.TIF', ref_image )"
      ]
    },
    {
      "cell_type": "code",
      "execution_count": null,
      "id": "27771283",
      "metadata": {
        "id": "27771283",
        "outputId": "d97ca298-8f28-43fd-e514-cc977f73fd96"
      },
      "outputs": [
        {
          "name": "stderr",
          "output_type": "stream",
          "text": [
            "100%|███████████████████████████████████████████████████████████████████████████| 22500/22500 [03:16<00:00, 114.43it/s]\n"
          ]
        }
      ],
      "source": [
        "im_vec =im_vec.astype('float32')\n",
        "ref_inds= np.concatenate([np.arange(100,1000),np.arange(4980,4999)])\n",
        "df_inds = np.arange(900,1000)\n",
        "param_list = np.zeros([3,im_vec.shape[1]])\n",
        "for pix in tqdm( np.arange(im_vec.shape[1]) ):\n",
        "    im_vec[:,pix],bleach_param = proccess_pxl(im_vec[:,pix],ref_inds,df_inds)\n",
        "    param_list[:,pix] = bleach_param\n",
        "im_unvec = unvec_image(im_vec,og_shape)\n",
        "tifffile.imwrite('C://Users//dennis.tabuena//Documents//Downloads//BC_file.TIF', im_unvec)"
      ]
    },
    {
      "cell_type": "code",
      "execution_count": null,
      "id": "468afe64",
      "metadata": {
        "id": "468afe64"
      },
      "outputs": [],
      "source": [
        "im_unvec = unvec_image(im_vec,og_shape)\n",
        "im_unvec = scipy.ndimage.gaussian_filter(im_unvec, .5, radius = [3,3,3])\n",
        "im_vec, og_shape = vec_image(im_unvec)"
      ]
    },
    {
      "cell_type": "code",
      "execution_count": null,
      "id": "b629be84",
      "metadata": {
        "id": "b629be84"
      },
      "outputs": [],
      "source": [
        "\n",
        "\n",
        "alpha = 0.63\n",
        "foi = np.arange(1250,3500)\n",
        "up_spread_thresh = 1\n",
        "down_spread_thresh = -1\n",
        "\n",
        "high_bool = im_vec[foi,:]>up_spread_thresh\n",
        "low_bool = im_vec[foi,:]<down_spread_thresh\n",
        "\n",
        "# high_prop = wave_propogation(high_bool, og_shape,last_ind=100)\n",
        "# low_prop = wave_propogation(low_bool, og_shape)\n",
        "\n",
        "fig,ax=plt.subplots(1,2,figsize=4*np.array([2,1]))\n",
        "for a in ax:   \n",
        "    a.imshow(ref_image,cmap='gray')\n",
        "    a.set_aspect(ref_image.shape[0]/ref_image.shape[1])\n",
        "\n",
        "cmap = matplotlib.colormaps.get_cmap('plasma')\n",
        "cmap = cmap.reversed()\n",
        "\n",
        "cs=ax[0].contourf((high_prop)/10,cmap=cmap,alpha=alpha,levels = np.arange(0.5,7,0.5))#,levels=levels\n",
        "ax[0].set_title('Rising Phase')\n",
        "fig.colorbar(cs,ax=ax[0])\n",
        "\n",
        "levels = np.arange(0,60,5)\n",
        "cs=ax[1].contourf((low_prop)/10,cmap=cmap,alpha=alpha,levels=levels)#\n",
        "ax[1].set_title('Falling Phase')\n",
        "fig.colorbar(cs,ax=ax[1])\n",
        "# for a in ax: a.invert_yaxis()\n",
        "plt.tight_layout()"
      ]
    }
  ],
  "metadata": {
    "kernelspec": {
      "display_name": "Python 3 (ipykernel)",
      "language": "python",
      "name": "python3"
    },
    "language_info": {
      "codemirror_mode": {
        "name": "ipython",
        "version": 3
      },
      "file_extension": ".py",
      "mimetype": "text/x-python",
      "name": "python",
      "nbconvert_exporter": "python",
      "pygments_lexer": "ipython3",
      "version": "3.10.9"
    },
    "colab": {
      "provenance": [],
      "include_colab_link": true
    }
  },
  "nbformat": 4,
  "nbformat_minor": 5
}