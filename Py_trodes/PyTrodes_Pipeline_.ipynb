{
  "nbformat": 4,
  "nbformat_minor": 0,
  "metadata": {
    "colab": {
      "provenance": [],
      "authorship_tag": "ABX9TyOq+0NJf7loW8P3UYqdmsm1",
      "include_colab_link": true
    },
    "kernelspec": {
      "name": "python3",
      "display_name": "Python 3"
    },
    "language_info": {
      "name": "python"
    }
  },
  "cells": [
    {
      "cell_type": "markdown",
      "metadata": {
        "id": "view-in-github",
        "colab_type": "text"
      },
      "source": [
        "<a href=\"https://colab.research.google.com/github/dtabuena/Workshop/blob/main/Py_trodes/PyTrodes_Pipeline_.ipynb\" target=\"_parent\"><img src=\"https://colab.research.google.com/assets/colab-badge.svg\" alt=\"Open In Colab\"/></a>"
      ]
    },
    {
      "cell_type": "code",
      "execution_count": 1,
      "metadata": {
        "id": "2UdepDxj5Gfd",
        "colab": {
          "base_uri": "https://localhost:8080/"
        },
        "outputId": "5699bc3f-7e21-4b9d-b995-e58473af5260"
      },
      "outputs": [
        {
          "output_type": "execute_result",
          "data": {
            "text/plain": [
              "'\\nNew Python Based Pipeline for Trodes\\n'"
            ]
          },
          "metadata": {},
          "execution_count": 1
        }
      ],
      "source": [
        "\"\"\"\n",
        "New Python Based Pipeline for Trodes\n",
        "\"\"\""
      ]
    },
    {
      "cell_type": "code",
      "source": [
        "\"\"\" Generate RAW_LFP Binaries from *.rec files\"\"\"\n",
        "\"\"\" Import RAW_LFP \"\"\"\n",
        "\"\"\" Import XY_position Data \"\"\"\n",
        "\"\"\" Find Ripples \"\"\"\n",
        "\"\"\" Map Channels \"\"\"\n",
        "\"\"\" Finde APs \"\"\"\n",
        "\"\"\" Find IIS \"\"\"\n"
      ],
      "metadata": {
        "id": "-sdtV0Ix4xW2",
        "colab": {
          "base_uri": "https://localhost:8080/"
        },
        "outputId": "1030f119-d7a1-4ad6-f79c-1ef669152e18"
      },
      "execution_count": 2,
      "outputs": [
        {
          "output_type": "execute_result",
          "data": {
            "text/plain": [
              "' Find IIS '"
            ]
          },
          "metadata": {},
          "execution_count": 2
        }
      ]
    },
    {
      "cell_type": "code",
      "source": [
        "import os\n",
        "import subprocess\n",
        "import numpy as np\n",
        "trodes_dat_reader_loc = 'C:/Users/dennis.tabuena/Desktop/_SPIKE_GADGETS/Trodes_2-5-1_Windows64/Trodes_2-5-1_Windows64/Resources/TrodesToPython'\n",
        "os.chdir(trodes_dat_reader_loc)\n",
        "import readTrodesExtractedDataFile3 as trodes\n",
        "\n",
        "\n",
        "\n",
        "def read_npy_metadata(npy_filename):\n",
        "    with open(npy_filename, 'rb') as f:\n",
        "        version = np.lib.format.read_magic(f)\n",
        "        np.lib.format._check_version(version)\n",
        "        shape, fortran_order, dtype = np.lib.format.read_array_header_1_0(f)\n",
        "        offset = f.tell()\n",
        "    return shape, dtype, offset\n",
        "\n",
        "def load_npy_to_memmap(npy_filename):\n",
        "    shape, dtype, offset = read_npy_metadata(npy_filename)\n",
        "    return np.memmap(npy_filename, dtype=dtype, mode='r', offset=offset, shape=shape)\n",
        "\n",
        "def display_filter(fir_coeff,rate):\n",
        "    # Plot the frequency response of the filter\n",
        "    w, h = sci.signal.freqz(fir_coeff, worN=8000)\n",
        "    fig,ax=plt.subplots(1,2,figsize=(4,2),dpi=300)\n",
        "    ax[0].plot(fir_coeff)\n",
        "    ax[0].set_title('Coefficients')\n",
        "    ax[1].plot(0.5 * rate * w / np.pi, np.abs(h), 'b')\n",
        "    ax[1].set_title('FIR Filter Frequency Response')\n",
        "    ax[1].set_xlabel('Frequency (Hz)')\n",
        "    ax[1].set_ylabel('Gain')\n",
        "    plt.grid()\n",
        "    plt.show()\n",
        "\n"
      ],
      "metadata": {
        "id": "dnx6gd9_xDMF"
      },
      "execution_count": 3,
      "outputs": []
    },
    {
      "cell_type": "code",
      "source": [
        "\"\"\" Generate RAW_LFP Binaries from *.rec files\"\"\"\n",
        "dest_dir = r'\\\\hive.gladstone.internal\\Huang-LFP\\TabuenaLFP\\TRODE_EXPORTS\\RAW_DATA'\n",
        "export_func_location = r'C:\\Users\\dennis.tabuena\\Desktop\\_SPIKE_GADGETS\\Trodes_2-5-1_Windows64\\Trodes_2-5-1_Windows64\\trodesexport.exe'\n",
        "dot_rec_file_loc = r'\\\\hive.gladstone.internal\\Huang-LFP\\TabuenaLFP\\Test_Emily\\AngelfoodCake01\\AngelfoodCake01.rec'\n",
        "full_cmd_raw = ' '.join([export_func_location, '-raw',\n",
        "                    '-rec ', dot_rec_file_loc,\n",
        "                    '-userawrefs', str(0),\n",
        "                    '-outputdirectory', dest_dir])\n",
        "# export_report = subprocess.run(full_cmd_raw)\n",
        "\n"
      ],
      "metadata": {
        "id": "BM8tAWaR5cB3"
      },
      "execution_count": 4,
      "outputs": []
    },
    {
      "cell_type": "code",
      "source": [
        "\n"
      ],
      "metadata": {
        "id": "wD3j5FQcOemR"
      },
      "execution_count": null,
      "outputs": []
    },
    {
      "cell_type": "code",
      "source": [
        "\"\"\" Import RAW_LFP \"\"\"\n",
        "my_analysis_dir = r'\\\\hive.gladstone.internal\\Huang-LFP\\TabuenaLFP\\ReAnalyze'\n",
        "\n",
        "dot_dat_file_loc = r'\\\\hive.gladstone.internal\\Huang-LFP\\TabuenaLFP\\TRODE_EXPORTS\\RAW_DATA\\AngelfoodCake01.raw\\AngelfoodCake01.raw_group0.dat'\n",
        "animal_session = os.path.basename(dot_rec_file_loc).replace('.rec','')\n",
        "dot_dat_data = trodes.readTrodesExtractedDataFile(dot_dat_file_loc)\n",
        "voltage_scaling = float(dot_dat_data['voltage_scaling'])\n",
        "default_sample_rate = dot_dat_data['clockrate']\n",
        "num_samples = dot_dat_data['data']['voltage'].shape[0]\n",
        "num_channels = dot_dat_data['data']['voltage'].shape[1]\n",
        "\n",
        "os.chdir(r'\\\\hive.gladstone.internal\\Huang-LFP\\TabuenaLFP\\ReAnalyze')\n",
        "\n",
        "memmap_filename = os.path.join(my_analysis_dir,'lfp_disk_array.dat')\n",
        "lfp_disk_array = np.memmap(memmap_filename, dtype='float16', mode='w+', shape=(num_samples,num_channels))\n",
        "lfp_disk_array = dot_dat_data['data']['voltage'].astype('float16')\n",
        "lfp_disk_array*=voltage_scaling\n",
        "raw_npy_filename = os.path.join(my_analysis_dir,animal_session+'_raw_lfp.npy')\n",
        "np.save(raw_npy_filename, lfp_disk_array)\n"
      ],
      "metadata": {
        "id": "8U5mjei9G8zV"
      },
      "execution_count": 5,
      "outputs": []
    },
    {
      "cell_type": "code",
      "source": [
        "dot_dat_data['data']=np.nan"
      ],
      "metadata": {
        "id": "QNKlpVdwpnyR"
      },
      "execution_count": 10,
      "outputs": []
    },
    {
      "cell_type": "code",
      "source": [
        "\"\"\"\n",
        "DOWN SAMPLE & SAVE\n",
        "\"\"\"\n",
        "lfp_disk_array = load_npy_to_memmap(raw_npy_filename)\n",
        "default_sample_rate = 30000\n",
        "downsampled_rate = 5000\n",
        "downsample_factor = default_sample_rate/downsampled_rate\n",
        "downsample_indicies = np.arange(0,lfp_disk_array.shape[0],downsample_factor,dtype='int')\n",
        "ds_array=lfp_disk_array[downsample_indicies,:]\n",
        "downsamp_npy_filename = raw_npy_filename.replace('raw', 'downsamp')\n",
        "np.save(downsamp_npy_filename, ds_array)\n",
        "del(ds_array)\n",
        "np.save(animal_session+'_downsampled_rate.npy',downsampled_rate)\n",
        "lfp_disk_array = load_npy_to_memmap(downsamp_npy_filename)"
      ],
      "metadata": {
        "id": "xlx-pPlo1_nE"
      },
      "execution_count": 14,
      "outputs": []
    },
    {
      "cell_type": "code",
      "source": [
        "\"\"\"\n",
        "BAND PASS FOR RIPPLES\n",
        "\"\"\"\n",
        "import scipy as sci\n",
        "import matplotlib.pyplot as plt\n",
        "downsampled_rate = int(np.load(animal_session+'_downsampled_rate.npy'))\n",
        "passband = [150, 250] #(150-250 Hz)\n",
        "num_coefficients = 1200\n",
        "fir_coeff = sci.signal.firwin(num_coefficients, passband, width=10, window='hamming', pass_zero='bandpass', scale=True, fs=downsampled_rate)\n",
        "\n"
      ],
      "metadata": {
        "id": "iRO4tcECiy--"
      },
      "execution_count": 21,
      "outputs": []
    },
    {
      "cell_type": "code",
      "source": [
        "# Apply the FIR filter using filtfilt for zero-phase filtering across all channels\n",
        "filtered_data = signal.filtfilt(fir_coeff, 1.0, mmap_array[t_ind,:], axis=0)\n",
        "# filtered_data = mmap_array[t_ind,:]\n",
        "# filtered_data=(filtered_data.transpose() - filtered_data[:,24]).transpose()\n",
        "spike_bool = filtered_data<-70\n",
        "\n",
        "\n",
        "fig,ax = plt.subplots(figsize=(6,4),dpi=300)\n",
        "\n",
        "filtered_data = filtered_data/np.max(np.abs(filtered_data),axis=0) * .8\n",
        "\n",
        "# Filtered signal\n",
        "for ch in np.arange(filtered_data.shape[1]):\n",
        "    ax.plot(time_sec[:3000],filtered_data[:3000,ch]+ch,linewidth=.3,color = colors[ch])\n",
        "    spike_times = time_sec[:3000][spike_bool[:3000,ch]]\n",
        "    plt.scatter( spike_times,np.ones_like( spike_times)*ch+-.25,s=3,marker='o',color='m'  )\n",
        "    ax.set_title('Spike(MUA) Detection Signal')\n",
        "ax.invert_yaxis()\n",
        "ax.set_ylabel('Channel')\n",
        "ax.set_xlabel('Time (s)')\n"
      ],
      "metadata": {
        "id": "UktfmO2Wjwss"
      },
      "execution_count": null,
      "outputs": []
    },
    {
      "cell_type": "code",
      "source": [
        "SR = 30000\n",
        "x = np.random.randint(0,lfp_disk_array.shape[0])\n",
        "t_wind  = [x,x+10*SR]\n",
        "t_ind = np.arange(t_wind[0],t_wind[1])\n",
        "\n",
        "from matplotlib import pyplot as plt\n",
        "v_samp = lfp_disk_array[t_ind,:]\n",
        "v_samp = v_samp / np.max(np.abs(v_samp),axis=0) *.75\n",
        "ch = np.arange(0,32)+1\n",
        "v_samp = (v_samp.transpose()-v_samp[:,24]).transpose()\n",
        "\n",
        "colors = ['k']*8 + ['r']*8 + ['k']*8 + ['r']*8\n",
        "time_sec = (t_ind-t_ind[0])/SR\n",
        "fig,ax = plt.subplots(figsize=(6,2),dpi=300)\n",
        "for ch in np.arange(v_samp.shape[1]):\n",
        "    _ = ax.plot(time_sec,v_samp[:,ch]+ch,linewidth=.1,color = colors[ch])\n",
        "ax.invert_yaxis()\n",
        "ax.set_title('30khz #No Filters')\n",
        "ax.set_ylabel('Channel')\n",
        "ax.set_xlabel('Time (s)')"
      ],
      "metadata": {
        "id": "apMtvCVBDrFA"
      },
      "execution_count": null,
      "outputs": []
    }
  ]
}