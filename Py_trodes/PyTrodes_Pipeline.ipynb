{
  "nbformat": 4,
  "nbformat_minor": 0,
  "metadata": {
    "colab": {
      "provenance": [],
      "authorship_tag": "ABX9TyO8kfCTwg51h+qNMK+h6zC1",
      "include_colab_link": true
    },
    "kernelspec": {
      "name": "python3",
      "display_name": "Python 3"
    },
    "language_info": {
      "name": "python"
    }
  },
  "cells": [
    {
      "cell_type": "markdown",
      "metadata": {
        "id": "view-in-github",
        "colab_type": "text"
      },
      "source": [
        "<a href=\"https://colab.research.google.com/github/dtabuena/Workshop/blob/main/Py_trodes/PyTrodes_Pipeline.ipynb\" target=\"_parent\"><img src=\"https://colab.research.google.com/assets/colab-badge.svg\" alt=\"Open In Colab\"/></a>"
      ]
    },
    {
      "cell_type": "code",
      "execution_count": null,
      "metadata": {
        "id": "2UdepDxj5Gfd"
      },
      "outputs": [],
      "source": [
        "\"\"\"\n",
        "New Python Based Pipeline for Trodes\n",
        "\"\"\""
      ]
    },
    {
      "cell_type": "code",
      "source": [
        "\"\"\" Generate RAW_LFP Binaries from *.rec files\"\"\"\n",
        "\"\"\" Import RAW_LFP \"\"\"\n",
        "\"\"\" Import XY_position Data \"\"\"\n",
        "\"\"\" Find Ripples \"\"\"\n",
        "\"\"\" Map Channels \"\"\"\n",
        "\"\"\" Finde APs \"\"\"\n",
        "\"\"\" Find IIS \"\"\"\n"
      ],
      "metadata": {
        "id": "-sdtV0Ix4xW2"
      },
      "execution_count": null,
      "outputs": []
    },
    {
      "cell_type": "code",
      "source": [
        "import os\n",
        "import subprocess\n",
        "import numpy as np\n",
        "trodes_dat_reader_loc = r'C:\\Users\\dennis.tabuena\\Desktop\\_SPIKE_GADGETS\\Trodes_2-5-1_Windows64\\Trodes_2-5-1_Windows64\\Resources\\TrodesToPython'\n",
        "os.chdir(trodes_dat_reader_loc)\n",
        "import readTrodesExtractedDataFile3 as trodes\n",
        "\n"
      ],
      "metadata": {
        "id": "dnx6gd9_xDMF"
      },
      "execution_count": 2,
      "outputs": []
    },
    {
      "cell_type": "code",
      "source": [
        "\"\"\" Generate RAW_LFP Binaries from *.rec files\"\"\"\n",
        "dest_dir = r'\\\\hive.gladstone.internal\\Huang-LFP\\TabuenaLFP\\TRODE_EXPORTS\\RAW_DATA'\n",
        "export_func_location = r'C:\\Users\\dennis.tabuena\\Desktop\\_SPIKE_GADGETS\\Trodes_2-5-1_Windows64\\Trodes_2-5-1_Windows64\\trodesexport.exe'\n",
        "dot_rec_file_loc = r'\\\\hive.gladstone.internal\\Huang-LFP\\TabuenaLFP\\Test_Emily\\AngelfoodCake01\\AngelfoodCake01.rec'\n",
        "full_cmd_raw = ' '.join([export_func_location, '-raw',\n",
        "                    '-rec ', dot_rec_file_loc,\n",
        "                    '-userawrefs', str(0),\n",
        "                    '-outputdirectory', dest_dir])\n",
        "export_report = subprocess.run(full_cmd_raw)\n",
        "\n"
      ],
      "metadata": {
        "id": "BM8tAWaR5cB3",
        "colab": {
          "base_uri": "https://localhost:8080/"
        },
        "outputId": "478e63f4-da00-4491-c5d0-4c8541b2a1e9"
      },
      "execution_count": null,
      "outputs": [
        {
          "output_type": "execute_result",
          "data": {
            "text/plain": [
              "' Find IIS '"
            ]
          },
          "metadata": {},
          "execution_count": 2
        }
      ]
    },
    {
      "cell_type": "code",
      "source": [
        "\"\"\" Import RAW_LFP \"\"\"\n",
        "dot_dat_file_loc = r'\\\\hive.gladstone.internal\\Huang-LFP\\TabuenaLFP\\TRODE_EXPORTS\\RAW_DATA\\AngelfoodCake01.raw\\AngelfoodCake01.raw_group0.dat'\n",
        "dot_dat_data = trodes.readTrodesExtractedDataFile(dot_dat_file_loc)\n",
        "# volt_scaler = dot_dat_data['data']['voltage']\n",
        "# raw_lfp = dot_dat_data['data']['voltage']\n",
        "\n"
      ],
      "metadata": {
        "id": "8U5mjei9G8zV"
      },
      "execution_count": 3,
      "outputs": []
    },
    {
      "cell_type": "code",
      "source": [
        "voltage_scaling = dot_dat_data['voltage_scaling']"
      ],
      "metadata": {
        "id": "fpFn5Ol3Q6m8"
      },
      "execution_count": 6,
      "outputs": []
    },
    {
      "cell_type": "code",
      "source": [
        "float(voltage_scaling)"
      ],
      "metadata": {
        "colab": {
          "base_uri": "https://localhost:8080/"
        },
        "id": "XhiDZoqgW-56",
        "outputId": "83420cf2-00b0-47ad-850c-5bc279a2ce9c"
      },
      "execution_count": 8,
      "outputs": [
        {
          "output_type": "execute_result",
          "data": {
            "text/plain": [
              "0.195"
            ]
          },
          "metadata": {},
          "execution_count": 8
        }
      ]
    },
    {
      "cell_type": "code",
      "source": [
        "# dot_dat_data['data'] = dot_dat_data['data']['voltage']\n",
        "dot_dat_data['data'] = dot_dat_data['data'].astype('float16')\n"
      ],
      "metadata": {
        "id": "vZ9EnorSRpwT"
      },
      "execution_count": 11,
      "outputs": []
    },
    {
      "cell_type": "code",
      "source": [
        "dot_dat_data['data']*=float(voltage_scaling)"
      ],
      "metadata": {
        "id": "qVZxKXrdXqc6"
      },
      "execution_count": 13,
      "outputs": []
    },
    {
      "cell_type": "code",
      "source": [
        "dot_dat_data['data']"
      ],
      "metadata": {
        "colab": {
          "base_uri": "https://localhost:8080/"
        },
        "id": "nN-JWlGVYIC1",
        "outputId": "a2e85de4-b49b-4d8f-ab48-ee0f69d7e47a"
      },
      "execution_count": 14,
      "outputs": [
        {
          "output_type": "execute_result",
          "data": {
            "text/plain": [
              "array([[-183.5  , -471.   , -490.5  , ..., -296.5  , -489.   , -476.5  ],\n",
              "       [-172.4  , -473.2  , -510.8  , ..., -289.   , -518.   , -472.2  ],\n",
              "       [-172.   , -482.8  , -524.5  , ..., -280.2  , -522.5  , -489.   ],\n",
              "       ...,\n",
              "       [   9.36 ,   31.97 ,   20.86 , ...,  -57.72 ,    1.755,   -6.043],\n",
              "       [  29.83 ,   35.1  ,    0.78 , ...,  -70.4  ,    2.729,   -8.19 ],\n",
              "       [  44.25 ,   23.   ,  -12.67 , ...,  -58.7  ,   -5.652,   -1.949]],\n",
              "      dtype=float16)"
            ]
          },
          "metadata": {},
          "execution_count": 14
        }
      ]
    },
    {
      "cell_type": "code",
      "source": [
        "num_samples = raw_lfp.shape[0]\n",
        "num_channels = raw_lfp[0][0].shape[0]\n",
        "\n",
        "filename = 'temp_disk_nparray.dat'\n",
        "mmap_array = np.memmap(filename, dtype='float16', mode='w+', shape=(num_samples,num_channels))\n",
        "mmap_array = raw_lfp['voltage'].astype('float16')\n"
      ],
      "metadata": {
        "id": "apMtvCVBDrFA",
        "outputId": "4d7d6f8b-198a-488a-f21e-3a64f218a865",
        "colab": {
          "base_uri": "https://localhost:8080/",
          "height": 176
        }
      },
      "execution_count": 17,
      "outputs": [
        {
          "output_type": "error",
          "ename": "NameError",
          "evalue": "name 'raw_lfp' is not defined",
          "traceback": [
            "\u001b[1;31m---------------------------------------------------------------------------\u001b[0m",
            "\u001b[1;31mNameError\u001b[0m                                 Traceback (most recent call last)",
            "Cell \u001b[1;32mIn[17], line 1\u001b[0m\n\u001b[1;32m----> 1\u001b[0m num_samples \u001b[38;5;241m=\u001b[39m raw_lfp\u001b[38;5;241m.\u001b[39mshape[\u001b[38;5;241m0\u001b[39m]\n\u001b[0;32m      2\u001b[0m num_channels \u001b[38;5;241m=\u001b[39m raw_lfp[\u001b[38;5;241m0\u001b[39m][\u001b[38;5;241m0\u001b[39m]\u001b[38;5;241m.\u001b[39mshape[\u001b[38;5;241m0\u001b[39m]\n\u001b[0;32m      4\u001b[0m filename \u001b[38;5;241m=\u001b[39m \u001b[38;5;124m'\u001b[39m\u001b[38;5;124mlarge_array_X.dat\u001b[39m\u001b[38;5;124m'\u001b[39m\n",
            "\u001b[1;31mNameError\u001b[0m: name 'raw_lfp' is not defined"
          ]
        }
      ]
    },
    {
      "cell_type": "code",
      "source": [],
      "metadata": {
        "colab": {
          "base_uri": "https://localhost:8080/",
          "height": 141
        },
        "id": "VOZh3FE8_qKX",
        "outputId": "6208dbf4-474a-4a47-9a93-3759b4a36c28"
      },
      "execution_count": 16,
      "outputs": [
        {
          "output_type": "error",
          "ename": "NameError",
          "evalue": "name 'mmap_array' is not defined",
          "traceback": [
            "\u001b[1;31m---------------------------------------------------------------------------\u001b[0m",
            "\u001b[1;31mNameError\u001b[0m                                 Traceback (most recent call last)",
            "Cell \u001b[1;32mIn[16], line 1\u001b[0m\n\u001b[1;32m----> 1\u001b[0m mmap_array\u001b[38;5;241m.\u001b[39mshape\n",
            "\u001b[1;31mNameError\u001b[0m: name 'mmap_array' is not defined"
          ]
        }
      ]
    }
  ]
}