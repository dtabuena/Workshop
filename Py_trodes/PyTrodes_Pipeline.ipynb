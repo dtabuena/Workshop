{
  "nbformat": 4,
  "nbformat_minor": 0,
  "metadata": {
    "colab": {
      "provenance": [],
      "authorship_tag": "ABX9TyMwSqPok0r+eZZLL8CaBlHX",
      "include_colab_link": true
    },
    "kernelspec": {
      "name": "python3",
      "display_name": "Python 3"
    },
    "language_info": {
      "name": "python"
    }
  },
  "cells": [
    {
      "cell_type": "markdown",
      "metadata": {
        "id": "view-in-github",
        "colab_type": "text"
      },
      "source": [
        "<a href=\"https://colab.research.google.com/github/dtabuena/Workshop/blob/main/Py_trodes/PyTrodes_Pipeline.ipynb\" target=\"_parent\"><img src=\"https://colab.research.google.com/assets/colab-badge.svg\" alt=\"Open In Colab\"/></a>"
      ]
    },
    {
      "cell_type": "code",
      "execution_count": null,
      "metadata": {
        "id": "2UdepDxj5Gfd"
      },
      "outputs": [],
      "source": [
        "\"\"\"\n",
        "New Python Based Pipeline for Trodes\n",
        "\"\"\""
      ]
    },
    {
      "cell_type": "code",
      "source": [
        "\"\"\" Generate RAW_LFP Binaries from *.rec files\"\"\"\n",
        "\"\"\" Import RAW_LFP \"\"\"\n",
        "\"\"\" Import XY_position Data \"\"\"\n",
        "\"\"\" Find Ripples \"\"\"\n",
        "\"\"\" Map Channels \"\"\"\n",
        "\"\"\" Finde APs \"\"\"\n",
        "\"\"\" Find IIS \"\"\"\n"
      ],
      "metadata": {
        "id": "-sdtV0Ix4xW2"
      },
      "execution_count": null,
      "outputs": []
    },
    {
      "cell_type": "code",
      "source": [
        "import os\n",
        "import subprocess\n",
        "import numpy as np"
      ],
      "metadata": {
        "id": "dnx6gd9_xDMF"
      },
      "execution_count": 8,
      "outputs": []
    },
    {
      "cell_type": "code",
      "source": [
        "\"\"\" Generate RAW_LFP Binaries from *.rec files\"\"\"\n",
        "dest_dir = r'\\\\hive.gladstone.internal\\Huang-LFP\\TabuenaLFP\\TRODE_EXPORTS\\RAW_DATA'\n",
        "export_func_location = r'C:\\Users\\dennis.tabuena\\Desktop\\_SPIKE_GADGETS\\Trodes_2-5-1_Windows64\\Trodes_2-5-1_Windows64\\trodesexport.exe'\n",
        "dot_rec_file_loc = r'\\\\hive.gladstone.internal\\Huang-LFP\\TabuenaLFP\\Test_Emily\\AngelfoodCake01\\AngelfoodCake01.rec'\n",
        "full_cmd_raw = ' '.join([export_func_location, '-raw',\n",
        "                    '-rec ', dot_rec_file_loc,\n",
        "                    '-userawrefs', str(0),\n",
        "                    '-outputdirectory', dest_dir])\n",
        "export_report = subprocess.run(full_cmd_raw)\n",
        "\n"
      ],
      "metadata": {
        "id": "BM8tAWaR5cB3",
        "colab": {
          "base_uri": "https://localhost:8080/"
        },
        "outputId": "478e63f4-da00-4491-c5d0-4c8541b2a1e9"
      },
      "execution_count": null,
      "outputs": [
        {
          "output_type": "execute_result",
          "data": {
            "text/plain": [
              "' Find IIS '"
            ]
          },
          "metadata": {},
          "execution_count": 2
        }
      ]
    },
    {
      "cell_type": "code",
      "source": [
        "\"\"\" Import RAW_LFP \"\"\"\n",
        "current = os.getcwd()\n",
        "trodes_dat_reader_loc = r'C:\\Users\\dennis.tabuena\\Desktop\\_SPIKE_GADGETS\\Trodes_2-5-1_Windows64\\Trodes_2-5-1_Windows64\\Resources\\TrodesToPython'\n",
        "os.chdir(trodes_dat_reader_loc)\n",
        "import readTrodesExtractedDataFile3 as trodes\n",
        "os.chdir(current)\n",
        "\n",
        "dot_dat_file_loc = r'\\\\hive.gladstone.internal\\Huang-LFP\\TabuenaLFP\\TRODE_EXPORTS\\RAW_DATA\\AngelfoodCake01.raw\\AngelfoodCake01.raw_group0.dat'\n",
        "raw_lfp = trodes.readTrodesExtractedDataFile(dot_dat_file_loc)\n",
        "\n",
        "\n"
      ],
      "metadata": {
        "id": "8U5mjei9G8zV"
      },
      "execution_count": 50,
      "outputs": []
    },
    {
      "cell_type": "code",
      "source": [
        "raw_lfp['data'] = [t[0] for t in raw_lfp['data']]\n",
        "raw_lfp['data'] = np.stack(raw_lfp['data'],"
      ],
      "metadata": {
        "id": "VOZh3FE8_qKX"
      },
      "execution_count": 56,
      "outputs": []
    }
  ]
}