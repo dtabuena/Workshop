{
  "nbformat": 4,
  "nbformat_minor": 0,
  "metadata": {
    "colab": {
      "provenance": [],
      "authorship_tag": "ABX9TyO/CuBog70N0YlkXddWoMAt",
      "include_colab_link": true
    },
    "kernelspec": {
      "name": "python3",
      "display_name": "Python 3"
    },
    "language_info": {
      "name": "python"
    }
  },
  "cells": [
    {
      "cell_type": "markdown",
      "metadata": {
        "id": "view-in-github",
        "colab_type": "text"
      },
      "source": [
        "<a href=\"https://colab.research.google.com/github/dtabuena/Workshop/blob/main/Py_trodes/PyTrodes_Pipeline.ipynb\" target=\"_parent\"><img src=\"https://colab.research.google.com/assets/colab-badge.svg\" alt=\"Open In Colab\"/></a>"
      ]
    },
    {
      "cell_type": "code",
      "execution_count": 1,
      "metadata": {
        "id": "2UdepDxj5Gfd",
        "colab": {
          "base_uri": "https://localhost:8080/"
        },
        "outputId": "790c31b1-f92e-45e8-8e5b-ddee00e4eea5"
      },
      "outputs": [
        {
          "output_type": "execute_result",
          "data": {
            "text/plain": [
              "'\\nNew Python Based Pipeline for Trodes\\n'"
            ]
          },
          "metadata": {},
          "execution_count": 1
        }
      ],
      "source": [
        "\"\"\"\n",
        "New Python Based Pipeline for Trodes\n",
        "\"\"\""
      ]
    },
    {
      "cell_type": "code",
      "source": [
        "\"\"\" Generate RAW_LFP Binaries from *.rec files\"\"\"\n",
        "\"\"\" Import RAW_LFP \"\"\"\n",
        "\"\"\" Import XY_position Data \"\"\"\n",
        "\"\"\" Find Ripples \"\"\"\n",
        "\"\"\" Map Channels \"\"\"\n",
        "\"\"\" Finde APs \"\"\"\n",
        "\"\"\" Find IIS \"\"\"\n"
      ],
      "metadata": {
        "id": "-sdtV0Ix4xW2",
        "colab": {
          "base_uri": "https://localhost:8080/"
        },
        "outputId": "77f55f3d-ef3d-4905-afaa-042741fcec51"
      },
      "execution_count": 2,
      "outputs": [
        {
          "output_type": "execute_result",
          "data": {
            "text/plain": [
              "' Find IIS '"
            ]
          },
          "metadata": {},
          "execution_count": 2
        }
      ]
    },
    {
      "cell_type": "code",
      "source": [
        "import os\n",
        "import subprocess\n",
        "import numpy as np\n",
        "trodes_dat_reader_loc = r'C:\\Users\\dennis.tabuena\\Desktop\\_SPIKE_GADGETS\\Trodes_2-5-1_Windows64\\Trodes_2-5-1_Windows64\\Resources\\TrodesToPython'\n",
        "os.chdir(trodes_dat_reader_loc)\n",
        "import readTrodesExtractedDataFile3 as trodes\n",
        "\n"
      ],
      "metadata": {
        "id": "dnx6gd9_xDMF"
      },
      "execution_count": 3,
      "outputs": []
    },
    {
      "cell_type": "code",
      "source": [
        "\"\"\" Generate RAW_LFP Binaries from *.rec files\"\"\"\n",
        "dest_dir = r'\\\\hive.gladstone.internal\\Huang-LFP\\TabuenaLFP\\TRODE_EXPORTS\\RAW_DATA'\n",
        "export_func_location = r'C:\\Users\\dennis.tabuena\\Desktop\\_SPIKE_GADGETS\\Trodes_2-5-1_Windows64\\Trodes_2-5-1_Windows64\\trodesexport.exe'\n",
        "dot_rec_file_loc = r'\\\\hive.gladstone.internal\\Huang-LFP\\TabuenaLFP\\Test_Emily\\AngelfoodCake01\\AngelfoodCake01.rec'\n",
        "full_cmd_raw = ' '.join([export_func_location, '-raw',\n",
        "                    '-rec ', dot_rec_file_loc,\n",
        "                    '-userawrefs', str(0),\n",
        "                    '-outputdirectory', dest_dir])\n",
        "# export_report = subprocess.run(full_cmd_raw)\n",
        "\n"
      ],
      "metadata": {
        "id": "BM8tAWaR5cB3"
      },
      "execution_count": 4,
      "outputs": []
    },
    {
      "cell_type": "code",
      "source": [
        "\"\"\" Import RAW_LFP \"\"\"\n",
        "dot_dat_file_loc = r'\\\\hive.gladstone.internal\\Huang-LFP\\TabuenaLFP\\TRODE_EXPORTS\\RAW_DATA\\AngelfoodCake01.raw\\AngelfoodCake01.raw_group0.dat'\n",
        "dot_dat_data = trodes.readTrodesExtractedDataFile(dot_dat_file_loc)\n",
        "voltage_scaling = float(dot_dat_data['voltage_scaling'])\n",
        "\n",
        "num_samples = dot_dat_data['data']['voltage'].shape[0]\n",
        "num_channels = dot_dat_data['data']['voltage'].shape[1]\n",
        "\n",
        "filename = 'temp_disk_nparray.dat'\n",
        "mmap_array = np.memmap(filename, dtype='float16', mode='w+', shape=(num_samples,num_channels))\n",
        "mmap_array = dot_dat_data['data']['voltage'].astype('float16')\n",
        "mmap_array*=voltage_scaling\n"
      ],
      "metadata": {
        "id": "8U5mjei9G8zV",
        "colab": {
          "base_uri": "https://localhost:8080/",
          "height": 422
        },
        "outputId": "e02b713c-4cf9-403a-973d-e5e3c4a59cb3"
      },
      "execution_count": 11,
      "outputs": [
        {
          "output_type": "stream",
          "name": "stderr",
          "text": [
            "C:\\Users\\dennis.tabuena\\Desktop\\_SPIKE_GADGETS\\Trodes_2-5-1_Windows64\\Trodes_2-5-1_Windows64\\Resources\\TrodesToPython\\readTrodesExtractedDataFile3.py:41: SyntaxWarning: invalid escape sequence '\\s'\n",
            "  sep = re.split('\\s', re.sub(r\"\\>\\<|\\>|\\<\", ' ', fieldstr).strip())\n",
            "C:\\Users\\dennis.tabuena\\Desktop\\_SPIKE_GADGETS\\Trodes_2-5-1_Windows64\\Trodes_2-5-1_Windows64\\Resources\\TrodesToPython\\readTrodesExtractedDataFile3.py:51: SyntaxWarning: invalid escape sequence '\\*'\n",
            "  temptypes = re.split('\\*', sep[i+1])\n"
          ]
        },
        {
          "output_type": "error",
          "ename": "MemoryError",
          "evalue": "Unable to allocate 7.84 GiB for an array with shape (131536403,) and data type [('voltage', '<i2', (32,))]",
          "traceback": [
            "\u001b[1;31m---------------------------------------------------------------------------\u001b[0m",
            "\u001b[1;31mMemoryError\u001b[0m                               Traceback (most recent call last)",
            "Cell \u001b[1;32mIn[11], line 3\u001b[0m\n\u001b[0;32m      1\u001b[0m \u001b[38;5;124;03m\"\"\" Import RAW_LFP \"\"\"\u001b[39;00m\n\u001b[0;32m      2\u001b[0m dot_dat_file_loc \u001b[38;5;241m=\u001b[39m \u001b[38;5;124mr\u001b[39m\u001b[38;5;124m'\u001b[39m\u001b[38;5;130;01m\\\\\u001b[39;00m\u001b[38;5;124mhive.gladstone.internal\u001b[39m\u001b[38;5;124m\\\u001b[39m\u001b[38;5;124mHuang-LFP\u001b[39m\u001b[38;5;124m\\\u001b[39m\u001b[38;5;124mTabuenaLFP\u001b[39m\u001b[38;5;124m\\\u001b[39m\u001b[38;5;124mTRODE_EXPORTS\u001b[39m\u001b[38;5;124m\\\u001b[39m\u001b[38;5;124mRAW_DATA\u001b[39m\u001b[38;5;124m\\\u001b[39m\u001b[38;5;124mAngelfoodCake01.raw\u001b[39m\u001b[38;5;124m\\\u001b[39m\u001b[38;5;124mAngelfoodCake01.raw_group0.dat\u001b[39m\u001b[38;5;124m'\u001b[39m\n\u001b[1;32m----> 3\u001b[0m dot_dat_data \u001b[38;5;241m=\u001b[39m trodes\u001b[38;5;241m.\u001b[39mreadTrodesExtractedDataFile(dot_dat_file_loc)\n\u001b[0;32m      4\u001b[0m voltage_scaling \u001b[38;5;241m=\u001b[39m \u001b[38;5;28mfloat\u001b[39m(dot_dat_data[\u001b[38;5;124m'\u001b[39m\u001b[38;5;124mvoltage_scaling\u001b[39m\u001b[38;5;124m'\u001b[39m])\n\u001b[0;32m      6\u001b[0m num_samples \u001b[38;5;241m=\u001b[39m dot_dat_data[\u001b[38;5;124m'\u001b[39m\u001b[38;5;124mdata\u001b[39m\u001b[38;5;124m'\u001b[39m][\u001b[38;5;124m'\u001b[39m\u001b[38;5;124mvoltage\u001b[39m\u001b[38;5;124m'\u001b[39m]\u001b[38;5;241m.\u001b[39mshape[\u001b[38;5;241m0\u001b[39m]\n",
            "File \u001b[1;32m~\\Desktop\\_SPIKE_GADGETS\\Trodes_2-5-1_Windows64\\Trodes_2-5-1_Windows64\\Resources\\TrodesToPython\\readTrodesExtractedDataFile3.py:31\u001b[0m, in \u001b[0;36mreadTrodesExtractedDataFile\u001b[1;34m(filename)\u001b[0m\n\u001b[0;32m     29\u001b[0m \u001b[38;5;66;03m# Reads rest of file at once, using dtype format generated by parseFields()\u001b[39;00m\n\u001b[0;32m     30\u001b[0m dt \u001b[38;5;241m=\u001b[39m parseFields(fieldsText[\u001b[38;5;124m'\u001b[39m\u001b[38;5;124mfields\u001b[39m\u001b[38;5;124m'\u001b[39m])\n\u001b[1;32m---> 31\u001b[0m data \u001b[38;5;241m=\u001b[39m np\u001b[38;5;241m.\u001b[39mfromfile(f, dt)\n\u001b[0;32m     32\u001b[0m fieldsText\u001b[38;5;241m.\u001b[39mupdate({\u001b[38;5;124m'\u001b[39m\u001b[38;5;124mdata\u001b[39m\u001b[38;5;124m'\u001b[39m: data})\n\u001b[0;32m     33\u001b[0m \u001b[38;5;28;01mreturn\u001b[39;00m fieldsText\n",
            "\u001b[1;31mMemoryError\u001b[0m: Unable to allocate 7.84 GiB for an array with shape (131536403,) and data type [('voltage', '<i2', (32,))]"
          ]
        }
      ]
    },
    {
      "cell_type": "code",
      "source": [
        "mmap_array.shape"
      ],
      "metadata": {
        "id": "xtr1-XJADsBh",
        "outputId": "e983befc-eb0a-496c-8626-39da0b630759",
        "colab": {
          "base_uri": "https://localhost:8080/",
          "height": 141
        }
      },
      "execution_count": 8,
      "outputs": [
        {
          "output_type": "error",
          "ename": "NameError",
          "evalue": "name 'mmap_array' is not defined",
          "traceback": [
            "\u001b[1;31m---------------------------------------------------------------------------\u001b[0m",
            "\u001b[1;31mNameError\u001b[0m                                 Traceback (most recent call last)",
            "Cell \u001b[1;32mIn[8], line 1\u001b[0m\n\u001b[1;32m----> 1\u001b[0m mmap_array\u001b[38;5;241m.\u001b[39mshape\n",
            "\u001b[1;31mNameError\u001b[0m: name 'mmap_array' is not defined"
          ]
        }
      ]
    },
    {
      "cell_type": "code",
      "source": [
        "\n",
        "'''\n",
        "Read Nparray and do math\n",
        "'''"
      ],
      "metadata": {
        "id": "apMtvCVBDrFA"
      },
      "execution_count": null,
      "outputs": []
    }
  ]
}