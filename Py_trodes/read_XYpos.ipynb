{
  "nbformat": 4,
  "nbformat_minor": 0,
  "metadata": {
    "colab": {
      "provenance": [],
      "authorship_tag": "ABX9TyOekI8T047CUNAVR70cv83v",
      "include_colab_link": true
    },
    "kernelspec": {
      "name": "python3",
      "display_name": "Python 3"
    },
    "language_info": {
      "name": "python"
    }
  },
  "cells": [
    {
      "cell_type": "markdown",
      "metadata": {
        "id": "view-in-github",
        "colab_type": "text"
      },
      "source": [
        "<a href=\"https://colab.research.google.com/github/dtabuena/Workshop/blob/main/Py_trodes/read_XYpos.ipynb\" target=\"_parent\"><img src=\"https://colab.research.google.com/assets/colab-badge.svg\" alt=\"Open In Colab\"/></a>"
      ]
    },
    {
      "cell_type": "code",
      "source": [
        "import os\n",
        "import re\n",
        "import struct\n",
        "import numpy as np\n",
        "\n",
        "def extract_position_time(file_dir, filename):\n",
        "    format_dict = {'uint32': 'I', 'uint16': 'H'}\n",
        "\n",
        "    os.chdir(file_dir)\n",
        "\n",
        "    with open(filename, mode='rb') as file:\n",
        "        filecontent = file.read()\n",
        "\n",
        "    header = str(filecontent[:200])\n",
        "    header = header.split('<End settings>')[0]\n",
        "    field_section = header.split('Fields: ')[-1]\n",
        "    fields = re.findall(r'<.*?>', field_section)\n",
        "    units = [f.split(' ')[-1][:-1] for f in fields]\n",
        "    field_names = [f.split(' ')[0][1:] for f in fields]\n",
        "    record_format = ''.join([format_dict[u] for u in units])\n",
        "\n",
        "    header_len = len(header + '<End settings>') - header.count('\\\\n') - 1\n",
        "    record_format = ''.join([format_dict[u] for u in units])\n",
        "    record_size = struct.calcsize(record_format)\n",
        "    records = []\n",
        "\n",
        "    with open(filename, 'rb') as file:\n",
        "        file.seek(header_len)\n",
        "        while chunk := file.read(record_size):\n",
        "            if len(chunk) == record_size:\n",
        "                record = struct.unpack(record_format, chunk)\n",
        "                records.append(record)\n",
        "\n",
        "    records = np.stack(records)\n",
        "    time_data = records[:, 0]\n",
        "    position_data = records[:, 1:]\n",
        "\n",
        "    return time_data, position_data"
      ],
      "metadata": {
        "id": "TRv1iqR16Lqv"
      },
      "execution_count": null,
      "outputs": []
    },
    {
      "cell_type": "code",
      "source": [],
      "metadata": {
        "id": "FgmUbZm6BdE_"
      },
      "execution_count": null,
      "outputs": []
    },
    {
      "cell_type": "code",
      "source": [],
      "metadata": {
        "id": "gPzuv94x5DZo"
      },
      "execution_count": null,
      "outputs": []
    },
    {
      "cell_type": "code",
      "source": [],
      "metadata": {
        "id": "5iJYCJrp5BxD",
        "outputId": "e3c04142-8a86-4e22-ad28-df0fcb76c260",
        "colab": {
          "base_uri": "https://localhost:8080/"
        }
      },
      "execution_count": null,
      "outputs": [
        {
          "output_type": "stream",
          "name": "stdout",
          "text": [
            "IHHHH\n"
          ]
        }
      ]
    },
    {
      "cell_type": "code",
      "execution_count": null,
      "metadata": {
        "id": "YhtseJCJ5AJ0",
        "outputId": "56a7ef93-9ab6-44a4-ae8e-7bce98504b93",
        "colab": {
          "base_uri": "https://localhost:8080/",
          "height": 277
        }
      },
      "outputs": [
        {
          "output_type": "display_data",
          "data": {
            "text/plain": [
              "['<time uint32>',\n",
              " '<xloc uint16>',\n",
              " '<yloc uint16>',\n",
              " '<xloc2 uint16>',\n",
              " '<yloc2 uint16>']"
            ]
          },
          "metadata": {}
        },
        {
          "output_type": "display_data",
          "data": {
            "text/plain": [
              "array([[951221,    269,    385,      0,      0],\n",
              "       [953087,    268,    385,      0,      0],\n",
              "       [953087,    267,    387,      0,      0],\n",
              "       [954952,    267,    388,      0,      0],\n",
              "       [955884,    268,    387,      0,      0],\n",
              "       [957749,    269,    387,      0,      0],\n",
              "       [958682,    269,    388,      0,      0],\n",
              "       [959615,    270,    388,      0,      0],\n",
              "       [960547,    269,    388,      0,      0],\n",
              "       [962412,    269,    389,      0,      0]])"
            ]
          },
          "metadata": {}
        }
      ],
      "source": []
    }
  ]
}