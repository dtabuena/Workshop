{
  "nbformat": 4,
  "nbformat_minor": 0,
  "metadata": {
    "colab": {
      "provenance": [],
      "authorship_tag": "ABX9TyPqZHxucz1wkTpEVj2seeCg",
      "include_colab_link": true
    },
    "kernelspec": {
      "name": "python3",
      "display_name": "Python 3"
    },
    "language_info": {
      "name": "python"
    }
  },
  "cells": [
    {
      "cell_type": "markdown",
      "metadata": {
        "id": "view-in-github",
        "colab_type": "text"
      },
      "source": [
        "<a href=\"https://colab.research.google.com/github/dtabuena/Workshop/blob/main/Py_trodes/read_XYpos.ipynb\" target=\"_parent\"><img src=\"https://colab.research.google.com/assets/colab-badge.svg\" alt=\"Open In Colab\"/></a>"
      ]
    },
    {
      "cell_type": "code",
      "source": [
        "import os\n",
        "import re\n",
        "import struct\n",
        "import numpy as np\n",
        "\n",
        "def extract_position_time(file_loc):\n",
        "    \"\"\"\n",
        "    Extracts time and position data from a binary file.\n",
        "    Note: videoPositionTracking are binaries but are not\n",
        "    labeled as such.\n",
        "\n",
        "    Parameters:\n",
        "    file_dir (str): The directory containing the file.\n",
        "    filename (str): The name of the file to be read.\n",
        "\n",
        "    Returns:\n",
        "    tuple: A tuple containing two numpy arrays:\n",
        "        - time_data: An array of time data.\n",
        "        - position_data: An array of position data.\n",
        "    \"\"\"\n",
        "    format_dict = {'uint32': 'I', 'uint16': 'H'}\n",
        "\n",
        "    with open(file_loc, mode='rb') as file:\n",
        "        filecontent = file.read()\n",
        "\n",
        "    header = str(filecontent[:200])\n",
        "    header = header.split('<End settings>')[0]\n",
        "    field_section = header.split('Fields: ')[-1]\n",
        "    fields = re.findall(r'<.*?>', field_section)\n",
        "    units = [f.split(' ')[-1][:-1] for f in fields]\n",
        "    field_names = [f.split(' ')[0][1:] for f in fields]\n",
        "    record_format = ''.join([format_dict[u] for u in units])\n",
        "\n",
        "    header_len = len(header + '<End settings>') - header.count('\\\\n') - 1\n",
        "    record_format = ''.join([format_dict[u] for u in units])\n",
        "    record_size = struct.calcsize(record_format)\n",
        "    records = []\n",
        "\n",
        "    with open(file_loc, 'rb') as file:\n",
        "        file.seek(header_len)\n",
        "        while chunk := file.read(record_size):\n",
        "            if len(chunk) == record_size:\n",
        "                record = struct.unpack(record_format, chunk)\n",
        "                records.append(record)\n",
        "\n",
        "    records = np.stack(records)\n",
        "    time_data = records[:, 0]\n",
        "    position_data = records[:, 1:]\n",
        "\n",
        "    return time_data, position_data\n",
        "\n",
        "\n",
        "\n",
        "\"\"\"\n",
        "TEST\n",
        "file_loc = r\"\\\\hive.gladstone.internal\\Huang-LFP\\TabuenaLFP\\ZL04_6201\\ZL04_6201.1.videoPositionTracking\"\n",
        "\"\"\""
      ],
      "metadata": {
        "id": "TRv1iqR16Lqv"
      },
      "execution_count": null,
      "outputs": []
    }
  ]
}