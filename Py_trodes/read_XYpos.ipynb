{
  "nbformat": 4,
  "nbformat_minor": 0,
  "metadata": {
    "colab": {
      "provenance": [],
      "authorship_tag": "ABX9TyNNtmXeYCtDtCG5kp7zitDU",
      "include_colab_link": true
    },
    "kernelspec": {
      "name": "python3",
      "display_name": "Python 3"
    },
    "language_info": {
      "name": "python"
    }
  },
  "cells": [
    {
      "cell_type": "markdown",
      "metadata": {
        "id": "view-in-github",
        "colab_type": "text"
      },
      "source": [
        "<a href=\"https://colab.research.google.com/github/dtabuena/Workshop/blob/main/Py_trodes/read_XYpos.ipynb\" target=\"_parent\"><img src=\"https://colab.research.google.com/assets/colab-badge.svg\" alt=\"Open In Colab\"/></a>"
      ]
    },
    {
      "cell_type": "code",
      "source": [
        "import os\n",
        "import re\n",
        "import struct\n",
        "import numpy as np"
      ],
      "metadata": {
        "id": "TRv1iqR16Lqv"
      },
      "execution_count": 19,
      "outputs": []
    },
    {
      "cell_type": "code",
      "source": [
        "os.chdir(r'\\\\hive.gladstone.internal\\Huang-LFP\\TabuenaLFP\\Test_Emily\\AngelfoodCake01')\n",
        "os.listdir()\n",
        "filename = \"AngelfoodCake01.videoPositionTracking\"\n",
        "with open(filename, mode='rb') as file: # b is important -> binary\n",
        "    filecontent = file.read()"
      ],
      "metadata": {
        "id": "gPzuv94x5DZo"
      },
      "execution_count": 12,
      "outputs": []
    },
    {
      "cell_type": "code",
      "source": [
        "format_dict = {'uint32':'I','uint16':'H'}\n",
        "header = str(filecontent[:200])\n",
        "header = header.split('<End settings>')[0]\n",
        "field_section = header.split('Fields: ')[-1]\n",
        "fields = re.findall(r'<.*?>',  field_section)\n",
        "units = [f.split(' ')[-1][:-1] for f in fields]\n",
        "field_names = [f.split(' ')[0][1:] for f in fields]\n",
        "record_format = ''.join([format_dict[u] for u in units])\n",
        "\n",
        "print(record_format)"
      ],
      "metadata": {
        "id": "5iJYCJrp5BxD",
        "outputId": "e3c04142-8a86-4e22-ad28-df0fcb76c260",
        "colab": {
          "base_uri": "https://localhost:8080/"
        }
      },
      "execution_count": 13,
      "outputs": [
        {
          "output_type": "stream",
          "name": "stdout",
          "text": [
            "IHHHH\n"
          ]
        }
      ]
    },
    {
      "cell_type": "code",
      "execution_count": 26,
      "metadata": {
        "id": "YhtseJCJ5AJ0",
        "outputId": "56a7ef93-9ab6-44a4-ae8e-7bce98504b93",
        "colab": {
          "base_uri": "https://localhost:8080/",
          "height": 277
        }
      },
      "outputs": [
        {
          "output_type": "display_data",
          "data": {
            "text/plain": [
              "['<time uint32>',\n",
              " '<xloc uint16>',\n",
              " '<yloc uint16>',\n",
              " '<xloc2 uint16>',\n",
              " '<yloc2 uint16>']"
            ]
          },
          "metadata": {}
        },
        {
          "output_type": "display_data",
          "data": {
            "text/plain": [
              "array([[951221,    269,    385,      0,      0],\n",
              "       [953087,    268,    385,      0,      0],\n",
              "       [953087,    267,    387,      0,      0],\n",
              "       [954952,    267,    388,      0,      0],\n",
              "       [955884,    268,    387,      0,      0],\n",
              "       [957749,    269,    387,      0,      0],\n",
              "       [958682,    269,    388,      0,      0],\n",
              "       [959615,    270,    388,      0,      0],\n",
              "       [960547,    269,    388,      0,      0],\n",
              "       [962412,    269,    389,      0,      0]])"
            ]
          },
          "metadata": {}
        }
      ],
      "source": [
        "header_len = len(header+'<End settings>') - header.count('\\\\n')-1\n",
        "record_format = ''.join([format_dict[u] for u in units])\n",
        "record_size = struct.calcsize(record_format)\n",
        "records = []\n",
        "with open(filename, 'rb') as file:\n",
        "    file.seek(header_len)\n",
        "    while chunk := file.read(record_size):\n",
        "        if len(chunk) == record_size:\n",
        "            record = struct.unpack(record_format, chunk)\n",
        "            records.append(record)\n",
        "\n",
        "# display(records)\n",
        "display(fields)\n",
        "records = np.stack(records)\n",
        "records[:,0]\n",
        "display(records[:10])"
      ]
    }
  ]
}