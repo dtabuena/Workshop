{
  "nbformat": 4,
  "nbformat_minor": 0,
  "metadata": {
    "colab": {
      "provenance": [],
      "authorship_tag": "ABX9TyMg5WczmpnbLWkyFCdfj80l",
      "include_colab_link": true
    },
    "kernelspec": {
      "name": "python3",
      "display_name": "Python 3"
    },
    "language_info": {
      "name": "python"
    }
  },
  "cells": [
    {
      "cell_type": "markdown",
      "metadata": {
        "id": "view-in-github",
        "colab_type": "text"
      },
      "source": [
        "<a href=\"https://colab.research.google.com/github/dtabuena/Workshop/blob/main/Py_trodes/read_XYpos.ipynb\" target=\"_parent\"><img src=\"https://colab.research.google.com/assets/colab-badge.svg\" alt=\"Open In Colab\"/></a>"
      ]
    },
    {
      "cell_type": "code",
      "source": [
        "os.chdir(r'\\\\hive.gladstone.internal\\Huang-LFP\\TabuenaLFP\\Test_Emily\\AngelfoodCake01')\n",
        "os.listdir()\n",
        "filename = \"AngelfoodCake01.videoPositionTracking\"\n",
        "with open(filename, mode='rb') as file: # b is important -> binary\n",
        "    filecontent = file.read()"
      ],
      "metadata": {
        "id": "gPzuv94x5DZo"
      },
      "execution_count": null,
      "outputs": []
    },
    {
      "cell_type": "code",
      "source": [
        "format_dict = {'uint32':'I','uint16':'H'}\n",
        "header = str(filecontent[:200])\n",
        "print(header)\n",
        "header = header.split('<End settings>')[0]\n",
        "print(header_len)\n",
        "field_section = header.split('Fields: ')[-1]\n",
        "fields = re.findall(r'<.*?>',  field_section)\n",
        "units = [f.split(' ')[-1][:-1] for f in fields]\n",
        "field_names = [f.split(' ')[0][1:] for f in fields]\n",
        "record_format = ''.join([format_dict[u] for u in units])\n",
        "\n",
        "print(record_format)"
      ],
      "metadata": {
        "id": "5iJYCJrp5BxD"
      },
      "execution_count": null,
      "outputs": []
    },
    {
      "cell_type": "code",
      "execution_count": null,
      "metadata": {
        "id": "YhtseJCJ5AJ0"
      },
      "outputs": [],
      "source": [
        "header_len = len(header+'<End settings>') - header.count('\\\\n')-1\n",
        "record_format = ''.join([format_dict[u] for u in units])\n",
        "record_size = struct.calcsize(record_format)\n",
        "records = []\n",
        "with open(filename, 'rb') as file:\n",
        "    file.seek(header_len)\n",
        "    while chunk := file.read(record_size):\n",
        "        if len(chunk) == record_size:\n",
        "            record = struct.unpack(record_format, chunk)\n",
        "            records.append(record)\n",
        "# display(records)\n",
        "display(fields)\n",
        "display(records[:10])\n",
        "display(records[-10:])"
      ]
    }
  ]
}