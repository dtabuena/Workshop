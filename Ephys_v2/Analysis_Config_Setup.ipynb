{
  "nbformat": 4,
  "nbformat_minor": 0,
  "metadata": {
    "colab": {
      "provenance": [],
      "authorship_tag": "ABX9TyMaJ2ih9r0g1OndIMOpYx6L",
      "include_colab_link": true
    },
    "kernelspec": {
      "name": "python3",
      "display_name": "Python 3"
    },
    "language_info": {
      "name": "python"
    }
  },
  "cells": [
    {
      "cell_type": "markdown",
      "metadata": {
        "id": "view-in-github",
        "colab_type": "text"
      },
      "source": [
        "<a href=\"https://colab.research.google.com/github/dtabuena/Workshop/blob/main/Ephys_v2/Analysis_Config_Setup.ipynb\" target=\"_parent\"><img src=\"https://colab.research.google.com/assets/colab-badge.svg\" alt=\"Open In Colab\"/></a>"
      ]
    },
    {
      "cell_type": "code",
      "source": [
        "analysis_args = {\n",
        "    'spike_args':{'spike_thresh':20, 'high_dv_thresh': 50,'low_dv_thresh': -30,'window_ms': 2},\n",
        "    'to_plot':True,\n",
        "    'max_fit_steps':5,\n",
        "    'rel_slope_cut':0.7,\n",
        "    'Vh_hilo':[-60, -80],\n",
        "    'select_mebrane_features': ['Ra', 'Rm', 'Cm', 'tau', 'Cmq',\t'Cmf',\t'Cmqf', 'Cm_pc'],\n",
        "    'measure_windows':{'IV_Early':(16.5, 30),'IV_Steady_State':(100,120)}\n",
        "    }"
      ],
      "metadata": {
        "id": "qbytjyB-LCwD"
      },
      "execution_count": null,
      "outputs": []
    },
    {
      "cell_type": "code",
      "source": [
        "'''Store Config as JSON'''\n",
        "import json\n",
        "with open('./analysis_args.json', 'w') as my_json:\n",
        "    json.dump(analysis_args,my_json,indent = 4)\n",
        "\n"
      ],
      "metadata": {
        "id": "ck83nLghHqJ9"
      },
      "execution_count": 17,
      "outputs": []
    },
    {
      "cell_type": "code",
      "source": [
        "''''GET CONFIG as JSON '''\n",
        "import json\n",
        "import urllib\n",
        "urllib.request.urlretrieve( 'https://github.com/dtabuena/Workshop/raw/1b79dca6d197f411442a908ea00ac5a7267e8247/Ephys_v2/analysis_args.json', \"./analysis_args.json\")\n",
        "with open('./analysis_args.json', 'r') as my_json:\n",
        "    analysis_args = json.load(my_json)"
      ],
      "metadata": {
        "id": "AUh1q6ErLG2i"
      },
      "execution_count": null,
      "outputs": []
    }
  ]
}